{
 "metadata": {
  "language_info": {
   "codemirror_mode": {
    "name": "ipython",
    "version": 3
   },
   "file_extension": ".py",
   "mimetype": "text/x-python",
   "name": "python",
   "nbconvert_exporter": "python",
   "pygments_lexer": "ipython3",
   "version": "3.7.6-final"
  },
  "orig_nbformat": 2,
  "kernelspec": {
   "name": "python3",
   "display_name": "Python 3.7.6 64-bit ('base': conda)",
   "metadata": {
    "interpreter": {
     "hash": "e134e05457d34029b6460cd73bbf1ed73f339b5b6d98c95be70b69eba114fe95"
    }
   }
  }
 },
 "nbformat": 4,
 "nbformat_minor": 2,
 "cells": [
  {
   "cell_type": "code",
   "execution_count": 1,
   "metadata": {},
   "outputs": [],
   "source": [
    "import pandas as pd\n",
    "import numpy as np"
   ]
  },
  {
   "source": [],
   "cell_type": "markdown",
   "metadata": {}
  },
  {
   "cell_type": "code",
   "execution_count": 2,
   "metadata": {},
   "outputs": [],
   "source": [
    "game = pd.read_csv('games_sales.csv')"
   ]
  },
  {
   "cell_type": "code",
   "execution_count": 3,
   "metadata": {},
   "outputs": [
    {
     "output_type": "execute_result",
     "data": {
      "text/plain": [
       "                             Name Platform    Year    Genre  \\\n",
       "0              Kinect Adventures!     X360  2010.0     Misc   \n",
       "1              Grand Theft Auto V      PS3  2013.0   Action   \n",
       "2              Grand Theft Auto V     X360  2013.0   Action   \n",
       "3  Call of Duty: Modern Warfare 3     X360  2011.0  Shooter   \n",
       "4         Call of Duty: Black Ops     X360  2010.0  Shooter   \n",
       "\n",
       "                Publisher  NA_Sales  EU_Sales  JP_Sales  Other_Sales  \\\n",
       "0  Microsoft Game Studios     14.97      4.94      0.24         1.67   \n",
       "1    Take-Two Interactive      7.01      9.27      0.97         4.14   \n",
       "2    Take-Two Interactive      9.63      5.31      0.06         1.38   \n",
       "3              Activision      9.03      4.28      0.13         1.32   \n",
       "4              Activision      9.67      3.73      0.11         1.13   \n",
       "\n",
       "   Global_Sales  \n",
       "0         21.82  \n",
       "1         21.40  \n",
       "2         16.38  \n",
       "3         14.76  \n",
       "4         14.64  "
      ],
      "text/html": "<div>\n<style scoped>\n    .dataframe tbody tr th:only-of-type {\n        vertical-align: middle;\n    }\n\n    .dataframe tbody tr th {\n        vertical-align: top;\n    }\n\n    .dataframe thead th {\n        text-align: right;\n    }\n</style>\n<table border=\"1\" class=\"dataframe\">\n  <thead>\n    <tr style=\"text-align: right;\">\n      <th></th>\n      <th>Name</th>\n      <th>Platform</th>\n      <th>Year</th>\n      <th>Genre</th>\n      <th>Publisher</th>\n      <th>NA_Sales</th>\n      <th>EU_Sales</th>\n      <th>JP_Sales</th>\n      <th>Other_Sales</th>\n      <th>Global_Sales</th>\n    </tr>\n  </thead>\n  <tbody>\n    <tr>\n      <th>0</th>\n      <td>Kinect Adventures!</td>\n      <td>X360</td>\n      <td>2010.0</td>\n      <td>Misc</td>\n      <td>Microsoft Game Studios</td>\n      <td>14.97</td>\n      <td>4.94</td>\n      <td>0.24</td>\n      <td>1.67</td>\n      <td>21.82</td>\n    </tr>\n    <tr>\n      <th>1</th>\n      <td>Grand Theft Auto V</td>\n      <td>PS3</td>\n      <td>2013.0</td>\n      <td>Action</td>\n      <td>Take-Two Interactive</td>\n      <td>7.01</td>\n      <td>9.27</td>\n      <td>0.97</td>\n      <td>4.14</td>\n      <td>21.40</td>\n    </tr>\n    <tr>\n      <th>2</th>\n      <td>Grand Theft Auto V</td>\n      <td>X360</td>\n      <td>2013.0</td>\n      <td>Action</td>\n      <td>Take-Two Interactive</td>\n      <td>9.63</td>\n      <td>5.31</td>\n      <td>0.06</td>\n      <td>1.38</td>\n      <td>16.38</td>\n    </tr>\n    <tr>\n      <th>3</th>\n      <td>Call of Duty: Modern Warfare 3</td>\n      <td>X360</td>\n      <td>2011.0</td>\n      <td>Shooter</td>\n      <td>Activision</td>\n      <td>9.03</td>\n      <td>4.28</td>\n      <td>0.13</td>\n      <td>1.32</td>\n      <td>14.76</td>\n    </tr>\n    <tr>\n      <th>4</th>\n      <td>Call of Duty: Black Ops</td>\n      <td>X360</td>\n      <td>2010.0</td>\n      <td>Shooter</td>\n      <td>Activision</td>\n      <td>9.67</td>\n      <td>3.73</td>\n      <td>0.11</td>\n      <td>1.13</td>\n      <td>14.64</td>\n    </tr>\n  </tbody>\n</table>\n</div>"
     },
     "metadata": {},
     "execution_count": 3
    }
   ],
   "source": [
    "game.head()"
   ]
  },
  {
   "cell_type": "code",
   "execution_count": 4,
   "metadata": {},
   "outputs": [
    {
     "output_type": "execute_result",
     "data": {
      "text/plain": [
       "NA_Sales       1173.30\n",
       "EU_Sales        793.64\n",
       "JP_Sales        107.06\n",
       "Other_Sales     282.75\n",
       "dtype: float64"
      ]
     },
     "metadata": {},
     "execution_count": 4
    }
   ],
   "source": [
    "game.loc[:, ['NA_Sales', 'EU_Sales', 'JP_Sales', 'Other_Sales']].sum()"
   ]
  },
  {
   "cell_type": "code",
   "execution_count": 5,
   "metadata": {},
   "outputs": [
    {
     "output_type": "execute_result",
     "data": {
      "text/plain": [
       "NA_Sales       0.373306\n",
       "EU_Sales       0.252510\n",
       "JP_Sales       0.034063\n",
       "Other_Sales    0.089962\n",
       "dtype: float64"
      ]
     },
     "metadata": {},
     "execution_count": 5
    }
   ],
   "source": [
    "game.loc[:, ['NA_Sales', 'EU_Sales', 'JP_Sales', 'Other_Sales']].mean()"
   ]
  },
  {
   "cell_type": "code",
   "execution_count": 6,
   "metadata": {},
   "outputs": [
    {
     "output_type": "execute_result",
     "data": {
      "text/plain": [
       "0       14.97\n",
       "1        9.27\n",
       "2        9.63\n",
       "3        9.03\n",
       "4        9.67\n",
       "        ...  \n",
       "3138     0.01\n",
       "3139     0.01\n",
       "3140     0.01\n",
       "3141     0.01\n",
       "3142     0.01\n",
       "Length: 3143, dtype: float64"
      ]
     },
     "metadata": {},
     "execution_count": 6
    }
   ],
   "source": [
    "game.loc[:, ['NA_Sales', 'EU_Sales', 'JP_Sales', 'Other_Sales']].max(axis = 1)"
   ]
  },
  {
   "cell_type": "code",
   "execution_count": 7,
   "metadata": {},
   "outputs": [],
   "source": [
    "sales = game.loc[:, ['Platform', 'NA_Sales', 'EU_Sales', 'JP_Sales', 'Other_Sales']]"
   ]
  },
  {
   "cell_type": "code",
   "execution_count": 8,
   "metadata": {},
   "outputs": [
    {
     "output_type": "execute_result",
     "data": {
      "text/plain": [
       "          NA_Sales  EU_Sales  JP_Sales  Other_Sales\n",
       "Platform                                           \n",
       "PS3           7.01      9.27      1.87         4.14\n",
       "PS4           5.77      6.06      0.48         2.31\n",
       "X360         14.97      5.31      0.24         1.67\n",
       "XOne          4.52      2.11      0.04         0.67"
      ],
      "text/html": "<div>\n<style scoped>\n    .dataframe tbody tr th:only-of-type {\n        vertical-align: middle;\n    }\n\n    .dataframe tbody tr th {\n        vertical-align: top;\n    }\n\n    .dataframe thead th {\n        text-align: right;\n    }\n</style>\n<table border=\"1\" class=\"dataframe\">\n  <thead>\n    <tr style=\"text-align: right;\">\n      <th></th>\n      <th>NA_Sales</th>\n      <th>EU_Sales</th>\n      <th>JP_Sales</th>\n      <th>Other_Sales</th>\n    </tr>\n    <tr>\n      <th>Platform</th>\n      <th></th>\n      <th></th>\n      <th></th>\n      <th></th>\n    </tr>\n  </thead>\n  <tbody>\n    <tr>\n      <th>PS3</th>\n      <td>7.01</td>\n      <td>9.27</td>\n      <td>1.87</td>\n      <td>4.14</td>\n    </tr>\n    <tr>\n      <th>PS4</th>\n      <td>5.77</td>\n      <td>6.06</td>\n      <td>0.48</td>\n      <td>2.31</td>\n    </tr>\n    <tr>\n      <th>X360</th>\n      <td>14.97</td>\n      <td>5.31</td>\n      <td>0.24</td>\n      <td>1.67</td>\n    </tr>\n    <tr>\n      <th>XOne</th>\n      <td>4.52</td>\n      <td>2.11</td>\n      <td>0.04</td>\n      <td>0.67</td>\n    </tr>\n  </tbody>\n</table>\n</div>"
     },
     "metadata": {},
     "execution_count": 8
    }
   ],
   "source": [
    "sales.groupby('Platform').max()"
   ]
  },
  {
   "cell_type": "code",
   "execution_count": 9,
   "metadata": {},
   "outputs": [],
   "source": [
    "platform_name = {\n",
    "    'PS3': 'PlayStation',\n",
    "    'PS4': 'PlayStation',\n",
    "    'X360': 'XBox',\n",
    "    'XOne': 'XBox'\n",
    "}"
   ]
  },
  {
   "cell_type": "code",
   "execution_count": 10,
   "metadata": {},
   "outputs": [
    {
     "output_type": "execute_result",
     "data": {
      "text/plain": [
       "             NA_Sales  EU_Sales  JP_Sales  Other_Sales\n",
       "PlayStation    489.06    467.41     94.29       185.29\n",
       "XBox           684.24    326.23     12.77        97.46"
      ],
      "text/html": "<div>\n<style scoped>\n    .dataframe tbody tr th:only-of-type {\n        vertical-align: middle;\n    }\n\n    .dataframe tbody tr th {\n        vertical-align: top;\n    }\n\n    .dataframe thead th {\n        text-align: right;\n    }\n</style>\n<table border=\"1\" class=\"dataframe\">\n  <thead>\n    <tr style=\"text-align: right;\">\n      <th></th>\n      <th>NA_Sales</th>\n      <th>EU_Sales</th>\n      <th>JP_Sales</th>\n      <th>Other_Sales</th>\n    </tr>\n  </thead>\n  <tbody>\n    <tr>\n      <th>PlayStation</th>\n      <td>489.06</td>\n      <td>467.41</td>\n      <td>94.29</td>\n      <td>185.29</td>\n    </tr>\n    <tr>\n      <th>XBox</th>\n      <td>684.24</td>\n      <td>326.23</td>\n      <td>12.77</td>\n      <td>97.46</td>\n    </tr>\n  </tbody>\n</table>\n</div>"
     },
     "metadata": {},
     "execution_count": 10
    }
   ],
   "source": [
    "sales.set_index('Platform').groupby(platform_name).sum()"
   ]
  },
  {
   "cell_type": "code",
   "execution_count": 11,
   "metadata": {},
   "outputs": [
    {
     "output_type": "execute_result",
     "data": {
      "text/plain": [
       "                   Publisher         Genre Platform  NA_Sales\n",
       "0     Microsoft Game Studios          Misc     X360     14.97\n",
       "1       Take-Two Interactive        Action      PS3      7.01\n",
       "2       Take-Two Interactive        Action     X360      9.63\n",
       "3                 Activision       Shooter     X360      9.03\n",
       "4                 Activision       Shooter     X360      9.67\n",
       "...                      ...           ...      ...       ...\n",
       "3138                     NaN  Role-Playing     X360      0.00\n",
       "3139             Deep Silver      Platform     XOne      0.01\n",
       "3140                  Capcom       Shooter     XOne      0.01\n",
       "3141       UIG Entertainment    Simulation      PS4      0.00\n",
       "3142    Alternative Software        Sports     XOne      0.00\n",
       "\n",
       "[3143 rows x 4 columns]"
      ],
      "text/html": "<div>\n<style scoped>\n    .dataframe tbody tr th:only-of-type {\n        vertical-align: middle;\n    }\n\n    .dataframe tbody tr th {\n        vertical-align: top;\n    }\n\n    .dataframe thead th {\n        text-align: right;\n    }\n</style>\n<table border=\"1\" class=\"dataframe\">\n  <thead>\n    <tr style=\"text-align: right;\">\n      <th></th>\n      <th>Publisher</th>\n      <th>Genre</th>\n      <th>Platform</th>\n      <th>NA_Sales</th>\n    </tr>\n  </thead>\n  <tbody>\n    <tr>\n      <th>0</th>\n      <td>Microsoft Game Studios</td>\n      <td>Misc</td>\n      <td>X360</td>\n      <td>14.97</td>\n    </tr>\n    <tr>\n      <th>1</th>\n      <td>Take-Two Interactive</td>\n      <td>Action</td>\n      <td>PS3</td>\n      <td>7.01</td>\n    </tr>\n    <tr>\n      <th>2</th>\n      <td>Take-Two Interactive</td>\n      <td>Action</td>\n      <td>X360</td>\n      <td>9.63</td>\n    </tr>\n    <tr>\n      <th>3</th>\n      <td>Activision</td>\n      <td>Shooter</td>\n      <td>X360</td>\n      <td>9.03</td>\n    </tr>\n    <tr>\n      <th>4</th>\n      <td>Activision</td>\n      <td>Shooter</td>\n      <td>X360</td>\n      <td>9.67</td>\n    </tr>\n    <tr>\n      <th>...</th>\n      <td>...</td>\n      <td>...</td>\n      <td>...</td>\n      <td>...</td>\n    </tr>\n    <tr>\n      <th>3138</th>\n      <td>NaN</td>\n      <td>Role-Playing</td>\n      <td>X360</td>\n      <td>0.00</td>\n    </tr>\n    <tr>\n      <th>3139</th>\n      <td>Deep Silver</td>\n      <td>Platform</td>\n      <td>XOne</td>\n      <td>0.01</td>\n    </tr>\n    <tr>\n      <th>3140</th>\n      <td>Capcom</td>\n      <td>Shooter</td>\n      <td>XOne</td>\n      <td>0.01</td>\n    </tr>\n    <tr>\n      <th>3141</th>\n      <td>UIG Entertainment</td>\n      <td>Simulation</td>\n      <td>PS4</td>\n      <td>0.00</td>\n    </tr>\n    <tr>\n      <th>3142</th>\n      <td>Alternative Software</td>\n      <td>Sports</td>\n      <td>XOne</td>\n      <td>0.00</td>\n    </tr>\n  </tbody>\n</table>\n<p>3143 rows × 4 columns</p>\n</div>"
     },
     "metadata": {},
     "execution_count": 11
    }
   ],
   "source": [
    "publishers = game.loc[:, ['Publisher', 'Genre', 'Platform', 'NA_Sales']]\n",
    "publishers"
   ]
  },
  {
   "cell_type": "code",
   "execution_count": 12,
   "metadata": {},
   "outputs": [
    {
     "output_type": "execute_result",
     "data": {
      "text/plain": [
       "                                        NA_Sales\n",
       "Publisher                                       \n",
       "Electronic Arts                           213.38\n",
       "Activision                                193.16\n",
       "Take-Two Interactive                      120.99\n",
       "Microsoft Game Studios                    116.77\n",
       "Ubisoft                                    98.65\n",
       "Sony Computer Entertainment                76.35\n",
       "Warner Bros. Interactive Entertainment     45.24\n",
       "THQ                                        36.44\n",
       "Bethesda Softworks                         33.88\n",
       "Capcom                                     24.74"
      ],
      "text/html": "<div>\n<style scoped>\n    .dataframe tbody tr th:only-of-type {\n        vertical-align: middle;\n    }\n\n    .dataframe tbody tr th {\n        vertical-align: top;\n    }\n\n    .dataframe thead th {\n        text-align: right;\n    }\n</style>\n<table border=\"1\" class=\"dataframe\">\n  <thead>\n    <tr style=\"text-align: right;\">\n      <th></th>\n      <th>NA_Sales</th>\n    </tr>\n    <tr>\n      <th>Publisher</th>\n      <th></th>\n    </tr>\n  </thead>\n  <tbody>\n    <tr>\n      <th>Electronic Arts</th>\n      <td>213.38</td>\n    </tr>\n    <tr>\n      <th>Activision</th>\n      <td>193.16</td>\n    </tr>\n    <tr>\n      <th>Take-Two Interactive</th>\n      <td>120.99</td>\n    </tr>\n    <tr>\n      <th>Microsoft Game Studios</th>\n      <td>116.77</td>\n    </tr>\n    <tr>\n      <th>Ubisoft</th>\n      <td>98.65</td>\n    </tr>\n    <tr>\n      <th>Sony Computer Entertainment</th>\n      <td>76.35</td>\n    </tr>\n    <tr>\n      <th>Warner Bros. Interactive Entertainment</th>\n      <td>45.24</td>\n    </tr>\n    <tr>\n      <th>THQ</th>\n      <td>36.44</td>\n    </tr>\n    <tr>\n      <th>Bethesda Softworks</th>\n      <td>33.88</td>\n    </tr>\n    <tr>\n      <th>Capcom</th>\n      <td>24.74</td>\n    </tr>\n  </tbody>\n</table>\n</div>"
     },
     "metadata": {},
     "execution_count": 12
    }
   ],
   "source": [
    "publishers.groupby('Publisher').sum().sort_values(by = 'NA_Sales', ascending=False).head(10)"
   ]
  },
  {
   "cell_type": "code",
   "execution_count": 13,
   "metadata": {},
   "outputs": [
    {
     "output_type": "execute_result",
     "data": {
      "text/plain": [
       "          NA_Sales\n",
       "Platform          \n",
       "X360        601.05\n",
       "PS3         392.26\n",
       "PS4          96.80\n",
       "XOne         83.19"
      ],
      "text/html": "<div>\n<style scoped>\n    .dataframe tbody tr th:only-of-type {\n        vertical-align: middle;\n    }\n\n    .dataframe tbody tr th {\n        vertical-align: top;\n    }\n\n    .dataframe thead th {\n        text-align: right;\n    }\n</style>\n<table border=\"1\" class=\"dataframe\">\n  <thead>\n    <tr style=\"text-align: right;\">\n      <th></th>\n      <th>NA_Sales</th>\n    </tr>\n    <tr>\n      <th>Platform</th>\n      <th></th>\n    </tr>\n  </thead>\n  <tbody>\n    <tr>\n      <th>X360</th>\n      <td>601.05</td>\n    </tr>\n    <tr>\n      <th>PS3</th>\n      <td>392.26</td>\n    </tr>\n    <tr>\n      <th>PS4</th>\n      <td>96.80</td>\n    </tr>\n    <tr>\n      <th>XOne</th>\n      <td>83.19</td>\n    </tr>\n  </tbody>\n</table>\n</div>"
     },
     "metadata": {},
     "execution_count": 13
    }
   ],
   "source": [
    "publishers.groupby('Platform').sum().sort_values(by='NA_Sales', ascending=False)"
   ]
  },
  {
   "cell_type": "code",
   "execution_count": 14,
   "metadata": {},
   "outputs": [
    {
     "output_type": "execute_result",
     "data": {
      "text/plain": [
       "  Platform  NA_Sales  EU_Sales  JP_Sales  Other_Sales\n",
       "0     X360     14.97      4.94      0.24         1.67\n",
       "1      PS3      7.01      9.27      0.97         4.14\n",
       "2     X360      9.63      5.31      0.06         1.38\n",
       "3     X360      9.03      4.28      0.13         1.32\n",
       "4     X360      9.67      3.73      0.11         1.13"
      ],
      "text/html": "<div>\n<style scoped>\n    .dataframe tbody tr th:only-of-type {\n        vertical-align: middle;\n    }\n\n    .dataframe tbody tr th {\n        vertical-align: top;\n    }\n\n    .dataframe thead th {\n        text-align: right;\n    }\n</style>\n<table border=\"1\" class=\"dataframe\">\n  <thead>\n    <tr style=\"text-align: right;\">\n      <th></th>\n      <th>Platform</th>\n      <th>NA_Sales</th>\n      <th>EU_Sales</th>\n      <th>JP_Sales</th>\n      <th>Other_Sales</th>\n    </tr>\n  </thead>\n  <tbody>\n    <tr>\n      <th>0</th>\n      <td>X360</td>\n      <td>14.97</td>\n      <td>4.94</td>\n      <td>0.24</td>\n      <td>1.67</td>\n    </tr>\n    <tr>\n      <th>1</th>\n      <td>PS3</td>\n      <td>7.01</td>\n      <td>9.27</td>\n      <td>0.97</td>\n      <td>4.14</td>\n    </tr>\n    <tr>\n      <th>2</th>\n      <td>X360</td>\n      <td>9.63</td>\n      <td>5.31</td>\n      <td>0.06</td>\n      <td>1.38</td>\n    </tr>\n    <tr>\n      <th>3</th>\n      <td>X360</td>\n      <td>9.03</td>\n      <td>4.28</td>\n      <td>0.13</td>\n      <td>1.32</td>\n    </tr>\n    <tr>\n      <th>4</th>\n      <td>X360</td>\n      <td>9.67</td>\n      <td>3.73</td>\n      <td>0.11</td>\n      <td>1.13</td>\n    </tr>\n  </tbody>\n</table>\n</div>"
     },
     "metadata": {},
     "execution_count": 14
    }
   ],
   "source": [
    "sales.head()"
   ]
  },
  {
   "cell_type": "code",
   "execution_count": 15,
   "metadata": {},
   "outputs": [
    {
     "output_type": "execute_result",
     "data": {
      "text/plain": [
       "     Platform  NA_Sales  EU_Sales  JP_Sales  Other_Sales\n",
       "1         PS3      7.01      9.27      0.97         4.14\n",
       "6         PS3      4.99      5.88      0.65         2.52\n",
       "9         PS3      5.54      5.82      0.49         1.62\n",
       "10        PS3      5.98      4.44      0.48         1.83\n",
       "14        PS3      2.96      4.88      0.81         2.12\n",
       "...       ...       ...       ...       ...          ...\n",
       "3124      PS3      0.00      0.01      0.00         0.00\n",
       "3125      PS3      0.00      0.00      0.01         0.00\n",
       "3129      PS3      0.00      0.00      0.01         0.00\n",
       "3132      PS3      0.00      0.00      0.01         0.00\n",
       "3136      PS3      0.00      0.00      0.01         0.00\n",
       "\n",
       "[1329 rows x 5 columns]"
      ],
      "text/html": "<div>\n<style scoped>\n    .dataframe tbody tr th:only-of-type {\n        vertical-align: middle;\n    }\n\n    .dataframe tbody tr th {\n        vertical-align: top;\n    }\n\n    .dataframe thead th {\n        text-align: right;\n    }\n</style>\n<table border=\"1\" class=\"dataframe\">\n  <thead>\n    <tr style=\"text-align: right;\">\n      <th></th>\n      <th>Platform</th>\n      <th>NA_Sales</th>\n      <th>EU_Sales</th>\n      <th>JP_Sales</th>\n      <th>Other_Sales</th>\n    </tr>\n  </thead>\n  <tbody>\n    <tr>\n      <th>1</th>\n      <td>PS3</td>\n      <td>7.01</td>\n      <td>9.27</td>\n      <td>0.97</td>\n      <td>4.14</td>\n    </tr>\n    <tr>\n      <th>6</th>\n      <td>PS3</td>\n      <td>4.99</td>\n      <td>5.88</td>\n      <td>0.65</td>\n      <td>2.52</td>\n    </tr>\n    <tr>\n      <th>9</th>\n      <td>PS3</td>\n      <td>5.54</td>\n      <td>5.82</td>\n      <td>0.49</td>\n      <td>1.62</td>\n    </tr>\n    <tr>\n      <th>10</th>\n      <td>PS3</td>\n      <td>5.98</td>\n      <td>4.44</td>\n      <td>0.48</td>\n      <td>1.83</td>\n    </tr>\n    <tr>\n      <th>14</th>\n      <td>PS3</td>\n      <td>2.96</td>\n      <td>4.88</td>\n      <td>0.81</td>\n      <td>2.12</td>\n    </tr>\n    <tr>\n      <th>...</th>\n      <td>...</td>\n      <td>...</td>\n      <td>...</td>\n      <td>...</td>\n      <td>...</td>\n    </tr>\n    <tr>\n      <th>3124</th>\n      <td>PS3</td>\n      <td>0.00</td>\n      <td>0.01</td>\n      <td>0.00</td>\n      <td>0.00</td>\n    </tr>\n    <tr>\n      <th>3125</th>\n      <td>PS3</td>\n      <td>0.00</td>\n      <td>0.00</td>\n      <td>0.01</td>\n      <td>0.00</td>\n    </tr>\n    <tr>\n      <th>3129</th>\n      <td>PS3</td>\n      <td>0.00</td>\n      <td>0.00</td>\n      <td>0.01</td>\n      <td>0.00</td>\n    </tr>\n    <tr>\n      <th>3132</th>\n      <td>PS3</td>\n      <td>0.00</td>\n      <td>0.00</td>\n      <td>0.01</td>\n      <td>0.00</td>\n    </tr>\n    <tr>\n      <th>3136</th>\n      <td>PS3</td>\n      <td>0.00</td>\n      <td>0.00</td>\n      <td>0.01</td>\n      <td>0.00</td>\n    </tr>\n  </tbody>\n</table>\n<p>1329 rows × 5 columns</p>\n</div>"
     },
     "metadata": {},
     "execution_count": 15
    }
   ],
   "source": [
    "sales.groupby('Platform').get_group('PS3')"
   ]
  },
  {
   "cell_type": "code",
   "execution_count": 16,
   "metadata": {},
   "outputs": [
    {
     "output_type": "execute_result",
     "data": {
      "text/plain": [
       "                                 Year  NA_Sales  EU_Sales  JP_Sales  \\\n",
       "Publisher         Genre                                               \n",
       "49Games           Sports       2009.0      0.00      0.04      0.00   \n",
       "505 Games         Action      16098.0      0.84      1.05      0.10   \n",
       "                  Adventure    4030.0      0.06      0.09      0.00   \n",
       "                  Fighting    10049.0      0.28      0.09      0.02   \n",
       "                  Misc        14078.0      0.56      0.16      0.00   \n",
       "...                               ...       ...       ...       ...   \n",
       "Yeti              Fighting     2016.0      0.00      0.00      0.02   \n",
       "Zoo Games         Misc         2011.0      0.30      0.00      0.00   \n",
       "Zushi Games       Racing       2009.0      0.02      0.00      0.00   \n",
       "                  Sports       2009.0      0.18      0.01      0.00   \n",
       "bitComposer Games Simulation   4022.0      0.16      0.08      0.00   \n",
       "\n",
       "                              Other_Sales  Global_Sales  \n",
       "Publisher         Genre                                  \n",
       "49Games           Sports             0.00          0.04  \n",
       "505 Games         Action             0.26          2.25  \n",
       "                  Adventure          0.02          0.17  \n",
       "                  Fighting           0.05          0.44  \n",
       "                  Misc               0.06          0.80  \n",
       "...                                   ...           ...  \n",
       "Yeti              Fighting           0.00          0.02  \n",
       "Zoo Games         Misc               0.02          0.32  \n",
       "Zushi Games       Racing             0.00          0.02  \n",
       "                  Sports             0.01          0.21  \n",
       "bitComposer Games Simulation         0.04          0.27  \n",
       "\n",
       "[422 rows x 6 columns]"
      ],
      "text/html": "<div>\n<style scoped>\n    .dataframe tbody tr th:only-of-type {\n        vertical-align: middle;\n    }\n\n    .dataframe tbody tr th {\n        vertical-align: top;\n    }\n\n    .dataframe thead th {\n        text-align: right;\n    }\n</style>\n<table border=\"1\" class=\"dataframe\">\n  <thead>\n    <tr style=\"text-align: right;\">\n      <th></th>\n      <th></th>\n      <th>Year</th>\n      <th>NA_Sales</th>\n      <th>EU_Sales</th>\n      <th>JP_Sales</th>\n      <th>Other_Sales</th>\n      <th>Global_Sales</th>\n    </tr>\n    <tr>\n      <th>Publisher</th>\n      <th>Genre</th>\n      <th></th>\n      <th></th>\n      <th></th>\n      <th></th>\n      <th></th>\n      <th></th>\n    </tr>\n  </thead>\n  <tbody>\n    <tr>\n      <th>49Games</th>\n      <th>Sports</th>\n      <td>2009.0</td>\n      <td>0.00</td>\n      <td>0.04</td>\n      <td>0.00</td>\n      <td>0.00</td>\n      <td>0.04</td>\n    </tr>\n    <tr>\n      <th rowspan=\"4\" valign=\"top\">505 Games</th>\n      <th>Action</th>\n      <td>16098.0</td>\n      <td>0.84</td>\n      <td>1.05</td>\n      <td>0.10</td>\n      <td>0.26</td>\n      <td>2.25</td>\n    </tr>\n    <tr>\n      <th>Adventure</th>\n      <td>4030.0</td>\n      <td>0.06</td>\n      <td>0.09</td>\n      <td>0.00</td>\n      <td>0.02</td>\n      <td>0.17</td>\n    </tr>\n    <tr>\n      <th>Fighting</th>\n      <td>10049.0</td>\n      <td>0.28</td>\n      <td>0.09</td>\n      <td>0.02</td>\n      <td>0.05</td>\n      <td>0.44</td>\n    </tr>\n    <tr>\n      <th>Misc</th>\n      <td>14078.0</td>\n      <td>0.56</td>\n      <td>0.16</td>\n      <td>0.00</td>\n      <td>0.06</td>\n      <td>0.80</td>\n    </tr>\n    <tr>\n      <th>...</th>\n      <th>...</th>\n      <td>...</td>\n      <td>...</td>\n      <td>...</td>\n      <td>...</td>\n      <td>...</td>\n      <td>...</td>\n    </tr>\n    <tr>\n      <th>Yeti</th>\n      <th>Fighting</th>\n      <td>2016.0</td>\n      <td>0.00</td>\n      <td>0.00</td>\n      <td>0.02</td>\n      <td>0.00</td>\n      <td>0.02</td>\n    </tr>\n    <tr>\n      <th>Zoo Games</th>\n      <th>Misc</th>\n      <td>2011.0</td>\n      <td>0.30</td>\n      <td>0.00</td>\n      <td>0.00</td>\n      <td>0.02</td>\n      <td>0.32</td>\n    </tr>\n    <tr>\n      <th rowspan=\"2\" valign=\"top\">Zushi Games</th>\n      <th>Racing</th>\n      <td>2009.0</td>\n      <td>0.02</td>\n      <td>0.00</td>\n      <td>0.00</td>\n      <td>0.00</td>\n      <td>0.02</td>\n    </tr>\n    <tr>\n      <th>Sports</th>\n      <td>2009.0</td>\n      <td>0.18</td>\n      <td>0.01</td>\n      <td>0.00</td>\n      <td>0.01</td>\n      <td>0.21</td>\n    </tr>\n    <tr>\n      <th>bitComposer Games</th>\n      <th>Simulation</th>\n      <td>4022.0</td>\n      <td>0.16</td>\n      <td>0.08</td>\n      <td>0.00</td>\n      <td>0.04</td>\n      <td>0.27</td>\n    </tr>\n  </tbody>\n</table>\n<p>422 rows × 6 columns</p>\n</div>"
     },
     "metadata": {},
     "execution_count": 16
    }
   ],
   "source": [
    "game.groupby(['Publisher', 'Genre']).sum()"
   ]
  },
  {
   "cell_type": "code",
   "execution_count": 17,
   "metadata": {},
   "outputs": [
    {
     "output_type": "execute_result",
     "data": {
      "text/plain": [
       "MultiIndex([(   'NA_Sales',   'sum'),\n",
       "            (   'NA_Sales', 'count'),\n",
       "            (   'NA_Sales',   'std'),\n",
       "            (   'NA_Sales',  'mean'),\n",
       "            (   'EU_Sales',   'sum'),\n",
       "            (   'EU_Sales', 'count'),\n",
       "            (   'EU_Sales',   'std'),\n",
       "            (   'EU_Sales',  'mean'),\n",
       "            (   'JP_Sales',   'sum'),\n",
       "            (   'JP_Sales', 'count'),\n",
       "            (   'JP_Sales',   'std'),\n",
       "            (   'JP_Sales',  'mean'),\n",
       "            ('Other_Sales',   'sum'),\n",
       "            ('Other_Sales', 'count'),\n",
       "            ('Other_Sales',   'std'),\n",
       "            ('Other_Sales',  'mean')],\n",
       "           )"
      ]
     },
     "metadata": {},
     "execution_count": 17
    }
   ],
   "source": [
    "sales.groupby(['Platform']).agg(['sum', 'count', 'std', 'mean']).columns"
   ]
  },
  {
   "cell_type": "code",
   "execution_count": 18,
   "metadata": {},
   "outputs": [
    {
     "output_type": "execute_result",
     "data": {
      "text/plain": [
       "         NA_Sales                           EU_Sales                  \\\n",
       "              sum count       std      mean      sum count       std   \n",
       "Platform                                                               \n",
       "XOne        83.19   213  0.641796  0.390563    45.65   213  0.358040   \n",
       "X360       601.05  1265  1.031488  0.475138   280.58  1265  0.483546   \n",
       "PS4         96.80   336  0.594151  0.288095   123.70   336  0.796806   \n",
       "PS3        392.26  1329  0.578325  0.295154   343.71  1329  0.601182   \n",
       "\n",
       "                   JP_Sales                           Other_Sales        \\\n",
       "              mean      sum count       std      mean         sum count   \n",
       "Platform                                                                  \n",
       "XOne      0.214319     0.34   213  0.005519  0.001596       11.92   213   \n",
       "X360      0.221802    12.43  1265  0.024594  0.009826       85.54  1265   \n",
       "PS4       0.368155    14.30   336  0.070571  0.042560       43.36   336   \n",
       "PS3       0.258623    79.99  1329  0.131329  0.060188      141.93  1329   \n",
       "\n",
       "                              \n",
       "               std      mean  \n",
       "Platform                      \n",
       "XOne      0.089230  0.055962  \n",
       "X360      0.141638  0.067621  \n",
       "PS4       0.268794  0.129048  \n",
       "PS3       0.241682  0.106795  "
      ],
      "text/html": "<div>\n<style scoped>\n    .dataframe tbody tr th:only-of-type {\n        vertical-align: middle;\n    }\n\n    .dataframe tbody tr th {\n        vertical-align: top;\n    }\n\n    .dataframe thead tr th {\n        text-align: left;\n    }\n\n    .dataframe thead tr:last-of-type th {\n        text-align: right;\n    }\n</style>\n<table border=\"1\" class=\"dataframe\">\n  <thead>\n    <tr>\n      <th></th>\n      <th colspan=\"4\" halign=\"left\">NA_Sales</th>\n      <th colspan=\"4\" halign=\"left\">EU_Sales</th>\n      <th colspan=\"4\" halign=\"left\">JP_Sales</th>\n      <th colspan=\"4\" halign=\"left\">Other_Sales</th>\n    </tr>\n    <tr>\n      <th></th>\n      <th>sum</th>\n      <th>count</th>\n      <th>std</th>\n      <th>mean</th>\n      <th>sum</th>\n      <th>count</th>\n      <th>std</th>\n      <th>mean</th>\n      <th>sum</th>\n      <th>count</th>\n      <th>std</th>\n      <th>mean</th>\n      <th>sum</th>\n      <th>count</th>\n      <th>std</th>\n      <th>mean</th>\n    </tr>\n    <tr>\n      <th>Platform</th>\n      <th></th>\n      <th></th>\n      <th></th>\n      <th></th>\n      <th></th>\n      <th></th>\n      <th></th>\n      <th></th>\n      <th></th>\n      <th></th>\n      <th></th>\n      <th></th>\n      <th></th>\n      <th></th>\n      <th></th>\n      <th></th>\n    </tr>\n  </thead>\n  <tbody>\n    <tr>\n      <th>XOne</th>\n      <td>83.19</td>\n      <td>213</td>\n      <td>0.641796</td>\n      <td>0.390563</td>\n      <td>45.65</td>\n      <td>213</td>\n      <td>0.358040</td>\n      <td>0.214319</td>\n      <td>0.34</td>\n      <td>213</td>\n      <td>0.005519</td>\n      <td>0.001596</td>\n      <td>11.92</td>\n      <td>213</td>\n      <td>0.089230</td>\n      <td>0.055962</td>\n    </tr>\n    <tr>\n      <th>X360</th>\n      <td>601.05</td>\n      <td>1265</td>\n      <td>1.031488</td>\n      <td>0.475138</td>\n      <td>280.58</td>\n      <td>1265</td>\n      <td>0.483546</td>\n      <td>0.221802</td>\n      <td>12.43</td>\n      <td>1265</td>\n      <td>0.024594</td>\n      <td>0.009826</td>\n      <td>85.54</td>\n      <td>1265</td>\n      <td>0.141638</td>\n      <td>0.067621</td>\n    </tr>\n    <tr>\n      <th>PS4</th>\n      <td>96.80</td>\n      <td>336</td>\n      <td>0.594151</td>\n      <td>0.288095</td>\n      <td>123.70</td>\n      <td>336</td>\n      <td>0.796806</td>\n      <td>0.368155</td>\n      <td>14.30</td>\n      <td>336</td>\n      <td>0.070571</td>\n      <td>0.042560</td>\n      <td>43.36</td>\n      <td>336</td>\n      <td>0.268794</td>\n      <td>0.129048</td>\n    </tr>\n    <tr>\n      <th>PS3</th>\n      <td>392.26</td>\n      <td>1329</td>\n      <td>0.578325</td>\n      <td>0.295154</td>\n      <td>343.71</td>\n      <td>1329</td>\n      <td>0.601182</td>\n      <td>0.258623</td>\n      <td>79.99</td>\n      <td>1329</td>\n      <td>0.131329</td>\n      <td>0.060188</td>\n      <td>141.93</td>\n      <td>1329</td>\n      <td>0.241682</td>\n      <td>0.106795</td>\n    </tr>\n  </tbody>\n</table>\n</div>"
     },
     "metadata": {},
     "execution_count": 18
    }
   ],
   "source": [
    "sales.groupby(['Platform']).agg(['sum', 'count', 'std', 'mean']).sort_values(by=('JP_Sales', 'mean'))"
   ]
  },
  {
   "cell_type": "code",
   "execution_count": 19,
   "metadata": {},
   "outputs": [
    {
     "output_type": "execute_result",
     "data": {
      "text/plain": [
       "          NA_Sales  EU_Sales\n",
       "Platform                    \n",
       "PS3         392.26  0.258623\n",
       "PS4          96.80  0.368155\n",
       "X360        601.05  0.221802\n",
       "XOne         83.19  0.214319"
      ],
      "text/html": "<div>\n<style scoped>\n    .dataframe tbody tr th:only-of-type {\n        vertical-align: middle;\n    }\n\n    .dataframe tbody tr th {\n        vertical-align: top;\n    }\n\n    .dataframe thead th {\n        text-align: right;\n    }\n</style>\n<table border=\"1\" class=\"dataframe\">\n  <thead>\n    <tr style=\"text-align: right;\">\n      <th></th>\n      <th>NA_Sales</th>\n      <th>EU_Sales</th>\n    </tr>\n    <tr>\n      <th>Platform</th>\n      <th></th>\n      <th></th>\n    </tr>\n  </thead>\n  <tbody>\n    <tr>\n      <th>PS3</th>\n      <td>392.26</td>\n      <td>0.258623</td>\n    </tr>\n    <tr>\n      <th>PS4</th>\n      <td>96.80</td>\n      <td>0.368155</td>\n    </tr>\n    <tr>\n      <th>X360</th>\n      <td>601.05</td>\n      <td>0.221802</td>\n    </tr>\n    <tr>\n      <th>XOne</th>\n      <td>83.19</td>\n      <td>0.214319</td>\n    </tr>\n  </tbody>\n</table>\n</div>"
     },
     "metadata": {},
     "execution_count": 19
    }
   ],
   "source": [
    "sales.groupby(['Platform']).agg({\n",
    "    'NA_Sales': 'sum',\n",
    "    'EU_Sales': 'mean'\n",
    "})"
   ]
  },
  {
   "cell_type": "code",
   "execution_count": 20,
   "metadata": {},
   "outputs": [
    {
     "output_type": "execute_result",
     "data": {
      "text/plain": [
       "          NA_Sales  EU_Sales  JP_Sales  Other_Sales\n",
       "Platform                                           \n",
       "PS3         392.26    343.71     79.99       141.93\n",
       "PS4          96.80    123.70     14.30        43.36\n",
       "X360        601.05    280.58     12.43        85.54\n",
       "XOne         83.19     45.65      0.34        11.92"
      ],
      "text/html": "<div>\n<style scoped>\n    .dataframe tbody tr th:only-of-type {\n        vertical-align: middle;\n    }\n\n    .dataframe tbody tr th {\n        vertical-align: top;\n    }\n\n    .dataframe thead th {\n        text-align: right;\n    }\n</style>\n<table border=\"1\" class=\"dataframe\">\n  <thead>\n    <tr style=\"text-align: right;\">\n      <th></th>\n      <th>NA_Sales</th>\n      <th>EU_Sales</th>\n      <th>JP_Sales</th>\n      <th>Other_Sales</th>\n    </tr>\n    <tr>\n      <th>Platform</th>\n      <th></th>\n      <th></th>\n      <th></th>\n      <th></th>\n    </tr>\n  </thead>\n  <tbody>\n    <tr>\n      <th>PS3</th>\n      <td>392.26</td>\n      <td>343.71</td>\n      <td>79.99</td>\n      <td>141.93</td>\n    </tr>\n    <tr>\n      <th>PS4</th>\n      <td>96.80</td>\n      <td>123.70</td>\n      <td>14.30</td>\n      <td>43.36</td>\n    </tr>\n    <tr>\n      <th>X360</th>\n      <td>601.05</td>\n      <td>280.58</td>\n      <td>12.43</td>\n      <td>85.54</td>\n    </tr>\n    <tr>\n      <th>XOne</th>\n      <td>83.19</td>\n      <td>45.65</td>\n      <td>0.34</td>\n      <td>11.92</td>\n    </tr>\n  </tbody>\n</table>\n</div>"
     },
     "metadata": {},
     "execution_count": 20
    }
   ],
   "source": [
    "sales.groupby('Platform').sum()"
   ]
  },
  {
   "cell_type": "code",
   "execution_count": 21,
   "metadata": {},
   "outputs": [
    {
     "output_type": "stream",
     "name": "stdout",
     "text": [
      "392.2599999999998\n343.70999999999805\n79.99000000000005\n141.92999999999992\n"
     ]
    },
    {
     "output_type": "execute_result",
     "data": {
      "text/plain": [
       "NA_Sales       None\n",
       "EU_Sales       None\n",
       "JP_Sales       None\n",
       "Other_Sales    None\n",
       "dtype: object"
      ]
     },
     "metadata": {},
     "execution_count": 21
    }
   ],
   "source": [
    "sales.groupby('Platform').sum().transform(lambda sale: print(sale.PS3) )"
   ]
  },
  {
   "cell_type": "code",
   "execution_count": 22,
   "metadata": {},
   "outputs": [
    {
     "output_type": "execute_result",
     "data": {
      "text/plain": [
       "     Platform  NA_Sales  EU_Sales  JP_Sales  Other_Sales\n",
       "0        X360     14.97      4.94      0.24         1.67\n",
       "2        X360      9.63      5.31      0.06         1.38\n",
       "3        X360      9.03      4.28      0.13         1.32\n",
       "4        X360      9.67      3.73      0.11         1.13\n",
       "7        X360      8.25      4.30      0.07         1.12\n",
       "...       ...       ...       ...       ...          ...\n",
       "3127     X360      0.00      0.01      0.00         0.00\n",
       "3128     X360      0.00      0.00      0.01         0.00\n",
       "3130     X360      0.01      0.00      0.00         0.00\n",
       "3135     X360      0.00      0.00      0.01         0.00\n",
       "3138     X360      0.00      0.01      0.00         0.00\n",
       "\n",
       "[1265 rows x 5 columns]"
      ],
      "text/html": "<div>\n<style scoped>\n    .dataframe tbody tr th:only-of-type {\n        vertical-align: middle;\n    }\n\n    .dataframe tbody tr th {\n        vertical-align: top;\n    }\n\n    .dataframe thead th {\n        text-align: right;\n    }\n</style>\n<table border=\"1\" class=\"dataframe\">\n  <thead>\n    <tr style=\"text-align: right;\">\n      <th></th>\n      <th>Platform</th>\n      <th>NA_Sales</th>\n      <th>EU_Sales</th>\n      <th>JP_Sales</th>\n      <th>Other_Sales</th>\n    </tr>\n  </thead>\n  <tbody>\n    <tr>\n      <th>0</th>\n      <td>X360</td>\n      <td>14.97</td>\n      <td>4.94</td>\n      <td>0.24</td>\n      <td>1.67</td>\n    </tr>\n    <tr>\n      <th>2</th>\n      <td>X360</td>\n      <td>9.63</td>\n      <td>5.31</td>\n      <td>0.06</td>\n      <td>1.38</td>\n    </tr>\n    <tr>\n      <th>3</th>\n      <td>X360</td>\n      <td>9.03</td>\n      <td>4.28</td>\n      <td>0.13</td>\n      <td>1.32</td>\n    </tr>\n    <tr>\n      <th>4</th>\n      <td>X360</td>\n      <td>9.67</td>\n      <td>3.73</td>\n      <td>0.11</td>\n      <td>1.13</td>\n    </tr>\n    <tr>\n      <th>7</th>\n      <td>X360</td>\n      <td>8.25</td>\n      <td>4.30</td>\n      <td>0.07</td>\n      <td>1.12</td>\n    </tr>\n    <tr>\n      <th>...</th>\n      <td>...</td>\n      <td>...</td>\n      <td>...</td>\n      <td>...</td>\n      <td>...</td>\n    </tr>\n    <tr>\n      <th>3127</th>\n      <td>X360</td>\n      <td>0.00</td>\n      <td>0.01</td>\n      <td>0.00</td>\n      <td>0.00</td>\n    </tr>\n    <tr>\n      <th>3128</th>\n      <td>X360</td>\n      <td>0.00</td>\n      <td>0.00</td>\n      <td>0.01</td>\n      <td>0.00</td>\n    </tr>\n    <tr>\n      <th>3130</th>\n      <td>X360</td>\n      <td>0.01</td>\n      <td>0.00</td>\n      <td>0.00</td>\n      <td>0.00</td>\n    </tr>\n    <tr>\n      <th>3135</th>\n      <td>X360</td>\n      <td>0.00</td>\n      <td>0.00</td>\n      <td>0.01</td>\n      <td>0.00</td>\n    </tr>\n    <tr>\n      <th>3138</th>\n      <td>X360</td>\n      <td>0.00</td>\n      <td>0.01</td>\n      <td>0.00</td>\n      <td>0.00</td>\n    </tr>\n  </tbody>\n</table>\n<p>1265 rows × 5 columns</p>\n</div>"
     },
     "metadata": {},
     "execution_count": 22
    }
   ],
   "source": [
    "sales.groupby('Platform').filter(lambda sale: sale['NA_Sales'].mean() > 0.4)"
   ]
  },
  {
   "cell_type": "code",
   "execution_count": null,
   "metadata": {},
   "outputs": [],
   "source": []
  },
  {
   "cell_type": "code",
   "execution_count": 23,
   "metadata": {},
   "outputs": [
    {
     "output_type": "execute_result",
     "data": {
      "text/plain": [
       "     Platform  NA_Sales  EU_Sales  JP_Sales  Other_Sales\n",
       "1         PS3      7.01      9.27      0.97         4.14\n",
       "6         PS3      4.99      5.88      0.65         2.52\n",
       "9         PS3      5.54      5.82      0.49         1.62\n",
       "10        PS3      5.98      4.44      0.48         1.83\n",
       "14        PS3      2.96      4.88      0.81         2.12\n",
       "...       ...       ...       ...       ...          ...\n",
       "3124      PS3      0.00      0.01      0.00         0.00\n",
       "3125      PS3      0.00      0.00      0.01         0.00\n",
       "3129      PS3      0.00      0.00      0.01         0.00\n",
       "3132      PS3      0.00      0.00      0.01         0.00\n",
       "3136      PS3      0.00      0.00      0.01         0.00\n",
       "\n",
       "[1329 rows x 5 columns]"
      ],
      "text/html": "<div>\n<style scoped>\n    .dataframe tbody tr th:only-of-type {\n        vertical-align: middle;\n    }\n\n    .dataframe tbody tr th {\n        vertical-align: top;\n    }\n\n    .dataframe thead th {\n        text-align: right;\n    }\n</style>\n<table border=\"1\" class=\"dataframe\">\n  <thead>\n    <tr style=\"text-align: right;\">\n      <th></th>\n      <th>Platform</th>\n      <th>NA_Sales</th>\n      <th>EU_Sales</th>\n      <th>JP_Sales</th>\n      <th>Other_Sales</th>\n    </tr>\n  </thead>\n  <tbody>\n    <tr>\n      <th>1</th>\n      <td>PS3</td>\n      <td>7.01</td>\n      <td>9.27</td>\n      <td>0.97</td>\n      <td>4.14</td>\n    </tr>\n    <tr>\n      <th>6</th>\n      <td>PS3</td>\n      <td>4.99</td>\n      <td>5.88</td>\n      <td>0.65</td>\n      <td>2.52</td>\n    </tr>\n    <tr>\n      <th>9</th>\n      <td>PS3</td>\n      <td>5.54</td>\n      <td>5.82</td>\n      <td>0.49</td>\n      <td>1.62</td>\n    </tr>\n    <tr>\n      <th>10</th>\n      <td>PS3</td>\n      <td>5.98</td>\n      <td>4.44</td>\n      <td>0.48</td>\n      <td>1.83</td>\n    </tr>\n    <tr>\n      <th>14</th>\n      <td>PS3</td>\n      <td>2.96</td>\n      <td>4.88</td>\n      <td>0.81</td>\n      <td>2.12</td>\n    </tr>\n    <tr>\n      <th>...</th>\n      <td>...</td>\n      <td>...</td>\n      <td>...</td>\n      <td>...</td>\n      <td>...</td>\n    </tr>\n    <tr>\n      <th>3124</th>\n      <td>PS3</td>\n      <td>0.00</td>\n      <td>0.01</td>\n      <td>0.00</td>\n      <td>0.00</td>\n    </tr>\n    <tr>\n      <th>3125</th>\n      <td>PS3</td>\n      <td>0.00</td>\n      <td>0.00</td>\n      <td>0.01</td>\n      <td>0.00</td>\n    </tr>\n    <tr>\n      <th>3129</th>\n      <td>PS3</td>\n      <td>0.00</td>\n      <td>0.00</td>\n      <td>0.01</td>\n      <td>0.00</td>\n    </tr>\n    <tr>\n      <th>3132</th>\n      <td>PS3</td>\n      <td>0.00</td>\n      <td>0.00</td>\n      <td>0.01</td>\n      <td>0.00</td>\n    </tr>\n    <tr>\n      <th>3136</th>\n      <td>PS3</td>\n      <td>0.00</td>\n      <td>0.00</td>\n      <td>0.01</td>\n      <td>0.00</td>\n    </tr>\n  </tbody>\n</table>\n<p>1329 rows × 5 columns</p>\n</div>"
     },
     "metadata": {},
     "execution_count": 23
    }
   ],
   "source": [
    "sales.groupby('Platform').get_group('PS3')"
   ]
  },
  {
   "cell_type": "code",
   "execution_count": 24,
   "metadata": {},
   "outputs": [
    {
     "output_type": "execute_result",
     "data": {
      "text/plain": [
       "      NA_Sales  EU_Sales  JP_Sales  Other_Sales\n",
       "0        24.97     14.94     10.24        11.67\n",
       "1        17.01     19.27     10.97        14.14\n",
       "2        19.63     15.31     10.06        11.38\n",
       "3        19.03     14.28     10.13        11.32\n",
       "4        19.67     13.73     10.11        11.13\n",
       "...        ...       ...       ...          ...\n",
       "3138     10.00     10.01     10.00        10.00\n",
       "3139     10.01     10.00     10.00        10.00\n",
       "3140     10.01     10.00     10.00        10.00\n",
       "3141     10.00     10.01     10.00        10.00\n",
       "3142     10.00     10.01     10.00        10.00\n",
       "\n",
       "[3143 rows x 4 columns]"
      ],
      "text/html": "<div>\n<style scoped>\n    .dataframe tbody tr th:only-of-type {\n        vertical-align: middle;\n    }\n\n    .dataframe tbody tr th {\n        vertical-align: top;\n    }\n\n    .dataframe thead th {\n        text-align: right;\n    }\n</style>\n<table border=\"1\" class=\"dataframe\">\n  <thead>\n    <tr style=\"text-align: right;\">\n      <th></th>\n      <th>NA_Sales</th>\n      <th>EU_Sales</th>\n      <th>JP_Sales</th>\n      <th>Other_Sales</th>\n    </tr>\n  </thead>\n  <tbody>\n    <tr>\n      <th>0</th>\n      <td>24.97</td>\n      <td>14.94</td>\n      <td>10.24</td>\n      <td>11.67</td>\n    </tr>\n    <tr>\n      <th>1</th>\n      <td>17.01</td>\n      <td>19.27</td>\n      <td>10.97</td>\n      <td>14.14</td>\n    </tr>\n    <tr>\n      <th>2</th>\n      <td>19.63</td>\n      <td>15.31</td>\n      <td>10.06</td>\n      <td>11.38</td>\n    </tr>\n    <tr>\n      <th>3</th>\n      <td>19.03</td>\n      <td>14.28</td>\n      <td>10.13</td>\n      <td>11.32</td>\n    </tr>\n    <tr>\n      <th>4</th>\n      <td>19.67</td>\n      <td>13.73</td>\n      <td>10.11</td>\n      <td>11.13</td>\n    </tr>\n    <tr>\n      <th>...</th>\n      <td>...</td>\n      <td>...</td>\n      <td>...</td>\n      <td>...</td>\n    </tr>\n    <tr>\n      <th>3138</th>\n      <td>10.00</td>\n      <td>10.01</td>\n      <td>10.00</td>\n      <td>10.00</td>\n    </tr>\n    <tr>\n      <th>3139</th>\n      <td>10.01</td>\n      <td>10.00</td>\n      <td>10.00</td>\n      <td>10.00</td>\n    </tr>\n    <tr>\n      <th>3140</th>\n      <td>10.01</td>\n      <td>10.00</td>\n      <td>10.00</td>\n      <td>10.00</td>\n    </tr>\n    <tr>\n      <th>3141</th>\n      <td>10.00</td>\n      <td>10.01</td>\n      <td>10.00</td>\n      <td>10.00</td>\n    </tr>\n    <tr>\n      <th>3142</th>\n      <td>10.00</td>\n      <td>10.01</td>\n      <td>10.00</td>\n      <td>10.00</td>\n    </tr>\n  </tbody>\n</table>\n<p>3143 rows × 4 columns</p>\n</div>"
     },
     "metadata": {},
     "execution_count": 24
    }
   ],
   "source": [
    "sales.groupby('Platform').transform(lambda x: x+10)"
   ]
  },
  {
   "cell_type": "code",
   "execution_count": null,
   "metadata": {},
   "outputs": [],
   "source": []
  }
 ]
}