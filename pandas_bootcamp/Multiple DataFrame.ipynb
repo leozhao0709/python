{
 "metadata": {
  "language_info": {
   "codemirror_mode": {
    "name": "ipython",
    "version": 3
   },
   "file_extension": ".py",
   "mimetype": "text/x-python",
   "name": "python",
   "nbconvert_exporter": "python",
   "pygments_lexer": "ipython3",
   "version": "3.7.6-final"
  },
  "orig_nbformat": 2,
  "kernelspec": {
   "name": "python3",
   "display_name": "Python 3.7.6 64-bit ('base': conda)",
   "metadata": {
    "interpreter": {
     "hash": "e134e05457d34029b6460cd73bbf1ed73f339b5b6d98c95be70b69eba114fe95"
    }
   }
  }
 },
 "nbformat": 4,
 "nbformat_minor": 2,
 "cells": [
  {
   "cell_type": "code",
   "execution_count": 57,
   "metadata": {},
   "outputs": [],
   "source": [
    "import pandas as pd\n",
    "import numpy as np"
   ]
  },
  {
   "cell_type": "code",
   "execution_count": 58,
   "metadata": {},
   "outputs": [],
   "source": [
    "eng_url = 'https://andybek.com/pandas-eng'\n",
    "state_url = 'https://andybek.com/pandas-state'\n",
    "party_url = 'https://andybek.com/pandas-party'\n",
    "liberal_url = 'https://andybek.com/pandas-liberal'\n",
    "ivies_url = 'https://andybek.com/pandas-ivies'"
   ]
  },
  {
   "cell_type": "code",
   "execution_count": 59,
   "metadata": {},
   "outputs": [],
   "source": [
    "eng = pd.read_csv(eng_url)"
   ]
  },
  {
   "cell_type": "code",
   "execution_count": 60,
   "metadata": {},
   "outputs": [],
   "source": [
    "state = pd.read_csv(state_url)"
   ]
  },
  {
   "cell_type": "code",
   "execution_count": 61,
   "metadata": {},
   "outputs": [],
   "source": [
    "party = pd.read_csv(party_url)"
   ]
  },
  {
   "cell_type": "code",
   "execution_count": 62,
   "metadata": {},
   "outputs": [],
   "source": [
    "liberal = pd.read_csv(liberal_url)"
   ]
  },
  {
   "cell_type": "code",
   "execution_count": 63,
   "metadata": {},
   "outputs": [],
   "source": [
    "ivies = pd.read_csv(ivies_url)"
   ]
  },
  {
   "cell_type": "code",
   "execution_count": 64,
   "metadata": {},
   "outputs": [],
   "source": [
    "dfs = [eng, state, party, liberal, ivies]"
   ]
  },
  {
   "cell_type": "code",
   "execution_count": 65,
   "metadata": {},
   "outputs": [],
   "source": [
    "schools = pd.concat(dfs, ignore_index=True).drop_duplicates(subset='School Name')"
   ]
  },
  {
   "cell_type": "code",
   "execution_count": 66,
   "metadata": {},
   "outputs": [],
   "source": [
    "# schools.reset_index(drop=True)"
   ]
  },
  {
   "cell_type": "code",
   "execution_count": 67,
   "metadata": {},
   "outputs": [
    {
     "output_type": "execute_result",
     "data": {
      "text/plain": [
       "                                              School Type  \\\n",
       "School Name                                                 \n",
       "Massachusetts Institute of Technology (MIT)   Engineering   \n",
       "California Institute of Technology (CIT)      Engineering   \n",
       "Harvey Mudd College                           Engineering   \n",
       "Polytechnic University of New York, Brooklyn  Engineering   \n",
       "Cooper Union                                  Engineering   \n",
       "...                                                   ...   \n",
       "Harvard University                             Ivy League   \n",
       "University of Pennsylvania                     Ivy League   \n",
       "Cornell University                             Ivy League   \n",
       "Brown University                               Ivy League   \n",
       "Columbia University                            Ivy League   \n",
       "\n",
       "                                             Starting Median Salary  \\\n",
       "School Name                                                           \n",
       "Massachusetts Institute of Technology (MIT)             $72,200.00    \n",
       "California Institute of Technology (CIT)                $75,500.00    \n",
       "Harvey Mudd College                                     $71,800.00    \n",
       "Polytechnic University of New York, Brooklyn            $62,400.00    \n",
       "Cooper Union                                            $62,200.00    \n",
       "...                                                             ...   \n",
       "Harvard University                                      $63,400.00    \n",
       "University of Pennsylvania                              $60,900.00    \n",
       "Cornell University                                      $60,300.00    \n",
       "Brown University                                        $56,200.00    \n",
       "Columbia University                                     $59,400.00    \n",
       "\n",
       "                                             Mid-Career Median Salary  \n",
       "School Name                                                            \n",
       "Massachusetts Institute of Technology (MIT)              $126,000.00   \n",
       "California Institute of Technology (CIT)                 $123,000.00   \n",
       "Harvey Mudd College                                      $122,000.00   \n",
       "Polytechnic University of New York, Brooklyn             $114,000.00   \n",
       "Cooper Union                                             $114,000.00   \n",
       "...                                                               ...  \n",
       "Harvard University                                       $124,000.00   \n",
       "University of Pennsylvania                               $120,000.00   \n",
       "Cornell University                                       $110,000.00   \n",
       "Brown University                                         $109,000.00   \n",
       "Columbia University                                      $107,000.00   \n",
       "\n",
       "[249 rows x 3 columns]"
      ],
      "text/html": "<div>\n<style scoped>\n    .dataframe tbody tr th:only-of-type {\n        vertical-align: middle;\n    }\n\n    .dataframe tbody tr th {\n        vertical-align: top;\n    }\n\n    .dataframe thead th {\n        text-align: right;\n    }\n</style>\n<table border=\"1\" class=\"dataframe\">\n  <thead>\n    <tr style=\"text-align: right;\">\n      <th></th>\n      <th>School Type</th>\n      <th>Starting Median Salary</th>\n      <th>Mid-Career Median Salary</th>\n    </tr>\n    <tr>\n      <th>School Name</th>\n      <th></th>\n      <th></th>\n      <th></th>\n    </tr>\n  </thead>\n  <tbody>\n    <tr>\n      <th>Massachusetts Institute of Technology (MIT)</th>\n      <td>Engineering</td>\n      <td>$72,200.00</td>\n      <td>$126,000.00</td>\n    </tr>\n    <tr>\n      <th>California Institute of Technology (CIT)</th>\n      <td>Engineering</td>\n      <td>$75,500.00</td>\n      <td>$123,000.00</td>\n    </tr>\n    <tr>\n      <th>Harvey Mudd College</th>\n      <td>Engineering</td>\n      <td>$71,800.00</td>\n      <td>$122,000.00</td>\n    </tr>\n    <tr>\n      <th>Polytechnic University of New York, Brooklyn</th>\n      <td>Engineering</td>\n      <td>$62,400.00</td>\n      <td>$114,000.00</td>\n    </tr>\n    <tr>\n      <th>Cooper Union</th>\n      <td>Engineering</td>\n      <td>$62,200.00</td>\n      <td>$114,000.00</td>\n    </tr>\n    <tr>\n      <th>...</th>\n      <td>...</td>\n      <td>...</td>\n      <td>...</td>\n    </tr>\n    <tr>\n      <th>Harvard University</th>\n      <td>Ivy League</td>\n      <td>$63,400.00</td>\n      <td>$124,000.00</td>\n    </tr>\n    <tr>\n      <th>University of Pennsylvania</th>\n      <td>Ivy League</td>\n      <td>$60,900.00</td>\n      <td>$120,000.00</td>\n    </tr>\n    <tr>\n      <th>Cornell University</th>\n      <td>Ivy League</td>\n      <td>$60,300.00</td>\n      <td>$110,000.00</td>\n    </tr>\n    <tr>\n      <th>Brown University</th>\n      <td>Ivy League</td>\n      <td>$56,200.00</td>\n      <td>$109,000.00</td>\n    </tr>\n    <tr>\n      <th>Columbia University</th>\n      <td>Ivy League</td>\n      <td>$59,400.00</td>\n      <td>$107,000.00</td>\n    </tr>\n  </tbody>\n</table>\n<p>249 rows × 3 columns</p>\n</div>"
     },
     "metadata": {},
     "execution_count": 67
    }
   ],
   "source": [
    "schools.set_index('School Name')"
   ]
  },
  {
   "cell_type": "code",
   "execution_count": 56,
   "metadata": {},
   "outputs": [
    {
     "output_type": "execute_result",
     "data": {
      "text/plain": [
       "                                     School Name  School Type  \\\n",
       "0    Massachusetts Institute of Technology (MIT)  Engineering   \n",
       "1       California Institute of Technology (CIT)  Engineering   \n",
       "2                            Harvey Mudd College  Engineering   \n",
       "3   Polytechnic University of New York, Brooklyn  Engineering   \n",
       "4                                   Cooper Union  Engineering   \n",
       "..                                           ...          ...   \n",
       "3                             Harvard University   Ivy League   \n",
       "4                     University of Pennsylvania   Ivy League   \n",
       "5                             Cornell University   Ivy League   \n",
       "6                               Brown University   Ivy League   \n",
       "7                            Columbia University   Ivy League   \n",
       "\n",
       "   Starting Median Salary Mid-Career Median Salary  \n",
       "0             $72,200.00              $126,000.00   \n",
       "1             $75,500.00              $123,000.00   \n",
       "2             $71,800.00              $122,000.00   \n",
       "3             $62,400.00              $114,000.00   \n",
       "4             $62,200.00              $114,000.00   \n",
       "..                    ...                      ...  \n",
       "3             $63,400.00              $124,000.00   \n",
       "4             $60,900.00              $120,000.00   \n",
       "5             $60,300.00              $110,000.00   \n",
       "6             $56,200.00              $109,000.00   \n",
       "7             $59,400.00              $107,000.00   \n",
       "\n",
       "[249 rows x 4 columns]"
      ],
      "text/html": "<div>\n<style scoped>\n    .dataframe tbody tr th:only-of-type {\n        vertical-align: middle;\n    }\n\n    .dataframe tbody tr th {\n        vertical-align: top;\n    }\n\n    .dataframe thead th {\n        text-align: right;\n    }\n</style>\n<table border=\"1\" class=\"dataframe\">\n  <thead>\n    <tr style=\"text-align: right;\">\n      <th></th>\n      <th>School Name</th>\n      <th>School Type</th>\n      <th>Starting Median Salary</th>\n      <th>Mid-Career Median Salary</th>\n    </tr>\n  </thead>\n  <tbody>\n    <tr>\n      <th>0</th>\n      <td>Massachusetts Institute of Technology (MIT)</td>\n      <td>Engineering</td>\n      <td>$72,200.00</td>\n      <td>$126,000.00</td>\n    </tr>\n    <tr>\n      <th>1</th>\n      <td>California Institute of Technology (CIT)</td>\n      <td>Engineering</td>\n      <td>$75,500.00</td>\n      <td>$123,000.00</td>\n    </tr>\n    <tr>\n      <th>2</th>\n      <td>Harvey Mudd College</td>\n      <td>Engineering</td>\n      <td>$71,800.00</td>\n      <td>$122,000.00</td>\n    </tr>\n    <tr>\n      <th>3</th>\n      <td>Polytechnic University of New York, Brooklyn</td>\n      <td>Engineering</td>\n      <td>$62,400.00</td>\n      <td>$114,000.00</td>\n    </tr>\n    <tr>\n      <th>4</th>\n      <td>Cooper Union</td>\n      <td>Engineering</td>\n      <td>$62,200.00</td>\n      <td>$114,000.00</td>\n    </tr>\n    <tr>\n      <th>...</th>\n      <td>...</td>\n      <td>...</td>\n      <td>...</td>\n      <td>...</td>\n    </tr>\n    <tr>\n      <th>3</th>\n      <td>Harvard University</td>\n      <td>Ivy League</td>\n      <td>$63,400.00</td>\n      <td>$124,000.00</td>\n    </tr>\n    <tr>\n      <th>4</th>\n      <td>University of Pennsylvania</td>\n      <td>Ivy League</td>\n      <td>$60,900.00</td>\n      <td>$120,000.00</td>\n    </tr>\n    <tr>\n      <th>5</th>\n      <td>Cornell University</td>\n      <td>Ivy League</td>\n      <td>$60,300.00</td>\n      <td>$110,000.00</td>\n    </tr>\n    <tr>\n      <th>6</th>\n      <td>Brown University</td>\n      <td>Ivy League</td>\n      <td>$56,200.00</td>\n      <td>$109,000.00</td>\n    </tr>\n    <tr>\n      <th>7</th>\n      <td>Columbia University</td>\n      <td>Ivy League</td>\n      <td>$59,400.00</td>\n      <td>$107,000.00</td>\n    </tr>\n  </tbody>\n</table>\n<p>249 rows × 4 columns</p>\n</div>"
     },
     "metadata": {},
     "execution_count": 56
    }
   ],
   "source": []
  },
  {
   "cell_type": "code",
   "execution_count": 68,
   "metadata": {},
   "outputs": [],
   "source": [
    "ivies2 = ivies.sort_values(by=['Starting Median Salary'], ascending=False)[:5].reset_index(drop=True)"
   ]
  },
  {
   "cell_type": "code",
   "execution_count": 69,
   "metadata": {},
   "outputs": [],
   "source": [
    "eng2 = eng.sort_values(by=['Starting Median Salary'], ascending=False)[:5].reset_index(drop=True)"
   ]
  },
  {
   "cell_type": "code",
   "execution_count": 70,
   "metadata": {},
   "outputs": [
    {
     "output_type": "execute_result",
     "data": {
      "text/plain": [
       "                  School Name School Type Starting Median Salary  \\\n",
       "0        Princeton University  Ivy League            $66,500.00    \n",
       "1          Harvard University  Ivy League            $63,400.00    \n",
       "2  University of Pennsylvania  Ivy League            $60,900.00    \n",
       "3          Cornell University  Ivy League            $60,300.00    \n",
       "4         Columbia University  Ivy League            $59,400.00    \n",
       "\n",
       "  Mid-Career Median Salary                                   School Name  \\\n",
       "0             $131,000.00       California Institute of Technology (CIT)   \n",
       "1             $124,000.00    Massachusetts Institute of Technology (MIT)   \n",
       "2             $120,000.00                            Harvey Mudd College   \n",
       "3             $110,000.00   Polytechnic University of New York, Brooklyn   \n",
       "4             $107,000.00                                   Cooper Union   \n",
       "\n",
       "   School Type Starting Median Salary Mid-Career Median Salary  \n",
       "0  Engineering            $75,500.00              $123,000.00   \n",
       "1  Engineering            $72,200.00              $126,000.00   \n",
       "2  Engineering            $71,800.00              $122,000.00   \n",
       "3  Engineering            $62,400.00              $114,000.00   \n",
       "4  Engineering            $62,200.00              $114,000.00   "
      ],
      "text/html": "<div>\n<style scoped>\n    .dataframe tbody tr th:only-of-type {\n        vertical-align: middle;\n    }\n\n    .dataframe tbody tr th {\n        vertical-align: top;\n    }\n\n    .dataframe thead th {\n        text-align: right;\n    }\n</style>\n<table border=\"1\" class=\"dataframe\">\n  <thead>\n    <tr style=\"text-align: right;\">\n      <th></th>\n      <th>School Name</th>\n      <th>School Type</th>\n      <th>Starting Median Salary</th>\n      <th>Mid-Career Median Salary</th>\n      <th>School Name</th>\n      <th>School Type</th>\n      <th>Starting Median Salary</th>\n      <th>Mid-Career Median Salary</th>\n    </tr>\n  </thead>\n  <tbody>\n    <tr>\n      <th>0</th>\n      <td>Princeton University</td>\n      <td>Ivy League</td>\n      <td>$66,500.00</td>\n      <td>$131,000.00</td>\n      <td>California Institute of Technology (CIT)</td>\n      <td>Engineering</td>\n      <td>$75,500.00</td>\n      <td>$123,000.00</td>\n    </tr>\n    <tr>\n      <th>1</th>\n      <td>Harvard University</td>\n      <td>Ivy League</td>\n      <td>$63,400.00</td>\n      <td>$124,000.00</td>\n      <td>Massachusetts Institute of Technology (MIT)</td>\n      <td>Engineering</td>\n      <td>$72,200.00</td>\n      <td>$126,000.00</td>\n    </tr>\n    <tr>\n      <th>2</th>\n      <td>University of Pennsylvania</td>\n      <td>Ivy League</td>\n      <td>$60,900.00</td>\n      <td>$120,000.00</td>\n      <td>Harvey Mudd College</td>\n      <td>Engineering</td>\n      <td>$71,800.00</td>\n      <td>$122,000.00</td>\n    </tr>\n    <tr>\n      <th>3</th>\n      <td>Cornell University</td>\n      <td>Ivy League</td>\n      <td>$60,300.00</td>\n      <td>$110,000.00</td>\n      <td>Polytechnic University of New York, Brooklyn</td>\n      <td>Engineering</td>\n      <td>$62,400.00</td>\n      <td>$114,000.00</td>\n    </tr>\n    <tr>\n      <th>4</th>\n      <td>Columbia University</td>\n      <td>Ivy League</td>\n      <td>$59,400.00</td>\n      <td>$107,000.00</td>\n      <td>Cooper Union</td>\n      <td>Engineering</td>\n      <td>$62,200.00</td>\n      <td>$114,000.00</td>\n    </tr>\n  </tbody>\n</table>\n</div>"
     },
     "metadata": {},
     "execution_count": 70
    }
   ],
   "source": [
    "pd.concat([ivies2, eng2], axis=1)"
   ]
  },
  {
   "cell_type": "code",
   "execution_count": 72,
   "metadata": {},
   "outputs": [],
   "source": [
    "region = pd.read_csv('regions.csv')"
   ]
  },
  {
   "cell_type": "code",
   "execution_count": 73,
   "metadata": {},
   "outputs": [
    {
     "output_type": "execute_result",
     "data": {
      "text/plain": [
       "                                    School Name        Region\n",
       "0   Massachusetts Institute of Technology (MIT)  Northeastern\n",
       "1      California Institute of Technology (CIT)    California\n",
       "2                           Harvey Mudd College    California\n",
       "3  Polytechnic University of New York, Brooklyn  Northeastern\n",
       "4                                  Cooper Union  Northeastern"
      ],
      "text/html": "<div>\n<style scoped>\n    .dataframe tbody tr th:only-of-type {\n        vertical-align: middle;\n    }\n\n    .dataframe tbody tr th {\n        vertical-align: top;\n    }\n\n    .dataframe thead th {\n        text-align: right;\n    }\n</style>\n<table border=\"1\" class=\"dataframe\">\n  <thead>\n    <tr style=\"text-align: right;\">\n      <th></th>\n      <th>School Name</th>\n      <th>Region</th>\n    </tr>\n  </thead>\n  <tbody>\n    <tr>\n      <th>0</th>\n      <td>Massachusetts Institute of Technology (MIT)</td>\n      <td>Northeastern</td>\n    </tr>\n    <tr>\n      <th>1</th>\n      <td>California Institute of Technology (CIT)</td>\n      <td>California</td>\n    </tr>\n    <tr>\n      <th>2</th>\n      <td>Harvey Mudd College</td>\n      <td>California</td>\n    </tr>\n    <tr>\n      <th>3</th>\n      <td>Polytechnic University of New York, Brooklyn</td>\n      <td>Northeastern</td>\n    </tr>\n    <tr>\n      <th>4</th>\n      <td>Cooper Union</td>\n      <td>Northeastern</td>\n    </tr>\n  </tbody>\n</table>\n</div>"
     },
     "metadata": {},
     "execution_count": 73
    }
   ],
   "source": [
    "region.head()"
   ]
  },
  {
   "cell_type": "code",
   "execution_count": 74,
   "metadata": {},
   "outputs": [
    {
     "output_type": "execute_result",
     "data": {
      "text/plain": [
       "                                      School Name  School Type  \\\n",
       "0     Massachusetts Institute of Technology (MIT)  Engineering   \n",
       "1        California Institute of Technology (CIT)  Engineering   \n",
       "2                             Harvey Mudd College  Engineering   \n",
       "3    Polytechnic University of New York, Brooklyn  Engineering   \n",
       "4                                    Cooper Union  Engineering   \n",
       "..                                            ...          ...   \n",
       "264                            Harvard University   Ivy League   \n",
       "265                    University of Pennsylvania   Ivy League   \n",
       "266                            Cornell University   Ivy League   \n",
       "267                              Brown University   Ivy League   \n",
       "268                           Columbia University   Ivy League   \n",
       "\n",
       "    Starting Median Salary Mid-Career Median Salary        Region  \n",
       "0              $72,200.00              $126,000.00   Northeastern  \n",
       "1              $75,500.00              $123,000.00     California  \n",
       "2              $71,800.00              $122,000.00     California  \n",
       "3              $62,400.00              $114,000.00   Northeastern  \n",
       "4              $62,200.00              $114,000.00   Northeastern  \n",
       "..                     ...                      ...           ...  \n",
       "264            $63,400.00              $124,000.00   Northeastern  \n",
       "265            $60,900.00              $120,000.00   Northeastern  \n",
       "266            $60,300.00              $110,000.00   Northeastern  \n",
       "267            $56,200.00              $109,000.00   Northeastern  \n",
       "268            $59,400.00              $107,000.00   Northeastern  \n",
       "\n",
       "[269 rows x 5 columns]"
      ],
      "text/html": "<div>\n<style scoped>\n    .dataframe tbody tr th:only-of-type {\n        vertical-align: middle;\n    }\n\n    .dataframe tbody tr th {\n        vertical-align: top;\n    }\n\n    .dataframe thead th {\n        text-align: right;\n    }\n</style>\n<table border=\"1\" class=\"dataframe\">\n  <thead>\n    <tr style=\"text-align: right;\">\n      <th></th>\n      <th>School Name</th>\n      <th>School Type</th>\n      <th>Starting Median Salary</th>\n      <th>Mid-Career Median Salary</th>\n      <th>Region</th>\n    </tr>\n  </thead>\n  <tbody>\n    <tr>\n      <th>0</th>\n      <td>Massachusetts Institute of Technology (MIT)</td>\n      <td>Engineering</td>\n      <td>$72,200.00</td>\n      <td>$126,000.00</td>\n      <td>Northeastern</td>\n    </tr>\n    <tr>\n      <th>1</th>\n      <td>California Institute of Technology (CIT)</td>\n      <td>Engineering</td>\n      <td>$75,500.00</td>\n      <td>$123,000.00</td>\n      <td>California</td>\n    </tr>\n    <tr>\n      <th>2</th>\n      <td>Harvey Mudd College</td>\n      <td>Engineering</td>\n      <td>$71,800.00</td>\n      <td>$122,000.00</td>\n      <td>California</td>\n    </tr>\n    <tr>\n      <th>3</th>\n      <td>Polytechnic University of New York, Brooklyn</td>\n      <td>Engineering</td>\n      <td>$62,400.00</td>\n      <td>$114,000.00</td>\n      <td>Northeastern</td>\n    </tr>\n    <tr>\n      <th>4</th>\n      <td>Cooper Union</td>\n      <td>Engineering</td>\n      <td>$62,200.00</td>\n      <td>$114,000.00</td>\n      <td>Northeastern</td>\n    </tr>\n    <tr>\n      <th>...</th>\n      <td>...</td>\n      <td>...</td>\n      <td>...</td>\n      <td>...</td>\n      <td>...</td>\n    </tr>\n    <tr>\n      <th>264</th>\n      <td>Harvard University</td>\n      <td>Ivy League</td>\n      <td>$63,400.00</td>\n      <td>$124,000.00</td>\n      <td>Northeastern</td>\n    </tr>\n    <tr>\n      <th>265</th>\n      <td>University of Pennsylvania</td>\n      <td>Ivy League</td>\n      <td>$60,900.00</td>\n      <td>$120,000.00</td>\n      <td>Northeastern</td>\n    </tr>\n    <tr>\n      <th>266</th>\n      <td>Cornell University</td>\n      <td>Ivy League</td>\n      <td>$60,300.00</td>\n      <td>$110,000.00</td>\n      <td>Northeastern</td>\n    </tr>\n    <tr>\n      <th>267</th>\n      <td>Brown University</td>\n      <td>Ivy League</td>\n      <td>$56,200.00</td>\n      <td>$109,000.00</td>\n      <td>Northeastern</td>\n    </tr>\n    <tr>\n      <th>268</th>\n      <td>Columbia University</td>\n      <td>Ivy League</td>\n      <td>$59,400.00</td>\n      <td>$107,000.00</td>\n      <td>Northeastern</td>\n    </tr>\n  </tbody>\n</table>\n<p>269 rows × 5 columns</p>\n</div>"
     },
     "metadata": {},
     "execution_count": 74
    }
   ],
   "source": [
    "pd.merge(schools, region, on='School Name')"
   ]
  },
  {
   "cell_type": "code",
   "execution_count": 78,
   "metadata": {},
   "outputs": [
    {
     "output_type": "execute_result",
     "data": {
      "text/plain": [
       "                             School Name School Type Starting Median Salary  \\\n",
       "0                      Dartmouth College  Ivy League            $58,000.00    \n",
       "1                   Princeton University  Ivy League            $66,500.00    \n",
       "2                        Yale University  Ivy League            $59,100.00    \n",
       "3                     Harvard University  Ivy League            $63,400.00    \n",
       "4             University of Pennsylvania  Ivy League            $60,900.00    \n",
       "..                                   ...         ...                    ...   \n",
       "244         Austin Peay State University         NaN                    NaN   \n",
       "245           Pittsburg State University         NaN                    NaN   \n",
       "246             Southern Utah University         NaN                    NaN   \n",
       "247  Montana State University - Billings         NaN                    NaN   \n",
       "248         Black Hills State University         NaN                    NaN   \n",
       "\n",
       "    Mid-Career Median Salary        Region  \n",
       "0               $134,000.00   Northeastern  \n",
       "1               $131,000.00   Northeastern  \n",
       "2               $126,000.00   Northeastern  \n",
       "3               $124,000.00   Northeastern  \n",
       "4               $120,000.00   Northeastern  \n",
       "..                       ...           ...  \n",
       "244                      NaN      Southern  \n",
       "245                      NaN    Midwestern  \n",
       "246                      NaN       Western  \n",
       "247                      NaN       Western  \n",
       "248                      NaN    Midwestern  \n",
       "\n",
       "[249 rows x 5 columns]"
      ],
      "text/html": "<div>\n<style scoped>\n    .dataframe tbody tr th:only-of-type {\n        vertical-align: middle;\n    }\n\n    .dataframe tbody tr th {\n        vertical-align: top;\n    }\n\n    .dataframe thead th {\n        text-align: right;\n    }\n</style>\n<table border=\"1\" class=\"dataframe\">\n  <thead>\n    <tr style=\"text-align: right;\">\n      <th></th>\n      <th>School Name</th>\n      <th>School Type</th>\n      <th>Starting Median Salary</th>\n      <th>Mid-Career Median Salary</th>\n      <th>Region</th>\n    </tr>\n  </thead>\n  <tbody>\n    <tr>\n      <th>0</th>\n      <td>Dartmouth College</td>\n      <td>Ivy League</td>\n      <td>$58,000.00</td>\n      <td>$134,000.00</td>\n      <td>Northeastern</td>\n    </tr>\n    <tr>\n      <th>1</th>\n      <td>Princeton University</td>\n      <td>Ivy League</td>\n      <td>$66,500.00</td>\n      <td>$131,000.00</td>\n      <td>Northeastern</td>\n    </tr>\n    <tr>\n      <th>2</th>\n      <td>Yale University</td>\n      <td>Ivy League</td>\n      <td>$59,100.00</td>\n      <td>$126,000.00</td>\n      <td>Northeastern</td>\n    </tr>\n    <tr>\n      <th>3</th>\n      <td>Harvard University</td>\n      <td>Ivy League</td>\n      <td>$63,400.00</td>\n      <td>$124,000.00</td>\n      <td>Northeastern</td>\n    </tr>\n    <tr>\n      <th>4</th>\n      <td>University of Pennsylvania</td>\n      <td>Ivy League</td>\n      <td>$60,900.00</td>\n      <td>$120,000.00</td>\n      <td>Northeastern</td>\n    </tr>\n    <tr>\n      <th>...</th>\n      <td>...</td>\n      <td>...</td>\n      <td>...</td>\n      <td>...</td>\n      <td>...</td>\n    </tr>\n    <tr>\n      <th>244</th>\n      <td>Austin Peay State University</td>\n      <td>NaN</td>\n      <td>NaN</td>\n      <td>NaN</td>\n      <td>Southern</td>\n    </tr>\n    <tr>\n      <th>245</th>\n      <td>Pittsburg State University</td>\n      <td>NaN</td>\n      <td>NaN</td>\n      <td>NaN</td>\n      <td>Midwestern</td>\n    </tr>\n    <tr>\n      <th>246</th>\n      <td>Southern Utah University</td>\n      <td>NaN</td>\n      <td>NaN</td>\n      <td>NaN</td>\n      <td>Western</td>\n    </tr>\n    <tr>\n      <th>247</th>\n      <td>Montana State University - Billings</td>\n      <td>NaN</td>\n      <td>NaN</td>\n      <td>NaN</td>\n      <td>Western</td>\n    </tr>\n    <tr>\n      <th>248</th>\n      <td>Black Hills State University</td>\n      <td>NaN</td>\n      <td>NaN</td>\n      <td>NaN</td>\n      <td>Midwestern</td>\n    </tr>\n  </tbody>\n</table>\n<p>249 rows × 5 columns</p>\n</div>"
     },
     "metadata": {},
     "execution_count": 78
    }
   ],
   "source": [
    "pd.merge(ivies.drop_duplicates(), region.drop_duplicates(), how='right')"
   ]
  },
  {
   "cell_type": "code",
   "execution_count": 82,
   "metadata": {},
   "outputs": [
    {
     "output_type": "execute_result",
     "data": {
      "text/plain": [
       "                  School Name School Type Starting Median Salary  \\\n",
       "0           Dartmouth College  Ivy League            $58,000.00    \n",
       "1        Princeton University  Ivy League            $66,500.00    \n",
       "2             Yale University  Ivy League            $59,100.00    \n",
       "3          Harvard University  Ivy League            $63,400.00    \n",
       "4  University of Pennsylvania  Ivy League            $60,900.00    \n",
       "\n",
       "  Mid-Career Median Salary  \n",
       "0             $134,000.00   \n",
       "1             $131,000.00   \n",
       "2             $126,000.00   \n",
       "3             $124,000.00   \n",
       "4             $120,000.00   "
      ],
      "text/html": "<div>\n<style scoped>\n    .dataframe tbody tr th:only-of-type {\n        vertical-align: middle;\n    }\n\n    .dataframe tbody tr th {\n        vertical-align: top;\n    }\n\n    .dataframe thead th {\n        text-align: right;\n    }\n</style>\n<table border=\"1\" class=\"dataframe\">\n  <thead>\n    <tr style=\"text-align: right;\">\n      <th></th>\n      <th>School Name</th>\n      <th>School Type</th>\n      <th>Starting Median Salary</th>\n      <th>Mid-Career Median Salary</th>\n    </tr>\n  </thead>\n  <tbody>\n    <tr>\n      <th>0</th>\n      <td>Dartmouth College</td>\n      <td>Ivy League</td>\n      <td>$58,000.00</td>\n      <td>$134,000.00</td>\n    </tr>\n    <tr>\n      <th>1</th>\n      <td>Princeton University</td>\n      <td>Ivy League</td>\n      <td>$66,500.00</td>\n      <td>$131,000.00</td>\n    </tr>\n    <tr>\n      <th>2</th>\n      <td>Yale University</td>\n      <td>Ivy League</td>\n      <td>$59,100.00</td>\n      <td>$126,000.00</td>\n    </tr>\n    <tr>\n      <th>3</th>\n      <td>Harvard University</td>\n      <td>Ivy League</td>\n      <td>$63,400.00</td>\n      <td>$124,000.00</td>\n    </tr>\n    <tr>\n      <th>4</th>\n      <td>University of Pennsylvania</td>\n      <td>Ivy League</td>\n      <td>$60,900.00</td>\n      <td>$120,000.00</td>\n    </tr>\n  </tbody>\n</table>\n</div>"
     },
     "metadata": {},
     "execution_count": 82
    }
   ],
   "source": [
    "ivies.head()"
   ]
  },
  {
   "cell_type": "code",
   "execution_count": 83,
   "metadata": {},
   "outputs": [
    {
     "output_type": "execute_result",
     "data": {
      "text/plain": [
       "                                    School Name        Region\n",
       "0   Massachusetts Institute of Technology (MIT)  Northeastern\n",
       "1      California Institute of Technology (CIT)    California\n",
       "2                           Harvey Mudd College    California\n",
       "3  Polytechnic University of New York, Brooklyn  Northeastern\n",
       "4                                  Cooper Union  Northeastern"
      ],
      "text/html": "<div>\n<style scoped>\n    .dataframe tbody tr th:only-of-type {\n        vertical-align: middle;\n    }\n\n    .dataframe tbody tr th {\n        vertical-align: top;\n    }\n\n    .dataframe thead th {\n        text-align: right;\n    }\n</style>\n<table border=\"1\" class=\"dataframe\">\n  <thead>\n    <tr style=\"text-align: right;\">\n      <th></th>\n      <th>School Name</th>\n      <th>Region</th>\n    </tr>\n  </thead>\n  <tbody>\n    <tr>\n      <th>0</th>\n      <td>Massachusetts Institute of Technology (MIT)</td>\n      <td>Northeastern</td>\n    </tr>\n    <tr>\n      <th>1</th>\n      <td>California Institute of Technology (CIT)</td>\n      <td>California</td>\n    </tr>\n    <tr>\n      <th>2</th>\n      <td>Harvey Mudd College</td>\n      <td>California</td>\n    </tr>\n    <tr>\n      <th>3</th>\n      <td>Polytechnic University of New York, Brooklyn</td>\n      <td>Northeastern</td>\n    </tr>\n    <tr>\n      <th>4</th>\n      <td>Cooper Union</td>\n      <td>Northeastern</td>\n    </tr>\n  </tbody>\n</table>\n</div>"
     },
     "metadata": {},
     "execution_count": 83
    }
   ],
   "source": [
    "region.head()"
   ]
  },
  {
   "cell_type": "code",
   "execution_count": null,
   "metadata": {},
   "outputs": [],
   "source": []
  }
 ]
}