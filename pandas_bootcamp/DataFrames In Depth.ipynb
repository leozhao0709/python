{
 "cells": [
  {
   "cell_type": "code",
   "execution_count": 92,
   "metadata": {},
   "outputs": [],
   "source": [
    "import pandas as pd\n",
    "import numpy as np"
   ]
  },
  {
   "cell_type": "code",
   "execution_count": 23,
   "metadata": {},
   "outputs": [],
   "source": [
    "players = pd.read_csv('soccer.csv')"
   ]
  },
  {
   "cell_type": "code",
   "execution_count": 24,
   "metadata": {},
   "outputs": [
    {
     "output_type": "execute_result",
     "data": {
      "text/plain": [
       "                  name               club  age position  position_cat  \\\n",
       "0       Alexis Sanchez            Arsenal   28       LW             1   \n",
       "1           Mesut Ozil            Arsenal   28       AM             1   \n",
       "96         Eden Hazard            Chelsea   26       LW             1   \n",
       "97         Diego Costa            Chelsea   28       CF             1   \n",
       "108     N%27Golo Kante            Chelsea   26       DM             2   \n",
       "218  Philippe Coutinho          Liverpool   25       AM             1   \n",
       "244    Kevin De Bruyne    Manchester+City   26       AM             1   \n",
       "245      Sergio Aguero    Manchester+City   29       CF             1   \n",
       "246    Raheem Sterling    Manchester+City   22       LW             1   \n",
       "264      Romelu Lukaku  Manchester+United   24       CF             1   \n",
       "267         Paul Pogba  Manchester+United   24       CM             2   \n",
       "380          Dele Alli          Tottenham   21       CM             2   \n",
       "381         Harry Kane          Tottenham   23       CF             1   \n",
       "\n",
       "     market_value  page_views  fpl_value fpl_sel  fpl_points  region  \\\n",
       "0            65.0        4329       12.0  17.10%         264       3   \n",
       "1            50.0        4395        9.5   5.60%         167       2   \n",
       "96           75.0        4220       10.5   2.30%         224       2   \n",
       "97           50.0        4454       10.0   3.00%         196       2   \n",
       "108          50.0        4042        5.0  13.80%          83       2   \n",
       "218          45.0        2958        9.0  30.80%         171       3   \n",
       "244          65.0        2252       10.0  17.50%         199       2   \n",
       "245          65.0        4046       11.5   9.70%         175       3   \n",
       "246          45.0        2074        8.0   3.80%         149       1   \n",
       "264          50.0        3727       11.5  45.00%         221       2   \n",
       "267          75.0        7435        8.0  19.50%         115       2   \n",
       "380          45.0        4626        9.5  38.60%         225       1   \n",
       "381          60.0        4161       12.5  35.10%         224       1   \n",
       "\n",
       "    nationality  new_foreign  age_cat  club_id  big_club  new_signing  \n",
       "0         Chile            0        4        1         1            0  \n",
       "1       Germany            0        4        1         1            0  \n",
       "96      Belgium            0        3        5         1            0  \n",
       "97        Spain            0        4        5         1            0  \n",
       "108      France            0        3        5         1            1  \n",
       "218      Brazil            0        3       10         1            0  \n",
       "244     Belgium            0        3       11         1            0  \n",
       "245   Argentina            0        4       11         1            0  \n",
       "246     England            0        2       11         1            0  \n",
       "264     Belgium            0        2       12         1            0  \n",
       "267      France            0        2       12         1            1  \n",
       "380     England            0        1       17         1            0  \n",
       "381     England            0        2       17         1            0  "
      ],
      "text/html": "<div>\n<style scoped>\n    .dataframe tbody tr th:only-of-type {\n        vertical-align: middle;\n    }\n\n    .dataframe tbody tr th {\n        vertical-align: top;\n    }\n\n    .dataframe thead th {\n        text-align: right;\n    }\n</style>\n<table border=\"1\" class=\"dataframe\">\n  <thead>\n    <tr style=\"text-align: right;\">\n      <th></th>\n      <th>name</th>\n      <th>club</th>\n      <th>age</th>\n      <th>position</th>\n      <th>position_cat</th>\n      <th>market_value</th>\n      <th>page_views</th>\n      <th>fpl_value</th>\n      <th>fpl_sel</th>\n      <th>fpl_points</th>\n      <th>region</th>\n      <th>nationality</th>\n      <th>new_foreign</th>\n      <th>age_cat</th>\n      <th>club_id</th>\n      <th>big_club</th>\n      <th>new_signing</th>\n    </tr>\n  </thead>\n  <tbody>\n    <tr>\n      <th>0</th>\n      <td>Alexis Sanchez</td>\n      <td>Arsenal</td>\n      <td>28</td>\n      <td>LW</td>\n      <td>1</td>\n      <td>65.0</td>\n      <td>4329</td>\n      <td>12.0</td>\n      <td>17.10%</td>\n      <td>264</td>\n      <td>3</td>\n      <td>Chile</td>\n      <td>0</td>\n      <td>4</td>\n      <td>1</td>\n      <td>1</td>\n      <td>0</td>\n    </tr>\n    <tr>\n      <th>1</th>\n      <td>Mesut Ozil</td>\n      <td>Arsenal</td>\n      <td>28</td>\n      <td>AM</td>\n      <td>1</td>\n      <td>50.0</td>\n      <td>4395</td>\n      <td>9.5</td>\n      <td>5.60%</td>\n      <td>167</td>\n      <td>2</td>\n      <td>Germany</td>\n      <td>0</td>\n      <td>4</td>\n      <td>1</td>\n      <td>1</td>\n      <td>0</td>\n    </tr>\n    <tr>\n      <th>96</th>\n      <td>Eden Hazard</td>\n      <td>Chelsea</td>\n      <td>26</td>\n      <td>LW</td>\n      <td>1</td>\n      <td>75.0</td>\n      <td>4220</td>\n      <td>10.5</td>\n      <td>2.30%</td>\n      <td>224</td>\n      <td>2</td>\n      <td>Belgium</td>\n      <td>0</td>\n      <td>3</td>\n      <td>5</td>\n      <td>1</td>\n      <td>0</td>\n    </tr>\n    <tr>\n      <th>97</th>\n      <td>Diego Costa</td>\n      <td>Chelsea</td>\n      <td>28</td>\n      <td>CF</td>\n      <td>1</td>\n      <td>50.0</td>\n      <td>4454</td>\n      <td>10.0</td>\n      <td>3.00%</td>\n      <td>196</td>\n      <td>2</td>\n      <td>Spain</td>\n      <td>0</td>\n      <td>4</td>\n      <td>5</td>\n      <td>1</td>\n      <td>0</td>\n    </tr>\n    <tr>\n      <th>108</th>\n      <td>N%27Golo Kante</td>\n      <td>Chelsea</td>\n      <td>26</td>\n      <td>DM</td>\n      <td>2</td>\n      <td>50.0</td>\n      <td>4042</td>\n      <td>5.0</td>\n      <td>13.80%</td>\n      <td>83</td>\n      <td>2</td>\n      <td>France</td>\n      <td>0</td>\n      <td>3</td>\n      <td>5</td>\n      <td>1</td>\n      <td>1</td>\n    </tr>\n    <tr>\n      <th>218</th>\n      <td>Philippe Coutinho</td>\n      <td>Liverpool</td>\n      <td>25</td>\n      <td>AM</td>\n      <td>1</td>\n      <td>45.0</td>\n      <td>2958</td>\n      <td>9.0</td>\n      <td>30.80%</td>\n      <td>171</td>\n      <td>3</td>\n      <td>Brazil</td>\n      <td>0</td>\n      <td>3</td>\n      <td>10</td>\n      <td>1</td>\n      <td>0</td>\n    </tr>\n    <tr>\n      <th>244</th>\n      <td>Kevin De Bruyne</td>\n      <td>Manchester+City</td>\n      <td>26</td>\n      <td>AM</td>\n      <td>1</td>\n      <td>65.0</td>\n      <td>2252</td>\n      <td>10.0</td>\n      <td>17.50%</td>\n      <td>199</td>\n      <td>2</td>\n      <td>Belgium</td>\n      <td>0</td>\n      <td>3</td>\n      <td>11</td>\n      <td>1</td>\n      <td>0</td>\n    </tr>\n    <tr>\n      <th>245</th>\n      <td>Sergio Aguero</td>\n      <td>Manchester+City</td>\n      <td>29</td>\n      <td>CF</td>\n      <td>1</td>\n      <td>65.0</td>\n      <td>4046</td>\n      <td>11.5</td>\n      <td>9.70%</td>\n      <td>175</td>\n      <td>3</td>\n      <td>Argentina</td>\n      <td>0</td>\n      <td>4</td>\n      <td>11</td>\n      <td>1</td>\n      <td>0</td>\n    </tr>\n    <tr>\n      <th>246</th>\n      <td>Raheem Sterling</td>\n      <td>Manchester+City</td>\n      <td>22</td>\n      <td>LW</td>\n      <td>1</td>\n      <td>45.0</td>\n      <td>2074</td>\n      <td>8.0</td>\n      <td>3.80%</td>\n      <td>149</td>\n      <td>1</td>\n      <td>England</td>\n      <td>0</td>\n      <td>2</td>\n      <td>11</td>\n      <td>1</td>\n      <td>0</td>\n    </tr>\n    <tr>\n      <th>264</th>\n      <td>Romelu Lukaku</td>\n      <td>Manchester+United</td>\n      <td>24</td>\n      <td>CF</td>\n      <td>1</td>\n      <td>50.0</td>\n      <td>3727</td>\n      <td>11.5</td>\n      <td>45.00%</td>\n      <td>221</td>\n      <td>2</td>\n      <td>Belgium</td>\n      <td>0</td>\n      <td>2</td>\n      <td>12</td>\n      <td>1</td>\n      <td>0</td>\n    </tr>\n    <tr>\n      <th>267</th>\n      <td>Paul Pogba</td>\n      <td>Manchester+United</td>\n      <td>24</td>\n      <td>CM</td>\n      <td>2</td>\n      <td>75.0</td>\n      <td>7435</td>\n      <td>8.0</td>\n      <td>19.50%</td>\n      <td>115</td>\n      <td>2</td>\n      <td>France</td>\n      <td>0</td>\n      <td>2</td>\n      <td>12</td>\n      <td>1</td>\n      <td>1</td>\n    </tr>\n    <tr>\n      <th>380</th>\n      <td>Dele Alli</td>\n      <td>Tottenham</td>\n      <td>21</td>\n      <td>CM</td>\n      <td>2</td>\n      <td>45.0</td>\n      <td>4626</td>\n      <td>9.5</td>\n      <td>38.60%</td>\n      <td>225</td>\n      <td>1</td>\n      <td>England</td>\n      <td>0</td>\n      <td>1</td>\n      <td>17</td>\n      <td>1</td>\n      <td>0</td>\n    </tr>\n    <tr>\n      <th>381</th>\n      <td>Harry Kane</td>\n      <td>Tottenham</td>\n      <td>23</td>\n      <td>CF</td>\n      <td>1</td>\n      <td>60.0</td>\n      <td>4161</td>\n      <td>12.5</td>\n      <td>35.10%</td>\n      <td>224</td>\n      <td>1</td>\n      <td>England</td>\n      <td>0</td>\n      <td>2</td>\n      <td>17</td>\n      <td>1</td>\n      <td>0</td>\n    </tr>\n  </tbody>\n</table>\n</div>"
     },
     "metadata": {},
     "execution_count": 24
    }
   ],
   "source": [
    "players.loc[players.market_value > 40]"
   ]
  },
  {
   "cell_type": "code",
   "execution_count": 25,
   "metadata": {},
   "outputs": [
    {
     "output_type": "execute_result",
     "data": {
      "text/plain": [
       "14"
      ]
     },
     "metadata": {},
     "execution_count": 25
    }
   ],
   "source": [
    "players.position.unique().size"
   ]
  },
  {
   "cell_type": "code",
   "execution_count": 26,
   "metadata": {},
   "outputs": [
    {
     "output_type": "execute_result",
     "data": {
      "text/plain": [
       "0      LW\n",
       "1      AM\n",
       "2      GK\n",
       "3      RW\n",
       "4      CB\n",
       "       ..\n",
       "460    CM\n",
       "461    LB\n",
       "462    RB\n",
       "463    CF\n",
       "464    CF\n",
       "Name: position, Length: 465, dtype: object"
      ]
     },
     "metadata": {},
     "execution_count": 26
    }
   ],
   "source": [
    "players.position"
   ]
  },
  {
   "cell_type": "code",
   "execution_count": 27,
   "metadata": {},
   "outputs": [
    {
     "output_type": "execute_result",
     "data": {
      "text/plain": [
       "0      False\n",
       "1      False\n",
       "2      False\n",
       "3      False\n",
       "4       True\n",
       "       ...  \n",
       "460    False\n",
       "461     True\n",
       "462     True\n",
       "463    False\n",
       "464    False\n",
       "Name: position, Length: 465, dtype: bool"
      ]
     },
     "metadata": {},
     "execution_count": 27
    }
   ],
   "source": [
    "players.position.isin(['LB', 'RB', 'CB'])"
   ]
  },
  {
   "cell_type": "code",
   "execution_count": 28,
   "metadata": {},
   "outputs": [
    {
     "output_type": "execute_result",
     "data": {
      "text/plain": [
       "                  name      club  age position  position_cat  market_value  \\\n",
       "4    Laurent Koscielny   Arsenal   31       CB             3          22.0   \n",
       "5      Hector Bellerin   Arsenal   22       RB             3          30.0   \n",
       "7        Nacho Monreal   Arsenal   31       LB             3          13.0   \n",
       "8     Shkodran Mustafi   Arsenal   25       CB             3          30.0   \n",
       "17    Gabriel Paulista   Arsenal   26       CB             3          13.0   \n",
       "..                 ...       ...  ...      ...           ...           ...   \n",
       "455    Aaron Cresswell  West+Ham   27       LB             3          12.0   \n",
       "458     Angelo Ogbonna  West+Ham   29       CB             3           9.0   \n",
       "459     Pablo Zabaleta  West+Ham   32       RB             3           7.0   \n",
       "461     Arthur Masuaku  West+Ham   23       LB             3           7.0   \n",
       "462          Sam Byram  West+Ham   23       RB             3           4.5   \n",
       "\n",
       "     page_views  fpl_value fpl_sel  fpl_points  region nationality  \\\n",
       "4           912        6.0   0.70%         121       2      France   \n",
       "5          1675        6.0  13.70%         119       2       Spain   \n",
       "7           555        5.5   4.70%         115       2       Spain   \n",
       "8          1877        5.5   4.00%          90       2     Germany   \n",
       "17          552        5.0   0.10%          45       3      Brazil   \n",
       "..          ...        ...     ...         ...     ...         ...   \n",
       "455         380        5.0   1.30%          60       1     England   \n",
       "458         247        4.5   1.10%          45       2       Italy   \n",
       "459         698        5.0   2.70%          45       3   Argentina   \n",
       "461         199        4.5   0.20%          34       4    Congo DR   \n",
       "462         198        4.5   0.30%          29       1     England   \n",
       "\n",
       "     new_foreign  age_cat  club_id  big_club  new_signing  \n",
       "4              0        4        1         1            0  \n",
       "5              0        2        1         1            0  \n",
       "7              0        4        1         1            0  \n",
       "8              0        3        1         1            1  \n",
       "17             0        3        1         1            0  \n",
       "..           ...      ...      ...       ...          ...  \n",
       "455            0        3       20         0            0  \n",
       "458            0        4       20         0            0  \n",
       "459            0        5       20         0            0  \n",
       "461            0        2       20         0            1  \n",
       "462            0        2       20         0            0  \n",
       "\n",
       "[154 rows x 17 columns]"
      ],
      "text/html": "<div>\n<style scoped>\n    .dataframe tbody tr th:only-of-type {\n        vertical-align: middle;\n    }\n\n    .dataframe tbody tr th {\n        vertical-align: top;\n    }\n\n    .dataframe thead th {\n        text-align: right;\n    }\n</style>\n<table border=\"1\" class=\"dataframe\">\n  <thead>\n    <tr style=\"text-align: right;\">\n      <th></th>\n      <th>name</th>\n      <th>club</th>\n      <th>age</th>\n      <th>position</th>\n      <th>position_cat</th>\n      <th>market_value</th>\n      <th>page_views</th>\n      <th>fpl_value</th>\n      <th>fpl_sel</th>\n      <th>fpl_points</th>\n      <th>region</th>\n      <th>nationality</th>\n      <th>new_foreign</th>\n      <th>age_cat</th>\n      <th>club_id</th>\n      <th>big_club</th>\n      <th>new_signing</th>\n    </tr>\n  </thead>\n  <tbody>\n    <tr>\n      <th>4</th>\n      <td>Laurent Koscielny</td>\n      <td>Arsenal</td>\n      <td>31</td>\n      <td>CB</td>\n      <td>3</td>\n      <td>22.0</td>\n      <td>912</td>\n      <td>6.0</td>\n      <td>0.70%</td>\n      <td>121</td>\n      <td>2</td>\n      <td>France</td>\n      <td>0</td>\n      <td>4</td>\n      <td>1</td>\n      <td>1</td>\n      <td>0</td>\n    </tr>\n    <tr>\n      <th>5</th>\n      <td>Hector Bellerin</td>\n      <td>Arsenal</td>\n      <td>22</td>\n      <td>RB</td>\n      <td>3</td>\n      <td>30.0</td>\n      <td>1675</td>\n      <td>6.0</td>\n      <td>13.70%</td>\n      <td>119</td>\n      <td>2</td>\n      <td>Spain</td>\n      <td>0</td>\n      <td>2</td>\n      <td>1</td>\n      <td>1</td>\n      <td>0</td>\n    </tr>\n    <tr>\n      <th>7</th>\n      <td>Nacho Monreal</td>\n      <td>Arsenal</td>\n      <td>31</td>\n      <td>LB</td>\n      <td>3</td>\n      <td>13.0</td>\n      <td>555</td>\n      <td>5.5</td>\n      <td>4.70%</td>\n      <td>115</td>\n      <td>2</td>\n      <td>Spain</td>\n      <td>0</td>\n      <td>4</td>\n      <td>1</td>\n      <td>1</td>\n      <td>0</td>\n    </tr>\n    <tr>\n      <th>8</th>\n      <td>Shkodran Mustafi</td>\n      <td>Arsenal</td>\n      <td>25</td>\n      <td>CB</td>\n      <td>3</td>\n      <td>30.0</td>\n      <td>1877</td>\n      <td>5.5</td>\n      <td>4.00%</td>\n      <td>90</td>\n      <td>2</td>\n      <td>Germany</td>\n      <td>0</td>\n      <td>3</td>\n      <td>1</td>\n      <td>1</td>\n      <td>1</td>\n    </tr>\n    <tr>\n      <th>17</th>\n      <td>Gabriel Paulista</td>\n      <td>Arsenal</td>\n      <td>26</td>\n      <td>CB</td>\n      <td>3</td>\n      <td>13.0</td>\n      <td>552</td>\n      <td>5.0</td>\n      <td>0.10%</td>\n      <td>45</td>\n      <td>3</td>\n      <td>Brazil</td>\n      <td>0</td>\n      <td>3</td>\n      <td>1</td>\n      <td>1</td>\n      <td>0</td>\n    </tr>\n    <tr>\n      <th>...</th>\n      <td>...</td>\n      <td>...</td>\n      <td>...</td>\n      <td>...</td>\n      <td>...</td>\n      <td>...</td>\n      <td>...</td>\n      <td>...</td>\n      <td>...</td>\n      <td>...</td>\n      <td>...</td>\n      <td>...</td>\n      <td>...</td>\n      <td>...</td>\n      <td>...</td>\n      <td>...</td>\n      <td>...</td>\n    </tr>\n    <tr>\n      <th>455</th>\n      <td>Aaron Cresswell</td>\n      <td>West+Ham</td>\n      <td>27</td>\n      <td>LB</td>\n      <td>3</td>\n      <td>12.0</td>\n      <td>380</td>\n      <td>5.0</td>\n      <td>1.30%</td>\n      <td>60</td>\n      <td>1</td>\n      <td>England</td>\n      <td>0</td>\n      <td>3</td>\n      <td>20</td>\n      <td>0</td>\n      <td>0</td>\n    </tr>\n    <tr>\n      <th>458</th>\n      <td>Angelo Ogbonna</td>\n      <td>West+Ham</td>\n      <td>29</td>\n      <td>CB</td>\n      <td>3</td>\n      <td>9.0</td>\n      <td>247</td>\n      <td>4.5</td>\n      <td>1.10%</td>\n      <td>45</td>\n      <td>2</td>\n      <td>Italy</td>\n      <td>0</td>\n      <td>4</td>\n      <td>20</td>\n      <td>0</td>\n      <td>0</td>\n    </tr>\n    <tr>\n      <th>459</th>\n      <td>Pablo Zabaleta</td>\n      <td>West+Ham</td>\n      <td>32</td>\n      <td>RB</td>\n      <td>3</td>\n      <td>7.0</td>\n      <td>698</td>\n      <td>5.0</td>\n      <td>2.70%</td>\n      <td>45</td>\n      <td>3</td>\n      <td>Argentina</td>\n      <td>0</td>\n      <td>5</td>\n      <td>20</td>\n      <td>0</td>\n      <td>0</td>\n    </tr>\n    <tr>\n      <th>461</th>\n      <td>Arthur Masuaku</td>\n      <td>West+Ham</td>\n      <td>23</td>\n      <td>LB</td>\n      <td>3</td>\n      <td>7.0</td>\n      <td>199</td>\n      <td>4.5</td>\n      <td>0.20%</td>\n      <td>34</td>\n      <td>4</td>\n      <td>Congo DR</td>\n      <td>0</td>\n      <td>2</td>\n      <td>20</td>\n      <td>0</td>\n      <td>1</td>\n    </tr>\n    <tr>\n      <th>462</th>\n      <td>Sam Byram</td>\n      <td>West+Ham</td>\n      <td>23</td>\n      <td>RB</td>\n      <td>3</td>\n      <td>4.5</td>\n      <td>198</td>\n      <td>4.5</td>\n      <td>0.30%</td>\n      <td>29</td>\n      <td>1</td>\n      <td>England</td>\n      <td>0</td>\n      <td>2</td>\n      <td>20</td>\n      <td>0</td>\n      <td>0</td>\n    </tr>\n  </tbody>\n</table>\n<p>154 rows × 17 columns</p>\n</div>"
     },
     "metadata": {},
     "execution_count": 28
    }
   ],
   "source": [
    "players.loc[players.position.isin(['LB', 'RB', 'CB'])]"
   ]
  },
  {
   "cell_type": "code",
   "execution_count": 29,
   "metadata": {},
   "outputs": [
    {
     "output_type": "execute_result",
     "data": {
      "text/plain": [
       "                  name               club  age position  position_cat  \\\n",
       "223    Nathaniel Clyne          Liverpool   26       RB             3   \n",
       "4    Laurent Koscielny            Arsenal   31       CB             3   \n",
       "257    Vincent Kompany    Manchester+City   31       CB             3   \n",
       "262     Ederson Moraes    Manchester+City   23       GK             4   \n",
       "270        Daley Blind  Manchester+United   27       LB             3   \n",
       "\n",
       "     market_value  page_views  fpl_value fpl_sel  fpl_points  region  \\\n",
       "223          21.0         602        5.5   4.50%         129       1   \n",
       "4            22.0         912        6.0   0.70%         121       2   \n",
       "257          22.0         935        6.0   6.60%          57       2   \n",
       "262          22.0         297        5.5   4.50%           0       3   \n",
       "270          22.0         867        5.5   1.20%          98       2   \n",
       "\n",
       "     nationality  new_foreign  age_cat  club_id  big_club  new_signing  \n",
       "223      England            0        3       10         1            0  \n",
       "4         France            0        4        1         1            0  \n",
       "257      Belgium            0        4       11         1            0  \n",
       "262       Brazil            1        2       11         1            0  \n",
       "270  Netherlands            0        3       12         1            0  "
      ],
      "text/html": "<div>\n<style scoped>\n    .dataframe tbody tr th:only-of-type {\n        vertical-align: middle;\n    }\n\n    .dataframe tbody tr th {\n        vertical-align: top;\n    }\n\n    .dataframe thead th {\n        text-align: right;\n    }\n</style>\n<table border=\"1\" class=\"dataframe\">\n  <thead>\n    <tr style=\"text-align: right;\">\n      <th></th>\n      <th>name</th>\n      <th>club</th>\n      <th>age</th>\n      <th>position</th>\n      <th>position_cat</th>\n      <th>market_value</th>\n      <th>page_views</th>\n      <th>fpl_value</th>\n      <th>fpl_sel</th>\n      <th>fpl_points</th>\n      <th>region</th>\n      <th>nationality</th>\n      <th>new_foreign</th>\n      <th>age_cat</th>\n      <th>club_id</th>\n      <th>big_club</th>\n      <th>new_signing</th>\n    </tr>\n  </thead>\n  <tbody>\n    <tr>\n      <th>223</th>\n      <td>Nathaniel Clyne</td>\n      <td>Liverpool</td>\n      <td>26</td>\n      <td>RB</td>\n      <td>3</td>\n      <td>21.0</td>\n      <td>602</td>\n      <td>5.5</td>\n      <td>4.50%</td>\n      <td>129</td>\n      <td>1</td>\n      <td>England</td>\n      <td>0</td>\n      <td>3</td>\n      <td>10</td>\n      <td>1</td>\n      <td>0</td>\n    </tr>\n    <tr>\n      <th>4</th>\n      <td>Laurent Koscielny</td>\n      <td>Arsenal</td>\n      <td>31</td>\n      <td>CB</td>\n      <td>3</td>\n      <td>22.0</td>\n      <td>912</td>\n      <td>6.0</td>\n      <td>0.70%</td>\n      <td>121</td>\n      <td>2</td>\n      <td>France</td>\n      <td>0</td>\n      <td>4</td>\n      <td>1</td>\n      <td>1</td>\n      <td>0</td>\n    </tr>\n    <tr>\n      <th>257</th>\n      <td>Vincent Kompany</td>\n      <td>Manchester+City</td>\n      <td>31</td>\n      <td>CB</td>\n      <td>3</td>\n      <td>22.0</td>\n      <td>935</td>\n      <td>6.0</td>\n      <td>6.60%</td>\n      <td>57</td>\n      <td>2</td>\n      <td>Belgium</td>\n      <td>0</td>\n      <td>4</td>\n      <td>11</td>\n      <td>1</td>\n      <td>0</td>\n    </tr>\n    <tr>\n      <th>262</th>\n      <td>Ederson Moraes</td>\n      <td>Manchester+City</td>\n      <td>23</td>\n      <td>GK</td>\n      <td>4</td>\n      <td>22.0</td>\n      <td>297</td>\n      <td>5.5</td>\n      <td>4.50%</td>\n      <td>0</td>\n      <td>3</td>\n      <td>Brazil</td>\n      <td>1</td>\n      <td>2</td>\n      <td>11</td>\n      <td>1</td>\n      <td>0</td>\n    </tr>\n    <tr>\n      <th>270</th>\n      <td>Daley Blind</td>\n      <td>Manchester+United</td>\n      <td>27</td>\n      <td>LB</td>\n      <td>3</td>\n      <td>22.0</td>\n      <td>867</td>\n      <td>5.5</td>\n      <td>1.20%</td>\n      <td>98</td>\n      <td>2</td>\n      <td>Netherlands</td>\n      <td>0</td>\n      <td>3</td>\n      <td>12</td>\n      <td>1</td>\n      <td>0</td>\n    </tr>\n  </tbody>\n</table>\n</div>"
     },
     "metadata": {},
     "execution_count": 29
    }
   ],
   "source": [
    "players.loc[players.market_value.between(20, 40, inclusive=False)].sort_values(by='market_value').head()"
   ]
  },
  {
   "cell_type": "code",
   "execution_count": 30,
   "metadata": {},
   "outputs": [
    {
     "output_type": "execute_result",
     "data": {
      "text/plain": [
       "                    name      club  age position  position_cat  market_value  \\\n",
       "5        Hector Bellerin   Arsenal   22       RB             3          30.0   \n",
       "8       Shkodran Mustafi   Arsenal   25       CB             3          30.0   \n",
       "9             Alex Iwobi   Arsenal   21       LW             1          10.0   \n",
       "10          Granit Xhaka   Arsenal   24       DM             2          35.0   \n",
       "11          Granit Xhaka   Arsenal   24       DM             2          35.0   \n",
       "..                   ...       ...  ...      ...           ...           ...   \n",
       "456         Pedro Obiang  West+Ham   25       CM             2           9.0   \n",
       "460  Edimilson Fernandes  West+Ham   21       CM             2           5.0   \n",
       "461       Arthur Masuaku  West+Ham   23       LB             3           7.0   \n",
       "462            Sam Byram  West+Ham   23       RB             3           4.5   \n",
       "463      Ashley Fletcher  West+Ham   21       CF             1           1.0   \n",
       "\n",
       "     page_views  fpl_value fpl_sel  fpl_points  region  nationality  \\\n",
       "5          1675        6.0  13.70%         119       2        Spain   \n",
       "8          1877        5.5   4.00%          90       2      Germany   \n",
       "9          1812        5.5   1.00%          89       4      Nigeria   \n",
       "10         1815        5.5   2.00%          85       2  Switzerland   \n",
       "11         1815        5.5   2.00%          85       2  Switzerland   \n",
       "..          ...        ...     ...         ...     ...          ...   \n",
       "456         286        4.5   0.30%          55       2        Spain   \n",
       "460         288        4.5   0.40%          38       2  Switzerland   \n",
       "461         199        4.5   0.20%          34       4     Congo DR   \n",
       "462         198        4.5   0.30%          29       1      England   \n",
       "463         412        4.5   5.90%          16       1      England   \n",
       "\n",
       "     new_foreign  age_cat  club_id  big_club  new_signing  \n",
       "5              0        2        1         1            0  \n",
       "8              0        3        1         1            1  \n",
       "9              0        1        1         1            0  \n",
       "10             0        2        1         1            0  \n",
       "11             0        2        1         1            0  \n",
       "..           ...      ...      ...       ...          ...  \n",
       "456            0        3       20         0            0  \n",
       "460            0        1       20         0            1  \n",
       "461            0        2       20         0            1  \n",
       "462            0        2       20         0            0  \n",
       "463            0        1       20         0            1  \n",
       "\n",
       "[172 rows x 17 columns]"
      ],
      "text/html": "<div>\n<style scoped>\n    .dataframe tbody tr th:only-of-type {\n        vertical-align: middle;\n    }\n\n    .dataframe tbody tr th {\n        vertical-align: top;\n    }\n\n    .dataframe thead th {\n        text-align: right;\n    }\n</style>\n<table border=\"1\" class=\"dataframe\">\n  <thead>\n    <tr style=\"text-align: right;\">\n      <th></th>\n      <th>name</th>\n      <th>club</th>\n      <th>age</th>\n      <th>position</th>\n      <th>position_cat</th>\n      <th>market_value</th>\n      <th>page_views</th>\n      <th>fpl_value</th>\n      <th>fpl_sel</th>\n      <th>fpl_points</th>\n      <th>region</th>\n      <th>nationality</th>\n      <th>new_foreign</th>\n      <th>age_cat</th>\n      <th>club_id</th>\n      <th>big_club</th>\n      <th>new_signing</th>\n    </tr>\n  </thead>\n  <tbody>\n    <tr>\n      <th>5</th>\n      <td>Hector Bellerin</td>\n      <td>Arsenal</td>\n      <td>22</td>\n      <td>RB</td>\n      <td>3</td>\n      <td>30.0</td>\n      <td>1675</td>\n      <td>6.0</td>\n      <td>13.70%</td>\n      <td>119</td>\n      <td>2</td>\n      <td>Spain</td>\n      <td>0</td>\n      <td>2</td>\n      <td>1</td>\n      <td>1</td>\n      <td>0</td>\n    </tr>\n    <tr>\n      <th>8</th>\n      <td>Shkodran Mustafi</td>\n      <td>Arsenal</td>\n      <td>25</td>\n      <td>CB</td>\n      <td>3</td>\n      <td>30.0</td>\n      <td>1877</td>\n      <td>5.5</td>\n      <td>4.00%</td>\n      <td>90</td>\n      <td>2</td>\n      <td>Germany</td>\n      <td>0</td>\n      <td>3</td>\n      <td>1</td>\n      <td>1</td>\n      <td>1</td>\n    </tr>\n    <tr>\n      <th>9</th>\n      <td>Alex Iwobi</td>\n      <td>Arsenal</td>\n      <td>21</td>\n      <td>LW</td>\n      <td>1</td>\n      <td>10.0</td>\n      <td>1812</td>\n      <td>5.5</td>\n      <td>1.00%</td>\n      <td>89</td>\n      <td>4</td>\n      <td>Nigeria</td>\n      <td>0</td>\n      <td>1</td>\n      <td>1</td>\n      <td>1</td>\n      <td>0</td>\n    </tr>\n    <tr>\n      <th>10</th>\n      <td>Granit Xhaka</td>\n      <td>Arsenal</td>\n      <td>24</td>\n      <td>DM</td>\n      <td>2</td>\n      <td>35.0</td>\n      <td>1815</td>\n      <td>5.5</td>\n      <td>2.00%</td>\n      <td>85</td>\n      <td>2</td>\n      <td>Switzerland</td>\n      <td>0</td>\n      <td>2</td>\n      <td>1</td>\n      <td>1</td>\n      <td>0</td>\n    </tr>\n    <tr>\n      <th>11</th>\n      <td>Granit Xhaka</td>\n      <td>Arsenal</td>\n      <td>24</td>\n      <td>DM</td>\n      <td>2</td>\n      <td>35.0</td>\n      <td>1815</td>\n      <td>5.5</td>\n      <td>2.00%</td>\n      <td>85</td>\n      <td>2</td>\n      <td>Switzerland</td>\n      <td>0</td>\n      <td>2</td>\n      <td>1</td>\n      <td>1</td>\n      <td>0</td>\n    </tr>\n    <tr>\n      <th>...</th>\n      <td>...</td>\n      <td>...</td>\n      <td>...</td>\n      <td>...</td>\n      <td>...</td>\n      <td>...</td>\n      <td>...</td>\n      <td>...</td>\n      <td>...</td>\n      <td>...</td>\n      <td>...</td>\n      <td>...</td>\n      <td>...</td>\n      <td>...</td>\n      <td>...</td>\n      <td>...</td>\n      <td>...</td>\n    </tr>\n    <tr>\n      <th>456</th>\n      <td>Pedro Obiang</td>\n      <td>West+Ham</td>\n      <td>25</td>\n      <td>CM</td>\n      <td>2</td>\n      <td>9.0</td>\n      <td>286</td>\n      <td>4.5</td>\n      <td>0.30%</td>\n      <td>55</td>\n      <td>2</td>\n      <td>Spain</td>\n      <td>0</td>\n      <td>3</td>\n      <td>20</td>\n      <td>0</td>\n      <td>0</td>\n    </tr>\n    <tr>\n      <th>460</th>\n      <td>Edimilson Fernandes</td>\n      <td>West+Ham</td>\n      <td>21</td>\n      <td>CM</td>\n      <td>2</td>\n      <td>5.0</td>\n      <td>288</td>\n      <td>4.5</td>\n      <td>0.40%</td>\n      <td>38</td>\n      <td>2</td>\n      <td>Switzerland</td>\n      <td>0</td>\n      <td>1</td>\n      <td>20</td>\n      <td>0</td>\n      <td>1</td>\n    </tr>\n    <tr>\n      <th>461</th>\n      <td>Arthur Masuaku</td>\n      <td>West+Ham</td>\n      <td>23</td>\n      <td>LB</td>\n      <td>3</td>\n      <td>7.0</td>\n      <td>199</td>\n      <td>4.5</td>\n      <td>0.20%</td>\n      <td>34</td>\n      <td>4</td>\n      <td>Congo DR</td>\n      <td>0</td>\n      <td>2</td>\n      <td>20</td>\n      <td>0</td>\n      <td>1</td>\n    </tr>\n    <tr>\n      <th>462</th>\n      <td>Sam Byram</td>\n      <td>West+Ham</td>\n      <td>23</td>\n      <td>RB</td>\n      <td>3</td>\n      <td>4.5</td>\n      <td>198</td>\n      <td>4.5</td>\n      <td>0.30%</td>\n      <td>29</td>\n      <td>1</td>\n      <td>England</td>\n      <td>0</td>\n      <td>2</td>\n      <td>20</td>\n      <td>0</td>\n      <td>0</td>\n    </tr>\n    <tr>\n      <th>463</th>\n      <td>Ashley Fletcher</td>\n      <td>West+Ham</td>\n      <td>21</td>\n      <td>CF</td>\n      <td>1</td>\n      <td>1.0</td>\n      <td>412</td>\n      <td>4.5</td>\n      <td>5.90%</td>\n      <td>16</td>\n      <td>1</td>\n      <td>England</td>\n      <td>0</td>\n      <td>1</td>\n      <td>20</td>\n      <td>0</td>\n      <td>1</td>\n    </tr>\n  </tbody>\n</table>\n<p>172 rows × 17 columns</p>\n</div>"
     },
     "metadata": {},
     "execution_count": 30
    }
   ],
   "source": [
    "players.loc[players.age <= 25]"
   ]
  },
  {
   "cell_type": "code",
   "execution_count": 31,
   "metadata": {},
   "outputs": [
    {
     "output_type": "execute_result",
     "data": {
      "text/plain": [
       "                 name               club  age position  position_cat  \\\n",
       "29     Sead Kolasinac            Arsenal   24       LB             3   \n",
       "54         Brad Smith        Bournemouth   23       LB             3   \n",
       "112            Kenedy            Chelsea   21       LB             3   \n",
       "128   Jeffrey Schlupp     Crystal+Palace   24       LB             3   \n",
       "212      Ben Chilwell     Leicester+City   20       LB             3   \n",
       "236    Alberto Moreno          Liverpool   25       LB             3   \n",
       "281         Luke Shaw  Manchester+United   22       LB             3   \n",
       "294      Paul Dummett   Newcastle+United   25       LB             3   \n",
       "298  Massadio Haidara   Newcastle+United   24       LB             3   \n",
       "328      Matt Targett        Southampton   21       LB             3   \n",
       "354        Josh Tymon         Stoke+City   18       LB             3   \n",
       "369  Stephen Kingsley            Swansea   22       LB             3   \n",
       "389        Ben Davies          Tottenham   24       LB             3   \n",
       "461    Arthur Masuaku           West+Ham   23       LB             3   \n",
       "\n",
       "     market_value  page_views  fpl_value fpl_sel  fpl_points  region  \\\n",
       "29          15.00         618        6.0   6.90%           0       2   \n",
       "54           2.00         297        4.0   3.30%           4       4   \n",
       "112          7.00         566        5.0   0.10%           3       3   \n",
       "128          8.00         385        5.0   0.30%          47       4   \n",
       "212          2.50         288        4.5   0.80%          19       1   \n",
       "236         10.00         397        4.5   0.30%           8       2   \n",
       "281         20.00         947        5.0   0.40%          45       1   \n",
       "294          3.50         177        4.5   1.00%           0       2   \n",
       "298          1.50         114        4.0   0.50%           0       2   \n",
       "328          3.00         110        4.5   0.20%          12       1   \n",
       "354          1.00         120        4.5   0.10%           9       1   \n",
       "369          0.75         168        4.5   0.20%          29       2   \n",
       "389         12.00         396        5.5   1.80%          90       2   \n",
       "461          7.00         199        4.5   0.20%          34       4   \n",
       "\n",
       "    nationality  new_foreign  age_cat  club_id  big_club  new_signing  \n",
       "29       Bosnia            1        2        1         1            0  \n",
       "54    Australia            0        2        2         0            0  \n",
       "112      Brazil            0        1        5         1            0  \n",
       "128       Ghana            0        2        6         0            0  \n",
       "212     England            0        1        9         0            0  \n",
       "236       Spain            0        3       10         1            0  \n",
       "281     England            0        2       12         1            0  \n",
       "294       Wales            0        3       13         0            0  \n",
       "298      France            0        2       13         0            0  \n",
       "328     England            0        1       14         0            0  \n",
       "354     England            0        1       15         0            0  \n",
       "369    Scotland            0        2       16         0            0  \n",
       "389       Wales            0        2       17         1            0  \n",
       "461    Congo DR            0        2       20         0            1  "
      ],
      "text/html": "<div>\n<style scoped>\n    .dataframe tbody tr th:only-of-type {\n        vertical-align: middle;\n    }\n\n    .dataframe tbody tr th {\n        vertical-align: top;\n    }\n\n    .dataframe thead th {\n        text-align: right;\n    }\n</style>\n<table border=\"1\" class=\"dataframe\">\n  <thead>\n    <tr style=\"text-align: right;\">\n      <th></th>\n      <th>name</th>\n      <th>club</th>\n      <th>age</th>\n      <th>position</th>\n      <th>position_cat</th>\n      <th>market_value</th>\n      <th>page_views</th>\n      <th>fpl_value</th>\n      <th>fpl_sel</th>\n      <th>fpl_points</th>\n      <th>region</th>\n      <th>nationality</th>\n      <th>new_foreign</th>\n      <th>age_cat</th>\n      <th>club_id</th>\n      <th>big_club</th>\n      <th>new_signing</th>\n    </tr>\n  </thead>\n  <tbody>\n    <tr>\n      <th>29</th>\n      <td>Sead Kolasinac</td>\n      <td>Arsenal</td>\n      <td>24</td>\n      <td>LB</td>\n      <td>3</td>\n      <td>15.00</td>\n      <td>618</td>\n      <td>6.0</td>\n      <td>6.90%</td>\n      <td>0</td>\n      <td>2</td>\n      <td>Bosnia</td>\n      <td>1</td>\n      <td>2</td>\n      <td>1</td>\n      <td>1</td>\n      <td>0</td>\n    </tr>\n    <tr>\n      <th>54</th>\n      <td>Brad Smith</td>\n      <td>Bournemouth</td>\n      <td>23</td>\n      <td>LB</td>\n      <td>3</td>\n      <td>2.00</td>\n      <td>297</td>\n      <td>4.0</td>\n      <td>3.30%</td>\n      <td>4</td>\n      <td>4</td>\n      <td>Australia</td>\n      <td>0</td>\n      <td>2</td>\n      <td>2</td>\n      <td>0</td>\n      <td>0</td>\n    </tr>\n    <tr>\n      <th>112</th>\n      <td>Kenedy</td>\n      <td>Chelsea</td>\n      <td>21</td>\n      <td>LB</td>\n      <td>3</td>\n      <td>7.00</td>\n      <td>566</td>\n      <td>5.0</td>\n      <td>0.10%</td>\n      <td>3</td>\n      <td>3</td>\n      <td>Brazil</td>\n      <td>0</td>\n      <td>1</td>\n      <td>5</td>\n      <td>1</td>\n      <td>0</td>\n    </tr>\n    <tr>\n      <th>128</th>\n      <td>Jeffrey Schlupp</td>\n      <td>Crystal+Palace</td>\n      <td>24</td>\n      <td>LB</td>\n      <td>3</td>\n      <td>8.00</td>\n      <td>385</td>\n      <td>5.0</td>\n      <td>0.30%</td>\n      <td>47</td>\n      <td>4</td>\n      <td>Ghana</td>\n      <td>0</td>\n      <td>2</td>\n      <td>6</td>\n      <td>0</td>\n      <td>0</td>\n    </tr>\n    <tr>\n      <th>212</th>\n      <td>Ben Chilwell</td>\n      <td>Leicester+City</td>\n      <td>20</td>\n      <td>LB</td>\n      <td>3</td>\n      <td>2.50</td>\n      <td>288</td>\n      <td>4.5</td>\n      <td>0.80%</td>\n      <td>19</td>\n      <td>1</td>\n      <td>England</td>\n      <td>0</td>\n      <td>1</td>\n      <td>9</td>\n      <td>0</td>\n      <td>0</td>\n    </tr>\n    <tr>\n      <th>236</th>\n      <td>Alberto Moreno</td>\n      <td>Liverpool</td>\n      <td>25</td>\n      <td>LB</td>\n      <td>3</td>\n      <td>10.00</td>\n      <td>397</td>\n      <td>4.5</td>\n      <td>0.30%</td>\n      <td>8</td>\n      <td>2</td>\n      <td>Spain</td>\n      <td>0</td>\n      <td>3</td>\n      <td>10</td>\n      <td>1</td>\n      <td>0</td>\n    </tr>\n    <tr>\n      <th>281</th>\n      <td>Luke Shaw</td>\n      <td>Manchester+United</td>\n      <td>22</td>\n      <td>LB</td>\n      <td>3</td>\n      <td>20.00</td>\n      <td>947</td>\n      <td>5.0</td>\n      <td>0.40%</td>\n      <td>45</td>\n      <td>1</td>\n      <td>England</td>\n      <td>0</td>\n      <td>2</td>\n      <td>12</td>\n      <td>1</td>\n      <td>0</td>\n    </tr>\n    <tr>\n      <th>294</th>\n      <td>Paul Dummett</td>\n      <td>Newcastle+United</td>\n      <td>25</td>\n      <td>LB</td>\n      <td>3</td>\n      <td>3.50</td>\n      <td>177</td>\n      <td>4.5</td>\n      <td>1.00%</td>\n      <td>0</td>\n      <td>2</td>\n      <td>Wales</td>\n      <td>0</td>\n      <td>3</td>\n      <td>13</td>\n      <td>0</td>\n      <td>0</td>\n    </tr>\n    <tr>\n      <th>298</th>\n      <td>Massadio Haidara</td>\n      <td>Newcastle+United</td>\n      <td>24</td>\n      <td>LB</td>\n      <td>3</td>\n      <td>1.50</td>\n      <td>114</td>\n      <td>4.0</td>\n      <td>0.50%</td>\n      <td>0</td>\n      <td>2</td>\n      <td>France</td>\n      <td>0</td>\n      <td>2</td>\n      <td>13</td>\n      <td>0</td>\n      <td>0</td>\n    </tr>\n    <tr>\n      <th>328</th>\n      <td>Matt Targett</td>\n      <td>Southampton</td>\n      <td>21</td>\n      <td>LB</td>\n      <td>3</td>\n      <td>3.00</td>\n      <td>110</td>\n      <td>4.5</td>\n      <td>0.20%</td>\n      <td>12</td>\n      <td>1</td>\n      <td>England</td>\n      <td>0</td>\n      <td>1</td>\n      <td>14</td>\n      <td>0</td>\n      <td>0</td>\n    </tr>\n    <tr>\n      <th>354</th>\n      <td>Josh Tymon</td>\n      <td>Stoke+City</td>\n      <td>18</td>\n      <td>LB</td>\n      <td>3</td>\n      <td>1.00</td>\n      <td>120</td>\n      <td>4.5</td>\n      <td>0.10%</td>\n      <td>9</td>\n      <td>1</td>\n      <td>England</td>\n      <td>0</td>\n      <td>1</td>\n      <td>15</td>\n      <td>0</td>\n      <td>0</td>\n    </tr>\n    <tr>\n      <th>369</th>\n      <td>Stephen Kingsley</td>\n      <td>Swansea</td>\n      <td>22</td>\n      <td>LB</td>\n      <td>3</td>\n      <td>0.75</td>\n      <td>168</td>\n      <td>4.5</td>\n      <td>0.20%</td>\n      <td>29</td>\n      <td>2</td>\n      <td>Scotland</td>\n      <td>0</td>\n      <td>2</td>\n      <td>16</td>\n      <td>0</td>\n      <td>0</td>\n    </tr>\n    <tr>\n      <th>389</th>\n      <td>Ben Davies</td>\n      <td>Tottenham</td>\n      <td>24</td>\n      <td>LB</td>\n      <td>3</td>\n      <td>12.00</td>\n      <td>396</td>\n      <td>5.5</td>\n      <td>1.80%</td>\n      <td>90</td>\n      <td>2</td>\n      <td>Wales</td>\n      <td>0</td>\n      <td>2</td>\n      <td>17</td>\n      <td>1</td>\n      <td>0</td>\n    </tr>\n    <tr>\n      <th>461</th>\n      <td>Arthur Masuaku</td>\n      <td>West+Ham</td>\n      <td>23</td>\n      <td>LB</td>\n      <td>3</td>\n      <td>7.00</td>\n      <td>199</td>\n      <td>4.5</td>\n      <td>0.20%</td>\n      <td>34</td>\n      <td>4</td>\n      <td>Congo DR</td>\n      <td>0</td>\n      <td>2</td>\n      <td>20</td>\n      <td>0</td>\n      <td>1</td>\n    </tr>\n  </tbody>\n</table>\n</div>"
     },
     "metadata": {},
     "execution_count": 31
    }
   ],
   "source": [
    "players.loc[(players.position == 'LB') & (players.age <= 25)]"
   ]
  },
  {
   "cell_type": "code",
   "execution_count": 32,
   "metadata": {},
   "outputs": [
    {
     "output_type": "execute_result",
     "data": {
      "text/plain": [
       "                    name      club  age position  position_cat  market_value  \\\n",
       "2              Petr Cech   Arsenal   35       GK             4           7.0   \n",
       "5        Hector Bellerin   Arsenal   22       RB             3          30.0   \n",
       "6         Olivier Giroud   Arsenal   30       CF             1          22.0   \n",
       "9             Alex Iwobi   Arsenal   21       LW             1          10.0   \n",
       "18          Kieran Gibbs   Arsenal   27       LB             3          10.0   \n",
       "..                   ...       ...  ...      ...           ...           ...   \n",
       "460  Edimilson Fernandes  West+Ham   21       CM             2           5.0   \n",
       "461       Arthur Masuaku  West+Ham   23       LB             3           7.0   \n",
       "462            Sam Byram  West+Ham   23       RB             3           4.5   \n",
       "463      Ashley Fletcher  West+Ham   21       CF             1           1.0   \n",
       "464         Diafra Sakho  West+Ham   27       CF             1          10.0   \n",
       "\n",
       "     page_views  fpl_value fpl_sel  fpl_points  region     nationality  \\\n",
       "2          1529        5.5   5.90%         134       2  Czech Republic   \n",
       "5          1675        6.0  13.70%         119       2           Spain   \n",
       "6          2230        8.5   2.50%         116       2          France   \n",
       "9          1812        5.5   1.00%          89       4         Nigeria   \n",
       "18          489        5.0   0.50%          45       1         England   \n",
       "..          ...        ...     ...         ...     ...             ...   \n",
       "460         288        4.5   0.40%          38       2     Switzerland   \n",
       "461         199        4.5   0.20%          34       4        Congo DR   \n",
       "462         198        4.5   0.30%          29       1         England   \n",
       "463         412        4.5   5.90%          16       1         England   \n",
       "464         214        5.5   0.10%          12       4         Senegal   \n",
       "\n",
       "     new_foreign  age_cat  club_id  big_club  new_signing  \n",
       "2              0        6        1         1            0  \n",
       "5              0        2        1         1            0  \n",
       "6              0        4        1         1            0  \n",
       "9              0        1        1         1            0  \n",
       "18             0        3        1         1            0  \n",
       "..           ...      ...      ...       ...          ...  \n",
       "460            0        1       20         0            1  \n",
       "461            0        2       20         0            1  \n",
       "462            0        2       20         0            0  \n",
       "463            0        1       20         0            1  \n",
       "464            0        3       20         0            0  \n",
       "\n",
       "[341 rows x 17 columns]"
      ],
      "text/html": "<div>\n<style scoped>\n    .dataframe tbody tr th:only-of-type {\n        vertical-align: middle;\n    }\n\n    .dataframe tbody tr th {\n        vertical-align: top;\n    }\n\n    .dataframe thead th {\n        text-align: right;\n    }\n</style>\n<table border=\"1\" class=\"dataframe\">\n  <thead>\n    <tr style=\"text-align: right;\">\n      <th></th>\n      <th>name</th>\n      <th>club</th>\n      <th>age</th>\n      <th>position</th>\n      <th>position_cat</th>\n      <th>market_value</th>\n      <th>page_views</th>\n      <th>fpl_value</th>\n      <th>fpl_sel</th>\n      <th>fpl_points</th>\n      <th>region</th>\n      <th>nationality</th>\n      <th>new_foreign</th>\n      <th>age_cat</th>\n      <th>club_id</th>\n      <th>big_club</th>\n      <th>new_signing</th>\n    </tr>\n  </thead>\n  <tbody>\n    <tr>\n      <th>2</th>\n      <td>Petr Cech</td>\n      <td>Arsenal</td>\n      <td>35</td>\n      <td>GK</td>\n      <td>4</td>\n      <td>7.0</td>\n      <td>1529</td>\n      <td>5.5</td>\n      <td>5.90%</td>\n      <td>134</td>\n      <td>2</td>\n      <td>Czech Republic</td>\n      <td>0</td>\n      <td>6</td>\n      <td>1</td>\n      <td>1</td>\n      <td>0</td>\n    </tr>\n    <tr>\n      <th>5</th>\n      <td>Hector Bellerin</td>\n      <td>Arsenal</td>\n      <td>22</td>\n      <td>RB</td>\n      <td>3</td>\n      <td>30.0</td>\n      <td>1675</td>\n      <td>6.0</td>\n      <td>13.70%</td>\n      <td>119</td>\n      <td>2</td>\n      <td>Spain</td>\n      <td>0</td>\n      <td>2</td>\n      <td>1</td>\n      <td>1</td>\n      <td>0</td>\n    </tr>\n    <tr>\n      <th>6</th>\n      <td>Olivier Giroud</td>\n      <td>Arsenal</td>\n      <td>30</td>\n      <td>CF</td>\n      <td>1</td>\n      <td>22.0</td>\n      <td>2230</td>\n      <td>8.5</td>\n      <td>2.50%</td>\n      <td>116</td>\n      <td>2</td>\n      <td>France</td>\n      <td>0</td>\n      <td>4</td>\n      <td>1</td>\n      <td>1</td>\n      <td>0</td>\n    </tr>\n    <tr>\n      <th>9</th>\n      <td>Alex Iwobi</td>\n      <td>Arsenal</td>\n      <td>21</td>\n      <td>LW</td>\n      <td>1</td>\n      <td>10.0</td>\n      <td>1812</td>\n      <td>5.5</td>\n      <td>1.00%</td>\n      <td>89</td>\n      <td>4</td>\n      <td>Nigeria</td>\n      <td>0</td>\n      <td>1</td>\n      <td>1</td>\n      <td>1</td>\n      <td>0</td>\n    </tr>\n    <tr>\n      <th>18</th>\n      <td>Kieran Gibbs</td>\n      <td>Arsenal</td>\n      <td>27</td>\n      <td>LB</td>\n      <td>3</td>\n      <td>10.0</td>\n      <td>489</td>\n      <td>5.0</td>\n      <td>0.50%</td>\n      <td>45</td>\n      <td>1</td>\n      <td>England</td>\n      <td>0</td>\n      <td>3</td>\n      <td>1</td>\n      <td>1</td>\n      <td>0</td>\n    </tr>\n    <tr>\n      <th>...</th>\n      <td>...</td>\n      <td>...</td>\n      <td>...</td>\n      <td>...</td>\n      <td>...</td>\n      <td>...</td>\n      <td>...</td>\n      <td>...</td>\n      <td>...</td>\n      <td>...</td>\n      <td>...</td>\n      <td>...</td>\n      <td>...</td>\n      <td>...</td>\n      <td>...</td>\n      <td>...</td>\n      <td>...</td>\n    </tr>\n    <tr>\n      <th>460</th>\n      <td>Edimilson Fernandes</td>\n      <td>West+Ham</td>\n      <td>21</td>\n      <td>CM</td>\n      <td>2</td>\n      <td>5.0</td>\n      <td>288</td>\n      <td>4.5</td>\n      <td>0.40%</td>\n      <td>38</td>\n      <td>2</td>\n      <td>Switzerland</td>\n      <td>0</td>\n      <td>1</td>\n      <td>20</td>\n      <td>0</td>\n      <td>1</td>\n    </tr>\n    <tr>\n      <th>461</th>\n      <td>Arthur Masuaku</td>\n      <td>West+Ham</td>\n      <td>23</td>\n      <td>LB</td>\n      <td>3</td>\n      <td>7.0</td>\n      <td>199</td>\n      <td>4.5</td>\n      <td>0.20%</td>\n      <td>34</td>\n      <td>4</td>\n      <td>Congo DR</td>\n      <td>0</td>\n      <td>2</td>\n      <td>20</td>\n      <td>0</td>\n      <td>1</td>\n    </tr>\n    <tr>\n      <th>462</th>\n      <td>Sam Byram</td>\n      <td>West+Ham</td>\n      <td>23</td>\n      <td>RB</td>\n      <td>3</td>\n      <td>4.5</td>\n      <td>198</td>\n      <td>4.5</td>\n      <td>0.30%</td>\n      <td>29</td>\n      <td>1</td>\n      <td>England</td>\n      <td>0</td>\n      <td>2</td>\n      <td>20</td>\n      <td>0</td>\n      <td>0</td>\n    </tr>\n    <tr>\n      <th>463</th>\n      <td>Ashley Fletcher</td>\n      <td>West+Ham</td>\n      <td>21</td>\n      <td>CF</td>\n      <td>1</td>\n      <td>1.0</td>\n      <td>412</td>\n      <td>4.5</td>\n      <td>5.90%</td>\n      <td>16</td>\n      <td>1</td>\n      <td>England</td>\n      <td>0</td>\n      <td>1</td>\n      <td>20</td>\n      <td>0</td>\n      <td>1</td>\n    </tr>\n    <tr>\n      <th>464</th>\n      <td>Diafra Sakho</td>\n      <td>West+Ham</td>\n      <td>27</td>\n      <td>CF</td>\n      <td>1</td>\n      <td>10.0</td>\n      <td>214</td>\n      <td>5.5</td>\n      <td>0.10%</td>\n      <td>12</td>\n      <td>4</td>\n      <td>Senegal</td>\n      <td>0</td>\n      <td>3</td>\n      <td>20</td>\n      <td>0</td>\n      <td>0</td>\n    </tr>\n  </tbody>\n</table>\n<p>341 rows × 17 columns</p>\n</div>"
     },
     "metadata": {},
     "execution_count": 32
    }
   ],
   "source": [
    "players[~(players.market_value > 10) | (players.position.isin(['RB', 'CF']))]"
   ]
  },
  {
   "cell_type": "code",
   "execution_count": 33,
   "metadata": {},
   "outputs": [
    {
     "output_type": "execute_result",
     "data": {
      "text/plain": [
       "                         club  age position  position_cat  market_value  \\\n",
       "name                                                                      \n",
       "Alexis Sanchez        Arsenal   28       LW             1          65.0   \n",
       "Mesut Ozil            Arsenal   28       AM             1          50.0   \n",
       "Petr Cech             Arsenal   35       GK             4           7.0   \n",
       "Theo Walcott          Arsenal   28       RW             1          20.0   \n",
       "Laurent Koscielny     Arsenal   31       CB             3          22.0   \n",
       "...                       ...  ...      ...           ...           ...   \n",
       "Edimilson Fernandes  West+Ham   21       CM             2           5.0   \n",
       "Arthur Masuaku       West+Ham   23       LB             3           7.0   \n",
       "Sam Byram            West+Ham   23       RB             3           4.5   \n",
       "Ashley Fletcher      West+Ham   21       CF             1           1.0   \n",
       "Diafra Sakho         West+Ham   27       CF             1          10.0   \n",
       "\n",
       "                     page_views  fpl_value fpl_sel  fpl_points  region  \\\n",
       "name                                                                     \n",
       "Alexis Sanchez             4329       12.0  17.10%         264       3   \n",
       "Mesut Ozil                 4395        9.5   5.60%         167       2   \n",
       "Petr Cech                  1529        5.5   5.90%         134       2   \n",
       "Theo Walcott               2393        7.5   1.50%         122       1   \n",
       "Laurent Koscielny           912        6.0   0.70%         121       2   \n",
       "...                         ...        ...     ...         ...     ...   \n",
       "Edimilson Fernandes         288        4.5   0.40%          38       2   \n",
       "Arthur Masuaku              199        4.5   0.20%          34       4   \n",
       "Sam Byram                   198        4.5   0.30%          29       1   \n",
       "Ashley Fletcher             412        4.5   5.90%          16       1   \n",
       "Diafra Sakho                214        5.5   0.10%          12       4   \n",
       "\n",
       "                        nationality  new_foreign  age_cat  club_id  big_club  \\\n",
       "name                                                                           \n",
       "Alexis Sanchez                Chile            0        4        1         1   \n",
       "Mesut Ozil                  Germany            0        4        1         1   \n",
       "Petr Cech            Czech Republic            0        6        1         1   \n",
       "Theo Walcott                England            0        4        1         1   \n",
       "Laurent Koscielny            France            0        4        1         1   \n",
       "...                             ...          ...      ...      ...       ...   \n",
       "Edimilson Fernandes     Switzerland            0        1       20         0   \n",
       "Arthur Masuaku             Congo DR            0        2       20         0   \n",
       "Sam Byram                   England            0        2       20         0   \n",
       "Ashley Fletcher             England            0        1       20         0   \n",
       "Diafra Sakho                Senegal            0        3       20         0   \n",
       "\n",
       "                     new_signing  \n",
       "name                              \n",
       "Alexis Sanchez                 0  \n",
       "Mesut Ozil                     0  \n",
       "Petr Cech                      0  \n",
       "Theo Walcott                   0  \n",
       "Laurent Koscielny              0  \n",
       "...                          ...  \n",
       "Edimilson Fernandes            1  \n",
       "Arthur Masuaku                 1  \n",
       "Sam Byram                      0  \n",
       "Ashley Fletcher                1  \n",
       "Diafra Sakho                   0  \n",
       "\n",
       "[465 rows x 16 columns]"
      ],
      "text/html": "<div>\n<style scoped>\n    .dataframe tbody tr th:only-of-type {\n        vertical-align: middle;\n    }\n\n    .dataframe tbody tr th {\n        vertical-align: top;\n    }\n\n    .dataframe thead th {\n        text-align: right;\n    }\n</style>\n<table border=\"1\" class=\"dataframe\">\n  <thead>\n    <tr style=\"text-align: right;\">\n      <th></th>\n      <th>club</th>\n      <th>age</th>\n      <th>position</th>\n      <th>position_cat</th>\n      <th>market_value</th>\n      <th>page_views</th>\n      <th>fpl_value</th>\n      <th>fpl_sel</th>\n      <th>fpl_points</th>\n      <th>region</th>\n      <th>nationality</th>\n      <th>new_foreign</th>\n      <th>age_cat</th>\n      <th>club_id</th>\n      <th>big_club</th>\n      <th>new_signing</th>\n    </tr>\n    <tr>\n      <th>name</th>\n      <th></th>\n      <th></th>\n      <th></th>\n      <th></th>\n      <th></th>\n      <th></th>\n      <th></th>\n      <th></th>\n      <th></th>\n      <th></th>\n      <th></th>\n      <th></th>\n      <th></th>\n      <th></th>\n      <th></th>\n      <th></th>\n    </tr>\n  </thead>\n  <tbody>\n    <tr>\n      <th>Alexis Sanchez</th>\n      <td>Arsenal</td>\n      <td>28</td>\n      <td>LW</td>\n      <td>1</td>\n      <td>65.0</td>\n      <td>4329</td>\n      <td>12.0</td>\n      <td>17.10%</td>\n      <td>264</td>\n      <td>3</td>\n      <td>Chile</td>\n      <td>0</td>\n      <td>4</td>\n      <td>1</td>\n      <td>1</td>\n      <td>0</td>\n    </tr>\n    <tr>\n      <th>Mesut Ozil</th>\n      <td>Arsenal</td>\n      <td>28</td>\n      <td>AM</td>\n      <td>1</td>\n      <td>50.0</td>\n      <td>4395</td>\n      <td>9.5</td>\n      <td>5.60%</td>\n      <td>167</td>\n      <td>2</td>\n      <td>Germany</td>\n      <td>0</td>\n      <td>4</td>\n      <td>1</td>\n      <td>1</td>\n      <td>0</td>\n    </tr>\n    <tr>\n      <th>Petr Cech</th>\n      <td>Arsenal</td>\n      <td>35</td>\n      <td>GK</td>\n      <td>4</td>\n      <td>7.0</td>\n      <td>1529</td>\n      <td>5.5</td>\n      <td>5.90%</td>\n      <td>134</td>\n      <td>2</td>\n      <td>Czech Republic</td>\n      <td>0</td>\n      <td>6</td>\n      <td>1</td>\n      <td>1</td>\n      <td>0</td>\n    </tr>\n    <tr>\n      <th>Theo Walcott</th>\n      <td>Arsenal</td>\n      <td>28</td>\n      <td>RW</td>\n      <td>1</td>\n      <td>20.0</td>\n      <td>2393</td>\n      <td>7.5</td>\n      <td>1.50%</td>\n      <td>122</td>\n      <td>1</td>\n      <td>England</td>\n      <td>0</td>\n      <td>4</td>\n      <td>1</td>\n      <td>1</td>\n      <td>0</td>\n    </tr>\n    <tr>\n      <th>Laurent Koscielny</th>\n      <td>Arsenal</td>\n      <td>31</td>\n      <td>CB</td>\n      <td>3</td>\n      <td>22.0</td>\n      <td>912</td>\n      <td>6.0</td>\n      <td>0.70%</td>\n      <td>121</td>\n      <td>2</td>\n      <td>France</td>\n      <td>0</td>\n      <td>4</td>\n      <td>1</td>\n      <td>1</td>\n      <td>0</td>\n    </tr>\n    <tr>\n      <th>...</th>\n      <td>...</td>\n      <td>...</td>\n      <td>...</td>\n      <td>...</td>\n      <td>...</td>\n      <td>...</td>\n      <td>...</td>\n      <td>...</td>\n      <td>...</td>\n      <td>...</td>\n      <td>...</td>\n      <td>...</td>\n      <td>...</td>\n      <td>...</td>\n      <td>...</td>\n      <td>...</td>\n    </tr>\n    <tr>\n      <th>Edimilson Fernandes</th>\n      <td>West+Ham</td>\n      <td>21</td>\n      <td>CM</td>\n      <td>2</td>\n      <td>5.0</td>\n      <td>288</td>\n      <td>4.5</td>\n      <td>0.40%</td>\n      <td>38</td>\n      <td>2</td>\n      <td>Switzerland</td>\n      <td>0</td>\n      <td>1</td>\n      <td>20</td>\n      <td>0</td>\n      <td>1</td>\n    </tr>\n    <tr>\n      <th>Arthur Masuaku</th>\n      <td>West+Ham</td>\n      <td>23</td>\n      <td>LB</td>\n      <td>3</td>\n      <td>7.0</td>\n      <td>199</td>\n      <td>4.5</td>\n      <td>0.20%</td>\n      <td>34</td>\n      <td>4</td>\n      <td>Congo DR</td>\n      <td>0</td>\n      <td>2</td>\n      <td>20</td>\n      <td>0</td>\n      <td>1</td>\n    </tr>\n    <tr>\n      <th>Sam Byram</th>\n      <td>West+Ham</td>\n      <td>23</td>\n      <td>RB</td>\n      <td>3</td>\n      <td>4.5</td>\n      <td>198</td>\n      <td>4.5</td>\n      <td>0.30%</td>\n      <td>29</td>\n      <td>1</td>\n      <td>England</td>\n      <td>0</td>\n      <td>2</td>\n      <td>20</td>\n      <td>0</td>\n      <td>0</td>\n    </tr>\n    <tr>\n      <th>Ashley Fletcher</th>\n      <td>West+Ham</td>\n      <td>21</td>\n      <td>CF</td>\n      <td>1</td>\n      <td>1.0</td>\n      <td>412</td>\n      <td>4.5</td>\n      <td>5.90%</td>\n      <td>16</td>\n      <td>1</td>\n      <td>England</td>\n      <td>0</td>\n      <td>1</td>\n      <td>20</td>\n      <td>0</td>\n      <td>1</td>\n    </tr>\n    <tr>\n      <th>Diafra Sakho</th>\n      <td>West+Ham</td>\n      <td>27</td>\n      <td>CF</td>\n      <td>1</td>\n      <td>10.0</td>\n      <td>214</td>\n      <td>5.5</td>\n      <td>0.10%</td>\n      <td>12</td>\n      <td>4</td>\n      <td>Senegal</td>\n      <td>0</td>\n      <td>3</td>\n      <td>20</td>\n      <td>0</td>\n      <td>0</td>\n    </tr>\n  </tbody>\n</table>\n<p>465 rows × 16 columns</p>\n</div>"
     },
     "metadata": {},
     "execution_count": 33
    }
   ],
   "source": [
    "players.set_index('name')"
   ]
  },
  {
   "cell_type": "code",
   "execution_count": 34,
   "metadata": {},
   "outputs": [],
   "source": [
    "players.sort_index(inplace=True)"
   ]
  },
  {
   "cell_type": "code",
   "execution_count": 42,
   "metadata": {},
   "outputs": [
    {
     "output_type": "execute_result",
     "data": {
      "text/plain": [
       "             name     club  age position  position_cat  market_value  \\\n",
       "2       Petr Cech  Arsenal   35       GK             4           7.0   \n",
       "1      Mesut Ozil  Arsenal   28       AM             1          50.0   \n",
       "3    Theo Walcott  Arsenal   28       RW             1          20.0   \n",
       "0  Alexis Sanchez  Arsenal   28       LW             1          65.0   \n",
       "\n",
       "   page_views  fpl_value fpl_sel  fpl_points  region     nationality  \\\n",
       "2        1529        5.5   5.90%         134       2  Czech Republic   \n",
       "1        4395        9.5   5.60%         167       2         Germany   \n",
       "3        2393        7.5   1.50%         122       1         England   \n",
       "0        4329       12.0  17.10%         264       3           Chile   \n",
       "\n",
       "   new_foreign  age_cat  club_id  big_club  new_signing  \n",
       "2            0        6        1         1            0  \n",
       "1            0        4        1         1            0  \n",
       "3            0        4        1         1            0  \n",
       "0            0        4        1         1            0  "
      ],
      "text/html": "<div>\n<style scoped>\n    .dataframe tbody tr th:only-of-type {\n        vertical-align: middle;\n    }\n\n    .dataframe tbody tr th {\n        vertical-align: top;\n    }\n\n    .dataframe thead th {\n        text-align: right;\n    }\n</style>\n<table border=\"1\" class=\"dataframe\">\n  <thead>\n    <tr style=\"text-align: right;\">\n      <th></th>\n      <th>name</th>\n      <th>club</th>\n      <th>age</th>\n      <th>position</th>\n      <th>position_cat</th>\n      <th>market_value</th>\n      <th>page_views</th>\n      <th>fpl_value</th>\n      <th>fpl_sel</th>\n      <th>fpl_points</th>\n      <th>region</th>\n      <th>nationality</th>\n      <th>new_foreign</th>\n      <th>age_cat</th>\n      <th>club_id</th>\n      <th>big_club</th>\n      <th>new_signing</th>\n    </tr>\n  </thead>\n  <tbody>\n    <tr>\n      <th>2</th>\n      <td>Petr Cech</td>\n      <td>Arsenal</td>\n      <td>35</td>\n      <td>GK</td>\n      <td>4</td>\n      <td>7.0</td>\n      <td>1529</td>\n      <td>5.5</td>\n      <td>5.90%</td>\n      <td>134</td>\n      <td>2</td>\n      <td>Czech Republic</td>\n      <td>0</td>\n      <td>6</td>\n      <td>1</td>\n      <td>1</td>\n      <td>0</td>\n    </tr>\n    <tr>\n      <th>1</th>\n      <td>Mesut Ozil</td>\n      <td>Arsenal</td>\n      <td>28</td>\n      <td>AM</td>\n      <td>1</td>\n      <td>50.0</td>\n      <td>4395</td>\n      <td>9.5</td>\n      <td>5.60%</td>\n      <td>167</td>\n      <td>2</td>\n      <td>Germany</td>\n      <td>0</td>\n      <td>4</td>\n      <td>1</td>\n      <td>1</td>\n      <td>0</td>\n    </tr>\n    <tr>\n      <th>3</th>\n      <td>Theo Walcott</td>\n      <td>Arsenal</td>\n      <td>28</td>\n      <td>RW</td>\n      <td>1</td>\n      <td>20.0</td>\n      <td>2393</td>\n      <td>7.5</td>\n      <td>1.50%</td>\n      <td>122</td>\n      <td>1</td>\n      <td>England</td>\n      <td>0</td>\n      <td>4</td>\n      <td>1</td>\n      <td>1</td>\n      <td>0</td>\n    </tr>\n    <tr>\n      <th>0</th>\n      <td>Alexis Sanchez</td>\n      <td>Arsenal</td>\n      <td>28</td>\n      <td>LW</td>\n      <td>1</td>\n      <td>65.0</td>\n      <td>4329</td>\n      <td>12.0</td>\n      <td>17.10%</td>\n      <td>264</td>\n      <td>3</td>\n      <td>Chile</td>\n      <td>0</td>\n      <td>4</td>\n      <td>1</td>\n      <td>1</td>\n      <td>0</td>\n    </tr>\n  </tbody>\n</table>\n</div>"
     },
     "metadata": {},
     "execution_count": 42
    }
   ],
   "source": [
    "players.reindex(index=[2,1,3,0])"
   ]
  },
  {
   "cell_type": "code",
   "execution_count": 35,
   "metadata": {},
   "outputs": [
    {
     "output_type": "execute_result",
     "data": {
      "text/plain": [
       "     age  age_cat  big_club      club  club_id  fpl_points fpl_sel  fpl_value  \\\n",
       "0     28        4         1   Arsenal        1         264  17.10%       12.0   \n",
       "1     28        4         1   Arsenal        1         167   5.60%        9.5   \n",
       "2     35        6         1   Arsenal        1         134   5.90%        5.5   \n",
       "3     28        4         1   Arsenal        1         122   1.50%        7.5   \n",
       "4     31        4         1   Arsenal        1         121   0.70%        6.0   \n",
       "..   ...      ...       ...       ...      ...         ...     ...        ...   \n",
       "460   21        1         0  West+Ham       20          38   0.40%        4.5   \n",
       "461   23        2         0  West+Ham       20          34   0.20%        4.5   \n",
       "462   23        2         0  West+Ham       20          29   0.30%        4.5   \n",
       "463   21        1         0  West+Ham       20          16   5.90%        4.5   \n",
       "464   27        3         0  West+Ham       20          12   0.10%        5.5   \n",
       "\n",
       "     market_value                 name     nationality  new_foreign  \\\n",
       "0            65.0       Alexis Sanchez           Chile            0   \n",
       "1            50.0           Mesut Ozil         Germany            0   \n",
       "2             7.0            Petr Cech  Czech Republic            0   \n",
       "3            20.0         Theo Walcott         England            0   \n",
       "4            22.0    Laurent Koscielny          France            0   \n",
       "..            ...                  ...             ...          ...   \n",
       "460           5.0  Edimilson Fernandes     Switzerland            0   \n",
       "461           7.0       Arthur Masuaku        Congo DR            0   \n",
       "462           4.5            Sam Byram         England            0   \n",
       "463           1.0      Ashley Fletcher         England            0   \n",
       "464          10.0         Diafra Sakho         Senegal            0   \n",
       "\n",
       "     new_signing  page_views position  position_cat  region  \n",
       "0              0        4329       LW             1       3  \n",
       "1              0        4395       AM             1       2  \n",
       "2              0        1529       GK             4       2  \n",
       "3              0        2393       RW             1       1  \n",
       "4              0         912       CB             3       2  \n",
       "..           ...         ...      ...           ...     ...  \n",
       "460            1         288       CM             2       2  \n",
       "461            1         199       LB             3       4  \n",
       "462            0         198       RB             3       1  \n",
       "463            1         412       CF             1       1  \n",
       "464            0         214       CF             1       4  \n",
       "\n",
       "[465 rows x 17 columns]"
      ],
      "text/html": "<div>\n<style scoped>\n    .dataframe tbody tr th:only-of-type {\n        vertical-align: middle;\n    }\n\n    .dataframe tbody tr th {\n        vertical-align: top;\n    }\n\n    .dataframe thead th {\n        text-align: right;\n    }\n</style>\n<table border=\"1\" class=\"dataframe\">\n  <thead>\n    <tr style=\"text-align: right;\">\n      <th></th>\n      <th>age</th>\n      <th>age_cat</th>\n      <th>big_club</th>\n      <th>club</th>\n      <th>club_id</th>\n      <th>fpl_points</th>\n      <th>fpl_sel</th>\n      <th>fpl_value</th>\n      <th>market_value</th>\n      <th>name</th>\n      <th>nationality</th>\n      <th>new_foreign</th>\n      <th>new_signing</th>\n      <th>page_views</th>\n      <th>position</th>\n      <th>position_cat</th>\n      <th>region</th>\n    </tr>\n  </thead>\n  <tbody>\n    <tr>\n      <th>0</th>\n      <td>28</td>\n      <td>4</td>\n      <td>1</td>\n      <td>Arsenal</td>\n      <td>1</td>\n      <td>264</td>\n      <td>17.10%</td>\n      <td>12.0</td>\n      <td>65.0</td>\n      <td>Alexis Sanchez</td>\n      <td>Chile</td>\n      <td>0</td>\n      <td>0</td>\n      <td>4329</td>\n      <td>LW</td>\n      <td>1</td>\n      <td>3</td>\n    </tr>\n    <tr>\n      <th>1</th>\n      <td>28</td>\n      <td>4</td>\n      <td>1</td>\n      <td>Arsenal</td>\n      <td>1</td>\n      <td>167</td>\n      <td>5.60%</td>\n      <td>9.5</td>\n      <td>50.0</td>\n      <td>Mesut Ozil</td>\n      <td>Germany</td>\n      <td>0</td>\n      <td>0</td>\n      <td>4395</td>\n      <td>AM</td>\n      <td>1</td>\n      <td>2</td>\n    </tr>\n    <tr>\n      <th>2</th>\n      <td>35</td>\n      <td>6</td>\n      <td>1</td>\n      <td>Arsenal</td>\n      <td>1</td>\n      <td>134</td>\n      <td>5.90%</td>\n      <td>5.5</td>\n      <td>7.0</td>\n      <td>Petr Cech</td>\n      <td>Czech Republic</td>\n      <td>0</td>\n      <td>0</td>\n      <td>1529</td>\n      <td>GK</td>\n      <td>4</td>\n      <td>2</td>\n    </tr>\n    <tr>\n      <th>3</th>\n      <td>28</td>\n      <td>4</td>\n      <td>1</td>\n      <td>Arsenal</td>\n      <td>1</td>\n      <td>122</td>\n      <td>1.50%</td>\n      <td>7.5</td>\n      <td>20.0</td>\n      <td>Theo Walcott</td>\n      <td>England</td>\n      <td>0</td>\n      <td>0</td>\n      <td>2393</td>\n      <td>RW</td>\n      <td>1</td>\n      <td>1</td>\n    </tr>\n    <tr>\n      <th>4</th>\n      <td>31</td>\n      <td>4</td>\n      <td>1</td>\n      <td>Arsenal</td>\n      <td>1</td>\n      <td>121</td>\n      <td>0.70%</td>\n      <td>6.0</td>\n      <td>22.0</td>\n      <td>Laurent Koscielny</td>\n      <td>France</td>\n      <td>0</td>\n      <td>0</td>\n      <td>912</td>\n      <td>CB</td>\n      <td>3</td>\n      <td>2</td>\n    </tr>\n    <tr>\n      <th>...</th>\n      <td>...</td>\n      <td>...</td>\n      <td>...</td>\n      <td>...</td>\n      <td>...</td>\n      <td>...</td>\n      <td>...</td>\n      <td>...</td>\n      <td>...</td>\n      <td>...</td>\n      <td>...</td>\n      <td>...</td>\n      <td>...</td>\n      <td>...</td>\n      <td>...</td>\n      <td>...</td>\n      <td>...</td>\n    </tr>\n    <tr>\n      <th>460</th>\n      <td>21</td>\n      <td>1</td>\n      <td>0</td>\n      <td>West+Ham</td>\n      <td>20</td>\n      <td>38</td>\n      <td>0.40%</td>\n      <td>4.5</td>\n      <td>5.0</td>\n      <td>Edimilson Fernandes</td>\n      <td>Switzerland</td>\n      <td>0</td>\n      <td>1</td>\n      <td>288</td>\n      <td>CM</td>\n      <td>2</td>\n      <td>2</td>\n    </tr>\n    <tr>\n      <th>461</th>\n      <td>23</td>\n      <td>2</td>\n      <td>0</td>\n      <td>West+Ham</td>\n      <td>20</td>\n      <td>34</td>\n      <td>0.20%</td>\n      <td>4.5</td>\n      <td>7.0</td>\n      <td>Arthur Masuaku</td>\n      <td>Congo DR</td>\n      <td>0</td>\n      <td>1</td>\n      <td>199</td>\n      <td>LB</td>\n      <td>3</td>\n      <td>4</td>\n    </tr>\n    <tr>\n      <th>462</th>\n      <td>23</td>\n      <td>2</td>\n      <td>0</td>\n      <td>West+Ham</td>\n      <td>20</td>\n      <td>29</td>\n      <td>0.30%</td>\n      <td>4.5</td>\n      <td>4.5</td>\n      <td>Sam Byram</td>\n      <td>England</td>\n      <td>0</td>\n      <td>0</td>\n      <td>198</td>\n      <td>RB</td>\n      <td>3</td>\n      <td>1</td>\n    </tr>\n    <tr>\n      <th>463</th>\n      <td>21</td>\n      <td>1</td>\n      <td>0</td>\n      <td>West+Ham</td>\n      <td>20</td>\n      <td>16</td>\n      <td>5.90%</td>\n      <td>4.5</td>\n      <td>1.0</td>\n      <td>Ashley Fletcher</td>\n      <td>England</td>\n      <td>0</td>\n      <td>1</td>\n      <td>412</td>\n      <td>CF</td>\n      <td>1</td>\n      <td>1</td>\n    </tr>\n    <tr>\n      <th>464</th>\n      <td>27</td>\n      <td>3</td>\n      <td>0</td>\n      <td>West+Ham</td>\n      <td>20</td>\n      <td>12</td>\n      <td>0.10%</td>\n      <td>5.5</td>\n      <td>10.0</td>\n      <td>Diafra Sakho</td>\n      <td>Senegal</td>\n      <td>0</td>\n      <td>0</td>\n      <td>214</td>\n      <td>CF</td>\n      <td>1</td>\n      <td>4</td>\n    </tr>\n  </tbody>\n</table>\n<p>465 rows × 17 columns</p>\n</div>"
     },
     "metadata": {},
     "execution_count": 35
    }
   ],
   "source": [
    "players.sort_index(axis=1)"
   ]
  },
  {
   "cell_type": "code",
   "execution_count": 36,
   "metadata": {},
   "outputs": [
    {
     "output_type": "execute_result",
     "data": {
      "text/plain": [
       "                    name      club  age position  position_cat  market_value  \\\n",
       "0         Alexis Sanchez   Arsenal   28       LW             1          65.0   \n",
       "1             Mesut Ozil   Arsenal   28       AM             1          50.0   \n",
       "2              Petr Cech   Arsenal   35       GK             4           7.0   \n",
       "3           Theo Walcott   Arsenal   28       RW             1          20.0   \n",
       "4      Laurent Koscielny   Arsenal   31       CB             3          22.0   \n",
       "..                   ...       ...  ...      ...           ...           ...   \n",
       "460  Edimilson Fernandes  West+Ham   21       CM             2           5.0   \n",
       "461       Arthur Masuaku  West+Ham   23       LB             3           7.0   \n",
       "462            Sam Byram  West+Ham   23       RB             3           4.5   \n",
       "463      Ashley Fletcher  West+Ham   21       CF             1           1.0   \n",
       "464         Diafra Sakho  West+Ham   27       CF             1          10.0   \n",
       "\n",
       "     page_views  fpl_value fpl_sel  fpl_points  region     nationality  \\\n",
       "0          4329       12.0  17.10%         264       3           Chile   \n",
       "1          4395        9.5   5.60%         167       2         Germany   \n",
       "2          1529        5.5   5.90%         134       2  Czech Republic   \n",
       "3          2393        7.5   1.50%         122       1         England   \n",
       "4           912        6.0   0.70%         121       2          France   \n",
       "..          ...        ...     ...         ...     ...             ...   \n",
       "460         288        4.5   0.40%          38       2     Switzerland   \n",
       "461         199        4.5   0.20%          34       4        Congo DR   \n",
       "462         198        4.5   0.30%          29       1         England   \n",
       "463         412        4.5   5.90%          16       1         England   \n",
       "464         214        5.5   0.10%          12       4         Senegal   \n",
       "\n",
       "     new_foreign  age_cat  club_id  big_club  new_signing  \n",
       "0              0        4        1         1            0  \n",
       "1              0        4        1         1            0  \n",
       "2              0        6        1         1            0  \n",
       "3              0        4        1         1            0  \n",
       "4              0        4        1         1            0  \n",
       "..           ...      ...      ...       ...          ...  \n",
       "460            0        1       20         0            1  \n",
       "461            0        2       20         0            1  \n",
       "462            0        2       20         0            0  \n",
       "463            0        1       20         0            1  \n",
       "464            0        3       20         0            0  \n",
       "\n",
       "[465 rows x 17 columns]"
      ],
      "text/html": "<div>\n<style scoped>\n    .dataframe tbody tr th:only-of-type {\n        vertical-align: middle;\n    }\n\n    .dataframe tbody tr th {\n        vertical-align: top;\n    }\n\n    .dataframe thead th {\n        text-align: right;\n    }\n</style>\n<table border=\"1\" class=\"dataframe\">\n  <thead>\n    <tr style=\"text-align: right;\">\n      <th></th>\n      <th>name</th>\n      <th>club</th>\n      <th>age</th>\n      <th>position</th>\n      <th>position_cat</th>\n      <th>market_value</th>\n      <th>page_views</th>\n      <th>fpl_value</th>\n      <th>fpl_sel</th>\n      <th>fpl_points</th>\n      <th>region</th>\n      <th>nationality</th>\n      <th>new_foreign</th>\n      <th>age_cat</th>\n      <th>club_id</th>\n      <th>big_club</th>\n      <th>new_signing</th>\n    </tr>\n  </thead>\n  <tbody>\n    <tr>\n      <th>0</th>\n      <td>Alexis Sanchez</td>\n      <td>Arsenal</td>\n      <td>28</td>\n      <td>LW</td>\n      <td>1</td>\n      <td>65.0</td>\n      <td>4329</td>\n      <td>12.0</td>\n      <td>17.10%</td>\n      <td>264</td>\n      <td>3</td>\n      <td>Chile</td>\n      <td>0</td>\n      <td>4</td>\n      <td>1</td>\n      <td>1</td>\n      <td>0</td>\n    </tr>\n    <tr>\n      <th>1</th>\n      <td>Mesut Ozil</td>\n      <td>Arsenal</td>\n      <td>28</td>\n      <td>AM</td>\n      <td>1</td>\n      <td>50.0</td>\n      <td>4395</td>\n      <td>9.5</td>\n      <td>5.60%</td>\n      <td>167</td>\n      <td>2</td>\n      <td>Germany</td>\n      <td>0</td>\n      <td>4</td>\n      <td>1</td>\n      <td>1</td>\n      <td>0</td>\n    </tr>\n    <tr>\n      <th>2</th>\n      <td>Petr Cech</td>\n      <td>Arsenal</td>\n      <td>35</td>\n      <td>GK</td>\n      <td>4</td>\n      <td>7.0</td>\n      <td>1529</td>\n      <td>5.5</td>\n      <td>5.90%</td>\n      <td>134</td>\n      <td>2</td>\n      <td>Czech Republic</td>\n      <td>0</td>\n      <td>6</td>\n      <td>1</td>\n      <td>1</td>\n      <td>0</td>\n    </tr>\n    <tr>\n      <th>3</th>\n      <td>Theo Walcott</td>\n      <td>Arsenal</td>\n      <td>28</td>\n      <td>RW</td>\n      <td>1</td>\n      <td>20.0</td>\n      <td>2393</td>\n      <td>7.5</td>\n      <td>1.50%</td>\n      <td>122</td>\n      <td>1</td>\n      <td>England</td>\n      <td>0</td>\n      <td>4</td>\n      <td>1</td>\n      <td>1</td>\n      <td>0</td>\n    </tr>\n    <tr>\n      <th>4</th>\n      <td>Laurent Koscielny</td>\n      <td>Arsenal</td>\n      <td>31</td>\n      <td>CB</td>\n      <td>3</td>\n      <td>22.0</td>\n      <td>912</td>\n      <td>6.0</td>\n      <td>0.70%</td>\n      <td>121</td>\n      <td>2</td>\n      <td>France</td>\n      <td>0</td>\n      <td>4</td>\n      <td>1</td>\n      <td>1</td>\n      <td>0</td>\n    </tr>\n    <tr>\n      <th>...</th>\n      <td>...</td>\n      <td>...</td>\n      <td>...</td>\n      <td>...</td>\n      <td>...</td>\n      <td>...</td>\n      <td>...</td>\n      <td>...</td>\n      <td>...</td>\n      <td>...</td>\n      <td>...</td>\n      <td>...</td>\n      <td>...</td>\n      <td>...</td>\n      <td>...</td>\n      <td>...</td>\n      <td>...</td>\n    </tr>\n    <tr>\n      <th>460</th>\n      <td>Edimilson Fernandes</td>\n      <td>West+Ham</td>\n      <td>21</td>\n      <td>CM</td>\n      <td>2</td>\n      <td>5.0</td>\n      <td>288</td>\n      <td>4.5</td>\n      <td>0.40%</td>\n      <td>38</td>\n      <td>2</td>\n      <td>Switzerland</td>\n      <td>0</td>\n      <td>1</td>\n      <td>20</td>\n      <td>0</td>\n      <td>1</td>\n    </tr>\n    <tr>\n      <th>461</th>\n      <td>Arthur Masuaku</td>\n      <td>West+Ham</td>\n      <td>23</td>\n      <td>LB</td>\n      <td>3</td>\n      <td>7.0</td>\n      <td>199</td>\n      <td>4.5</td>\n      <td>0.20%</td>\n      <td>34</td>\n      <td>4</td>\n      <td>Congo DR</td>\n      <td>0</td>\n      <td>2</td>\n      <td>20</td>\n      <td>0</td>\n      <td>1</td>\n    </tr>\n    <tr>\n      <th>462</th>\n      <td>Sam Byram</td>\n      <td>West+Ham</td>\n      <td>23</td>\n      <td>RB</td>\n      <td>3</td>\n      <td>4.5</td>\n      <td>198</td>\n      <td>4.5</td>\n      <td>0.30%</td>\n      <td>29</td>\n      <td>1</td>\n      <td>England</td>\n      <td>0</td>\n      <td>2</td>\n      <td>20</td>\n      <td>0</td>\n      <td>0</td>\n    </tr>\n    <tr>\n      <th>463</th>\n      <td>Ashley Fletcher</td>\n      <td>West+Ham</td>\n      <td>21</td>\n      <td>CF</td>\n      <td>1</td>\n      <td>1.0</td>\n      <td>412</td>\n      <td>4.5</td>\n      <td>5.90%</td>\n      <td>16</td>\n      <td>1</td>\n      <td>England</td>\n      <td>0</td>\n      <td>1</td>\n      <td>20</td>\n      <td>0</td>\n      <td>1</td>\n    </tr>\n    <tr>\n      <th>464</th>\n      <td>Diafra Sakho</td>\n      <td>West+Ham</td>\n      <td>27</td>\n      <td>CF</td>\n      <td>1</td>\n      <td>10.0</td>\n      <td>214</td>\n      <td>5.5</td>\n      <td>0.10%</td>\n      <td>12</td>\n      <td>4</td>\n      <td>Senegal</td>\n      <td>0</td>\n      <td>3</td>\n      <td>20</td>\n      <td>0</td>\n      <td>0</td>\n    </tr>\n  </tbody>\n</table>\n<p>465 rows × 17 columns</p>\n</div>"
     },
     "metadata": {},
     "execution_count": 36
    }
   ],
   "source": [
    "players.sort_index()"
   ]
  },
  {
   "cell_type": "code",
   "execution_count": 37,
   "metadata": {},
   "outputs": [],
   "source": [
    "players_list = players.iloc[:4, :4]"
   ]
  },
  {
   "cell_type": "code",
   "execution_count": 38,
   "metadata": {},
   "outputs": [
    {
     "output_type": "execute_result",
     "data": {
      "text/plain": [
       "             name     club  age position\n",
       "0  Alexis Sanchez  Arsenal   28       LW\n",
       "1      Mesut Ozil  Arsenal   28       AM\n",
       "2       Petr Cech  Arsenal   35       GK\n",
       "3    Theo Walcott  Arsenal   28       RW"
      ],
      "text/html": "<div>\n<style scoped>\n    .dataframe tbody tr th:only-of-type {\n        vertical-align: middle;\n    }\n\n    .dataframe tbody tr th {\n        vertical-align: top;\n    }\n\n    .dataframe thead th {\n        text-align: right;\n    }\n</style>\n<table border=\"1\" class=\"dataframe\">\n  <thead>\n    <tr style=\"text-align: right;\">\n      <th></th>\n      <th>name</th>\n      <th>club</th>\n      <th>age</th>\n      <th>position</th>\n    </tr>\n  </thead>\n  <tbody>\n    <tr>\n      <th>0</th>\n      <td>Alexis Sanchez</td>\n      <td>Arsenal</td>\n      <td>28</td>\n      <td>LW</td>\n    </tr>\n    <tr>\n      <th>1</th>\n      <td>Mesut Ozil</td>\n      <td>Arsenal</td>\n      <td>28</td>\n      <td>AM</td>\n    </tr>\n    <tr>\n      <th>2</th>\n      <td>Petr Cech</td>\n      <td>Arsenal</td>\n      <td>35</td>\n      <td>GK</td>\n    </tr>\n    <tr>\n      <th>3</th>\n      <td>Theo Walcott</td>\n      <td>Arsenal</td>\n      <td>28</td>\n      <td>RW</td>\n    </tr>\n  </tbody>\n</table>\n</div>"
     },
     "metadata": {},
     "execution_count": 38
    }
   ],
   "source": [
    "players_list"
   ]
  },
  {
   "cell_type": "code",
   "execution_count": 41,
   "metadata": {},
   "outputs": [
    {
     "output_type": "execute_result",
     "data": {
      "text/plain": [
       "   age            name position     club\n",
       "2   35       Petr Cech       GK  Arsenal\n",
       "1   28      Mesut Ozil       AM  Arsenal\n",
       "3   28    Theo Walcott       RW  Arsenal\n",
       "0   28  Alexis Sanchez       LW  Arsenal"
      ],
      "text/html": "<div>\n<style scoped>\n    .dataframe tbody tr th:only-of-type {\n        vertical-align: middle;\n    }\n\n    .dataframe tbody tr th {\n        vertical-align: top;\n    }\n\n    .dataframe thead th {\n        text-align: right;\n    }\n</style>\n<table border=\"1\" class=\"dataframe\">\n  <thead>\n    <tr style=\"text-align: right;\">\n      <th></th>\n      <th>age</th>\n      <th>name</th>\n      <th>position</th>\n      <th>club</th>\n    </tr>\n  </thead>\n  <tbody>\n    <tr>\n      <th>2</th>\n      <td>35</td>\n      <td>Petr Cech</td>\n      <td>GK</td>\n      <td>Arsenal</td>\n    </tr>\n    <tr>\n      <th>1</th>\n      <td>28</td>\n      <td>Mesut Ozil</td>\n      <td>AM</td>\n      <td>Arsenal</td>\n    </tr>\n    <tr>\n      <th>3</th>\n      <td>28</td>\n      <td>Theo Walcott</td>\n      <td>RW</td>\n      <td>Arsenal</td>\n    </tr>\n    <tr>\n      <th>0</th>\n      <td>28</td>\n      <td>Alexis Sanchez</td>\n      <td>LW</td>\n      <td>Arsenal</td>\n    </tr>\n  </tbody>\n</table>\n</div>"
     },
     "metadata": {},
     "execution_count": 41
    }
   ],
   "source": [
    "players_list.reindex(index=[2, 1, 3, 0], columns=['age', 'name', 'position', 'club'])"
   ]
  },
  {
   "cell_type": "code",
   "execution_count": 44,
   "metadata": {},
   "outputs": [
    {
     "output_type": "execute_result",
     "data": {
      "text/plain": [
       "                       name     club  age position  position_cat  \\\n",
       "11             Granit Xhaka  Arsenal   24       DM             2   \n",
       "13  Alex Oxlade-Chamberlain  Arsenal   23       RM             2   \n",
       "23  Alex Oxlade-Chamberlain  Arsenal   23       RM             2   \n",
       "\n",
       "    market_value  page_views  fpl_value fpl_sel  fpl_points  region  \\\n",
       "11          35.0        1815        5.5   2.00%          85       2   \n",
       "13          22.0        1519        6.0   1.80%          83       1   \n",
       "23          22.0        1519        6.0   1.80%          83       1   \n",
       "\n",
       "    nationality  new_foreign  age_cat  club_id  big_club  new_signing  \n",
       "11  Switzerland            0        2        1         1            0  \n",
       "13      England            0        2        1         1            0  \n",
       "23      England            0        2        1         1            0  "
      ],
      "text/html": "<div>\n<style scoped>\n    .dataframe tbody tr th:only-of-type {\n        vertical-align: middle;\n    }\n\n    .dataframe tbody tr th {\n        vertical-align: top;\n    }\n\n    .dataframe thead th {\n        text-align: right;\n    }\n</style>\n<table border=\"1\" class=\"dataframe\">\n  <thead>\n    <tr style=\"text-align: right;\">\n      <th></th>\n      <th>name</th>\n      <th>club</th>\n      <th>age</th>\n      <th>position</th>\n      <th>position_cat</th>\n      <th>market_value</th>\n      <th>page_views</th>\n      <th>fpl_value</th>\n      <th>fpl_sel</th>\n      <th>fpl_points</th>\n      <th>region</th>\n      <th>nationality</th>\n      <th>new_foreign</th>\n      <th>age_cat</th>\n      <th>club_id</th>\n      <th>big_club</th>\n      <th>new_signing</th>\n    </tr>\n  </thead>\n  <tbody>\n    <tr>\n      <th>11</th>\n      <td>Granit Xhaka</td>\n      <td>Arsenal</td>\n      <td>24</td>\n      <td>DM</td>\n      <td>2</td>\n      <td>35.0</td>\n      <td>1815</td>\n      <td>5.5</td>\n      <td>2.00%</td>\n      <td>85</td>\n      <td>2</td>\n      <td>Switzerland</td>\n      <td>0</td>\n      <td>2</td>\n      <td>1</td>\n      <td>1</td>\n      <td>0</td>\n    </tr>\n    <tr>\n      <th>13</th>\n      <td>Alex Oxlade-Chamberlain</td>\n      <td>Arsenal</td>\n      <td>23</td>\n      <td>RM</td>\n      <td>2</td>\n      <td>22.0</td>\n      <td>1519</td>\n      <td>6.0</td>\n      <td>1.80%</td>\n      <td>83</td>\n      <td>1</td>\n      <td>England</td>\n      <td>0</td>\n      <td>2</td>\n      <td>1</td>\n      <td>1</td>\n      <td>0</td>\n    </tr>\n    <tr>\n      <th>23</th>\n      <td>Alex Oxlade-Chamberlain</td>\n      <td>Arsenal</td>\n      <td>23</td>\n      <td>RM</td>\n      <td>2</td>\n      <td>22.0</td>\n      <td>1519</td>\n      <td>6.0</td>\n      <td>1.80%</td>\n      <td>83</td>\n      <td>1</td>\n      <td>England</td>\n      <td>0</td>\n      <td>2</td>\n      <td>1</td>\n      <td>1</td>\n      <td>0</td>\n    </tr>\n  </tbody>\n</table>\n</div>"
     },
     "metadata": {},
     "execution_count": 44
    }
   ],
   "source": [
    "players.loc[players.duplicated()]"
   ]
  },
  {
   "cell_type": "code",
   "execution_count": 49,
   "metadata": {},
   "outputs": [
    {
     "output_type": "execute_result",
     "data": {
      "text/plain": [
       "                    name      club  age position  position_cat  market_value  \\\n",
       "0         Alexis Sanchez   Arsenal   28       LW             1          65.0   \n",
       "1             Mesut Ozil   Arsenal   28       AM             1          50.0   \n",
       "3           Theo Walcott   Arsenal   28       RW             1          20.0   \n",
       "4      Laurent Koscielny   Arsenal   31       CB             3          22.0   \n",
       "8       Shkodran Mustafi   Arsenal   25       CB             3          30.0   \n",
       "..                   ...       ...  ...      ...           ...           ...   \n",
       "451      Darren Randolph  West+Ham   30       GK             4           2.5   \n",
       "455      Aaron Cresswell  West+Ham   27       LB             3          12.0   \n",
       "457     Sofiane Feghouli  West+Ham   27       RW             1          12.0   \n",
       "460  Edimilson Fernandes  West+Ham   21       CM             2           5.0   \n",
       "461       Arthur Masuaku  West+Ham   23       LB             3           7.0   \n",
       "\n",
       "     page_views  fpl_value fpl_sel  fpl_points  region  nationality  \\\n",
       "0          4329       12.0  17.10%         264       3        Chile   \n",
       "1          4395        9.5   5.60%         167       2      Germany   \n",
       "3          2393        7.5   1.50%         122       1      England   \n",
       "4           912        6.0   0.70%         121       2       France   \n",
       "8          1877        5.5   4.00%          90       2      Germany   \n",
       "..          ...        ...     ...         ...     ...          ...   \n",
       "451         459        4.5   0.40%          69       2      Ireland   \n",
       "455         380        5.0   1.30%          60       1      England   \n",
       "457         394        5.5   0.20%          55       4      Algeria   \n",
       "460         288        4.5   0.40%          38       2  Switzerland   \n",
       "461         199        4.5   0.20%          34       4     Congo DR   \n",
       "\n",
       "     new_foreign  age_cat  club_id  big_club  new_signing  \n",
       "0              0        4        1         1            0  \n",
       "1              0        4        1         1            0  \n",
       "3              0        4        1         1            0  \n",
       "4              0        4        1         1            0  \n",
       "8              0        3        1         1            1  \n",
       "..           ...      ...      ...       ...          ...  \n",
       "451            0        4       20         0            0  \n",
       "455            0        3       20         0            0  \n",
       "457            0        3       20         0            1  \n",
       "460            0        1       20         0            1  \n",
       "461            0        2       20         0            1  \n",
       "\n",
       "[225 rows x 17 columns]"
      ],
      "text/html": "<div>\n<style scoped>\n    .dataframe tbody tr th:only-of-type {\n        vertical-align: middle;\n    }\n\n    .dataframe tbody tr th {\n        vertical-align: top;\n    }\n\n    .dataframe thead th {\n        text-align: right;\n    }\n</style>\n<table border=\"1\" class=\"dataframe\">\n  <thead>\n    <tr style=\"text-align: right;\">\n      <th></th>\n      <th>name</th>\n      <th>club</th>\n      <th>age</th>\n      <th>position</th>\n      <th>position_cat</th>\n      <th>market_value</th>\n      <th>page_views</th>\n      <th>fpl_value</th>\n      <th>fpl_sel</th>\n      <th>fpl_points</th>\n      <th>region</th>\n      <th>nationality</th>\n      <th>new_foreign</th>\n      <th>age_cat</th>\n      <th>club_id</th>\n      <th>big_club</th>\n      <th>new_signing</th>\n    </tr>\n  </thead>\n  <tbody>\n    <tr>\n      <th>0</th>\n      <td>Alexis Sanchez</td>\n      <td>Arsenal</td>\n      <td>28</td>\n      <td>LW</td>\n      <td>1</td>\n      <td>65.0</td>\n      <td>4329</td>\n      <td>12.0</td>\n      <td>17.10%</td>\n      <td>264</td>\n      <td>3</td>\n      <td>Chile</td>\n      <td>0</td>\n      <td>4</td>\n      <td>1</td>\n      <td>1</td>\n      <td>0</td>\n    </tr>\n    <tr>\n      <th>1</th>\n      <td>Mesut Ozil</td>\n      <td>Arsenal</td>\n      <td>28</td>\n      <td>AM</td>\n      <td>1</td>\n      <td>50.0</td>\n      <td>4395</td>\n      <td>9.5</td>\n      <td>5.60%</td>\n      <td>167</td>\n      <td>2</td>\n      <td>Germany</td>\n      <td>0</td>\n      <td>4</td>\n      <td>1</td>\n      <td>1</td>\n      <td>0</td>\n    </tr>\n    <tr>\n      <th>3</th>\n      <td>Theo Walcott</td>\n      <td>Arsenal</td>\n      <td>28</td>\n      <td>RW</td>\n      <td>1</td>\n      <td>20.0</td>\n      <td>2393</td>\n      <td>7.5</td>\n      <td>1.50%</td>\n      <td>122</td>\n      <td>1</td>\n      <td>England</td>\n      <td>0</td>\n      <td>4</td>\n      <td>1</td>\n      <td>1</td>\n      <td>0</td>\n    </tr>\n    <tr>\n      <th>4</th>\n      <td>Laurent Koscielny</td>\n      <td>Arsenal</td>\n      <td>31</td>\n      <td>CB</td>\n      <td>3</td>\n      <td>22.0</td>\n      <td>912</td>\n      <td>6.0</td>\n      <td>0.70%</td>\n      <td>121</td>\n      <td>2</td>\n      <td>France</td>\n      <td>0</td>\n      <td>4</td>\n      <td>1</td>\n      <td>1</td>\n      <td>0</td>\n    </tr>\n    <tr>\n      <th>8</th>\n      <td>Shkodran Mustafi</td>\n      <td>Arsenal</td>\n      <td>25</td>\n      <td>CB</td>\n      <td>3</td>\n      <td>30.0</td>\n      <td>1877</td>\n      <td>5.5</td>\n      <td>4.00%</td>\n      <td>90</td>\n      <td>2</td>\n      <td>Germany</td>\n      <td>0</td>\n      <td>3</td>\n      <td>1</td>\n      <td>1</td>\n      <td>1</td>\n    </tr>\n    <tr>\n      <th>...</th>\n      <td>...</td>\n      <td>...</td>\n      <td>...</td>\n      <td>...</td>\n      <td>...</td>\n      <td>...</td>\n      <td>...</td>\n      <td>...</td>\n      <td>...</td>\n      <td>...</td>\n      <td>...</td>\n      <td>...</td>\n      <td>...</td>\n      <td>...</td>\n      <td>...</td>\n      <td>...</td>\n      <td>...</td>\n    </tr>\n    <tr>\n      <th>451</th>\n      <td>Darren Randolph</td>\n      <td>West+Ham</td>\n      <td>30</td>\n      <td>GK</td>\n      <td>4</td>\n      <td>2.5</td>\n      <td>459</td>\n      <td>4.5</td>\n      <td>0.40%</td>\n      <td>69</td>\n      <td>2</td>\n      <td>Ireland</td>\n      <td>0</td>\n      <td>4</td>\n      <td>20</td>\n      <td>0</td>\n      <td>0</td>\n    </tr>\n    <tr>\n      <th>455</th>\n      <td>Aaron Cresswell</td>\n      <td>West+Ham</td>\n      <td>27</td>\n      <td>LB</td>\n      <td>3</td>\n      <td>12.0</td>\n      <td>380</td>\n      <td>5.0</td>\n      <td>1.30%</td>\n      <td>60</td>\n      <td>1</td>\n      <td>England</td>\n      <td>0</td>\n      <td>3</td>\n      <td>20</td>\n      <td>0</td>\n      <td>0</td>\n    </tr>\n    <tr>\n      <th>457</th>\n      <td>Sofiane Feghouli</td>\n      <td>West+Ham</td>\n      <td>27</td>\n      <td>RW</td>\n      <td>1</td>\n      <td>12.0</td>\n      <td>394</td>\n      <td>5.5</td>\n      <td>0.20%</td>\n      <td>55</td>\n      <td>4</td>\n      <td>Algeria</td>\n      <td>0</td>\n      <td>3</td>\n      <td>20</td>\n      <td>0</td>\n      <td>1</td>\n    </tr>\n    <tr>\n      <th>460</th>\n      <td>Edimilson Fernandes</td>\n      <td>West+Ham</td>\n      <td>21</td>\n      <td>CM</td>\n      <td>2</td>\n      <td>5.0</td>\n      <td>288</td>\n      <td>4.5</td>\n      <td>0.40%</td>\n      <td>38</td>\n      <td>2</td>\n      <td>Switzerland</td>\n      <td>0</td>\n      <td>1</td>\n      <td>20</td>\n      <td>0</td>\n      <td>1</td>\n    </tr>\n    <tr>\n      <th>461</th>\n      <td>Arthur Masuaku</td>\n      <td>West+Ham</td>\n      <td>23</td>\n      <td>LB</td>\n      <td>3</td>\n      <td>7.0</td>\n      <td>199</td>\n      <td>4.5</td>\n      <td>0.20%</td>\n      <td>34</td>\n      <td>4</td>\n      <td>Congo DR</td>\n      <td>0</td>\n      <td>2</td>\n      <td>20</td>\n      <td>0</td>\n      <td>1</td>\n    </tr>\n  </tbody>\n</table>\n<p>225 rows × 17 columns</p>\n</div>"
     },
     "metadata": {},
     "execution_count": 49
    }
   ],
   "source": [
    "players.loc[players.duplicated(subset=['club', 'age'], keep='last')]"
   ]
  },
  {
   "cell_type": "code",
   "execution_count": 47,
   "metadata": {},
   "outputs": [
    {
     "output_type": "execute_result",
     "data": {
      "text/plain": [
       "(465, 17)"
      ]
     },
     "metadata": {},
     "execution_count": 47
    }
   ],
   "source": [
    "players.shape"
   ]
  },
  {
   "cell_type": "code",
   "execution_count": 48,
   "metadata": {},
   "outputs": [
    {
     "output_type": "execute_result",
     "data": {
      "text/plain": [
       "                    name      club  age position  position_cat  market_value  \\\n",
       "0         Alexis Sanchez   Arsenal   28       LW             1          65.0   \n",
       "1             Mesut Ozil   Arsenal   28       AM             1          50.0   \n",
       "2              Petr Cech   Arsenal   35       GK             4           7.0   \n",
       "3           Theo Walcott   Arsenal   28       RW             1          20.0   \n",
       "4      Laurent Koscielny   Arsenal   31       CB             3          22.0   \n",
       "..                   ...       ...  ...      ...           ...           ...   \n",
       "460  Edimilson Fernandes  West+Ham   21       CM             2           5.0   \n",
       "461       Arthur Masuaku  West+Ham   23       LB             3           7.0   \n",
       "462            Sam Byram  West+Ham   23       RB             3           4.5   \n",
       "463      Ashley Fletcher  West+Ham   21       CF             1           1.0   \n",
       "464         Diafra Sakho  West+Ham   27       CF             1          10.0   \n",
       "\n",
       "     page_views  fpl_value fpl_sel  fpl_points  region     nationality  \\\n",
       "0          4329       12.0  17.10%         264       3           Chile   \n",
       "1          4395        9.5   5.60%         167       2         Germany   \n",
       "2          1529        5.5   5.90%         134       2  Czech Republic   \n",
       "3          2393        7.5   1.50%         122       1         England   \n",
       "4           912        6.0   0.70%         121       2          France   \n",
       "..          ...        ...     ...         ...     ...             ...   \n",
       "460         288        4.5   0.40%          38       2     Switzerland   \n",
       "461         199        4.5   0.20%          34       4        Congo DR   \n",
       "462         198        4.5   0.30%          29       1         England   \n",
       "463         412        4.5   5.90%          16       1         England   \n",
       "464         214        5.5   0.10%          12       4         Senegal   \n",
       "\n",
       "     new_foreign  age_cat  club_id  big_club  new_signing  \n",
       "0              0        4        1         1            0  \n",
       "1              0        4        1         1            0  \n",
       "2              0        6        1         1            0  \n",
       "3              0        4        1         1            0  \n",
       "4              0        4        1         1            0  \n",
       "..           ...      ...      ...       ...          ...  \n",
       "460            0        1       20         0            1  \n",
       "461            0        2       20         0            1  \n",
       "462            0        2       20         0            0  \n",
       "463            0        1       20         0            1  \n",
       "464            0        3       20         0            0  \n",
       "\n",
       "[462 rows x 17 columns]"
      ],
      "text/html": "<div>\n<style scoped>\n    .dataframe tbody tr th:only-of-type {\n        vertical-align: middle;\n    }\n\n    .dataframe tbody tr th {\n        vertical-align: top;\n    }\n\n    .dataframe thead th {\n        text-align: right;\n    }\n</style>\n<table border=\"1\" class=\"dataframe\">\n  <thead>\n    <tr style=\"text-align: right;\">\n      <th></th>\n      <th>name</th>\n      <th>club</th>\n      <th>age</th>\n      <th>position</th>\n      <th>position_cat</th>\n      <th>market_value</th>\n      <th>page_views</th>\n      <th>fpl_value</th>\n      <th>fpl_sel</th>\n      <th>fpl_points</th>\n      <th>region</th>\n      <th>nationality</th>\n      <th>new_foreign</th>\n      <th>age_cat</th>\n      <th>club_id</th>\n      <th>big_club</th>\n      <th>new_signing</th>\n    </tr>\n  </thead>\n  <tbody>\n    <tr>\n      <th>0</th>\n      <td>Alexis Sanchez</td>\n      <td>Arsenal</td>\n      <td>28</td>\n      <td>LW</td>\n      <td>1</td>\n      <td>65.0</td>\n      <td>4329</td>\n      <td>12.0</td>\n      <td>17.10%</td>\n      <td>264</td>\n      <td>3</td>\n      <td>Chile</td>\n      <td>0</td>\n      <td>4</td>\n      <td>1</td>\n      <td>1</td>\n      <td>0</td>\n    </tr>\n    <tr>\n      <th>1</th>\n      <td>Mesut Ozil</td>\n      <td>Arsenal</td>\n      <td>28</td>\n      <td>AM</td>\n      <td>1</td>\n      <td>50.0</td>\n      <td>4395</td>\n      <td>9.5</td>\n      <td>5.60%</td>\n      <td>167</td>\n      <td>2</td>\n      <td>Germany</td>\n      <td>0</td>\n      <td>4</td>\n      <td>1</td>\n      <td>1</td>\n      <td>0</td>\n    </tr>\n    <tr>\n      <th>2</th>\n      <td>Petr Cech</td>\n      <td>Arsenal</td>\n      <td>35</td>\n      <td>GK</td>\n      <td>4</td>\n      <td>7.0</td>\n      <td>1529</td>\n      <td>5.5</td>\n      <td>5.90%</td>\n      <td>134</td>\n      <td>2</td>\n      <td>Czech Republic</td>\n      <td>0</td>\n      <td>6</td>\n      <td>1</td>\n      <td>1</td>\n      <td>0</td>\n    </tr>\n    <tr>\n      <th>3</th>\n      <td>Theo Walcott</td>\n      <td>Arsenal</td>\n      <td>28</td>\n      <td>RW</td>\n      <td>1</td>\n      <td>20.0</td>\n      <td>2393</td>\n      <td>7.5</td>\n      <td>1.50%</td>\n      <td>122</td>\n      <td>1</td>\n      <td>England</td>\n      <td>0</td>\n      <td>4</td>\n      <td>1</td>\n      <td>1</td>\n      <td>0</td>\n    </tr>\n    <tr>\n      <th>4</th>\n      <td>Laurent Koscielny</td>\n      <td>Arsenal</td>\n      <td>31</td>\n      <td>CB</td>\n      <td>3</td>\n      <td>22.0</td>\n      <td>912</td>\n      <td>6.0</td>\n      <td>0.70%</td>\n      <td>121</td>\n      <td>2</td>\n      <td>France</td>\n      <td>0</td>\n      <td>4</td>\n      <td>1</td>\n      <td>1</td>\n      <td>0</td>\n    </tr>\n    <tr>\n      <th>...</th>\n      <td>...</td>\n      <td>...</td>\n      <td>...</td>\n      <td>...</td>\n      <td>...</td>\n      <td>...</td>\n      <td>...</td>\n      <td>...</td>\n      <td>...</td>\n      <td>...</td>\n      <td>...</td>\n      <td>...</td>\n      <td>...</td>\n      <td>...</td>\n      <td>...</td>\n      <td>...</td>\n      <td>...</td>\n    </tr>\n    <tr>\n      <th>460</th>\n      <td>Edimilson Fernandes</td>\n      <td>West+Ham</td>\n      <td>21</td>\n      <td>CM</td>\n      <td>2</td>\n      <td>5.0</td>\n      <td>288</td>\n      <td>4.5</td>\n      <td>0.40%</td>\n      <td>38</td>\n      <td>2</td>\n      <td>Switzerland</td>\n      <td>0</td>\n      <td>1</td>\n      <td>20</td>\n      <td>0</td>\n      <td>1</td>\n    </tr>\n    <tr>\n      <th>461</th>\n      <td>Arthur Masuaku</td>\n      <td>West+Ham</td>\n      <td>23</td>\n      <td>LB</td>\n      <td>3</td>\n      <td>7.0</td>\n      <td>199</td>\n      <td>4.5</td>\n      <td>0.20%</td>\n      <td>34</td>\n      <td>4</td>\n      <td>Congo DR</td>\n      <td>0</td>\n      <td>2</td>\n      <td>20</td>\n      <td>0</td>\n      <td>1</td>\n    </tr>\n    <tr>\n      <th>462</th>\n      <td>Sam Byram</td>\n      <td>West+Ham</td>\n      <td>23</td>\n      <td>RB</td>\n      <td>3</td>\n      <td>4.5</td>\n      <td>198</td>\n      <td>4.5</td>\n      <td>0.30%</td>\n      <td>29</td>\n      <td>1</td>\n      <td>England</td>\n      <td>0</td>\n      <td>2</td>\n      <td>20</td>\n      <td>0</td>\n      <td>0</td>\n    </tr>\n    <tr>\n      <th>463</th>\n      <td>Ashley Fletcher</td>\n      <td>West+Ham</td>\n      <td>21</td>\n      <td>CF</td>\n      <td>1</td>\n      <td>1.0</td>\n      <td>412</td>\n      <td>4.5</td>\n      <td>5.90%</td>\n      <td>16</td>\n      <td>1</td>\n      <td>England</td>\n      <td>0</td>\n      <td>1</td>\n      <td>20</td>\n      <td>0</td>\n      <td>1</td>\n    </tr>\n    <tr>\n      <th>464</th>\n      <td>Diafra Sakho</td>\n      <td>West+Ham</td>\n      <td>27</td>\n      <td>CF</td>\n      <td>1</td>\n      <td>10.0</td>\n      <td>214</td>\n      <td>5.5</td>\n      <td>0.10%</td>\n      <td>12</td>\n      <td>4</td>\n      <td>Senegal</td>\n      <td>0</td>\n      <td>3</td>\n      <td>20</td>\n      <td>0</td>\n      <td>0</td>\n    </tr>\n  </tbody>\n</table>\n<p>462 rows × 17 columns</p>\n</div>"
     },
     "metadata": {},
     "execution_count": 48
    }
   ],
   "source": [
    "players.drop_duplicates()"
   ]
  },
  {
   "cell_type": "code",
   "execution_count": 50,
   "metadata": {},
   "outputs": [
    {
     "output_type": "execute_result",
     "data": {
      "text/plain": [
       "                name      club  age position  position_cat  market_value  \\\n",
       "2          Petr Cech   Arsenal   35       GK             4           7.0   \n",
       "5    Hector Bellerin   Arsenal   22       RB             3          30.0   \n",
       "6     Olivier Giroud   Arsenal   30       CF             1          22.0   \n",
       "7      Nacho Monreal   Arsenal   31       LB             3          13.0   \n",
       "18      Kieran Gibbs   Arsenal   27       LB             3          10.0   \n",
       "..               ...       ...  ...      ...           ...           ...   \n",
       "458   Angelo Ogbonna  West+Ham   29       CB             3           9.0   \n",
       "459   Pablo Zabaleta  West+Ham   32       RB             3           7.0   \n",
       "462        Sam Byram  West+Ham   23       RB             3           4.5   \n",
       "463  Ashley Fletcher  West+Ham   21       CF             1           1.0   \n",
       "464     Diafra Sakho  West+Ham   27       CF             1          10.0   \n",
       "\n",
       "     page_views  fpl_value fpl_sel  fpl_points  region     nationality  \\\n",
       "2          1529        5.5   5.90%         134       2  Czech Republic   \n",
       "5          1675        6.0  13.70%         119       2           Spain   \n",
       "6          2230        8.5   2.50%         116       2          France   \n",
       "7           555        5.5   4.70%         115       2           Spain   \n",
       "18          489        5.0   0.50%          45       1         England   \n",
       "..          ...        ...     ...         ...     ...             ...   \n",
       "458         247        4.5   1.10%          45       2           Italy   \n",
       "459         698        5.0   2.70%          45       3       Argentina   \n",
       "462         198        4.5   0.30%          29       1         England   \n",
       "463         412        4.5   5.90%          16       1         England   \n",
       "464         214        5.5   0.10%          12       4         Senegal   \n",
       "\n",
       "     new_foreign  age_cat  club_id  big_club  new_signing  \n",
       "2              0        6        1         1            0  \n",
       "5              0        2        1         1            0  \n",
       "6              0        4        1         1            0  \n",
       "7              0        4        1         1            0  \n",
       "18             0        3        1         1            0  \n",
       "..           ...      ...      ...       ...          ...  \n",
       "458            0        4       20         0            0  \n",
       "459            0        5       20         0            0  \n",
       "462            0        2       20         0            0  \n",
       "463            0        1       20         0            1  \n",
       "464            0        3       20         0            0  \n",
       "\n",
       "[240 rows x 17 columns]"
      ],
      "text/html": "<div>\n<style scoped>\n    .dataframe tbody tr th:only-of-type {\n        vertical-align: middle;\n    }\n\n    .dataframe tbody tr th {\n        vertical-align: top;\n    }\n\n    .dataframe thead th {\n        text-align: right;\n    }\n</style>\n<table border=\"1\" class=\"dataframe\">\n  <thead>\n    <tr style=\"text-align: right;\">\n      <th></th>\n      <th>name</th>\n      <th>club</th>\n      <th>age</th>\n      <th>position</th>\n      <th>position_cat</th>\n      <th>market_value</th>\n      <th>page_views</th>\n      <th>fpl_value</th>\n      <th>fpl_sel</th>\n      <th>fpl_points</th>\n      <th>region</th>\n      <th>nationality</th>\n      <th>new_foreign</th>\n      <th>age_cat</th>\n      <th>club_id</th>\n      <th>big_club</th>\n      <th>new_signing</th>\n    </tr>\n  </thead>\n  <tbody>\n    <tr>\n      <th>2</th>\n      <td>Petr Cech</td>\n      <td>Arsenal</td>\n      <td>35</td>\n      <td>GK</td>\n      <td>4</td>\n      <td>7.0</td>\n      <td>1529</td>\n      <td>5.5</td>\n      <td>5.90%</td>\n      <td>134</td>\n      <td>2</td>\n      <td>Czech Republic</td>\n      <td>0</td>\n      <td>6</td>\n      <td>1</td>\n      <td>1</td>\n      <td>0</td>\n    </tr>\n    <tr>\n      <th>5</th>\n      <td>Hector Bellerin</td>\n      <td>Arsenal</td>\n      <td>22</td>\n      <td>RB</td>\n      <td>3</td>\n      <td>30.0</td>\n      <td>1675</td>\n      <td>6.0</td>\n      <td>13.70%</td>\n      <td>119</td>\n      <td>2</td>\n      <td>Spain</td>\n      <td>0</td>\n      <td>2</td>\n      <td>1</td>\n      <td>1</td>\n      <td>0</td>\n    </tr>\n    <tr>\n      <th>6</th>\n      <td>Olivier Giroud</td>\n      <td>Arsenal</td>\n      <td>30</td>\n      <td>CF</td>\n      <td>1</td>\n      <td>22.0</td>\n      <td>2230</td>\n      <td>8.5</td>\n      <td>2.50%</td>\n      <td>116</td>\n      <td>2</td>\n      <td>France</td>\n      <td>0</td>\n      <td>4</td>\n      <td>1</td>\n      <td>1</td>\n      <td>0</td>\n    </tr>\n    <tr>\n      <th>7</th>\n      <td>Nacho Monreal</td>\n      <td>Arsenal</td>\n      <td>31</td>\n      <td>LB</td>\n      <td>3</td>\n      <td>13.0</td>\n      <td>555</td>\n      <td>5.5</td>\n      <td>4.70%</td>\n      <td>115</td>\n      <td>2</td>\n      <td>Spain</td>\n      <td>0</td>\n      <td>4</td>\n      <td>1</td>\n      <td>1</td>\n      <td>0</td>\n    </tr>\n    <tr>\n      <th>18</th>\n      <td>Kieran Gibbs</td>\n      <td>Arsenal</td>\n      <td>27</td>\n      <td>LB</td>\n      <td>3</td>\n      <td>10.0</td>\n      <td>489</td>\n      <td>5.0</td>\n      <td>0.50%</td>\n      <td>45</td>\n      <td>1</td>\n      <td>England</td>\n      <td>0</td>\n      <td>3</td>\n      <td>1</td>\n      <td>1</td>\n      <td>0</td>\n    </tr>\n    <tr>\n      <th>...</th>\n      <td>...</td>\n      <td>...</td>\n      <td>...</td>\n      <td>...</td>\n      <td>...</td>\n      <td>...</td>\n      <td>...</td>\n      <td>...</td>\n      <td>...</td>\n      <td>...</td>\n      <td>...</td>\n      <td>...</td>\n      <td>...</td>\n      <td>...</td>\n      <td>...</td>\n      <td>...</td>\n      <td>...</td>\n    </tr>\n    <tr>\n      <th>458</th>\n      <td>Angelo Ogbonna</td>\n      <td>West+Ham</td>\n      <td>29</td>\n      <td>CB</td>\n      <td>3</td>\n      <td>9.0</td>\n      <td>247</td>\n      <td>4.5</td>\n      <td>1.10%</td>\n      <td>45</td>\n      <td>2</td>\n      <td>Italy</td>\n      <td>0</td>\n      <td>4</td>\n      <td>20</td>\n      <td>0</td>\n      <td>0</td>\n    </tr>\n    <tr>\n      <th>459</th>\n      <td>Pablo Zabaleta</td>\n      <td>West+Ham</td>\n      <td>32</td>\n      <td>RB</td>\n      <td>3</td>\n      <td>7.0</td>\n      <td>698</td>\n      <td>5.0</td>\n      <td>2.70%</td>\n      <td>45</td>\n      <td>3</td>\n      <td>Argentina</td>\n      <td>0</td>\n      <td>5</td>\n      <td>20</td>\n      <td>0</td>\n      <td>0</td>\n    </tr>\n    <tr>\n      <th>462</th>\n      <td>Sam Byram</td>\n      <td>West+Ham</td>\n      <td>23</td>\n      <td>RB</td>\n      <td>3</td>\n      <td>4.5</td>\n      <td>198</td>\n      <td>4.5</td>\n      <td>0.30%</td>\n      <td>29</td>\n      <td>1</td>\n      <td>England</td>\n      <td>0</td>\n      <td>2</td>\n      <td>20</td>\n      <td>0</td>\n      <td>0</td>\n    </tr>\n    <tr>\n      <th>463</th>\n      <td>Ashley Fletcher</td>\n      <td>West+Ham</td>\n      <td>21</td>\n      <td>CF</td>\n      <td>1</td>\n      <td>1.0</td>\n      <td>412</td>\n      <td>4.5</td>\n      <td>5.90%</td>\n      <td>16</td>\n      <td>1</td>\n      <td>England</td>\n      <td>0</td>\n      <td>1</td>\n      <td>20</td>\n      <td>0</td>\n      <td>1</td>\n    </tr>\n    <tr>\n      <th>464</th>\n      <td>Diafra Sakho</td>\n      <td>West+Ham</td>\n      <td>27</td>\n      <td>CF</td>\n      <td>1</td>\n      <td>10.0</td>\n      <td>214</td>\n      <td>5.5</td>\n      <td>0.10%</td>\n      <td>12</td>\n      <td>4</td>\n      <td>Senegal</td>\n      <td>0</td>\n      <td>3</td>\n      <td>20</td>\n      <td>0</td>\n      <td>0</td>\n    </tr>\n  </tbody>\n</table>\n<p>240 rows × 17 columns</p>\n</div>"
     },
     "metadata": {},
     "execution_count": 50
    }
   ],
   "source": [
    "players.drop_duplicates(keep='last', subset=['club', 'age'])"
   ]
  },
  {
   "cell_type": "code",
   "execution_count": 51,
   "metadata": {},
   "outputs": [
    {
     "output_type": "execute_result",
     "data": {
      "text/plain": [
       "                    name      club position  position_cat  page_views  \\\n",
       "0         Alexis Sanchez   Arsenal       LW             1        4329   \n",
       "1             Mesut Ozil   Arsenal       AM             1        4395   \n",
       "2              Petr Cech   Arsenal       GK             4        1529   \n",
       "3           Theo Walcott   Arsenal       RW             1        2393   \n",
       "4      Laurent Koscielny   Arsenal       CB             3         912   \n",
       "..                   ...       ...      ...           ...         ...   \n",
       "460  Edimilson Fernandes  West+Ham       CM             2         288   \n",
       "461       Arthur Masuaku  West+Ham       LB             3         199   \n",
       "462            Sam Byram  West+Ham       RB             3         198   \n",
       "463      Ashley Fletcher  West+Ham       CF             1         412   \n",
       "464         Diafra Sakho  West+Ham       CF             1         214   \n",
       "\n",
       "     fpl_value fpl_sel  fpl_points  region     nationality  new_foreign  \\\n",
       "0         12.0  17.10%         264       3           Chile            0   \n",
       "1          9.5   5.60%         167       2         Germany            0   \n",
       "2          5.5   5.90%         134       2  Czech Republic            0   \n",
       "3          7.5   1.50%         122       1         England            0   \n",
       "4          6.0   0.70%         121       2          France            0   \n",
       "..         ...     ...         ...     ...             ...          ...   \n",
       "460        4.5   0.40%          38       2     Switzerland            0   \n",
       "461        4.5   0.20%          34       4        Congo DR            0   \n",
       "462        4.5   0.30%          29       1         England            0   \n",
       "463        4.5   5.90%          16       1         England            0   \n",
       "464        5.5   0.10%          12       4         Senegal            0   \n",
       "\n",
       "     age_cat  club_id  big_club  new_signing  \n",
       "0          4        1         1            0  \n",
       "1          4        1         1            0  \n",
       "2          6        1         1            0  \n",
       "3          4        1         1            0  \n",
       "4          4        1         1            0  \n",
       "..       ...      ...       ...          ...  \n",
       "460        1       20         0            1  \n",
       "461        2       20         0            1  \n",
       "462        2       20         0            0  \n",
       "463        1       20         0            1  \n",
       "464        3       20         0            0  \n",
       "\n",
       "[465 rows x 15 columns]"
      ],
      "text/html": "<div>\n<style scoped>\n    .dataframe tbody tr th:only-of-type {\n        vertical-align: middle;\n    }\n\n    .dataframe tbody tr th {\n        vertical-align: top;\n    }\n\n    .dataframe thead th {\n        text-align: right;\n    }\n</style>\n<table border=\"1\" class=\"dataframe\">\n  <thead>\n    <tr style=\"text-align: right;\">\n      <th></th>\n      <th>name</th>\n      <th>club</th>\n      <th>position</th>\n      <th>position_cat</th>\n      <th>page_views</th>\n      <th>fpl_value</th>\n      <th>fpl_sel</th>\n      <th>fpl_points</th>\n      <th>region</th>\n      <th>nationality</th>\n      <th>new_foreign</th>\n      <th>age_cat</th>\n      <th>club_id</th>\n      <th>big_club</th>\n      <th>new_signing</th>\n    </tr>\n  </thead>\n  <tbody>\n    <tr>\n      <th>0</th>\n      <td>Alexis Sanchez</td>\n      <td>Arsenal</td>\n      <td>LW</td>\n      <td>1</td>\n      <td>4329</td>\n      <td>12.0</td>\n      <td>17.10%</td>\n      <td>264</td>\n      <td>3</td>\n      <td>Chile</td>\n      <td>0</td>\n      <td>4</td>\n      <td>1</td>\n      <td>1</td>\n      <td>0</td>\n    </tr>\n    <tr>\n      <th>1</th>\n      <td>Mesut Ozil</td>\n      <td>Arsenal</td>\n      <td>AM</td>\n      <td>1</td>\n      <td>4395</td>\n      <td>9.5</td>\n      <td>5.60%</td>\n      <td>167</td>\n      <td>2</td>\n      <td>Germany</td>\n      <td>0</td>\n      <td>4</td>\n      <td>1</td>\n      <td>1</td>\n      <td>0</td>\n    </tr>\n    <tr>\n      <th>2</th>\n      <td>Petr Cech</td>\n      <td>Arsenal</td>\n      <td>GK</td>\n      <td>4</td>\n      <td>1529</td>\n      <td>5.5</td>\n      <td>5.90%</td>\n      <td>134</td>\n      <td>2</td>\n      <td>Czech Republic</td>\n      <td>0</td>\n      <td>6</td>\n      <td>1</td>\n      <td>1</td>\n      <td>0</td>\n    </tr>\n    <tr>\n      <th>3</th>\n      <td>Theo Walcott</td>\n      <td>Arsenal</td>\n      <td>RW</td>\n      <td>1</td>\n      <td>2393</td>\n      <td>7.5</td>\n      <td>1.50%</td>\n      <td>122</td>\n      <td>1</td>\n      <td>England</td>\n      <td>0</td>\n      <td>4</td>\n      <td>1</td>\n      <td>1</td>\n      <td>0</td>\n    </tr>\n    <tr>\n      <th>4</th>\n      <td>Laurent Koscielny</td>\n      <td>Arsenal</td>\n      <td>CB</td>\n      <td>3</td>\n      <td>912</td>\n      <td>6.0</td>\n      <td>0.70%</td>\n      <td>121</td>\n      <td>2</td>\n      <td>France</td>\n      <td>0</td>\n      <td>4</td>\n      <td>1</td>\n      <td>1</td>\n      <td>0</td>\n    </tr>\n    <tr>\n      <th>...</th>\n      <td>...</td>\n      <td>...</td>\n      <td>...</td>\n      <td>...</td>\n      <td>...</td>\n      <td>...</td>\n      <td>...</td>\n      <td>...</td>\n      <td>...</td>\n      <td>...</td>\n      <td>...</td>\n      <td>...</td>\n      <td>...</td>\n      <td>...</td>\n      <td>...</td>\n    </tr>\n    <tr>\n      <th>460</th>\n      <td>Edimilson Fernandes</td>\n      <td>West+Ham</td>\n      <td>CM</td>\n      <td>2</td>\n      <td>288</td>\n      <td>4.5</td>\n      <td>0.40%</td>\n      <td>38</td>\n      <td>2</td>\n      <td>Switzerland</td>\n      <td>0</td>\n      <td>1</td>\n      <td>20</td>\n      <td>0</td>\n      <td>1</td>\n    </tr>\n    <tr>\n      <th>461</th>\n      <td>Arthur Masuaku</td>\n      <td>West+Ham</td>\n      <td>LB</td>\n      <td>3</td>\n      <td>199</td>\n      <td>4.5</td>\n      <td>0.20%</td>\n      <td>34</td>\n      <td>4</td>\n      <td>Congo DR</td>\n      <td>0</td>\n      <td>2</td>\n      <td>20</td>\n      <td>0</td>\n      <td>1</td>\n    </tr>\n    <tr>\n      <th>462</th>\n      <td>Sam Byram</td>\n      <td>West+Ham</td>\n      <td>RB</td>\n      <td>3</td>\n      <td>198</td>\n      <td>4.5</td>\n      <td>0.30%</td>\n      <td>29</td>\n      <td>1</td>\n      <td>England</td>\n      <td>0</td>\n      <td>2</td>\n      <td>20</td>\n      <td>0</td>\n      <td>0</td>\n    </tr>\n    <tr>\n      <th>463</th>\n      <td>Ashley Fletcher</td>\n      <td>West+Ham</td>\n      <td>CF</td>\n      <td>1</td>\n      <td>412</td>\n      <td>4.5</td>\n      <td>5.90%</td>\n      <td>16</td>\n      <td>1</td>\n      <td>England</td>\n      <td>0</td>\n      <td>1</td>\n      <td>20</td>\n      <td>0</td>\n      <td>1</td>\n    </tr>\n    <tr>\n      <th>464</th>\n      <td>Diafra Sakho</td>\n      <td>West+Ham</td>\n      <td>CF</td>\n      <td>1</td>\n      <td>214</td>\n      <td>5.5</td>\n      <td>0.10%</td>\n      <td>12</td>\n      <td>4</td>\n      <td>Senegal</td>\n      <td>0</td>\n      <td>3</td>\n      <td>20</td>\n      <td>0</td>\n      <td>0</td>\n    </tr>\n  </tbody>\n</table>\n<p>465 rows × 15 columns</p>\n</div>"
     },
     "metadata": {},
     "execution_count": 51
    }
   ],
   "source": [
    "players.drop(columns=['age', 'market_value'])"
   ]
  },
  {
   "cell_type": "code",
   "execution_count": 52,
   "metadata": {},
   "outputs": [
    {
     "output_type": "execute_result",
     "data": {
      "text/plain": [
       "                    name      club  age position  position_cat  market_value  \\\n",
       "0         Alexis Sanchez   Arsenal   28       LW             1          65.0   \n",
       "3           Theo Walcott   Arsenal   28       RW             1          20.0   \n",
       "4      Laurent Koscielny   Arsenal   31       CB             3          22.0   \n",
       "5        Hector Bellerin   Arsenal   22       RB             3          30.0   \n",
       "6         Olivier Giroud   Arsenal   30       CF             1          22.0   \n",
       "..                   ...       ...  ...      ...           ...           ...   \n",
       "460  Edimilson Fernandes  West+Ham   21       CM             2           5.0   \n",
       "461       Arthur Masuaku  West+Ham   23       LB             3           7.0   \n",
       "462            Sam Byram  West+Ham   23       RB             3           4.5   \n",
       "463      Ashley Fletcher  West+Ham   21       CF             1           1.0   \n",
       "464         Diafra Sakho  West+Ham   27       CF             1          10.0   \n",
       "\n",
       "     page_views  fpl_value fpl_sel  fpl_points  region  nationality  \\\n",
       "0          4329       12.0  17.10%         264       3        Chile   \n",
       "3          2393        7.5   1.50%         122       1      England   \n",
       "4           912        6.0   0.70%         121       2       France   \n",
       "5          1675        6.0  13.70%         119       2        Spain   \n",
       "6          2230        8.5   2.50%         116       2       France   \n",
       "..          ...        ...     ...         ...     ...          ...   \n",
       "460         288        4.5   0.40%          38       2  Switzerland   \n",
       "461         199        4.5   0.20%          34       4     Congo DR   \n",
       "462         198        4.5   0.30%          29       1      England   \n",
       "463         412        4.5   5.90%          16       1      England   \n",
       "464         214        5.5   0.10%          12       4      Senegal   \n",
       "\n",
       "     new_foreign  age_cat  club_id  big_club  new_signing  \n",
       "0              0        4        1         1            0  \n",
       "3              0        4        1         1            0  \n",
       "4              0        4        1         1            0  \n",
       "5              0        2        1         1            0  \n",
       "6              0        4        1         1            0  \n",
       "..           ...      ...      ...       ...          ...  \n",
       "460            0        1       20         0            1  \n",
       "461            0        2       20         0            1  \n",
       "462            0        2       20         0            0  \n",
       "463            0        1       20         0            1  \n",
       "464            0        3       20         0            0  \n",
       "\n",
       "[463 rows x 17 columns]"
      ],
      "text/html": "<div>\n<style scoped>\n    .dataframe tbody tr th:only-of-type {\n        vertical-align: middle;\n    }\n\n    .dataframe tbody tr th {\n        vertical-align: top;\n    }\n\n    .dataframe thead th {\n        text-align: right;\n    }\n</style>\n<table border=\"1\" class=\"dataframe\">\n  <thead>\n    <tr style=\"text-align: right;\">\n      <th></th>\n      <th>name</th>\n      <th>club</th>\n      <th>age</th>\n      <th>position</th>\n      <th>position_cat</th>\n      <th>market_value</th>\n      <th>page_views</th>\n      <th>fpl_value</th>\n      <th>fpl_sel</th>\n      <th>fpl_points</th>\n      <th>region</th>\n      <th>nationality</th>\n      <th>new_foreign</th>\n      <th>age_cat</th>\n      <th>club_id</th>\n      <th>big_club</th>\n      <th>new_signing</th>\n    </tr>\n  </thead>\n  <tbody>\n    <tr>\n      <th>0</th>\n      <td>Alexis Sanchez</td>\n      <td>Arsenal</td>\n      <td>28</td>\n      <td>LW</td>\n      <td>1</td>\n      <td>65.0</td>\n      <td>4329</td>\n      <td>12.0</td>\n      <td>17.10%</td>\n      <td>264</td>\n      <td>3</td>\n      <td>Chile</td>\n      <td>0</td>\n      <td>4</td>\n      <td>1</td>\n      <td>1</td>\n      <td>0</td>\n    </tr>\n    <tr>\n      <th>3</th>\n      <td>Theo Walcott</td>\n      <td>Arsenal</td>\n      <td>28</td>\n      <td>RW</td>\n      <td>1</td>\n      <td>20.0</td>\n      <td>2393</td>\n      <td>7.5</td>\n      <td>1.50%</td>\n      <td>122</td>\n      <td>1</td>\n      <td>England</td>\n      <td>0</td>\n      <td>4</td>\n      <td>1</td>\n      <td>1</td>\n      <td>0</td>\n    </tr>\n    <tr>\n      <th>4</th>\n      <td>Laurent Koscielny</td>\n      <td>Arsenal</td>\n      <td>31</td>\n      <td>CB</td>\n      <td>3</td>\n      <td>22.0</td>\n      <td>912</td>\n      <td>6.0</td>\n      <td>0.70%</td>\n      <td>121</td>\n      <td>2</td>\n      <td>France</td>\n      <td>0</td>\n      <td>4</td>\n      <td>1</td>\n      <td>1</td>\n      <td>0</td>\n    </tr>\n    <tr>\n      <th>5</th>\n      <td>Hector Bellerin</td>\n      <td>Arsenal</td>\n      <td>22</td>\n      <td>RB</td>\n      <td>3</td>\n      <td>30.0</td>\n      <td>1675</td>\n      <td>6.0</td>\n      <td>13.70%</td>\n      <td>119</td>\n      <td>2</td>\n      <td>Spain</td>\n      <td>0</td>\n      <td>2</td>\n      <td>1</td>\n      <td>1</td>\n      <td>0</td>\n    </tr>\n    <tr>\n      <th>6</th>\n      <td>Olivier Giroud</td>\n      <td>Arsenal</td>\n      <td>30</td>\n      <td>CF</td>\n      <td>1</td>\n      <td>22.0</td>\n      <td>2230</td>\n      <td>8.5</td>\n      <td>2.50%</td>\n      <td>116</td>\n      <td>2</td>\n      <td>France</td>\n      <td>0</td>\n      <td>4</td>\n      <td>1</td>\n      <td>1</td>\n      <td>0</td>\n    </tr>\n    <tr>\n      <th>...</th>\n      <td>...</td>\n      <td>...</td>\n      <td>...</td>\n      <td>...</td>\n      <td>...</td>\n      <td>...</td>\n      <td>...</td>\n      <td>...</td>\n      <td>...</td>\n      <td>...</td>\n      <td>...</td>\n      <td>...</td>\n      <td>...</td>\n      <td>...</td>\n      <td>...</td>\n      <td>...</td>\n      <td>...</td>\n    </tr>\n    <tr>\n      <th>460</th>\n      <td>Edimilson Fernandes</td>\n      <td>West+Ham</td>\n      <td>21</td>\n      <td>CM</td>\n      <td>2</td>\n      <td>5.0</td>\n      <td>288</td>\n      <td>4.5</td>\n      <td>0.40%</td>\n      <td>38</td>\n      <td>2</td>\n      <td>Switzerland</td>\n      <td>0</td>\n      <td>1</td>\n      <td>20</td>\n      <td>0</td>\n      <td>1</td>\n    </tr>\n    <tr>\n      <th>461</th>\n      <td>Arthur Masuaku</td>\n      <td>West+Ham</td>\n      <td>23</td>\n      <td>LB</td>\n      <td>3</td>\n      <td>7.0</td>\n      <td>199</td>\n      <td>4.5</td>\n      <td>0.20%</td>\n      <td>34</td>\n      <td>4</td>\n      <td>Congo DR</td>\n      <td>0</td>\n      <td>2</td>\n      <td>20</td>\n      <td>0</td>\n      <td>1</td>\n    </tr>\n    <tr>\n      <th>462</th>\n      <td>Sam Byram</td>\n      <td>West+Ham</td>\n      <td>23</td>\n      <td>RB</td>\n      <td>3</td>\n      <td>4.5</td>\n      <td>198</td>\n      <td>4.5</td>\n      <td>0.30%</td>\n      <td>29</td>\n      <td>1</td>\n      <td>England</td>\n      <td>0</td>\n      <td>2</td>\n      <td>20</td>\n      <td>0</td>\n      <td>0</td>\n    </tr>\n    <tr>\n      <th>463</th>\n      <td>Ashley Fletcher</td>\n      <td>West+Ham</td>\n      <td>21</td>\n      <td>CF</td>\n      <td>1</td>\n      <td>1.0</td>\n      <td>412</td>\n      <td>4.5</td>\n      <td>5.90%</td>\n      <td>16</td>\n      <td>1</td>\n      <td>England</td>\n      <td>0</td>\n      <td>1</td>\n      <td>20</td>\n      <td>0</td>\n      <td>1</td>\n    </tr>\n    <tr>\n      <th>464</th>\n      <td>Diafra Sakho</td>\n      <td>West+Ham</td>\n      <td>27</td>\n      <td>CF</td>\n      <td>1</td>\n      <td>10.0</td>\n      <td>214</td>\n      <td>5.5</td>\n      <td>0.10%</td>\n      <td>12</td>\n      <td>4</td>\n      <td>Senegal</td>\n      <td>0</td>\n      <td>3</td>\n      <td>20</td>\n      <td>0</td>\n      <td>0</td>\n    </tr>\n  </tbody>\n</table>\n<p>463 rows × 17 columns</p>\n</div>"
     },
     "metadata": {},
     "execution_count": 52
    }
   ],
   "source": [
    "players.drop(index=[1, 2])"
   ]
  },
  {
   "cell_type": "code",
   "execution_count": 54,
   "metadata": {},
   "outputs": [
    {
     "output_type": "execute_result",
     "data": {
      "text/plain": [
       "                  name            club  age position  position_cat  \\\n",
       "30        Granit Xhaka         Arsenal   24      NaN             2   \n",
       "192       Steve Mounie    Huddersfield   22       CF             1   \n",
       "195  Kasper Schmeichel  Leicester+City   30       GK             4   \n",
       "\n",
       "     market_value  page_views  fpl_value fpl_sel  fpl_points  region  \\\n",
       "30            NaN        1815        5.5   2.00%          85       2   \n",
       "192           NaN          56        6.0   0.60%           0       2   \n",
       "195           NaN        1601        5.0   2.40%         109       2   \n",
       "\n",
       "     nationality  new_foreign  age_cat  club_id  big_club  new_signing  \n",
       "30   Switzerland            0        2        1         1            0  \n",
       "192        Benin            0        2        8         0            0  \n",
       "195      Denmark            0        4        9         0            0  "
      ],
      "text/html": "<div>\n<style scoped>\n    .dataframe tbody tr th:only-of-type {\n        vertical-align: middle;\n    }\n\n    .dataframe tbody tr th {\n        vertical-align: top;\n    }\n\n    .dataframe thead th {\n        text-align: right;\n    }\n</style>\n<table border=\"1\" class=\"dataframe\">\n  <thead>\n    <tr style=\"text-align: right;\">\n      <th></th>\n      <th>name</th>\n      <th>club</th>\n      <th>age</th>\n      <th>position</th>\n      <th>position_cat</th>\n      <th>market_value</th>\n      <th>page_views</th>\n      <th>fpl_value</th>\n      <th>fpl_sel</th>\n      <th>fpl_points</th>\n      <th>region</th>\n      <th>nationality</th>\n      <th>new_foreign</th>\n      <th>age_cat</th>\n      <th>club_id</th>\n      <th>big_club</th>\n      <th>new_signing</th>\n    </tr>\n  </thead>\n  <tbody>\n    <tr>\n      <th>30</th>\n      <td>Granit Xhaka</td>\n      <td>Arsenal</td>\n      <td>24</td>\n      <td>NaN</td>\n      <td>2</td>\n      <td>NaN</td>\n      <td>1815</td>\n      <td>5.5</td>\n      <td>2.00%</td>\n      <td>85</td>\n      <td>2</td>\n      <td>Switzerland</td>\n      <td>0</td>\n      <td>2</td>\n      <td>1</td>\n      <td>1</td>\n      <td>0</td>\n    </tr>\n    <tr>\n      <th>192</th>\n      <td>Steve Mounie</td>\n      <td>Huddersfield</td>\n      <td>22</td>\n      <td>CF</td>\n      <td>1</td>\n      <td>NaN</td>\n      <td>56</td>\n      <td>6.0</td>\n      <td>0.60%</td>\n      <td>0</td>\n      <td>2</td>\n      <td>Benin</td>\n      <td>0</td>\n      <td>2</td>\n      <td>8</td>\n      <td>0</td>\n      <td>0</td>\n    </tr>\n    <tr>\n      <th>195</th>\n      <td>Kasper Schmeichel</td>\n      <td>Leicester+City</td>\n      <td>30</td>\n      <td>GK</td>\n      <td>4</td>\n      <td>NaN</td>\n      <td>1601</td>\n      <td>5.0</td>\n      <td>2.40%</td>\n      <td>109</td>\n      <td>2</td>\n      <td>Denmark</td>\n      <td>0</td>\n      <td>4</td>\n      <td>9</td>\n      <td>0</td>\n      <td>0</td>\n    </tr>\n  </tbody>\n</table>\n</div>"
     },
     "metadata": {},
     "execution_count": 54
    }
   ],
   "source": [
    "players.loc[players.isna().values].drop_duplicates()"
   ]
  },
  {
   "cell_type": "code",
   "execution_count": 60,
   "metadata": {},
   "outputs": [
    {
     "output_type": "execute_result",
     "data": {
      "text/plain": [
       "                  name            club  age position  position_cat  \\\n",
       "30        Granit Xhaka         Arsenal   24       -1             2   \n",
       "192       Steve Mounie    Huddersfield   22       CF             1   \n",
       "195  Kasper Schmeichel  Leicester+City   30       GK             4   \n",
       "\n",
       "     market_value  page_views  fpl_value fpl_sel  fpl_points  region  \\\n",
       "30           -1.0        1815        5.5   2.00%          85       2   \n",
       "192          -1.0          56        6.0   0.60%           0       2   \n",
       "195          -1.0        1601        5.0   2.40%         109       2   \n",
       "\n",
       "     nationality  new_foreign  age_cat  club_id  big_club  new_signing  \n",
       "30   Switzerland            0        2        1         1            0  \n",
       "192        Benin            0        2        8         0            0  \n",
       "195      Denmark            0        4        9         0            0  "
      ],
      "text/html": "<div>\n<style scoped>\n    .dataframe tbody tr th:only-of-type {\n        vertical-align: middle;\n    }\n\n    .dataframe tbody tr th {\n        vertical-align: top;\n    }\n\n    .dataframe thead th {\n        text-align: right;\n    }\n</style>\n<table border=\"1\" class=\"dataframe\">\n  <thead>\n    <tr style=\"text-align: right;\">\n      <th></th>\n      <th>name</th>\n      <th>club</th>\n      <th>age</th>\n      <th>position</th>\n      <th>position_cat</th>\n      <th>market_value</th>\n      <th>page_views</th>\n      <th>fpl_value</th>\n      <th>fpl_sel</th>\n      <th>fpl_points</th>\n      <th>region</th>\n      <th>nationality</th>\n      <th>new_foreign</th>\n      <th>age_cat</th>\n      <th>club_id</th>\n      <th>big_club</th>\n      <th>new_signing</th>\n    </tr>\n  </thead>\n  <tbody>\n    <tr>\n      <th>30</th>\n      <td>Granit Xhaka</td>\n      <td>Arsenal</td>\n      <td>24</td>\n      <td>-1</td>\n      <td>2</td>\n      <td>-1.0</td>\n      <td>1815</td>\n      <td>5.5</td>\n      <td>2.00%</td>\n      <td>85</td>\n      <td>2</td>\n      <td>Switzerland</td>\n      <td>0</td>\n      <td>2</td>\n      <td>1</td>\n      <td>1</td>\n      <td>0</td>\n    </tr>\n    <tr>\n      <th>192</th>\n      <td>Steve Mounie</td>\n      <td>Huddersfield</td>\n      <td>22</td>\n      <td>CF</td>\n      <td>1</td>\n      <td>-1.0</td>\n      <td>56</td>\n      <td>6.0</td>\n      <td>0.60%</td>\n      <td>0</td>\n      <td>2</td>\n      <td>Benin</td>\n      <td>0</td>\n      <td>2</td>\n      <td>8</td>\n      <td>0</td>\n      <td>0</td>\n    </tr>\n    <tr>\n      <th>195</th>\n      <td>Kasper Schmeichel</td>\n      <td>Leicester+City</td>\n      <td>30</td>\n      <td>GK</td>\n      <td>4</td>\n      <td>-1.0</td>\n      <td>1601</td>\n      <td>5.0</td>\n      <td>2.40%</td>\n      <td>109</td>\n      <td>2</td>\n      <td>Denmark</td>\n      <td>0</td>\n      <td>4</td>\n      <td>9</td>\n      <td>0</td>\n      <td>0</td>\n    </tr>\n  </tbody>\n</table>\n</div>"
     },
     "metadata": {},
     "execution_count": 60
    }
   ],
   "source": [
    "players.fillna(-1).loc[[30, 192, 195]]"
   ]
  },
  {
   "cell_type": "code",
   "execution_count": 62,
   "metadata": {},
   "outputs": [
    {
     "output_type": "execute_result",
     "data": {
      "text/plain": [
       "                  name            club  age position  position_cat  \\\n",
       "30        Granit Xhaka         Arsenal   24       RM             2   \n",
       "192       Steve Mounie    Huddersfield   22       CF             1   \n",
       "195  Kasper Schmeichel  Leicester+City   30       GK             4   \n",
       "\n",
       "     market_value  page_views  fpl_value fpl_sel  fpl_points  region  \\\n",
       "30      11.125649        1815        5.5   2.00%          85       2   \n",
       "192     11.125649          56        6.0   0.60%           0       2   \n",
       "195     11.125649        1601        5.0   2.40%         109       2   \n",
       "\n",
       "     nationality  new_foreign  age_cat  club_id  big_club  new_signing  \n",
       "30   Switzerland            0        2        1         1            0  \n",
       "192        Benin            0        2        8         0            0  \n",
       "195      Denmark            0        4        9         0            0  "
      ],
      "text/html": "<div>\n<style scoped>\n    .dataframe tbody tr th:only-of-type {\n        vertical-align: middle;\n    }\n\n    .dataframe tbody tr th {\n        vertical-align: top;\n    }\n\n    .dataframe thead th {\n        text-align: right;\n    }\n</style>\n<table border=\"1\" class=\"dataframe\">\n  <thead>\n    <tr style=\"text-align: right;\">\n      <th></th>\n      <th>name</th>\n      <th>club</th>\n      <th>age</th>\n      <th>position</th>\n      <th>position_cat</th>\n      <th>market_value</th>\n      <th>page_views</th>\n      <th>fpl_value</th>\n      <th>fpl_sel</th>\n      <th>fpl_points</th>\n      <th>region</th>\n      <th>nationality</th>\n      <th>new_foreign</th>\n      <th>age_cat</th>\n      <th>club_id</th>\n      <th>big_club</th>\n      <th>new_signing</th>\n    </tr>\n  </thead>\n  <tbody>\n    <tr>\n      <th>30</th>\n      <td>Granit Xhaka</td>\n      <td>Arsenal</td>\n      <td>24</td>\n      <td>RM</td>\n      <td>2</td>\n      <td>11.125649</td>\n      <td>1815</td>\n      <td>5.5</td>\n      <td>2.00%</td>\n      <td>85</td>\n      <td>2</td>\n      <td>Switzerland</td>\n      <td>0</td>\n      <td>2</td>\n      <td>1</td>\n      <td>1</td>\n      <td>0</td>\n    </tr>\n    <tr>\n      <th>192</th>\n      <td>Steve Mounie</td>\n      <td>Huddersfield</td>\n      <td>22</td>\n      <td>CF</td>\n      <td>1</td>\n      <td>11.125649</td>\n      <td>56</td>\n      <td>6.0</td>\n      <td>0.60%</td>\n      <td>0</td>\n      <td>2</td>\n      <td>Benin</td>\n      <td>0</td>\n      <td>2</td>\n      <td>8</td>\n      <td>0</td>\n      <td>0</td>\n    </tr>\n    <tr>\n      <th>195</th>\n      <td>Kasper Schmeichel</td>\n      <td>Leicester+City</td>\n      <td>30</td>\n      <td>GK</td>\n      <td>4</td>\n      <td>11.125649</td>\n      <td>1601</td>\n      <td>5.0</td>\n      <td>2.40%</td>\n      <td>109</td>\n      <td>2</td>\n      <td>Denmark</td>\n      <td>0</td>\n      <td>4</td>\n      <td>9</td>\n      <td>0</td>\n      <td>0</td>\n    </tr>\n  </tbody>\n</table>\n</div>"
     },
     "metadata": {},
     "execution_count": 62
    }
   ],
   "source": [
    "players.fillna({'market_value': players.market_value.mean(), 'position': 'RM'}).loc[[30, 192, 195]]"
   ]
  },
  {
   "cell_type": "code",
   "execution_count": 68,
   "metadata": {},
   "outputs": [
    {
     "output_type": "execute_result",
     "data": {
      "text/plain": [
       "                  name            club  age  position_cat  page_views  \\\n",
       "30        Granit Xhaka         Arsenal   24             2        1815   \n",
       "192       Steve Mounie    Huddersfield   22             1          56   \n",
       "195  Kasper Schmeichel  Leicester+City   30             4        1601   \n",
       "\n",
       "     fpl_value fpl_sel  fpl_points  region  nationality  new_foreign  age_cat  \\\n",
       "30         5.5   2.00%          85       2  Switzerland            0        2   \n",
       "192        6.0   0.60%           0       2        Benin            0        2   \n",
       "195        5.0   2.40%         109       2      Denmark            0        4   \n",
       "\n",
       "     club_id  big_club  new_signing  \n",
       "30         1         1            0  \n",
       "192        8         0            0  \n",
       "195        9         0            0  "
      ],
      "text/html": "<div>\n<style scoped>\n    .dataframe tbody tr th:only-of-type {\n        vertical-align: middle;\n    }\n\n    .dataframe tbody tr th {\n        vertical-align: top;\n    }\n\n    .dataframe thead th {\n        text-align: right;\n    }\n</style>\n<table border=\"1\" class=\"dataframe\">\n  <thead>\n    <tr style=\"text-align: right;\">\n      <th></th>\n      <th>name</th>\n      <th>club</th>\n      <th>age</th>\n      <th>position_cat</th>\n      <th>page_views</th>\n      <th>fpl_value</th>\n      <th>fpl_sel</th>\n      <th>fpl_points</th>\n      <th>region</th>\n      <th>nationality</th>\n      <th>new_foreign</th>\n      <th>age_cat</th>\n      <th>club_id</th>\n      <th>big_club</th>\n      <th>new_signing</th>\n    </tr>\n  </thead>\n  <tbody>\n    <tr>\n      <th>30</th>\n      <td>Granit Xhaka</td>\n      <td>Arsenal</td>\n      <td>24</td>\n      <td>2</td>\n      <td>1815</td>\n      <td>5.5</td>\n      <td>2.00%</td>\n      <td>85</td>\n      <td>2</td>\n      <td>Switzerland</td>\n      <td>0</td>\n      <td>2</td>\n      <td>1</td>\n      <td>1</td>\n      <td>0</td>\n    </tr>\n    <tr>\n      <th>192</th>\n      <td>Steve Mounie</td>\n      <td>Huddersfield</td>\n      <td>22</td>\n      <td>1</td>\n      <td>56</td>\n      <td>6.0</td>\n      <td>0.60%</td>\n      <td>0</td>\n      <td>2</td>\n      <td>Benin</td>\n      <td>0</td>\n      <td>2</td>\n      <td>8</td>\n      <td>0</td>\n      <td>0</td>\n    </tr>\n    <tr>\n      <th>195</th>\n      <td>Kasper Schmeichel</td>\n      <td>Leicester+City</td>\n      <td>30</td>\n      <td>4</td>\n      <td>1601</td>\n      <td>5.0</td>\n      <td>2.40%</td>\n      <td>109</td>\n      <td>2</td>\n      <td>Denmark</td>\n      <td>0</td>\n      <td>4</td>\n      <td>9</td>\n      <td>0</td>\n      <td>0</td>\n    </tr>\n  </tbody>\n</table>\n</div>"
     },
     "metadata": {},
     "execution_count": 68
    }
   ],
   "source": [
    "players.dropna(axis=1, how='any').loc[[30, 192, 195]]"
   ]
  },
  {
   "cell_type": "code",
   "execution_count": 72,
   "metadata": {},
   "outputs": [],
   "source": [
    "df2 = players.drop(index=[2, 10, 21], columns=['market_value'])"
   ]
  },
  {
   "cell_type": "code",
   "execution_count": 78,
   "metadata": {},
   "outputs": [
    {
     "output_type": "execute_result",
     "data": {
      "text/plain": [
       "            name     club  age position  position_cat  page_views  fpl_value  \\\n",
       "30  Granit Xhaka  Arsenal   24      NaN             2        1815        5.5   \n",
       "\n",
       "   fpl_sel  fpl_points  region  nationality  new_foreign  age_cat  club_id  \\\n",
       "30   2.00%          85       2  Switzerland            0        2        1   \n",
       "\n",
       "    big_club  new_signing  \n",
       "30         1            0  "
      ],
      "text/html": "<div>\n<style scoped>\n    .dataframe tbody tr th:only-of-type {\n        vertical-align: middle;\n    }\n\n    .dataframe tbody tr th {\n        vertical-align: top;\n    }\n\n    .dataframe thead th {\n        text-align: right;\n    }\n</style>\n<table border=\"1\" class=\"dataframe\">\n  <thead>\n    <tr style=\"text-align: right;\">\n      <th></th>\n      <th>name</th>\n      <th>club</th>\n      <th>age</th>\n      <th>position</th>\n      <th>position_cat</th>\n      <th>page_views</th>\n      <th>fpl_value</th>\n      <th>fpl_sel</th>\n      <th>fpl_points</th>\n      <th>region</th>\n      <th>nationality</th>\n      <th>new_foreign</th>\n      <th>age_cat</th>\n      <th>club_id</th>\n      <th>big_club</th>\n      <th>new_signing</th>\n    </tr>\n  </thead>\n  <tbody>\n    <tr>\n      <th>30</th>\n      <td>Granit Xhaka</td>\n      <td>Arsenal</td>\n      <td>24</td>\n      <td>NaN</td>\n      <td>2</td>\n      <td>1815</td>\n      <td>5.5</td>\n      <td>2.00%</td>\n      <td>85</td>\n      <td>2</td>\n      <td>Switzerland</td>\n      <td>0</td>\n      <td>2</td>\n      <td>1</td>\n      <td>1</td>\n      <td>0</td>\n    </tr>\n  </tbody>\n</table>\n</div>"
     },
     "metadata": {},
     "execution_count": 78
    }
   ],
   "source": [
    "df2.loc[df2.isna().values]"
   ]
  },
  {
   "cell_type": "code",
   "execution_count": 89,
   "metadata": {},
   "outputs": [
    {
     "output_type": "execute_result",
     "data": {
      "text/plain": [
       "(61, 16)"
      ]
     },
     "metadata": {},
     "execution_count": 89
    }
   ],
   "source": [
    "df2.drop_duplicates(subset='nationality').shape"
   ]
  },
  {
   "cell_type": "code",
   "execution_count": 93,
   "metadata": {},
   "outputs": [
    {
     "output_type": "execute_result",
     "data": {
      "text/plain": [
       "age              26.776344\n",
       "position_cat      2.178495\n",
       "market_value     11.125649\n",
       "page_views      771.546237\n",
       "fpl_value         5.450538\n",
       "fpl_points       57.544086\n",
       "region            1.989247\n",
       "new_foreign       0.034409\n",
       "age_cat           3.195699\n",
       "club_id          10.253763\n",
       "big_club          0.309677\n",
       "new_signing       0.144086\n",
       "dtype: float64"
      ]
     },
     "metadata": {},
     "execution_count": 93
    }
   ],
   "source": [
    "players.agg('mean')"
   ]
  },
  {
   "cell_type": "code",
   "execution_count": 95,
   "metadata": {},
   "outputs": [
    {
     "output_type": "execute_result",
     "data": {
      "text/plain": [
       "name            Åukasz FabiaÅ„ski\n",
       "club                      West+Ham\n",
       "age                             38\n",
       "position_cat                     4\n",
       "market_value                    75\n",
       "page_views                    7664\n",
       "fpl_value                     12.5\n",
       "fpl_sel                      9.70%\n",
       "fpl_points                     264\n",
       "region                           4\n",
       "nationality                  Wales\n",
       "new_foreign                      1\n",
       "age_cat                          6\n",
       "club_id                         20\n",
       "big_club                         1\n",
       "new_signing                      1\n",
       "dtype: object"
      ]
     },
     "metadata": {},
     "execution_count": 95
    }
   ],
   "source": [
    "players.agg('max')"
   ]
  },
  {
   "cell_type": "code",
   "execution_count": 96,
   "metadata": {},
   "outputs": [
    {
     "output_type": "execute_result",
     "data": {
      "text/plain": [
       "age             17.00\n",
       "position_cat     1.00\n",
       "market_value     0.05\n",
       "page_views       3.00\n",
       "fpl_value        4.00\n",
       "fpl_points       0.00\n",
       "region           1.00\n",
       "new_foreign      0.00\n",
       "age_cat          1.00\n",
       "club_id          1.00\n",
       "big_club         0.00\n",
       "new_signing      0.00\n",
       "dtype: float64"
      ]
     },
     "metadata": {},
     "execution_count": 96
    }
   ],
   "source": [
    "players.select_dtypes(np.number).agg('min')"
   ]
  },
  {
   "cell_type": "code",
   "execution_count": 97,
   "metadata": {},
   "outputs": [
    {
     "output_type": "execute_result",
     "data": {
      "text/plain": [
       "            age  position_cat  market_value   page_views  fpl_value  \\\n",
       "min   17.000000      1.000000      0.050000     3.000000   4.000000   \n",
       "max   38.000000      4.000000     75.000000  7664.000000  12.500000   \n",
       "mean  26.776344      2.178495     11.125649   771.546237   5.450538   \n",
       "\n",
       "      fpl_points    region  new_foreign   age_cat    club_id  big_club  \\\n",
       "min     0.000000  1.000000     0.000000  1.000000   1.000000  0.000000   \n",
       "max   264.000000  4.000000     1.000000  6.000000  20.000000  1.000000   \n",
       "mean   57.544086  1.989247     0.034409  3.195699  10.253763  0.309677   \n",
       "\n",
       "      new_signing  \n",
       "min      0.000000  \n",
       "max      1.000000  \n",
       "mean     0.144086  "
      ],
      "text/html": "<div>\n<style scoped>\n    .dataframe tbody tr th:only-of-type {\n        vertical-align: middle;\n    }\n\n    .dataframe tbody tr th {\n        vertical-align: top;\n    }\n\n    .dataframe thead th {\n        text-align: right;\n    }\n</style>\n<table border=\"1\" class=\"dataframe\">\n  <thead>\n    <tr style=\"text-align: right;\">\n      <th></th>\n      <th>age</th>\n      <th>position_cat</th>\n      <th>market_value</th>\n      <th>page_views</th>\n      <th>fpl_value</th>\n      <th>fpl_points</th>\n      <th>region</th>\n      <th>new_foreign</th>\n      <th>age_cat</th>\n      <th>club_id</th>\n      <th>big_club</th>\n      <th>new_signing</th>\n    </tr>\n  </thead>\n  <tbody>\n    <tr>\n      <th>min</th>\n      <td>17.000000</td>\n      <td>1.000000</td>\n      <td>0.050000</td>\n      <td>3.000000</td>\n      <td>4.000000</td>\n      <td>0.000000</td>\n      <td>1.000000</td>\n      <td>0.000000</td>\n      <td>1.000000</td>\n      <td>1.000000</td>\n      <td>0.000000</td>\n      <td>0.000000</td>\n    </tr>\n    <tr>\n      <th>max</th>\n      <td>38.000000</td>\n      <td>4.000000</td>\n      <td>75.000000</td>\n      <td>7664.000000</td>\n      <td>12.500000</td>\n      <td>264.000000</td>\n      <td>4.000000</td>\n      <td>1.000000</td>\n      <td>6.000000</td>\n      <td>20.000000</td>\n      <td>1.000000</td>\n      <td>1.000000</td>\n    </tr>\n    <tr>\n      <th>mean</th>\n      <td>26.776344</td>\n      <td>2.178495</td>\n      <td>11.125649</td>\n      <td>771.546237</td>\n      <td>5.450538</td>\n      <td>57.544086</td>\n      <td>1.989247</td>\n      <td>0.034409</td>\n      <td>3.195699</td>\n      <td>10.253763</td>\n      <td>0.309677</td>\n      <td>0.144086</td>\n    </tr>\n  </tbody>\n</table>\n</div>"
     },
     "metadata": {},
     "execution_count": 97
    }
   ],
   "source": [
    "players.select_dtypes(np.number).agg(['min', 'max', 'mean'])"
   ]
  },
  {
   "cell_type": "code",
   "execution_count": 98,
   "metadata": {},
   "outputs": [
    {
     "output_type": "execute_result",
     "data": {
      "text/plain": [
       "     market_value  fpl_value\n",
       "0            65.0       12.0\n",
       "1            50.0        9.5\n",
       "2             7.0        5.5\n",
       "3            20.0        7.5\n",
       "4            22.0        6.0\n",
       "..            ...        ...\n",
       "460           5.0        4.5\n",
       "461           7.0        4.5\n",
       "462           4.5        4.5\n",
       "463           1.0        4.5\n",
       "464          10.0        5.5\n",
       "\n",
       "[465 rows x 2 columns]"
      ],
      "text/html": "<div>\n<style scoped>\n    .dataframe tbody tr th:only-of-type {\n        vertical-align: middle;\n    }\n\n    .dataframe tbody tr th {\n        vertical-align: top;\n    }\n\n    .dataframe thead th {\n        text-align: right;\n    }\n</style>\n<table border=\"1\" class=\"dataframe\">\n  <thead>\n    <tr style=\"text-align: right;\">\n      <th></th>\n      <th>market_value</th>\n      <th>fpl_value</th>\n    </tr>\n  </thead>\n  <tbody>\n    <tr>\n      <th>0</th>\n      <td>65.0</td>\n      <td>12.0</td>\n    </tr>\n    <tr>\n      <th>1</th>\n      <td>50.0</td>\n      <td>9.5</td>\n    </tr>\n    <tr>\n      <th>2</th>\n      <td>7.0</td>\n      <td>5.5</td>\n    </tr>\n    <tr>\n      <th>3</th>\n      <td>20.0</td>\n      <td>7.5</td>\n    </tr>\n    <tr>\n      <th>4</th>\n      <td>22.0</td>\n      <td>6.0</td>\n    </tr>\n    <tr>\n      <th>...</th>\n      <td>...</td>\n      <td>...</td>\n    </tr>\n    <tr>\n      <th>460</th>\n      <td>5.0</td>\n      <td>4.5</td>\n    </tr>\n    <tr>\n      <th>461</th>\n      <td>7.0</td>\n      <td>4.5</td>\n    </tr>\n    <tr>\n      <th>462</th>\n      <td>4.5</td>\n      <td>4.5</td>\n    </tr>\n    <tr>\n      <th>463</th>\n      <td>1.0</td>\n      <td>4.5</td>\n    </tr>\n    <tr>\n      <th>464</th>\n      <td>10.0</td>\n      <td>5.5</td>\n    </tr>\n  </tbody>\n</table>\n<p>465 rows × 2 columns</p>\n</div>"
     },
     "metadata": {},
     "execution_count": 98
    }
   ],
   "source": [
    "players.loc[:, ['market_value', 'fpl_value']]"
   ]
  },
  {
   "cell_type": "code",
   "execution_count": 99,
   "metadata": {},
   "outputs": [
    {
     "output_type": "execute_result",
     "data": {
      "text/plain": [
       "     market_value  fpl_value\n",
       "0           58.50      10.80\n",
       "1           45.00       8.55\n",
       "2            6.30       4.95\n",
       "3           18.00       6.75\n",
       "4           19.80       5.40\n",
       "..            ...        ...\n",
       "460          4.50       4.05\n",
       "461          6.30       4.05\n",
       "462          4.05       4.05\n",
       "463          0.90       4.05\n",
       "464          9.00       4.95\n",
       "\n",
       "[465 rows x 2 columns]"
      ],
      "text/html": "<div>\n<style scoped>\n    .dataframe tbody tr th:only-of-type {\n        vertical-align: middle;\n    }\n\n    .dataframe tbody tr th {\n        vertical-align: top;\n    }\n\n    .dataframe thead th {\n        text-align: right;\n    }\n</style>\n<table border=\"1\" class=\"dataframe\">\n  <thead>\n    <tr style=\"text-align: right;\">\n      <th></th>\n      <th>market_value</th>\n      <th>fpl_value</th>\n    </tr>\n  </thead>\n  <tbody>\n    <tr>\n      <th>0</th>\n      <td>58.50</td>\n      <td>10.80</td>\n    </tr>\n    <tr>\n      <th>1</th>\n      <td>45.00</td>\n      <td>8.55</td>\n    </tr>\n    <tr>\n      <th>2</th>\n      <td>6.30</td>\n      <td>4.95</td>\n    </tr>\n    <tr>\n      <th>3</th>\n      <td>18.00</td>\n      <td>6.75</td>\n    </tr>\n    <tr>\n      <th>4</th>\n      <td>19.80</td>\n      <td>5.40</td>\n    </tr>\n    <tr>\n      <th>...</th>\n      <td>...</td>\n      <td>...</td>\n    </tr>\n    <tr>\n      <th>460</th>\n      <td>4.50</td>\n      <td>4.05</td>\n    </tr>\n    <tr>\n      <th>461</th>\n      <td>6.30</td>\n      <td>4.05</td>\n    </tr>\n    <tr>\n      <th>462</th>\n      <td>4.05</td>\n      <td>4.05</td>\n    </tr>\n    <tr>\n      <th>463</th>\n      <td>0.90</td>\n      <td>4.05</td>\n    </tr>\n    <tr>\n      <th>464</th>\n      <td>9.00</td>\n      <td>4.95</td>\n    </tr>\n  </tbody>\n</table>\n<p>465 rows × 2 columns</p>\n</div>"
     },
     "metadata": {},
     "execution_count": 99
    }
   ],
   "source": [
    "players.loc[:, ['market_value', 'fpl_value']].transform(lambda x: x * 0.9)"
   ]
  },
  {
   "cell_type": "code",
   "execution_count": 100,
   "metadata": {},
   "outputs": [
    {
     "output_type": "execute_result",
     "data": {
      "text/plain": [
       "age              26.776344\n",
       "position_cat      2.178495\n",
       "market_value     11.125649\n",
       "page_views      771.546237\n",
       "fpl_value         5.450538\n",
       "fpl_points       57.544086\n",
       "region            1.989247\n",
       "new_foreign       0.034409\n",
       "age_cat           3.195699\n",
       "club_id          10.253763\n",
       "big_club          0.309677\n",
       "new_signing       0.144086\n",
       "dtype: float64"
      ]
     },
     "metadata": {},
     "execution_count": 100
    }
   ],
   "source": [
    "players.apply('mean')"
   ]
  },
  {
   "cell_type": "code",
   "execution_count": 101,
   "metadata": {},
   "outputs": [
    {
     "output_type": "execute_result",
     "data": {
      "text/plain": [
       "0      392.333333\n",
       "1      388.208333\n",
       "2      143.708333\n",
       "3      214.875000\n",
       "4       91.916667\n",
       "          ...    \n",
       "460     31.875000\n",
       "461     24.791667\n",
       "462     23.750000\n",
       "463     39.875000\n",
       "464     24.708333\n",
       "Length: 465, dtype: float64"
      ]
     },
     "metadata": {},
     "execution_count": 101
    }
   ],
   "source": [
    "players.apply('mean', axis=1)"
   ]
  },
  {
   "cell_type": "code",
   "execution_count": 103,
   "metadata": {},
   "outputs": [],
   "source": [
    "df1 = pd.DataFrame({\"城市\": [\"北京\", \"上海\", \"广州\"], \"人口\": [1000, 2000, 1500]})"
   ]
  },
  {
   "cell_type": "code",
   "execution_count": 104,
   "metadata": {},
   "outputs": [],
   "source": [
    "df1['GDP'] = pd.Series([100, 200, 500])"
   ]
  },
  {
   "cell_type": "code",
   "execution_count": 105,
   "metadata": {},
   "outputs": [
    {
     "output_type": "execute_result",
     "data": {
      "text/plain": [
       "   城市    人口  GDP\n",
       "0  北京  1000  100\n",
       "1  上海  2000  200\n",
       "2  广州  1500  500"
      ],
      "text/html": "<div>\n<style scoped>\n    .dataframe tbody tr th:only-of-type {\n        vertical-align: middle;\n    }\n\n    .dataframe tbody tr th {\n        vertical-align: top;\n    }\n\n    .dataframe thead th {\n        text-align: right;\n    }\n</style>\n<table border=\"1\" class=\"dataframe\">\n  <thead>\n    <tr style=\"text-align: right;\">\n      <th></th>\n      <th>城市</th>\n      <th>人口</th>\n      <th>GDP</th>\n    </tr>\n  </thead>\n  <tbody>\n    <tr>\n      <th>0</th>\n      <td>北京</td>\n      <td>1000</td>\n      <td>100</td>\n    </tr>\n    <tr>\n      <th>1</th>\n      <td>上海</td>\n      <td>2000</td>\n      <td>200</td>\n    </tr>\n    <tr>\n      <th>2</th>\n      <td>广州</td>\n      <td>1500</td>\n      <td>500</td>\n    </tr>\n  </tbody>\n</table>\n</div>"
     },
     "metadata": {},
     "execution_count": 105
    }
   ],
   "source": [
    "df1"
   ]
  },
  {
   "cell_type": "code",
   "execution_count": 108,
   "metadata": {},
   "outputs": [],
   "source": [
    "df1 = df1.drop(columns='GDP')"
   ]
  },
  {
   "cell_type": "code",
   "execution_count": 109,
   "metadata": {},
   "outputs": [],
   "source": [
    "df1.insert(0, 'GDP', pd.Series([100, 200, 500]))"
   ]
  },
  {
   "cell_type": "code",
   "execution_count": 110,
   "metadata": {},
   "outputs": [
    {
     "output_type": "execute_result",
     "data": {
      "text/plain": [
       "   GDP  城市    人口\n",
       "0  100  北京  1000\n",
       "1  200  上海  2000\n",
       "2  500  广州  1500"
      ],
      "text/html": "<div>\n<style scoped>\n    .dataframe tbody tr th:only-of-type {\n        vertical-align: middle;\n    }\n\n    .dataframe tbody tr th {\n        vertical-align: top;\n    }\n\n    .dataframe thead th {\n        text-align: right;\n    }\n</style>\n<table border=\"1\" class=\"dataframe\">\n  <thead>\n    <tr style=\"text-align: right;\">\n      <th></th>\n      <th>GDP</th>\n      <th>城市</th>\n      <th>人口</th>\n    </tr>\n  </thead>\n  <tbody>\n    <tr>\n      <th>0</th>\n      <td>100</td>\n      <td>北京</td>\n      <td>1000</td>\n    </tr>\n    <tr>\n      <th>1</th>\n      <td>200</td>\n      <td>上海</td>\n      <td>2000</td>\n    </tr>\n    <tr>\n      <th>2</th>\n      <td>500</td>\n      <td>广州</td>\n      <td>1500</td>\n    </tr>\n  </tbody>\n</table>\n</div>"
     },
     "metadata": {},
     "execution_count": 110
    }
   ],
   "source": [
    "df1"
   ]
  },
  {
   "cell_type": "code",
   "execution_count": 111,
   "metadata": {},
   "outputs": [
    {
     "output_type": "execute_result",
     "data": {
      "text/plain": [
       "   GDP  城市    人口  goals new_col\n",
       "0  100  北京  1000    100     123\n",
       "1  200  上海  2000    200     234\n",
       "2  500  广州  1500    300     456"
      ],
      "text/html": "<div>\n<style scoped>\n    .dataframe tbody tr th:only-of-type {\n        vertical-align: middle;\n    }\n\n    .dataframe tbody tr th {\n        vertical-align: top;\n    }\n\n    .dataframe thead th {\n        text-align: right;\n    }\n</style>\n<table border=\"1\" class=\"dataframe\">\n  <thead>\n    <tr style=\"text-align: right;\">\n      <th></th>\n      <th>GDP</th>\n      <th>城市</th>\n      <th>人口</th>\n      <th>goals</th>\n      <th>new_col</th>\n    </tr>\n  </thead>\n  <tbody>\n    <tr>\n      <th>0</th>\n      <td>100</td>\n      <td>北京</td>\n      <td>1000</td>\n      <td>100</td>\n      <td>123</td>\n    </tr>\n    <tr>\n      <th>1</th>\n      <td>200</td>\n      <td>上海</td>\n      <td>2000</td>\n      <td>200</td>\n      <td>234</td>\n    </tr>\n    <tr>\n      <th>2</th>\n      <td>500</td>\n      <td>广州</td>\n      <td>1500</td>\n      <td>300</td>\n      <td>456</td>\n    </tr>\n  </tbody>\n</table>\n</div>"
     },
     "metadata": {},
     "execution_count": 111
    }
   ],
   "source": [
    "df1.assign(goals=[100, 200, 300], new_col=['123', '234', '456'])"
   ]
  },
  {
   "cell_type": "code",
   "execution_count": 112,
   "metadata": {},
   "outputs": [
    {
     "output_type": "execute_result",
     "data": {
      "text/plain": [
       "   GDP  城市    人口\n",
       "0  100  北京  1000\n",
       "1  200  上海  2000\n",
       "2  500  广州  1500"
      ],
      "text/html": "<div>\n<style scoped>\n    .dataframe tbody tr th:only-of-type {\n        vertical-align: middle;\n    }\n\n    .dataframe tbody tr th {\n        vertical-align: top;\n    }\n\n    .dataframe thead th {\n        text-align: right;\n    }\n</style>\n<table border=\"1\" class=\"dataframe\">\n  <thead>\n    <tr style=\"text-align: right;\">\n      <th></th>\n      <th>GDP</th>\n      <th>城市</th>\n      <th>人口</th>\n    </tr>\n  </thead>\n  <tbody>\n    <tr>\n      <th>0</th>\n      <td>100</td>\n      <td>北京</td>\n      <td>1000</td>\n    </tr>\n    <tr>\n      <th>1</th>\n      <td>200</td>\n      <td>上海</td>\n      <td>2000</td>\n    </tr>\n    <tr>\n      <th>2</th>\n      <td>500</td>\n      <td>广州</td>\n      <td>1500</td>\n    </tr>\n  </tbody>\n</table>\n</div>"
     },
     "metadata": {},
     "execution_count": 112
    }
   ],
   "source": [
    "df1"
   ]
  },
  {
   "cell_type": "code",
   "execution_count": 113,
   "metadata": {},
   "outputs": [],
   "source": [
    "df1 = pd.DataFrame({\"城市\": [\"北京\", \"上海\", \"广州\"], \"人口\": [1000, 2000, 1500]})"
   ]
  },
  {
   "cell_type": "code",
   "execution_count": 122,
   "metadata": {},
   "outputs": [
    {
     "output_type": "execute_result",
     "data": {
      "text/plain": [
       "   城市    人口\n",
       "0  北京  1000\n",
       "1  上海  2000\n",
       "2  广州  1500\n",
       "4  西安  1000"
      ],
      "text/html": "<div>\n<style scoped>\n    .dataframe tbody tr th:only-of-type {\n        vertical-align: middle;\n    }\n\n    .dataframe tbody tr th {\n        vertical-align: top;\n    }\n\n    .dataframe thead th {\n        text-align: right;\n    }\n</style>\n<table border=\"1\" class=\"dataframe\">\n  <thead>\n    <tr style=\"text-align: right;\">\n      <th></th>\n      <th>城市</th>\n      <th>人口</th>\n    </tr>\n  </thead>\n  <tbody>\n    <tr>\n      <th>0</th>\n      <td>北京</td>\n      <td>1000</td>\n    </tr>\n    <tr>\n      <th>1</th>\n      <td>上海</td>\n      <td>2000</td>\n    </tr>\n    <tr>\n      <th>2</th>\n      <td>广州</td>\n      <td>1500</td>\n    </tr>\n    <tr>\n      <th>4</th>\n      <td>西安</td>\n      <td>1000</td>\n    </tr>\n  </tbody>\n</table>\n</div>"
     },
     "metadata": {},
     "execution_count": 122
    }
   ],
   "source": [
    "df1.append(pd.Series({'城市': '西安', '人口': 1000}, name=4))"
   ]
  },
  {
   "cell_type": "code",
   "execution_count": 126,
   "metadata": {},
   "outputs": [
    {
     "output_type": "execute_result",
     "data": {
      "text/plain": [
       "   城市    人口\n",
       "0  北京  1000\n",
       "1  上海  2000\n",
       "2  广州  1500\n",
       "3  虎林   300\n",
       "4  沈阳   800"
      ],
      "text/html": "<div>\n<style scoped>\n    .dataframe tbody tr th:only-of-type {\n        vertical-align: middle;\n    }\n\n    .dataframe tbody tr th {\n        vertical-align: top;\n    }\n\n    .dataframe thead th {\n        text-align: right;\n    }\n</style>\n<table border=\"1\" class=\"dataframe\">\n  <thead>\n    <tr style=\"text-align: right;\">\n      <th></th>\n      <th>城市</th>\n      <th>人口</th>\n    </tr>\n  </thead>\n  <tbody>\n    <tr>\n      <th>0</th>\n      <td>北京</td>\n      <td>1000</td>\n    </tr>\n    <tr>\n      <th>1</th>\n      <td>上海</td>\n      <td>2000</td>\n    </tr>\n    <tr>\n      <th>2</th>\n      <td>广州</td>\n      <td>1500</td>\n    </tr>\n    <tr>\n      <th>3</th>\n      <td>虎林</td>\n      <td>300</td>\n    </tr>\n    <tr>\n      <th>4</th>\n      <td>沈阳</td>\n      <td>800</td>\n    </tr>\n  </tbody>\n</table>\n</div>"
     },
     "metadata": {},
     "execution_count": 126
    }
   ],
   "source": [
    "df1.append(pd.DataFrame({'城市': ['虎林', '沈阳'], '人口': [300, 800]}, index=[3, 4]))"
   ]
  },
  {
   "cell_type": "code",
   "execution_count": null,
   "metadata": {},
   "outputs": [],
   "source": []
  }
 ],
 "metadata": {
  "kernelspec": {
   "display_name": "Python 3",
   "language": "python",
   "name": "python3"
  },
  "language_info": {
   "codemirror_mode": {
    "name": "ipython",
    "version": 3
   },
   "file_extension": ".py",
   "mimetype": "text/x-python",
   "name": "python",
   "nbconvert_exporter": "python",
   "pygments_lexer": "ipython3",
   "version": "3.7.6-final"
  }
 },
 "nbformat": 4,
 "nbformat_minor": 2
}