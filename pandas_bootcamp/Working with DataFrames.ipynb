{
 "metadata": {
  "language_info": {
   "codemirror_mode": {
    "name": "ipython",
    "version": 3
   },
   "file_extension": ".py",
   "mimetype": "text/x-python",
   "name": "python",
   "nbconvert_exporter": "python",
   "pygments_lexer": "ipython3",
   "version": "3.7.6-final"
  },
  "orig_nbformat": 2,
  "kernelspec": {
   "name": "python3",
   "display_name": "Python 3.7.6 64-bit ('base': conda)",
   "metadata": {
    "interpreter": {
     "hash": "e134e05457d34029b6460cd73bbf1ed73f339b5b6d98c95be70b69eba114fe95"
    }
   }
  }
 },
 "nbformat": 4,
 "nbformat_minor": 2,
 "cells": [
  {
   "cell_type": "code",
   "execution_count": 5,
   "metadata": {},
   "outputs": [],
   "source": [
    "import pandas as pd"
   ]
  },
  {
   "cell_type": "code",
   "execution_count": 6,
   "metadata": {},
   "outputs": [],
   "source": [
    "data = {'Country': ['Belgium', 'India', 'Brazil'], 'Capital': ['Brussels', 'New Delhi', 'Brasilia'], 'Population': [11190846, 1303171035, 207847528] }\n",
    "\n",
    "df1 = pd.DataFrame(data) # create dataframe"
   ]
  },
  {
   "cell_type": "code",
   "execution_count": 7,
   "metadata": {},
   "outputs": [
    {
     "output_type": "execute_result",
     "data": {
      "text/plain": [
       "   Country    Capital  Population\n",
       "0  Belgium   Brussels    11190846\n",
       "1    India  New Delhi  1303171035\n",
       "2   Brazil   Brasilia   207847528"
      ],
      "text/html": "<div>\n<style scoped>\n    .dataframe tbody tr th:only-of-type {\n        vertical-align: middle;\n    }\n\n    .dataframe tbody tr th {\n        vertical-align: top;\n    }\n\n    .dataframe thead th {\n        text-align: right;\n    }\n</style>\n<table border=\"1\" class=\"dataframe\">\n  <thead>\n    <tr style=\"text-align: right;\">\n      <th></th>\n      <th>Country</th>\n      <th>Capital</th>\n      <th>Population</th>\n    </tr>\n  </thead>\n  <tbody>\n    <tr>\n      <th>0</th>\n      <td>Belgium</td>\n      <td>Brussels</td>\n      <td>11190846</td>\n    </tr>\n    <tr>\n      <th>1</th>\n      <td>India</td>\n      <td>New Delhi</td>\n      <td>1303171035</td>\n    </tr>\n    <tr>\n      <th>2</th>\n      <td>Brazil</td>\n      <td>Brasilia</td>\n      <td>207847528</td>\n    </tr>\n  </tbody>\n</table>\n</div>"
     },
     "metadata": {},
     "execution_count": 7
    }
   ],
   "source": [
    "df1"
   ]
  },
  {
   "cell_type": "code",
   "execution_count": 8,
   "metadata": {},
   "outputs": [
    {
     "output_type": "stream",
     "name": "stdout",
     "text": [
      "<class 'pandas.core.frame.DataFrame'>\nRangeIndex: 3 entries, 0 to 2\nData columns (total 3 columns):\n #   Column      Non-Null Count  Dtype \n---  ------      --------------  ----- \n 0   Country     3 non-null      object\n 1   Capital     3 non-null      object\n 2   Population  3 non-null      int64 \ndtypes: int64(1), object(2)\nmemory usage: 200.0+ bytes\n"
     ]
    }
   ],
   "source": [
    "df1.info()"
   ]
  },
  {
   "cell_type": "code",
   "execution_count": 9,
   "metadata": {},
   "outputs": [],
   "source": [
    "data_url = 'https://andybek.com/pandas-nutrition'\n",
    "nutrition = pd.read_csv(data_url, index_col=[0])"
   ]
  },
  {
   "cell_type": "code",
   "execution_count": 10,
   "metadata": {},
   "outputs": [
    {
     "output_type": "stream",
     "name": "stdout",
     "text": [
      "<class 'pandas.core.frame.DataFrame'>\nInt64Index: 8789 entries, 0 to 8788\nColumns: 76 entries, name to water\ndtypes: int64(2), object(74)\nmemory usage: 40.6 MB\n"
     ]
    }
   ],
   "source": [
    "nutrition.info(verbose=False, memory_usage='deep')"
   ]
  },
  {
   "cell_type": "code",
   "execution_count": 11,
   "metadata": {},
   "outputs": [
    {
     "output_type": "execute_result",
     "data": {
      "text/plain": [
       "              name serving_size  calories total_fat saturated_fat cholesterol  \\\n",
       "0       Cornstarch        100 g       381      0.1g           NaN           0   \n",
       "1     Nuts, pecans        100 g       691       72g          6.2g           0   \n",
       "2    Eggplant, raw        100 g        25      0.2g           NaN           0   \n",
       "3   Teff, uncooked        100 g       367      2.4g          0.4g           0   \n",
       "4  Sherbet, orange        100 g       144        2g          1.2g         1mg   \n",
       "\n",
       "     sodium  choline     folate folic_acid  ...      fat  \\\n",
       "0   9.00 mg   0.4 mg   0.00 mcg   0.00 mcg  ...   0.05 g   \n",
       "1   0.00 mg  40.5 mg  22.00 mcg   0.00 mcg  ...  71.97 g   \n",
       "2   2.00 mg   6.9 mg  22.00 mcg   0.00 mcg  ...   0.18 g   \n",
       "3  12.00 mg  13.1 mg          0          0  ...   2.38 g   \n",
       "4  46.00 mg   7.7 mg   4.00 mcg   0.00 mcg  ...   2.00 g   \n",
       "\n",
       "  saturated_fatty_acids monounsaturated_fatty_acids  \\\n",
       "0               0.009 g                     0.016 g   \n",
       "1               6.180 g                    40.801 g   \n",
       "2               0.034 g                     0.016 g   \n",
       "3               0.449 g                     0.589 g   \n",
       "4               1.160 g                     0.530 g   \n",
       "\n",
       "  polyunsaturated_fatty_acids fatty_acids_total_trans alcohol     ash  \\\n",
       "0                     0.025 g                 0.00 mg   0.0 g  0.09 g   \n",
       "1                    21.614 g                 0.00 mg   0.0 g  1.49 g   \n",
       "2                     0.076 g                 0.00 mg   0.0 g  0.66 g   \n",
       "3                     1.071 g                       0       0  2.37 g   \n",
       "4                     0.080 g                 1.00 mg   0.0 g  0.40 g   \n",
       "\n",
       "  caffeine theobromine    water  \n",
       "0  0.00 mg     0.00 mg   8.32 g  \n",
       "1  0.00 mg     0.00 mg   3.52 g  \n",
       "2  0.00 mg     0.00 mg  92.30 g  \n",
       "3        0           0   8.82 g  \n",
       "4  0.00 mg     0.00 mg  66.10 g  \n",
       "\n",
       "[5 rows x 76 columns]"
      ],
      "text/html": "<div>\n<style scoped>\n    .dataframe tbody tr th:only-of-type {\n        vertical-align: middle;\n    }\n\n    .dataframe tbody tr th {\n        vertical-align: top;\n    }\n\n    .dataframe thead th {\n        text-align: right;\n    }\n</style>\n<table border=\"1\" class=\"dataframe\">\n  <thead>\n    <tr style=\"text-align: right;\">\n      <th></th>\n      <th>name</th>\n      <th>serving_size</th>\n      <th>calories</th>\n      <th>total_fat</th>\n      <th>saturated_fat</th>\n      <th>cholesterol</th>\n      <th>sodium</th>\n      <th>choline</th>\n      <th>folate</th>\n      <th>folic_acid</th>\n      <th>...</th>\n      <th>fat</th>\n      <th>saturated_fatty_acids</th>\n      <th>monounsaturated_fatty_acids</th>\n      <th>polyunsaturated_fatty_acids</th>\n      <th>fatty_acids_total_trans</th>\n      <th>alcohol</th>\n      <th>ash</th>\n      <th>caffeine</th>\n      <th>theobromine</th>\n      <th>water</th>\n    </tr>\n  </thead>\n  <tbody>\n    <tr>\n      <th>0</th>\n      <td>Cornstarch</td>\n      <td>100 g</td>\n      <td>381</td>\n      <td>0.1g</td>\n      <td>NaN</td>\n      <td>0</td>\n      <td>9.00 mg</td>\n      <td>0.4 mg</td>\n      <td>0.00 mcg</td>\n      <td>0.00 mcg</td>\n      <td>...</td>\n      <td>0.05 g</td>\n      <td>0.009 g</td>\n      <td>0.016 g</td>\n      <td>0.025 g</td>\n      <td>0.00 mg</td>\n      <td>0.0 g</td>\n      <td>0.09 g</td>\n      <td>0.00 mg</td>\n      <td>0.00 mg</td>\n      <td>8.32 g</td>\n    </tr>\n    <tr>\n      <th>1</th>\n      <td>Nuts, pecans</td>\n      <td>100 g</td>\n      <td>691</td>\n      <td>72g</td>\n      <td>6.2g</td>\n      <td>0</td>\n      <td>0.00 mg</td>\n      <td>40.5 mg</td>\n      <td>22.00 mcg</td>\n      <td>0.00 mcg</td>\n      <td>...</td>\n      <td>71.97 g</td>\n      <td>6.180 g</td>\n      <td>40.801 g</td>\n      <td>21.614 g</td>\n      <td>0.00 mg</td>\n      <td>0.0 g</td>\n      <td>1.49 g</td>\n      <td>0.00 mg</td>\n      <td>0.00 mg</td>\n      <td>3.52 g</td>\n    </tr>\n    <tr>\n      <th>2</th>\n      <td>Eggplant, raw</td>\n      <td>100 g</td>\n      <td>25</td>\n      <td>0.2g</td>\n      <td>NaN</td>\n      <td>0</td>\n      <td>2.00 mg</td>\n      <td>6.9 mg</td>\n      <td>22.00 mcg</td>\n      <td>0.00 mcg</td>\n      <td>...</td>\n      <td>0.18 g</td>\n      <td>0.034 g</td>\n      <td>0.016 g</td>\n      <td>0.076 g</td>\n      <td>0.00 mg</td>\n      <td>0.0 g</td>\n      <td>0.66 g</td>\n      <td>0.00 mg</td>\n      <td>0.00 mg</td>\n      <td>92.30 g</td>\n    </tr>\n    <tr>\n      <th>3</th>\n      <td>Teff, uncooked</td>\n      <td>100 g</td>\n      <td>367</td>\n      <td>2.4g</td>\n      <td>0.4g</td>\n      <td>0</td>\n      <td>12.00 mg</td>\n      <td>13.1 mg</td>\n      <td>0</td>\n      <td>0</td>\n      <td>...</td>\n      <td>2.38 g</td>\n      <td>0.449 g</td>\n      <td>0.589 g</td>\n      <td>1.071 g</td>\n      <td>0</td>\n      <td>0</td>\n      <td>2.37 g</td>\n      <td>0</td>\n      <td>0</td>\n      <td>8.82 g</td>\n    </tr>\n    <tr>\n      <th>4</th>\n      <td>Sherbet, orange</td>\n      <td>100 g</td>\n      <td>144</td>\n      <td>2g</td>\n      <td>1.2g</td>\n      <td>1mg</td>\n      <td>46.00 mg</td>\n      <td>7.7 mg</td>\n      <td>4.00 mcg</td>\n      <td>0.00 mcg</td>\n      <td>...</td>\n      <td>2.00 g</td>\n      <td>1.160 g</td>\n      <td>0.530 g</td>\n      <td>0.080 g</td>\n      <td>1.00 mg</td>\n      <td>0.0 g</td>\n      <td>0.40 g</td>\n      <td>0.00 mg</td>\n      <td>0.00 mg</td>\n      <td>66.10 g</td>\n    </tr>\n  </tbody>\n</table>\n<p>5 rows × 76 columns</p>\n</div>"
     },
     "metadata": {},
     "execution_count": 11
    }
   ],
   "source": [
    "nutrition.head()"
   ]
  },
  {
   "cell_type": "code",
   "execution_count": 12,
   "metadata": {},
   "outputs": [
    {
     "output_type": "execute_result",
     "data": {
      "text/plain": [
       "                                                   name serving_size  \\\n",
       "3987      Arrowhead, with salt, drained, boiled, cooked        100 g   \n",
       "7268  Fast Foods, tomato and spread, with lettuce, g...        100 g   \n",
       "3907      Cereals ready-to-eat, GRAPE-NUTS Cereal, POST        100 g   \n",
       "\n",
       "      calories total_fat saturated_fat cholesterol     sodium  choline  \\\n",
       "3987        78      0.1g           NaN           0  254.00 mg        0   \n",
       "7268       182      4.6g          0.9g        40mg  427.00 mg  45.6 mg   \n",
       "3907       361      1.8g          0.3g           0  465.00 mg  31.9 mg   \n",
       "\n",
       "          folate  folic_acid  ...     fat saturated_fatty_acids  \\\n",
       "3987    9.00 mcg    0.00 mcg  ...  0.10 g                     0   \n",
       "7268   39.00 mcg   26.00 mcg  ...  4.57 g               0.949 g   \n",
       "3907  345.00 mcg  326.00 mcg  ...  1.81 g               0.340 g   \n",
       "\n",
       "     monounsaturated_fatty_acids polyunsaturated_fatty_acids  \\\n",
       "3987                           0                           0   \n",
       "7268                     1.339 g                     1.839 g   \n",
       "3907                     0.210 g                     0.780 g   \n",
       "\n",
       "     fatty_acids_total_trans alcohol     ash caffeine theobromine    water  \n",
       "3987                 0.00 mg       0  2.19 g        0           0  77.08 g  \n",
       "7268                40.00 mg   0.0 g  1.29 g  0.00 mg     0.00 mg  60.44 g  \n",
       "3907                 0.00 mg   0.0 g  2.98 g  0.00 mg     0.00 mg   3.50 g  \n",
       "\n",
       "[3 rows x 76 columns]"
      ],
      "text/html": "<div>\n<style scoped>\n    .dataframe tbody tr th:only-of-type {\n        vertical-align: middle;\n    }\n\n    .dataframe tbody tr th {\n        vertical-align: top;\n    }\n\n    .dataframe thead th {\n        text-align: right;\n    }\n</style>\n<table border=\"1\" class=\"dataframe\">\n  <thead>\n    <tr style=\"text-align: right;\">\n      <th></th>\n      <th>name</th>\n      <th>serving_size</th>\n      <th>calories</th>\n      <th>total_fat</th>\n      <th>saturated_fat</th>\n      <th>cholesterol</th>\n      <th>sodium</th>\n      <th>choline</th>\n      <th>folate</th>\n      <th>folic_acid</th>\n      <th>...</th>\n      <th>fat</th>\n      <th>saturated_fatty_acids</th>\n      <th>monounsaturated_fatty_acids</th>\n      <th>polyunsaturated_fatty_acids</th>\n      <th>fatty_acids_total_trans</th>\n      <th>alcohol</th>\n      <th>ash</th>\n      <th>caffeine</th>\n      <th>theobromine</th>\n      <th>water</th>\n    </tr>\n  </thead>\n  <tbody>\n    <tr>\n      <th>3987</th>\n      <td>Arrowhead, with salt, drained, boiled, cooked</td>\n      <td>100 g</td>\n      <td>78</td>\n      <td>0.1g</td>\n      <td>NaN</td>\n      <td>0</td>\n      <td>254.00 mg</td>\n      <td>0</td>\n      <td>9.00 mcg</td>\n      <td>0.00 mcg</td>\n      <td>...</td>\n      <td>0.10 g</td>\n      <td>0</td>\n      <td>0</td>\n      <td>0</td>\n      <td>0.00 mg</td>\n      <td>0</td>\n      <td>2.19 g</td>\n      <td>0</td>\n      <td>0</td>\n      <td>77.08 g</td>\n    </tr>\n    <tr>\n      <th>7268</th>\n      <td>Fast Foods, tomato and spread, with lettuce, g...</td>\n      <td>100 g</td>\n      <td>182</td>\n      <td>4.6g</td>\n      <td>0.9g</td>\n      <td>40mg</td>\n      <td>427.00 mg</td>\n      <td>45.6 mg</td>\n      <td>39.00 mcg</td>\n      <td>26.00 mcg</td>\n      <td>...</td>\n      <td>4.57 g</td>\n      <td>0.949 g</td>\n      <td>1.339 g</td>\n      <td>1.839 g</td>\n      <td>40.00 mg</td>\n      <td>0.0 g</td>\n      <td>1.29 g</td>\n      <td>0.00 mg</td>\n      <td>0.00 mg</td>\n      <td>60.44 g</td>\n    </tr>\n    <tr>\n      <th>3907</th>\n      <td>Cereals ready-to-eat, GRAPE-NUTS Cereal, POST</td>\n      <td>100 g</td>\n      <td>361</td>\n      <td>1.8g</td>\n      <td>0.3g</td>\n      <td>0</td>\n      <td>465.00 mg</td>\n      <td>31.9 mg</td>\n      <td>345.00 mcg</td>\n      <td>326.00 mcg</td>\n      <td>...</td>\n      <td>1.81 g</td>\n      <td>0.340 g</td>\n      <td>0.210 g</td>\n      <td>0.780 g</td>\n      <td>0.00 mg</td>\n      <td>0.0 g</td>\n      <td>2.98 g</td>\n      <td>0.00 mg</td>\n      <td>0.00 mg</td>\n      <td>3.50 g</td>\n    </tr>\n  </tbody>\n</table>\n<p>3 rows × 76 columns</p>\n</div>"
     },
     "metadata": {},
     "execution_count": 12
    }
   ],
   "source": [
    "nutrition.sample(n=3)"
   ]
  },
  {
   "cell_type": "code",
   "execution_count": 13,
   "metadata": {},
   "outputs": [
    {
     "output_type": "execute_result",
     "data": {
      "text/plain": [
       "                                                   name serving_size  \\\n",
       "4642  Cereals ready-to-eat, WEETABIX whole grain cereal        100 g   \n",
       "3741    Waffles, toasted, ready -to-heat, frozen, plain        100 g   \n",
       "55                                Tomatoes, raw, yellow        100 g   \n",
       "2214             Crackers, regular, standard snack-type        100 g   \n",
       "8393  Beef, grilled, cooked, all grades, trimmed to ...        100 g   \n",
       "...                                                 ...          ...   \n",
       "1706                   KEEBLER, Original Crackers, CLUB        100 g   \n",
       "5419  Beans, with salt, boiled, cooked, mature seeds...        100 g   \n",
       "7401  POPEYES, skin and breading removed, meat only,...        100 g   \n",
       "1231                           SILK Key Lime soy yogurt        100 g   \n",
       "3476   Alcoholic beverage, Riesling, white, table, wine        100 g   \n",
       "\n",
       "      calories total_fat saturated_fat cholesterol     sodium   choline  \\\n",
       "4642       371      2.9g          0.5g           0  371.00 mg   31.8 mg   \n",
       "3741       312      9.6g          1.6g        15mg  730.00 mg   28.1 mg   \n",
       "55          15      0.3g           NaN           0   23.00 mg         0   \n",
       "2214       510       26g          5.6g           0  726.00 mg    9.6 mg   \n",
       "8393       276       19g          7.5g        83mg   64.00 mg   89.5 mg   \n",
       "...        ...       ...           ...         ...        ...       ...   \n",
       "1706       486       22g          3.6g           0  909.00 mg         0   \n",
       "5419       139      0.4g          0.1g           0  242.00 mg   35.1 mg   \n",
       "7401       212      9.4g          3.1g       156mg  814.00 mg  141.2 mg   \n",
       "1231        88      1.2g           NaN           0   15.00 mg         0   \n",
       "3476        80        0g           NaN           0          0         0   \n",
       "\n",
       "          folate folic_acid  ...      fat saturated_fatty_acids  \\\n",
       "4642   46.00 mcg   0.00 mcg  ...   2.86 g               0.480 g   \n",
       "3741   75.00 mcg  64.00 mcg  ...   9.61 g               1.638 g   \n",
       "55     30.00 mcg   0.00 mcg  ...   0.26 g               0.036 g   \n",
       "2214   92.00 mcg  84.00 mcg  ...  26.43 g               5.562 g   \n",
       "8393    4.00 mcg   0.00 mcg  ...  18.57 g               7.481 g   \n",
       "...          ...        ...  ...      ...                   ...   \n",
       "1706  120.00 mcg          0  ...  22.10 g               3.600 g   \n",
       "5419   81.00 mcg   0.00 mcg  ...   0.35 g               0.091 g   \n",
       "7401           0          0  ...   9.42 g               3.079 g   \n",
       "1231           0          0  ...   1.18 g               0.000 g   \n",
       "3476           0          0  ...   0.00 g                     0   \n",
       "\n",
       "     monounsaturated_fatty_acids polyunsaturated_fatty_acids  \\\n",
       "4642                     0.350 g                     1.170 g   \n",
       "3741                     4.914 g                     2.197 g   \n",
       "55                       0.040 g                     0.108 g   \n",
       "2214                     6.553 g                    13.137 g   \n",
       "8393                     8.287 g                     0.822 g   \n",
       "...                          ...                         ...   \n",
       "1706                     5.400 g                    12.900 g   \n",
       "5419                     0.031 g                     0.152 g   \n",
       "7401                     4.024 g                     1.391 g   \n",
       "1231                           0                           0   \n",
       "3476                           0                           0   \n",
       "\n",
       "     fatty_acids_total_trans alcohol     ash caffeine theobromine    water  \n",
       "4642                 0.00 mg   0.0 g  1.21 g  0.00 mg     0.00 mg   3.00 g  \n",
       "3741                15.00 mg   0.0 g  3.32 g  0.00 mg     0.00 mg  30.59 g  \n",
       "55                   0.00 mg       0  0.50 g        0           0  95.28 g  \n",
       "2214                 0.00 mg   0.0 g  2.49 g  0.00 mg     0.00 mg   3.14 g  \n",
       "8393                83.00 mg   0.0 g  0.98 g  0.00 mg     0.00 mg  55.60 g  \n",
       "...                      ...     ...     ...      ...         ...      ...  \n",
       "1706                 0.00 mg       0       0        0           0   2.00 g  \n",
       "5419                 0.00 mg       0  1.75 g        0           0  63.08 g  \n",
       "7401               156.00 mg       0  2.89 g        0           0  55.85 g  \n",
       "1231                 0.00 mg       0  1.24 g        0           0  77.59 g  \n",
       "3476                       0   9.5 g  0.17 g        0           0  86.56 g  \n",
       "\n",
       "[88 rows x 76 columns]"
      ],
      "text/html": "<div>\n<style scoped>\n    .dataframe tbody tr th:only-of-type {\n        vertical-align: middle;\n    }\n\n    .dataframe tbody tr th {\n        vertical-align: top;\n    }\n\n    .dataframe thead th {\n        text-align: right;\n    }\n</style>\n<table border=\"1\" class=\"dataframe\">\n  <thead>\n    <tr style=\"text-align: right;\">\n      <th></th>\n      <th>name</th>\n      <th>serving_size</th>\n      <th>calories</th>\n      <th>total_fat</th>\n      <th>saturated_fat</th>\n      <th>cholesterol</th>\n      <th>sodium</th>\n      <th>choline</th>\n      <th>folate</th>\n      <th>folic_acid</th>\n      <th>...</th>\n      <th>fat</th>\n      <th>saturated_fatty_acids</th>\n      <th>monounsaturated_fatty_acids</th>\n      <th>polyunsaturated_fatty_acids</th>\n      <th>fatty_acids_total_trans</th>\n      <th>alcohol</th>\n      <th>ash</th>\n      <th>caffeine</th>\n      <th>theobromine</th>\n      <th>water</th>\n    </tr>\n  </thead>\n  <tbody>\n    <tr>\n      <th>4642</th>\n      <td>Cereals ready-to-eat, WEETABIX whole grain cereal</td>\n      <td>100 g</td>\n      <td>371</td>\n      <td>2.9g</td>\n      <td>0.5g</td>\n      <td>0</td>\n      <td>371.00 mg</td>\n      <td>31.8 mg</td>\n      <td>46.00 mcg</td>\n      <td>0.00 mcg</td>\n      <td>...</td>\n      <td>2.86 g</td>\n      <td>0.480 g</td>\n      <td>0.350 g</td>\n      <td>1.170 g</td>\n      <td>0.00 mg</td>\n      <td>0.0 g</td>\n      <td>1.21 g</td>\n      <td>0.00 mg</td>\n      <td>0.00 mg</td>\n      <td>3.00 g</td>\n    </tr>\n    <tr>\n      <th>3741</th>\n      <td>Waffles, toasted, ready -to-heat, frozen, plain</td>\n      <td>100 g</td>\n      <td>312</td>\n      <td>9.6g</td>\n      <td>1.6g</td>\n      <td>15mg</td>\n      <td>730.00 mg</td>\n      <td>28.1 mg</td>\n      <td>75.00 mcg</td>\n      <td>64.00 mcg</td>\n      <td>...</td>\n      <td>9.61 g</td>\n      <td>1.638 g</td>\n      <td>4.914 g</td>\n      <td>2.197 g</td>\n      <td>15.00 mg</td>\n      <td>0.0 g</td>\n      <td>3.32 g</td>\n      <td>0.00 mg</td>\n      <td>0.00 mg</td>\n      <td>30.59 g</td>\n    </tr>\n    <tr>\n      <th>55</th>\n      <td>Tomatoes, raw, yellow</td>\n      <td>100 g</td>\n      <td>15</td>\n      <td>0.3g</td>\n      <td>NaN</td>\n      <td>0</td>\n      <td>23.00 mg</td>\n      <td>0</td>\n      <td>30.00 mcg</td>\n      <td>0.00 mcg</td>\n      <td>...</td>\n      <td>0.26 g</td>\n      <td>0.036 g</td>\n      <td>0.040 g</td>\n      <td>0.108 g</td>\n      <td>0.00 mg</td>\n      <td>0</td>\n      <td>0.50 g</td>\n      <td>0</td>\n      <td>0</td>\n      <td>95.28 g</td>\n    </tr>\n    <tr>\n      <th>2214</th>\n      <td>Crackers, regular, standard snack-type</td>\n      <td>100 g</td>\n      <td>510</td>\n      <td>26g</td>\n      <td>5.6g</td>\n      <td>0</td>\n      <td>726.00 mg</td>\n      <td>9.6 mg</td>\n      <td>92.00 mcg</td>\n      <td>84.00 mcg</td>\n      <td>...</td>\n      <td>26.43 g</td>\n      <td>5.562 g</td>\n      <td>6.553 g</td>\n      <td>13.137 g</td>\n      <td>0.00 mg</td>\n      <td>0.0 g</td>\n      <td>2.49 g</td>\n      <td>0.00 mg</td>\n      <td>0.00 mg</td>\n      <td>3.14 g</td>\n    </tr>\n    <tr>\n      <th>8393</th>\n      <td>Beef, grilled, cooked, all grades, trimmed to ...</td>\n      <td>100 g</td>\n      <td>276</td>\n      <td>19g</td>\n      <td>7.5g</td>\n      <td>83mg</td>\n      <td>64.00 mg</td>\n      <td>89.5 mg</td>\n      <td>4.00 mcg</td>\n      <td>0.00 mcg</td>\n      <td>...</td>\n      <td>18.57 g</td>\n      <td>7.481 g</td>\n      <td>8.287 g</td>\n      <td>0.822 g</td>\n      <td>83.00 mg</td>\n      <td>0.0 g</td>\n      <td>0.98 g</td>\n      <td>0.00 mg</td>\n      <td>0.00 mg</td>\n      <td>55.60 g</td>\n    </tr>\n    <tr>\n      <th>...</th>\n      <td>...</td>\n      <td>...</td>\n      <td>...</td>\n      <td>...</td>\n      <td>...</td>\n      <td>...</td>\n      <td>...</td>\n      <td>...</td>\n      <td>...</td>\n      <td>...</td>\n      <td>...</td>\n      <td>...</td>\n      <td>...</td>\n      <td>...</td>\n      <td>...</td>\n      <td>...</td>\n      <td>...</td>\n      <td>...</td>\n      <td>...</td>\n      <td>...</td>\n      <td>...</td>\n    </tr>\n    <tr>\n      <th>1706</th>\n      <td>KEEBLER, Original Crackers, CLUB</td>\n      <td>100 g</td>\n      <td>486</td>\n      <td>22g</td>\n      <td>3.6g</td>\n      <td>0</td>\n      <td>909.00 mg</td>\n      <td>0</td>\n      <td>120.00 mcg</td>\n      <td>0</td>\n      <td>...</td>\n      <td>22.10 g</td>\n      <td>3.600 g</td>\n      <td>5.400 g</td>\n      <td>12.900 g</td>\n      <td>0.00 mg</td>\n      <td>0</td>\n      <td>0</td>\n      <td>0</td>\n      <td>0</td>\n      <td>2.00 g</td>\n    </tr>\n    <tr>\n      <th>5419</th>\n      <td>Beans, with salt, boiled, cooked, mature seeds...</td>\n      <td>100 g</td>\n      <td>139</td>\n      <td>0.4g</td>\n      <td>0.1g</td>\n      <td>0</td>\n      <td>242.00 mg</td>\n      <td>35.1 mg</td>\n      <td>81.00 mcg</td>\n      <td>0.00 mcg</td>\n      <td>...</td>\n      <td>0.35 g</td>\n      <td>0.091 g</td>\n      <td>0.031 g</td>\n      <td>0.152 g</td>\n      <td>0.00 mg</td>\n      <td>0</td>\n      <td>1.75 g</td>\n      <td>0</td>\n      <td>0</td>\n      <td>63.08 g</td>\n    </tr>\n    <tr>\n      <th>7401</th>\n      <td>POPEYES, skin and breading removed, meat only,...</td>\n      <td>100 g</td>\n      <td>212</td>\n      <td>9.4g</td>\n      <td>3.1g</td>\n      <td>156mg</td>\n      <td>814.00 mg</td>\n      <td>141.2 mg</td>\n      <td>0</td>\n      <td>0</td>\n      <td>...</td>\n      <td>9.42 g</td>\n      <td>3.079 g</td>\n      <td>4.024 g</td>\n      <td>1.391 g</td>\n      <td>156.00 mg</td>\n      <td>0</td>\n      <td>2.89 g</td>\n      <td>0</td>\n      <td>0</td>\n      <td>55.85 g</td>\n    </tr>\n    <tr>\n      <th>1231</th>\n      <td>SILK Key Lime soy yogurt</td>\n      <td>100 g</td>\n      <td>88</td>\n      <td>1.2g</td>\n      <td>NaN</td>\n      <td>0</td>\n      <td>15.00 mg</td>\n      <td>0</td>\n      <td>0</td>\n      <td>0</td>\n      <td>...</td>\n      <td>1.18 g</td>\n      <td>0.000 g</td>\n      <td>0</td>\n      <td>0</td>\n      <td>0.00 mg</td>\n      <td>0</td>\n      <td>1.24 g</td>\n      <td>0</td>\n      <td>0</td>\n      <td>77.59 g</td>\n    </tr>\n    <tr>\n      <th>3476</th>\n      <td>Alcoholic beverage, Riesling, white, table, wine</td>\n      <td>100 g</td>\n      <td>80</td>\n      <td>0g</td>\n      <td>NaN</td>\n      <td>0</td>\n      <td>0</td>\n      <td>0</td>\n      <td>0</td>\n      <td>0</td>\n      <td>...</td>\n      <td>0.00 g</td>\n      <td>0</td>\n      <td>0</td>\n      <td>0</td>\n      <td>0</td>\n      <td>9.5 g</td>\n      <td>0.17 g</td>\n      <td>0</td>\n      <td>0</td>\n      <td>86.56 g</td>\n    </tr>\n  </tbody>\n</table>\n<p>88 rows × 76 columns</p>\n</div>"
     },
     "metadata": {},
     "execution_count": 13
    }
   ],
   "source": [
    "nutrition.sample(frac=0.01)"
   ]
  },
  {
   "cell_type": "code",
   "execution_count": 14,
   "metadata": {},
   "outputs": [
    {
     "output_type": "execute_result",
     "data": {
      "text/plain": [
       "87.89"
      ]
     },
     "metadata": {},
     "execution_count": 14
    }
   ],
   "source": [
    "nutrition.shape[0] * 0.01"
   ]
  },
  {
   "cell_type": "code",
   "execution_count": 16,
   "metadata": {},
   "outputs": [
    {
     "output_type": "execute_result",
     "data": {
      "text/plain": [
       "              name serving_size  calories total_fat saturated_fat cholesterol  \\\n",
       "0       Cornstarch        100 g       381      0.1g           NaN           0   \n",
       "1     Nuts, pecans        100 g       691       72g          6.2g           0   \n",
       "2    Eggplant, raw        100 g        25      0.2g           NaN           0   \n",
       "3   Teff, uncooked        100 g       367      2.4g          0.4g           0   \n",
       "4  Sherbet, orange        100 g       144        2g          1.2g         1mg   \n",
       "\n",
       "     sodium  choline     folate folic_acid  ...      fat  \\\n",
       "0   9.00 mg   0.4 mg   0.00 mcg   0.00 mcg  ...   0.05 g   \n",
       "1   0.00 mg  40.5 mg  22.00 mcg   0.00 mcg  ...  71.97 g   \n",
       "2   2.00 mg   6.9 mg  22.00 mcg   0.00 mcg  ...   0.18 g   \n",
       "3  12.00 mg  13.1 mg          0          0  ...   2.38 g   \n",
       "4  46.00 mg   7.7 mg   4.00 mcg   0.00 mcg  ...   2.00 g   \n",
       "\n",
       "  saturated_fatty_acids monounsaturated_fatty_acids  \\\n",
       "0               0.009 g                     0.016 g   \n",
       "1               6.180 g                    40.801 g   \n",
       "2               0.034 g                     0.016 g   \n",
       "3               0.449 g                     0.589 g   \n",
       "4               1.160 g                     0.530 g   \n",
       "\n",
       "  polyunsaturated_fatty_acids fatty_acids_total_trans alcohol     ash  \\\n",
       "0                     0.025 g                 0.00 mg   0.0 g  0.09 g   \n",
       "1                    21.614 g                 0.00 mg   0.0 g  1.49 g   \n",
       "2                     0.076 g                 0.00 mg   0.0 g  0.66 g   \n",
       "3                     1.071 g                       0       0  2.37 g   \n",
       "4                     0.080 g                 1.00 mg   0.0 g  0.40 g   \n",
       "\n",
       "  caffeine theobromine    water  \n",
       "0  0.00 mg     0.00 mg   8.32 g  \n",
       "1  0.00 mg     0.00 mg   3.52 g  \n",
       "2  0.00 mg     0.00 mg  92.30 g  \n",
       "3        0           0   8.82 g  \n",
       "4  0.00 mg     0.00 mg  66.10 g  \n",
       "\n",
       "[5 rows x 76 columns]"
      ],
      "text/html": "<div>\n<style scoped>\n    .dataframe tbody tr th:only-of-type {\n        vertical-align: middle;\n    }\n\n    .dataframe tbody tr th {\n        vertical-align: top;\n    }\n\n    .dataframe thead th {\n        text-align: right;\n    }\n</style>\n<table border=\"1\" class=\"dataframe\">\n  <thead>\n    <tr style=\"text-align: right;\">\n      <th></th>\n      <th>name</th>\n      <th>serving_size</th>\n      <th>calories</th>\n      <th>total_fat</th>\n      <th>saturated_fat</th>\n      <th>cholesterol</th>\n      <th>sodium</th>\n      <th>choline</th>\n      <th>folate</th>\n      <th>folic_acid</th>\n      <th>...</th>\n      <th>fat</th>\n      <th>saturated_fatty_acids</th>\n      <th>monounsaturated_fatty_acids</th>\n      <th>polyunsaturated_fatty_acids</th>\n      <th>fatty_acids_total_trans</th>\n      <th>alcohol</th>\n      <th>ash</th>\n      <th>caffeine</th>\n      <th>theobromine</th>\n      <th>water</th>\n    </tr>\n  </thead>\n  <tbody>\n    <tr>\n      <th>0</th>\n      <td>Cornstarch</td>\n      <td>100 g</td>\n      <td>381</td>\n      <td>0.1g</td>\n      <td>NaN</td>\n      <td>0</td>\n      <td>9.00 mg</td>\n      <td>0.4 mg</td>\n      <td>0.00 mcg</td>\n      <td>0.00 mcg</td>\n      <td>...</td>\n      <td>0.05 g</td>\n      <td>0.009 g</td>\n      <td>0.016 g</td>\n      <td>0.025 g</td>\n      <td>0.00 mg</td>\n      <td>0.0 g</td>\n      <td>0.09 g</td>\n      <td>0.00 mg</td>\n      <td>0.00 mg</td>\n      <td>8.32 g</td>\n    </tr>\n    <tr>\n      <th>1</th>\n      <td>Nuts, pecans</td>\n      <td>100 g</td>\n      <td>691</td>\n      <td>72g</td>\n      <td>6.2g</td>\n      <td>0</td>\n      <td>0.00 mg</td>\n      <td>40.5 mg</td>\n      <td>22.00 mcg</td>\n      <td>0.00 mcg</td>\n      <td>...</td>\n      <td>71.97 g</td>\n      <td>6.180 g</td>\n      <td>40.801 g</td>\n      <td>21.614 g</td>\n      <td>0.00 mg</td>\n      <td>0.0 g</td>\n      <td>1.49 g</td>\n      <td>0.00 mg</td>\n      <td>0.00 mg</td>\n      <td>3.52 g</td>\n    </tr>\n    <tr>\n      <th>2</th>\n      <td>Eggplant, raw</td>\n      <td>100 g</td>\n      <td>25</td>\n      <td>0.2g</td>\n      <td>NaN</td>\n      <td>0</td>\n      <td>2.00 mg</td>\n      <td>6.9 mg</td>\n      <td>22.00 mcg</td>\n      <td>0.00 mcg</td>\n      <td>...</td>\n      <td>0.18 g</td>\n      <td>0.034 g</td>\n      <td>0.016 g</td>\n      <td>0.076 g</td>\n      <td>0.00 mg</td>\n      <td>0.0 g</td>\n      <td>0.66 g</td>\n      <td>0.00 mg</td>\n      <td>0.00 mg</td>\n      <td>92.30 g</td>\n    </tr>\n    <tr>\n      <th>3</th>\n      <td>Teff, uncooked</td>\n      <td>100 g</td>\n      <td>367</td>\n      <td>2.4g</td>\n      <td>0.4g</td>\n      <td>0</td>\n      <td>12.00 mg</td>\n      <td>13.1 mg</td>\n      <td>0</td>\n      <td>0</td>\n      <td>...</td>\n      <td>2.38 g</td>\n      <td>0.449 g</td>\n      <td>0.589 g</td>\n      <td>1.071 g</td>\n      <td>0</td>\n      <td>0</td>\n      <td>2.37 g</td>\n      <td>0</td>\n      <td>0</td>\n      <td>8.82 g</td>\n    </tr>\n    <tr>\n      <th>4</th>\n      <td>Sherbet, orange</td>\n      <td>100 g</td>\n      <td>144</td>\n      <td>2g</td>\n      <td>1.2g</td>\n      <td>1mg</td>\n      <td>46.00 mg</td>\n      <td>7.7 mg</td>\n      <td>4.00 mcg</td>\n      <td>0.00 mcg</td>\n      <td>...</td>\n      <td>2.00 g</td>\n      <td>1.160 g</td>\n      <td>0.530 g</td>\n      <td>0.080 g</td>\n      <td>1.00 mg</td>\n      <td>0.0 g</td>\n      <td>0.40 g</td>\n      <td>0.00 mg</td>\n      <td>0.00 mg</td>\n      <td>66.10 g</td>\n    </tr>\n  </tbody>\n</table>\n<p>5 rows × 76 columns</p>\n</div>"
     },
     "metadata": {},
     "execution_count": 16
    }
   ],
   "source": [
    "nutrition.head()"
   ]
  },
  {
   "cell_type": "code",
   "execution_count": 17,
   "metadata": {},
   "outputs": [
    {
     "output_type": "execute_result",
     "data": {
      "text/plain": [
       "[Int64Index([   0,    1,    2,    3,    4,    5,    6,    7,    8,    9,\n",
       "             ...\n",
       "             8779, 8780, 8781, 8782, 8783, 8784, 8785, 8786, 8787, 8788],\n",
       "            dtype='int64', length=8789),\n",
       " Index(['name', 'serving_size', 'calories', 'total_fat', 'saturated_fat',\n",
       "        'cholesterol', 'sodium', 'choline', 'folate', 'folic_acid', 'niacin',\n",
       "        'pantothenic_acid', 'riboflavin', 'thiamin', 'vitamin_a',\n",
       "        'vitamin_a_rae', 'carotene_alpha', 'carotene_beta',\n",
       "        'cryptoxanthin_beta', 'lutein_zeaxanthin', 'lucopene', 'vitamin_b12',\n",
       "        'vitamin_b6', 'vitamin_c', 'vitamin_d', 'vitamin_e', 'tocopherol_alpha',\n",
       "        'vitamin_k', 'calcium', 'copper', 'irom', 'magnesium', 'manganese',\n",
       "        'phosphorous', 'potassium', 'selenium', 'zink', 'protein', 'alanine',\n",
       "        'arginine', 'aspartic_acid', 'cystine', 'glutamic_acid', 'glycine',\n",
       "        'histidine', 'hydroxyproline', 'isoleucine', 'leucine', 'lysine',\n",
       "        'methionine', 'phenylalanine', 'proline', 'serine', 'threonine',\n",
       "        'tryptophan', 'tyrosine', 'valine', 'carbohydrate', 'fiber', 'sugars',\n",
       "        'fructose', 'galactose', 'glucose', 'lactose', 'maltose', 'sucrose',\n",
       "        'fat', 'saturated_fatty_acids', 'monounsaturated_fatty_acids',\n",
       "        'polyunsaturated_fatty_acids', 'fatty_acids_total_trans', 'alcohol',\n",
       "        'ash', 'caffeine', 'theobromine', 'water'],\n",
       "       dtype='object')]"
      ]
     },
     "metadata": {},
     "execution_count": 17
    }
   ],
   "source": [
    "nutrition.axes"
   ]
  },
  {
   "cell_type": "code",
   "execution_count": 19,
   "metadata": {},
   "outputs": [],
   "source": [
    "nutrition.set_index('name', inplace=True)"
   ]
  },
  {
   "cell_type": "code",
   "execution_count": 22,
   "metadata": {},
   "outputs": [
    {
     "output_type": "execute_result",
     "data": {
      "text/plain": [
       "                                                              serving_size  \\\n",
       "name                                               folic_acid                \n",
       "Cornstarch                                         0.00 mcg          100 g   \n",
       "Nuts, pecans                                       0.00 mcg          100 g   \n",
       "Eggplant, raw                                      0.00 mcg          100 g   \n",
       "Teff, uncooked                                     0                 100 g   \n",
       "Sherbet, orange                                    0.00 mcg          100 g   \n",
       "...                                                                    ...   \n",
       "Beef, raw, all grades, trimmed to 0\" fat, separ... 0.00 mcg          100 g   \n",
       "Lamb, cooked, separable lean only, composite of... 0.00 mcg          100 g   \n",
       "Lamb, raw, separable lean and fat, composite of... 0.00 mcg          100 g   \n",
       "Beef, raw, all grades, trimmed to 0\" fat, separ... 0.00 mcg          100 g   \n",
       "Beef, raw, all grades, trimmed to 0\" fat, separ... 0.00 mcg          100 g   \n",
       "\n",
       "                                                               calories  \\\n",
       "name                                               folic_acid             \n",
       "Cornstarch                                         0.00 mcg         381   \n",
       "Nuts, pecans                                       0.00 mcg         691   \n",
       "Eggplant, raw                                      0.00 mcg          25   \n",
       "Teff, uncooked                                     0                367   \n",
       "Sherbet, orange                                    0.00 mcg         144   \n",
       "...                                                                 ...   \n",
       "Beef, raw, all grades, trimmed to 0\" fat, separ... 0.00 mcg         125   \n",
       "Lamb, cooked, separable lean only, composite of... 0.00 mcg         206   \n",
       "Lamb, raw, separable lean and fat, composite of... 0.00 mcg         277   \n",
       "Beef, raw, all grades, trimmed to 0\" fat, separ... 0.00 mcg         121   \n",
       "Beef, raw, all grades, trimmed to 0\" fat, separ... 0.00 mcg         121   \n",
       "\n",
       "                                                              total_fat  \\\n",
       "name                                               folic_acid             \n",
       "Cornstarch                                         0.00 mcg        0.1g   \n",
       "Nuts, pecans                                       0.00 mcg         72g   \n",
       "Eggplant, raw                                      0.00 mcg        0.2g   \n",
       "Teff, uncooked                                     0               2.4g   \n",
       "Sherbet, orange                                    0.00 mcg          2g   \n",
       "...                                                                 ...   \n",
       "Beef, raw, all grades, trimmed to 0\" fat, separ... 0.00 mcg        3.5g   \n",
       "Lamb, cooked, separable lean only, composite of... 0.00 mcg        8.9g   \n",
       "Lamb, raw, separable lean and fat, composite of... 0.00 mcg         23g   \n",
       "Beef, raw, all grades, trimmed to 0\" fat, separ... 0.00 mcg          3g   \n",
       "Beef, raw, all grades, trimmed to 0\" fat, separ... 0.00 mcg          3g   \n",
       "\n",
       "                                                              saturated_fat  \\\n",
       "name                                               folic_acid                 \n",
       "Cornstarch                                         0.00 mcg             NaN   \n",
       "Nuts, pecans                                       0.00 mcg            6.2g   \n",
       "Eggplant, raw                                      0.00 mcg             NaN   \n",
       "Teff, uncooked                                     0                   0.4g   \n",
       "Sherbet, orange                                    0.00 mcg            1.2g   \n",
       "...                                                                     ...   \n",
       "Beef, raw, all grades, trimmed to 0\" fat, separ... 0.00 mcg            1.4g   \n",
       "Lamb, cooked, separable lean only, composite of... 0.00 mcg            3.9g   \n",
       "Lamb, raw, separable lean and fat, composite of... 0.00 mcg             12g   \n",
       "Beef, raw, all grades, trimmed to 0\" fat, separ... 0.00 mcg            1.1g   \n",
       "Beef, raw, all grades, trimmed to 0\" fat, separ... 0.00 mcg            1.1g   \n",
       "\n",
       "                                                              cholesterol  \\\n",
       "name                                               folic_acid               \n",
       "Cornstarch                                         0.00 mcg             0   \n",
       "Nuts, pecans                                       0.00 mcg             0   \n",
       "Eggplant, raw                                      0.00 mcg             0   \n",
       "Teff, uncooked                                     0                    0   \n",
       "Sherbet, orange                                    0.00 mcg           1mg   \n",
       "...                                                                   ...   \n",
       "Beef, raw, all grades, trimmed to 0\" fat, separ... 0.00 mcg          62mg   \n",
       "Lamb, cooked, separable lean only, composite of... 0.00 mcg         109mg   \n",
       "Lamb, raw, separable lean and fat, composite of... 0.00 mcg          78mg   \n",
       "Beef, raw, all grades, trimmed to 0\" fat, separ... 0.00 mcg          60mg   \n",
       "Beef, raw, all grades, trimmed to 0\" fat, separ... 0.00 mcg          60mg   \n",
       "\n",
       "                                                                 sodium  \\\n",
       "name                                               folic_acid             \n",
       "Cornstarch                                         0.00 mcg     9.00 mg   \n",
       "Nuts, pecans                                       0.00 mcg     0.00 mg   \n",
       "Eggplant, raw                                      0.00 mcg     2.00 mg   \n",
       "Teff, uncooked                                     0           12.00 mg   \n",
       "Sherbet, orange                                    0.00 mcg    46.00 mg   \n",
       "...                                                                 ...   \n",
       "Beef, raw, all grades, trimmed to 0\" fat, separ... 0.00 mcg    54.00 mg   \n",
       "Lamb, cooked, separable lean only, composite of... 0.00 mcg    50.00 mg   \n",
       "Lamb, raw, separable lean and fat, composite of... 0.00 mcg    39.00 mg   \n",
       "Beef, raw, all grades, trimmed to 0\" fat, separ... 0.00 mcg    53.00 mg   \n",
       "Beef, raw, all grades, trimmed to 0\" fat, separ... 0.00 mcg    53.00 mg   \n",
       "\n",
       "                                                               choline  \\\n",
       "name                                               folic_acid            \n",
       "Cornstarch                                         0.00 mcg     0.4 mg   \n",
       "Nuts, pecans                                       0.00 mcg    40.5 mg   \n",
       "Eggplant, raw                                      0.00 mcg     6.9 mg   \n",
       "Teff, uncooked                                     0           13.1 mg   \n",
       "Sherbet, orange                                    0.00 mcg     7.7 mg   \n",
       "...                                                                ...   \n",
       "Beef, raw, all grades, trimmed to 0\" fat, separ... 0.00 mcg    64.5 mg   \n",
       "Lamb, cooked, separable lean only, composite of... 0.00 mcg          0   \n",
       "Lamb, raw, separable lean and fat, composite of... 0.00 mcg          0   \n",
       "Beef, raw, all grades, trimmed to 0\" fat, separ... 0.00 mcg    64.2 mg   \n",
       "Beef, raw, all grades, trimmed to 0\" fat, separ... 0.00 mcg    64.2 mg   \n",
       "\n",
       "                                                                  folate  \\\n",
       "name                                               folic_acid              \n",
       "Cornstarch                                         0.00 mcg     0.00 mcg   \n",
       "Nuts, pecans                                       0.00 mcg    22.00 mcg   \n",
       "Eggplant, raw                                      0.00 mcg    22.00 mcg   \n",
       "Teff, uncooked                                     0                   0   \n",
       "Sherbet, orange                                    0.00 mcg     4.00 mcg   \n",
       "...                                                                  ...   \n",
       "Beef, raw, all grades, trimmed to 0\" fat, separ... 0.00 mcg     4.00 mcg   \n",
       "Lamb, cooked, separable lean only, composite of... 0.00 mcg     0.00 mcg   \n",
       "Lamb, raw, separable lean and fat, composite of... 0.00 mcg     1.00 mcg   \n",
       "Beef, raw, all grades, trimmed to 0\" fat, separ... 0.00 mcg     4.00 mcg   \n",
       "Beef, raw, all grades, trimmed to 0\" fat, separ... 0.00 mcg     4.00 mcg   \n",
       "\n",
       "                                                              folic_acid  \\\n",
       "name                                               folic_acid              \n",
       "Cornstarch                                         0.00 mcg     0.00 mcg   \n",
       "Nuts, pecans                                       0.00 mcg     0.00 mcg   \n",
       "Eggplant, raw                                      0.00 mcg     0.00 mcg   \n",
       "Teff, uncooked                                     0                   0   \n",
       "Sherbet, orange                                    0.00 mcg     0.00 mcg   \n",
       "...                                                                  ...   \n",
       "Beef, raw, all grades, trimmed to 0\" fat, separ... 0.00 mcg     0.00 mcg   \n",
       "Lamb, cooked, separable lean only, composite of... 0.00 mcg     0.00 mcg   \n",
       "Lamb, raw, separable lean and fat, composite of... 0.00 mcg     0.00 mcg   \n",
       "Beef, raw, all grades, trimmed to 0\" fat, separ... 0.00 mcg     0.00 mcg   \n",
       "Beef, raw, all grades, trimmed to 0\" fat, separ... 0.00 mcg     0.00 mcg   \n",
       "\n",
       "                                                                 niacin  ...  \\\n",
       "name                                               folic_acid            ...   \n",
       "Cornstarch                                         0.00 mcg    0.000 mg  ...   \n",
       "Nuts, pecans                                       0.00 mcg    1.167 mg  ...   \n",
       "Eggplant, raw                                      0.00 mcg    0.649 mg  ...   \n",
       "Teff, uncooked                                     0           3.363 mg  ...   \n",
       "Sherbet, orange                                    0.00 mcg    0.063 mg  ...   \n",
       "...                                                                 ...  ...   \n",
       "Beef, raw, all grades, trimmed to 0\" fat, separ... 0.00 mcg    6.422 mg  ...   \n",
       "Lamb, cooked, separable lean only, composite of... 0.00 mcg    7.680 mg  ...   \n",
       "Lamb, raw, separable lean and fat, composite of... 0.00 mcg    6.550 mg  ...   \n",
       "Beef, raw, all grades, trimmed to 0\" fat, separ... 0.00 mcg    6.720 mg  ...   \n",
       "Beef, raw, all grades, trimmed to 0\" fat, separ... 0.00 mcg    6.720 mg  ...   \n",
       "\n",
       "                                                                   fat  \\\n",
       "name                                               folic_acid            \n",
       "Cornstarch                                         0.00 mcg     0.05 g   \n",
       "Nuts, pecans                                       0.00 mcg    71.97 g   \n",
       "Eggplant, raw                                      0.00 mcg     0.18 g   \n",
       "Teff, uncooked                                     0            2.38 g   \n",
       "Sherbet, orange                                    0.00 mcg     2.00 g   \n",
       "...                                                                ...   \n",
       "Beef, raw, all grades, trimmed to 0\" fat, separ... 0.00 mcg     3.50 g   \n",
       "Lamb, cooked, separable lean only, composite of... 0.00 mcg     8.86 g   \n",
       "Lamb, raw, separable lean and fat, composite of... 0.00 mcg    22.74 g   \n",
       "Beef, raw, all grades, trimmed to 0\" fat, separ... 0.00 mcg     3.04 g   \n",
       "Beef, raw, all grades, trimmed to 0\" fat, separ... 0.00 mcg     3.04 g   \n",
       "\n",
       "                                                              saturated_fatty_acids  \\\n",
       "name                                               folic_acid                         \n",
       "Cornstarch                                         0.00 mcg                 0.009 g   \n",
       "Nuts, pecans                                       0.00 mcg                 6.180 g   \n",
       "Eggplant, raw                                      0.00 mcg                 0.034 g   \n",
       "Teff, uncooked                                     0                        0.449 g   \n",
       "Sherbet, orange                                    0.00 mcg                 1.160 g   \n",
       "...                                                                             ...   \n",
       "Beef, raw, all grades, trimmed to 0\" fat, separ... 0.00 mcg                 1.353 g   \n",
       "Lamb, cooked, separable lean only, composite of... 0.00 mcg                 3.860 g   \n",
       "Lamb, raw, separable lean and fat, composite of... 0.00 mcg                11.570 g   \n",
       "Beef, raw, all grades, trimmed to 0\" fat, separ... 0.00 mcg                 1.086 g   \n",
       "Beef, raw, all grades, trimmed to 0\" fat, separ... 0.00 mcg                 1.086 g   \n",
       "\n",
       "                                                              monounsaturated_fatty_acids  \\\n",
       "name                                               folic_acid                               \n",
       "Cornstarch                                         0.00 mcg                       0.016 g   \n",
       "Nuts, pecans                                       0.00 mcg                      40.801 g   \n",
       "Eggplant, raw                                      0.00 mcg                       0.016 g   \n",
       "Teff, uncooked                                     0                              0.589 g   \n",
       "Sherbet, orange                                    0.00 mcg                       0.530 g   \n",
       "...                                                                                   ...   \n",
       "Beef, raw, all grades, trimmed to 0\" fat, separ... 0.00 mcg                       1.554 g   \n",
       "Lamb, cooked, separable lean only, composite of... 0.00 mcg                       3.480 g   \n",
       "Lamb, raw, separable lean and fat, composite of... 0.00 mcg                       8.720 g   \n",
       "Beef, raw, all grades, trimmed to 0\" fat, separ... 0.00 mcg                       1.266 g   \n",
       "Beef, raw, all grades, trimmed to 0\" fat, separ... 0.00 mcg                       1.266 g   \n",
       "\n",
       "                                                              polyunsaturated_fatty_acids  \\\n",
       "name                                               folic_acid                               \n",
       "Cornstarch                                         0.00 mcg                       0.025 g   \n",
       "Nuts, pecans                                       0.00 mcg                      21.614 g   \n",
       "Eggplant, raw                                      0.00 mcg                       0.076 g   \n",
       "Teff, uncooked                                     0                              1.071 g   \n",
       "Sherbet, orange                                    0.00 mcg                       0.080 g   \n",
       "...                                                                                   ...   \n",
       "Beef, raw, all grades, trimmed to 0\" fat, separ... 0.00 mcg                       0.244 g   \n",
       "Lamb, cooked, separable lean only, composite of... 0.00 mcg                       0.520 g   \n",
       "Lamb, raw, separable lean and fat, composite of... 0.00 mcg                       0.980 g   \n",
       "Beef, raw, all grades, trimmed to 0\" fat, separ... 0.00 mcg                       0.233 g   \n",
       "Beef, raw, all grades, trimmed to 0\" fat, separ... 0.00 mcg                       0.233 g   \n",
       "\n",
       "                                                              fatty_acids_total_trans  \\\n",
       "name                                               folic_acid                           \n",
       "Cornstarch                                         0.00 mcg                   0.00 mg   \n",
       "Nuts, pecans                                       0.00 mcg                   0.00 mg   \n",
       "Eggplant, raw                                      0.00 mcg                   0.00 mg   \n",
       "Teff, uncooked                                     0                                0   \n",
       "Sherbet, orange                                    0.00 mcg                   1.00 mg   \n",
       "...                                                                               ...   \n",
       "Beef, raw, all grades, trimmed to 0\" fat, separ... 0.00 mcg                  62.00 mg   \n",
       "Lamb, cooked, separable lean only, composite of... 0.00 mcg                 109.00 mg   \n",
       "Lamb, raw, separable lean and fat, composite of... 0.00 mcg                  78.00 mg   \n",
       "Beef, raw, all grades, trimmed to 0\" fat, separ... 0.00 mcg                  60.00 mg   \n",
       "Beef, raw, all grades, trimmed to 0\" fat, separ... 0.00 mcg                  60.00 mg   \n",
       "\n",
       "                                                              alcohol     ash  \\\n",
       "name                                               folic_acid                   \n",
       "Cornstarch                                         0.00 mcg     0.0 g  0.09 g   \n",
       "Nuts, pecans                                       0.00 mcg     0.0 g  1.49 g   \n",
       "Eggplant, raw                                      0.00 mcg     0.0 g  0.66 g   \n",
       "Teff, uncooked                                     0                0  2.37 g   \n",
       "Sherbet, orange                                    0.00 mcg     0.0 g  0.40 g   \n",
       "...                                                               ...     ...   \n",
       "Beef, raw, all grades, trimmed to 0\" fat, separ... 0.00 mcg     0.0 g  1.11 g   \n",
       "Lamb, cooked, separable lean only, composite of... 0.00 mcg         0  1.60 g   \n",
       "Lamb, raw, separable lean and fat, composite of... 0.00 mcg         0  0.92 g   \n",
       "Beef, raw, all grades, trimmed to 0\" fat, separ... 0.00 mcg     0.0 g  1.10 g   \n",
       "Beef, raw, all grades, trimmed to 0\" fat, separ... 0.00 mcg     0.0 g  1.10 g   \n",
       "\n",
       "                                                              caffeine  \\\n",
       "name                                               folic_acid            \n",
       "Cornstarch                                         0.00 mcg    0.00 mg   \n",
       "Nuts, pecans                                       0.00 mcg    0.00 mg   \n",
       "Eggplant, raw                                      0.00 mcg    0.00 mg   \n",
       "Teff, uncooked                                     0                 0   \n",
       "Sherbet, orange                                    0.00 mcg    0.00 mg   \n",
       "...                                                                ...   \n",
       "Beef, raw, all grades, trimmed to 0\" fat, separ... 0.00 mcg    0.00 mg   \n",
       "Lamb, cooked, separable lean only, composite of... 0.00 mcg          0   \n",
       "Lamb, raw, separable lean and fat, composite of... 0.00 mcg          0   \n",
       "Beef, raw, all grades, trimmed to 0\" fat, separ... 0.00 mcg    0.00 mg   \n",
       "Beef, raw, all grades, trimmed to 0\" fat, separ... 0.00 mcg    0.00 mg   \n",
       "\n",
       "                                                              theobromine  \\\n",
       "name                                               folic_acid               \n",
       "Cornstarch                                         0.00 mcg       0.00 mg   \n",
       "Nuts, pecans                                       0.00 mcg       0.00 mg   \n",
       "Eggplant, raw                                      0.00 mcg       0.00 mg   \n",
       "Teff, uncooked                                     0                    0   \n",
       "Sherbet, orange                                    0.00 mcg       0.00 mg   \n",
       "...                                                                   ...   \n",
       "Beef, raw, all grades, trimmed to 0\" fat, separ... 0.00 mcg       0.00 mg   \n",
       "Lamb, cooked, separable lean only, composite of... 0.00 mcg             0   \n",
       "Lamb, raw, separable lean and fat, composite of... 0.00 mcg             0   \n",
       "Beef, raw, all grades, trimmed to 0\" fat, separ... 0.00 mcg       0.00 mg   \n",
       "Beef, raw, all grades, trimmed to 0\" fat, separ... 0.00 mcg       0.00 mg   \n",
       "\n",
       "                                                                 water  \n",
       "name                                               folic_acid           \n",
       "Cornstarch                                         0.00 mcg     8.32 g  \n",
       "Nuts, pecans                                       0.00 mcg     3.52 g  \n",
       "Eggplant, raw                                      0.00 mcg    92.30 g  \n",
       "Teff, uncooked                                     0            8.82 g  \n",
       "Sherbet, orange                                    0.00 mcg    66.10 g  \n",
       "...                                                                ...  \n",
       "Beef, raw, all grades, trimmed to 0\" fat, separ... 0.00 mcg    72.51 g  \n",
       "Lamb, cooked, separable lean only, composite of... 0.00 mcg    59.95 g  \n",
       "Lamb, raw, separable lean and fat, composite of... 0.00 mcg    59.80 g  \n",
       "Beef, raw, all grades, trimmed to 0\" fat, separ... 0.00 mcg    73.43 g  \n",
       "Beef, raw, all grades, trimmed to 0\" fat, separ... 0.00 mcg    73.43 g  \n",
       "\n",
       "[8789 rows x 75 columns]"
      ],
      "text/html": "<div>\n<style scoped>\n    .dataframe tbody tr th:only-of-type {\n        vertical-align: middle;\n    }\n\n    .dataframe tbody tr th {\n        vertical-align: top;\n    }\n\n    .dataframe thead th {\n        text-align: right;\n    }\n</style>\n<table border=\"1\" class=\"dataframe\">\n  <thead>\n    <tr style=\"text-align: right;\">\n      <th></th>\n      <th></th>\n      <th>serving_size</th>\n      <th>calories</th>\n      <th>total_fat</th>\n      <th>saturated_fat</th>\n      <th>cholesterol</th>\n      <th>sodium</th>\n      <th>choline</th>\n      <th>folate</th>\n      <th>folic_acid</th>\n      <th>niacin</th>\n      <th>...</th>\n      <th>fat</th>\n      <th>saturated_fatty_acids</th>\n      <th>monounsaturated_fatty_acids</th>\n      <th>polyunsaturated_fatty_acids</th>\n      <th>fatty_acids_total_trans</th>\n      <th>alcohol</th>\n      <th>ash</th>\n      <th>caffeine</th>\n      <th>theobromine</th>\n      <th>water</th>\n    </tr>\n    <tr>\n      <th>name</th>\n      <th>folic_acid</th>\n      <th></th>\n      <th></th>\n      <th></th>\n      <th></th>\n      <th></th>\n      <th></th>\n      <th></th>\n      <th></th>\n      <th></th>\n      <th></th>\n      <th></th>\n      <th></th>\n      <th></th>\n      <th></th>\n      <th></th>\n      <th></th>\n      <th></th>\n      <th></th>\n      <th></th>\n      <th></th>\n      <th></th>\n    </tr>\n  </thead>\n  <tbody>\n    <tr>\n      <th>Cornstarch</th>\n      <th>0.00 mcg</th>\n      <td>100 g</td>\n      <td>381</td>\n      <td>0.1g</td>\n      <td>NaN</td>\n      <td>0</td>\n      <td>9.00 mg</td>\n      <td>0.4 mg</td>\n      <td>0.00 mcg</td>\n      <td>0.00 mcg</td>\n      <td>0.000 mg</td>\n      <td>...</td>\n      <td>0.05 g</td>\n      <td>0.009 g</td>\n      <td>0.016 g</td>\n      <td>0.025 g</td>\n      <td>0.00 mg</td>\n      <td>0.0 g</td>\n      <td>0.09 g</td>\n      <td>0.00 mg</td>\n      <td>0.00 mg</td>\n      <td>8.32 g</td>\n    </tr>\n    <tr>\n      <th>Nuts, pecans</th>\n      <th>0.00 mcg</th>\n      <td>100 g</td>\n      <td>691</td>\n      <td>72g</td>\n      <td>6.2g</td>\n      <td>0</td>\n      <td>0.00 mg</td>\n      <td>40.5 mg</td>\n      <td>22.00 mcg</td>\n      <td>0.00 mcg</td>\n      <td>1.167 mg</td>\n      <td>...</td>\n      <td>71.97 g</td>\n      <td>6.180 g</td>\n      <td>40.801 g</td>\n      <td>21.614 g</td>\n      <td>0.00 mg</td>\n      <td>0.0 g</td>\n      <td>1.49 g</td>\n      <td>0.00 mg</td>\n      <td>0.00 mg</td>\n      <td>3.52 g</td>\n    </tr>\n    <tr>\n      <th>Eggplant, raw</th>\n      <th>0.00 mcg</th>\n      <td>100 g</td>\n      <td>25</td>\n      <td>0.2g</td>\n      <td>NaN</td>\n      <td>0</td>\n      <td>2.00 mg</td>\n      <td>6.9 mg</td>\n      <td>22.00 mcg</td>\n      <td>0.00 mcg</td>\n      <td>0.649 mg</td>\n      <td>...</td>\n      <td>0.18 g</td>\n      <td>0.034 g</td>\n      <td>0.016 g</td>\n      <td>0.076 g</td>\n      <td>0.00 mg</td>\n      <td>0.0 g</td>\n      <td>0.66 g</td>\n      <td>0.00 mg</td>\n      <td>0.00 mg</td>\n      <td>92.30 g</td>\n    </tr>\n    <tr>\n      <th>Teff, uncooked</th>\n      <th>0</th>\n      <td>100 g</td>\n      <td>367</td>\n      <td>2.4g</td>\n      <td>0.4g</td>\n      <td>0</td>\n      <td>12.00 mg</td>\n      <td>13.1 mg</td>\n      <td>0</td>\n      <td>0</td>\n      <td>3.363 mg</td>\n      <td>...</td>\n      <td>2.38 g</td>\n      <td>0.449 g</td>\n      <td>0.589 g</td>\n      <td>1.071 g</td>\n      <td>0</td>\n      <td>0</td>\n      <td>2.37 g</td>\n      <td>0</td>\n      <td>0</td>\n      <td>8.82 g</td>\n    </tr>\n    <tr>\n      <th>Sherbet, orange</th>\n      <th>0.00 mcg</th>\n      <td>100 g</td>\n      <td>144</td>\n      <td>2g</td>\n      <td>1.2g</td>\n      <td>1mg</td>\n      <td>46.00 mg</td>\n      <td>7.7 mg</td>\n      <td>4.00 mcg</td>\n      <td>0.00 mcg</td>\n      <td>0.063 mg</td>\n      <td>...</td>\n      <td>2.00 g</td>\n      <td>1.160 g</td>\n      <td>0.530 g</td>\n      <td>0.080 g</td>\n      <td>1.00 mg</td>\n      <td>0.0 g</td>\n      <td>0.40 g</td>\n      <td>0.00 mg</td>\n      <td>0.00 mg</td>\n      <td>66.10 g</td>\n    </tr>\n    <tr>\n      <th>...</th>\n      <th>...</th>\n      <td>...</td>\n      <td>...</td>\n      <td>...</td>\n      <td>...</td>\n      <td>...</td>\n      <td>...</td>\n      <td>...</td>\n      <td>...</td>\n      <td>...</td>\n      <td>...</td>\n      <td>...</td>\n      <td>...</td>\n      <td>...</td>\n      <td>...</td>\n      <td>...</td>\n      <td>...</td>\n      <td>...</td>\n      <td>...</td>\n      <td>...</td>\n      <td>...</td>\n      <td>...</td>\n    </tr>\n    <tr>\n      <th>Beef, raw, all grades, trimmed to 0\" fat, separable lean and fat, boneless, top round roast, round</th>\n      <th>0.00 mcg</th>\n      <td>100 g</td>\n      <td>125</td>\n      <td>3.5g</td>\n      <td>1.4g</td>\n      <td>62mg</td>\n      <td>54.00 mg</td>\n      <td>64.5 mg</td>\n      <td>4.00 mcg</td>\n      <td>0.00 mcg</td>\n      <td>6.422 mg</td>\n      <td>...</td>\n      <td>3.50 g</td>\n      <td>1.353 g</td>\n      <td>1.554 g</td>\n      <td>0.244 g</td>\n      <td>62.00 mg</td>\n      <td>0.0 g</td>\n      <td>1.11 g</td>\n      <td>0.00 mg</td>\n      <td>0.00 mg</td>\n      <td>72.51 g</td>\n    </tr>\n    <tr>\n      <th>Lamb, cooked, separable lean only, composite of trimmed retail cuts, frozen, imported, New Zealand</th>\n      <th>0.00 mcg</th>\n      <td>100 g</td>\n      <td>206</td>\n      <td>8.9g</td>\n      <td>3.9g</td>\n      <td>109mg</td>\n      <td>50.00 mg</td>\n      <td>0</td>\n      <td>0.00 mcg</td>\n      <td>0.00 mcg</td>\n      <td>7.680 mg</td>\n      <td>...</td>\n      <td>8.86 g</td>\n      <td>3.860 g</td>\n      <td>3.480 g</td>\n      <td>0.520 g</td>\n      <td>109.00 mg</td>\n      <td>0</td>\n      <td>1.60 g</td>\n      <td>0</td>\n      <td>0</td>\n      <td>59.95 g</td>\n    </tr>\n    <tr>\n      <th>Lamb, raw, separable lean and fat, composite of trimmed retail cuts, frozen, imported, New Zealand</th>\n      <th>0.00 mcg</th>\n      <td>100 g</td>\n      <td>277</td>\n      <td>23g</td>\n      <td>12g</td>\n      <td>78mg</td>\n      <td>39.00 mg</td>\n      <td>0</td>\n      <td>1.00 mcg</td>\n      <td>0.00 mcg</td>\n      <td>6.550 mg</td>\n      <td>...</td>\n      <td>22.74 g</td>\n      <td>11.570 g</td>\n      <td>8.720 g</td>\n      <td>0.980 g</td>\n      <td>78.00 mg</td>\n      <td>0</td>\n      <td>0.92 g</td>\n      <td>0</td>\n      <td>0</td>\n      <td>59.80 g</td>\n    </tr>\n    <tr>\n      <th>Beef, raw, all grades, trimmed to 0\" fat, separable lean only, boneless, eye of round roast, round</th>\n      <th>0.00 mcg</th>\n      <td>100 g</td>\n      <td>121</td>\n      <td>3g</td>\n      <td>1.1g</td>\n      <td>60mg</td>\n      <td>53.00 mg</td>\n      <td>64.2 mg</td>\n      <td>4.00 mcg</td>\n      <td>0.00 mcg</td>\n      <td>6.720 mg</td>\n      <td>...</td>\n      <td>3.04 g</td>\n      <td>1.086 g</td>\n      <td>1.266 g</td>\n      <td>0.233 g</td>\n      <td>60.00 mg</td>\n      <td>0.0 g</td>\n      <td>1.10 g</td>\n      <td>0.00 mg</td>\n      <td>0.00 mg</td>\n      <td>73.43 g</td>\n    </tr>\n    <tr>\n      <th>Beef, raw, all grades, trimmed to 0\" fat, separable lean only, boneless, eye of round steak, round</th>\n      <th>0.00 mcg</th>\n      <td>100 g</td>\n      <td>121</td>\n      <td>3g</td>\n      <td>1.1g</td>\n      <td>60mg</td>\n      <td>53.00 mg</td>\n      <td>64.2 mg</td>\n      <td>4.00 mcg</td>\n      <td>0.00 mcg</td>\n      <td>6.720 mg</td>\n      <td>...</td>\n      <td>3.04 g</td>\n      <td>1.086 g</td>\n      <td>1.266 g</td>\n      <td>0.233 g</td>\n      <td>60.00 mg</td>\n      <td>0.0 g</td>\n      <td>1.10 g</td>\n      <td>0.00 mg</td>\n      <td>0.00 mg</td>\n      <td>73.43 g</td>\n    </tr>\n  </tbody>\n</table>\n<p>8789 rows × 75 columns</p>\n</div>"
     },
     "metadata": {},
     "execution_count": 22
    }
   ],
   "source": [
    "nutrition.set_index('folic_acid', drop=False, append=True)"
   ]
  },
  {
   "cell_type": "code",
   "execution_count": 28,
   "metadata": {},
   "outputs": [
    {
     "output_type": "execute_result",
     "data": {
      "text/plain": [
       "                serving_size  calories total_fat saturated_fat cholesterol  \\\n",
       "name                                                                         \n",
       "Cornstarch             100 g       381      0.1g           NaN           0   \n",
       "Nuts, pecans           100 g       691       72g          6.2g           0   \n",
       "Eggplant, raw          100 g        25      0.2g           NaN           0   \n",
       "Teff, uncooked         100 g       367      2.4g          0.4g           0   \n",
       "Sherbet, orange        100 g       144        2g          1.2g         1mg   \n",
       "\n",
       "                   sodium  choline     folate folic_acid    niacin  ...  \\\n",
       "name                                                                ...   \n",
       "Cornstarch        9.00 mg   0.4 mg   0.00 mcg   0.00 mcg  0.000 mg  ...   \n",
       "Nuts, pecans      0.00 mg  40.5 mg  22.00 mcg   0.00 mcg  1.167 mg  ...   \n",
       "Eggplant, raw     2.00 mg   6.9 mg  22.00 mcg   0.00 mcg  0.649 mg  ...   \n",
       "Teff, uncooked   12.00 mg  13.1 mg          0          0  3.363 mg  ...   \n",
       "Sherbet, orange  46.00 mg   7.7 mg   4.00 mcg   0.00 mcg  0.063 mg  ...   \n",
       "\n",
       "                     fat saturated_fatty_acids monounsaturated_fatty_acids  \\\n",
       "name                                                                         \n",
       "Cornstarch        0.05 g               0.009 g                     0.016 g   \n",
       "Nuts, pecans     71.97 g               6.180 g                    40.801 g   \n",
       "Eggplant, raw     0.18 g               0.034 g                     0.016 g   \n",
       "Teff, uncooked    2.38 g               0.449 g                     0.589 g   \n",
       "Sherbet, orange   2.00 g               1.160 g                     0.530 g   \n",
       "\n",
       "                polyunsaturated_fatty_acids fatty_acids_total_trans alcohol  \\\n",
       "name                                                                          \n",
       "Cornstarch                          0.025 g                 0.00 mg   0.0 g   \n",
       "Nuts, pecans                       21.614 g                 0.00 mg   0.0 g   \n",
       "Eggplant, raw                       0.076 g                 0.00 mg   0.0 g   \n",
       "Teff, uncooked                      1.071 g                       0       0   \n",
       "Sherbet, orange                     0.080 g                 1.00 mg   0.0 g   \n",
       "\n",
       "                    ash caffeine theobromine    water  \n",
       "name                                                   \n",
       "Cornstarch       0.09 g  0.00 mg     0.00 mg   8.32 g  \n",
       "Nuts, pecans     1.49 g  0.00 mg     0.00 mg   3.52 g  \n",
       "Eggplant, raw    0.66 g  0.00 mg     0.00 mg  92.30 g  \n",
       "Teff, uncooked   2.37 g        0           0   8.82 g  \n",
       "Sherbet, orange  0.40 g  0.00 mg     0.00 mg  66.10 g  \n",
       "\n",
       "[5 rows x 75 columns]"
      ],
      "text/html": "<div>\n<style scoped>\n    .dataframe tbody tr th:only-of-type {\n        vertical-align: middle;\n    }\n\n    .dataframe tbody tr th {\n        vertical-align: top;\n    }\n\n    .dataframe thead th {\n        text-align: right;\n    }\n</style>\n<table border=\"1\" class=\"dataframe\">\n  <thead>\n    <tr style=\"text-align: right;\">\n      <th></th>\n      <th>serving_size</th>\n      <th>calories</th>\n      <th>total_fat</th>\n      <th>saturated_fat</th>\n      <th>cholesterol</th>\n      <th>sodium</th>\n      <th>choline</th>\n      <th>folate</th>\n      <th>folic_acid</th>\n      <th>niacin</th>\n      <th>...</th>\n      <th>fat</th>\n      <th>saturated_fatty_acids</th>\n      <th>monounsaturated_fatty_acids</th>\n      <th>polyunsaturated_fatty_acids</th>\n      <th>fatty_acids_total_trans</th>\n      <th>alcohol</th>\n      <th>ash</th>\n      <th>caffeine</th>\n      <th>theobromine</th>\n      <th>water</th>\n    </tr>\n    <tr>\n      <th>name</th>\n      <th></th>\n      <th></th>\n      <th></th>\n      <th></th>\n      <th></th>\n      <th></th>\n      <th></th>\n      <th></th>\n      <th></th>\n      <th></th>\n      <th></th>\n      <th></th>\n      <th></th>\n      <th></th>\n      <th></th>\n      <th></th>\n      <th></th>\n      <th></th>\n      <th></th>\n      <th></th>\n      <th></th>\n    </tr>\n  </thead>\n  <tbody>\n    <tr>\n      <th>Cornstarch</th>\n      <td>100 g</td>\n      <td>381</td>\n      <td>0.1g</td>\n      <td>NaN</td>\n      <td>0</td>\n      <td>9.00 mg</td>\n      <td>0.4 mg</td>\n      <td>0.00 mcg</td>\n      <td>0.00 mcg</td>\n      <td>0.000 mg</td>\n      <td>...</td>\n      <td>0.05 g</td>\n      <td>0.009 g</td>\n      <td>0.016 g</td>\n      <td>0.025 g</td>\n      <td>0.00 mg</td>\n      <td>0.0 g</td>\n      <td>0.09 g</td>\n      <td>0.00 mg</td>\n      <td>0.00 mg</td>\n      <td>8.32 g</td>\n    </tr>\n    <tr>\n      <th>Nuts, pecans</th>\n      <td>100 g</td>\n      <td>691</td>\n      <td>72g</td>\n      <td>6.2g</td>\n      <td>0</td>\n      <td>0.00 mg</td>\n      <td>40.5 mg</td>\n      <td>22.00 mcg</td>\n      <td>0.00 mcg</td>\n      <td>1.167 mg</td>\n      <td>...</td>\n      <td>71.97 g</td>\n      <td>6.180 g</td>\n      <td>40.801 g</td>\n      <td>21.614 g</td>\n      <td>0.00 mg</td>\n      <td>0.0 g</td>\n      <td>1.49 g</td>\n      <td>0.00 mg</td>\n      <td>0.00 mg</td>\n      <td>3.52 g</td>\n    </tr>\n    <tr>\n      <th>Eggplant, raw</th>\n      <td>100 g</td>\n      <td>25</td>\n      <td>0.2g</td>\n      <td>NaN</td>\n      <td>0</td>\n      <td>2.00 mg</td>\n      <td>6.9 mg</td>\n      <td>22.00 mcg</td>\n      <td>0.00 mcg</td>\n      <td>0.649 mg</td>\n      <td>...</td>\n      <td>0.18 g</td>\n      <td>0.034 g</td>\n      <td>0.016 g</td>\n      <td>0.076 g</td>\n      <td>0.00 mg</td>\n      <td>0.0 g</td>\n      <td>0.66 g</td>\n      <td>0.00 mg</td>\n      <td>0.00 mg</td>\n      <td>92.30 g</td>\n    </tr>\n    <tr>\n      <th>Teff, uncooked</th>\n      <td>100 g</td>\n      <td>367</td>\n      <td>2.4g</td>\n      <td>0.4g</td>\n      <td>0</td>\n      <td>12.00 mg</td>\n      <td>13.1 mg</td>\n      <td>0</td>\n      <td>0</td>\n      <td>3.363 mg</td>\n      <td>...</td>\n      <td>2.38 g</td>\n      <td>0.449 g</td>\n      <td>0.589 g</td>\n      <td>1.071 g</td>\n      <td>0</td>\n      <td>0</td>\n      <td>2.37 g</td>\n      <td>0</td>\n      <td>0</td>\n      <td>8.82 g</td>\n    </tr>\n    <tr>\n      <th>Sherbet, orange</th>\n      <td>100 g</td>\n      <td>144</td>\n      <td>2g</td>\n      <td>1.2g</td>\n      <td>1mg</td>\n      <td>46.00 mg</td>\n      <td>7.7 mg</td>\n      <td>4.00 mcg</td>\n      <td>0.00 mcg</td>\n      <td>0.063 mg</td>\n      <td>...</td>\n      <td>2.00 g</td>\n      <td>1.160 g</td>\n      <td>0.530 g</td>\n      <td>0.080 g</td>\n      <td>1.00 mg</td>\n      <td>0.0 g</td>\n      <td>0.40 g</td>\n      <td>0.00 mg</td>\n      <td>0.00 mg</td>\n      <td>66.10 g</td>\n    </tr>\n  </tbody>\n</table>\n<p>5 rows × 75 columns</p>\n</div>"
     },
     "metadata": {},
     "execution_count": 28
    }
   ],
   "source": [
    "nutrition.head()"
   ]
  },
  {
   "cell_type": "code",
   "execution_count": 34,
   "metadata": {},
   "outputs": [
    {
     "output_type": "execute_result",
     "data": {
      "text/plain": [
       "serving_size    100 g\n",
       "calories          381\n",
       "total_fat        0.1g\n",
       "Name: Cornstarch, dtype: object"
      ]
     },
     "metadata": {},
     "execution_count": 34
    }
   ],
   "source": [
    "nutrition.loc['Cornstarch', 'serving_size':'total_fat']"
   ]
  },
  {
   "cell_type": "code",
   "execution_count": 32,
   "metadata": {},
   "outputs": [
    {
     "output_type": "execute_result",
     "data": {
      "text/plain": [
       "               serving_size  calories total_fat\n",
       "name                                           \n",
       "Cornstarch            100 g       381      0.1g\n",
       "Nuts, pecans          100 g       691       72g\n",
       "Eggplant, raw         100 g        25      0.2g\n",
       "Teff, uncooked        100 g       367      2.4g"
      ],
      "text/html": "<div>\n<style scoped>\n    .dataframe tbody tr th:only-of-type {\n        vertical-align: middle;\n    }\n\n    .dataframe tbody tr th {\n        vertical-align: top;\n    }\n\n    .dataframe thead th {\n        text-align: right;\n    }\n</style>\n<table border=\"1\" class=\"dataframe\">\n  <thead>\n    <tr style=\"text-align: right;\">\n      <th></th>\n      <th>serving_size</th>\n      <th>calories</th>\n      <th>total_fat</th>\n    </tr>\n    <tr>\n      <th>name</th>\n      <th></th>\n      <th></th>\n      <th></th>\n    </tr>\n  </thead>\n  <tbody>\n    <tr>\n      <th>Cornstarch</th>\n      <td>100 g</td>\n      <td>381</td>\n      <td>0.1g</td>\n    </tr>\n    <tr>\n      <th>Nuts, pecans</th>\n      <td>100 g</td>\n      <td>691</td>\n      <td>72g</td>\n    </tr>\n    <tr>\n      <th>Eggplant, raw</th>\n      <td>100 g</td>\n      <td>25</td>\n      <td>0.2g</td>\n    </tr>\n    <tr>\n      <th>Teff, uncooked</th>\n      <td>100 g</td>\n      <td>367</td>\n      <td>2.4g</td>\n    </tr>\n  </tbody>\n</table>\n</div>"
     },
     "metadata": {},
     "execution_count": 32
    }
   ],
   "source": [
    "nutrition.loc['Cornstarch': 'Teff, uncooked', 'serving_size':'total_fat'] "
   ]
  },
  {
   "cell_type": "code",
   "execution_count": 35,
   "metadata": {},
   "outputs": [
    {
     "output_type": "execute_result",
     "data": {
      "text/plain": [
       "             serving_size  calories\n",
       "name                               \n",
       "Cornstarch          100 g       381\n",
       "Nuts, pecans        100 g       691"
      ],
      "text/html": "<div>\n<style scoped>\n    .dataframe tbody tr th:only-of-type {\n        vertical-align: middle;\n    }\n\n    .dataframe tbody tr th {\n        vertical-align: top;\n    }\n\n    .dataframe thead th {\n        text-align: right;\n    }\n</style>\n<table border=\"1\" class=\"dataframe\">\n  <thead>\n    <tr style=\"text-align: right;\">\n      <th></th>\n      <th>serving_size</th>\n      <th>calories</th>\n    </tr>\n    <tr>\n      <th>name</th>\n      <th></th>\n      <th></th>\n    </tr>\n  </thead>\n  <tbody>\n    <tr>\n      <th>Cornstarch</th>\n      <td>100 g</td>\n      <td>381</td>\n    </tr>\n    <tr>\n      <th>Nuts, pecans</th>\n      <td>100 g</td>\n      <td>691</td>\n    </tr>\n  </tbody>\n</table>\n</div>"
     },
     "metadata": {},
     "execution_count": 35
    }
   ],
   "source": [
    "nutrition.loc[['Cornstarch', 'Nuts, pecans'], ['serving_size', 'calories']]"
   ]
  },
  {
   "cell_type": "code",
   "execution_count": 37,
   "metadata": {},
   "outputs": [
    {
     "output_type": "execute_result",
     "data": {
      "text/plain": [
       "serving_size      100 g\n",
       "calories            367\n",
       "total_fat          2.4g\n",
       "saturated_fat      0.4g\n",
       "cholesterol           0\n",
       "                  ...  \n",
       "alcohol               0\n",
       "ash              2.37 g\n",
       "caffeine              0\n",
       "theobromine           0\n",
       "water            8.82 g\n",
       "Name: Teff, uncooked, Length: 75, dtype: object"
      ]
     },
     "metadata": {},
     "execution_count": 37
    }
   ],
   "source": [
    "nutrition.iloc[3]"
   ]
  },
  {
   "cell_type": "code",
   "execution_count": 38,
   "metadata": {},
   "outputs": [
    {
     "output_type": "execute_result",
     "data": {
      "text/plain": [
       "serving_size    100 g\n",
       "calories          367\n",
       "total_fat        2.4g\n",
       "Name: Teff, uncooked, dtype: object"
      ]
     },
     "metadata": {},
     "execution_count": 38
    }
   ],
   "source": [
    "nutrition.iloc[3, 0: 3]"
   ]
  },
  {
   "cell_type": "code",
   "execution_count": 39,
   "metadata": {},
   "outputs": [
    {
     "output_type": "execute_result",
     "data": {
      "text/plain": [
       "                   serving_size  calories total_fat\n",
       "name                                               \n",
       "Sherbet, orange           100 g       144        2g\n",
       "Taro leaves, raw          100 g        42      0.7g\n",
       "Vegetarian fillets        100 g       290       18g"
      ],
      "text/html": "<div>\n<style scoped>\n    .dataframe tbody tr th:only-of-type {\n        vertical-align: middle;\n    }\n\n    .dataframe tbody tr th {\n        vertical-align: top;\n    }\n\n    .dataframe thead th {\n        text-align: right;\n    }\n</style>\n<table border=\"1\" class=\"dataframe\">\n  <thead>\n    <tr style=\"text-align: right;\">\n      <th></th>\n      <th>serving_size</th>\n      <th>calories</th>\n      <th>total_fat</th>\n    </tr>\n    <tr>\n      <th>name</th>\n      <th></th>\n      <th></th>\n      <th></th>\n    </tr>\n  </thead>\n  <tbody>\n    <tr>\n      <th>Sherbet, orange</th>\n      <td>100 g</td>\n      <td>144</td>\n      <td>2g</td>\n    </tr>\n    <tr>\n      <th>Taro leaves, raw</th>\n      <td>100 g</td>\n      <td>42</td>\n      <td>0.7g</td>\n    </tr>\n    <tr>\n      <th>Vegetarian fillets</th>\n      <td>100 g</td>\n      <td>290</td>\n      <td>18g</td>\n    </tr>\n  </tbody>\n</table>\n</div>"
     },
     "metadata": {},
     "execution_count": 39
    }
   ],
   "source": [
    "nutrition.iloc[[4, 6, 9], 0: 3]"
   ]
  },
  {
   "cell_type": "code",
   "execution_count": 61,
   "metadata": {},
   "outputs": [
    {
     "output_type": "execute_result",
     "data": {
      "text/plain": [
       "691"
      ]
     },
     "metadata": {},
     "execution_count": 61
    }
   ],
   "source": [
    "nutrition.iat[1, 1]"
   ]
  },
  {
   "cell_type": "code",
   "execution_count": 62,
   "metadata": {},
   "outputs": [
    {
     "output_type": "execute_result",
     "data": {
      "text/plain": [
       "'100 g'"
      ]
     },
     "metadata": {},
     "execution_count": 62
    }
   ],
   "source": [
    "nutrition.at['Cornstarch', 'serving_size']"
   ]
  },
  {
   "cell_type": "code",
   "execution_count": 70,
   "metadata": {},
   "outputs": [
    {
     "output_type": "execute_result",
     "data": {
      "text/plain": [
       "                                                   serving_size  calories  \\\n",
       "name                                                                        \n",
       "Nuts, pecans                                              100 g       691   \n",
       "Teff, uncooked                                            100 g       367   \n",
       "Sherbet, orange                                           100 g       144   \n",
       "Cauliflower, raw                                          100 g        25   \n",
       "Taro leaves, raw                                          100 g        42   \n",
       "...                                                         ...       ...   \n",
       "Beef, raw, all grades, trimmed to 0\" fat, separ...        100 g       125   \n",
       "Lamb, cooked, separable lean only, composite of...        100 g       206   \n",
       "Lamb, raw, separable lean and fat, composite of...        100 g       277   \n",
       "Beef, raw, all grades, trimmed to 0\" fat, separ...        100 g       121   \n",
       "Beef, raw, all grades, trimmed to 0\" fat, separ...        100 g       121   \n",
       "\n",
       "                                                   total_fat saturated_fat  \\\n",
       "name                                                                         \n",
       "Nuts, pecans                                             72g          6.2g   \n",
       "Teff, uncooked                                          2.4g          0.4g   \n",
       "Sherbet, orange                                           2g          1.2g   \n",
       "Cauliflower, raw                                        0.3g          0.1g   \n",
       "Taro leaves, raw                                        0.7g          0.2g   \n",
       "...                                                      ...           ...   \n",
       "Beef, raw, all grades, trimmed to 0\" fat, separ...      3.5g          1.4g   \n",
       "Lamb, cooked, separable lean only, composite of...      8.9g          3.9g   \n",
       "Lamb, raw, separable lean and fat, composite of...       23g           12g   \n",
       "Beef, raw, all grades, trimmed to 0\" fat, separ...        3g          1.1g   \n",
       "Beef, raw, all grades, trimmed to 0\" fat, separ...        3g          1.1g   \n",
       "\n",
       "                                                   cholesterol    sodium  \\\n",
       "name                                                                       \n",
       "Nuts, pecans                                                 0   0.00 mg   \n",
       "Teff, uncooked                                               0  12.00 mg   \n",
       "Sherbet, orange                                            1mg  46.00 mg   \n",
       "Cauliflower, raw                                             0  30.00 mg   \n",
       "Taro leaves, raw                                             0   3.00 mg   \n",
       "...                                                        ...       ...   \n",
       "Beef, raw, all grades, trimmed to 0\" fat, separ...        62mg  54.00 mg   \n",
       "Lamb, cooked, separable lean only, composite of...       109mg  50.00 mg   \n",
       "Lamb, raw, separable lean and fat, composite of...        78mg  39.00 mg   \n",
       "Beef, raw, all grades, trimmed to 0\" fat, separ...        60mg  53.00 mg   \n",
       "Beef, raw, all grades, trimmed to 0\" fat, separ...        60mg  53.00 mg   \n",
       "\n",
       "                                                    choline      folate  \\\n",
       "name                                                                      \n",
       "Nuts, pecans                                        40.5 mg   22.00 mcg   \n",
       "Teff, uncooked                                      13.1 mg           0   \n",
       "Sherbet, orange                                      7.7 mg    4.00 mcg   \n",
       "Cauliflower, raw                                    44.3 mg   57.00 mcg   \n",
       "Taro leaves, raw                                    12.8 mg  126.00 mcg   \n",
       "...                                                     ...         ...   \n",
       "Beef, raw, all grades, trimmed to 0\" fat, separ...  64.5 mg    4.00 mcg   \n",
       "Lamb, cooked, separable lean only, composite of...        0    0.00 mcg   \n",
       "Lamb, raw, separable lean and fat, composite of...        0    1.00 mcg   \n",
       "Beef, raw, all grades, trimmed to 0\" fat, separ...  64.2 mg    4.00 mcg   \n",
       "Beef, raw, all grades, trimmed to 0\" fat, separ...  64.2 mg    4.00 mcg   \n",
       "\n",
       "                                                   folic_acid    niacin  ...  \\\n",
       "name                                                                     ...   \n",
       "Nuts, pecans                                         0.00 mcg  1.167 mg  ...   \n",
       "Teff, uncooked                                              0  3.363 mg  ...   \n",
       "Sherbet, orange                                      0.00 mcg  0.063 mg  ...   \n",
       "Cauliflower, raw                                     0.00 mcg  0.507 mg  ...   \n",
       "Taro leaves, raw                                     0.00 mcg  1.513 mg  ...   \n",
       "...                                                       ...       ...  ...   \n",
       "Beef, raw, all grades, trimmed to 0\" fat, separ...   0.00 mcg  6.422 mg  ...   \n",
       "Lamb, cooked, separable lean only, composite of...   0.00 mcg  7.680 mg  ...   \n",
       "Lamb, raw, separable lean and fat, composite of...   0.00 mcg  6.550 mg  ...   \n",
       "Beef, raw, all grades, trimmed to 0\" fat, separ...   0.00 mcg  6.720 mg  ...   \n",
       "Beef, raw, all grades, trimmed to 0\" fat, separ...   0.00 mcg  6.720 mg  ...   \n",
       "\n",
       "                                                        fat  \\\n",
       "name                                                          \n",
       "Nuts, pecans                                        71.97 g   \n",
       "Teff, uncooked                                       2.38 g   \n",
       "Sherbet, orange                                      2.00 g   \n",
       "Cauliflower, raw                                     0.28 g   \n",
       "Taro leaves, raw                                     0.74 g   \n",
       "...                                                     ...   \n",
       "Beef, raw, all grades, trimmed to 0\" fat, separ...   3.50 g   \n",
       "Lamb, cooked, separable lean only, composite of...   8.86 g   \n",
       "Lamb, raw, separable lean and fat, composite of...  22.74 g   \n",
       "Beef, raw, all grades, trimmed to 0\" fat, separ...   3.04 g   \n",
       "Beef, raw, all grades, trimmed to 0\" fat, separ...   3.04 g   \n",
       "\n",
       "                                                   saturated_fatty_acids  \\\n",
       "name                                                                       \n",
       "Nuts, pecans                                                     6.180 g   \n",
       "Teff, uncooked                                                   0.449 g   \n",
       "Sherbet, orange                                                  1.160 g   \n",
       "Cauliflower, raw                                                 0.130 g   \n",
       "Taro leaves, raw                                                 0.151 g   \n",
       "...                                                                  ...   \n",
       "Beef, raw, all grades, trimmed to 0\" fat, separ...               1.353 g   \n",
       "Lamb, cooked, separable lean only, composite of...               3.860 g   \n",
       "Lamb, raw, separable lean and fat, composite of...              11.570 g   \n",
       "Beef, raw, all grades, trimmed to 0\" fat, separ...               1.086 g   \n",
       "Beef, raw, all grades, trimmed to 0\" fat, separ...               1.086 g   \n",
       "\n",
       "                                                   monounsaturated_fatty_acids  \\\n",
       "name                                                                             \n",
       "Nuts, pecans                                                          40.801 g   \n",
       "Teff, uncooked                                                         0.589 g   \n",
       "Sherbet, orange                                                        0.530 g   \n",
       "Cauliflower, raw                                                       0.034 g   \n",
       "Taro leaves, raw                                                       0.060 g   \n",
       "...                                                                        ...   \n",
       "Beef, raw, all grades, trimmed to 0\" fat, separ...                     1.554 g   \n",
       "Lamb, cooked, separable lean only, composite of...                     3.480 g   \n",
       "Lamb, raw, separable lean and fat, composite of...                     8.720 g   \n",
       "Beef, raw, all grades, trimmed to 0\" fat, separ...                     1.266 g   \n",
       "Beef, raw, all grades, trimmed to 0\" fat, separ...                     1.266 g   \n",
       "\n",
       "                                                   polyunsaturated_fatty_acids  \\\n",
       "name                                                                             \n",
       "Nuts, pecans                                                          21.614 g   \n",
       "Teff, uncooked                                                         1.071 g   \n",
       "Sherbet, orange                                                        0.080 g   \n",
       "Cauliflower, raw                                                       0.031 g   \n",
       "Taro leaves, raw                                                       0.307 g   \n",
       "...                                                                        ...   \n",
       "Beef, raw, all grades, trimmed to 0\" fat, separ...                     0.244 g   \n",
       "Lamb, cooked, separable lean only, composite of...                     0.520 g   \n",
       "Lamb, raw, separable lean and fat, composite of...                     0.980 g   \n",
       "Beef, raw, all grades, trimmed to 0\" fat, separ...                     0.233 g   \n",
       "Beef, raw, all grades, trimmed to 0\" fat, separ...                     0.233 g   \n",
       "\n",
       "                                                   fatty_acids_total_trans  \\\n",
       "name                                                                         \n",
       "Nuts, pecans                                                       0.00 mg   \n",
       "Teff, uncooked                                                           0   \n",
       "Sherbet, orange                                                    1.00 mg   \n",
       "Cauliflower, raw                                                   0.00 mg   \n",
       "Taro leaves, raw                                                   0.00 mg   \n",
       "...                                                                    ...   \n",
       "Beef, raw, all grades, trimmed to 0\" fat, separ...                62.00 mg   \n",
       "Lamb, cooked, separable lean only, composite of...               109.00 mg   \n",
       "Lamb, raw, separable lean and fat, composite of...                78.00 mg   \n",
       "Beef, raw, all grades, trimmed to 0\" fat, separ...                60.00 mg   \n",
       "Beef, raw, all grades, trimmed to 0\" fat, separ...                60.00 mg   \n",
       "\n",
       "                                                   alcohol     ash caffeine  \\\n",
       "name                                                                          \n",
       "Nuts, pecans                                         0.0 g  1.49 g  0.00 mg   \n",
       "Teff, uncooked                                           0  2.37 g        0   \n",
       "Sherbet, orange                                      0.0 g  0.40 g  0.00 mg   \n",
       "Cauliflower, raw                                     0.0 g  0.76 g  0.00 mg   \n",
       "Taro leaves, raw                                     0.0 g  1.92 g  0.00 mg   \n",
       "...                                                    ...     ...      ...   \n",
       "Beef, raw, all grades, trimmed to 0\" fat, separ...   0.0 g  1.11 g  0.00 mg   \n",
       "Lamb, cooked, separable lean only, composite of...       0  1.60 g        0   \n",
       "Lamb, raw, separable lean and fat, composite of...       0  0.92 g        0   \n",
       "Beef, raw, all grades, trimmed to 0\" fat, separ...   0.0 g  1.10 g  0.00 mg   \n",
       "Beef, raw, all grades, trimmed to 0\" fat, separ...   0.0 g  1.10 g  0.00 mg   \n",
       "\n",
       "                                                   theobromine    water  \n",
       "name                                                                     \n",
       "Nuts, pecans                                           0.00 mg   3.52 g  \n",
       "Teff, uncooked                                               0   8.82 g  \n",
       "Sherbet, orange                                        0.00 mg  66.10 g  \n",
       "Cauliflower, raw                                       0.00 mg  92.07 g  \n",
       "Taro leaves, raw                                       0.00 mg  85.66 g  \n",
       "...                                                        ...      ...  \n",
       "Beef, raw, all grades, trimmed to 0\" fat, separ...     0.00 mg  72.51 g  \n",
       "Lamb, cooked, separable lean only, composite of...           0  59.95 g  \n",
       "Lamb, raw, separable lean and fat, composite of...           0  59.80 g  \n",
       "Beef, raw, all grades, trimmed to 0\" fat, separ...     0.00 mg  73.43 g  \n",
       "Beef, raw, all grades, trimmed to 0\" fat, separ...     0.00 mg  73.43 g  \n",
       "\n",
       "[7199 rows x 75 columns]"
      ],
      "text/html": "<div>\n<style scoped>\n    .dataframe tbody tr th:only-of-type {\n        vertical-align: middle;\n    }\n\n    .dataframe tbody tr th {\n        vertical-align: top;\n    }\n\n    .dataframe thead th {\n        text-align: right;\n    }\n</style>\n<table border=\"1\" class=\"dataframe\">\n  <thead>\n    <tr style=\"text-align: right;\">\n      <th></th>\n      <th>serving_size</th>\n      <th>calories</th>\n      <th>total_fat</th>\n      <th>saturated_fat</th>\n      <th>cholesterol</th>\n      <th>sodium</th>\n      <th>choline</th>\n      <th>folate</th>\n      <th>folic_acid</th>\n      <th>niacin</th>\n      <th>...</th>\n      <th>fat</th>\n      <th>saturated_fatty_acids</th>\n      <th>monounsaturated_fatty_acids</th>\n      <th>polyunsaturated_fatty_acids</th>\n      <th>fatty_acids_total_trans</th>\n      <th>alcohol</th>\n      <th>ash</th>\n      <th>caffeine</th>\n      <th>theobromine</th>\n      <th>water</th>\n    </tr>\n    <tr>\n      <th>name</th>\n      <th></th>\n      <th></th>\n      <th></th>\n      <th></th>\n      <th></th>\n      <th></th>\n      <th></th>\n      <th></th>\n      <th></th>\n      <th></th>\n      <th></th>\n      <th></th>\n      <th></th>\n      <th></th>\n      <th></th>\n      <th></th>\n      <th></th>\n      <th></th>\n      <th></th>\n      <th></th>\n      <th></th>\n    </tr>\n  </thead>\n  <tbody>\n    <tr>\n      <th>Nuts, pecans</th>\n      <td>100 g</td>\n      <td>691</td>\n      <td>72g</td>\n      <td>6.2g</td>\n      <td>0</td>\n      <td>0.00 mg</td>\n      <td>40.5 mg</td>\n      <td>22.00 mcg</td>\n      <td>0.00 mcg</td>\n      <td>1.167 mg</td>\n      <td>...</td>\n      <td>71.97 g</td>\n      <td>6.180 g</td>\n      <td>40.801 g</td>\n      <td>21.614 g</td>\n      <td>0.00 mg</td>\n      <td>0.0 g</td>\n      <td>1.49 g</td>\n      <td>0.00 mg</td>\n      <td>0.00 mg</td>\n      <td>3.52 g</td>\n    </tr>\n    <tr>\n      <th>Teff, uncooked</th>\n      <td>100 g</td>\n      <td>367</td>\n      <td>2.4g</td>\n      <td>0.4g</td>\n      <td>0</td>\n      <td>12.00 mg</td>\n      <td>13.1 mg</td>\n      <td>0</td>\n      <td>0</td>\n      <td>3.363 mg</td>\n      <td>...</td>\n      <td>2.38 g</td>\n      <td>0.449 g</td>\n      <td>0.589 g</td>\n      <td>1.071 g</td>\n      <td>0</td>\n      <td>0</td>\n      <td>2.37 g</td>\n      <td>0</td>\n      <td>0</td>\n      <td>8.82 g</td>\n    </tr>\n    <tr>\n      <th>Sherbet, orange</th>\n      <td>100 g</td>\n      <td>144</td>\n      <td>2g</td>\n      <td>1.2g</td>\n      <td>1mg</td>\n      <td>46.00 mg</td>\n      <td>7.7 mg</td>\n      <td>4.00 mcg</td>\n      <td>0.00 mcg</td>\n      <td>0.063 mg</td>\n      <td>...</td>\n      <td>2.00 g</td>\n      <td>1.160 g</td>\n      <td>0.530 g</td>\n      <td>0.080 g</td>\n      <td>1.00 mg</td>\n      <td>0.0 g</td>\n      <td>0.40 g</td>\n      <td>0.00 mg</td>\n      <td>0.00 mg</td>\n      <td>66.10 g</td>\n    </tr>\n    <tr>\n      <th>Cauliflower, raw</th>\n      <td>100 g</td>\n      <td>25</td>\n      <td>0.3g</td>\n      <td>0.1g</td>\n      <td>0</td>\n      <td>30.00 mg</td>\n      <td>44.3 mg</td>\n      <td>57.00 mcg</td>\n      <td>0.00 mcg</td>\n      <td>0.507 mg</td>\n      <td>...</td>\n      <td>0.28 g</td>\n      <td>0.130 g</td>\n      <td>0.034 g</td>\n      <td>0.031 g</td>\n      <td>0.00 mg</td>\n      <td>0.0 g</td>\n      <td>0.76 g</td>\n      <td>0.00 mg</td>\n      <td>0.00 mg</td>\n      <td>92.07 g</td>\n    </tr>\n    <tr>\n      <th>Taro leaves, raw</th>\n      <td>100 g</td>\n      <td>42</td>\n      <td>0.7g</td>\n      <td>0.2g</td>\n      <td>0</td>\n      <td>3.00 mg</td>\n      <td>12.8 mg</td>\n      <td>126.00 mcg</td>\n      <td>0.00 mcg</td>\n      <td>1.513 mg</td>\n      <td>...</td>\n      <td>0.74 g</td>\n      <td>0.151 g</td>\n      <td>0.060 g</td>\n      <td>0.307 g</td>\n      <td>0.00 mg</td>\n      <td>0.0 g</td>\n      <td>1.92 g</td>\n      <td>0.00 mg</td>\n      <td>0.00 mg</td>\n      <td>85.66 g</td>\n    </tr>\n    <tr>\n      <th>...</th>\n      <td>...</td>\n      <td>...</td>\n      <td>...</td>\n      <td>...</td>\n      <td>...</td>\n      <td>...</td>\n      <td>...</td>\n      <td>...</td>\n      <td>...</td>\n      <td>...</td>\n      <td>...</td>\n      <td>...</td>\n      <td>...</td>\n      <td>...</td>\n      <td>...</td>\n      <td>...</td>\n      <td>...</td>\n      <td>...</td>\n      <td>...</td>\n      <td>...</td>\n      <td>...</td>\n    </tr>\n    <tr>\n      <th>Beef, raw, all grades, trimmed to 0\" fat, separable lean and fat, boneless, top round roast, round</th>\n      <td>100 g</td>\n      <td>125</td>\n      <td>3.5g</td>\n      <td>1.4g</td>\n      <td>62mg</td>\n      <td>54.00 mg</td>\n      <td>64.5 mg</td>\n      <td>4.00 mcg</td>\n      <td>0.00 mcg</td>\n      <td>6.422 mg</td>\n      <td>...</td>\n      <td>3.50 g</td>\n      <td>1.353 g</td>\n      <td>1.554 g</td>\n      <td>0.244 g</td>\n      <td>62.00 mg</td>\n      <td>0.0 g</td>\n      <td>1.11 g</td>\n      <td>0.00 mg</td>\n      <td>0.00 mg</td>\n      <td>72.51 g</td>\n    </tr>\n    <tr>\n      <th>Lamb, cooked, separable lean only, composite of trimmed retail cuts, frozen, imported, New Zealand</th>\n      <td>100 g</td>\n      <td>206</td>\n      <td>8.9g</td>\n      <td>3.9g</td>\n      <td>109mg</td>\n      <td>50.00 mg</td>\n      <td>0</td>\n      <td>0.00 mcg</td>\n      <td>0.00 mcg</td>\n      <td>7.680 mg</td>\n      <td>...</td>\n      <td>8.86 g</td>\n      <td>3.860 g</td>\n      <td>3.480 g</td>\n      <td>0.520 g</td>\n      <td>109.00 mg</td>\n      <td>0</td>\n      <td>1.60 g</td>\n      <td>0</td>\n      <td>0</td>\n      <td>59.95 g</td>\n    </tr>\n    <tr>\n      <th>Lamb, raw, separable lean and fat, composite of trimmed retail cuts, frozen, imported, New Zealand</th>\n      <td>100 g</td>\n      <td>277</td>\n      <td>23g</td>\n      <td>12g</td>\n      <td>78mg</td>\n      <td>39.00 mg</td>\n      <td>0</td>\n      <td>1.00 mcg</td>\n      <td>0.00 mcg</td>\n      <td>6.550 mg</td>\n      <td>...</td>\n      <td>22.74 g</td>\n      <td>11.570 g</td>\n      <td>8.720 g</td>\n      <td>0.980 g</td>\n      <td>78.00 mg</td>\n      <td>0</td>\n      <td>0.92 g</td>\n      <td>0</td>\n      <td>0</td>\n      <td>59.80 g</td>\n    </tr>\n    <tr>\n      <th>Beef, raw, all grades, trimmed to 0\" fat, separable lean only, boneless, eye of round roast, round</th>\n      <td>100 g</td>\n      <td>121</td>\n      <td>3g</td>\n      <td>1.1g</td>\n      <td>60mg</td>\n      <td>53.00 mg</td>\n      <td>64.2 mg</td>\n      <td>4.00 mcg</td>\n      <td>0.00 mcg</td>\n      <td>6.720 mg</td>\n      <td>...</td>\n      <td>3.04 g</td>\n      <td>1.086 g</td>\n      <td>1.266 g</td>\n      <td>0.233 g</td>\n      <td>60.00 mg</td>\n      <td>0.0 g</td>\n      <td>1.10 g</td>\n      <td>0.00 mg</td>\n      <td>0.00 mg</td>\n      <td>73.43 g</td>\n    </tr>\n    <tr>\n      <th>Beef, raw, all grades, trimmed to 0\" fat, separable lean only, boneless, eye of round steak, round</th>\n      <td>100 g</td>\n      <td>121</td>\n      <td>3g</td>\n      <td>1.1g</td>\n      <td>60mg</td>\n      <td>53.00 mg</td>\n      <td>64.2 mg</td>\n      <td>4.00 mcg</td>\n      <td>0.00 mcg</td>\n      <td>6.720 mg</td>\n      <td>...</td>\n      <td>3.04 g</td>\n      <td>1.086 g</td>\n      <td>1.266 g</td>\n      <td>0.233 g</td>\n      <td>60.00 mg</td>\n      <td>0.0 g</td>\n      <td>1.10 g</td>\n      <td>0.00 mg</td>\n      <td>0.00 mg</td>\n      <td>73.43 g</td>\n    </tr>\n  </tbody>\n</table>\n<p>7199 rows × 75 columns</p>\n</div>"
     },
     "metadata": {},
     "execution_count": 70
    }
   ],
   "source": []
  },
  {
   "cell_type": "code",
   "execution_count": 72,
   "metadata": {},
   "outputs": [
    {
     "output_type": "execute_result",
     "data": {
      "text/plain": [
       "0"
      ]
     },
     "metadata": {},
     "execution_count": 72
    }
   ],
   "source": [
    "nutrition.columns.get_loc('serving_size')"
   ]
  },
  {
   "cell_type": "code",
   "execution_count": 73,
   "metadata": {},
   "outputs": [],
   "source": [
    "nutr_mini = nutrition.sample(n=10)"
   ]
  },
  {
   "cell_type": "code",
   "execution_count": 74,
   "metadata": {},
   "outputs": [
    {
     "output_type": "execute_result",
     "data": {
      "text/plain": [
       "                                                   serving_size  calories  \\\n",
       "name                                                                        \n",
       "Asparagus, with salt, drained, boiled, cooked             100 g        22   \n",
       "Beverages, Diet Cranberry Juice, OCEAN SPRAY              100 g         4   \n",
       "Fish, raw, florida, pompano                               100 g       164   \n",
       "Lamb, roasted, choice, trimmed to 1/8\" fat, sep...        100 g       267   \n",
       "KRAFT VELVEETA LIGHT Reduced Fat Pasteurized Pr...        100 g       222   \n",
       "Beef, roasted, cooked, all grades, trimmed to 1...        100 g       324   \n",
       "Beef, raw, 75% lean meat / 25% fat, ground                100 g       293   \n",
       "Nuts, with salt added, with peanuts, dry roaste...        100 g       594   \n",
       "Beef, pan-broiled, cooked, patty, 90% lean meat...        100 g       204   \n",
       "Beef, grilled, cooked, all grades, trimmed to 0...        100 g       182   \n",
       "\n",
       "                                                   total_fat saturated_fat  \\\n",
       "name                                                                         \n",
       "Asparagus, with salt, drained, boiled, cooked           0.2g           NaN   \n",
       "Beverages, Diet Cranberry Juice, OCEAN SPRAY              0g           NaN   \n",
       "Fish, raw, florida, pompano                             9.5g          3.5g   \n",
       "Lamb, roasted, choice, trimmed to 1/8\" fat, sep...       19g            8g   \n",
       "KRAFT VELVEETA LIGHT Reduced Fat Pasteurized Pr...       11g          7.1g   \n",
       "Beef, roasted, cooked, all grades, trimmed to 1...       25g          9.7g   \n",
       "Beef, raw, 75% lean meat / 25% fat, ground               25g          9.6g   \n",
       "Nuts, with salt added, with peanuts, dry roaste...       51g          6.5g   \n",
       "Beef, pan-broiled, cooked, patty, 90% lean meat...       11g          4.2g   \n",
       "Beef, grilled, cooked, all grades, trimmed to 0...      7.1g          2.5g   \n",
       "\n",
       "                                                   cholesterol      sodium  \\\n",
       "name                                                                         \n",
       "Asparagus, with salt, drained, boiled, cooked                0   240.00 mg   \n",
       "Beverages, Diet Cranberry Juice, OCEAN SPRAY                 0     7.00 mg   \n",
       "Fish, raw, florida, pompano                               50mg    65.00 mg   \n",
       "Lamb, roasted, choice, trimmed to 1/8\" fat, sep...        91mg    65.00 mg   \n",
       "KRAFT VELVEETA LIGHT Reduced Fat Pasteurized Pr...        42mg  1586.00 mg   \n",
       "Beef, roasted, cooked, all grades, trimmed to 1...        85mg    57.00 mg   \n",
       "Beef, raw, 75% lean meat / 25% fat, ground                75mg    66.00 mg   \n",
       "Nuts, with salt added, with peanuts, dry roaste...           0   345.00 mg   \n",
       "Beef, pan-broiled, cooked, patty, 90% lean meat...        84mg    75.00 mg   \n",
       "Beef, grilled, cooked, all grades, trimmed to 0...        77mg    58.00 mg   \n",
       "\n",
       "                                                    choline      folate  \\\n",
       "name                                                                      \n",
       "Asparagus, with salt, drained, boiled, cooked       26.1 mg  149.00 mcg   \n",
       "Beverages, Diet Cranberry Juice, OCEAN SPRAY         0.0 mg    4.00 mcg   \n",
       "Fish, raw, florida, pompano                         51.5 mg   15.00 mcg   \n",
       "Lamb, roasted, choice, trimmed to 1/8\" fat, sep...        0   21.00 mcg   \n",
       "KRAFT VELVEETA LIGHT Reduced Fat Pasteurized Pr...        0           0   \n",
       "Beef, roasted, cooked, all grades, trimmed to 1...  91.0 mg    8.00 mcg   \n",
       "Beef, raw, 75% lean meat / 25% fat, ground          51.6 mg    8.00 mcg   \n",
       "Nuts, with salt added, with peanuts, dry roaste...  54.3 mg   50.00 mcg   \n",
       "Beef, pan-broiled, cooked, patty, 90% lean meat...  81.0 mg    8.00 mcg   \n",
       "Beef, grilled, cooked, all grades, trimmed to 0...  92.9 mg    7.00 mcg   \n",
       "\n",
       "                                                   folic_acid    niacin  ...  \\\n",
       "name                                                                     ...   \n",
       "Asparagus, with salt, drained, boiled, cooked        0.00 mcg  1.084 mg  ...   \n",
       "Beverages, Diet Cranberry Juice, OCEAN SPRAY         4.00 mcg  0.026 mg  ...   \n",
       "Fish, raw, florida, pompano                          0.00 mcg  3.000 mg  ...   \n",
       "Lamb, roasted, choice, trimmed to 1/8\" fat, sep...   0.00 mcg  6.620 mg  ...   \n",
       "KRAFT VELVEETA LIGHT Reduced Fat Pasteurized Pr...          0         0  ...   \n",
       "Beef, roasted, cooked, all grades, trimmed to 1...   0.00 mcg  3.000 mg  ...   \n",
       "Beef, raw, 75% lean meat / 25% fat, ground           0.00 mcg  3.804 mg  ...   \n",
       "Nuts, with salt added, with peanuts, dry roaste...   0.00 mcg  4.700 mg  ...   \n",
       "Beef, pan-broiled, cooked, patty, 90% lean meat...   0.00 mcg  6.027 mg  ...   \n",
       "Beef, grilled, cooked, all grades, trimmed to 0...   0.00 mcg  7.557 mg  ...   \n",
       "\n",
       "                                                        fat  \\\n",
       "name                                                          \n",
       "Asparagus, with salt, drained, boiled, cooked        0.22 g   \n",
       "Beverages, Diet Cranberry Juice, OCEAN SPRAY         0.00 g   \n",
       "Fish, raw, florida, pompano                          9.47 g   \n",
       "Lamb, roasted, choice, trimmed to 1/8\" fat, sep...  18.75 g   \n",
       "KRAFT VELVEETA LIGHT Reduced Fat Pasteurized Pr...  10.60 g   \n",
       "Beef, roasted, cooked, all grades, trimmed to 1...  24.60 g   \n",
       "Beef, raw, 75% lean meat / 25% fat, ground          25.00 g   \n",
       "Nuts, with salt added, with peanuts, dry roaste...  51.45 g   \n",
       "Beef, pan-broiled, cooked, patty, 90% lean meat...  10.68 g   \n",
       "Beef, grilled, cooked, all grades, trimmed to 0...   7.10 g   \n",
       "\n",
       "                                                   saturated_fatty_acids  \\\n",
       "name                                                                       \n",
       "Asparagus, with salt, drained, boiled, cooked                    0.048 g   \n",
       "Beverages, Diet Cranberry Juice, OCEAN SPRAY                     0.001 g   \n",
       "Fish, raw, florida, pompano                                      3.509 g   \n",
       "Lamb, roasted, choice, trimmed to 1/8\" fat, sep...               8.040 g   \n",
       "KRAFT VELVEETA LIGHT Reduced Fat Pasteurized Pr...               7.100 g   \n",
       "Beef, roasted, cooked, all grades, trimmed to 1...               9.720 g   \n",
       "Beef, raw, 75% lean meat / 25% fat, ground                       9.568 g   \n",
       "Nuts, with salt added, with peanuts, dry roaste...               6.500 g   \n",
       "Beef, pan-broiled, cooked, patty, 90% lean meat...               4.189 g   \n",
       "Beef, grilled, cooked, all grades, trimmed to 0...               2.541 g   \n",
       "\n",
       "                                                   monounsaturated_fatty_acids  \\\n",
       "name                                                                             \n",
       "Asparagus, with salt, drained, boiled, cooked                          0.000 g   \n",
       "Beverages, Diet Cranberry Juice, OCEAN SPRAY                           0.001 g   \n",
       "Fish, raw, florida, pompano                                            2.586 g   \n",
       "Lamb, roasted, choice, trimmed to 1/8\" fat, sep...                     7.680 g   \n",
       "KRAFT VELVEETA LIGHT Reduced Fat Pasteurized Pr...                           0   \n",
       "Beef, roasted, cooked, all grades, trimmed to 1...                    10.270 g   \n",
       "Beef, raw, 75% lean meat / 25% fat, ground                            11.383 g   \n",
       "Nuts, with salt added, with peanuts, dry roaste...                    31.395 g   \n",
       "Beef, pan-broiled, cooked, patty, 90% lean meat...                     4.473 g   \n",
       "Beef, grilled, cooked, all grades, trimmed to 0...                     3.174 g   \n",
       "\n",
       "                                                   polyunsaturated_fatty_acids  \\\n",
       "name                                                                             \n",
       "Asparagus, with salt, drained, boiled, cooked                          0.105 g   \n",
       "Beverages, Diet Cranberry Juice, OCEAN SPRAY                           0.001 g   \n",
       "Fish, raw, florida, pompano                                            1.137 g   \n",
       "Lamb, roasted, choice, trimmed to 1/8\" fat, sep...                     1.500 g   \n",
       "KRAFT VELVEETA LIGHT Reduced Fat Pasteurized Pr...                           0   \n",
       "Beef, roasted, cooked, all grades, trimmed to 1...                     1.000 g   \n",
       "Beef, raw, 75% lean meat / 25% fat, ground                             0.609 g   \n",
       "Nuts, with salt added, with peanuts, dry roaste...                    10.768 g   \n",
       "Beef, pan-broiled, cooked, patty, 90% lean meat...                     0.381 g   \n",
       "Beef, grilled, cooked, all grades, trimmed to 0...                     0.321 g   \n",
       "\n",
       "                                                   fatty_acids_total_trans  \\\n",
       "name                                                                         \n",
       "Asparagus, with salt, drained, boiled, cooked                      0.00 mg   \n",
       "Beverages, Diet Cranberry Juice, OCEAN SPRAY                       0.00 mg   \n",
       "Fish, raw, florida, pompano                                       50.00 mg   \n",
       "Lamb, roasted, choice, trimmed to 1/8\" fat, sep...                91.00 mg   \n",
       "KRAFT VELVEETA LIGHT Reduced Fat Pasteurized Pr...                42.00 mg   \n",
       "Beef, roasted, cooked, all grades, trimmed to 1...                85.00 mg   \n",
       "Beef, raw, 75% lean meat / 25% fat, ground                        75.00 mg   \n",
       "Nuts, with salt added, with peanuts, dry roaste...                 0.00 mg   \n",
       "Beef, pan-broiled, cooked, patty, 90% lean meat...                84.00 mg   \n",
       "Beef, grilled, cooked, all grades, trimmed to 0...                77.00 mg   \n",
       "\n",
       "                                                   alcohol     ash caffeine  \\\n",
       "name                                                                          \n",
       "Asparagus, with salt, drained, boiled, cooked        0.0 g  0.63 g  0.00 mg   \n",
       "Beverages, Diet Cranberry Juice, OCEAN SPRAY         0.0 g  0.07 g  0.00 mg   \n",
       "Fish, raw, florida, pompano                          0.0 g  1.10 g  0.00 mg   \n",
       "Lamb, roasted, choice, trimmed to 1/8\" fat, sep...       0  1.23 g        0   \n",
       "KRAFT VELVEETA LIGHT Reduced Fat Pasteurized Pr...       0  6.60 g        0   \n",
       "Beef, roasted, cooked, all grades, trimmed to 1...   0.0 g  1.18 g  0.00 mg   \n",
       "Beef, raw, 75% lean meat / 25% fat, ground           0.0 g  0.77 g  0.00 mg   \n",
       "Nuts, with salt added, with peanuts, dry roaste...   0.0 g  4.15 g  0.00 mg   \n",
       "Beef, pan-broiled, cooked, patty, 90% lean meat...   0.0 g  1.08 g  0.00 mg   \n",
       "Beef, grilled, cooked, all grades, trimmed to 0...   0.0 g  1.16 g  0.00 mg   \n",
       "\n",
       "                                                   theobromine    water  \n",
       "name                                                                     \n",
       "Asparagus, with salt, drained, boiled, cooked          0.00 mg  92.63 g  \n",
       "Beverages, Diet Cranberry Juice, OCEAN SPRAY           0.00 mg  99.20 g  \n",
       "Fish, raw, florida, pompano                            0.00 mg  71.12 g  \n",
       "Lamb, roasted, choice, trimmed to 1/8\" fat, sep...           0  57.07 g  \n",
       "KRAFT VELVEETA LIGHT Reduced Fat Pasteurized Pr...           0  51.30 g  \n",
       "Beef, roasted, cooked, all grades, trimmed to 1...     0.00 mg  48.37 g  \n",
       "Beef, raw, 75% lean meat / 25% fat, ground             0.00 mg  58.09 g  \n",
       "Nuts, with salt added, with peanuts, dry roaste...     0.00 mg   1.75 g  \n",
       "Beef, pan-broiled, cooked, patty, 90% lean meat...     0.00 mg  63.21 g  \n",
       "Beef, grilled, cooked, all grades, trimmed to 0...     0.00 mg  64.28 g  \n",
       "\n",
       "[10 rows x 75 columns]"
      ],
      "text/html": "<div>\n<style scoped>\n    .dataframe tbody tr th:only-of-type {\n        vertical-align: middle;\n    }\n\n    .dataframe tbody tr th {\n        vertical-align: top;\n    }\n\n    .dataframe thead th {\n        text-align: right;\n    }\n</style>\n<table border=\"1\" class=\"dataframe\">\n  <thead>\n    <tr style=\"text-align: right;\">\n      <th></th>\n      <th>serving_size</th>\n      <th>calories</th>\n      <th>total_fat</th>\n      <th>saturated_fat</th>\n      <th>cholesterol</th>\n      <th>sodium</th>\n      <th>choline</th>\n      <th>folate</th>\n      <th>folic_acid</th>\n      <th>niacin</th>\n      <th>...</th>\n      <th>fat</th>\n      <th>saturated_fatty_acids</th>\n      <th>monounsaturated_fatty_acids</th>\n      <th>polyunsaturated_fatty_acids</th>\n      <th>fatty_acids_total_trans</th>\n      <th>alcohol</th>\n      <th>ash</th>\n      <th>caffeine</th>\n      <th>theobromine</th>\n      <th>water</th>\n    </tr>\n    <tr>\n      <th>name</th>\n      <th></th>\n      <th></th>\n      <th></th>\n      <th></th>\n      <th></th>\n      <th></th>\n      <th></th>\n      <th></th>\n      <th></th>\n      <th></th>\n      <th></th>\n      <th></th>\n      <th></th>\n      <th></th>\n      <th></th>\n      <th></th>\n      <th></th>\n      <th></th>\n      <th></th>\n      <th></th>\n      <th></th>\n    </tr>\n  </thead>\n  <tbody>\n    <tr>\n      <th>Asparagus, with salt, drained, boiled, cooked</th>\n      <td>100 g</td>\n      <td>22</td>\n      <td>0.2g</td>\n      <td>NaN</td>\n      <td>0</td>\n      <td>240.00 mg</td>\n      <td>26.1 mg</td>\n      <td>149.00 mcg</td>\n      <td>0.00 mcg</td>\n      <td>1.084 mg</td>\n      <td>...</td>\n      <td>0.22 g</td>\n      <td>0.048 g</td>\n      <td>0.000 g</td>\n      <td>0.105 g</td>\n      <td>0.00 mg</td>\n      <td>0.0 g</td>\n      <td>0.63 g</td>\n      <td>0.00 mg</td>\n      <td>0.00 mg</td>\n      <td>92.63 g</td>\n    </tr>\n    <tr>\n      <th>Beverages, Diet Cranberry Juice, OCEAN SPRAY</th>\n      <td>100 g</td>\n      <td>4</td>\n      <td>0g</td>\n      <td>NaN</td>\n      <td>0</td>\n      <td>7.00 mg</td>\n      <td>0.0 mg</td>\n      <td>4.00 mcg</td>\n      <td>4.00 mcg</td>\n      <td>0.026 mg</td>\n      <td>...</td>\n      <td>0.00 g</td>\n      <td>0.001 g</td>\n      <td>0.001 g</td>\n      <td>0.001 g</td>\n      <td>0.00 mg</td>\n      <td>0.0 g</td>\n      <td>0.07 g</td>\n      <td>0.00 mg</td>\n      <td>0.00 mg</td>\n      <td>99.20 g</td>\n    </tr>\n    <tr>\n      <th>Fish, raw, florida, pompano</th>\n      <td>100 g</td>\n      <td>164</td>\n      <td>9.5g</td>\n      <td>3.5g</td>\n      <td>50mg</td>\n      <td>65.00 mg</td>\n      <td>51.5 mg</td>\n      <td>15.00 mcg</td>\n      <td>0.00 mcg</td>\n      <td>3.000 mg</td>\n      <td>...</td>\n      <td>9.47 g</td>\n      <td>3.509 g</td>\n      <td>2.586 g</td>\n      <td>1.137 g</td>\n      <td>50.00 mg</td>\n      <td>0.0 g</td>\n      <td>1.10 g</td>\n      <td>0.00 mg</td>\n      <td>0.00 mg</td>\n      <td>71.12 g</td>\n    </tr>\n    <tr>\n      <th>Lamb, roasted, choice, trimmed to 1/8\" fat, separable lean and fat, arm, shoulder, domestic</th>\n      <td>100 g</td>\n      <td>267</td>\n      <td>19g</td>\n      <td>8g</td>\n      <td>91mg</td>\n      <td>65.00 mg</td>\n      <td>0</td>\n      <td>21.00 mcg</td>\n      <td>0.00 mcg</td>\n      <td>6.620 mg</td>\n      <td>...</td>\n      <td>18.75 g</td>\n      <td>8.040 g</td>\n      <td>7.680 g</td>\n      <td>1.500 g</td>\n      <td>91.00 mg</td>\n      <td>0</td>\n      <td>1.23 g</td>\n      <td>0</td>\n      <td>0</td>\n      <td>57.07 g</td>\n    </tr>\n    <tr>\n      <th>KRAFT VELVEETA LIGHT Reduced Fat Pasteurized Process Cheese Product</th>\n      <td>100 g</td>\n      <td>222</td>\n      <td>11g</td>\n      <td>7.1g</td>\n      <td>42mg</td>\n      <td>1586.00 mg</td>\n      <td>0</td>\n      <td>0</td>\n      <td>0</td>\n      <td>0</td>\n      <td>...</td>\n      <td>10.60 g</td>\n      <td>7.100 g</td>\n      <td>0</td>\n      <td>0</td>\n      <td>42.00 mg</td>\n      <td>0</td>\n      <td>6.60 g</td>\n      <td>0</td>\n      <td>0</td>\n      <td>51.30 g</td>\n    </tr>\n    <tr>\n      <th>Beef, roasted, cooked, all grades, trimmed to 1/8\" fat, separable lean and fat, roast, tenderloin</th>\n      <td>100 g</td>\n      <td>324</td>\n      <td>25g</td>\n      <td>9.7g</td>\n      <td>85mg</td>\n      <td>57.00 mg</td>\n      <td>91.0 mg</td>\n      <td>8.00 mcg</td>\n      <td>0.00 mcg</td>\n      <td>3.000 mg</td>\n      <td>...</td>\n      <td>24.60 g</td>\n      <td>9.720 g</td>\n      <td>10.270 g</td>\n      <td>1.000 g</td>\n      <td>85.00 mg</td>\n      <td>0.0 g</td>\n      <td>1.18 g</td>\n      <td>0.00 mg</td>\n      <td>0.00 mg</td>\n      <td>48.37 g</td>\n    </tr>\n    <tr>\n      <th>Beef, raw, 75% lean meat / 25% fat, ground</th>\n      <td>100 g</td>\n      <td>293</td>\n      <td>25g</td>\n      <td>9.6g</td>\n      <td>75mg</td>\n      <td>66.00 mg</td>\n      <td>51.6 mg</td>\n      <td>8.00 mcg</td>\n      <td>0.00 mcg</td>\n      <td>3.804 mg</td>\n      <td>...</td>\n      <td>25.00 g</td>\n      <td>9.568 g</td>\n      <td>11.383 g</td>\n      <td>0.609 g</td>\n      <td>75.00 mg</td>\n      <td>0.0 g</td>\n      <td>0.77 g</td>\n      <td>0.00 mg</td>\n      <td>0.00 mg</td>\n      <td>58.09 g</td>\n    </tr>\n    <tr>\n      <th>Nuts, with salt added, with peanuts, dry roasted, mixed nuts</th>\n      <td>100 g</td>\n      <td>594</td>\n      <td>51g</td>\n      <td>6.5g</td>\n      <td>0</td>\n      <td>345.00 mg</td>\n      <td>54.3 mg</td>\n      <td>50.00 mcg</td>\n      <td>0.00 mcg</td>\n      <td>4.700 mg</td>\n      <td>...</td>\n      <td>51.45 g</td>\n      <td>6.500 g</td>\n      <td>31.395 g</td>\n      <td>10.768 g</td>\n      <td>0.00 mg</td>\n      <td>0.0 g</td>\n      <td>4.15 g</td>\n      <td>0.00 mg</td>\n      <td>0.00 mg</td>\n      <td>1.75 g</td>\n    </tr>\n    <tr>\n      <th>Beef, pan-broiled, cooked, patty, 90% lean meat / 10% fat, ground</th>\n      <td>100 g</td>\n      <td>204</td>\n      <td>11g</td>\n      <td>4.2g</td>\n      <td>84mg</td>\n      <td>75.00 mg</td>\n      <td>81.0 mg</td>\n      <td>8.00 mcg</td>\n      <td>0.00 mcg</td>\n      <td>6.027 mg</td>\n      <td>...</td>\n      <td>10.68 g</td>\n      <td>4.189 g</td>\n      <td>4.473 g</td>\n      <td>0.381 g</td>\n      <td>84.00 mg</td>\n      <td>0.0 g</td>\n      <td>1.08 g</td>\n      <td>0.00 mg</td>\n      <td>0.00 mg</td>\n      <td>63.21 g</td>\n    </tr>\n    <tr>\n      <th>Beef, grilled, cooked, all grades, trimmed to 0\" fat, separable lean and fat, steak, bottom round, outside round, round</th>\n      <td>100 g</td>\n      <td>182</td>\n      <td>7.1g</td>\n      <td>2.5g</td>\n      <td>77mg</td>\n      <td>58.00 mg</td>\n      <td>92.9 mg</td>\n      <td>7.00 mcg</td>\n      <td>0.00 mcg</td>\n      <td>7.557 mg</td>\n      <td>...</td>\n      <td>7.10 g</td>\n      <td>2.541 g</td>\n      <td>3.174 g</td>\n      <td>0.321 g</td>\n      <td>77.00 mg</td>\n      <td>0.0 g</td>\n      <td>1.16 g</td>\n      <td>0.00 mg</td>\n      <td>0.00 mg</td>\n      <td>64.28 g</td>\n    </tr>\n  </tbody>\n</table>\n<p>10 rows × 75 columns</p>\n</div>"
     },
     "metadata": {},
     "execution_count": 74
    }
   ],
   "source": [
    "nutr_mini"
   ]
  },
  {
   "cell_type": "code",
   "execution_count": 79,
   "metadata": {},
   "outputs": [
    {
     "output_type": "execute_result",
     "data": {
      "text/plain": [
       "                                                   total_fat cholesterol\n",
       "name                                                                    \n",
       "Asparagus, with salt, drained, boiled, cooked           0.2g           0\n",
       "Beverages, Diet Cranberry Juice, OCEAN SPRAY              0g           0\n",
       "Fish, raw, florida, pompano                             9.5g        50mg\n",
       "Lamb, roasted, choice, trimmed to 1/8\" fat, sep...       19g        91mg\n",
       "KRAFT VELVEETA LIGHT Reduced Fat Pasteurized Pr...       11g        42mg\n",
       "Beef, roasted, cooked, all grades, trimmed to 1...       25g        85mg\n",
       "Beef, raw, 75% lean meat / 25% fat, ground               25g        75mg\n",
       "Nuts, with salt added, with peanuts, dry roaste...       51g           0\n",
       "Beef, pan-broiled, cooked, patty, 90% lean meat...       11g        84mg\n",
       "Beef, grilled, cooked, all grades, trimmed to 0...      7.1g        77mg"
      ],
      "text/html": "<div>\n<style scoped>\n    .dataframe tbody tr th:only-of-type {\n        vertical-align: middle;\n    }\n\n    .dataframe tbody tr th {\n        vertical-align: top;\n    }\n\n    .dataframe thead th {\n        text-align: right;\n    }\n</style>\n<table border=\"1\" class=\"dataframe\">\n  <thead>\n    <tr style=\"text-align: right;\">\n      <th></th>\n      <th>total_fat</th>\n      <th>cholesterol</th>\n    </tr>\n    <tr>\n      <th>name</th>\n      <th></th>\n      <th></th>\n    </tr>\n  </thead>\n  <tbody>\n    <tr>\n      <th>Asparagus, with salt, drained, boiled, cooked</th>\n      <td>0.2g</td>\n      <td>0</td>\n    </tr>\n    <tr>\n      <th>Beverages, Diet Cranberry Juice, OCEAN SPRAY</th>\n      <td>0g</td>\n      <td>0</td>\n    </tr>\n    <tr>\n      <th>Fish, raw, florida, pompano</th>\n      <td>9.5g</td>\n      <td>50mg</td>\n    </tr>\n    <tr>\n      <th>Lamb, roasted, choice, trimmed to 1/8\" fat, separable lean and fat, arm, shoulder, domestic</th>\n      <td>19g</td>\n      <td>91mg</td>\n    </tr>\n    <tr>\n      <th>KRAFT VELVEETA LIGHT Reduced Fat Pasteurized Process Cheese Product</th>\n      <td>11g</td>\n      <td>42mg</td>\n    </tr>\n    <tr>\n      <th>Beef, roasted, cooked, all grades, trimmed to 1/8\" fat, separable lean and fat, roast, tenderloin</th>\n      <td>25g</td>\n      <td>85mg</td>\n    </tr>\n    <tr>\n      <th>Beef, raw, 75% lean meat / 25% fat, ground</th>\n      <td>25g</td>\n      <td>75mg</td>\n    </tr>\n    <tr>\n      <th>Nuts, with salt added, with peanuts, dry roasted, mixed nuts</th>\n      <td>51g</td>\n      <td>0</td>\n    </tr>\n    <tr>\n      <th>Beef, pan-broiled, cooked, patty, 90% lean meat / 10% fat, ground</th>\n      <td>11g</td>\n      <td>84mg</td>\n    </tr>\n    <tr>\n      <th>Beef, grilled, cooked, all grades, trimmed to 0\" fat, separable lean and fat, steak, bottom round, outside round, round</th>\n      <td>7.1g</td>\n      <td>77mg</td>\n    </tr>\n  </tbody>\n</table>\n</div>"
     },
     "metadata": {},
     "execution_count": 79
    }
   ],
   "source": [
    "nutr_mini.loc[:, ['total_fat', 'cholesterol']]"
   ]
  },
  {
   "cell_type": "code",
   "execution_count": 90,
   "metadata": {},
   "outputs": [
    {
     "output_type": "execute_result",
     "data": {
      "text/plain": [
       "                                              vitamin_b12 vitamin_b6  \\\n",
       "name                                                                   \n",
       "Asparagus, with salt, drained, boiled, cooked    0.00 mcg   0.079 mg   \n",
       "Beverages, Diet Cranberry Juice, OCEAN SPRAY     0.00 mcg   0.000 mg   \n",
       "Fish, raw, florida, pompano                      1.30 mcg   0.200 mg   \n",
       "\n",
       "                                              vitamin_c  vitamin_d vitamin_e  \\\n",
       "name                                                                           \n",
       "Asparagus, with salt, drained, boiled, cooked    7.7 mg    0.00 IU   1.50 mg   \n",
       "Beverages, Diet Cranberry Juice, OCEAN SPRAY    39.1 mg    0.00 IU   0.00 mg   \n",
       "Fish, raw, florida, pompano                      0.0 mg  439.00 IU   0.18 mg   \n",
       "\n",
       "                                              tocopherol_alpha vitamin_k  \\\n",
       "name                                                                       \n",
       "Asparagus, with salt, drained, boiled, cooked          1.50 mg  50.6 mcg   \n",
       "Beverages, Diet Cranberry Juice, OCEAN SPRAY           0.00 mg   0.0 mcg   \n",
       "Fish, raw, florida, pompano                            0.18 mg   0.1 mcg   \n",
       "\n",
       "                                                calcium    copper     irom  \\\n",
       "name                                                                         \n",
       "Asparagus, with salt, drained, boiled, cooked  23.00 mg  0.165 mg  0.91 mg   \n",
       "Beverages, Diet Cranberry Juice, OCEAN SPRAY    3.00 mg  0.009 mg  0.04 mg   \n",
       "Fish, raw, florida, pompano                    22.00 mg  0.038 mg  0.60 mg   \n",
       "\n",
       "                                               ...     fat  \\\n",
       "name                                           ...           \n",
       "Asparagus, with salt, drained, boiled, cooked  ...  0.22 g   \n",
       "Beverages, Diet Cranberry Juice, OCEAN SPRAY   ...  0.00 g   \n",
       "Fish, raw, florida, pompano                    ...  9.47 g   \n",
       "\n",
       "                                              saturated_fatty_acids  \\\n",
       "name                                                                  \n",
       "Asparagus, with salt, drained, boiled, cooked               0.048 g   \n",
       "Beverages, Diet Cranberry Juice, OCEAN SPRAY                0.001 g   \n",
       "Fish, raw, florida, pompano                                 3.509 g   \n",
       "\n",
       "                                              monounsaturated_fatty_acids  \\\n",
       "name                                                                        \n",
       "Asparagus, with salt, drained, boiled, cooked                     0.000 g   \n",
       "Beverages, Diet Cranberry Juice, OCEAN SPRAY                      0.001 g   \n",
       "Fish, raw, florida, pompano                                       2.586 g   \n",
       "\n",
       "                                              polyunsaturated_fatty_acids  \\\n",
       "name                                                                        \n",
       "Asparagus, with salt, drained, boiled, cooked                     0.105 g   \n",
       "Beverages, Diet Cranberry Juice, OCEAN SPRAY                      0.001 g   \n",
       "Fish, raw, florida, pompano                                       1.137 g   \n",
       "\n",
       "                                              fatty_acids_total_trans alcohol  \\\n",
       "name                                                                            \n",
       "Asparagus, with salt, drained, boiled, cooked                 0.00 mg   0.0 g   \n",
       "Beverages, Diet Cranberry Juice, OCEAN SPRAY                  0.00 mg   0.0 g   \n",
       "Fish, raw, florida, pompano                                  50.00 mg   0.0 g   \n",
       "\n",
       "                                                  ash caffeine theobromine  \\\n",
       "name                                                                         \n",
       "Asparagus, with salt, drained, boiled, cooked  0.63 g  0.00 mg     0.00 mg   \n",
       "Beverages, Diet Cranberry Juice, OCEAN SPRAY   0.07 g  0.00 mg     0.00 mg   \n",
       "Fish, raw, florida, pompano                    1.10 g  0.00 mg     0.00 mg   \n",
       "\n",
       "                                                 water  \n",
       "name                                                    \n",
       "Asparagus, with salt, drained, boiled, cooked  92.63 g  \n",
       "Beverages, Diet Cranberry Juice, OCEAN SPRAY   99.20 g  \n",
       "Fish, raw, florida, pompano                    71.12 g  \n",
       "\n",
       "[3 rows x 55 columns]"
      ],
      "text/html": "<div>\n<style scoped>\n    .dataframe tbody tr th:only-of-type {\n        vertical-align: middle;\n    }\n\n    .dataframe tbody tr th {\n        vertical-align: top;\n    }\n\n    .dataframe thead th {\n        text-align: right;\n    }\n</style>\n<table border=\"1\" class=\"dataframe\">\n  <thead>\n    <tr style=\"text-align: right;\">\n      <th></th>\n      <th>vitamin_b12</th>\n      <th>vitamin_b6</th>\n      <th>vitamin_c</th>\n      <th>vitamin_d</th>\n      <th>vitamin_e</th>\n      <th>tocopherol_alpha</th>\n      <th>vitamin_k</th>\n      <th>calcium</th>\n      <th>copper</th>\n      <th>irom</th>\n      <th>...</th>\n      <th>fat</th>\n      <th>saturated_fatty_acids</th>\n      <th>monounsaturated_fatty_acids</th>\n      <th>polyunsaturated_fatty_acids</th>\n      <th>fatty_acids_total_trans</th>\n      <th>alcohol</th>\n      <th>ash</th>\n      <th>caffeine</th>\n      <th>theobromine</th>\n      <th>water</th>\n    </tr>\n    <tr>\n      <th>name</th>\n      <th></th>\n      <th></th>\n      <th></th>\n      <th></th>\n      <th></th>\n      <th></th>\n      <th></th>\n      <th></th>\n      <th></th>\n      <th></th>\n      <th></th>\n      <th></th>\n      <th></th>\n      <th></th>\n      <th></th>\n      <th></th>\n      <th></th>\n      <th></th>\n      <th></th>\n      <th></th>\n      <th></th>\n    </tr>\n  </thead>\n  <tbody>\n    <tr>\n      <th>Asparagus, with salt, drained, boiled, cooked</th>\n      <td>0.00 mcg</td>\n      <td>0.079 mg</td>\n      <td>7.7 mg</td>\n      <td>0.00 IU</td>\n      <td>1.50 mg</td>\n      <td>1.50 mg</td>\n      <td>50.6 mcg</td>\n      <td>23.00 mg</td>\n      <td>0.165 mg</td>\n      <td>0.91 mg</td>\n      <td>...</td>\n      <td>0.22 g</td>\n      <td>0.048 g</td>\n      <td>0.000 g</td>\n      <td>0.105 g</td>\n      <td>0.00 mg</td>\n      <td>0.0 g</td>\n      <td>0.63 g</td>\n      <td>0.00 mg</td>\n      <td>0.00 mg</td>\n      <td>92.63 g</td>\n    </tr>\n    <tr>\n      <th>Beverages, Diet Cranberry Juice, OCEAN SPRAY</th>\n      <td>0.00 mcg</td>\n      <td>0.000 mg</td>\n      <td>39.1 mg</td>\n      <td>0.00 IU</td>\n      <td>0.00 mg</td>\n      <td>0.00 mg</td>\n      <td>0.0 mcg</td>\n      <td>3.00 mg</td>\n      <td>0.009 mg</td>\n      <td>0.04 mg</td>\n      <td>...</td>\n      <td>0.00 g</td>\n      <td>0.001 g</td>\n      <td>0.001 g</td>\n      <td>0.001 g</td>\n      <td>0.00 mg</td>\n      <td>0.0 g</td>\n      <td>0.07 g</td>\n      <td>0.00 mg</td>\n      <td>0.00 mg</td>\n      <td>99.20 g</td>\n    </tr>\n    <tr>\n      <th>Fish, raw, florida, pompano</th>\n      <td>1.30 mcg</td>\n      <td>0.200 mg</td>\n      <td>0.0 mg</td>\n      <td>439.00 IU</td>\n      <td>0.18 mg</td>\n      <td>0.18 mg</td>\n      <td>0.1 mcg</td>\n      <td>22.00 mg</td>\n      <td>0.038 mg</td>\n      <td>0.60 mg</td>\n      <td>...</td>\n      <td>9.47 g</td>\n      <td>3.509 g</td>\n      <td>2.586 g</td>\n      <td>1.137 g</td>\n      <td>50.00 mg</td>\n      <td>0.0 g</td>\n      <td>1.10 g</td>\n      <td>0.00 mg</td>\n      <td>0.00 mg</td>\n      <td>71.12 g</td>\n    </tr>\n  </tbody>\n</table>\n<p>3 rows × 55 columns</p>\n</div>"
     },
     "metadata": {},
     "execution_count": 90
    }
   ],
   "source": [
    "nutr_mini.loc[nutr_mini.index[0:3], 'vitamin_b12':]"
   ]
  },
  {
   "cell_type": "code",
   "execution_count": 91,
   "metadata": {},
   "outputs": [
    {
     "output_type": "execute_result",
     "data": {
      "text/plain": [
       "Index(['Asparagus, with salt, drained, boiled, cooked',\n",
       "       'Beverages, Diet Cranberry Juice, OCEAN SPRAY',\n",
       "       'Fish, raw, florida, pompano',\n",
       "       'Lamb, roasted, choice, trimmed to 1/8\" fat, separable lean and fat, arm, shoulder, domestic',\n",
       "       'KRAFT VELVEETA LIGHT Reduced Fat Pasteurized Process Cheese Product',\n",
       "       'Beef, roasted, cooked, all grades, trimmed to 1/8\" fat, separable lean and fat, roast, tenderloin',\n",
       "       'Beef, raw, 75% lean meat / 25% fat, ground',\n",
       "       'Nuts, with salt added, with peanuts, dry roasted, mixed nuts',\n",
       "       'Beef, pan-broiled, cooked, patty, 90% lean meat / 10% fat, ground',\n",
       "       'Beef, grilled, cooked, all grades, trimmed to 0\" fat, separable lean and fat, steak, bottom round, outside round, round'],\n",
       "      dtype='object', name='name')"
      ]
     },
     "metadata": {},
     "execution_count": 91
    }
   ],
   "source": [
    "nutr_mini.index"
   ]
  },
  {
   "cell_type": "code",
   "execution_count": null,
   "metadata": {},
   "outputs": [],
   "source": []
  }
 ]
}