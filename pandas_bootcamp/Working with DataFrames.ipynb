{
 "metadata": {
  "language_info": {
   "codemirror_mode": {
    "name": "ipython",
    "version": 3
   },
   "file_extension": ".py",
   "mimetype": "text/x-python",
   "name": "python",
   "nbconvert_exporter": "python",
   "pygments_lexer": "ipython3",
   "version": "3.7.6-final"
  },
  "orig_nbformat": 2,
  "kernelspec": {
   "name": "python3",
   "display_name": "Python 3.7.6 64-bit ('base': conda)",
   "metadata": {
    "interpreter": {
     "hash": "e134e05457d34029b6460cd73bbf1ed73f339b5b6d98c95be70b69eba114fe95"
    }
   }
  }
 },
 "nbformat": 4,
 "nbformat_minor": 2,
 "cells": [
  {
   "cell_type": "code",
   "execution_count": 1,
   "metadata": {},
   "outputs": [],
   "source": [
    "import pandas as pd"
   ]
  },
  {
   "cell_type": "code",
   "execution_count": 2,
   "metadata": {},
   "outputs": [],
   "source": [
    "data = {'Country': ['Belgium', 'India', 'Brazil'], 'Capital': ['Brussels', 'New Delhi', 'Brasilia'], 'Population': [11190846, 1303171035, 207847528] }\n",
    "\n",
    "df1 = pd.DataFrame(data) # create dataframe"
   ]
  },
  {
   "cell_type": "code",
   "execution_count": 3,
   "metadata": {},
   "outputs": [
    {
     "output_type": "execute_result",
     "data": {
      "text/plain": [
       "   Country    Capital  Population\n",
       "0  Belgium   Brussels    11190846\n",
       "1    India  New Delhi  1303171035\n",
       "2   Brazil   Brasilia   207847528"
      ],
      "text/html": "<div>\n<style scoped>\n    .dataframe tbody tr th:only-of-type {\n        vertical-align: middle;\n    }\n\n    .dataframe tbody tr th {\n        vertical-align: top;\n    }\n\n    .dataframe thead th {\n        text-align: right;\n    }\n</style>\n<table border=\"1\" class=\"dataframe\">\n  <thead>\n    <tr style=\"text-align: right;\">\n      <th></th>\n      <th>Country</th>\n      <th>Capital</th>\n      <th>Population</th>\n    </tr>\n  </thead>\n  <tbody>\n    <tr>\n      <th>0</th>\n      <td>Belgium</td>\n      <td>Brussels</td>\n      <td>11190846</td>\n    </tr>\n    <tr>\n      <th>1</th>\n      <td>India</td>\n      <td>New Delhi</td>\n      <td>1303171035</td>\n    </tr>\n    <tr>\n      <th>2</th>\n      <td>Brazil</td>\n      <td>Brasilia</td>\n      <td>207847528</td>\n    </tr>\n  </tbody>\n</table>\n</div>"
     },
     "metadata": {},
     "execution_count": 3
    }
   ],
   "source": [
    "df1"
   ]
  },
  {
   "cell_type": "code",
   "execution_count": 4,
   "metadata": {},
   "outputs": [
    {
     "output_type": "stream",
     "name": "stdout",
     "text": [
      "<class 'pandas.core.frame.DataFrame'>\nRangeIndex: 3 entries, 0 to 2\nData columns (total 3 columns):\n #   Column      Non-Null Count  Dtype \n---  ------      --------------  ----- \n 0   Country     3 non-null      object\n 1   Capital     3 non-null      object\n 2   Population  3 non-null      int64 \ndtypes: int64(1), object(2)\nmemory usage: 200.0+ bytes\n"
     ]
    }
   ],
   "source": [
    "df1.info()"
   ]
  },
  {
   "cell_type": "code",
   "execution_count": 5,
   "metadata": {},
   "outputs": [],
   "source": [
    "data_url = 'https://andybek.com/pandas-nutrition'\n",
    "nutrition = pd.read_csv(data_url, index_col=[0])"
   ]
  },
  {
   "cell_type": "code",
   "execution_count": 6,
   "metadata": {},
   "outputs": [
    {
     "output_type": "stream",
     "name": "stdout",
     "text": [
      "<class 'pandas.core.frame.DataFrame'>\nInt64Index: 8789 entries, 0 to 8788\nColumns: 76 entries, name to water\ndtypes: int64(2), object(74)\nmemory usage: 40.6 MB\n"
     ]
    }
   ],
   "source": [
    "nutrition.info(verbose=False, memory_usage='deep')"
   ]
  },
  {
   "cell_type": "code",
   "execution_count": 7,
   "metadata": {},
   "outputs": [
    {
     "output_type": "execute_result",
     "data": {
      "text/plain": [
       "              name serving_size  calories total_fat saturated_fat cholesterol  \\\n",
       "0       Cornstarch        100 g       381      0.1g           NaN           0   \n",
       "1     Nuts, pecans        100 g       691       72g          6.2g           0   \n",
       "2    Eggplant, raw        100 g        25      0.2g           NaN           0   \n",
       "3   Teff, uncooked        100 g       367      2.4g          0.4g           0   \n",
       "4  Sherbet, orange        100 g       144        2g          1.2g         1mg   \n",
       "\n",
       "     sodium  choline     folate folic_acid  ...      fat  \\\n",
       "0   9.00 mg   0.4 mg   0.00 mcg   0.00 mcg  ...   0.05 g   \n",
       "1   0.00 mg  40.5 mg  22.00 mcg   0.00 mcg  ...  71.97 g   \n",
       "2   2.00 mg   6.9 mg  22.00 mcg   0.00 mcg  ...   0.18 g   \n",
       "3  12.00 mg  13.1 mg          0          0  ...   2.38 g   \n",
       "4  46.00 mg   7.7 mg   4.00 mcg   0.00 mcg  ...   2.00 g   \n",
       "\n",
       "  saturated_fatty_acids monounsaturated_fatty_acids  \\\n",
       "0               0.009 g                     0.016 g   \n",
       "1               6.180 g                    40.801 g   \n",
       "2               0.034 g                     0.016 g   \n",
       "3               0.449 g                     0.589 g   \n",
       "4               1.160 g                     0.530 g   \n",
       "\n",
       "  polyunsaturated_fatty_acids fatty_acids_total_trans alcohol     ash  \\\n",
       "0                     0.025 g                 0.00 mg   0.0 g  0.09 g   \n",
       "1                    21.614 g                 0.00 mg   0.0 g  1.49 g   \n",
       "2                     0.076 g                 0.00 mg   0.0 g  0.66 g   \n",
       "3                     1.071 g                       0       0  2.37 g   \n",
       "4                     0.080 g                 1.00 mg   0.0 g  0.40 g   \n",
       "\n",
       "  caffeine theobromine    water  \n",
       "0  0.00 mg     0.00 mg   8.32 g  \n",
       "1  0.00 mg     0.00 mg   3.52 g  \n",
       "2  0.00 mg     0.00 mg  92.30 g  \n",
       "3        0           0   8.82 g  \n",
       "4  0.00 mg     0.00 mg  66.10 g  \n",
       "\n",
       "[5 rows x 76 columns]"
      ],
      "text/html": "<div>\n<style scoped>\n    .dataframe tbody tr th:only-of-type {\n        vertical-align: middle;\n    }\n\n    .dataframe tbody tr th {\n        vertical-align: top;\n    }\n\n    .dataframe thead th {\n        text-align: right;\n    }\n</style>\n<table border=\"1\" class=\"dataframe\">\n  <thead>\n    <tr style=\"text-align: right;\">\n      <th></th>\n      <th>name</th>\n      <th>serving_size</th>\n      <th>calories</th>\n      <th>total_fat</th>\n      <th>saturated_fat</th>\n      <th>cholesterol</th>\n      <th>sodium</th>\n      <th>choline</th>\n      <th>folate</th>\n      <th>folic_acid</th>\n      <th>...</th>\n      <th>fat</th>\n      <th>saturated_fatty_acids</th>\n      <th>monounsaturated_fatty_acids</th>\n      <th>polyunsaturated_fatty_acids</th>\n      <th>fatty_acids_total_trans</th>\n      <th>alcohol</th>\n      <th>ash</th>\n      <th>caffeine</th>\n      <th>theobromine</th>\n      <th>water</th>\n    </tr>\n  </thead>\n  <tbody>\n    <tr>\n      <th>0</th>\n      <td>Cornstarch</td>\n      <td>100 g</td>\n      <td>381</td>\n      <td>0.1g</td>\n      <td>NaN</td>\n      <td>0</td>\n      <td>9.00 mg</td>\n      <td>0.4 mg</td>\n      <td>0.00 mcg</td>\n      <td>0.00 mcg</td>\n      <td>...</td>\n      <td>0.05 g</td>\n      <td>0.009 g</td>\n      <td>0.016 g</td>\n      <td>0.025 g</td>\n      <td>0.00 mg</td>\n      <td>0.0 g</td>\n      <td>0.09 g</td>\n      <td>0.00 mg</td>\n      <td>0.00 mg</td>\n      <td>8.32 g</td>\n    </tr>\n    <tr>\n      <th>1</th>\n      <td>Nuts, pecans</td>\n      <td>100 g</td>\n      <td>691</td>\n      <td>72g</td>\n      <td>6.2g</td>\n      <td>0</td>\n      <td>0.00 mg</td>\n      <td>40.5 mg</td>\n      <td>22.00 mcg</td>\n      <td>0.00 mcg</td>\n      <td>...</td>\n      <td>71.97 g</td>\n      <td>6.180 g</td>\n      <td>40.801 g</td>\n      <td>21.614 g</td>\n      <td>0.00 mg</td>\n      <td>0.0 g</td>\n      <td>1.49 g</td>\n      <td>0.00 mg</td>\n      <td>0.00 mg</td>\n      <td>3.52 g</td>\n    </tr>\n    <tr>\n      <th>2</th>\n      <td>Eggplant, raw</td>\n      <td>100 g</td>\n      <td>25</td>\n      <td>0.2g</td>\n      <td>NaN</td>\n      <td>0</td>\n      <td>2.00 mg</td>\n      <td>6.9 mg</td>\n      <td>22.00 mcg</td>\n      <td>0.00 mcg</td>\n      <td>...</td>\n      <td>0.18 g</td>\n      <td>0.034 g</td>\n      <td>0.016 g</td>\n      <td>0.076 g</td>\n      <td>0.00 mg</td>\n      <td>0.0 g</td>\n      <td>0.66 g</td>\n      <td>0.00 mg</td>\n      <td>0.00 mg</td>\n      <td>92.30 g</td>\n    </tr>\n    <tr>\n      <th>3</th>\n      <td>Teff, uncooked</td>\n      <td>100 g</td>\n      <td>367</td>\n      <td>2.4g</td>\n      <td>0.4g</td>\n      <td>0</td>\n      <td>12.00 mg</td>\n      <td>13.1 mg</td>\n      <td>0</td>\n      <td>0</td>\n      <td>...</td>\n      <td>2.38 g</td>\n      <td>0.449 g</td>\n      <td>0.589 g</td>\n      <td>1.071 g</td>\n      <td>0</td>\n      <td>0</td>\n      <td>2.37 g</td>\n      <td>0</td>\n      <td>0</td>\n      <td>8.82 g</td>\n    </tr>\n    <tr>\n      <th>4</th>\n      <td>Sherbet, orange</td>\n      <td>100 g</td>\n      <td>144</td>\n      <td>2g</td>\n      <td>1.2g</td>\n      <td>1mg</td>\n      <td>46.00 mg</td>\n      <td>7.7 mg</td>\n      <td>4.00 mcg</td>\n      <td>0.00 mcg</td>\n      <td>...</td>\n      <td>2.00 g</td>\n      <td>1.160 g</td>\n      <td>0.530 g</td>\n      <td>0.080 g</td>\n      <td>1.00 mg</td>\n      <td>0.0 g</td>\n      <td>0.40 g</td>\n      <td>0.00 mg</td>\n      <td>0.00 mg</td>\n      <td>66.10 g</td>\n    </tr>\n  </tbody>\n</table>\n<p>5 rows × 76 columns</p>\n</div>"
     },
     "metadata": {},
     "execution_count": 7
    }
   ],
   "source": [
    "nutrition.head()"
   ]
  },
  {
   "cell_type": "code",
   "execution_count": 8,
   "metadata": {},
   "outputs": [
    {
     "output_type": "execute_result",
     "data": {
      "text/plain": [
       "                                                   name serving_size  \\\n",
       "5985  Lamb, braised, cooked, heart, variety meats an...        100 g   \n",
       "632                                         Millet, raw        100 g   \n",
       "3779     McDONALD'S, Vanilla Reduced Fat Ice Cream Cone        100 g   \n",
       "\n",
       "      calories total_fat saturated_fat cholesterol    sodium choline  \\\n",
       "5985       185      7.9g          3.1g       249mg  63.00 mg       0   \n",
       "632        378      4.2g          0.7g           0   5.00 mg       0   \n",
       "3779       162      4.9g          2.4g        15mg  67.00 mg       0   \n",
       "\n",
       "         folate folic_acid  ...     fat saturated_fatty_acids  \\\n",
       "5985   2.00 mcg   0.00 mcg  ...  7.91 g               3.140 g   \n",
       "632   85.00 mcg   0.00 mcg  ...  4.22 g               0.723 g   \n",
       "3779   9.00 mcg          0  ...  4.86 g               2.410 g   \n",
       "\n",
       "     monounsaturated_fatty_acids polyunsaturated_fatty_acids  \\\n",
       "5985                     2.220 g                     0.770 g   \n",
       "632                      0.773 g                     2.134 g   \n",
       "3779                     1.206 g                     0.297 g   \n",
       "\n",
       "     fatty_acids_total_trans alcohol     ash caffeine theobromine    water  \n",
       "5985               249.00 mg       0  0.99 g        0           0  64.20 g  \n",
       "632                  0.00 mg       0  3.25 g        0           0   8.67 g  \n",
       "3779                15.00 mg       0  0.90 g        0           0  63.64 g  \n",
       "\n",
       "[3 rows x 76 columns]"
      ],
      "text/html": "<div>\n<style scoped>\n    .dataframe tbody tr th:only-of-type {\n        vertical-align: middle;\n    }\n\n    .dataframe tbody tr th {\n        vertical-align: top;\n    }\n\n    .dataframe thead th {\n        text-align: right;\n    }\n</style>\n<table border=\"1\" class=\"dataframe\">\n  <thead>\n    <tr style=\"text-align: right;\">\n      <th></th>\n      <th>name</th>\n      <th>serving_size</th>\n      <th>calories</th>\n      <th>total_fat</th>\n      <th>saturated_fat</th>\n      <th>cholesterol</th>\n      <th>sodium</th>\n      <th>choline</th>\n      <th>folate</th>\n      <th>folic_acid</th>\n      <th>...</th>\n      <th>fat</th>\n      <th>saturated_fatty_acids</th>\n      <th>monounsaturated_fatty_acids</th>\n      <th>polyunsaturated_fatty_acids</th>\n      <th>fatty_acids_total_trans</th>\n      <th>alcohol</th>\n      <th>ash</th>\n      <th>caffeine</th>\n      <th>theobromine</th>\n      <th>water</th>\n    </tr>\n  </thead>\n  <tbody>\n    <tr>\n      <th>5985</th>\n      <td>Lamb, braised, cooked, heart, variety meats an...</td>\n      <td>100 g</td>\n      <td>185</td>\n      <td>7.9g</td>\n      <td>3.1g</td>\n      <td>249mg</td>\n      <td>63.00 mg</td>\n      <td>0</td>\n      <td>2.00 mcg</td>\n      <td>0.00 mcg</td>\n      <td>...</td>\n      <td>7.91 g</td>\n      <td>3.140 g</td>\n      <td>2.220 g</td>\n      <td>0.770 g</td>\n      <td>249.00 mg</td>\n      <td>0</td>\n      <td>0.99 g</td>\n      <td>0</td>\n      <td>0</td>\n      <td>64.20 g</td>\n    </tr>\n    <tr>\n      <th>632</th>\n      <td>Millet, raw</td>\n      <td>100 g</td>\n      <td>378</td>\n      <td>4.2g</td>\n      <td>0.7g</td>\n      <td>0</td>\n      <td>5.00 mg</td>\n      <td>0</td>\n      <td>85.00 mcg</td>\n      <td>0.00 mcg</td>\n      <td>...</td>\n      <td>4.22 g</td>\n      <td>0.723 g</td>\n      <td>0.773 g</td>\n      <td>2.134 g</td>\n      <td>0.00 mg</td>\n      <td>0</td>\n      <td>3.25 g</td>\n      <td>0</td>\n      <td>0</td>\n      <td>8.67 g</td>\n    </tr>\n    <tr>\n      <th>3779</th>\n      <td>McDONALD'S, Vanilla Reduced Fat Ice Cream Cone</td>\n      <td>100 g</td>\n      <td>162</td>\n      <td>4.9g</td>\n      <td>2.4g</td>\n      <td>15mg</td>\n      <td>67.00 mg</td>\n      <td>0</td>\n      <td>9.00 mcg</td>\n      <td>0</td>\n      <td>...</td>\n      <td>4.86 g</td>\n      <td>2.410 g</td>\n      <td>1.206 g</td>\n      <td>0.297 g</td>\n      <td>15.00 mg</td>\n      <td>0</td>\n      <td>0.90 g</td>\n      <td>0</td>\n      <td>0</td>\n      <td>63.64 g</td>\n    </tr>\n  </tbody>\n</table>\n<p>3 rows × 76 columns</p>\n</div>"
     },
     "metadata": {},
     "execution_count": 8
    }
   ],
   "source": [
    "nutrition.sample(n=3)"
   ]
  },
  {
   "cell_type": "code",
   "execution_count": 9,
   "metadata": {},
   "outputs": [
    {
     "output_type": "execute_result",
     "data": {
      "text/plain": [
       "                                                   name serving_size  \\\n",
       "2359              Cookies, chocolate wafer, gluten-free        100 g   \n",
       "3942      Babyfood, junior, egg yolks and bacon, cereal        100 g   \n",
       "5875  Lamb, soaked and fried, cooked, liver, importe...        100 g   \n",
       "1547                  Turkey, raw, all classes, gizzard        100 g   \n",
       "8143  Pork, unheated, separable lean and fat, bone-i...        100 g   \n",
       "...                                                 ...          ...   \n",
       "2259             Cake, commercially prepared, angelfood        100 g   \n",
       "5025  CAMPBELL'S, condensed, 98% Fat Free Cream of C...        100 g   \n",
       "7988  Pork, roasted, heated, separable lean only, bo...        100 g   \n",
       "5543  Beans, without salt, boiled, cooked, mature se...        100 g   \n",
       "2144            Pie crust, baked, regular, refrigerated        100 g   \n",
       "\n",
       "      calories total_fat saturated_fat cholesterol      sodium   choline  \\\n",
       "2359       541       30g           15g           0   122.00 mg         0   \n",
       "3942        79        5g          1.6g        94mg    48.00 mg         0   \n",
       "5875       168      6.6g            2g       566mg    59.00 mg         0   \n",
       "1547       111      3.4g          0.9g       271mg   147.00 mg   89.7 mg   \n",
       "8143       149      9.3g          3.1g        50mg  1099.00 mg   68.1 mg   \n",
       "...        ...       ...           ...         ...         ...       ...   \n",
       "2259       258      0.8g          0.1g           0   749.00 mg         0   \n",
       "5025        56      2.4g          0.8g         4mg   387.00 mg         0   \n",
       "7988       132      4.5g          1.5g        72mg  1045.00 mg  103.3 mg   \n",
       "5543       130      0.4g          0.1g           0     3.00 mg   32.6 mg   \n",
       "2144       506       29g           11g           0   472.00 mg         0   \n",
       "\n",
       "         folate folic_acid  ...      fat saturated_fatty_acids  \\\n",
       "2359          0          0  ...  30.42 g              15.299 g   \n",
       "3942   4.00 mcg   0.00 mcg  ...   5.00 g               1.640 g   \n",
       "5875          0          0  ...   6.56 g               1.959 g   \n",
       "1547   6.00 mcg   0.00 mcg  ...   3.37 g               0.929 g   \n",
       "8143   1.00 mcg   0.00 mcg  ...   9.29 g               3.076 g   \n",
       "...         ...        ...  ...      ...                   ...   \n",
       "2259  35.00 mcg  32.00 mcg  ...   0.80 g               0.121 g   \n",
       "5025          0          0  ...   2.42 g               0.806 g   \n",
       "7988   2.00 mcg   0.00 mcg  ...   4.45 g               1.471 g   \n",
       "5543  86.00 mcg   0.00 mcg  ...   0.35 g               0.089 g   \n",
       "2144  32.00 mcg  21.00 mcg  ...  28.69 g              11.087 g   \n",
       "\n",
       "     monounsaturated_fatty_acids polyunsaturated_fatty_acids  \\\n",
       "2359                     9.462 g                     2.274 g   \n",
       "3942                     2.207 g                     0.641 g   \n",
       "5875                     1.014 g                     1.148 g   \n",
       "1547                     0.795 g                     0.708 g   \n",
       "8143                     4.212 g                     1.250 g   \n",
       "...                          ...                         ...   \n",
       "2259                     0.071 g                     0.367 g   \n",
       "5025                     0.403 g                     1.210 g   \n",
       "7988                     1.966 g                     0.713 g   \n",
       "5543                     0.030 g                     0.149 g   \n",
       "2144                    11.815 g                     3.756 g   \n",
       "\n",
       "     fatty_acids_total_trans alcohol     ash caffeine theobromine    water  \n",
       "2359                       0       0  1.33 g        0           0   1.37 g  \n",
       "3942                94.00 mg   0.0 g  0.40 g        0           0  85.90 g  \n",
       "5875               566.00 mg   0.0 g  1.56 g  0.00 mg     0.00 mg  64.60 g  \n",
       "1547               271.00 mg   0.0 g  0.93 g  0.00 mg     0.00 mg  77.47 g  \n",
       "8143                50.00 mg   0.0 g  3.23 g  0.00 mg     0.00 mg  71.07 g  \n",
       "...                      ...     ...     ...      ...         ...      ...  \n",
       "2259                 0.00 mg       0  2.30 g        0           0  33.20 g  \n",
       "5025                 4.00 mg       0  3.62 g        0           0  85.90 g  \n",
       "7988                72.00 mg   0.0 g  3.44 g  0.00 mg     0.00 mg  69.23 g  \n",
       "5543                 0.00 mg   0.0 g  1.38 g  0.00 mg     0.00 mg  65.74 g  \n",
       "2144                       0       0  1.42 g        0           0   7.96 g  \n",
       "\n",
       "[88 rows x 76 columns]"
      ],
      "text/html": "<div>\n<style scoped>\n    .dataframe tbody tr th:only-of-type {\n        vertical-align: middle;\n    }\n\n    .dataframe tbody tr th {\n        vertical-align: top;\n    }\n\n    .dataframe thead th {\n        text-align: right;\n    }\n</style>\n<table border=\"1\" class=\"dataframe\">\n  <thead>\n    <tr style=\"text-align: right;\">\n      <th></th>\n      <th>name</th>\n      <th>serving_size</th>\n      <th>calories</th>\n      <th>total_fat</th>\n      <th>saturated_fat</th>\n      <th>cholesterol</th>\n      <th>sodium</th>\n      <th>choline</th>\n      <th>folate</th>\n      <th>folic_acid</th>\n      <th>...</th>\n      <th>fat</th>\n      <th>saturated_fatty_acids</th>\n      <th>monounsaturated_fatty_acids</th>\n      <th>polyunsaturated_fatty_acids</th>\n      <th>fatty_acids_total_trans</th>\n      <th>alcohol</th>\n      <th>ash</th>\n      <th>caffeine</th>\n      <th>theobromine</th>\n      <th>water</th>\n    </tr>\n  </thead>\n  <tbody>\n    <tr>\n      <th>2359</th>\n      <td>Cookies, chocolate wafer, gluten-free</td>\n      <td>100 g</td>\n      <td>541</td>\n      <td>30g</td>\n      <td>15g</td>\n      <td>0</td>\n      <td>122.00 mg</td>\n      <td>0</td>\n      <td>0</td>\n      <td>0</td>\n      <td>...</td>\n      <td>30.42 g</td>\n      <td>15.299 g</td>\n      <td>9.462 g</td>\n      <td>2.274 g</td>\n      <td>0</td>\n      <td>0</td>\n      <td>1.33 g</td>\n      <td>0</td>\n      <td>0</td>\n      <td>1.37 g</td>\n    </tr>\n    <tr>\n      <th>3942</th>\n      <td>Babyfood, junior, egg yolks and bacon, cereal</td>\n      <td>100 g</td>\n      <td>79</td>\n      <td>5g</td>\n      <td>1.6g</td>\n      <td>94mg</td>\n      <td>48.00 mg</td>\n      <td>0</td>\n      <td>4.00 mcg</td>\n      <td>0.00 mcg</td>\n      <td>...</td>\n      <td>5.00 g</td>\n      <td>1.640 g</td>\n      <td>2.207 g</td>\n      <td>0.641 g</td>\n      <td>94.00 mg</td>\n      <td>0.0 g</td>\n      <td>0.40 g</td>\n      <td>0</td>\n      <td>0</td>\n      <td>85.90 g</td>\n    </tr>\n    <tr>\n      <th>5875</th>\n      <td>Lamb, soaked and fried, cooked, liver, importe...</td>\n      <td>100 g</td>\n      <td>168</td>\n      <td>6.6g</td>\n      <td>2g</td>\n      <td>566mg</td>\n      <td>59.00 mg</td>\n      <td>0</td>\n      <td>0</td>\n      <td>0</td>\n      <td>...</td>\n      <td>6.56 g</td>\n      <td>1.959 g</td>\n      <td>1.014 g</td>\n      <td>1.148 g</td>\n      <td>566.00 mg</td>\n      <td>0.0 g</td>\n      <td>1.56 g</td>\n      <td>0.00 mg</td>\n      <td>0.00 mg</td>\n      <td>64.60 g</td>\n    </tr>\n    <tr>\n      <th>1547</th>\n      <td>Turkey, raw, all classes, gizzard</td>\n      <td>100 g</td>\n      <td>111</td>\n      <td>3.4g</td>\n      <td>0.9g</td>\n      <td>271mg</td>\n      <td>147.00 mg</td>\n      <td>89.7 mg</td>\n      <td>6.00 mcg</td>\n      <td>0.00 mcg</td>\n      <td>...</td>\n      <td>3.37 g</td>\n      <td>0.929 g</td>\n      <td>0.795 g</td>\n      <td>0.708 g</td>\n      <td>271.00 mg</td>\n      <td>0.0 g</td>\n      <td>0.93 g</td>\n      <td>0.00 mg</td>\n      <td>0.00 mg</td>\n      <td>77.47 g</td>\n    </tr>\n    <tr>\n      <th>8143</th>\n      <td>Pork, unheated, separable lean and fat, bone-i...</td>\n      <td>100 g</td>\n      <td>149</td>\n      <td>9.3g</td>\n      <td>3.1g</td>\n      <td>50mg</td>\n      <td>1099.00 mg</td>\n      <td>68.1 mg</td>\n      <td>1.00 mcg</td>\n      <td>0.00 mcg</td>\n      <td>...</td>\n      <td>9.29 g</td>\n      <td>3.076 g</td>\n      <td>4.212 g</td>\n      <td>1.250 g</td>\n      <td>50.00 mg</td>\n      <td>0.0 g</td>\n      <td>3.23 g</td>\n      <td>0.00 mg</td>\n      <td>0.00 mg</td>\n      <td>71.07 g</td>\n    </tr>\n    <tr>\n      <th>...</th>\n      <td>...</td>\n      <td>...</td>\n      <td>...</td>\n      <td>...</td>\n      <td>...</td>\n      <td>...</td>\n      <td>...</td>\n      <td>...</td>\n      <td>...</td>\n      <td>...</td>\n      <td>...</td>\n      <td>...</td>\n      <td>...</td>\n      <td>...</td>\n      <td>...</td>\n      <td>...</td>\n      <td>...</td>\n      <td>...</td>\n      <td>...</td>\n      <td>...</td>\n      <td>...</td>\n    </tr>\n    <tr>\n      <th>2259</th>\n      <td>Cake, commercially prepared, angelfood</td>\n      <td>100 g</td>\n      <td>258</td>\n      <td>0.8g</td>\n      <td>0.1g</td>\n      <td>0</td>\n      <td>749.00 mg</td>\n      <td>0</td>\n      <td>35.00 mcg</td>\n      <td>32.00 mcg</td>\n      <td>...</td>\n      <td>0.80 g</td>\n      <td>0.121 g</td>\n      <td>0.071 g</td>\n      <td>0.367 g</td>\n      <td>0.00 mg</td>\n      <td>0</td>\n      <td>2.30 g</td>\n      <td>0</td>\n      <td>0</td>\n      <td>33.20 g</td>\n    </tr>\n    <tr>\n      <th>5025</th>\n      <td>CAMPBELL'S, condensed, 98% Fat Free Cream of C...</td>\n      <td>100 g</td>\n      <td>56</td>\n      <td>2.4g</td>\n      <td>0.8g</td>\n      <td>4mg</td>\n      <td>387.00 mg</td>\n      <td>0</td>\n      <td>0</td>\n      <td>0</td>\n      <td>...</td>\n      <td>2.42 g</td>\n      <td>0.806 g</td>\n      <td>0.403 g</td>\n      <td>1.210 g</td>\n      <td>4.00 mg</td>\n      <td>0</td>\n      <td>3.62 g</td>\n      <td>0</td>\n      <td>0</td>\n      <td>85.90 g</td>\n    </tr>\n    <tr>\n      <th>7988</th>\n      <td>Pork, roasted, heated, separable lean only, bo...</td>\n      <td>100 g</td>\n      <td>132</td>\n      <td>4.5g</td>\n      <td>1.5g</td>\n      <td>72mg</td>\n      <td>1045.00 mg</td>\n      <td>103.3 mg</td>\n      <td>2.00 mcg</td>\n      <td>0.00 mcg</td>\n      <td>...</td>\n      <td>4.45 g</td>\n      <td>1.471 g</td>\n      <td>1.966 g</td>\n      <td>0.713 g</td>\n      <td>72.00 mg</td>\n      <td>0.0 g</td>\n      <td>3.44 g</td>\n      <td>0.00 mg</td>\n      <td>0.00 mg</td>\n      <td>69.23 g</td>\n    </tr>\n    <tr>\n      <th>5543</th>\n      <td>Beans, without salt, boiled, cooked, mature se...</td>\n      <td>100 g</td>\n      <td>130</td>\n      <td>0.4g</td>\n      <td>0.1g</td>\n      <td>0</td>\n      <td>3.00 mg</td>\n      <td>32.6 mg</td>\n      <td>86.00 mcg</td>\n      <td>0.00 mcg</td>\n      <td>...</td>\n      <td>0.35 g</td>\n      <td>0.089 g</td>\n      <td>0.030 g</td>\n      <td>0.149 g</td>\n      <td>0.00 mg</td>\n      <td>0.0 g</td>\n      <td>1.38 g</td>\n      <td>0.00 mg</td>\n      <td>0.00 mg</td>\n      <td>65.74 g</td>\n    </tr>\n    <tr>\n      <th>2144</th>\n      <td>Pie crust, baked, regular, refrigerated</td>\n      <td>100 g</td>\n      <td>506</td>\n      <td>29g</td>\n      <td>11g</td>\n      <td>0</td>\n      <td>472.00 mg</td>\n      <td>0</td>\n      <td>32.00 mcg</td>\n      <td>21.00 mcg</td>\n      <td>...</td>\n      <td>28.69 g</td>\n      <td>11.087 g</td>\n      <td>11.815 g</td>\n      <td>3.756 g</td>\n      <td>0</td>\n      <td>0</td>\n      <td>1.42 g</td>\n      <td>0</td>\n      <td>0</td>\n      <td>7.96 g</td>\n    </tr>\n  </tbody>\n</table>\n<p>88 rows × 76 columns</p>\n</div>"
     },
     "metadata": {},
     "execution_count": 9
    }
   ],
   "source": [
    "nutrition.sample(frac=0.01)"
   ]
  },
  {
   "cell_type": "code",
   "execution_count": 10,
   "metadata": {},
   "outputs": [
    {
     "output_type": "execute_result",
     "data": {
      "text/plain": [
       "87.89"
      ]
     },
     "metadata": {},
     "execution_count": 10
    }
   ],
   "source": [
    "nutrition.shape[0] * 0.01"
   ]
  },
  {
   "cell_type": "code",
   "execution_count": 11,
   "metadata": {},
   "outputs": [
    {
     "output_type": "execute_result",
     "data": {
      "text/plain": [
       "              name serving_size  calories total_fat saturated_fat cholesterol  \\\n",
       "0       Cornstarch        100 g       381      0.1g           NaN           0   \n",
       "1     Nuts, pecans        100 g       691       72g          6.2g           0   \n",
       "2    Eggplant, raw        100 g        25      0.2g           NaN           0   \n",
       "3   Teff, uncooked        100 g       367      2.4g          0.4g           0   \n",
       "4  Sherbet, orange        100 g       144        2g          1.2g         1mg   \n",
       "\n",
       "     sodium  choline     folate folic_acid  ...      fat  \\\n",
       "0   9.00 mg   0.4 mg   0.00 mcg   0.00 mcg  ...   0.05 g   \n",
       "1   0.00 mg  40.5 mg  22.00 mcg   0.00 mcg  ...  71.97 g   \n",
       "2   2.00 mg   6.9 mg  22.00 mcg   0.00 mcg  ...   0.18 g   \n",
       "3  12.00 mg  13.1 mg          0          0  ...   2.38 g   \n",
       "4  46.00 mg   7.7 mg   4.00 mcg   0.00 mcg  ...   2.00 g   \n",
       "\n",
       "  saturated_fatty_acids monounsaturated_fatty_acids  \\\n",
       "0               0.009 g                     0.016 g   \n",
       "1               6.180 g                    40.801 g   \n",
       "2               0.034 g                     0.016 g   \n",
       "3               0.449 g                     0.589 g   \n",
       "4               1.160 g                     0.530 g   \n",
       "\n",
       "  polyunsaturated_fatty_acids fatty_acids_total_trans alcohol     ash  \\\n",
       "0                     0.025 g                 0.00 mg   0.0 g  0.09 g   \n",
       "1                    21.614 g                 0.00 mg   0.0 g  1.49 g   \n",
       "2                     0.076 g                 0.00 mg   0.0 g  0.66 g   \n",
       "3                     1.071 g                       0       0  2.37 g   \n",
       "4                     0.080 g                 1.00 mg   0.0 g  0.40 g   \n",
       "\n",
       "  caffeine theobromine    water  \n",
       "0  0.00 mg     0.00 mg   8.32 g  \n",
       "1  0.00 mg     0.00 mg   3.52 g  \n",
       "2  0.00 mg     0.00 mg  92.30 g  \n",
       "3        0           0   8.82 g  \n",
       "4  0.00 mg     0.00 mg  66.10 g  \n",
       "\n",
       "[5 rows x 76 columns]"
      ],
      "text/html": "<div>\n<style scoped>\n    .dataframe tbody tr th:only-of-type {\n        vertical-align: middle;\n    }\n\n    .dataframe tbody tr th {\n        vertical-align: top;\n    }\n\n    .dataframe thead th {\n        text-align: right;\n    }\n</style>\n<table border=\"1\" class=\"dataframe\">\n  <thead>\n    <tr style=\"text-align: right;\">\n      <th></th>\n      <th>name</th>\n      <th>serving_size</th>\n      <th>calories</th>\n      <th>total_fat</th>\n      <th>saturated_fat</th>\n      <th>cholesterol</th>\n      <th>sodium</th>\n      <th>choline</th>\n      <th>folate</th>\n      <th>folic_acid</th>\n      <th>...</th>\n      <th>fat</th>\n      <th>saturated_fatty_acids</th>\n      <th>monounsaturated_fatty_acids</th>\n      <th>polyunsaturated_fatty_acids</th>\n      <th>fatty_acids_total_trans</th>\n      <th>alcohol</th>\n      <th>ash</th>\n      <th>caffeine</th>\n      <th>theobromine</th>\n      <th>water</th>\n    </tr>\n  </thead>\n  <tbody>\n    <tr>\n      <th>0</th>\n      <td>Cornstarch</td>\n      <td>100 g</td>\n      <td>381</td>\n      <td>0.1g</td>\n      <td>NaN</td>\n      <td>0</td>\n      <td>9.00 mg</td>\n      <td>0.4 mg</td>\n      <td>0.00 mcg</td>\n      <td>0.00 mcg</td>\n      <td>...</td>\n      <td>0.05 g</td>\n      <td>0.009 g</td>\n      <td>0.016 g</td>\n      <td>0.025 g</td>\n      <td>0.00 mg</td>\n      <td>0.0 g</td>\n      <td>0.09 g</td>\n      <td>0.00 mg</td>\n      <td>0.00 mg</td>\n      <td>8.32 g</td>\n    </tr>\n    <tr>\n      <th>1</th>\n      <td>Nuts, pecans</td>\n      <td>100 g</td>\n      <td>691</td>\n      <td>72g</td>\n      <td>6.2g</td>\n      <td>0</td>\n      <td>0.00 mg</td>\n      <td>40.5 mg</td>\n      <td>22.00 mcg</td>\n      <td>0.00 mcg</td>\n      <td>...</td>\n      <td>71.97 g</td>\n      <td>6.180 g</td>\n      <td>40.801 g</td>\n      <td>21.614 g</td>\n      <td>0.00 mg</td>\n      <td>0.0 g</td>\n      <td>1.49 g</td>\n      <td>0.00 mg</td>\n      <td>0.00 mg</td>\n      <td>3.52 g</td>\n    </tr>\n    <tr>\n      <th>2</th>\n      <td>Eggplant, raw</td>\n      <td>100 g</td>\n      <td>25</td>\n      <td>0.2g</td>\n      <td>NaN</td>\n      <td>0</td>\n      <td>2.00 mg</td>\n      <td>6.9 mg</td>\n      <td>22.00 mcg</td>\n      <td>0.00 mcg</td>\n      <td>...</td>\n      <td>0.18 g</td>\n      <td>0.034 g</td>\n      <td>0.016 g</td>\n      <td>0.076 g</td>\n      <td>0.00 mg</td>\n      <td>0.0 g</td>\n      <td>0.66 g</td>\n      <td>0.00 mg</td>\n      <td>0.00 mg</td>\n      <td>92.30 g</td>\n    </tr>\n    <tr>\n      <th>3</th>\n      <td>Teff, uncooked</td>\n      <td>100 g</td>\n      <td>367</td>\n      <td>2.4g</td>\n      <td>0.4g</td>\n      <td>0</td>\n      <td>12.00 mg</td>\n      <td>13.1 mg</td>\n      <td>0</td>\n      <td>0</td>\n      <td>...</td>\n      <td>2.38 g</td>\n      <td>0.449 g</td>\n      <td>0.589 g</td>\n      <td>1.071 g</td>\n      <td>0</td>\n      <td>0</td>\n      <td>2.37 g</td>\n      <td>0</td>\n      <td>0</td>\n      <td>8.82 g</td>\n    </tr>\n    <tr>\n      <th>4</th>\n      <td>Sherbet, orange</td>\n      <td>100 g</td>\n      <td>144</td>\n      <td>2g</td>\n      <td>1.2g</td>\n      <td>1mg</td>\n      <td>46.00 mg</td>\n      <td>7.7 mg</td>\n      <td>4.00 mcg</td>\n      <td>0.00 mcg</td>\n      <td>...</td>\n      <td>2.00 g</td>\n      <td>1.160 g</td>\n      <td>0.530 g</td>\n      <td>0.080 g</td>\n      <td>1.00 mg</td>\n      <td>0.0 g</td>\n      <td>0.40 g</td>\n      <td>0.00 mg</td>\n      <td>0.00 mg</td>\n      <td>66.10 g</td>\n    </tr>\n  </tbody>\n</table>\n<p>5 rows × 76 columns</p>\n</div>"
     },
     "metadata": {},
     "execution_count": 11
    }
   ],
   "source": [
    "nutrition.head()"
   ]
  },
  {
   "cell_type": "code",
   "execution_count": 12,
   "metadata": {},
   "outputs": [
    {
     "output_type": "execute_result",
     "data": {
      "text/plain": [
       "[Int64Index([   0,    1,    2,    3,    4,    5,    6,    7,    8,    9,\n",
       "             ...\n",
       "             8779, 8780, 8781, 8782, 8783, 8784, 8785, 8786, 8787, 8788],\n",
       "            dtype='int64', length=8789),\n",
       " Index(['name', 'serving_size', 'calories', 'total_fat', 'saturated_fat',\n",
       "        'cholesterol', 'sodium', 'choline', 'folate', 'folic_acid', 'niacin',\n",
       "        'pantothenic_acid', 'riboflavin', 'thiamin', 'vitamin_a',\n",
       "        'vitamin_a_rae', 'carotene_alpha', 'carotene_beta',\n",
       "        'cryptoxanthin_beta', 'lutein_zeaxanthin', 'lucopene', 'vitamin_b12',\n",
       "        'vitamin_b6', 'vitamin_c', 'vitamin_d', 'vitamin_e', 'tocopherol_alpha',\n",
       "        'vitamin_k', 'calcium', 'copper', 'irom', 'magnesium', 'manganese',\n",
       "        'phosphorous', 'potassium', 'selenium', 'zink', 'protein', 'alanine',\n",
       "        'arginine', 'aspartic_acid', 'cystine', 'glutamic_acid', 'glycine',\n",
       "        'histidine', 'hydroxyproline', 'isoleucine', 'leucine', 'lysine',\n",
       "        'methionine', 'phenylalanine', 'proline', 'serine', 'threonine',\n",
       "        'tryptophan', 'tyrosine', 'valine', 'carbohydrate', 'fiber', 'sugars',\n",
       "        'fructose', 'galactose', 'glucose', 'lactose', 'maltose', 'sucrose',\n",
       "        'fat', 'saturated_fatty_acids', 'monounsaturated_fatty_acids',\n",
       "        'polyunsaturated_fatty_acids', 'fatty_acids_total_trans', 'alcohol',\n",
       "        'ash', 'caffeine', 'theobromine', 'water'],\n",
       "       dtype='object')]"
      ]
     },
     "metadata": {},
     "execution_count": 12
    }
   ],
   "source": [
    "nutrition.axes"
   ]
  },
  {
   "cell_type": "code",
   "execution_count": 13,
   "metadata": {},
   "outputs": [],
   "source": [
    "nutrition.set_index('name', inplace=True)"
   ]
  },
  {
   "cell_type": "code",
   "execution_count": 14,
   "metadata": {},
   "outputs": [
    {
     "output_type": "execute_result",
     "data": {
      "text/plain": [
       "                                                              serving_size  \\\n",
       "name                                               folic_acid                \n",
       "Cornstarch                                         0.00 mcg          100 g   \n",
       "Nuts, pecans                                       0.00 mcg          100 g   \n",
       "Eggplant, raw                                      0.00 mcg          100 g   \n",
       "Teff, uncooked                                     0                 100 g   \n",
       "Sherbet, orange                                    0.00 mcg          100 g   \n",
       "...                                                                    ...   \n",
       "Beef, raw, all grades, trimmed to 0\" fat, separ... 0.00 mcg          100 g   \n",
       "Lamb, cooked, separable lean only, composite of... 0.00 mcg          100 g   \n",
       "Lamb, raw, separable lean and fat, composite of... 0.00 mcg          100 g   \n",
       "Beef, raw, all grades, trimmed to 0\" fat, separ... 0.00 mcg          100 g   \n",
       "Beef, raw, all grades, trimmed to 0\" fat, separ... 0.00 mcg          100 g   \n",
       "\n",
       "                                                               calories  \\\n",
       "name                                               folic_acid             \n",
       "Cornstarch                                         0.00 mcg         381   \n",
       "Nuts, pecans                                       0.00 mcg         691   \n",
       "Eggplant, raw                                      0.00 mcg          25   \n",
       "Teff, uncooked                                     0                367   \n",
       "Sherbet, orange                                    0.00 mcg         144   \n",
       "...                                                                 ...   \n",
       "Beef, raw, all grades, trimmed to 0\" fat, separ... 0.00 mcg         125   \n",
       "Lamb, cooked, separable lean only, composite of... 0.00 mcg         206   \n",
       "Lamb, raw, separable lean and fat, composite of... 0.00 mcg         277   \n",
       "Beef, raw, all grades, trimmed to 0\" fat, separ... 0.00 mcg         121   \n",
       "Beef, raw, all grades, trimmed to 0\" fat, separ... 0.00 mcg         121   \n",
       "\n",
       "                                                              total_fat  \\\n",
       "name                                               folic_acid             \n",
       "Cornstarch                                         0.00 mcg        0.1g   \n",
       "Nuts, pecans                                       0.00 mcg         72g   \n",
       "Eggplant, raw                                      0.00 mcg        0.2g   \n",
       "Teff, uncooked                                     0               2.4g   \n",
       "Sherbet, orange                                    0.00 mcg          2g   \n",
       "...                                                                 ...   \n",
       "Beef, raw, all grades, trimmed to 0\" fat, separ... 0.00 mcg        3.5g   \n",
       "Lamb, cooked, separable lean only, composite of... 0.00 mcg        8.9g   \n",
       "Lamb, raw, separable lean and fat, composite of... 0.00 mcg         23g   \n",
       "Beef, raw, all grades, trimmed to 0\" fat, separ... 0.00 mcg          3g   \n",
       "Beef, raw, all grades, trimmed to 0\" fat, separ... 0.00 mcg          3g   \n",
       "\n",
       "                                                              saturated_fat  \\\n",
       "name                                               folic_acid                 \n",
       "Cornstarch                                         0.00 mcg             NaN   \n",
       "Nuts, pecans                                       0.00 mcg            6.2g   \n",
       "Eggplant, raw                                      0.00 mcg             NaN   \n",
       "Teff, uncooked                                     0                   0.4g   \n",
       "Sherbet, orange                                    0.00 mcg            1.2g   \n",
       "...                                                                     ...   \n",
       "Beef, raw, all grades, trimmed to 0\" fat, separ... 0.00 mcg            1.4g   \n",
       "Lamb, cooked, separable lean only, composite of... 0.00 mcg            3.9g   \n",
       "Lamb, raw, separable lean and fat, composite of... 0.00 mcg             12g   \n",
       "Beef, raw, all grades, trimmed to 0\" fat, separ... 0.00 mcg            1.1g   \n",
       "Beef, raw, all grades, trimmed to 0\" fat, separ... 0.00 mcg            1.1g   \n",
       "\n",
       "                                                              cholesterol  \\\n",
       "name                                               folic_acid               \n",
       "Cornstarch                                         0.00 mcg             0   \n",
       "Nuts, pecans                                       0.00 mcg             0   \n",
       "Eggplant, raw                                      0.00 mcg             0   \n",
       "Teff, uncooked                                     0                    0   \n",
       "Sherbet, orange                                    0.00 mcg           1mg   \n",
       "...                                                                   ...   \n",
       "Beef, raw, all grades, trimmed to 0\" fat, separ... 0.00 mcg          62mg   \n",
       "Lamb, cooked, separable lean only, composite of... 0.00 mcg         109mg   \n",
       "Lamb, raw, separable lean and fat, composite of... 0.00 mcg          78mg   \n",
       "Beef, raw, all grades, trimmed to 0\" fat, separ... 0.00 mcg          60mg   \n",
       "Beef, raw, all grades, trimmed to 0\" fat, separ... 0.00 mcg          60mg   \n",
       "\n",
       "                                                                 sodium  \\\n",
       "name                                               folic_acid             \n",
       "Cornstarch                                         0.00 mcg     9.00 mg   \n",
       "Nuts, pecans                                       0.00 mcg     0.00 mg   \n",
       "Eggplant, raw                                      0.00 mcg     2.00 mg   \n",
       "Teff, uncooked                                     0           12.00 mg   \n",
       "Sherbet, orange                                    0.00 mcg    46.00 mg   \n",
       "...                                                                 ...   \n",
       "Beef, raw, all grades, trimmed to 0\" fat, separ... 0.00 mcg    54.00 mg   \n",
       "Lamb, cooked, separable lean only, composite of... 0.00 mcg    50.00 mg   \n",
       "Lamb, raw, separable lean and fat, composite of... 0.00 mcg    39.00 mg   \n",
       "Beef, raw, all grades, trimmed to 0\" fat, separ... 0.00 mcg    53.00 mg   \n",
       "Beef, raw, all grades, trimmed to 0\" fat, separ... 0.00 mcg    53.00 mg   \n",
       "\n",
       "                                                               choline  \\\n",
       "name                                               folic_acid            \n",
       "Cornstarch                                         0.00 mcg     0.4 mg   \n",
       "Nuts, pecans                                       0.00 mcg    40.5 mg   \n",
       "Eggplant, raw                                      0.00 mcg     6.9 mg   \n",
       "Teff, uncooked                                     0           13.1 mg   \n",
       "Sherbet, orange                                    0.00 mcg     7.7 mg   \n",
       "...                                                                ...   \n",
       "Beef, raw, all grades, trimmed to 0\" fat, separ... 0.00 mcg    64.5 mg   \n",
       "Lamb, cooked, separable lean only, composite of... 0.00 mcg          0   \n",
       "Lamb, raw, separable lean and fat, composite of... 0.00 mcg          0   \n",
       "Beef, raw, all grades, trimmed to 0\" fat, separ... 0.00 mcg    64.2 mg   \n",
       "Beef, raw, all grades, trimmed to 0\" fat, separ... 0.00 mcg    64.2 mg   \n",
       "\n",
       "                                                                  folate  \\\n",
       "name                                               folic_acid              \n",
       "Cornstarch                                         0.00 mcg     0.00 mcg   \n",
       "Nuts, pecans                                       0.00 mcg    22.00 mcg   \n",
       "Eggplant, raw                                      0.00 mcg    22.00 mcg   \n",
       "Teff, uncooked                                     0                   0   \n",
       "Sherbet, orange                                    0.00 mcg     4.00 mcg   \n",
       "...                                                                  ...   \n",
       "Beef, raw, all grades, trimmed to 0\" fat, separ... 0.00 mcg     4.00 mcg   \n",
       "Lamb, cooked, separable lean only, composite of... 0.00 mcg     0.00 mcg   \n",
       "Lamb, raw, separable lean and fat, composite of... 0.00 mcg     1.00 mcg   \n",
       "Beef, raw, all grades, trimmed to 0\" fat, separ... 0.00 mcg     4.00 mcg   \n",
       "Beef, raw, all grades, trimmed to 0\" fat, separ... 0.00 mcg     4.00 mcg   \n",
       "\n",
       "                                                              folic_acid  \\\n",
       "name                                               folic_acid              \n",
       "Cornstarch                                         0.00 mcg     0.00 mcg   \n",
       "Nuts, pecans                                       0.00 mcg     0.00 mcg   \n",
       "Eggplant, raw                                      0.00 mcg     0.00 mcg   \n",
       "Teff, uncooked                                     0                   0   \n",
       "Sherbet, orange                                    0.00 mcg     0.00 mcg   \n",
       "...                                                                  ...   \n",
       "Beef, raw, all grades, trimmed to 0\" fat, separ... 0.00 mcg     0.00 mcg   \n",
       "Lamb, cooked, separable lean only, composite of... 0.00 mcg     0.00 mcg   \n",
       "Lamb, raw, separable lean and fat, composite of... 0.00 mcg     0.00 mcg   \n",
       "Beef, raw, all grades, trimmed to 0\" fat, separ... 0.00 mcg     0.00 mcg   \n",
       "Beef, raw, all grades, trimmed to 0\" fat, separ... 0.00 mcg     0.00 mcg   \n",
       "\n",
       "                                                                 niacin  ...  \\\n",
       "name                                               folic_acid            ...   \n",
       "Cornstarch                                         0.00 mcg    0.000 mg  ...   \n",
       "Nuts, pecans                                       0.00 mcg    1.167 mg  ...   \n",
       "Eggplant, raw                                      0.00 mcg    0.649 mg  ...   \n",
       "Teff, uncooked                                     0           3.363 mg  ...   \n",
       "Sherbet, orange                                    0.00 mcg    0.063 mg  ...   \n",
       "...                                                                 ...  ...   \n",
       "Beef, raw, all grades, trimmed to 0\" fat, separ... 0.00 mcg    6.422 mg  ...   \n",
       "Lamb, cooked, separable lean only, composite of... 0.00 mcg    7.680 mg  ...   \n",
       "Lamb, raw, separable lean and fat, composite of... 0.00 mcg    6.550 mg  ...   \n",
       "Beef, raw, all grades, trimmed to 0\" fat, separ... 0.00 mcg    6.720 mg  ...   \n",
       "Beef, raw, all grades, trimmed to 0\" fat, separ... 0.00 mcg    6.720 mg  ...   \n",
       "\n",
       "                                                                   fat  \\\n",
       "name                                               folic_acid            \n",
       "Cornstarch                                         0.00 mcg     0.05 g   \n",
       "Nuts, pecans                                       0.00 mcg    71.97 g   \n",
       "Eggplant, raw                                      0.00 mcg     0.18 g   \n",
       "Teff, uncooked                                     0            2.38 g   \n",
       "Sherbet, orange                                    0.00 mcg     2.00 g   \n",
       "...                                                                ...   \n",
       "Beef, raw, all grades, trimmed to 0\" fat, separ... 0.00 mcg     3.50 g   \n",
       "Lamb, cooked, separable lean only, composite of... 0.00 mcg     8.86 g   \n",
       "Lamb, raw, separable lean and fat, composite of... 0.00 mcg    22.74 g   \n",
       "Beef, raw, all grades, trimmed to 0\" fat, separ... 0.00 mcg     3.04 g   \n",
       "Beef, raw, all grades, trimmed to 0\" fat, separ... 0.00 mcg     3.04 g   \n",
       "\n",
       "                                                              saturated_fatty_acids  \\\n",
       "name                                               folic_acid                         \n",
       "Cornstarch                                         0.00 mcg                 0.009 g   \n",
       "Nuts, pecans                                       0.00 mcg                 6.180 g   \n",
       "Eggplant, raw                                      0.00 mcg                 0.034 g   \n",
       "Teff, uncooked                                     0                        0.449 g   \n",
       "Sherbet, orange                                    0.00 mcg                 1.160 g   \n",
       "...                                                                             ...   \n",
       "Beef, raw, all grades, trimmed to 0\" fat, separ... 0.00 mcg                 1.353 g   \n",
       "Lamb, cooked, separable lean only, composite of... 0.00 mcg                 3.860 g   \n",
       "Lamb, raw, separable lean and fat, composite of... 0.00 mcg                11.570 g   \n",
       "Beef, raw, all grades, trimmed to 0\" fat, separ... 0.00 mcg                 1.086 g   \n",
       "Beef, raw, all grades, trimmed to 0\" fat, separ... 0.00 mcg                 1.086 g   \n",
       "\n",
       "                                                              monounsaturated_fatty_acids  \\\n",
       "name                                               folic_acid                               \n",
       "Cornstarch                                         0.00 mcg                       0.016 g   \n",
       "Nuts, pecans                                       0.00 mcg                      40.801 g   \n",
       "Eggplant, raw                                      0.00 mcg                       0.016 g   \n",
       "Teff, uncooked                                     0                              0.589 g   \n",
       "Sherbet, orange                                    0.00 mcg                       0.530 g   \n",
       "...                                                                                   ...   \n",
       "Beef, raw, all grades, trimmed to 0\" fat, separ... 0.00 mcg                       1.554 g   \n",
       "Lamb, cooked, separable lean only, composite of... 0.00 mcg                       3.480 g   \n",
       "Lamb, raw, separable lean and fat, composite of... 0.00 mcg                       8.720 g   \n",
       "Beef, raw, all grades, trimmed to 0\" fat, separ... 0.00 mcg                       1.266 g   \n",
       "Beef, raw, all grades, trimmed to 0\" fat, separ... 0.00 mcg                       1.266 g   \n",
       "\n",
       "                                                              polyunsaturated_fatty_acids  \\\n",
       "name                                               folic_acid                               \n",
       "Cornstarch                                         0.00 mcg                       0.025 g   \n",
       "Nuts, pecans                                       0.00 mcg                      21.614 g   \n",
       "Eggplant, raw                                      0.00 mcg                       0.076 g   \n",
       "Teff, uncooked                                     0                              1.071 g   \n",
       "Sherbet, orange                                    0.00 mcg                       0.080 g   \n",
       "...                                                                                   ...   \n",
       "Beef, raw, all grades, trimmed to 0\" fat, separ... 0.00 mcg                       0.244 g   \n",
       "Lamb, cooked, separable lean only, composite of... 0.00 mcg                       0.520 g   \n",
       "Lamb, raw, separable lean and fat, composite of... 0.00 mcg                       0.980 g   \n",
       "Beef, raw, all grades, trimmed to 0\" fat, separ... 0.00 mcg                       0.233 g   \n",
       "Beef, raw, all grades, trimmed to 0\" fat, separ... 0.00 mcg                       0.233 g   \n",
       "\n",
       "                                                              fatty_acids_total_trans  \\\n",
       "name                                               folic_acid                           \n",
       "Cornstarch                                         0.00 mcg                   0.00 mg   \n",
       "Nuts, pecans                                       0.00 mcg                   0.00 mg   \n",
       "Eggplant, raw                                      0.00 mcg                   0.00 mg   \n",
       "Teff, uncooked                                     0                                0   \n",
       "Sherbet, orange                                    0.00 mcg                   1.00 mg   \n",
       "...                                                                               ...   \n",
       "Beef, raw, all grades, trimmed to 0\" fat, separ... 0.00 mcg                  62.00 mg   \n",
       "Lamb, cooked, separable lean only, composite of... 0.00 mcg                 109.00 mg   \n",
       "Lamb, raw, separable lean and fat, composite of... 0.00 mcg                  78.00 mg   \n",
       "Beef, raw, all grades, trimmed to 0\" fat, separ... 0.00 mcg                  60.00 mg   \n",
       "Beef, raw, all grades, trimmed to 0\" fat, separ... 0.00 mcg                  60.00 mg   \n",
       "\n",
       "                                                              alcohol     ash  \\\n",
       "name                                               folic_acid                   \n",
       "Cornstarch                                         0.00 mcg     0.0 g  0.09 g   \n",
       "Nuts, pecans                                       0.00 mcg     0.0 g  1.49 g   \n",
       "Eggplant, raw                                      0.00 mcg     0.0 g  0.66 g   \n",
       "Teff, uncooked                                     0                0  2.37 g   \n",
       "Sherbet, orange                                    0.00 mcg     0.0 g  0.40 g   \n",
       "...                                                               ...     ...   \n",
       "Beef, raw, all grades, trimmed to 0\" fat, separ... 0.00 mcg     0.0 g  1.11 g   \n",
       "Lamb, cooked, separable lean only, composite of... 0.00 mcg         0  1.60 g   \n",
       "Lamb, raw, separable lean and fat, composite of... 0.00 mcg         0  0.92 g   \n",
       "Beef, raw, all grades, trimmed to 0\" fat, separ... 0.00 mcg     0.0 g  1.10 g   \n",
       "Beef, raw, all grades, trimmed to 0\" fat, separ... 0.00 mcg     0.0 g  1.10 g   \n",
       "\n",
       "                                                              caffeine  \\\n",
       "name                                               folic_acid            \n",
       "Cornstarch                                         0.00 mcg    0.00 mg   \n",
       "Nuts, pecans                                       0.00 mcg    0.00 mg   \n",
       "Eggplant, raw                                      0.00 mcg    0.00 mg   \n",
       "Teff, uncooked                                     0                 0   \n",
       "Sherbet, orange                                    0.00 mcg    0.00 mg   \n",
       "...                                                                ...   \n",
       "Beef, raw, all grades, trimmed to 0\" fat, separ... 0.00 mcg    0.00 mg   \n",
       "Lamb, cooked, separable lean only, composite of... 0.00 mcg          0   \n",
       "Lamb, raw, separable lean and fat, composite of... 0.00 mcg          0   \n",
       "Beef, raw, all grades, trimmed to 0\" fat, separ... 0.00 mcg    0.00 mg   \n",
       "Beef, raw, all grades, trimmed to 0\" fat, separ... 0.00 mcg    0.00 mg   \n",
       "\n",
       "                                                              theobromine  \\\n",
       "name                                               folic_acid               \n",
       "Cornstarch                                         0.00 mcg       0.00 mg   \n",
       "Nuts, pecans                                       0.00 mcg       0.00 mg   \n",
       "Eggplant, raw                                      0.00 mcg       0.00 mg   \n",
       "Teff, uncooked                                     0                    0   \n",
       "Sherbet, orange                                    0.00 mcg       0.00 mg   \n",
       "...                                                                   ...   \n",
       "Beef, raw, all grades, trimmed to 0\" fat, separ... 0.00 mcg       0.00 mg   \n",
       "Lamb, cooked, separable lean only, composite of... 0.00 mcg             0   \n",
       "Lamb, raw, separable lean and fat, composite of... 0.00 mcg             0   \n",
       "Beef, raw, all grades, trimmed to 0\" fat, separ... 0.00 mcg       0.00 mg   \n",
       "Beef, raw, all grades, trimmed to 0\" fat, separ... 0.00 mcg       0.00 mg   \n",
       "\n",
       "                                                                 water  \n",
       "name                                               folic_acid           \n",
       "Cornstarch                                         0.00 mcg     8.32 g  \n",
       "Nuts, pecans                                       0.00 mcg     3.52 g  \n",
       "Eggplant, raw                                      0.00 mcg    92.30 g  \n",
       "Teff, uncooked                                     0            8.82 g  \n",
       "Sherbet, orange                                    0.00 mcg    66.10 g  \n",
       "...                                                                ...  \n",
       "Beef, raw, all grades, trimmed to 0\" fat, separ... 0.00 mcg    72.51 g  \n",
       "Lamb, cooked, separable lean only, composite of... 0.00 mcg    59.95 g  \n",
       "Lamb, raw, separable lean and fat, composite of... 0.00 mcg    59.80 g  \n",
       "Beef, raw, all grades, trimmed to 0\" fat, separ... 0.00 mcg    73.43 g  \n",
       "Beef, raw, all grades, trimmed to 0\" fat, separ... 0.00 mcg    73.43 g  \n",
       "\n",
       "[8789 rows x 75 columns]"
      ],
      "text/html": "<div>\n<style scoped>\n    .dataframe tbody tr th:only-of-type {\n        vertical-align: middle;\n    }\n\n    .dataframe tbody tr th {\n        vertical-align: top;\n    }\n\n    .dataframe thead th {\n        text-align: right;\n    }\n</style>\n<table border=\"1\" class=\"dataframe\">\n  <thead>\n    <tr style=\"text-align: right;\">\n      <th></th>\n      <th></th>\n      <th>serving_size</th>\n      <th>calories</th>\n      <th>total_fat</th>\n      <th>saturated_fat</th>\n      <th>cholesterol</th>\n      <th>sodium</th>\n      <th>choline</th>\n      <th>folate</th>\n      <th>folic_acid</th>\n      <th>niacin</th>\n      <th>...</th>\n      <th>fat</th>\n      <th>saturated_fatty_acids</th>\n      <th>monounsaturated_fatty_acids</th>\n      <th>polyunsaturated_fatty_acids</th>\n      <th>fatty_acids_total_trans</th>\n      <th>alcohol</th>\n      <th>ash</th>\n      <th>caffeine</th>\n      <th>theobromine</th>\n      <th>water</th>\n    </tr>\n    <tr>\n      <th>name</th>\n      <th>folic_acid</th>\n      <th></th>\n      <th></th>\n      <th></th>\n      <th></th>\n      <th></th>\n      <th></th>\n      <th></th>\n      <th></th>\n      <th></th>\n      <th></th>\n      <th></th>\n      <th></th>\n      <th></th>\n      <th></th>\n      <th></th>\n      <th></th>\n      <th></th>\n      <th></th>\n      <th></th>\n      <th></th>\n      <th></th>\n    </tr>\n  </thead>\n  <tbody>\n    <tr>\n      <th>Cornstarch</th>\n      <th>0.00 mcg</th>\n      <td>100 g</td>\n      <td>381</td>\n      <td>0.1g</td>\n      <td>NaN</td>\n      <td>0</td>\n      <td>9.00 mg</td>\n      <td>0.4 mg</td>\n      <td>0.00 mcg</td>\n      <td>0.00 mcg</td>\n      <td>0.000 mg</td>\n      <td>...</td>\n      <td>0.05 g</td>\n      <td>0.009 g</td>\n      <td>0.016 g</td>\n      <td>0.025 g</td>\n      <td>0.00 mg</td>\n      <td>0.0 g</td>\n      <td>0.09 g</td>\n      <td>0.00 mg</td>\n      <td>0.00 mg</td>\n      <td>8.32 g</td>\n    </tr>\n    <tr>\n      <th>Nuts, pecans</th>\n      <th>0.00 mcg</th>\n      <td>100 g</td>\n      <td>691</td>\n      <td>72g</td>\n      <td>6.2g</td>\n      <td>0</td>\n      <td>0.00 mg</td>\n      <td>40.5 mg</td>\n      <td>22.00 mcg</td>\n      <td>0.00 mcg</td>\n      <td>1.167 mg</td>\n      <td>...</td>\n      <td>71.97 g</td>\n      <td>6.180 g</td>\n      <td>40.801 g</td>\n      <td>21.614 g</td>\n      <td>0.00 mg</td>\n      <td>0.0 g</td>\n      <td>1.49 g</td>\n      <td>0.00 mg</td>\n      <td>0.00 mg</td>\n      <td>3.52 g</td>\n    </tr>\n    <tr>\n      <th>Eggplant, raw</th>\n      <th>0.00 mcg</th>\n      <td>100 g</td>\n      <td>25</td>\n      <td>0.2g</td>\n      <td>NaN</td>\n      <td>0</td>\n      <td>2.00 mg</td>\n      <td>6.9 mg</td>\n      <td>22.00 mcg</td>\n      <td>0.00 mcg</td>\n      <td>0.649 mg</td>\n      <td>...</td>\n      <td>0.18 g</td>\n      <td>0.034 g</td>\n      <td>0.016 g</td>\n      <td>0.076 g</td>\n      <td>0.00 mg</td>\n      <td>0.0 g</td>\n      <td>0.66 g</td>\n      <td>0.00 mg</td>\n      <td>0.00 mg</td>\n      <td>92.30 g</td>\n    </tr>\n    <tr>\n      <th>Teff, uncooked</th>\n      <th>0</th>\n      <td>100 g</td>\n      <td>367</td>\n      <td>2.4g</td>\n      <td>0.4g</td>\n      <td>0</td>\n      <td>12.00 mg</td>\n      <td>13.1 mg</td>\n      <td>0</td>\n      <td>0</td>\n      <td>3.363 mg</td>\n      <td>...</td>\n      <td>2.38 g</td>\n      <td>0.449 g</td>\n      <td>0.589 g</td>\n      <td>1.071 g</td>\n      <td>0</td>\n      <td>0</td>\n      <td>2.37 g</td>\n      <td>0</td>\n      <td>0</td>\n      <td>8.82 g</td>\n    </tr>\n    <tr>\n      <th>Sherbet, orange</th>\n      <th>0.00 mcg</th>\n      <td>100 g</td>\n      <td>144</td>\n      <td>2g</td>\n      <td>1.2g</td>\n      <td>1mg</td>\n      <td>46.00 mg</td>\n      <td>7.7 mg</td>\n      <td>4.00 mcg</td>\n      <td>0.00 mcg</td>\n      <td>0.063 mg</td>\n      <td>...</td>\n      <td>2.00 g</td>\n      <td>1.160 g</td>\n      <td>0.530 g</td>\n      <td>0.080 g</td>\n      <td>1.00 mg</td>\n      <td>0.0 g</td>\n      <td>0.40 g</td>\n      <td>0.00 mg</td>\n      <td>0.00 mg</td>\n      <td>66.10 g</td>\n    </tr>\n    <tr>\n      <th>...</th>\n      <th>...</th>\n      <td>...</td>\n      <td>...</td>\n      <td>...</td>\n      <td>...</td>\n      <td>...</td>\n      <td>...</td>\n      <td>...</td>\n      <td>...</td>\n      <td>...</td>\n      <td>...</td>\n      <td>...</td>\n      <td>...</td>\n      <td>...</td>\n      <td>...</td>\n      <td>...</td>\n      <td>...</td>\n      <td>...</td>\n      <td>...</td>\n      <td>...</td>\n      <td>...</td>\n      <td>...</td>\n    </tr>\n    <tr>\n      <th>Beef, raw, all grades, trimmed to 0\" fat, separable lean and fat, boneless, top round roast, round</th>\n      <th>0.00 mcg</th>\n      <td>100 g</td>\n      <td>125</td>\n      <td>3.5g</td>\n      <td>1.4g</td>\n      <td>62mg</td>\n      <td>54.00 mg</td>\n      <td>64.5 mg</td>\n      <td>4.00 mcg</td>\n      <td>0.00 mcg</td>\n      <td>6.422 mg</td>\n      <td>...</td>\n      <td>3.50 g</td>\n      <td>1.353 g</td>\n      <td>1.554 g</td>\n      <td>0.244 g</td>\n      <td>62.00 mg</td>\n      <td>0.0 g</td>\n      <td>1.11 g</td>\n      <td>0.00 mg</td>\n      <td>0.00 mg</td>\n      <td>72.51 g</td>\n    </tr>\n    <tr>\n      <th>Lamb, cooked, separable lean only, composite of trimmed retail cuts, frozen, imported, New Zealand</th>\n      <th>0.00 mcg</th>\n      <td>100 g</td>\n      <td>206</td>\n      <td>8.9g</td>\n      <td>3.9g</td>\n      <td>109mg</td>\n      <td>50.00 mg</td>\n      <td>0</td>\n      <td>0.00 mcg</td>\n      <td>0.00 mcg</td>\n      <td>7.680 mg</td>\n      <td>...</td>\n      <td>8.86 g</td>\n      <td>3.860 g</td>\n      <td>3.480 g</td>\n      <td>0.520 g</td>\n      <td>109.00 mg</td>\n      <td>0</td>\n      <td>1.60 g</td>\n      <td>0</td>\n      <td>0</td>\n      <td>59.95 g</td>\n    </tr>\n    <tr>\n      <th>Lamb, raw, separable lean and fat, composite of trimmed retail cuts, frozen, imported, New Zealand</th>\n      <th>0.00 mcg</th>\n      <td>100 g</td>\n      <td>277</td>\n      <td>23g</td>\n      <td>12g</td>\n      <td>78mg</td>\n      <td>39.00 mg</td>\n      <td>0</td>\n      <td>1.00 mcg</td>\n      <td>0.00 mcg</td>\n      <td>6.550 mg</td>\n      <td>...</td>\n      <td>22.74 g</td>\n      <td>11.570 g</td>\n      <td>8.720 g</td>\n      <td>0.980 g</td>\n      <td>78.00 mg</td>\n      <td>0</td>\n      <td>0.92 g</td>\n      <td>0</td>\n      <td>0</td>\n      <td>59.80 g</td>\n    </tr>\n    <tr>\n      <th>Beef, raw, all grades, trimmed to 0\" fat, separable lean only, boneless, eye of round roast, round</th>\n      <th>0.00 mcg</th>\n      <td>100 g</td>\n      <td>121</td>\n      <td>3g</td>\n      <td>1.1g</td>\n      <td>60mg</td>\n      <td>53.00 mg</td>\n      <td>64.2 mg</td>\n      <td>4.00 mcg</td>\n      <td>0.00 mcg</td>\n      <td>6.720 mg</td>\n      <td>...</td>\n      <td>3.04 g</td>\n      <td>1.086 g</td>\n      <td>1.266 g</td>\n      <td>0.233 g</td>\n      <td>60.00 mg</td>\n      <td>0.0 g</td>\n      <td>1.10 g</td>\n      <td>0.00 mg</td>\n      <td>0.00 mg</td>\n      <td>73.43 g</td>\n    </tr>\n    <tr>\n      <th>Beef, raw, all grades, trimmed to 0\" fat, separable lean only, boneless, eye of round steak, round</th>\n      <th>0.00 mcg</th>\n      <td>100 g</td>\n      <td>121</td>\n      <td>3g</td>\n      <td>1.1g</td>\n      <td>60mg</td>\n      <td>53.00 mg</td>\n      <td>64.2 mg</td>\n      <td>4.00 mcg</td>\n      <td>0.00 mcg</td>\n      <td>6.720 mg</td>\n      <td>...</td>\n      <td>3.04 g</td>\n      <td>1.086 g</td>\n      <td>1.266 g</td>\n      <td>0.233 g</td>\n      <td>60.00 mg</td>\n      <td>0.0 g</td>\n      <td>1.10 g</td>\n      <td>0.00 mg</td>\n      <td>0.00 mg</td>\n      <td>73.43 g</td>\n    </tr>\n  </tbody>\n</table>\n<p>8789 rows × 75 columns</p>\n</div>"
     },
     "metadata": {},
     "execution_count": 14
    }
   ],
   "source": [
    "nutrition.set_index('folic_acid', drop=False, append=True)"
   ]
  },
  {
   "cell_type": "code",
   "execution_count": 15,
   "metadata": {},
   "outputs": [
    {
     "output_type": "execute_result",
     "data": {
      "text/plain": [
       "                serving_size  calories total_fat saturated_fat cholesterol  \\\n",
       "name                                                                         \n",
       "Cornstarch             100 g       381      0.1g           NaN           0   \n",
       "Nuts, pecans           100 g       691       72g          6.2g           0   \n",
       "Eggplant, raw          100 g        25      0.2g           NaN           0   \n",
       "Teff, uncooked         100 g       367      2.4g          0.4g           0   \n",
       "Sherbet, orange        100 g       144        2g          1.2g         1mg   \n",
       "\n",
       "                   sodium  choline     folate folic_acid    niacin  ...  \\\n",
       "name                                                                ...   \n",
       "Cornstarch        9.00 mg   0.4 mg   0.00 mcg   0.00 mcg  0.000 mg  ...   \n",
       "Nuts, pecans      0.00 mg  40.5 mg  22.00 mcg   0.00 mcg  1.167 mg  ...   \n",
       "Eggplant, raw     2.00 mg   6.9 mg  22.00 mcg   0.00 mcg  0.649 mg  ...   \n",
       "Teff, uncooked   12.00 mg  13.1 mg          0          0  3.363 mg  ...   \n",
       "Sherbet, orange  46.00 mg   7.7 mg   4.00 mcg   0.00 mcg  0.063 mg  ...   \n",
       "\n",
       "                     fat saturated_fatty_acids monounsaturated_fatty_acids  \\\n",
       "name                                                                         \n",
       "Cornstarch        0.05 g               0.009 g                     0.016 g   \n",
       "Nuts, pecans     71.97 g               6.180 g                    40.801 g   \n",
       "Eggplant, raw     0.18 g               0.034 g                     0.016 g   \n",
       "Teff, uncooked    2.38 g               0.449 g                     0.589 g   \n",
       "Sherbet, orange   2.00 g               1.160 g                     0.530 g   \n",
       "\n",
       "                polyunsaturated_fatty_acids fatty_acids_total_trans alcohol  \\\n",
       "name                                                                          \n",
       "Cornstarch                          0.025 g                 0.00 mg   0.0 g   \n",
       "Nuts, pecans                       21.614 g                 0.00 mg   0.0 g   \n",
       "Eggplant, raw                       0.076 g                 0.00 mg   0.0 g   \n",
       "Teff, uncooked                      1.071 g                       0       0   \n",
       "Sherbet, orange                     0.080 g                 1.00 mg   0.0 g   \n",
       "\n",
       "                    ash caffeine theobromine    water  \n",
       "name                                                   \n",
       "Cornstarch       0.09 g  0.00 mg     0.00 mg   8.32 g  \n",
       "Nuts, pecans     1.49 g  0.00 mg     0.00 mg   3.52 g  \n",
       "Eggplant, raw    0.66 g  0.00 mg     0.00 mg  92.30 g  \n",
       "Teff, uncooked   2.37 g        0           0   8.82 g  \n",
       "Sherbet, orange  0.40 g  0.00 mg     0.00 mg  66.10 g  \n",
       "\n",
       "[5 rows x 75 columns]"
      ],
      "text/html": "<div>\n<style scoped>\n    .dataframe tbody tr th:only-of-type {\n        vertical-align: middle;\n    }\n\n    .dataframe tbody tr th {\n        vertical-align: top;\n    }\n\n    .dataframe thead th {\n        text-align: right;\n    }\n</style>\n<table border=\"1\" class=\"dataframe\">\n  <thead>\n    <tr style=\"text-align: right;\">\n      <th></th>\n      <th>serving_size</th>\n      <th>calories</th>\n      <th>total_fat</th>\n      <th>saturated_fat</th>\n      <th>cholesterol</th>\n      <th>sodium</th>\n      <th>choline</th>\n      <th>folate</th>\n      <th>folic_acid</th>\n      <th>niacin</th>\n      <th>...</th>\n      <th>fat</th>\n      <th>saturated_fatty_acids</th>\n      <th>monounsaturated_fatty_acids</th>\n      <th>polyunsaturated_fatty_acids</th>\n      <th>fatty_acids_total_trans</th>\n      <th>alcohol</th>\n      <th>ash</th>\n      <th>caffeine</th>\n      <th>theobromine</th>\n      <th>water</th>\n    </tr>\n    <tr>\n      <th>name</th>\n      <th></th>\n      <th></th>\n      <th></th>\n      <th></th>\n      <th></th>\n      <th></th>\n      <th></th>\n      <th></th>\n      <th></th>\n      <th></th>\n      <th></th>\n      <th></th>\n      <th></th>\n      <th></th>\n      <th></th>\n      <th></th>\n      <th></th>\n      <th></th>\n      <th></th>\n      <th></th>\n      <th></th>\n    </tr>\n  </thead>\n  <tbody>\n    <tr>\n      <th>Cornstarch</th>\n      <td>100 g</td>\n      <td>381</td>\n      <td>0.1g</td>\n      <td>NaN</td>\n      <td>0</td>\n      <td>9.00 mg</td>\n      <td>0.4 mg</td>\n      <td>0.00 mcg</td>\n      <td>0.00 mcg</td>\n      <td>0.000 mg</td>\n      <td>...</td>\n      <td>0.05 g</td>\n      <td>0.009 g</td>\n      <td>0.016 g</td>\n      <td>0.025 g</td>\n      <td>0.00 mg</td>\n      <td>0.0 g</td>\n      <td>0.09 g</td>\n      <td>0.00 mg</td>\n      <td>0.00 mg</td>\n      <td>8.32 g</td>\n    </tr>\n    <tr>\n      <th>Nuts, pecans</th>\n      <td>100 g</td>\n      <td>691</td>\n      <td>72g</td>\n      <td>6.2g</td>\n      <td>0</td>\n      <td>0.00 mg</td>\n      <td>40.5 mg</td>\n      <td>22.00 mcg</td>\n      <td>0.00 mcg</td>\n      <td>1.167 mg</td>\n      <td>...</td>\n      <td>71.97 g</td>\n      <td>6.180 g</td>\n      <td>40.801 g</td>\n      <td>21.614 g</td>\n      <td>0.00 mg</td>\n      <td>0.0 g</td>\n      <td>1.49 g</td>\n      <td>0.00 mg</td>\n      <td>0.00 mg</td>\n      <td>3.52 g</td>\n    </tr>\n    <tr>\n      <th>Eggplant, raw</th>\n      <td>100 g</td>\n      <td>25</td>\n      <td>0.2g</td>\n      <td>NaN</td>\n      <td>0</td>\n      <td>2.00 mg</td>\n      <td>6.9 mg</td>\n      <td>22.00 mcg</td>\n      <td>0.00 mcg</td>\n      <td>0.649 mg</td>\n      <td>...</td>\n      <td>0.18 g</td>\n      <td>0.034 g</td>\n      <td>0.016 g</td>\n      <td>0.076 g</td>\n      <td>0.00 mg</td>\n      <td>0.0 g</td>\n      <td>0.66 g</td>\n      <td>0.00 mg</td>\n      <td>0.00 mg</td>\n      <td>92.30 g</td>\n    </tr>\n    <tr>\n      <th>Teff, uncooked</th>\n      <td>100 g</td>\n      <td>367</td>\n      <td>2.4g</td>\n      <td>0.4g</td>\n      <td>0</td>\n      <td>12.00 mg</td>\n      <td>13.1 mg</td>\n      <td>0</td>\n      <td>0</td>\n      <td>3.363 mg</td>\n      <td>...</td>\n      <td>2.38 g</td>\n      <td>0.449 g</td>\n      <td>0.589 g</td>\n      <td>1.071 g</td>\n      <td>0</td>\n      <td>0</td>\n      <td>2.37 g</td>\n      <td>0</td>\n      <td>0</td>\n      <td>8.82 g</td>\n    </tr>\n    <tr>\n      <th>Sherbet, orange</th>\n      <td>100 g</td>\n      <td>144</td>\n      <td>2g</td>\n      <td>1.2g</td>\n      <td>1mg</td>\n      <td>46.00 mg</td>\n      <td>7.7 mg</td>\n      <td>4.00 mcg</td>\n      <td>0.00 mcg</td>\n      <td>0.063 mg</td>\n      <td>...</td>\n      <td>2.00 g</td>\n      <td>1.160 g</td>\n      <td>0.530 g</td>\n      <td>0.080 g</td>\n      <td>1.00 mg</td>\n      <td>0.0 g</td>\n      <td>0.40 g</td>\n      <td>0.00 mg</td>\n      <td>0.00 mg</td>\n      <td>66.10 g</td>\n    </tr>\n  </tbody>\n</table>\n<p>5 rows × 75 columns</p>\n</div>"
     },
     "metadata": {},
     "execution_count": 15
    }
   ],
   "source": [
    "nutrition.head()"
   ]
  },
  {
   "cell_type": "code",
   "execution_count": 16,
   "metadata": {},
   "outputs": [
    {
     "output_type": "execute_result",
     "data": {
      "text/plain": [
       "serving_size    100 g\n",
       "calories          381\n",
       "total_fat        0.1g\n",
       "Name: Cornstarch, dtype: object"
      ]
     },
     "metadata": {},
     "execution_count": 16
    }
   ],
   "source": [
    "nutrition.loc['Cornstarch', 'serving_size':'total_fat']"
   ]
  },
  {
   "cell_type": "code",
   "execution_count": 17,
   "metadata": {},
   "outputs": [
    {
     "output_type": "execute_result",
     "data": {
      "text/plain": [
       "               serving_size  calories total_fat\n",
       "name                                           \n",
       "Cornstarch            100 g       381      0.1g\n",
       "Nuts, pecans          100 g       691       72g\n",
       "Eggplant, raw         100 g        25      0.2g\n",
       "Teff, uncooked        100 g       367      2.4g"
      ],
      "text/html": "<div>\n<style scoped>\n    .dataframe tbody tr th:only-of-type {\n        vertical-align: middle;\n    }\n\n    .dataframe tbody tr th {\n        vertical-align: top;\n    }\n\n    .dataframe thead th {\n        text-align: right;\n    }\n</style>\n<table border=\"1\" class=\"dataframe\">\n  <thead>\n    <tr style=\"text-align: right;\">\n      <th></th>\n      <th>serving_size</th>\n      <th>calories</th>\n      <th>total_fat</th>\n    </tr>\n    <tr>\n      <th>name</th>\n      <th></th>\n      <th></th>\n      <th></th>\n    </tr>\n  </thead>\n  <tbody>\n    <tr>\n      <th>Cornstarch</th>\n      <td>100 g</td>\n      <td>381</td>\n      <td>0.1g</td>\n    </tr>\n    <tr>\n      <th>Nuts, pecans</th>\n      <td>100 g</td>\n      <td>691</td>\n      <td>72g</td>\n    </tr>\n    <tr>\n      <th>Eggplant, raw</th>\n      <td>100 g</td>\n      <td>25</td>\n      <td>0.2g</td>\n    </tr>\n    <tr>\n      <th>Teff, uncooked</th>\n      <td>100 g</td>\n      <td>367</td>\n      <td>2.4g</td>\n    </tr>\n  </tbody>\n</table>\n</div>"
     },
     "metadata": {},
     "execution_count": 17
    }
   ],
   "source": [
    "nutrition.loc['Cornstarch': 'Teff, uncooked', 'serving_size':'total_fat'] "
   ]
  },
  {
   "cell_type": "code",
   "execution_count": 18,
   "metadata": {},
   "outputs": [
    {
     "output_type": "execute_result",
     "data": {
      "text/plain": [
       "             serving_size  calories\n",
       "name                               \n",
       "Cornstarch          100 g       381\n",
       "Nuts, pecans        100 g       691"
      ],
      "text/html": "<div>\n<style scoped>\n    .dataframe tbody tr th:only-of-type {\n        vertical-align: middle;\n    }\n\n    .dataframe tbody tr th {\n        vertical-align: top;\n    }\n\n    .dataframe thead th {\n        text-align: right;\n    }\n</style>\n<table border=\"1\" class=\"dataframe\">\n  <thead>\n    <tr style=\"text-align: right;\">\n      <th></th>\n      <th>serving_size</th>\n      <th>calories</th>\n    </tr>\n    <tr>\n      <th>name</th>\n      <th></th>\n      <th></th>\n    </tr>\n  </thead>\n  <tbody>\n    <tr>\n      <th>Cornstarch</th>\n      <td>100 g</td>\n      <td>381</td>\n    </tr>\n    <tr>\n      <th>Nuts, pecans</th>\n      <td>100 g</td>\n      <td>691</td>\n    </tr>\n  </tbody>\n</table>\n</div>"
     },
     "metadata": {},
     "execution_count": 18
    }
   ],
   "source": [
    "nutrition.loc[['Cornstarch', 'Nuts, pecans'], ['serving_size', 'calories']]"
   ]
  },
  {
   "cell_type": "code",
   "execution_count": 19,
   "metadata": {},
   "outputs": [
    {
     "output_type": "execute_result",
     "data": {
      "text/plain": [
       "serving_size      100 g\n",
       "calories            367\n",
       "total_fat          2.4g\n",
       "saturated_fat      0.4g\n",
       "cholesterol           0\n",
       "                  ...  \n",
       "alcohol               0\n",
       "ash              2.37 g\n",
       "caffeine              0\n",
       "theobromine           0\n",
       "water            8.82 g\n",
       "Name: Teff, uncooked, Length: 75, dtype: object"
      ]
     },
     "metadata": {},
     "execution_count": 19
    }
   ],
   "source": [
    "nutrition.iloc[3]"
   ]
  },
  {
   "cell_type": "code",
   "execution_count": 20,
   "metadata": {},
   "outputs": [
    {
     "output_type": "execute_result",
     "data": {
      "text/plain": [
       "serving_size    100 g\n",
       "calories          367\n",
       "total_fat        2.4g\n",
       "Name: Teff, uncooked, dtype: object"
      ]
     },
     "metadata": {},
     "execution_count": 20
    }
   ],
   "source": [
    "nutrition.iloc[3, 0: 3]"
   ]
  },
  {
   "cell_type": "code",
   "execution_count": 21,
   "metadata": {},
   "outputs": [
    {
     "output_type": "execute_result",
     "data": {
      "text/plain": [
       "                   serving_size  calories total_fat\n",
       "name                                               \n",
       "Sherbet, orange           100 g       144        2g\n",
       "Taro leaves, raw          100 g        42      0.7g\n",
       "Vegetarian fillets        100 g       290       18g"
      ],
      "text/html": "<div>\n<style scoped>\n    .dataframe tbody tr th:only-of-type {\n        vertical-align: middle;\n    }\n\n    .dataframe tbody tr th {\n        vertical-align: top;\n    }\n\n    .dataframe thead th {\n        text-align: right;\n    }\n</style>\n<table border=\"1\" class=\"dataframe\">\n  <thead>\n    <tr style=\"text-align: right;\">\n      <th></th>\n      <th>serving_size</th>\n      <th>calories</th>\n      <th>total_fat</th>\n    </tr>\n    <tr>\n      <th>name</th>\n      <th></th>\n      <th></th>\n      <th></th>\n    </tr>\n  </thead>\n  <tbody>\n    <tr>\n      <th>Sherbet, orange</th>\n      <td>100 g</td>\n      <td>144</td>\n      <td>2g</td>\n    </tr>\n    <tr>\n      <th>Taro leaves, raw</th>\n      <td>100 g</td>\n      <td>42</td>\n      <td>0.7g</td>\n    </tr>\n    <tr>\n      <th>Vegetarian fillets</th>\n      <td>100 g</td>\n      <td>290</td>\n      <td>18g</td>\n    </tr>\n  </tbody>\n</table>\n</div>"
     },
     "metadata": {},
     "execution_count": 21
    }
   ],
   "source": [
    "nutrition.iloc[[4, 6, 9], 0: 3]"
   ]
  },
  {
   "cell_type": "code",
   "execution_count": 22,
   "metadata": {},
   "outputs": [
    {
     "output_type": "execute_result",
     "data": {
      "text/plain": [
       "691"
      ]
     },
     "metadata": {},
     "execution_count": 22
    }
   ],
   "source": [
    "nutrition.iat[1, 1]"
   ]
  },
  {
   "cell_type": "code",
   "execution_count": 23,
   "metadata": {},
   "outputs": [
    {
     "output_type": "execute_result",
     "data": {
      "text/plain": [
       "'100 g'"
      ]
     },
     "metadata": {},
     "execution_count": 23
    }
   ],
   "source": [
    "nutrition.at['Cornstarch', 'serving_size']"
   ]
  },
  {
   "cell_type": "code",
   "execution_count": 70,
   "metadata": {},
   "outputs": [
    {
     "output_type": "execute_result",
     "data": {
      "text/plain": [
       "                                                   serving_size  calories  \\\n",
       "name                                                                        \n",
       "Nuts, pecans                                              100 g       691   \n",
       "Teff, uncooked                                            100 g       367   \n",
       "Sherbet, orange                                           100 g       144   \n",
       "Cauliflower, raw                                          100 g        25   \n",
       "Taro leaves, raw                                          100 g        42   \n",
       "...                                                         ...       ...   \n",
       "Beef, raw, all grades, trimmed to 0\" fat, separ...        100 g       125   \n",
       "Lamb, cooked, separable lean only, composite of...        100 g       206   \n",
       "Lamb, raw, separable lean and fat, composite of...        100 g       277   \n",
       "Beef, raw, all grades, trimmed to 0\" fat, separ...        100 g       121   \n",
       "Beef, raw, all grades, trimmed to 0\" fat, separ...        100 g       121   \n",
       "\n",
       "                                                   total_fat saturated_fat  \\\n",
       "name                                                                         \n",
       "Nuts, pecans                                             72g          6.2g   \n",
       "Teff, uncooked                                          2.4g          0.4g   \n",
       "Sherbet, orange                                           2g          1.2g   \n",
       "Cauliflower, raw                                        0.3g          0.1g   \n",
       "Taro leaves, raw                                        0.7g          0.2g   \n",
       "...                                                      ...           ...   \n",
       "Beef, raw, all grades, trimmed to 0\" fat, separ...      3.5g          1.4g   \n",
       "Lamb, cooked, separable lean only, composite of...      8.9g          3.9g   \n",
       "Lamb, raw, separable lean and fat, composite of...       23g           12g   \n",
       "Beef, raw, all grades, trimmed to 0\" fat, separ...        3g          1.1g   \n",
       "Beef, raw, all grades, trimmed to 0\" fat, separ...        3g          1.1g   \n",
       "\n",
       "                                                   cholesterol    sodium  \\\n",
       "name                                                                       \n",
       "Nuts, pecans                                                 0   0.00 mg   \n",
       "Teff, uncooked                                               0  12.00 mg   \n",
       "Sherbet, orange                                            1mg  46.00 mg   \n",
       "Cauliflower, raw                                             0  30.00 mg   \n",
       "Taro leaves, raw                                             0   3.00 mg   \n",
       "...                                                        ...       ...   \n",
       "Beef, raw, all grades, trimmed to 0\" fat, separ...        62mg  54.00 mg   \n",
       "Lamb, cooked, separable lean only, composite of...       109mg  50.00 mg   \n",
       "Lamb, raw, separable lean and fat, composite of...        78mg  39.00 mg   \n",
       "Beef, raw, all grades, trimmed to 0\" fat, separ...        60mg  53.00 mg   \n",
       "Beef, raw, all grades, trimmed to 0\" fat, separ...        60mg  53.00 mg   \n",
       "\n",
       "                                                    choline      folate  \\\n",
       "name                                                                      \n",
       "Nuts, pecans                                        40.5 mg   22.00 mcg   \n",
       "Teff, uncooked                                      13.1 mg           0   \n",
       "Sherbet, orange                                      7.7 mg    4.00 mcg   \n",
       "Cauliflower, raw                                    44.3 mg   57.00 mcg   \n",
       "Taro leaves, raw                                    12.8 mg  126.00 mcg   \n",
       "...                                                     ...         ...   \n",
       "Beef, raw, all grades, trimmed to 0\" fat, separ...  64.5 mg    4.00 mcg   \n",
       "Lamb, cooked, separable lean only, composite of...        0    0.00 mcg   \n",
       "Lamb, raw, separable lean and fat, composite of...        0    1.00 mcg   \n",
       "Beef, raw, all grades, trimmed to 0\" fat, separ...  64.2 mg    4.00 mcg   \n",
       "Beef, raw, all grades, trimmed to 0\" fat, separ...  64.2 mg    4.00 mcg   \n",
       "\n",
       "                                                   folic_acid    niacin  ...  \\\n",
       "name                                                                     ...   \n",
       "Nuts, pecans                                         0.00 mcg  1.167 mg  ...   \n",
       "Teff, uncooked                                              0  3.363 mg  ...   \n",
       "Sherbet, orange                                      0.00 mcg  0.063 mg  ...   \n",
       "Cauliflower, raw                                     0.00 mcg  0.507 mg  ...   \n",
       "Taro leaves, raw                                     0.00 mcg  1.513 mg  ...   \n",
       "...                                                       ...       ...  ...   \n",
       "Beef, raw, all grades, trimmed to 0\" fat, separ...   0.00 mcg  6.422 mg  ...   \n",
       "Lamb, cooked, separable lean only, composite of...   0.00 mcg  7.680 mg  ...   \n",
       "Lamb, raw, separable lean and fat, composite of...   0.00 mcg  6.550 mg  ...   \n",
       "Beef, raw, all grades, trimmed to 0\" fat, separ...   0.00 mcg  6.720 mg  ...   \n",
       "Beef, raw, all grades, trimmed to 0\" fat, separ...   0.00 mcg  6.720 mg  ...   \n",
       "\n",
       "                                                        fat  \\\n",
       "name                                                          \n",
       "Nuts, pecans                                        71.97 g   \n",
       "Teff, uncooked                                       2.38 g   \n",
       "Sherbet, orange                                      2.00 g   \n",
       "Cauliflower, raw                                     0.28 g   \n",
       "Taro leaves, raw                                     0.74 g   \n",
       "...                                                     ...   \n",
       "Beef, raw, all grades, trimmed to 0\" fat, separ...   3.50 g   \n",
       "Lamb, cooked, separable lean only, composite of...   8.86 g   \n",
       "Lamb, raw, separable lean and fat, composite of...  22.74 g   \n",
       "Beef, raw, all grades, trimmed to 0\" fat, separ...   3.04 g   \n",
       "Beef, raw, all grades, trimmed to 0\" fat, separ...   3.04 g   \n",
       "\n",
       "                                                   saturated_fatty_acids  \\\n",
       "name                                                                       \n",
       "Nuts, pecans                                                     6.180 g   \n",
       "Teff, uncooked                                                   0.449 g   \n",
       "Sherbet, orange                                                  1.160 g   \n",
       "Cauliflower, raw                                                 0.130 g   \n",
       "Taro leaves, raw                                                 0.151 g   \n",
       "...                                                                  ...   \n",
       "Beef, raw, all grades, trimmed to 0\" fat, separ...               1.353 g   \n",
       "Lamb, cooked, separable lean only, composite of...               3.860 g   \n",
       "Lamb, raw, separable lean and fat, composite of...              11.570 g   \n",
       "Beef, raw, all grades, trimmed to 0\" fat, separ...               1.086 g   \n",
       "Beef, raw, all grades, trimmed to 0\" fat, separ...               1.086 g   \n",
       "\n",
       "                                                   monounsaturated_fatty_acids  \\\n",
       "name                                                                             \n",
       "Nuts, pecans                                                          40.801 g   \n",
       "Teff, uncooked                                                         0.589 g   \n",
       "Sherbet, orange                                                        0.530 g   \n",
       "Cauliflower, raw                                                       0.034 g   \n",
       "Taro leaves, raw                                                       0.060 g   \n",
       "...                                                                        ...   \n",
       "Beef, raw, all grades, trimmed to 0\" fat, separ...                     1.554 g   \n",
       "Lamb, cooked, separable lean only, composite of...                     3.480 g   \n",
       "Lamb, raw, separable lean and fat, composite of...                     8.720 g   \n",
       "Beef, raw, all grades, trimmed to 0\" fat, separ...                     1.266 g   \n",
       "Beef, raw, all grades, trimmed to 0\" fat, separ...                     1.266 g   \n",
       "\n",
       "                                                   polyunsaturated_fatty_acids  \\\n",
       "name                                                                             \n",
       "Nuts, pecans                                                          21.614 g   \n",
       "Teff, uncooked                                                         1.071 g   \n",
       "Sherbet, orange                                                        0.080 g   \n",
       "Cauliflower, raw                                                       0.031 g   \n",
       "Taro leaves, raw                                                       0.307 g   \n",
       "...                                                                        ...   \n",
       "Beef, raw, all grades, trimmed to 0\" fat, separ...                     0.244 g   \n",
       "Lamb, cooked, separable lean only, composite of...                     0.520 g   \n",
       "Lamb, raw, separable lean and fat, composite of...                     0.980 g   \n",
       "Beef, raw, all grades, trimmed to 0\" fat, separ...                     0.233 g   \n",
       "Beef, raw, all grades, trimmed to 0\" fat, separ...                     0.233 g   \n",
       "\n",
       "                                                   fatty_acids_total_trans  \\\n",
       "name                                                                         \n",
       "Nuts, pecans                                                       0.00 mg   \n",
       "Teff, uncooked                                                           0   \n",
       "Sherbet, orange                                                    1.00 mg   \n",
       "Cauliflower, raw                                                   0.00 mg   \n",
       "Taro leaves, raw                                                   0.00 mg   \n",
       "...                                                                    ...   \n",
       "Beef, raw, all grades, trimmed to 0\" fat, separ...                62.00 mg   \n",
       "Lamb, cooked, separable lean only, composite of...               109.00 mg   \n",
       "Lamb, raw, separable lean and fat, composite of...                78.00 mg   \n",
       "Beef, raw, all grades, trimmed to 0\" fat, separ...                60.00 mg   \n",
       "Beef, raw, all grades, trimmed to 0\" fat, separ...                60.00 mg   \n",
       "\n",
       "                                                   alcohol     ash caffeine  \\\n",
       "name                                                                          \n",
       "Nuts, pecans                                         0.0 g  1.49 g  0.00 mg   \n",
       "Teff, uncooked                                           0  2.37 g        0   \n",
       "Sherbet, orange                                      0.0 g  0.40 g  0.00 mg   \n",
       "Cauliflower, raw                                     0.0 g  0.76 g  0.00 mg   \n",
       "Taro leaves, raw                                     0.0 g  1.92 g  0.00 mg   \n",
       "...                                                    ...     ...      ...   \n",
       "Beef, raw, all grades, trimmed to 0\" fat, separ...   0.0 g  1.11 g  0.00 mg   \n",
       "Lamb, cooked, separable lean only, composite of...       0  1.60 g        0   \n",
       "Lamb, raw, separable lean and fat, composite of...       0  0.92 g        0   \n",
       "Beef, raw, all grades, trimmed to 0\" fat, separ...   0.0 g  1.10 g  0.00 mg   \n",
       "Beef, raw, all grades, trimmed to 0\" fat, separ...   0.0 g  1.10 g  0.00 mg   \n",
       "\n",
       "                                                   theobromine    water  \n",
       "name                                                                     \n",
       "Nuts, pecans                                           0.00 mg   3.52 g  \n",
       "Teff, uncooked                                               0   8.82 g  \n",
       "Sherbet, orange                                        0.00 mg  66.10 g  \n",
       "Cauliflower, raw                                       0.00 mg  92.07 g  \n",
       "Taro leaves, raw                                       0.00 mg  85.66 g  \n",
       "...                                                        ...      ...  \n",
       "Beef, raw, all grades, trimmed to 0\" fat, separ...     0.00 mg  72.51 g  \n",
       "Lamb, cooked, separable lean only, composite of...           0  59.95 g  \n",
       "Lamb, raw, separable lean and fat, composite of...           0  59.80 g  \n",
       "Beef, raw, all grades, trimmed to 0\" fat, separ...     0.00 mg  73.43 g  \n",
       "Beef, raw, all grades, trimmed to 0\" fat, separ...     0.00 mg  73.43 g  \n",
       "\n",
       "[7199 rows x 75 columns]"
      ],
      "text/html": "<div>\n<style scoped>\n    .dataframe tbody tr th:only-of-type {\n        vertical-align: middle;\n    }\n\n    .dataframe tbody tr th {\n        vertical-align: top;\n    }\n\n    .dataframe thead th {\n        text-align: right;\n    }\n</style>\n<table border=\"1\" class=\"dataframe\">\n  <thead>\n    <tr style=\"text-align: right;\">\n      <th></th>\n      <th>serving_size</th>\n      <th>calories</th>\n      <th>total_fat</th>\n      <th>saturated_fat</th>\n      <th>cholesterol</th>\n      <th>sodium</th>\n      <th>choline</th>\n      <th>folate</th>\n      <th>folic_acid</th>\n      <th>niacin</th>\n      <th>...</th>\n      <th>fat</th>\n      <th>saturated_fatty_acids</th>\n      <th>monounsaturated_fatty_acids</th>\n      <th>polyunsaturated_fatty_acids</th>\n      <th>fatty_acids_total_trans</th>\n      <th>alcohol</th>\n      <th>ash</th>\n      <th>caffeine</th>\n      <th>theobromine</th>\n      <th>water</th>\n    </tr>\n    <tr>\n      <th>name</th>\n      <th></th>\n      <th></th>\n      <th></th>\n      <th></th>\n      <th></th>\n      <th></th>\n      <th></th>\n      <th></th>\n      <th></th>\n      <th></th>\n      <th></th>\n      <th></th>\n      <th></th>\n      <th></th>\n      <th></th>\n      <th></th>\n      <th></th>\n      <th></th>\n      <th></th>\n      <th></th>\n      <th></th>\n    </tr>\n  </thead>\n  <tbody>\n    <tr>\n      <th>Nuts, pecans</th>\n      <td>100 g</td>\n      <td>691</td>\n      <td>72g</td>\n      <td>6.2g</td>\n      <td>0</td>\n      <td>0.00 mg</td>\n      <td>40.5 mg</td>\n      <td>22.00 mcg</td>\n      <td>0.00 mcg</td>\n      <td>1.167 mg</td>\n      <td>...</td>\n      <td>71.97 g</td>\n      <td>6.180 g</td>\n      <td>40.801 g</td>\n      <td>21.614 g</td>\n      <td>0.00 mg</td>\n      <td>0.0 g</td>\n      <td>1.49 g</td>\n      <td>0.00 mg</td>\n      <td>0.00 mg</td>\n      <td>3.52 g</td>\n    </tr>\n    <tr>\n      <th>Teff, uncooked</th>\n      <td>100 g</td>\n      <td>367</td>\n      <td>2.4g</td>\n      <td>0.4g</td>\n      <td>0</td>\n      <td>12.00 mg</td>\n      <td>13.1 mg</td>\n      <td>0</td>\n      <td>0</td>\n      <td>3.363 mg</td>\n      <td>...</td>\n      <td>2.38 g</td>\n      <td>0.449 g</td>\n      <td>0.589 g</td>\n      <td>1.071 g</td>\n      <td>0</td>\n      <td>0</td>\n      <td>2.37 g</td>\n      <td>0</td>\n      <td>0</td>\n      <td>8.82 g</td>\n    </tr>\n    <tr>\n      <th>Sherbet, orange</th>\n      <td>100 g</td>\n      <td>144</td>\n      <td>2g</td>\n      <td>1.2g</td>\n      <td>1mg</td>\n      <td>46.00 mg</td>\n      <td>7.7 mg</td>\n      <td>4.00 mcg</td>\n      <td>0.00 mcg</td>\n      <td>0.063 mg</td>\n      <td>...</td>\n      <td>2.00 g</td>\n      <td>1.160 g</td>\n      <td>0.530 g</td>\n      <td>0.080 g</td>\n      <td>1.00 mg</td>\n      <td>0.0 g</td>\n      <td>0.40 g</td>\n      <td>0.00 mg</td>\n      <td>0.00 mg</td>\n      <td>66.10 g</td>\n    </tr>\n    <tr>\n      <th>Cauliflower, raw</th>\n      <td>100 g</td>\n      <td>25</td>\n      <td>0.3g</td>\n      <td>0.1g</td>\n      <td>0</td>\n      <td>30.00 mg</td>\n      <td>44.3 mg</td>\n      <td>57.00 mcg</td>\n      <td>0.00 mcg</td>\n      <td>0.507 mg</td>\n      <td>...</td>\n      <td>0.28 g</td>\n      <td>0.130 g</td>\n      <td>0.034 g</td>\n      <td>0.031 g</td>\n      <td>0.00 mg</td>\n      <td>0.0 g</td>\n      <td>0.76 g</td>\n      <td>0.00 mg</td>\n      <td>0.00 mg</td>\n      <td>92.07 g</td>\n    </tr>\n    <tr>\n      <th>Taro leaves, raw</th>\n      <td>100 g</td>\n      <td>42</td>\n      <td>0.7g</td>\n      <td>0.2g</td>\n      <td>0</td>\n      <td>3.00 mg</td>\n      <td>12.8 mg</td>\n      <td>126.00 mcg</td>\n      <td>0.00 mcg</td>\n      <td>1.513 mg</td>\n      <td>...</td>\n      <td>0.74 g</td>\n      <td>0.151 g</td>\n      <td>0.060 g</td>\n      <td>0.307 g</td>\n      <td>0.00 mg</td>\n      <td>0.0 g</td>\n      <td>1.92 g</td>\n      <td>0.00 mg</td>\n      <td>0.00 mg</td>\n      <td>85.66 g</td>\n    </tr>\n    <tr>\n      <th>...</th>\n      <td>...</td>\n      <td>...</td>\n      <td>...</td>\n      <td>...</td>\n      <td>...</td>\n      <td>...</td>\n      <td>...</td>\n      <td>...</td>\n      <td>...</td>\n      <td>...</td>\n      <td>...</td>\n      <td>...</td>\n      <td>...</td>\n      <td>...</td>\n      <td>...</td>\n      <td>...</td>\n      <td>...</td>\n      <td>...</td>\n      <td>...</td>\n      <td>...</td>\n      <td>...</td>\n    </tr>\n    <tr>\n      <th>Beef, raw, all grades, trimmed to 0\" fat, separable lean and fat, boneless, top round roast, round</th>\n      <td>100 g</td>\n      <td>125</td>\n      <td>3.5g</td>\n      <td>1.4g</td>\n      <td>62mg</td>\n      <td>54.00 mg</td>\n      <td>64.5 mg</td>\n      <td>4.00 mcg</td>\n      <td>0.00 mcg</td>\n      <td>6.422 mg</td>\n      <td>...</td>\n      <td>3.50 g</td>\n      <td>1.353 g</td>\n      <td>1.554 g</td>\n      <td>0.244 g</td>\n      <td>62.00 mg</td>\n      <td>0.0 g</td>\n      <td>1.11 g</td>\n      <td>0.00 mg</td>\n      <td>0.00 mg</td>\n      <td>72.51 g</td>\n    </tr>\n    <tr>\n      <th>Lamb, cooked, separable lean only, composite of trimmed retail cuts, frozen, imported, New Zealand</th>\n      <td>100 g</td>\n      <td>206</td>\n      <td>8.9g</td>\n      <td>3.9g</td>\n      <td>109mg</td>\n      <td>50.00 mg</td>\n      <td>0</td>\n      <td>0.00 mcg</td>\n      <td>0.00 mcg</td>\n      <td>7.680 mg</td>\n      <td>...</td>\n      <td>8.86 g</td>\n      <td>3.860 g</td>\n      <td>3.480 g</td>\n      <td>0.520 g</td>\n      <td>109.00 mg</td>\n      <td>0</td>\n      <td>1.60 g</td>\n      <td>0</td>\n      <td>0</td>\n      <td>59.95 g</td>\n    </tr>\n    <tr>\n      <th>Lamb, raw, separable lean and fat, composite of trimmed retail cuts, frozen, imported, New Zealand</th>\n      <td>100 g</td>\n      <td>277</td>\n      <td>23g</td>\n      <td>12g</td>\n      <td>78mg</td>\n      <td>39.00 mg</td>\n      <td>0</td>\n      <td>1.00 mcg</td>\n      <td>0.00 mcg</td>\n      <td>6.550 mg</td>\n      <td>...</td>\n      <td>22.74 g</td>\n      <td>11.570 g</td>\n      <td>8.720 g</td>\n      <td>0.980 g</td>\n      <td>78.00 mg</td>\n      <td>0</td>\n      <td>0.92 g</td>\n      <td>0</td>\n      <td>0</td>\n      <td>59.80 g</td>\n    </tr>\n    <tr>\n      <th>Beef, raw, all grades, trimmed to 0\" fat, separable lean only, boneless, eye of round roast, round</th>\n      <td>100 g</td>\n      <td>121</td>\n      <td>3g</td>\n      <td>1.1g</td>\n      <td>60mg</td>\n      <td>53.00 mg</td>\n      <td>64.2 mg</td>\n      <td>4.00 mcg</td>\n      <td>0.00 mcg</td>\n      <td>6.720 mg</td>\n      <td>...</td>\n      <td>3.04 g</td>\n      <td>1.086 g</td>\n      <td>1.266 g</td>\n      <td>0.233 g</td>\n      <td>60.00 mg</td>\n      <td>0.0 g</td>\n      <td>1.10 g</td>\n      <td>0.00 mg</td>\n      <td>0.00 mg</td>\n      <td>73.43 g</td>\n    </tr>\n    <tr>\n      <th>Beef, raw, all grades, trimmed to 0\" fat, separable lean only, boneless, eye of round steak, round</th>\n      <td>100 g</td>\n      <td>121</td>\n      <td>3g</td>\n      <td>1.1g</td>\n      <td>60mg</td>\n      <td>53.00 mg</td>\n      <td>64.2 mg</td>\n      <td>4.00 mcg</td>\n      <td>0.00 mcg</td>\n      <td>6.720 mg</td>\n      <td>...</td>\n      <td>3.04 g</td>\n      <td>1.086 g</td>\n      <td>1.266 g</td>\n      <td>0.233 g</td>\n      <td>60.00 mg</td>\n      <td>0.0 g</td>\n      <td>1.10 g</td>\n      <td>0.00 mg</td>\n      <td>0.00 mg</td>\n      <td>73.43 g</td>\n    </tr>\n  </tbody>\n</table>\n<p>7199 rows × 75 columns</p>\n</div>"
     },
     "metadata": {},
     "execution_count": 70
    }
   ],
   "source": []
  },
  {
   "cell_type": "code",
   "execution_count": 24,
   "metadata": {},
   "outputs": [
    {
     "output_type": "execute_result",
     "data": {
      "text/plain": [
       "0"
      ]
     },
     "metadata": {},
     "execution_count": 24
    }
   ],
   "source": [
    "nutrition.columns.get_loc('serving_size')"
   ]
  },
  {
   "cell_type": "code",
   "execution_count": 25,
   "metadata": {},
   "outputs": [],
   "source": [
    "nutr_mini = nutrition.sample(n=10)"
   ]
  },
  {
   "cell_type": "code",
   "execution_count": 26,
   "metadata": {},
   "outputs": [
    {
     "output_type": "execute_result",
     "data": {
      "text/plain": [
       "                                                   serving_size  calories  \\\n",
       "name                                                                        \n",
       "Babyfood, toddler, beef and rice, dinner                  100 g        82   \n",
       "Ham, regular (approximately 11% fat), sliced              100 g       163   \n",
       "Tofu, prepared with calcium sulfate, regular, raw         100 g        76   \n",
       "Pork, unheated, separable lean and fat, bone-in...        100 g       176   \n",
       "KEEBLER, Holiday Jingles Cookies                          100 g       470   \n",
       "KEEBLER, Club & Cheddar Sandwich Crackers                 100 g       494   \n",
       "HOUSE FOODS Premium Firm Tofu                             100 g        85   \n",
       "Cranberry juice blend, with added vitamin C and...        100 g        45   \n",
       "Cereals ready-to-eat, with real strawberries, H...        100 g       399   \n",
       "Walrus, raw (Alaska Native), meat                         100 g       199   \n",
       "\n",
       "                                                   total_fat saturated_fat  \\\n",
       "name                                                                         \n",
       "Babyfood, toddler, beef and rice, dinner                2.9g           NaN   \n",
       "Ham, regular (approximately 11% fat), sliced            8.6g          2.9g   \n",
       "Tofu, prepared with calcium sulfate, regular, raw       4.8g          0.7g   \n",
       "Pork, unheated, separable lean and fat, bone-in...      9.4g            3g   \n",
       "KEEBLER, Holiday Jingles Cookies                         17g          5.5g   \n",
       "KEEBLER, Club & Cheddar Sandwich Crackers                24g          6.1g   \n",
       "HOUSE FOODS Premium Firm Tofu                           4.2g          0.7g   \n",
       "Cranberry juice blend, with added vitamin C and...      0.1g           NaN   \n",
       "Cereals ready-to-eat, with real strawberries, H...      4.9g          0.6g   \n",
       "Walrus, raw (Alaska Native), meat                        14g          2.6g   \n",
       "\n",
       "                                                   cholesterol      sodium  \\\n",
       "name                                                                         \n",
       "Babyfood, toddler, beef and rice, dinner                     0    32.00 mg   \n",
       "Ham, regular (approximately 11% fat), sliced              57mg  1143.00 mg   \n",
       "Tofu, prepared with calcium sulfate, regular, raw            0     7.00 mg   \n",
       "Pork, unheated, separable lean and fat, bone-in...        62mg   722.00 mg   \n",
       "KEEBLER, Holiday Jingles Cookies                             0   380.00 mg   \n",
       "KEEBLER, Club & Cheddar Sandwich Crackers                  4mg   756.00 mg   \n",
       "HOUSE FOODS Premium Firm Tofu                                0    33.00 mg   \n",
       "Cranberry juice blend, with added vitamin C and...           0     6.00 mg   \n",
       "Cereals ready-to-eat, with real strawberries, H...           0   410.00 mg   \n",
       "Walrus, raw (Alaska Native), meat                         80mg           0   \n",
       "\n",
       "                                                    choline      folate  \\\n",
       "name                                                                      \n",
       "Babyfood, toddler, beef and rice, dinner                  0    6.00 mcg   \n",
       "Ham, regular (approximately 11% fat), sliced        81.9 mg    7.00 mcg   \n",
       "Tofu, prepared with calcium sulfate, regular, raw   28.8 mg   15.00 mcg   \n",
       "Pork, unheated, separable lean and fat, bone-in...  84.0 mg    1.00 mcg   \n",
       "KEEBLER, Holiday Jingles Cookies                          0   83.00 mcg   \n",
       "KEEBLER, Club & Cheddar Sandwich Crackers                 0  110.00 mcg   \n",
       "HOUSE FOODS Premium Firm Tofu                             0           0   \n",
       "Cranberry juice blend, with added vitamin C and...   1.8 mg   18.00 mcg   \n",
       "Cereals ready-to-eat, with real strawberries, H...        0  323.00 mcg   \n",
       "Walrus, raw (Alaska Native), meat                         0           0   \n",
       "\n",
       "                                                    folic_acid     niacin  \\\n",
       "name                                                                        \n",
       "Babyfood, toddler, beef and rice, dinner              0.00 mcg   1.343 mg   \n",
       "Ham, regular (approximately 11% fat), sliced          0.00 mcg   2.904 mg   \n",
       "Tofu, prepared with calcium sulfate, regular, raw     0.00 mcg   0.195 mg   \n",
       "Pork, unheated, separable lean and fat, bone-in...    0.00 mcg   6.417 mg   \n",
       "KEEBLER, Holiday Jingles Cookies                             0   3.500 mg   \n",
       "KEEBLER, Club & Cheddar Sandwich Crackers                    0   3.600 mg   \n",
       "HOUSE FOODS Premium Firm Tofu                                0          0   \n",
       "Cranberry juice blend, with added vitamin C and...    0.00 mcg   0.094 mg   \n",
       "Cereals ready-to-eat, with real strawberries, H...  304.00 mcg  16.100 mg   \n",
       "Walrus, raw (Alaska Native), meat                            0   4.800 mg   \n",
       "\n",
       "                                                    ...      fat  \\\n",
       "name                                                ...            \n",
       "Babyfood, toddler, beef and rice, dinner            ...   2.90 g   \n",
       "Ham, regular (approximately 11% fat), sliced        ...   8.60 g   \n",
       "Tofu, prepared with calcium sulfate, regular, raw   ...   4.78 g   \n",
       "Pork, unheated, separable lean and fat, bone-in...  ...   9.38 g   \n",
       "KEEBLER, Holiday Jingles Cookies                    ...  17.40 g   \n",
       "KEEBLER, Club & Cheddar Sandwich Crackers           ...  24.00 g   \n",
       "HOUSE FOODS Premium Firm Tofu                       ...   4.19 g   \n",
       "Cranberry juice blend, with added vitamin C and...  ...   0.12 g   \n",
       "Cereals ready-to-eat, with real strawberries, H...  ...   4.90 g   \n",
       "Walrus, raw (Alaska Native), meat                   ...  13.60 g   \n",
       "\n",
       "                                                   saturated_fatty_acids  \\\n",
       "name                                                                       \n",
       "Babyfood, toddler, beef and rice, dinner                               0   \n",
       "Ham, regular (approximately 11% fat), sliced                     2.936 g   \n",
       "Tofu, prepared with calcium sulfate, regular, raw                0.691 g   \n",
       "Pork, unheated, separable lean and fat, bone-in...               3.008 g   \n",
       "KEEBLER, Holiday Jingles Cookies                                 5.500 g   \n",
       "KEEBLER, Club & Cheddar Sandwich Crackers                        6.100 g   \n",
       "HOUSE FOODS Premium Firm Tofu                                    0.710 g   \n",
       "Cranberry juice blend, with added vitamin C and...               0.002 g   \n",
       "Cereals ready-to-eat, with real strawberries, H...               0.600 g   \n",
       "Walrus, raw (Alaska Native), meat                                2.570 g   \n",
       "\n",
       "                                                   monounsaturated_fatty_acids  \\\n",
       "name                                                                             \n",
       "Babyfood, toddler, beef and rice, dinner                                     0   \n",
       "Ham, regular (approximately 11% fat), sliced                           4.354 g   \n",
       "Tofu, prepared with calcium sulfate, regular, raw                      1.056 g   \n",
       "Pork, unheated, separable lean and fat, bone-in...                     3.966 g   \n",
       "KEEBLER, Holiday Jingles Cookies                                       3.800 g   \n",
       "KEEBLER, Club & Cheddar Sandwich Crackers                              5.000 g   \n",
       "HOUSE FOODS Premium Firm Tofu                                          0.970 g   \n",
       "Cranberry juice blend, with added vitamin C and...                     0.002 g   \n",
       "Cereals ready-to-eat, with real strawberries, H...                     2.500 g   \n",
       "Walrus, raw (Alaska Native), meat                                      8.420 g   \n",
       "\n",
       "                                                   polyunsaturated_fatty_acids  \\\n",
       "name                                                                             \n",
       "Babyfood, toddler, beef and rice, dinner                                     0   \n",
       "Ham, regular (approximately 11% fat), sliced                           0.789 g   \n",
       "Tofu, prepared with calcium sulfate, regular, raw                      2.699 g   \n",
       "Pork, unheated, separable lean and fat, bone-in...                     1.356 g   \n",
       "KEEBLER, Holiday Jingles Cookies                                       6.200 g   \n",
       "KEEBLER, Club & Cheddar Sandwich Crackers                             11.100 g   \n",
       "HOUSE FOODS Premium Firm Tofu                                          2.510 g   \n",
       "Cranberry juice blend, with added vitamin C and...                     0.002 g   \n",
       "Cereals ready-to-eat, with real strawberries, H...                     1.500 g   \n",
       "Walrus, raw (Alaska Native), meat                                      2.600 g   \n",
       "\n",
       "                                                   fatty_acids_total_trans  \\\n",
       "name                                                                         \n",
       "Babyfood, toddler, beef and rice, dinner                                 0   \n",
       "Ham, regular (approximately 11% fat), sliced                      57.00 mg   \n",
       "Tofu, prepared with calcium sulfate, regular, raw                  0.00 mg   \n",
       "Pork, unheated, separable lean and fat, bone-in...                62.00 mg   \n",
       "KEEBLER, Holiday Jingles Cookies                                   0.00 mg   \n",
       "KEEBLER, Club & Cheddar Sandwich Crackers                          4.00 mg   \n",
       "HOUSE FOODS Premium Firm Tofu                                      0.00 mg   \n",
       "Cranberry juice blend, with added vitamin C and...                 0.00 mg   \n",
       "Cereals ready-to-eat, with real strawberries, H...                 0.00 mg   \n",
       "Walrus, raw (Alaska Native), meat                                 80.00 mg   \n",
       "\n",
       "                                                   alcohol     ash caffeine  \\\n",
       "name                                                                          \n",
       "Babyfood, toddler, beef and rice, dinner                 0  1.40 g        0   \n",
       "Ham, regular (approximately 11% fat), sliced         0.0 g  3.70 g  0.00 mg   \n",
       "Tofu, prepared with calcium sulfate, regular, raw    0.0 g  0.72 g  0.00 mg   \n",
       "Pork, unheated, separable lean and fat, bone-in...   0.0 g  2.65 g  0.00 mg   \n",
       "KEEBLER, Holiday Jingles Cookies                         0       0        0   \n",
       "KEEBLER, Club & Cheddar Sandwich Crackers                0       0        0   \n",
       "HOUSE FOODS Premium Firm Tofu                            0  1.05 g        0   \n",
       "Cranberry juice blend, with added vitamin C and...   0.0 g  0.10 g  0.00 mg   \n",
       "Cereals ready-to-eat, with real strawberries, H...       0  2.20 g        0   \n",
       "Walrus, raw (Alaska Native), meat                        0  2.10 g        0   \n",
       "\n",
       "                                                   theobromine    water  \n",
       "name                                                                     \n",
       "Babyfood, toddler, beef and rice, dinner                     0  81.90 g  \n",
       "Ham, regular (approximately 11% fat), sliced           0.00 mg  67.27 g  \n",
       "Tofu, prepared with calcium sulfate, regular, raw      0.00 mg  84.55 g  \n",
       "Pork, unheated, separable lean and fat, bone-in...     0.00 mg  65.19 g  \n",
       "KEEBLER, Holiday Jingles Cookies                             0   3.00 g  \n",
       "KEEBLER, Club & Cheddar Sandwich Crackers                    0   2.70 g  \n",
       "HOUSE FOODS Premium Firm Tofu                                0  82.87 g  \n",
       "Cranberry juice blend, with added vitamin C and...     0.00 mg  88.60 g  \n",
       "Cereals ready-to-eat, with real strawberries, H...           0   2.90 g  \n",
       "Walrus, raw (Alaska Native), meat                            0  65.10 g  \n",
       "\n",
       "[10 rows x 75 columns]"
      ],
      "text/html": "<div>\n<style scoped>\n    .dataframe tbody tr th:only-of-type {\n        vertical-align: middle;\n    }\n\n    .dataframe tbody tr th {\n        vertical-align: top;\n    }\n\n    .dataframe thead th {\n        text-align: right;\n    }\n</style>\n<table border=\"1\" class=\"dataframe\">\n  <thead>\n    <tr style=\"text-align: right;\">\n      <th></th>\n      <th>serving_size</th>\n      <th>calories</th>\n      <th>total_fat</th>\n      <th>saturated_fat</th>\n      <th>cholesterol</th>\n      <th>sodium</th>\n      <th>choline</th>\n      <th>folate</th>\n      <th>folic_acid</th>\n      <th>niacin</th>\n      <th>...</th>\n      <th>fat</th>\n      <th>saturated_fatty_acids</th>\n      <th>monounsaturated_fatty_acids</th>\n      <th>polyunsaturated_fatty_acids</th>\n      <th>fatty_acids_total_trans</th>\n      <th>alcohol</th>\n      <th>ash</th>\n      <th>caffeine</th>\n      <th>theobromine</th>\n      <th>water</th>\n    </tr>\n    <tr>\n      <th>name</th>\n      <th></th>\n      <th></th>\n      <th></th>\n      <th></th>\n      <th></th>\n      <th></th>\n      <th></th>\n      <th></th>\n      <th></th>\n      <th></th>\n      <th></th>\n      <th></th>\n      <th></th>\n      <th></th>\n      <th></th>\n      <th></th>\n      <th></th>\n      <th></th>\n      <th></th>\n      <th></th>\n      <th></th>\n    </tr>\n  </thead>\n  <tbody>\n    <tr>\n      <th>Babyfood, toddler, beef and rice, dinner</th>\n      <td>100 g</td>\n      <td>82</td>\n      <td>2.9g</td>\n      <td>NaN</td>\n      <td>0</td>\n      <td>32.00 mg</td>\n      <td>0</td>\n      <td>6.00 mcg</td>\n      <td>0.00 mcg</td>\n      <td>1.343 mg</td>\n      <td>...</td>\n      <td>2.90 g</td>\n      <td>0</td>\n      <td>0</td>\n      <td>0</td>\n      <td>0</td>\n      <td>0</td>\n      <td>1.40 g</td>\n      <td>0</td>\n      <td>0</td>\n      <td>81.90 g</td>\n    </tr>\n    <tr>\n      <th>Ham, regular (approximately 11% fat), sliced</th>\n      <td>100 g</td>\n      <td>163</td>\n      <td>8.6g</td>\n      <td>2.9g</td>\n      <td>57mg</td>\n      <td>1143.00 mg</td>\n      <td>81.9 mg</td>\n      <td>7.00 mcg</td>\n      <td>0.00 mcg</td>\n      <td>2.904 mg</td>\n      <td>...</td>\n      <td>8.60 g</td>\n      <td>2.936 g</td>\n      <td>4.354 g</td>\n      <td>0.789 g</td>\n      <td>57.00 mg</td>\n      <td>0.0 g</td>\n      <td>3.70 g</td>\n      <td>0.00 mg</td>\n      <td>0.00 mg</td>\n      <td>67.27 g</td>\n    </tr>\n    <tr>\n      <th>Tofu, prepared with calcium sulfate, regular, raw</th>\n      <td>100 g</td>\n      <td>76</td>\n      <td>4.8g</td>\n      <td>0.7g</td>\n      <td>0</td>\n      <td>7.00 mg</td>\n      <td>28.8 mg</td>\n      <td>15.00 mcg</td>\n      <td>0.00 mcg</td>\n      <td>0.195 mg</td>\n      <td>...</td>\n      <td>4.78 g</td>\n      <td>0.691 g</td>\n      <td>1.056 g</td>\n      <td>2.699 g</td>\n      <td>0.00 mg</td>\n      <td>0.0 g</td>\n      <td>0.72 g</td>\n      <td>0.00 mg</td>\n      <td>0.00 mg</td>\n      <td>84.55 g</td>\n    </tr>\n    <tr>\n      <th>Pork, unheated, separable lean and fat, bone-in, rump, ham, cured</th>\n      <td>100 g</td>\n      <td>176</td>\n      <td>9.4g</td>\n      <td>3g</td>\n      <td>62mg</td>\n      <td>722.00 mg</td>\n      <td>84.0 mg</td>\n      <td>1.00 mcg</td>\n      <td>0.00 mcg</td>\n      <td>6.417 mg</td>\n      <td>...</td>\n      <td>9.38 g</td>\n      <td>3.008 g</td>\n      <td>3.966 g</td>\n      <td>1.356 g</td>\n      <td>62.00 mg</td>\n      <td>0.0 g</td>\n      <td>2.65 g</td>\n      <td>0.00 mg</td>\n      <td>0.00 mg</td>\n      <td>65.19 g</td>\n    </tr>\n    <tr>\n      <th>KEEBLER, Holiday Jingles Cookies</th>\n      <td>100 g</td>\n      <td>470</td>\n      <td>17g</td>\n      <td>5.5g</td>\n      <td>0</td>\n      <td>380.00 mg</td>\n      <td>0</td>\n      <td>83.00 mcg</td>\n      <td>0</td>\n      <td>3.500 mg</td>\n      <td>...</td>\n      <td>17.40 g</td>\n      <td>5.500 g</td>\n      <td>3.800 g</td>\n      <td>6.200 g</td>\n      <td>0.00 mg</td>\n      <td>0</td>\n      <td>0</td>\n      <td>0</td>\n      <td>0</td>\n      <td>3.00 g</td>\n    </tr>\n    <tr>\n      <th>KEEBLER, Club &amp; Cheddar Sandwich Crackers</th>\n      <td>100 g</td>\n      <td>494</td>\n      <td>24g</td>\n      <td>6.1g</td>\n      <td>4mg</td>\n      <td>756.00 mg</td>\n      <td>0</td>\n      <td>110.00 mcg</td>\n      <td>0</td>\n      <td>3.600 mg</td>\n      <td>...</td>\n      <td>24.00 g</td>\n      <td>6.100 g</td>\n      <td>5.000 g</td>\n      <td>11.100 g</td>\n      <td>4.00 mg</td>\n      <td>0</td>\n      <td>0</td>\n      <td>0</td>\n      <td>0</td>\n      <td>2.70 g</td>\n    </tr>\n    <tr>\n      <th>HOUSE FOODS Premium Firm Tofu</th>\n      <td>100 g</td>\n      <td>85</td>\n      <td>4.2g</td>\n      <td>0.7g</td>\n      <td>0</td>\n      <td>33.00 mg</td>\n      <td>0</td>\n      <td>0</td>\n      <td>0</td>\n      <td>0</td>\n      <td>...</td>\n      <td>4.19 g</td>\n      <td>0.710 g</td>\n      <td>0.970 g</td>\n      <td>2.510 g</td>\n      <td>0.00 mg</td>\n      <td>0</td>\n      <td>1.05 g</td>\n      <td>0</td>\n      <td>0</td>\n      <td>82.87 g</td>\n    </tr>\n    <tr>\n      <th>Cranberry juice blend, with added vitamin C and calcium, bottled, 100% juice</th>\n      <td>100 g</td>\n      <td>45</td>\n      <td>0.1g</td>\n      <td>NaN</td>\n      <td>0</td>\n      <td>6.00 mg</td>\n      <td>1.8 mg</td>\n      <td>18.00 mcg</td>\n      <td>0.00 mcg</td>\n      <td>0.094 mg</td>\n      <td>...</td>\n      <td>0.12 g</td>\n      <td>0.002 g</td>\n      <td>0.002 g</td>\n      <td>0.002 g</td>\n      <td>0.00 mg</td>\n      <td>0.0 g</td>\n      <td>0.10 g</td>\n      <td>0.00 mg</td>\n      <td>0.00 mg</td>\n      <td>88.60 g</td>\n    </tr>\n    <tr>\n      <th>Cereals ready-to-eat, with real strawberries, HONEY BUNCHES OF OATS, POST</th>\n      <td>100 g</td>\n      <td>399</td>\n      <td>4.9g</td>\n      <td>0.6g</td>\n      <td>0</td>\n      <td>410.00 mg</td>\n      <td>0</td>\n      <td>323.00 mcg</td>\n      <td>304.00 mcg</td>\n      <td>16.100 mg</td>\n      <td>...</td>\n      <td>4.90 g</td>\n      <td>0.600 g</td>\n      <td>2.500 g</td>\n      <td>1.500 g</td>\n      <td>0.00 mg</td>\n      <td>0</td>\n      <td>2.20 g</td>\n      <td>0</td>\n      <td>0</td>\n      <td>2.90 g</td>\n    </tr>\n    <tr>\n      <th>Walrus, raw (Alaska Native), meat</th>\n      <td>100 g</td>\n      <td>199</td>\n      <td>14g</td>\n      <td>2.6g</td>\n      <td>80mg</td>\n      <td>0</td>\n      <td>0</td>\n      <td>0</td>\n      <td>0</td>\n      <td>4.800 mg</td>\n      <td>...</td>\n      <td>13.60 g</td>\n      <td>2.570 g</td>\n      <td>8.420 g</td>\n      <td>2.600 g</td>\n      <td>80.00 mg</td>\n      <td>0</td>\n      <td>2.10 g</td>\n      <td>0</td>\n      <td>0</td>\n      <td>65.10 g</td>\n    </tr>\n  </tbody>\n</table>\n<p>10 rows × 75 columns</p>\n</div>"
     },
     "metadata": {},
     "execution_count": 26
    }
   ],
   "source": [
    "nutr_mini"
   ]
  },
  {
   "cell_type": "code",
   "execution_count": 27,
   "metadata": {},
   "outputs": [
    {
     "output_type": "execute_result",
     "data": {
      "text/plain": [
       "                                                   total_fat cholesterol\n",
       "name                                                                    \n",
       "Babyfood, toddler, beef and rice, dinner                2.9g           0\n",
       "Ham, regular (approximately 11% fat), sliced            8.6g        57mg\n",
       "Tofu, prepared with calcium sulfate, regular, raw       4.8g           0\n",
       "Pork, unheated, separable lean and fat, bone-in...      9.4g        62mg\n",
       "KEEBLER, Holiday Jingles Cookies                         17g           0\n",
       "KEEBLER, Club & Cheddar Sandwich Crackers                24g         4mg\n",
       "HOUSE FOODS Premium Firm Tofu                           4.2g           0\n",
       "Cranberry juice blend, with added vitamin C and...      0.1g           0\n",
       "Cereals ready-to-eat, with real strawberries, H...      4.9g           0\n",
       "Walrus, raw (Alaska Native), meat                        14g        80mg"
      ],
      "text/html": "<div>\n<style scoped>\n    .dataframe tbody tr th:only-of-type {\n        vertical-align: middle;\n    }\n\n    .dataframe tbody tr th {\n        vertical-align: top;\n    }\n\n    .dataframe thead th {\n        text-align: right;\n    }\n</style>\n<table border=\"1\" class=\"dataframe\">\n  <thead>\n    <tr style=\"text-align: right;\">\n      <th></th>\n      <th>total_fat</th>\n      <th>cholesterol</th>\n    </tr>\n    <tr>\n      <th>name</th>\n      <th></th>\n      <th></th>\n    </tr>\n  </thead>\n  <tbody>\n    <tr>\n      <th>Babyfood, toddler, beef and rice, dinner</th>\n      <td>2.9g</td>\n      <td>0</td>\n    </tr>\n    <tr>\n      <th>Ham, regular (approximately 11% fat), sliced</th>\n      <td>8.6g</td>\n      <td>57mg</td>\n    </tr>\n    <tr>\n      <th>Tofu, prepared with calcium sulfate, regular, raw</th>\n      <td>4.8g</td>\n      <td>0</td>\n    </tr>\n    <tr>\n      <th>Pork, unheated, separable lean and fat, bone-in, rump, ham, cured</th>\n      <td>9.4g</td>\n      <td>62mg</td>\n    </tr>\n    <tr>\n      <th>KEEBLER, Holiday Jingles Cookies</th>\n      <td>17g</td>\n      <td>0</td>\n    </tr>\n    <tr>\n      <th>KEEBLER, Club &amp; Cheddar Sandwich Crackers</th>\n      <td>24g</td>\n      <td>4mg</td>\n    </tr>\n    <tr>\n      <th>HOUSE FOODS Premium Firm Tofu</th>\n      <td>4.2g</td>\n      <td>0</td>\n    </tr>\n    <tr>\n      <th>Cranberry juice blend, with added vitamin C and calcium, bottled, 100% juice</th>\n      <td>0.1g</td>\n      <td>0</td>\n    </tr>\n    <tr>\n      <th>Cereals ready-to-eat, with real strawberries, HONEY BUNCHES OF OATS, POST</th>\n      <td>4.9g</td>\n      <td>0</td>\n    </tr>\n    <tr>\n      <th>Walrus, raw (Alaska Native), meat</th>\n      <td>14g</td>\n      <td>80mg</td>\n    </tr>\n  </tbody>\n</table>\n</div>"
     },
     "metadata": {},
     "execution_count": 27
    }
   ],
   "source": [
    "nutr_mini.loc[:, ['total_fat', 'cholesterol']]"
   ]
  },
  {
   "cell_type": "code",
   "execution_count": 28,
   "metadata": {},
   "outputs": [
    {
     "output_type": "execute_result",
     "data": {
      "text/plain": [
       "                                                  vitamin_b12 vitamin_b6  \\\n",
       "name                                                                       \n",
       "Babyfood, toddler, beef and rice, dinner             0.51 mcg   0.139 mg   \n",
       "Ham, regular (approximately 11% fat), sliced         0.42 mcg   0.329 mg   \n",
       "Tofu, prepared with calcium sulfate, regular, raw    0.00 mcg   0.047 mg   \n",
       "\n",
       "                                                  vitamin_c vitamin_d  \\\n",
       "name                                                                    \n",
       "Babyfood, toddler, beef and rice, dinner             3.9 mg         0   \n",
       "Ham, regular (approximately 11% fat), sliced         4.0 mg  29.00 IU   \n",
       "Tofu, prepared with calcium sulfate, regular, raw    0.1 mg   0.00 IU   \n",
       "\n",
       "                                                  vitamin_e tocopherol_alpha  \\\n",
       "name                                                                           \n",
       "Babyfood, toddler, beef and rice, dinner                  0                0   \n",
       "Ham, regular (approximately 11% fat), sliced        0.08 mg          0.08 mg   \n",
       "Tofu, prepared with calcium sulfate, regular, raw   0.01 mg          0.01 mg   \n",
       "\n",
       "                                                  vitamin_k    calcium  \\\n",
       "name                                                                     \n",
       "Babyfood, toddler, beef and rice, dinner                  0   11.00 mg   \n",
       "Ham, regular (approximately 11% fat), sliced        0.0 mcg   24.00 mg   \n",
       "Tofu, prepared with calcium sulfate, regular, raw   2.4 mcg  350.00 mg   \n",
       "\n",
       "                                                     copper     irom  ...  \\\n",
       "name                                                                  ...   \n",
       "Babyfood, toddler, beef and rice, dinner           0.054 mg  0.69 mg  ...   \n",
       "Ham, regular (approximately 11% fat), sliced       0.089 mg  1.02 mg  ...   \n",
       "Tofu, prepared with calcium sulfate, regular, raw  0.193 mg  5.36 mg  ...   \n",
       "\n",
       "                                                      fat  \\\n",
       "name                                                        \n",
       "Babyfood, toddler, beef and rice, dinner           2.90 g   \n",
       "Ham, regular (approximately 11% fat), sliced       8.60 g   \n",
       "Tofu, prepared with calcium sulfate, regular, raw  4.78 g   \n",
       "\n",
       "                                                  saturated_fatty_acids  \\\n",
       "name                                                                      \n",
       "Babyfood, toddler, beef and rice, dinner                              0   \n",
       "Ham, regular (approximately 11% fat), sliced                    2.936 g   \n",
       "Tofu, prepared with calcium sulfate, regular, raw               0.691 g   \n",
       "\n",
       "                                                  monounsaturated_fatty_acids  \\\n",
       "name                                                                            \n",
       "Babyfood, toddler, beef and rice, dinner                                    0   \n",
       "Ham, regular (approximately 11% fat), sliced                          4.354 g   \n",
       "Tofu, prepared with calcium sulfate, regular, raw                     1.056 g   \n",
       "\n",
       "                                                  polyunsaturated_fatty_acids  \\\n",
       "name                                                                            \n",
       "Babyfood, toddler, beef and rice, dinner                                    0   \n",
       "Ham, regular (approximately 11% fat), sliced                          0.789 g   \n",
       "Tofu, prepared with calcium sulfate, regular, raw                     2.699 g   \n",
       "\n",
       "                                                  fatty_acids_total_trans  \\\n",
       "name                                                                        \n",
       "Babyfood, toddler, beef and rice, dinner                                0   \n",
       "Ham, regular (approximately 11% fat), sliced                     57.00 mg   \n",
       "Tofu, prepared with calcium sulfate, regular, raw                 0.00 mg   \n",
       "\n",
       "                                                  alcohol     ash caffeine  \\\n",
       "name                                                                         \n",
       "Babyfood, toddler, beef and rice, dinner                0  1.40 g        0   \n",
       "Ham, regular (approximately 11% fat), sliced        0.0 g  3.70 g  0.00 mg   \n",
       "Tofu, prepared with calcium sulfate, regular, raw   0.0 g  0.72 g  0.00 mg   \n",
       "\n",
       "                                                  theobromine    water  \n",
       "name                                                                    \n",
       "Babyfood, toddler, beef and rice, dinner                    0  81.90 g  \n",
       "Ham, regular (approximately 11% fat), sliced          0.00 mg  67.27 g  \n",
       "Tofu, prepared with calcium sulfate, regular, raw     0.00 mg  84.55 g  \n",
       "\n",
       "[3 rows x 55 columns]"
      ],
      "text/html": "<div>\n<style scoped>\n    .dataframe tbody tr th:only-of-type {\n        vertical-align: middle;\n    }\n\n    .dataframe tbody tr th {\n        vertical-align: top;\n    }\n\n    .dataframe thead th {\n        text-align: right;\n    }\n</style>\n<table border=\"1\" class=\"dataframe\">\n  <thead>\n    <tr style=\"text-align: right;\">\n      <th></th>\n      <th>vitamin_b12</th>\n      <th>vitamin_b6</th>\n      <th>vitamin_c</th>\n      <th>vitamin_d</th>\n      <th>vitamin_e</th>\n      <th>tocopherol_alpha</th>\n      <th>vitamin_k</th>\n      <th>calcium</th>\n      <th>copper</th>\n      <th>irom</th>\n      <th>...</th>\n      <th>fat</th>\n      <th>saturated_fatty_acids</th>\n      <th>monounsaturated_fatty_acids</th>\n      <th>polyunsaturated_fatty_acids</th>\n      <th>fatty_acids_total_trans</th>\n      <th>alcohol</th>\n      <th>ash</th>\n      <th>caffeine</th>\n      <th>theobromine</th>\n      <th>water</th>\n    </tr>\n    <tr>\n      <th>name</th>\n      <th></th>\n      <th></th>\n      <th></th>\n      <th></th>\n      <th></th>\n      <th></th>\n      <th></th>\n      <th></th>\n      <th></th>\n      <th></th>\n      <th></th>\n      <th></th>\n      <th></th>\n      <th></th>\n      <th></th>\n      <th></th>\n      <th></th>\n      <th></th>\n      <th></th>\n      <th></th>\n      <th></th>\n    </tr>\n  </thead>\n  <tbody>\n    <tr>\n      <th>Babyfood, toddler, beef and rice, dinner</th>\n      <td>0.51 mcg</td>\n      <td>0.139 mg</td>\n      <td>3.9 mg</td>\n      <td>0</td>\n      <td>0</td>\n      <td>0</td>\n      <td>0</td>\n      <td>11.00 mg</td>\n      <td>0.054 mg</td>\n      <td>0.69 mg</td>\n      <td>...</td>\n      <td>2.90 g</td>\n      <td>0</td>\n      <td>0</td>\n      <td>0</td>\n      <td>0</td>\n      <td>0</td>\n      <td>1.40 g</td>\n      <td>0</td>\n      <td>0</td>\n      <td>81.90 g</td>\n    </tr>\n    <tr>\n      <th>Ham, regular (approximately 11% fat), sliced</th>\n      <td>0.42 mcg</td>\n      <td>0.329 mg</td>\n      <td>4.0 mg</td>\n      <td>29.00 IU</td>\n      <td>0.08 mg</td>\n      <td>0.08 mg</td>\n      <td>0.0 mcg</td>\n      <td>24.00 mg</td>\n      <td>0.089 mg</td>\n      <td>1.02 mg</td>\n      <td>...</td>\n      <td>8.60 g</td>\n      <td>2.936 g</td>\n      <td>4.354 g</td>\n      <td>0.789 g</td>\n      <td>57.00 mg</td>\n      <td>0.0 g</td>\n      <td>3.70 g</td>\n      <td>0.00 mg</td>\n      <td>0.00 mg</td>\n      <td>67.27 g</td>\n    </tr>\n    <tr>\n      <th>Tofu, prepared with calcium sulfate, regular, raw</th>\n      <td>0.00 mcg</td>\n      <td>0.047 mg</td>\n      <td>0.1 mg</td>\n      <td>0.00 IU</td>\n      <td>0.01 mg</td>\n      <td>0.01 mg</td>\n      <td>2.4 mcg</td>\n      <td>350.00 mg</td>\n      <td>0.193 mg</td>\n      <td>5.36 mg</td>\n      <td>...</td>\n      <td>4.78 g</td>\n      <td>0.691 g</td>\n      <td>1.056 g</td>\n      <td>2.699 g</td>\n      <td>0.00 mg</td>\n      <td>0.0 g</td>\n      <td>0.72 g</td>\n      <td>0.00 mg</td>\n      <td>0.00 mg</td>\n      <td>84.55 g</td>\n    </tr>\n  </tbody>\n</table>\n<p>3 rows × 55 columns</p>\n</div>"
     },
     "metadata": {},
     "execution_count": 28
    }
   ],
   "source": [
    "nutr_mini.loc[nutr_mini.index[0:3], 'vitamin_b12':]"
   ]
  },
  {
   "cell_type": "code",
   "execution_count": 29,
   "metadata": {},
   "outputs": [
    {
     "output_type": "execute_result",
     "data": {
      "text/plain": [
       "Index(['Babyfood, toddler, beef and rice, dinner',\n",
       "       'Ham, regular (approximately 11% fat), sliced',\n",
       "       'Tofu, prepared with calcium sulfate, regular, raw',\n",
       "       'Pork, unheated, separable lean and fat, bone-in, rump, ham, cured',\n",
       "       'KEEBLER, Holiday Jingles Cookies',\n",
       "       'KEEBLER, Club & Cheddar Sandwich Crackers',\n",
       "       'HOUSE FOODS Premium Firm Tofu',\n",
       "       'Cranberry juice blend, with added vitamin C and calcium, bottled, 100% juice',\n",
       "       'Cereals ready-to-eat, with real strawberries, HONEY BUNCHES OF OATS, POST',\n",
       "       'Walrus, raw (Alaska Native), meat'],\n",
       "      dtype='object', name='name')"
      ]
     },
     "metadata": {},
     "execution_count": 29
    }
   ],
   "source": [
    "nutr_mini.index"
   ]
  },
  {
   "cell_type": "code",
   "execution_count": 30,
   "metadata": {},
   "outputs": [
    {
     "output_type": "execute_result",
     "data": {
      "text/plain": [
       "name\n",
       "Cornstarch         0.1g\n",
       "Nuts, pecans        72g\n",
       "Eggplant, raw      0.2g\n",
       "Teff, uncooked     2.4g\n",
       "Sherbet, orange      2g\n",
       "Name: total_fat, dtype: object"
      ]
     },
     "metadata": {},
     "execution_count": 30
    }
   ],
   "source": [
    "nutrition.total_fat.head()"
   ]
  },
  {
   "cell_type": "code",
   "execution_count": 31,
   "metadata": {},
   "outputs": [],
   "source": [
    "df = pd.DataFrame({\n",
    "    'age': [12, 13, 14, 16],\n",
    "    'weight': [41.1, 34.5, 83.2, 90.1],\n",
    "    'height': ['1.72', '1.74', '1.91', '1.54']\n",
    "})"
   ]
  },
  {
   "cell_type": "code",
   "execution_count": 32,
   "metadata": {},
   "outputs": [
    {
     "output_type": "execute_result",
     "data": {
      "text/plain": [
       "    age  weight  height\n",
       "0  12.0    41.1    1.72\n",
       "1  13.0    34.5    1.74\n",
       "2  14.0    83.2    1.91\n",
       "3  16.0    90.1    1.54"
      ],
      "text/html": "<div>\n<style scoped>\n    .dataframe tbody tr th:only-of-type {\n        vertical-align: middle;\n    }\n\n    .dataframe tbody tr th {\n        vertical-align: top;\n    }\n\n    .dataframe thead th {\n        text-align: right;\n    }\n</style>\n<table border=\"1\" class=\"dataframe\">\n  <thead>\n    <tr style=\"text-align: right;\">\n      <th></th>\n      <th>age</th>\n      <th>weight</th>\n      <th>height</th>\n    </tr>\n  </thead>\n  <tbody>\n    <tr>\n      <th>0</th>\n      <td>12.0</td>\n      <td>41.1</td>\n      <td>1.72</td>\n    </tr>\n    <tr>\n      <th>1</th>\n      <td>13.0</td>\n      <td>34.5</td>\n      <td>1.74</td>\n    </tr>\n    <tr>\n      <th>2</th>\n      <td>14.0</td>\n      <td>83.2</td>\n      <td>1.91</td>\n    </tr>\n    <tr>\n      <th>3</th>\n      <td>16.0</td>\n      <td>90.1</td>\n      <td>1.54</td>\n    </tr>\n  </tbody>\n</table>\n</div>"
     },
     "metadata": {},
     "execution_count": 32
    }
   ],
   "source": [
    "df.astype(float)"
   ]
  },
  {
   "cell_type": "code",
   "execution_count": 33,
   "metadata": {},
   "outputs": [],
   "source": [
    "dfm = pd.DataFrame({\n",
    "  'name': ['Cornstarch', 'Nuts, pecans', 'Eggplant, raw'],\n",
    "  'serving_size': ['100 g', '230 g', '25 g']\n",
    "})"
   ]
  },
  {
   "cell_type": "code",
   "execution_count": 34,
   "metadata": {},
   "outputs": [],
   "source": [
    "dfm = dfm.set_index('name')"
   ]
  },
  {
   "cell_type": "code",
   "execution_count": 35,
   "metadata": {},
   "outputs": [
    {
     "output_type": "execute_result",
     "data": {
      "text/plain": [
       "               serving_size\n",
       "name                       \n",
       "Cornstarch              100\n",
       "Nuts, pecans            230\n",
       "Eggplant, raw            25"
      ],
      "text/html": "<div>\n<style scoped>\n    .dataframe tbody tr th:only-of-type {\n        vertical-align: middle;\n    }\n\n    .dataframe tbody tr th {\n        vertical-align: top;\n    }\n\n    .dataframe thead th {\n        text-align: right;\n    }\n</style>\n<table border=\"1\" class=\"dataframe\">\n  <thead>\n    <tr style=\"text-align: right;\">\n      <th></th>\n      <th>serving_size</th>\n    </tr>\n    <tr>\n      <th>name</th>\n      <th></th>\n    </tr>\n  </thead>\n  <tbody>\n    <tr>\n      <th>Cornstarch</th>\n      <td>100</td>\n    </tr>\n    <tr>\n      <th>Nuts, pecans</th>\n      <td>230</td>\n    </tr>\n    <tr>\n      <th>Eggplant, raw</th>\n      <td>25</td>\n    </tr>\n  </tbody>\n</table>\n</div>"
     },
     "metadata": {},
     "execution_count": 35
    }
   ],
   "source": [
    "dfm.replace('\\sg', '', regex=True).astype(int)"
   ]
  },
  {
   "cell_type": "code",
   "execution_count": 36,
   "metadata": {},
   "outputs": [],
   "source": [
    "dfm1 = nutrition.iloc[:3, :1]"
   ]
  },
  {
   "cell_type": "code",
   "execution_count": 37,
   "metadata": {},
   "outputs": [
    {
     "output_type": "execute_result",
     "data": {
      "text/plain": [
       "               serving_size\n",
       "name                       \n",
       "Cornstarch              100\n",
       "Nuts, pecans            100\n",
       "Eggplant, raw           100"
      ],
      "text/html": "<div>\n<style scoped>\n    .dataframe tbody tr th:only-of-type {\n        vertical-align: middle;\n    }\n\n    .dataframe tbody tr th {\n        vertical-align: top;\n    }\n\n    .dataframe thead th {\n        text-align: right;\n    }\n</style>\n<table border=\"1\" class=\"dataframe\">\n  <thead>\n    <tr style=\"text-align: right;\">\n      <th></th>\n      <th>serving_size</th>\n    </tr>\n    <tr>\n      <th>name</th>\n      <th></th>\n    </tr>\n  </thead>\n  <tbody>\n    <tr>\n      <th>Cornstarch</th>\n      <td>100</td>\n    </tr>\n    <tr>\n      <th>Nuts, pecans</th>\n      <td>100</td>\n    </tr>\n    <tr>\n      <th>Eggplant, raw</th>\n      <td>100</td>\n    </tr>\n  </tbody>\n</table>\n</div>"
     },
     "metadata": {},
     "execution_count": 37
    }
   ],
   "source": [
    "dfm1.replace('\\sg', '', regex=True).astype(int)"
   ]
  },
  {
   "cell_type": "code",
   "execution_count": 38,
   "metadata": {},
   "outputs": [
    {
     "output_type": "stream",
     "name": "stdout",
     "text": [
      "<class 'pandas.core.frame.DataFrame'>\nIndex: 3 entries, Cornstarch to Eggplant, raw\nData columns (total 1 columns):\n #   Column        Non-Null Count  Dtype \n---  ------        --------------  ----- \n 0   serving_size  3 non-null      object\ndtypes: object(1)\nmemory usage: 48.0+ bytes\n"
     ]
    }
   ],
   "source": [
    "dfm1.info()"
   ]
  },
  {
   "cell_type": "code",
   "execution_count": 39,
   "metadata": {},
   "outputs": [
    {
     "output_type": "execute_result",
     "data": {
      "text/plain": [
       "                                                   serving_size  calories  \\\n",
       "name                                                                        \n",
       "Cornstarch                                                  100       381   \n",
       "Nuts, pecans                                                100       691   \n",
       "Eggplant, raw                                               100        25   \n",
       "Teff, uncooked                                              100       367   \n",
       "Sherbet, orange                                             100       144   \n",
       "...                                                         ...       ...   \n",
       "Beef, raw, all grades, trimmed to 0\" fat, separ...          100       125   \n",
       "Lamb, cooked, separable lean only, composite of...          100       206   \n",
       "Lamb, raw, separable lean and fat, composite of...          100       277   \n",
       "Beef, raw, all grades, trimmed to 0\" fat, separ...          100       121   \n",
       "Beef, raw, all grades, trimmed to 0\" fat, separ...          100       121   \n",
       "\n",
       "                                                   total_fat saturated_fat  \\\n",
       "name                                                                         \n",
       "Cornstarch                                               0.1           NaN   \n",
       "Nuts, pecans                                              72           6.2   \n",
       "Eggplant, raw                                            0.2           NaN   \n",
       "Teff, uncooked                                           2.4           0.4   \n",
       "Sherbet, orange                                            2           1.2   \n",
       "...                                                      ...           ...   \n",
       "Beef, raw, all grades, trimmed to 0\" fat, separ...       3.5           1.4   \n",
       "Lamb, cooked, separable lean only, composite of...       8.9           3.9   \n",
       "Lamb, raw, separable lean and fat, composite of...        23            12   \n",
       "Beef, raw, all grades, trimmed to 0\" fat, separ...         3           1.1   \n",
       "Beef, raw, all grades, trimmed to 0\" fat, separ...         3           1.1   \n",
       "\n",
       "                                                   cholesterol   sodium  \\\n",
       "name                                                                      \n",
       "Cornstarch                                                   0   9.00 m   \n",
       "Nuts, pecans                                                 0   0.00 m   \n",
       "Eggplant, raw                                                0   2.00 m   \n",
       "Teff, uncooked                                               0  12.00 m   \n",
       "Sherbet, orange                                             1m  46.00 m   \n",
       "...                                                        ...      ...   \n",
       "Beef, raw, all grades, trimmed to 0\" fat, separ...         62m  54.00 m   \n",
       "Lamb, cooked, separable lean only, composite of...        109m  50.00 m   \n",
       "Lamb, raw, separable lean and fat, composite of...         78m  39.00 m   \n",
       "Beef, raw, all grades, trimmed to 0\" fat, separ...         60m  53.00 m   \n",
       "Beef, raw, all grades, trimmed to 0\" fat, separ...         60m  53.00 m   \n",
       "\n",
       "                                                   choline    folate  \\\n",
       "name                                                                   \n",
       "Cornstarch                                           0.4 m   0.00 mc   \n",
       "Nuts, pecans                                        40.5 m  22.00 mc   \n",
       "Eggplant, raw                                        6.9 m  22.00 mc   \n",
       "Teff, uncooked                                      13.1 m         0   \n",
       "Sherbet, orange                                      7.7 m   4.00 mc   \n",
       "...                                                    ...       ...   \n",
       "Beef, raw, all grades, trimmed to 0\" fat, separ...  64.5 m   4.00 mc   \n",
       "Lamb, cooked, separable lean only, composite of...       0   0.00 mc   \n",
       "Lamb, raw, separable lean and fat, composite of...       0   1.00 mc   \n",
       "Beef, raw, all grades, trimmed to 0\" fat, separ...  64.2 m   4.00 mc   \n",
       "Beef, raw, all grades, trimmed to 0\" fat, separ...  64.2 m   4.00 mc   \n",
       "\n",
       "                                                   folic_acid   niacin  ...  \\\n",
       "name                                                                    ...   \n",
       "Cornstarch                                            0.00 mc  0.000 m  ...   \n",
       "Nuts, pecans                                          0.00 mc  1.167 m  ...   \n",
       "Eggplant, raw                                         0.00 mc  0.649 m  ...   \n",
       "Teff, uncooked                                              0  3.363 m  ...   \n",
       "Sherbet, orange                                       0.00 mc  0.063 m  ...   \n",
       "...                                                       ...      ...  ...   \n",
       "Beef, raw, all grades, trimmed to 0\" fat, separ...    0.00 mc  6.422 m  ...   \n",
       "Lamb, cooked, separable lean only, composite of...    0.00 mc  7.680 m  ...   \n",
       "Lamb, raw, separable lean and fat, composite of...    0.00 mc  6.550 m  ...   \n",
       "Beef, raw, all grades, trimmed to 0\" fat, separ...    0.00 mc  6.720 m  ...   \n",
       "Beef, raw, all grades, trimmed to 0\" fat, separ...    0.00 mc  6.720 m  ...   \n",
       "\n",
       "                                                      fat  \\\n",
       "name                                                        \n",
       "Cornstarch                                           0.05   \n",
       "Nuts, pecans                                        71.97   \n",
       "Eggplant, raw                                        0.18   \n",
       "Teff, uncooked                                       2.38   \n",
       "Sherbet, orange                                      2.00   \n",
       "...                                                   ...   \n",
       "Beef, raw, all grades, trimmed to 0\" fat, separ...   3.50   \n",
       "Lamb, cooked, separable lean only, composite of...   8.86   \n",
       "Lamb, raw, separable lean and fat, composite of...  22.74   \n",
       "Beef, raw, all grades, trimmed to 0\" fat, separ...   3.04   \n",
       "Beef, raw, all grades, trimmed to 0\" fat, separ...   3.04   \n",
       "\n",
       "                                                   saturated_fatty_acids  \\\n",
       "name                                                                       \n",
       "Cornstarch                                                         0.009   \n",
       "Nuts, pecans                                                       6.180   \n",
       "Eggplant, raw                                                      0.034   \n",
       "Teff, uncooked                                                     0.449   \n",
       "Sherbet, orange                                                    1.160   \n",
       "...                                                                  ...   \n",
       "Beef, raw, all grades, trimmed to 0\" fat, separ...                 1.353   \n",
       "Lamb, cooked, separable lean only, composite of...                 3.860   \n",
       "Lamb, raw, separable lean and fat, composite of...                11.570   \n",
       "Beef, raw, all grades, trimmed to 0\" fat, separ...                 1.086   \n",
       "Beef, raw, all grades, trimmed to 0\" fat, separ...                 1.086   \n",
       "\n",
       "                                                   monounsaturated_fatty_acids  \\\n",
       "name                                                                             \n",
       "Cornstarch                                                               0.016   \n",
       "Nuts, pecans                                                            40.801   \n",
       "Eggplant, raw                                                            0.016   \n",
       "Teff, uncooked                                                           0.589   \n",
       "Sherbet, orange                                                          0.530   \n",
       "...                                                                        ...   \n",
       "Beef, raw, all grades, trimmed to 0\" fat, separ...                       1.554   \n",
       "Lamb, cooked, separable lean only, composite of...                       3.480   \n",
       "Lamb, raw, separable lean and fat, composite of...                       8.720   \n",
       "Beef, raw, all grades, trimmed to 0\" fat, separ...                       1.266   \n",
       "Beef, raw, all grades, trimmed to 0\" fat, separ...                       1.266   \n",
       "\n",
       "                                                   polyunsaturated_fatty_acids  \\\n",
       "name                                                                             \n",
       "Cornstarch                                                               0.025   \n",
       "Nuts, pecans                                                            21.614   \n",
       "Eggplant, raw                                                            0.076   \n",
       "Teff, uncooked                                                           1.071   \n",
       "Sherbet, orange                                                          0.080   \n",
       "...                                                                        ...   \n",
       "Beef, raw, all grades, trimmed to 0\" fat, separ...                       0.244   \n",
       "Lamb, cooked, separable lean only, composite of...                       0.520   \n",
       "Lamb, raw, separable lean and fat, composite of...                       0.980   \n",
       "Beef, raw, all grades, trimmed to 0\" fat, separ...                       0.233   \n",
       "Beef, raw, all grades, trimmed to 0\" fat, separ...                       0.233   \n",
       "\n",
       "                                                   fatty_acids_total_trans  \\\n",
       "name                                                                         \n",
       "Cornstarch                                                          0.00 m   \n",
       "Nuts, pecans                                                        0.00 m   \n",
       "Eggplant, raw                                                       0.00 m   \n",
       "Teff, uncooked                                                           0   \n",
       "Sherbet, orange                                                     1.00 m   \n",
       "...                                                                    ...   \n",
       "Beef, raw, all grades, trimmed to 0\" fat, separ...                 62.00 m   \n",
       "Lamb, cooked, separable lean only, composite of...                109.00 m   \n",
       "Lamb, raw, separable lean and fat, composite of...                 78.00 m   \n",
       "Beef, raw, all grades, trimmed to 0\" fat, separ...                 60.00 m   \n",
       "Beef, raw, all grades, trimmed to 0\" fat, separ...                 60.00 m   \n",
       "\n",
       "                                                   alcohol   ash caffeine  \\\n",
       "name                                                                        \n",
       "Cornstarch                                             0.0  0.09   0.00 m   \n",
       "Nuts, pecans                                           0.0  1.49   0.00 m   \n",
       "Eggplant, raw                                          0.0  0.66   0.00 m   \n",
       "Teff, uncooked                                           0  2.37        0   \n",
       "Sherbet, orange                                        0.0  0.40   0.00 m   \n",
       "...                                                    ...   ...      ...   \n",
       "Beef, raw, all grades, trimmed to 0\" fat, separ...     0.0  1.11   0.00 m   \n",
       "Lamb, cooked, separable lean only, composite of...       0  1.60        0   \n",
       "Lamb, raw, separable lean and fat, composite of...       0  0.92        0   \n",
       "Beef, raw, all grades, trimmed to 0\" fat, separ...     0.0  1.10   0.00 m   \n",
       "Beef, raw, all grades, trimmed to 0\" fat, separ...     0.0  1.10   0.00 m   \n",
       "\n",
       "                                                   theobromine  water  \n",
       "name                                                                   \n",
       "Cornstarch                                              0.00 m   8.32  \n",
       "Nuts, pecans                                            0.00 m   3.52  \n",
       "Eggplant, raw                                           0.00 m  92.30  \n",
       "Teff, uncooked                                               0   8.82  \n",
       "Sherbet, orange                                         0.00 m  66.10  \n",
       "...                                                        ...    ...  \n",
       "Beef, raw, all grades, trimmed to 0\" fat, separ...      0.00 m  72.51  \n",
       "Lamb, cooked, separable lean only, composite of...           0  59.95  \n",
       "Lamb, raw, separable lean and fat, composite of...           0  59.80  \n",
       "Beef, raw, all grades, trimmed to 0\" fat, separ...      0.00 m  73.43  \n",
       "Beef, raw, all grades, trimmed to 0\" fat, separ...      0.00 m  73.43  \n",
       "\n",
       "[8789 rows x 75 columns]"
      ],
      "text/html": "<div>\n<style scoped>\n    .dataframe tbody tr th:only-of-type {\n        vertical-align: middle;\n    }\n\n    .dataframe tbody tr th {\n        vertical-align: top;\n    }\n\n    .dataframe thead th {\n        text-align: right;\n    }\n</style>\n<table border=\"1\" class=\"dataframe\">\n  <thead>\n    <tr style=\"text-align: right;\">\n      <th></th>\n      <th>serving_size</th>\n      <th>calories</th>\n      <th>total_fat</th>\n      <th>saturated_fat</th>\n      <th>cholesterol</th>\n      <th>sodium</th>\n      <th>choline</th>\n      <th>folate</th>\n      <th>folic_acid</th>\n      <th>niacin</th>\n      <th>...</th>\n      <th>fat</th>\n      <th>saturated_fatty_acids</th>\n      <th>monounsaturated_fatty_acids</th>\n      <th>polyunsaturated_fatty_acids</th>\n      <th>fatty_acids_total_trans</th>\n      <th>alcohol</th>\n      <th>ash</th>\n      <th>caffeine</th>\n      <th>theobromine</th>\n      <th>water</th>\n    </tr>\n    <tr>\n      <th>name</th>\n      <th></th>\n      <th></th>\n      <th></th>\n      <th></th>\n      <th></th>\n      <th></th>\n      <th></th>\n      <th></th>\n      <th></th>\n      <th></th>\n      <th></th>\n      <th></th>\n      <th></th>\n      <th></th>\n      <th></th>\n      <th></th>\n      <th></th>\n      <th></th>\n      <th></th>\n      <th></th>\n      <th></th>\n    </tr>\n  </thead>\n  <tbody>\n    <tr>\n      <th>Cornstarch</th>\n      <td>100</td>\n      <td>381</td>\n      <td>0.1</td>\n      <td>NaN</td>\n      <td>0</td>\n      <td>9.00 m</td>\n      <td>0.4 m</td>\n      <td>0.00 mc</td>\n      <td>0.00 mc</td>\n      <td>0.000 m</td>\n      <td>...</td>\n      <td>0.05</td>\n      <td>0.009</td>\n      <td>0.016</td>\n      <td>0.025</td>\n      <td>0.00 m</td>\n      <td>0.0</td>\n      <td>0.09</td>\n      <td>0.00 m</td>\n      <td>0.00 m</td>\n      <td>8.32</td>\n    </tr>\n    <tr>\n      <th>Nuts, pecans</th>\n      <td>100</td>\n      <td>691</td>\n      <td>72</td>\n      <td>6.2</td>\n      <td>0</td>\n      <td>0.00 m</td>\n      <td>40.5 m</td>\n      <td>22.00 mc</td>\n      <td>0.00 mc</td>\n      <td>1.167 m</td>\n      <td>...</td>\n      <td>71.97</td>\n      <td>6.180</td>\n      <td>40.801</td>\n      <td>21.614</td>\n      <td>0.00 m</td>\n      <td>0.0</td>\n      <td>1.49</td>\n      <td>0.00 m</td>\n      <td>0.00 m</td>\n      <td>3.52</td>\n    </tr>\n    <tr>\n      <th>Eggplant, raw</th>\n      <td>100</td>\n      <td>25</td>\n      <td>0.2</td>\n      <td>NaN</td>\n      <td>0</td>\n      <td>2.00 m</td>\n      <td>6.9 m</td>\n      <td>22.00 mc</td>\n      <td>0.00 mc</td>\n      <td>0.649 m</td>\n      <td>...</td>\n      <td>0.18</td>\n      <td>0.034</td>\n      <td>0.016</td>\n      <td>0.076</td>\n      <td>0.00 m</td>\n      <td>0.0</td>\n      <td>0.66</td>\n      <td>0.00 m</td>\n      <td>0.00 m</td>\n      <td>92.30</td>\n    </tr>\n    <tr>\n      <th>Teff, uncooked</th>\n      <td>100</td>\n      <td>367</td>\n      <td>2.4</td>\n      <td>0.4</td>\n      <td>0</td>\n      <td>12.00 m</td>\n      <td>13.1 m</td>\n      <td>0</td>\n      <td>0</td>\n      <td>3.363 m</td>\n      <td>...</td>\n      <td>2.38</td>\n      <td>0.449</td>\n      <td>0.589</td>\n      <td>1.071</td>\n      <td>0</td>\n      <td>0</td>\n      <td>2.37</td>\n      <td>0</td>\n      <td>0</td>\n      <td>8.82</td>\n    </tr>\n    <tr>\n      <th>Sherbet, orange</th>\n      <td>100</td>\n      <td>144</td>\n      <td>2</td>\n      <td>1.2</td>\n      <td>1m</td>\n      <td>46.00 m</td>\n      <td>7.7 m</td>\n      <td>4.00 mc</td>\n      <td>0.00 mc</td>\n      <td>0.063 m</td>\n      <td>...</td>\n      <td>2.00</td>\n      <td>1.160</td>\n      <td>0.530</td>\n      <td>0.080</td>\n      <td>1.00 m</td>\n      <td>0.0</td>\n      <td>0.40</td>\n      <td>0.00 m</td>\n      <td>0.00 m</td>\n      <td>66.10</td>\n    </tr>\n    <tr>\n      <th>...</th>\n      <td>...</td>\n      <td>...</td>\n      <td>...</td>\n      <td>...</td>\n      <td>...</td>\n      <td>...</td>\n      <td>...</td>\n      <td>...</td>\n      <td>...</td>\n      <td>...</td>\n      <td>...</td>\n      <td>...</td>\n      <td>...</td>\n      <td>...</td>\n      <td>...</td>\n      <td>...</td>\n      <td>...</td>\n      <td>...</td>\n      <td>...</td>\n      <td>...</td>\n      <td>...</td>\n    </tr>\n    <tr>\n      <th>Beef, raw, all grades, trimmed to 0\" fat, separable lean and fat, boneless, top round roast, round</th>\n      <td>100</td>\n      <td>125</td>\n      <td>3.5</td>\n      <td>1.4</td>\n      <td>62m</td>\n      <td>54.00 m</td>\n      <td>64.5 m</td>\n      <td>4.00 mc</td>\n      <td>0.00 mc</td>\n      <td>6.422 m</td>\n      <td>...</td>\n      <td>3.50</td>\n      <td>1.353</td>\n      <td>1.554</td>\n      <td>0.244</td>\n      <td>62.00 m</td>\n      <td>0.0</td>\n      <td>1.11</td>\n      <td>0.00 m</td>\n      <td>0.00 m</td>\n      <td>72.51</td>\n    </tr>\n    <tr>\n      <th>Lamb, cooked, separable lean only, composite of trimmed retail cuts, frozen, imported, New Zealand</th>\n      <td>100</td>\n      <td>206</td>\n      <td>8.9</td>\n      <td>3.9</td>\n      <td>109m</td>\n      <td>50.00 m</td>\n      <td>0</td>\n      <td>0.00 mc</td>\n      <td>0.00 mc</td>\n      <td>7.680 m</td>\n      <td>...</td>\n      <td>8.86</td>\n      <td>3.860</td>\n      <td>3.480</td>\n      <td>0.520</td>\n      <td>109.00 m</td>\n      <td>0</td>\n      <td>1.60</td>\n      <td>0</td>\n      <td>0</td>\n      <td>59.95</td>\n    </tr>\n    <tr>\n      <th>Lamb, raw, separable lean and fat, composite of trimmed retail cuts, frozen, imported, New Zealand</th>\n      <td>100</td>\n      <td>277</td>\n      <td>23</td>\n      <td>12</td>\n      <td>78m</td>\n      <td>39.00 m</td>\n      <td>0</td>\n      <td>1.00 mc</td>\n      <td>0.00 mc</td>\n      <td>6.550 m</td>\n      <td>...</td>\n      <td>22.74</td>\n      <td>11.570</td>\n      <td>8.720</td>\n      <td>0.980</td>\n      <td>78.00 m</td>\n      <td>0</td>\n      <td>0.92</td>\n      <td>0</td>\n      <td>0</td>\n      <td>59.80</td>\n    </tr>\n    <tr>\n      <th>Beef, raw, all grades, trimmed to 0\" fat, separable lean only, boneless, eye of round roast, round</th>\n      <td>100</td>\n      <td>121</td>\n      <td>3</td>\n      <td>1.1</td>\n      <td>60m</td>\n      <td>53.00 m</td>\n      <td>64.2 m</td>\n      <td>4.00 mc</td>\n      <td>0.00 mc</td>\n      <td>6.720 m</td>\n      <td>...</td>\n      <td>3.04</td>\n      <td>1.086</td>\n      <td>1.266</td>\n      <td>0.233</td>\n      <td>60.00 m</td>\n      <td>0.0</td>\n      <td>1.10</td>\n      <td>0.00 m</td>\n      <td>0.00 m</td>\n      <td>73.43</td>\n    </tr>\n    <tr>\n      <th>Beef, raw, all grades, trimmed to 0\" fat, separable lean only, boneless, eye of round steak, round</th>\n      <td>100</td>\n      <td>121</td>\n      <td>3</td>\n      <td>1.1</td>\n      <td>60m</td>\n      <td>53.00 m</td>\n      <td>64.2 m</td>\n      <td>4.00 mc</td>\n      <td>0.00 mc</td>\n      <td>6.720 m</td>\n      <td>...</td>\n      <td>3.04</td>\n      <td>1.086</td>\n      <td>1.266</td>\n      <td>0.233</td>\n      <td>60.00 m</td>\n      <td>0.0</td>\n      <td>1.10</td>\n      <td>0.00 m</td>\n      <td>0.00 m</td>\n      <td>73.43</td>\n    </tr>\n  </tbody>\n</table>\n<p>8789 rows × 75 columns</p>\n</div>"
     },
     "metadata": {},
     "execution_count": 39
    }
   ],
   "source": [
    "nutrition.replace('\\s*g', '', regex=True)"
   ]
  },
  {
   "cell_type": "code",
   "execution_count": 40,
   "metadata": {},
   "outputs": [
    {
     "output_type": "execute_result",
     "data": {
      "text/plain": [
       "   age  weight height\n",
       "0   12    41.1   1.72\n",
       "1   13    34.5   1.74\n",
       "2   14    83.2   1.91\n",
       "3   16    90.1   1.54"
      ],
      "text/html": "<div>\n<style scoped>\n    .dataframe tbody tr th:only-of-type {\n        vertical-align: middle;\n    }\n\n    .dataframe tbody tr th {\n        vertical-align: top;\n    }\n\n    .dataframe thead th {\n        text-align: right;\n    }\n</style>\n<table border=\"1\" class=\"dataframe\">\n  <thead>\n    <tr style=\"text-align: right;\">\n      <th></th>\n      <th>age</th>\n      <th>weight</th>\n      <th>height</th>\n    </tr>\n  </thead>\n  <tbody>\n    <tr>\n      <th>0</th>\n      <td>12</td>\n      <td>41.1</td>\n      <td>1.72</td>\n    </tr>\n    <tr>\n      <th>1</th>\n      <td>13</td>\n      <td>34.5</td>\n      <td>1.74</td>\n    </tr>\n    <tr>\n      <th>2</th>\n      <td>14</td>\n      <td>83.2</td>\n      <td>1.91</td>\n    </tr>\n    <tr>\n      <th>3</th>\n      <td>16</td>\n      <td>90.1</td>\n      <td>1.54</td>\n    </tr>\n  </tbody>\n</table>\n</div>"
     },
     "metadata": {},
     "execution_count": 40
    }
   ],
   "source": [
    "df"
   ]
  },
  {
   "cell_type": "code",
   "execution_count": 43,
   "metadata": {},
   "outputs": [],
   "source": [
    "df.rename(columns={'weight': 'weight(kg)'}, index={0: 'Pikachu'}, inplace=True)"
   ]
  },
  {
   "cell_type": "code",
   "execution_count": 44,
   "metadata": {},
   "outputs": [
    {
     "output_type": "execute_result",
     "data": {
      "text/plain": [
       "         age  weight(kg) height\n",
       "Pikachu   12        41.1   1.72\n",
       "1         13        34.5   1.74\n",
       "2         14        83.2   1.91\n",
       "3         16        90.1   1.54"
      ],
      "text/html": "<div>\n<style scoped>\n    .dataframe tbody tr th:only-of-type {\n        vertical-align: middle;\n    }\n\n    .dataframe tbody tr th {\n        vertical-align: top;\n    }\n\n    .dataframe thead th {\n        text-align: right;\n    }\n</style>\n<table border=\"1\" class=\"dataframe\">\n  <thead>\n    <tr style=\"text-align: right;\">\n      <th></th>\n      <th>age</th>\n      <th>weight(kg)</th>\n      <th>height</th>\n    </tr>\n  </thead>\n  <tbody>\n    <tr>\n      <th>Pikachu</th>\n      <td>12</td>\n      <td>41.1</td>\n      <td>1.72</td>\n    </tr>\n    <tr>\n      <th>1</th>\n      <td>13</td>\n      <td>34.5</td>\n      <td>1.74</td>\n    </tr>\n    <tr>\n      <th>2</th>\n      <td>14</td>\n      <td>83.2</td>\n      <td>1.91</td>\n    </tr>\n    <tr>\n      <th>3</th>\n      <td>16</td>\n      <td>90.1</td>\n      <td>1.54</td>\n    </tr>\n  </tbody>\n</table>\n</div>"
     },
     "metadata": {},
     "execution_count": 44
    }
   ],
   "source": [
    "df"
   ]
  },
  {
   "cell_type": "code",
   "execution_count": 59,
   "metadata": {},
   "outputs": [
    {
     "output_type": "execute_result",
     "data": {
      "text/plain": [
       "                                              total_fat\n",
       "name                                                   \n",
       "Mollusks, raw, common, octopus                       1g\n",
       "Mollusks, moist heat, cooked, common, octopus      2.1g"
      ],
      "text/html": "<div>\n<style scoped>\n    .dataframe tbody tr th:only-of-type {\n        vertical-align: middle;\n    }\n\n    .dataframe tbody tr th {\n        vertical-align: top;\n    }\n\n    .dataframe thead th {\n        text-align: right;\n    }\n</style>\n<table border=\"1\" class=\"dataframe\">\n  <thead>\n    <tr style=\"text-align: right;\">\n      <th></th>\n      <th>total_fat</th>\n    </tr>\n    <tr>\n      <th>name</th>\n      <th></th>\n    </tr>\n  </thead>\n  <tbody>\n    <tr>\n      <th>Mollusks, raw, common, octopus</th>\n      <td>1g</td>\n    </tr>\n    <tr>\n      <th>Mollusks, moist heat, cooked, common, octopus</th>\n      <td>2.1g</td>\n    </tr>\n  </tbody>\n</table>\n</div>"
     },
     "metadata": {},
     "execution_count": 59
    }
   ],
   "source": [
    "nutrition.filter(regex='octopus', axis=0).filter(regex='total_fat', axis=1)"
   ]
  },
  {
   "cell_type": "code",
   "execution_count": null,
   "metadata": {},
   "outputs": [],
   "source": []
  }
 ]
}