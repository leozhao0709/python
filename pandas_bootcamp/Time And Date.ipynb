{
 "metadata": {
  "language_info": {
   "codemirror_mode": {
    "name": "ipython",
    "version": 3
   },
   "file_extension": ".py",
   "mimetype": "text/x-python",
   "name": "python",
   "nbconvert_exporter": "python",
   "pygments_lexer": "ipython3",
   "version": "3.7.6-final"
  },
  "orig_nbformat": 2,
  "kernelspec": {
   "name": "python3",
   "display_name": "Python 3.7.6 64-bit ('base': conda)",
   "metadata": {
    "interpreter": {
     "hash": "e134e05457d34029b6460cd73bbf1ed73f339b5b6d98c95be70b69eba114fe95"
    }
   }
  }
 },
 "nbformat": 4,
 "nbformat_minor": 2,
 "cells": [
  {
   "cell_type": "code",
   "execution_count": 1,
   "metadata": {},
   "outputs": [],
   "source": [
    "import pandas as pd\n",
    "import numpy as np"
   ]
  },
  {
   "cell_type": "code",
   "execution_count": 2,
   "metadata": {},
   "outputs": [
    {
     "output_type": "execute_result",
     "data": {
      "text/plain": [
       "Timestamp('1776-04-07 00:00:00')"
      ]
     },
     "metadata": {},
     "execution_count": 2
    }
   ],
   "source": [
    "pd.Timestamp('4/7/1776') # Month/Day/Year"
   ]
  },
  {
   "cell_type": "code",
   "execution_count": 5,
   "metadata": {},
   "outputs": [],
   "source": [
    "pdts = pd.to_datetime('4/7/1776', dayfirst=True)"
   ]
  },
  {
   "cell_type": "code",
   "execution_count": 6,
   "metadata": {},
   "outputs": [
    {
     "output_type": "execute_result",
     "data": {
      "text/plain": [
       "'Thursday'"
      ]
     },
     "metadata": {},
     "execution_count": 6
    }
   ],
   "source": [
    "pdts.day_name()"
   ]
  },
  {
   "cell_type": "code",
   "execution_count": 7,
   "metadata": {},
   "outputs": [
    {
     "output_type": "execute_result",
     "data": {
      "text/plain": [
       "31"
      ]
     },
     "metadata": {},
     "execution_count": 7
    }
   ],
   "source": [
    "pdts.days_in_month"
   ]
  },
  {
   "cell_type": "code",
   "execution_count": 8,
   "metadata": {},
   "outputs": [
    {
     "output_type": "execute_result",
     "data": {
      "text/plain": [
       "3"
      ]
     },
     "metadata": {},
     "execution_count": 8
    }
   ],
   "source": [
    "pdts.quarter"
   ]
  },
  {
   "cell_type": "code",
   "execution_count": 14,
   "metadata": {},
   "outputs": [],
   "source": [
    "brent = pd.read_csv('BrentOilPrices.csv', index_col='Date', parse_dates=True)"
   ]
  },
  {
   "cell_type": "code",
   "execution_count": 13,
   "metadata": {},
   "outputs": [
    {
     "output_type": "execute_result",
     "data": {
      "text/plain": [
       "           Price\n",
       "Date            \n",
       "04-Jan-00  23.95\n",
       "05-Jan-00  23.72\n",
       "06-Jan-00  23.55\n",
       "07-Jan-00  23.35\n",
       "10-Jan-00  22.77"
      ],
      "text/html": "<div>\n<style scoped>\n    .dataframe tbody tr th:only-of-type {\n        vertical-align: middle;\n    }\n\n    .dataframe tbody tr th {\n        vertical-align: top;\n    }\n\n    .dataframe thead th {\n        text-align: right;\n    }\n</style>\n<table border=\"1\" class=\"dataframe\">\n  <thead>\n    <tr style=\"text-align: right;\">\n      <th></th>\n      <th>Price</th>\n    </tr>\n    <tr>\n      <th>Date</th>\n      <th></th>\n    </tr>\n  </thead>\n  <tbody>\n    <tr>\n      <th>04-Jan-00</th>\n      <td>23.95</td>\n    </tr>\n    <tr>\n      <th>05-Jan-00</th>\n      <td>23.72</td>\n    </tr>\n    <tr>\n      <th>06-Jan-00</th>\n      <td>23.55</td>\n    </tr>\n    <tr>\n      <th>07-Jan-00</th>\n      <td>23.35</td>\n    </tr>\n    <tr>\n      <th>10-Jan-00</th>\n      <td>22.77</td>\n    </tr>\n  </tbody>\n</table>\n</div>"
     },
     "metadata": {},
     "execution_count": 13
    }
   ],
   "source": [
    "brent.head()"
   ]
  },
  {
   "cell_type": "code",
   "execution_count": 15,
   "metadata": {},
   "outputs": [
    {
     "output_type": "execute_result",
     "data": {
      "text/plain": [
       "            Price\n",
       "Date             \n",
       "2019-01-02  54.06\n",
       "2019-01-03  53.23\n",
       "2019-01-04  55.64\n",
       "2019-01-07  57.10\n",
       "2019-01-08  56.91\n",
       "2019-01-09  59.46\n",
       "2019-01-10  60.47\n",
       "2019-01-11  59.24\n",
       "2019-01-14  58.80\n",
       "2019-01-15  58.65\n",
       "2019-01-16  59.81\n",
       "2019-01-17  59.85\n",
       "2019-01-18  62.04\n",
       "2019-01-21  62.18\n",
       "2019-01-22  60.90\n",
       "2019-01-23  61.05\n",
       "2019-01-24  61.09\n",
       "2019-01-25  61.49\n",
       "2019-01-28  59.71\n",
       "2019-01-29  60.98\n",
       "2019-01-30  61.89\n",
       "2019-01-31  62.46"
      ],
      "text/html": "<div>\n<style scoped>\n    .dataframe tbody tr th:only-of-type {\n        vertical-align: middle;\n    }\n\n    .dataframe tbody tr th {\n        vertical-align: top;\n    }\n\n    .dataframe thead th {\n        text-align: right;\n    }\n</style>\n<table border=\"1\" class=\"dataframe\">\n  <thead>\n    <tr style=\"text-align: right;\">\n      <th></th>\n      <th>Price</th>\n    </tr>\n    <tr>\n      <th>Date</th>\n      <th></th>\n    </tr>\n  </thead>\n  <tbody>\n    <tr>\n      <th>2019-01-02</th>\n      <td>54.06</td>\n    </tr>\n    <tr>\n      <th>2019-01-03</th>\n      <td>53.23</td>\n    </tr>\n    <tr>\n      <th>2019-01-04</th>\n      <td>55.64</td>\n    </tr>\n    <tr>\n      <th>2019-01-07</th>\n      <td>57.10</td>\n    </tr>\n    <tr>\n      <th>2019-01-08</th>\n      <td>56.91</td>\n    </tr>\n    <tr>\n      <th>2019-01-09</th>\n      <td>59.46</td>\n    </tr>\n    <tr>\n      <th>2019-01-10</th>\n      <td>60.47</td>\n    </tr>\n    <tr>\n      <th>2019-01-11</th>\n      <td>59.24</td>\n    </tr>\n    <tr>\n      <th>2019-01-14</th>\n      <td>58.80</td>\n    </tr>\n    <tr>\n      <th>2019-01-15</th>\n      <td>58.65</td>\n    </tr>\n    <tr>\n      <th>2019-01-16</th>\n      <td>59.81</td>\n    </tr>\n    <tr>\n      <th>2019-01-17</th>\n      <td>59.85</td>\n    </tr>\n    <tr>\n      <th>2019-01-18</th>\n      <td>62.04</td>\n    </tr>\n    <tr>\n      <th>2019-01-21</th>\n      <td>62.18</td>\n    </tr>\n    <tr>\n      <th>2019-01-22</th>\n      <td>60.90</td>\n    </tr>\n    <tr>\n      <th>2019-01-23</th>\n      <td>61.05</td>\n    </tr>\n    <tr>\n      <th>2019-01-24</th>\n      <td>61.09</td>\n    </tr>\n    <tr>\n      <th>2019-01-25</th>\n      <td>61.49</td>\n    </tr>\n    <tr>\n      <th>2019-01-28</th>\n      <td>59.71</td>\n    </tr>\n    <tr>\n      <th>2019-01-29</th>\n      <td>60.98</td>\n    </tr>\n    <tr>\n      <th>2019-01-30</th>\n      <td>61.89</td>\n    </tr>\n    <tr>\n      <th>2019-01-31</th>\n      <td>62.46</td>\n    </tr>\n  </tbody>\n</table>\n</div>"
     },
     "metadata": {},
     "execution_count": 15
    }
   ],
   "source": [
    "brent.loc['2019-01']"
   ]
  },
  {
   "cell_type": "code",
   "execution_count": 16,
   "metadata": {},
   "outputs": [
    {
     "output_type": "execute_result",
     "data": {
      "text/plain": [
       "            Price\n",
       "Date             \n",
       "2019-01-02  54.06\n",
       "2019-01-03  53.23\n",
       "2019-01-04  55.64\n",
       "2019-01-07  57.10\n",
       "2019-01-08  56.91\n",
       "2019-01-09  59.46\n",
       "2019-01-10  60.47\n",
       "2019-01-11  59.24\n",
       "2019-01-14  58.80\n",
       "2019-01-15  58.65\n",
       "2019-01-16  59.81\n",
       "2019-01-17  59.85\n",
       "2019-01-18  62.04\n",
       "2019-01-21  62.18\n",
       "2019-01-22  60.90\n",
       "2019-01-23  61.05\n",
       "2019-01-24  61.09\n",
       "2019-01-25  61.49\n",
       "2019-01-28  59.71\n",
       "2019-01-29  60.98\n",
       "2019-01-30  61.89\n",
       "2019-01-31  62.46\n",
       "2019-02-01  61.86\n",
       "2019-02-04  62.26\n",
       "2019-02-05  61.67\n",
       "2019-02-06  62.22\n",
       "2019-02-07  61.01\n",
       "2019-02-08  61.37\n",
       "2019-02-11  61.30\n",
       "2019-02-12  62.58\n",
       "2019-02-13  63.27\n",
       "2019-02-14  64.00\n",
       "2019-02-15  65.65\n",
       "2019-02-18  66.41\n",
       "2019-02-19  65.86\n",
       "2019-02-20  66.82\n",
       "2019-02-21  66.91\n",
       "2019-02-22  66.91\n",
       "2019-02-25  64.02\n",
       "2019-02-26  64.51\n",
       "2019-02-27  65.55\n",
       "2019-02-28  65.03"
      ],
      "text/html": "<div>\n<style scoped>\n    .dataframe tbody tr th:only-of-type {\n        vertical-align: middle;\n    }\n\n    .dataframe tbody tr th {\n        vertical-align: top;\n    }\n\n    .dataframe thead th {\n        text-align: right;\n    }\n</style>\n<table border=\"1\" class=\"dataframe\">\n  <thead>\n    <tr style=\"text-align: right;\">\n      <th></th>\n      <th>Price</th>\n    </tr>\n    <tr>\n      <th>Date</th>\n      <th></th>\n    </tr>\n  </thead>\n  <tbody>\n    <tr>\n      <th>2019-01-02</th>\n      <td>54.06</td>\n    </tr>\n    <tr>\n      <th>2019-01-03</th>\n      <td>53.23</td>\n    </tr>\n    <tr>\n      <th>2019-01-04</th>\n      <td>55.64</td>\n    </tr>\n    <tr>\n      <th>2019-01-07</th>\n      <td>57.10</td>\n    </tr>\n    <tr>\n      <th>2019-01-08</th>\n      <td>56.91</td>\n    </tr>\n    <tr>\n      <th>2019-01-09</th>\n      <td>59.46</td>\n    </tr>\n    <tr>\n      <th>2019-01-10</th>\n      <td>60.47</td>\n    </tr>\n    <tr>\n      <th>2019-01-11</th>\n      <td>59.24</td>\n    </tr>\n    <tr>\n      <th>2019-01-14</th>\n      <td>58.80</td>\n    </tr>\n    <tr>\n      <th>2019-01-15</th>\n      <td>58.65</td>\n    </tr>\n    <tr>\n      <th>2019-01-16</th>\n      <td>59.81</td>\n    </tr>\n    <tr>\n      <th>2019-01-17</th>\n      <td>59.85</td>\n    </tr>\n    <tr>\n      <th>2019-01-18</th>\n      <td>62.04</td>\n    </tr>\n    <tr>\n      <th>2019-01-21</th>\n      <td>62.18</td>\n    </tr>\n    <tr>\n      <th>2019-01-22</th>\n      <td>60.90</td>\n    </tr>\n    <tr>\n      <th>2019-01-23</th>\n      <td>61.05</td>\n    </tr>\n    <tr>\n      <th>2019-01-24</th>\n      <td>61.09</td>\n    </tr>\n    <tr>\n      <th>2019-01-25</th>\n      <td>61.49</td>\n    </tr>\n    <tr>\n      <th>2019-01-28</th>\n      <td>59.71</td>\n    </tr>\n    <tr>\n      <th>2019-01-29</th>\n      <td>60.98</td>\n    </tr>\n    <tr>\n      <th>2019-01-30</th>\n      <td>61.89</td>\n    </tr>\n    <tr>\n      <th>2019-01-31</th>\n      <td>62.46</td>\n    </tr>\n    <tr>\n      <th>2019-02-01</th>\n      <td>61.86</td>\n    </tr>\n    <tr>\n      <th>2019-02-04</th>\n      <td>62.26</td>\n    </tr>\n    <tr>\n      <th>2019-02-05</th>\n      <td>61.67</td>\n    </tr>\n    <tr>\n      <th>2019-02-06</th>\n      <td>62.22</td>\n    </tr>\n    <tr>\n      <th>2019-02-07</th>\n      <td>61.01</td>\n    </tr>\n    <tr>\n      <th>2019-02-08</th>\n      <td>61.37</td>\n    </tr>\n    <tr>\n      <th>2019-02-11</th>\n      <td>61.30</td>\n    </tr>\n    <tr>\n      <th>2019-02-12</th>\n      <td>62.58</td>\n    </tr>\n    <tr>\n      <th>2019-02-13</th>\n      <td>63.27</td>\n    </tr>\n    <tr>\n      <th>2019-02-14</th>\n      <td>64.00</td>\n    </tr>\n    <tr>\n      <th>2019-02-15</th>\n      <td>65.65</td>\n    </tr>\n    <tr>\n      <th>2019-02-18</th>\n      <td>66.41</td>\n    </tr>\n    <tr>\n      <th>2019-02-19</th>\n      <td>65.86</td>\n    </tr>\n    <tr>\n      <th>2019-02-20</th>\n      <td>66.82</td>\n    </tr>\n    <tr>\n      <th>2019-02-21</th>\n      <td>66.91</td>\n    </tr>\n    <tr>\n      <th>2019-02-22</th>\n      <td>66.91</td>\n    </tr>\n    <tr>\n      <th>2019-02-25</th>\n      <td>64.02</td>\n    </tr>\n    <tr>\n      <th>2019-02-26</th>\n      <td>64.51</td>\n    </tr>\n    <tr>\n      <th>2019-02-27</th>\n      <td>65.55</td>\n    </tr>\n    <tr>\n      <th>2019-02-28</th>\n      <td>65.03</td>\n    </tr>\n  </tbody>\n</table>\n</div>"
     },
     "metadata": {},
     "execution_count": 16
    }
   ],
   "source": [
    "brent.loc['2019-01': '2019-02']"
   ]
  },
  {
   "cell_type": "code",
   "execution_count": 17,
   "metadata": {},
   "outputs": [
    {
     "output_type": "execute_result",
     "data": {
      "text/plain": [
       "            Price\n",
       "Date             \n",
       "2019-01-02  54.06\n",
       "2019-01-03  53.23\n",
       "2019-01-04  55.64\n",
       "2019-01-07  57.10\n",
       "2019-01-08  56.91\n",
       "2019-01-09  59.46\n",
       "2019-01-10  60.47\n",
       "2019-01-11  59.24\n",
       "2019-01-14  58.80\n",
       "2019-01-15  58.65\n",
       "2019-01-16  59.81\n",
       "2019-01-17  59.85\n",
       "2019-01-18  62.04\n",
       "2019-01-21  62.18\n",
       "2019-01-22  60.90\n",
       "2019-01-23  61.05\n",
       "2019-01-24  61.09\n",
       "2019-01-25  61.49\n",
       "2019-01-28  59.71\n",
       "2019-01-29  60.98\n",
       "2019-01-30  61.89\n",
       "2019-01-31  62.46\n",
       "2019-02-01  61.86\n",
       "2019-02-04  62.26\n",
       "2019-02-05  61.67\n",
       "2019-02-06  62.22\n",
       "2019-02-07  61.01\n",
       "2019-02-08  61.37\n",
       "2019-02-11  61.30\n",
       "2019-02-12  62.58\n",
       "2019-02-13  63.27\n",
       "2019-02-14  64.00\n",
       "2019-02-15  65.65"
      ],
      "text/html": "<div>\n<style scoped>\n    .dataframe tbody tr th:only-of-type {\n        vertical-align: middle;\n    }\n\n    .dataframe tbody tr th {\n        vertical-align: top;\n    }\n\n    .dataframe thead th {\n        text-align: right;\n    }\n</style>\n<table border=\"1\" class=\"dataframe\">\n  <thead>\n    <tr style=\"text-align: right;\">\n      <th></th>\n      <th>Price</th>\n    </tr>\n    <tr>\n      <th>Date</th>\n      <th></th>\n    </tr>\n  </thead>\n  <tbody>\n    <tr>\n      <th>2019-01-02</th>\n      <td>54.06</td>\n    </tr>\n    <tr>\n      <th>2019-01-03</th>\n      <td>53.23</td>\n    </tr>\n    <tr>\n      <th>2019-01-04</th>\n      <td>55.64</td>\n    </tr>\n    <tr>\n      <th>2019-01-07</th>\n      <td>57.10</td>\n    </tr>\n    <tr>\n      <th>2019-01-08</th>\n      <td>56.91</td>\n    </tr>\n    <tr>\n      <th>2019-01-09</th>\n      <td>59.46</td>\n    </tr>\n    <tr>\n      <th>2019-01-10</th>\n      <td>60.47</td>\n    </tr>\n    <tr>\n      <th>2019-01-11</th>\n      <td>59.24</td>\n    </tr>\n    <tr>\n      <th>2019-01-14</th>\n      <td>58.80</td>\n    </tr>\n    <tr>\n      <th>2019-01-15</th>\n      <td>58.65</td>\n    </tr>\n    <tr>\n      <th>2019-01-16</th>\n      <td>59.81</td>\n    </tr>\n    <tr>\n      <th>2019-01-17</th>\n      <td>59.85</td>\n    </tr>\n    <tr>\n      <th>2019-01-18</th>\n      <td>62.04</td>\n    </tr>\n    <tr>\n      <th>2019-01-21</th>\n      <td>62.18</td>\n    </tr>\n    <tr>\n      <th>2019-01-22</th>\n      <td>60.90</td>\n    </tr>\n    <tr>\n      <th>2019-01-23</th>\n      <td>61.05</td>\n    </tr>\n    <tr>\n      <th>2019-01-24</th>\n      <td>61.09</td>\n    </tr>\n    <tr>\n      <th>2019-01-25</th>\n      <td>61.49</td>\n    </tr>\n    <tr>\n      <th>2019-01-28</th>\n      <td>59.71</td>\n    </tr>\n    <tr>\n      <th>2019-01-29</th>\n      <td>60.98</td>\n    </tr>\n    <tr>\n      <th>2019-01-30</th>\n      <td>61.89</td>\n    </tr>\n    <tr>\n      <th>2019-01-31</th>\n      <td>62.46</td>\n    </tr>\n    <tr>\n      <th>2019-02-01</th>\n      <td>61.86</td>\n    </tr>\n    <tr>\n      <th>2019-02-04</th>\n      <td>62.26</td>\n    </tr>\n    <tr>\n      <th>2019-02-05</th>\n      <td>61.67</td>\n    </tr>\n    <tr>\n      <th>2019-02-06</th>\n      <td>62.22</td>\n    </tr>\n    <tr>\n      <th>2019-02-07</th>\n      <td>61.01</td>\n    </tr>\n    <tr>\n      <th>2019-02-08</th>\n      <td>61.37</td>\n    </tr>\n    <tr>\n      <th>2019-02-11</th>\n      <td>61.30</td>\n    </tr>\n    <tr>\n      <th>2019-02-12</th>\n      <td>62.58</td>\n    </tr>\n    <tr>\n      <th>2019-02-13</th>\n      <td>63.27</td>\n    </tr>\n    <tr>\n      <th>2019-02-14</th>\n      <td>64.00</td>\n    </tr>\n    <tr>\n      <th>2019-02-15</th>\n      <td>65.65</td>\n    </tr>\n  </tbody>\n</table>\n</div>"
     },
     "metadata": {},
     "execution_count": 17
    }
   ],
   "source": [
    "brent.loc['2019-01': '2019-02-15']"
   ]
  },
  {
   "cell_type": "code",
   "execution_count": null,
   "metadata": {},
   "outputs": [],
   "source": []
  }
 ]
}