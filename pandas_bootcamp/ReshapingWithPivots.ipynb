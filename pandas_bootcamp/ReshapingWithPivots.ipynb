{
 "metadata": {
  "language_info": {
   "codemirror_mode": {
    "name": "ipython",
    "version": 3
   },
   "file_extension": ".py",
   "mimetype": "text/x-python",
   "name": "python",
   "nbconvert_exporter": "python",
   "pygments_lexer": "ipython3",
   "version": "3.7.6-final"
  },
  "orig_nbformat": 2,
  "kernelspec": {
   "name": "python3",
   "display_name": "Python 3.7.6 64-bit ('base': conda)",
   "metadata": {
    "interpreter": {
     "hash": "e134e05457d34029b6460cd73bbf1ed73f339b5b6d98c95be70b69eba114fe95"
    }
   }
  }
 },
 "nbformat": 4,
 "nbformat_minor": 2,
 "cells": [
  {
   "cell_type": "code",
   "execution_count": 2,
   "metadata": {},
   "outputs": [],
   "source": [
    "import pandas as pd\n",
    "import numpy as np"
   ]
  },
  {
   "cell_type": "code",
   "execution_count": 3,
   "metadata": {},
   "outputs": [],
   "source": [
    "sat = pd.read_csv('scores.csv')"
   ]
  },
  {
   "cell_type": "code",
   "execution_count": 4,
   "metadata": {},
   "outputs": [
    {
     "output_type": "execute_result",
     "data": {
      "text/plain": [
       "                             School Name    Borough  Student Enrollment  \\\n",
       "0  A. Philip Randolph Campus High School  Manhattan                1354   \n",
       "1  A. Philip Randolph Campus High School  Manhattan                1354   \n",
       "2  A. Philip Randolph Campus High School  Manhattan                1354   \n",
       "3            Abraham Lincoln High School   Brooklyn                2341   \n",
       "4            Abraham Lincoln High School   Brooklyn                2341   \n",
       "\n",
       "  Percent Tested SAT Section  Score  \n",
       "0         74.00%        Math    459  \n",
       "1         74.00%     Reading    453  \n",
       "2         74.00%     Writing    447  \n",
       "3         54.90%        Math    441  \n",
       "4         54.90%     Reading    422  "
      ],
      "text/html": "<div>\n<style scoped>\n    .dataframe tbody tr th:only-of-type {\n        vertical-align: middle;\n    }\n\n    .dataframe tbody tr th {\n        vertical-align: top;\n    }\n\n    .dataframe thead th {\n        text-align: right;\n    }\n</style>\n<table border=\"1\" class=\"dataframe\">\n  <thead>\n    <tr style=\"text-align: right;\">\n      <th></th>\n      <th>School Name</th>\n      <th>Borough</th>\n      <th>Student Enrollment</th>\n      <th>Percent Tested</th>\n      <th>SAT Section</th>\n      <th>Score</th>\n    </tr>\n  </thead>\n  <tbody>\n    <tr>\n      <th>0</th>\n      <td>A. Philip Randolph Campus High School</td>\n      <td>Manhattan</td>\n      <td>1354</td>\n      <td>74.00%</td>\n      <td>Math</td>\n      <td>459</td>\n    </tr>\n    <tr>\n      <th>1</th>\n      <td>A. Philip Randolph Campus High School</td>\n      <td>Manhattan</td>\n      <td>1354</td>\n      <td>74.00%</td>\n      <td>Reading</td>\n      <td>453</td>\n    </tr>\n    <tr>\n      <th>2</th>\n      <td>A. Philip Randolph Campus High School</td>\n      <td>Manhattan</td>\n      <td>1354</td>\n      <td>74.00%</td>\n      <td>Writing</td>\n      <td>447</td>\n    </tr>\n    <tr>\n      <th>3</th>\n      <td>Abraham Lincoln High School</td>\n      <td>Brooklyn</td>\n      <td>2341</td>\n      <td>54.90%</td>\n      <td>Math</td>\n      <td>441</td>\n    </tr>\n    <tr>\n      <th>4</th>\n      <td>Abraham Lincoln High School</td>\n      <td>Brooklyn</td>\n      <td>2341</td>\n      <td>54.90%</td>\n      <td>Reading</td>\n      <td>422</td>\n    </tr>\n  </tbody>\n</table>\n</div>"
     },
     "metadata": {},
     "execution_count": 4
    }
   ],
   "source": [
    "sat.head()"
   ]
  },
  {
   "cell_type": "code",
   "execution_count": 10,
   "metadata": {},
   "outputs": [],
   "source": [
    "sat['Percent Tested'] = sat['Percent Tested'].replace(regex='%', value='').astype(float)"
   ]
  },
  {
   "cell_type": "code",
   "execution_count": 11,
   "metadata": {},
   "outputs": [
    {
     "output_type": "execute_result",
     "data": {
      "text/plain": [
       "                                     School Name    Borough  \\\n",
       "0          A. Philip Randolph Campus High School  Manhattan   \n",
       "1          A. Philip Randolph Campus High School  Manhattan   \n",
       "2          A. Philip Randolph Campus High School  Manhattan   \n",
       "3                    Abraham Lincoln High School   Brooklyn   \n",
       "4                    Abraham Lincoln High School   Brooklyn   \n",
       "...                                          ...        ...   \n",
       "1120  Young Women's Leadership School in Astoria     Queens   \n",
       "1121  Young Women's Leadership School in Astoria     Queens   \n",
       "1122   Young Women's Leadership School in Queens     Queens   \n",
       "1123   Young Women's Leadership School in Queens     Queens   \n",
       "1124   Young Women's Leadership School in Queens     Queens   \n",
       "\n",
       "      Student Enrollment  Percent Tested SAT Section  Score  \n",
       "0                   1354            74.0        Math    459  \n",
       "1                   1354            74.0     Reading    453  \n",
       "2                   1354            74.0     Writing    447  \n",
       "3                   2341            54.9        Math    441  \n",
       "4                   2341            54.9     Reading    422  \n",
       "...                  ...             ...         ...    ...  \n",
       "1120                 572           100.0     Reading    464  \n",
       "1121                 572           100.0     Writing    477  \n",
       "1122                 557            90.4        Math    415  \n",
       "1123                 557            90.4     Reading    420  \n",
       "1124                 557            90.4     Writing    433  \n",
       "\n",
       "[1125 rows x 6 columns]"
      ],
      "text/html": "<div>\n<style scoped>\n    .dataframe tbody tr th:only-of-type {\n        vertical-align: middle;\n    }\n\n    .dataframe tbody tr th {\n        vertical-align: top;\n    }\n\n    .dataframe thead th {\n        text-align: right;\n    }\n</style>\n<table border=\"1\" class=\"dataframe\">\n  <thead>\n    <tr style=\"text-align: right;\">\n      <th></th>\n      <th>School Name</th>\n      <th>Borough</th>\n      <th>Student Enrollment</th>\n      <th>Percent Tested</th>\n      <th>SAT Section</th>\n      <th>Score</th>\n    </tr>\n  </thead>\n  <tbody>\n    <tr>\n      <th>0</th>\n      <td>A. Philip Randolph Campus High School</td>\n      <td>Manhattan</td>\n      <td>1354</td>\n      <td>74.0</td>\n      <td>Math</td>\n      <td>459</td>\n    </tr>\n    <tr>\n      <th>1</th>\n      <td>A. Philip Randolph Campus High School</td>\n      <td>Manhattan</td>\n      <td>1354</td>\n      <td>74.0</td>\n      <td>Reading</td>\n      <td>453</td>\n    </tr>\n    <tr>\n      <th>2</th>\n      <td>A. Philip Randolph Campus High School</td>\n      <td>Manhattan</td>\n      <td>1354</td>\n      <td>74.0</td>\n      <td>Writing</td>\n      <td>447</td>\n    </tr>\n    <tr>\n      <th>3</th>\n      <td>Abraham Lincoln High School</td>\n      <td>Brooklyn</td>\n      <td>2341</td>\n      <td>54.9</td>\n      <td>Math</td>\n      <td>441</td>\n    </tr>\n    <tr>\n      <th>4</th>\n      <td>Abraham Lincoln High School</td>\n      <td>Brooklyn</td>\n      <td>2341</td>\n      <td>54.9</td>\n      <td>Reading</td>\n      <td>422</td>\n    </tr>\n    <tr>\n      <th>...</th>\n      <td>...</td>\n      <td>...</td>\n      <td>...</td>\n      <td>...</td>\n      <td>...</td>\n      <td>...</td>\n    </tr>\n    <tr>\n      <th>1120</th>\n      <td>Young Women's Leadership School in Astoria</td>\n      <td>Queens</td>\n      <td>572</td>\n      <td>100.0</td>\n      <td>Reading</td>\n      <td>464</td>\n    </tr>\n    <tr>\n      <th>1121</th>\n      <td>Young Women's Leadership School in Astoria</td>\n      <td>Queens</td>\n      <td>572</td>\n      <td>100.0</td>\n      <td>Writing</td>\n      <td>477</td>\n    </tr>\n    <tr>\n      <th>1122</th>\n      <td>Young Women's Leadership School in Queens</td>\n      <td>Queens</td>\n      <td>557</td>\n      <td>90.4</td>\n      <td>Math</td>\n      <td>415</td>\n    </tr>\n    <tr>\n      <th>1123</th>\n      <td>Young Women's Leadership School in Queens</td>\n      <td>Queens</td>\n      <td>557</td>\n      <td>90.4</td>\n      <td>Reading</td>\n      <td>420</td>\n    </tr>\n    <tr>\n      <th>1124</th>\n      <td>Young Women's Leadership School in Queens</td>\n      <td>Queens</td>\n      <td>557</td>\n      <td>90.4</td>\n      <td>Writing</td>\n      <td>433</td>\n    </tr>\n  </tbody>\n</table>\n<p>1125 rows × 6 columns</p>\n</div>"
     },
     "metadata": {},
     "execution_count": 11
    }
   ],
   "source": [
    "sat"
   ]
  },
  {
   "cell_type": "code",
   "execution_count": 12,
   "metadata": {},
   "outputs": [
    {
     "output_type": "execute_result",
     "data": {
      "text/plain": [
       "                                     School Name    Borough  \\\n",
       "0          A. Philip Randolph Campus High School  Manhattan   \n",
       "1          A. Philip Randolph Campus High School  Manhattan   \n",
       "2          A. Philip Randolph Campus High School  Manhattan   \n",
       "3                    Abraham Lincoln High School   Brooklyn   \n",
       "4                    Abraham Lincoln High School   Brooklyn   \n",
       "...                                          ...        ...   \n",
       "1120  Young Women's Leadership School in Astoria     Queens   \n",
       "1121  Young Women's Leadership School in Astoria     Queens   \n",
       "1122   Young Women's Leadership School in Queens     Queens   \n",
       "1123   Young Women's Leadership School in Queens     Queens   \n",
       "1124   Young Women's Leadership School in Queens     Queens   \n",
       "\n",
       "      Student Enrollment  Percent Tested SAT Section  Score  \n",
       "0                   1354            74.0        Math    459  \n",
       "1                   1354            74.0     Reading    453  \n",
       "2                   1354            74.0     Writing    447  \n",
       "3                   2341            54.9        Math    441  \n",
       "4                   2341            54.9     Reading    422  \n",
       "...                  ...             ...         ...    ...  \n",
       "1120                 572           100.0     Reading    464  \n",
       "1121                 572           100.0     Writing    477  \n",
       "1122                 557            90.4        Math    415  \n",
       "1123                 557            90.4     Reading    420  \n",
       "1124                 557            90.4     Writing    433  \n",
       "\n",
       "[1125 rows x 6 columns]"
      ],
      "text/html": "<div>\n<style scoped>\n    .dataframe tbody tr th:only-of-type {\n        vertical-align: middle;\n    }\n\n    .dataframe tbody tr th {\n        vertical-align: top;\n    }\n\n    .dataframe thead th {\n        text-align: right;\n    }\n</style>\n<table border=\"1\" class=\"dataframe\">\n  <thead>\n    <tr style=\"text-align: right;\">\n      <th></th>\n      <th>School Name</th>\n      <th>Borough</th>\n      <th>Student Enrollment</th>\n      <th>Percent Tested</th>\n      <th>SAT Section</th>\n      <th>Score</th>\n    </tr>\n  </thead>\n  <tbody>\n    <tr>\n      <th>0</th>\n      <td>A. Philip Randolph Campus High School</td>\n      <td>Manhattan</td>\n      <td>1354</td>\n      <td>74.0</td>\n      <td>Math</td>\n      <td>459</td>\n    </tr>\n    <tr>\n      <th>1</th>\n      <td>A. Philip Randolph Campus High School</td>\n      <td>Manhattan</td>\n      <td>1354</td>\n      <td>74.0</td>\n      <td>Reading</td>\n      <td>453</td>\n    </tr>\n    <tr>\n      <th>2</th>\n      <td>A. Philip Randolph Campus High School</td>\n      <td>Manhattan</td>\n      <td>1354</td>\n      <td>74.0</td>\n      <td>Writing</td>\n      <td>447</td>\n    </tr>\n    <tr>\n      <th>3</th>\n      <td>Abraham Lincoln High School</td>\n      <td>Brooklyn</td>\n      <td>2341</td>\n      <td>54.9</td>\n      <td>Math</td>\n      <td>441</td>\n    </tr>\n    <tr>\n      <th>4</th>\n      <td>Abraham Lincoln High School</td>\n      <td>Brooklyn</td>\n      <td>2341</td>\n      <td>54.9</td>\n      <td>Reading</td>\n      <td>422</td>\n    </tr>\n    <tr>\n      <th>...</th>\n      <td>...</td>\n      <td>...</td>\n      <td>...</td>\n      <td>...</td>\n      <td>...</td>\n      <td>...</td>\n    </tr>\n    <tr>\n      <th>1120</th>\n      <td>Young Women's Leadership School in Astoria</td>\n      <td>Queens</td>\n      <td>572</td>\n      <td>100.0</td>\n      <td>Reading</td>\n      <td>464</td>\n    </tr>\n    <tr>\n      <th>1121</th>\n      <td>Young Women's Leadership School in Astoria</td>\n      <td>Queens</td>\n      <td>572</td>\n      <td>100.0</td>\n      <td>Writing</td>\n      <td>477</td>\n    </tr>\n    <tr>\n      <th>1122</th>\n      <td>Young Women's Leadership School in Queens</td>\n      <td>Queens</td>\n      <td>557</td>\n      <td>90.4</td>\n      <td>Math</td>\n      <td>415</td>\n    </tr>\n    <tr>\n      <th>1123</th>\n      <td>Young Women's Leadership School in Queens</td>\n      <td>Queens</td>\n      <td>557</td>\n      <td>90.4</td>\n      <td>Reading</td>\n      <td>420</td>\n    </tr>\n    <tr>\n      <th>1124</th>\n      <td>Young Women's Leadership School in Queens</td>\n      <td>Queens</td>\n      <td>557</td>\n      <td>90.4</td>\n      <td>Writing</td>\n      <td>433</td>\n    </tr>\n  </tbody>\n</table>\n<p>1125 rows × 6 columns</p>\n</div>"
     },
     "metadata": {},
     "execution_count": 12
    }
   ],
   "source": [
    "sat"
   ]
  },
  {
   "cell_type": "code",
   "execution_count": 17,
   "metadata": {},
   "outputs": [],
   "source": [
    "pivoted = sat.pivot(index='School Name', columns='SAT Section', values='Score')"
   ]
  },
  {
   "cell_type": "code",
   "execution_count": 23,
   "metadata": {},
   "outputs": [
    {
     "output_type": "execute_result",
     "data": {
      "text/plain": [
       "                                            School Name SAT Section  Score\n",
       "0                 A. Philip Randolph Campus High School        Math    459\n",
       "1                           ACORN Community High School        Math    379\n",
       "2                           Abraham Lincoln High School        Math    441\n",
       "3            Academy for Careers in Television and Film        Math    444\n",
       "4     Academy for College Preparation and Career Exp...        Math    386\n",
       "...                                                 ...         ...    ...\n",
       "1120       World Journalism Preparatory (College Board)     Writing    487\n",
       "1121                         York Early College Academy     Writing    473\n",
       "1122                    Young Women's Leadership School     Writing    472\n",
       "1123         Young Women's Leadership School in Astoria     Writing    477\n",
       "1124          Young Women's Leadership School in Queens     Writing    433\n",
       "\n",
       "[1125 rows x 3 columns]"
      ],
      "text/html": "<div>\n<style scoped>\n    .dataframe tbody tr th:only-of-type {\n        vertical-align: middle;\n    }\n\n    .dataframe tbody tr th {\n        vertical-align: top;\n    }\n\n    .dataframe thead th {\n        text-align: right;\n    }\n</style>\n<table border=\"1\" class=\"dataframe\">\n  <thead>\n    <tr style=\"text-align: right;\">\n      <th></th>\n      <th>School Name</th>\n      <th>SAT Section</th>\n      <th>Score</th>\n    </tr>\n  </thead>\n  <tbody>\n    <tr>\n      <th>0</th>\n      <td>A. Philip Randolph Campus High School</td>\n      <td>Math</td>\n      <td>459</td>\n    </tr>\n    <tr>\n      <th>1</th>\n      <td>ACORN Community High School</td>\n      <td>Math</td>\n      <td>379</td>\n    </tr>\n    <tr>\n      <th>2</th>\n      <td>Abraham Lincoln High School</td>\n      <td>Math</td>\n      <td>441</td>\n    </tr>\n    <tr>\n      <th>3</th>\n      <td>Academy for Careers in Television and Film</td>\n      <td>Math</td>\n      <td>444</td>\n    </tr>\n    <tr>\n      <th>4</th>\n      <td>Academy for College Preparation and Career Exp...</td>\n      <td>Math</td>\n      <td>386</td>\n    </tr>\n    <tr>\n      <th>...</th>\n      <td>...</td>\n      <td>...</td>\n      <td>...</td>\n    </tr>\n    <tr>\n      <th>1120</th>\n      <td>World Journalism Preparatory (College Board)</td>\n      <td>Writing</td>\n      <td>487</td>\n    </tr>\n    <tr>\n      <th>1121</th>\n      <td>York Early College Academy</td>\n      <td>Writing</td>\n      <td>473</td>\n    </tr>\n    <tr>\n      <th>1122</th>\n      <td>Young Women's Leadership School</td>\n      <td>Writing</td>\n      <td>472</td>\n    </tr>\n    <tr>\n      <th>1123</th>\n      <td>Young Women's Leadership School in Astoria</td>\n      <td>Writing</td>\n      <td>477</td>\n    </tr>\n    <tr>\n      <th>1124</th>\n      <td>Young Women's Leadership School in Queens</td>\n      <td>Writing</td>\n      <td>433</td>\n    </tr>\n  </tbody>\n</table>\n<p>1125 rows × 3 columns</p>\n</div>"
     },
     "metadata": {},
     "execution_count": 23
    }
   ],
   "source": [
    "pivoted.reset_index().melt(id_vars='School Name', value_name='Score')"
   ]
  },
  {
   "cell_type": "code",
   "execution_count": 24,
   "metadata": {},
   "outputs": [
    {
     "output_type": "execute_result",
     "data": {
      "text/plain": [
       "SAT Section                                         Math  Reading  Writing\n",
       "School Name                                                               \n",
       "A. Philip Randolph Campus High School                459      453      447\n",
       "ACORN Community High School                          379      395      385\n",
       "Abraham Lincoln High School                          441      422      422\n",
       "Academy for Careers in Television and Film           444      458      444\n",
       "Academy for College Preparation and Career Expl...   386      397      393\n",
       "...                                                  ...      ...      ...\n",
       "World Journalism Preparatory (College Board)         484      491      487\n",
       "York Early College Academy                           496      481      473\n",
       "Young Women's Leadership School                      478      465      472\n",
       "Young Women's Leadership School in Astoria           483      464      477\n",
       "Young Women's Leadership School in Queens            415      420      433\n",
       "\n",
       "[375 rows x 3 columns]"
      ],
      "text/html": "<div>\n<style scoped>\n    .dataframe tbody tr th:only-of-type {\n        vertical-align: middle;\n    }\n\n    .dataframe tbody tr th {\n        vertical-align: top;\n    }\n\n    .dataframe thead th {\n        text-align: right;\n    }\n</style>\n<table border=\"1\" class=\"dataframe\">\n  <thead>\n    <tr style=\"text-align: right;\">\n      <th>SAT Section</th>\n      <th>Math</th>\n      <th>Reading</th>\n      <th>Writing</th>\n    </tr>\n    <tr>\n      <th>School Name</th>\n      <th></th>\n      <th></th>\n      <th></th>\n    </tr>\n  </thead>\n  <tbody>\n    <tr>\n      <th>A. Philip Randolph Campus High School</th>\n      <td>459</td>\n      <td>453</td>\n      <td>447</td>\n    </tr>\n    <tr>\n      <th>ACORN Community High School</th>\n      <td>379</td>\n      <td>395</td>\n      <td>385</td>\n    </tr>\n    <tr>\n      <th>Abraham Lincoln High School</th>\n      <td>441</td>\n      <td>422</td>\n      <td>422</td>\n    </tr>\n    <tr>\n      <th>Academy for Careers in Television and Film</th>\n      <td>444</td>\n      <td>458</td>\n      <td>444</td>\n    </tr>\n    <tr>\n      <th>Academy for College Preparation and Career Exploration (College Board)</th>\n      <td>386</td>\n      <td>397</td>\n      <td>393</td>\n    </tr>\n    <tr>\n      <th>...</th>\n      <td>...</td>\n      <td>...</td>\n      <td>...</td>\n    </tr>\n    <tr>\n      <th>World Journalism Preparatory (College Board)</th>\n      <td>484</td>\n      <td>491</td>\n      <td>487</td>\n    </tr>\n    <tr>\n      <th>York Early College Academy</th>\n      <td>496</td>\n      <td>481</td>\n      <td>473</td>\n    </tr>\n    <tr>\n      <th>Young Women's Leadership School</th>\n      <td>478</td>\n      <td>465</td>\n      <td>472</td>\n    </tr>\n    <tr>\n      <th>Young Women's Leadership School in Astoria</th>\n      <td>483</td>\n      <td>464</td>\n      <td>477</td>\n    </tr>\n    <tr>\n      <th>Young Women's Leadership School in Queens</th>\n      <td>415</td>\n      <td>420</td>\n      <td>433</td>\n    </tr>\n  </tbody>\n</table>\n<p>375 rows × 3 columns</p>\n</div>"
     },
     "metadata": {},
     "execution_count": 24
    }
   ],
   "source": [
    "sat.pivot_table(index='School Name', columns='SAT Section', values='Score')"
   ]
  },
  {
   "cell_type": "code",
   "execution_count": 31,
   "metadata": {},
   "outputs": [
    {
     "output_type": "execute_result",
     "data": {
      "text/plain": [
       "SAT Section    Math  Reading  Writing  All\n",
       "Borough                                   \n",
       "Bronx           714      672      672  714\n",
       "Brooklyn        682      608      606  682\n",
       "Manhattan       754      697      693  754\n",
       "Queens          701      640      661  701\n",
       "Staten Island   711      660      670  711\n",
       "All             754      697      693  754"
      ],
      "text/html": "<div>\n<style scoped>\n    .dataframe tbody tr th:only-of-type {\n        vertical-align: middle;\n    }\n\n    .dataframe tbody tr th {\n        vertical-align: top;\n    }\n\n    .dataframe thead th {\n        text-align: right;\n    }\n</style>\n<table border=\"1\" class=\"dataframe\">\n  <thead>\n    <tr style=\"text-align: right;\">\n      <th>SAT Section</th>\n      <th>Math</th>\n      <th>Reading</th>\n      <th>Writing</th>\n      <th>All</th>\n    </tr>\n    <tr>\n      <th>Borough</th>\n      <th></th>\n      <th></th>\n      <th></th>\n      <th></th>\n    </tr>\n  </thead>\n  <tbody>\n    <tr>\n      <th>Bronx</th>\n      <td>714</td>\n      <td>672</td>\n      <td>672</td>\n      <td>714</td>\n    </tr>\n    <tr>\n      <th>Brooklyn</th>\n      <td>682</td>\n      <td>608</td>\n      <td>606</td>\n      <td>682</td>\n    </tr>\n    <tr>\n      <th>Manhattan</th>\n      <td>754</td>\n      <td>697</td>\n      <td>693</td>\n      <td>754</td>\n    </tr>\n    <tr>\n      <th>Queens</th>\n      <td>701</td>\n      <td>640</td>\n      <td>661</td>\n      <td>701</td>\n    </tr>\n    <tr>\n      <th>Staten Island</th>\n      <td>711</td>\n      <td>660</td>\n      <td>670</td>\n      <td>711</td>\n    </tr>\n    <tr>\n      <th>All</th>\n      <td>754</td>\n      <td>697</td>\n      <td>693</td>\n      <td>754</td>\n    </tr>\n  </tbody>\n</table>\n</div>"
     },
     "metadata": {},
     "execution_count": 31
    }
   ],
   "source": [
    "sat.pivot_table(index='Borough', columns='SAT Section', values='Score', aggfunc='max', margins=True)"
   ]
  },
  {
   "cell_type": "code",
   "execution_count": 34,
   "metadata": {},
   "outputs": [
    {
     "output_type": "execute_result",
     "data": {
      "text/plain": [
       "SAT Section    Math  Reading  Writing  Grand Total\n",
       "Borough                                           \n",
       "Bronx           714      672      672          714\n",
       "Brooklyn        682      608      606          682\n",
       "Manhattan       754      697      693          754\n",
       "Queens          701      640      661          701\n",
       "Staten Island   711      660      670          711\n",
       "Grand Total     754      697      693          754"
      ],
      "text/html": "<div>\n<style scoped>\n    .dataframe tbody tr th:only-of-type {\n        vertical-align: middle;\n    }\n\n    .dataframe tbody tr th {\n        vertical-align: top;\n    }\n\n    .dataframe thead th {\n        text-align: right;\n    }\n</style>\n<table border=\"1\" class=\"dataframe\">\n  <thead>\n    <tr style=\"text-align: right;\">\n      <th>SAT Section</th>\n      <th>Math</th>\n      <th>Reading</th>\n      <th>Writing</th>\n      <th>Grand Total</th>\n    </tr>\n    <tr>\n      <th>Borough</th>\n      <th></th>\n      <th></th>\n      <th></th>\n      <th></th>\n    </tr>\n  </thead>\n  <tbody>\n    <tr>\n      <th>Bronx</th>\n      <td>714</td>\n      <td>672</td>\n      <td>672</td>\n      <td>714</td>\n    </tr>\n    <tr>\n      <th>Brooklyn</th>\n      <td>682</td>\n      <td>608</td>\n      <td>606</td>\n      <td>682</td>\n    </tr>\n    <tr>\n      <th>Manhattan</th>\n      <td>754</td>\n      <td>697</td>\n      <td>693</td>\n      <td>754</td>\n    </tr>\n    <tr>\n      <th>Queens</th>\n      <td>701</td>\n      <td>640</td>\n      <td>661</td>\n      <td>701</td>\n    </tr>\n    <tr>\n      <th>Staten Island</th>\n      <td>711</td>\n      <td>660</td>\n      <td>670</td>\n      <td>711</td>\n    </tr>\n    <tr>\n      <th>Grand Total</th>\n      <td>754</td>\n      <td>697</td>\n      <td>693</td>\n      <td>754</td>\n    </tr>\n  </tbody>\n</table>\n</div>"
     },
     "metadata": {},
     "execution_count": 34
    }
   ],
   "source": [
    "sat.pivot_table(index='Borough', columns='SAT Section', values='Score', aggfunc='max', margins=True, margins_name='Grand Total')"
   ]
  },
  {
   "cell_type": "code",
   "execution_count": 35,
   "metadata": {},
   "outputs": [
    {
     "output_type": "execute_result",
     "data": {
      "text/plain": [
       "               max                              min                  \\\n",
       "SAT Section   Math Reading Writing Grand Total Math Reading Writing   \n",
       "Borough                                                               \n",
       "Bronx          714     672     672         714  317     311     292   \n",
       "Brooklyn       682     608     606         682  319     302     284   \n",
       "Manhattan      754     697     693         754  344     330     316   \n",
       "Queens         701     640     661         701  340     320     318   \n",
       "Staten Island  711     660     670         711  420     427     409   \n",
       "Grand Total    754     697     693         754  317     302     284   \n",
       "\n",
       "                           \n",
       "SAT Section   Grand Total  \n",
       "Borough                    \n",
       "Bronx                 292  \n",
       "Brooklyn              284  \n",
       "Manhattan             316  \n",
       "Queens                318  \n",
       "Staten Island         409  \n",
       "Grand Total           284  "
      ],
      "text/html": "<div>\n<style scoped>\n    .dataframe tbody tr th:only-of-type {\n        vertical-align: middle;\n    }\n\n    .dataframe tbody tr th {\n        vertical-align: top;\n    }\n\n    .dataframe thead tr th {\n        text-align: left;\n    }\n\n    .dataframe thead tr:last-of-type th {\n        text-align: right;\n    }\n</style>\n<table border=\"1\" class=\"dataframe\">\n  <thead>\n    <tr>\n      <th></th>\n      <th colspan=\"4\" halign=\"left\">max</th>\n      <th colspan=\"4\" halign=\"left\">min</th>\n    </tr>\n    <tr>\n      <th>SAT Section</th>\n      <th>Math</th>\n      <th>Reading</th>\n      <th>Writing</th>\n      <th>Grand Total</th>\n      <th>Math</th>\n      <th>Reading</th>\n      <th>Writing</th>\n      <th>Grand Total</th>\n    </tr>\n    <tr>\n      <th>Borough</th>\n      <th></th>\n      <th></th>\n      <th></th>\n      <th></th>\n      <th></th>\n      <th></th>\n      <th></th>\n      <th></th>\n    </tr>\n  </thead>\n  <tbody>\n    <tr>\n      <th>Bronx</th>\n      <td>714</td>\n      <td>672</td>\n      <td>672</td>\n      <td>714</td>\n      <td>317</td>\n      <td>311</td>\n      <td>292</td>\n      <td>292</td>\n    </tr>\n    <tr>\n      <th>Brooklyn</th>\n      <td>682</td>\n      <td>608</td>\n      <td>606</td>\n      <td>682</td>\n      <td>319</td>\n      <td>302</td>\n      <td>284</td>\n      <td>284</td>\n    </tr>\n    <tr>\n      <th>Manhattan</th>\n      <td>754</td>\n      <td>697</td>\n      <td>693</td>\n      <td>754</td>\n      <td>344</td>\n      <td>330</td>\n      <td>316</td>\n      <td>316</td>\n    </tr>\n    <tr>\n      <th>Queens</th>\n      <td>701</td>\n      <td>640</td>\n      <td>661</td>\n      <td>701</td>\n      <td>340</td>\n      <td>320</td>\n      <td>318</td>\n      <td>318</td>\n    </tr>\n    <tr>\n      <th>Staten Island</th>\n      <td>711</td>\n      <td>660</td>\n      <td>670</td>\n      <td>711</td>\n      <td>420</td>\n      <td>427</td>\n      <td>409</td>\n      <td>409</td>\n    </tr>\n    <tr>\n      <th>Grand Total</th>\n      <td>754</td>\n      <td>697</td>\n      <td>693</td>\n      <td>754</td>\n      <td>317</td>\n      <td>302</td>\n      <td>284</td>\n      <td>284</td>\n    </tr>\n  </tbody>\n</table>\n</div>"
     },
     "metadata": {},
     "execution_count": 35
    }
   ],
   "source": [
    "sat.pivot_table(index='Borough', columns='SAT Section', values='Score', aggfunc=['max', 'min'], margins=True, margins_name='Grand Total')"
   ]
  },
  {
   "cell_type": "code",
   "execution_count": null,
   "metadata": {},
   "outputs": [],
   "source": []
  }
 ]
}