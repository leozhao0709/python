{
 "metadata": {
  "language_info": {
   "codemirror_mode": {
    "name": "ipython",
    "version": 3
   },
   "file_extension": ".py",
   "mimetype": "text/x-python",
   "name": "python",
   "nbconvert_exporter": "python",
   "pygments_lexer": "ipython3",
   "version": "3.7.6-final"
  },
  "orig_nbformat": 2,
  "kernelspec": {
   "name": "python3",
   "display_name": "Python 3.7.6 64-bit ('base': conda)",
   "metadata": {
    "interpreter": {
     "hash": "e134e05457d34029b6460cd73bbf1ed73f339b5b6d98c95be70b69eba114fe95"
    }
   }
  }
 },
 "nbformat": 4,
 "nbformat_minor": 2,
 "cells": [
  {
   "cell_type": "code",
   "execution_count": 1,
   "metadata": {},
   "outputs": [],
   "source": [
    "import pandas as pd\n",
    "import numpy as np"
   ]
  },
  {
   "cell_type": "code",
   "execution_count": 2,
   "metadata": {},
   "outputs": [],
   "source": [
    "tech = pd.read_csv('tech_giants.csv')"
   ]
  },
  {
   "cell_type": "code",
   "execution_count": 6,
   "metadata": {},
   "outputs": [],
   "source": [
    "tech.set_index(['date', 'name'], inplace=True)"
   ]
  },
  {
   "cell_type": "code",
   "execution_count": 7,
   "metadata": {},
   "outputs": [
    {
     "output_type": "execute_result",
     "data": {
      "text/plain": [
       "                  month  year  day    open   close    high     low    volume  \\\n",
       "date       name                                                                \n",
       "2014-01-02 FB         1  2014    2   54.86   54.71   55.22   54.19  43257622   \n",
       "           AAPL       1  2014    2   79.38   79.02   79.58   78.86   8398851   \n",
       "           GOOGL      1  2014    2  557.73  556.56  558.88  554.13   1822719   \n",
       "           MSFT       1  2014    2   37.35   37.16   37.40   37.10  30643745   \n",
       "           AMZN       1  2014    2  398.80  397.97  399.36  394.02   2140246   \n",
       "2014-01-03 FB         1  2014    3   55.00   54.56   55.65   54.53  38287706   \n",
       "           GOOGL      1  2014    3  557.50  552.50  558.47  552.47   1669229   \n",
       "           MSFT       1  2014    3   37.20   36.91   37.22   36.60  31134795   \n",
       "           AAPL       1  2014    3   79.00   77.28   79.10   77.20  14043410   \n",
       "           AMZN       1  2014    3  398.29  396.44  402.71  396.22   2213512   \n",
       "\n",
       "                 volume_type  \n",
       "date       name               \n",
       "2014-01-02 FB         medium  \n",
       "           AAPL          low  \n",
       "           GOOGL      medium  \n",
       "           MSFT       medium  \n",
       "           AMZN       medium  \n",
       "2014-01-03 FB         medium  \n",
       "           GOOGL      medium  \n",
       "           MSFT       medium  \n",
       "           AAPL          low  \n",
       "           AMZN       medium  "
      ],
      "text/html": "<div>\n<style scoped>\n    .dataframe tbody tr th:only-of-type {\n        vertical-align: middle;\n    }\n\n    .dataframe tbody tr th {\n        vertical-align: top;\n    }\n\n    .dataframe thead th {\n        text-align: right;\n    }\n</style>\n<table border=\"1\" class=\"dataframe\">\n  <thead>\n    <tr style=\"text-align: right;\">\n      <th></th>\n      <th></th>\n      <th>month</th>\n      <th>year</th>\n      <th>day</th>\n      <th>open</th>\n      <th>close</th>\n      <th>high</th>\n      <th>low</th>\n      <th>volume</th>\n      <th>volume_type</th>\n    </tr>\n    <tr>\n      <th>date</th>\n      <th>name</th>\n      <th></th>\n      <th></th>\n      <th></th>\n      <th></th>\n      <th></th>\n      <th></th>\n      <th></th>\n      <th></th>\n      <th></th>\n    </tr>\n  </thead>\n  <tbody>\n    <tr>\n      <th rowspan=\"5\" valign=\"top\">2014-01-02</th>\n      <th>FB</th>\n      <td>1</td>\n      <td>2014</td>\n      <td>2</td>\n      <td>54.86</td>\n      <td>54.71</td>\n      <td>55.22</td>\n      <td>54.19</td>\n      <td>43257622</td>\n      <td>medium</td>\n    </tr>\n    <tr>\n      <th>AAPL</th>\n      <td>1</td>\n      <td>2014</td>\n      <td>2</td>\n      <td>79.38</td>\n      <td>79.02</td>\n      <td>79.58</td>\n      <td>78.86</td>\n      <td>8398851</td>\n      <td>low</td>\n    </tr>\n    <tr>\n      <th>GOOGL</th>\n      <td>1</td>\n      <td>2014</td>\n      <td>2</td>\n      <td>557.73</td>\n      <td>556.56</td>\n      <td>558.88</td>\n      <td>554.13</td>\n      <td>1822719</td>\n      <td>medium</td>\n    </tr>\n    <tr>\n      <th>MSFT</th>\n      <td>1</td>\n      <td>2014</td>\n      <td>2</td>\n      <td>37.35</td>\n      <td>37.16</td>\n      <td>37.40</td>\n      <td>37.10</td>\n      <td>30643745</td>\n      <td>medium</td>\n    </tr>\n    <tr>\n      <th>AMZN</th>\n      <td>1</td>\n      <td>2014</td>\n      <td>2</td>\n      <td>398.80</td>\n      <td>397.97</td>\n      <td>399.36</td>\n      <td>394.02</td>\n      <td>2140246</td>\n      <td>medium</td>\n    </tr>\n    <tr>\n      <th rowspan=\"5\" valign=\"top\">2014-01-03</th>\n      <th>FB</th>\n      <td>1</td>\n      <td>2014</td>\n      <td>3</td>\n      <td>55.00</td>\n      <td>54.56</td>\n      <td>55.65</td>\n      <td>54.53</td>\n      <td>38287706</td>\n      <td>medium</td>\n    </tr>\n    <tr>\n      <th>GOOGL</th>\n      <td>1</td>\n      <td>2014</td>\n      <td>3</td>\n      <td>557.50</td>\n      <td>552.50</td>\n      <td>558.47</td>\n      <td>552.47</td>\n      <td>1669229</td>\n      <td>medium</td>\n    </tr>\n    <tr>\n      <th>MSFT</th>\n      <td>1</td>\n      <td>2014</td>\n      <td>3</td>\n      <td>37.20</td>\n      <td>36.91</td>\n      <td>37.22</td>\n      <td>36.60</td>\n      <td>31134795</td>\n      <td>medium</td>\n    </tr>\n    <tr>\n      <th>AAPL</th>\n      <td>1</td>\n      <td>2014</td>\n      <td>3</td>\n      <td>79.00</td>\n      <td>77.28</td>\n      <td>79.10</td>\n      <td>77.20</td>\n      <td>14043410</td>\n      <td>low</td>\n    </tr>\n    <tr>\n      <th>AMZN</th>\n      <td>1</td>\n      <td>2014</td>\n      <td>3</td>\n      <td>398.29</td>\n      <td>396.44</td>\n      <td>402.71</td>\n      <td>396.22</td>\n      <td>2213512</td>\n      <td>medium</td>\n    </tr>\n  </tbody>\n</table>\n</div>"
     },
     "metadata": {},
     "execution_count": 7
    }
   ],
   "source": [
    "tech.head(10)"
   ]
  },
  {
   "cell_type": "code",
   "execution_count": 8,
   "metadata": {},
   "outputs": [],
   "source": [
    "tech = pd.read_csv('tech_giants.csv', index_col=['date', 'name'])"
   ]
  },
  {
   "cell_type": "code",
   "execution_count": 9,
   "metadata": {},
   "outputs": [
    {
     "output_type": "execute_result",
     "data": {
      "text/plain": [
       "                  month  year  day     open    close     high      low  \\\n",
       "date       name                                                          \n",
       "2014-01-02 FB         1  2014    2    54.86    54.71    55.22    54.19   \n",
       "           AAPL       1  2014    2    79.38    79.02    79.58    78.86   \n",
       "           GOOGL      1  2014    2   557.73   556.56   558.88   554.13   \n",
       "           MSFT       1  2014    2    37.35    37.16    37.40    37.10   \n",
       "           AMZN       1  2014    2   398.80   397.97   399.36   394.02   \n",
       "...                 ...   ...  ...      ...      ...      ...      ...   \n",
       "2019-08-23 MSFT       8  2019   23   137.19   133.39   138.35   132.80   \n",
       "           AAPL       8  2019   23   209.43   202.64   212.05   201.00   \n",
       "           GOOGL      8  2019   23  1185.17  1153.58  1195.67  1150.00   \n",
       "           AMZN       8  2019   23  1793.03  1749.62  1804.90  1745.23   \n",
       "           FB         8  2019   23   180.84   177.75   183.13   176.66   \n",
       "\n",
       "                    volume volume_type  \n",
       "date       name                         \n",
       "2014-01-02 FB     43257622      medium  \n",
       "           AAPL    8398851         low  \n",
       "           GOOGL   1822719      medium  \n",
       "           MSFT   30643745      medium  \n",
       "           AMZN    2140246      medium  \n",
       "...                    ...         ...  \n",
       "2019-08-23 MSFT   38515386      medium  \n",
       "           AAPL   46882843      medium  \n",
       "           GOOGL   1813141      medium  \n",
       "           AMZN    5277898      medium  \n",
       "           FB     17331221      medium  \n",
       "\n",
       "[7105 rows x 9 columns]"
      ],
      "text/html": "<div>\n<style scoped>\n    .dataframe tbody tr th:only-of-type {\n        vertical-align: middle;\n    }\n\n    .dataframe tbody tr th {\n        vertical-align: top;\n    }\n\n    .dataframe thead th {\n        text-align: right;\n    }\n</style>\n<table border=\"1\" class=\"dataframe\">\n  <thead>\n    <tr style=\"text-align: right;\">\n      <th></th>\n      <th></th>\n      <th>month</th>\n      <th>year</th>\n      <th>day</th>\n      <th>open</th>\n      <th>close</th>\n      <th>high</th>\n      <th>low</th>\n      <th>volume</th>\n      <th>volume_type</th>\n    </tr>\n    <tr>\n      <th>date</th>\n      <th>name</th>\n      <th></th>\n      <th></th>\n      <th></th>\n      <th></th>\n      <th></th>\n      <th></th>\n      <th></th>\n      <th></th>\n      <th></th>\n    </tr>\n  </thead>\n  <tbody>\n    <tr>\n      <th rowspan=\"5\" valign=\"top\">2014-01-02</th>\n      <th>FB</th>\n      <td>1</td>\n      <td>2014</td>\n      <td>2</td>\n      <td>54.86</td>\n      <td>54.71</td>\n      <td>55.22</td>\n      <td>54.19</td>\n      <td>43257622</td>\n      <td>medium</td>\n    </tr>\n    <tr>\n      <th>AAPL</th>\n      <td>1</td>\n      <td>2014</td>\n      <td>2</td>\n      <td>79.38</td>\n      <td>79.02</td>\n      <td>79.58</td>\n      <td>78.86</td>\n      <td>8398851</td>\n      <td>low</td>\n    </tr>\n    <tr>\n      <th>GOOGL</th>\n      <td>1</td>\n      <td>2014</td>\n      <td>2</td>\n      <td>557.73</td>\n      <td>556.56</td>\n      <td>558.88</td>\n      <td>554.13</td>\n      <td>1822719</td>\n      <td>medium</td>\n    </tr>\n    <tr>\n      <th>MSFT</th>\n      <td>1</td>\n      <td>2014</td>\n      <td>2</td>\n      <td>37.35</td>\n      <td>37.16</td>\n      <td>37.40</td>\n      <td>37.10</td>\n      <td>30643745</td>\n      <td>medium</td>\n    </tr>\n    <tr>\n      <th>AMZN</th>\n      <td>1</td>\n      <td>2014</td>\n      <td>2</td>\n      <td>398.80</td>\n      <td>397.97</td>\n      <td>399.36</td>\n      <td>394.02</td>\n      <td>2140246</td>\n      <td>medium</td>\n    </tr>\n    <tr>\n      <th>...</th>\n      <th>...</th>\n      <td>...</td>\n      <td>...</td>\n      <td>...</td>\n      <td>...</td>\n      <td>...</td>\n      <td>...</td>\n      <td>...</td>\n      <td>...</td>\n      <td>...</td>\n    </tr>\n    <tr>\n      <th rowspan=\"5\" valign=\"top\">2019-08-23</th>\n      <th>MSFT</th>\n      <td>8</td>\n      <td>2019</td>\n      <td>23</td>\n      <td>137.19</td>\n      <td>133.39</td>\n      <td>138.35</td>\n      <td>132.80</td>\n      <td>38515386</td>\n      <td>medium</td>\n    </tr>\n    <tr>\n      <th>AAPL</th>\n      <td>8</td>\n      <td>2019</td>\n      <td>23</td>\n      <td>209.43</td>\n      <td>202.64</td>\n      <td>212.05</td>\n      <td>201.00</td>\n      <td>46882843</td>\n      <td>medium</td>\n    </tr>\n    <tr>\n      <th>GOOGL</th>\n      <td>8</td>\n      <td>2019</td>\n      <td>23</td>\n      <td>1185.17</td>\n      <td>1153.58</td>\n      <td>1195.67</td>\n      <td>1150.00</td>\n      <td>1813141</td>\n      <td>medium</td>\n    </tr>\n    <tr>\n      <th>AMZN</th>\n      <td>8</td>\n      <td>2019</td>\n      <td>23</td>\n      <td>1793.03</td>\n      <td>1749.62</td>\n      <td>1804.90</td>\n      <td>1745.23</td>\n      <td>5277898</td>\n      <td>medium</td>\n    </tr>\n    <tr>\n      <th>FB</th>\n      <td>8</td>\n      <td>2019</td>\n      <td>23</td>\n      <td>180.84</td>\n      <td>177.75</td>\n      <td>183.13</td>\n      <td>176.66</td>\n      <td>17331221</td>\n      <td>medium</td>\n    </tr>\n  </tbody>\n</table>\n<p>7105 rows × 9 columns</p>\n</div>"
     },
     "metadata": {},
     "execution_count": 9
    }
   ],
   "source": [
    "tech"
   ]
  },
  {
   "cell_type": "code",
   "execution_count": 13,
   "metadata": {},
   "outputs": [
    {
     "output_type": "execute_result",
     "data": {
      "text/plain": [
       "556.56"
      ]
     },
     "metadata": {},
     "execution_count": 13
    }
   ],
   "source": [
    "tech.loc['2014-01-02', 'GOOGL'].close"
   ]
  },
  {
   "cell_type": "code",
   "execution_count": 14,
   "metadata": {},
   "outputs": [
    {
     "output_type": "execute_result",
     "data": {
      "text/plain": [
       "556.56"
      ]
     },
     "metadata": {},
     "execution_count": 14
    }
   ],
   "source": [
    "tech.loc[('2014-01-02', 'GOOGL'), 'close']"
   ]
  },
  {
   "cell_type": "code",
   "execution_count": 15,
   "metadata": {},
   "outputs": [
    {
     "output_type": "execute_result",
     "data": {
      "text/plain": [
       "                  month  year  day    open   close    high     low    volume  \\\n",
       "date       name                                                                \n",
       "2015-01-06 AAPL       1  2015    6  106.54  106.26  107.43  104.63  65797116   \n",
       "           FB         1  2015    6   77.23   76.15   77.59   75.36  27399288   \n",
       "           AMZN       1  2015    6  302.20  295.29  303.00  292.38   3519034   \n",
       "           MSFT       1  2015    6   46.38   45.65   46.75   45.54  36447854   \n",
       "           GOOGL      1  2015    6  520.49  506.64  521.21  505.55   2731813   \n",
       "2015-01-07 FB         1  2015    7   76.76   76.15   77.36   75.82  22045333   \n",
       "           MSFT       1  2015    7   45.98   46.23   46.46   45.49  29114061   \n",
       "           GOOGL      1  2015    7  510.99  505.15  511.49  503.65   2345875   \n",
       "           AMZN       1  2015    7  297.54  298.42  301.28  295.33   2640349   \n",
       "           AAPL       1  2015    7  107.20  107.75  108.20  106.70  40105934   \n",
       "\n",
       "                 volume_type  \n",
       "date       name               \n",
       "2015-01-06 AAPL       medium  \n",
       "           FB         medium  \n",
       "           AMZN       medium  \n",
       "           MSFT       medium  \n",
       "           GOOGL      medium  \n",
       "2015-01-07 FB         medium  \n",
       "           MSFT       medium  \n",
       "           GOOGL      medium  \n",
       "           AMZN       medium  \n",
       "           AAPL       medium  "
      ],
      "text/html": "<div>\n<style scoped>\n    .dataframe tbody tr th:only-of-type {\n        vertical-align: middle;\n    }\n\n    .dataframe tbody tr th {\n        vertical-align: top;\n    }\n\n    .dataframe thead th {\n        text-align: right;\n    }\n</style>\n<table border=\"1\" class=\"dataframe\">\n  <thead>\n    <tr style=\"text-align: right;\">\n      <th></th>\n      <th></th>\n      <th>month</th>\n      <th>year</th>\n      <th>day</th>\n      <th>open</th>\n      <th>close</th>\n      <th>high</th>\n      <th>low</th>\n      <th>volume</th>\n      <th>volume_type</th>\n    </tr>\n    <tr>\n      <th>date</th>\n      <th>name</th>\n      <th></th>\n      <th></th>\n      <th></th>\n      <th></th>\n      <th></th>\n      <th></th>\n      <th></th>\n      <th></th>\n      <th></th>\n    </tr>\n  </thead>\n  <tbody>\n    <tr>\n      <th rowspan=\"5\" valign=\"top\">2015-01-06</th>\n      <th>AAPL</th>\n      <td>1</td>\n      <td>2015</td>\n      <td>6</td>\n      <td>106.54</td>\n      <td>106.26</td>\n      <td>107.43</td>\n      <td>104.63</td>\n      <td>65797116</td>\n      <td>medium</td>\n    </tr>\n    <tr>\n      <th>FB</th>\n      <td>1</td>\n      <td>2015</td>\n      <td>6</td>\n      <td>77.23</td>\n      <td>76.15</td>\n      <td>77.59</td>\n      <td>75.36</td>\n      <td>27399288</td>\n      <td>medium</td>\n    </tr>\n    <tr>\n      <th>AMZN</th>\n      <td>1</td>\n      <td>2015</td>\n      <td>6</td>\n      <td>302.20</td>\n      <td>295.29</td>\n      <td>303.00</td>\n      <td>292.38</td>\n      <td>3519034</td>\n      <td>medium</td>\n    </tr>\n    <tr>\n      <th>MSFT</th>\n      <td>1</td>\n      <td>2015</td>\n      <td>6</td>\n      <td>46.38</td>\n      <td>45.65</td>\n      <td>46.75</td>\n      <td>45.54</td>\n      <td>36447854</td>\n      <td>medium</td>\n    </tr>\n    <tr>\n      <th>GOOGL</th>\n      <td>1</td>\n      <td>2015</td>\n      <td>6</td>\n      <td>520.49</td>\n      <td>506.64</td>\n      <td>521.21</td>\n      <td>505.55</td>\n      <td>2731813</td>\n      <td>medium</td>\n    </tr>\n    <tr>\n      <th rowspan=\"5\" valign=\"top\">2015-01-07</th>\n      <th>FB</th>\n      <td>1</td>\n      <td>2015</td>\n      <td>7</td>\n      <td>76.76</td>\n      <td>76.15</td>\n      <td>77.36</td>\n      <td>75.82</td>\n      <td>22045333</td>\n      <td>medium</td>\n    </tr>\n    <tr>\n      <th>MSFT</th>\n      <td>1</td>\n      <td>2015</td>\n      <td>7</td>\n      <td>45.98</td>\n      <td>46.23</td>\n      <td>46.46</td>\n      <td>45.49</td>\n      <td>29114061</td>\n      <td>medium</td>\n    </tr>\n    <tr>\n      <th>GOOGL</th>\n      <td>1</td>\n      <td>2015</td>\n      <td>7</td>\n      <td>510.99</td>\n      <td>505.15</td>\n      <td>511.49</td>\n      <td>503.65</td>\n      <td>2345875</td>\n      <td>medium</td>\n    </tr>\n    <tr>\n      <th>AMZN</th>\n      <td>1</td>\n      <td>2015</td>\n      <td>7</td>\n      <td>297.54</td>\n      <td>298.42</td>\n      <td>301.28</td>\n      <td>295.33</td>\n      <td>2640349</td>\n      <td>medium</td>\n    </tr>\n    <tr>\n      <th>AAPL</th>\n      <td>1</td>\n      <td>2015</td>\n      <td>7</td>\n      <td>107.20</td>\n      <td>107.75</td>\n      <td>108.20</td>\n      <td>106.70</td>\n      <td>40105934</td>\n      <td>medium</td>\n    </tr>\n  </tbody>\n</table>\n</div>"
     },
     "metadata": {},
     "execution_count": 15
    }
   ],
   "source": [
    "tech.loc[['2015-01-06', '2015-01-07']]"
   ]
  },
  {
   "cell_type": "code",
   "execution_count": 18,
   "metadata": {},
   "outputs": [
    {
     "output_type": "execute_result",
     "data": {
      "text/plain": [
       "                 month  year  day    open   close    high     low    volume  \\\n",
       "date       name                                                               \n",
       "2015-01-06 FB        1  2015    6   77.23   76.15   77.59   75.36  27399288   \n",
       "           AMZN      1  2015    6  302.20  295.29  303.00  292.38   3519034   \n",
       "2015-01-07 FB        1  2015    7   76.76   76.15   77.36   75.82  22045333   \n",
       "           AMZN      1  2015    7  297.54  298.42  301.28  295.33   2640349   \n",
       "\n",
       "                volume_type  \n",
       "date       name              \n",
       "2015-01-06 FB        medium  \n",
       "           AMZN      medium  \n",
       "2015-01-07 FB        medium  \n",
       "           AMZN      medium  "
      ],
      "text/html": "<div>\n<style scoped>\n    .dataframe tbody tr th:only-of-type {\n        vertical-align: middle;\n    }\n\n    .dataframe tbody tr th {\n        vertical-align: top;\n    }\n\n    .dataframe thead th {\n        text-align: right;\n    }\n</style>\n<table border=\"1\" class=\"dataframe\">\n  <thead>\n    <tr style=\"text-align: right;\">\n      <th></th>\n      <th></th>\n      <th>month</th>\n      <th>year</th>\n      <th>day</th>\n      <th>open</th>\n      <th>close</th>\n      <th>high</th>\n      <th>low</th>\n      <th>volume</th>\n      <th>volume_type</th>\n    </tr>\n    <tr>\n      <th>date</th>\n      <th>name</th>\n      <th></th>\n      <th></th>\n      <th></th>\n      <th></th>\n      <th></th>\n      <th></th>\n      <th></th>\n      <th></th>\n      <th></th>\n    </tr>\n  </thead>\n  <tbody>\n    <tr>\n      <th rowspan=\"2\" valign=\"top\">2015-01-06</th>\n      <th>FB</th>\n      <td>1</td>\n      <td>2015</td>\n      <td>6</td>\n      <td>77.23</td>\n      <td>76.15</td>\n      <td>77.59</td>\n      <td>75.36</td>\n      <td>27399288</td>\n      <td>medium</td>\n    </tr>\n    <tr>\n      <th>AMZN</th>\n      <td>1</td>\n      <td>2015</td>\n      <td>6</td>\n      <td>302.20</td>\n      <td>295.29</td>\n      <td>303.00</td>\n      <td>292.38</td>\n      <td>3519034</td>\n      <td>medium</td>\n    </tr>\n    <tr>\n      <th rowspan=\"2\" valign=\"top\">2015-01-07</th>\n      <th>FB</th>\n      <td>1</td>\n      <td>2015</td>\n      <td>7</td>\n      <td>76.76</td>\n      <td>76.15</td>\n      <td>77.36</td>\n      <td>75.82</td>\n      <td>22045333</td>\n      <td>medium</td>\n    </tr>\n    <tr>\n      <th>AMZN</th>\n      <td>1</td>\n      <td>2015</td>\n      <td>7</td>\n      <td>297.54</td>\n      <td>298.42</td>\n      <td>301.28</td>\n      <td>295.33</td>\n      <td>2640349</td>\n      <td>medium</td>\n    </tr>\n  </tbody>\n</table>\n</div>"
     },
     "metadata": {},
     "execution_count": 18
    }
   ],
   "source": [
    "tech.loc[(['2015-01-06', '2015-01-07'], ['FB', 'AMZN']), :]"
   ]
  },
  {
   "cell_type": "code",
   "execution_count": 22,
   "metadata": {},
   "outputs": [
    {
     "output_type": "execute_result",
     "data": {
      "text/plain": [
       "                    open   close    high     low\n",
       "date       name                                 \n",
       "2017-01-03 AMZN   757.92  753.67  758.76  747.70\n",
       "           FB     116.03  116.86  117.84  115.51\n",
       "           MSFT    62.79   62.58   62.84   62.13\n",
       "           AAPL   115.80  116.15  116.33  114.76\n",
       "           GOOGL  800.62  808.01  811.44  796.89\n",
       "...                  ...     ...     ...     ...\n",
       "2017-01-31 MSFT    64.86   64.65   65.15   64.26\n",
       "           AAPL   121.15  121.35  121.39  120.62\n",
       "           FB     130.17  130.32  130.66  129.52\n",
       "           GOOGL  819.50  820.19  823.07  813.40\n",
       "           AMZN   823.75  823.48  826.99  819.56\n",
       "\n",
       "[100 rows x 4 columns]"
      ],
      "text/html": "<div>\n<style scoped>\n    .dataframe tbody tr th:only-of-type {\n        vertical-align: middle;\n    }\n\n    .dataframe tbody tr th {\n        vertical-align: top;\n    }\n\n    .dataframe thead th {\n        text-align: right;\n    }\n</style>\n<table border=\"1\" class=\"dataframe\">\n  <thead>\n    <tr style=\"text-align: right;\">\n      <th></th>\n      <th></th>\n      <th>open</th>\n      <th>close</th>\n      <th>high</th>\n      <th>low</th>\n    </tr>\n    <tr>\n      <th>date</th>\n      <th>name</th>\n      <th></th>\n      <th></th>\n      <th></th>\n      <th></th>\n    </tr>\n  </thead>\n  <tbody>\n    <tr>\n      <th rowspan=\"5\" valign=\"top\">2017-01-03</th>\n      <th>AMZN</th>\n      <td>757.92</td>\n      <td>753.67</td>\n      <td>758.76</td>\n      <td>747.70</td>\n    </tr>\n    <tr>\n      <th>FB</th>\n      <td>116.03</td>\n      <td>116.86</td>\n      <td>117.84</td>\n      <td>115.51</td>\n    </tr>\n    <tr>\n      <th>MSFT</th>\n      <td>62.79</td>\n      <td>62.58</td>\n      <td>62.84</td>\n      <td>62.13</td>\n    </tr>\n    <tr>\n      <th>AAPL</th>\n      <td>115.80</td>\n      <td>116.15</td>\n      <td>116.33</td>\n      <td>114.76</td>\n    </tr>\n    <tr>\n      <th>GOOGL</th>\n      <td>800.62</td>\n      <td>808.01</td>\n      <td>811.44</td>\n      <td>796.89</td>\n    </tr>\n    <tr>\n      <th>...</th>\n      <th>...</th>\n      <td>...</td>\n      <td>...</td>\n      <td>...</td>\n      <td>...</td>\n    </tr>\n    <tr>\n      <th rowspan=\"5\" valign=\"top\">2017-01-31</th>\n      <th>MSFT</th>\n      <td>64.86</td>\n      <td>64.65</td>\n      <td>65.15</td>\n      <td>64.26</td>\n    </tr>\n    <tr>\n      <th>AAPL</th>\n      <td>121.15</td>\n      <td>121.35</td>\n      <td>121.39</td>\n      <td>120.62</td>\n    </tr>\n    <tr>\n      <th>FB</th>\n      <td>130.17</td>\n      <td>130.32</td>\n      <td>130.66</td>\n      <td>129.52</td>\n    </tr>\n    <tr>\n      <th>GOOGL</th>\n      <td>819.50</td>\n      <td>820.19</td>\n      <td>823.07</td>\n      <td>813.40</td>\n    </tr>\n    <tr>\n      <th>AMZN</th>\n      <td>823.75</td>\n      <td>823.48</td>\n      <td>826.99</td>\n      <td>819.56</td>\n    </tr>\n  </tbody>\n</table>\n<p>100 rows × 4 columns</p>\n</div>"
     },
     "metadata": {},
     "execution_count": 22
    }
   ],
   "source": [
    "tech.loc['2017-01-03': '2017-01-31', 'open': 'low']"
   ]
  },
  {
   "cell_type": "code",
   "execution_count": 26,
   "metadata": {},
   "outputs": [
    {
     "output_type": "execute_result",
     "data": {
      "text/plain": [
       "                    open   close    high     low\n",
       "date       name                                 \n",
       "2017-01-03 GOOGL  800.62  808.01  811.44  796.89\n",
       "2017-01-04 GOOGL  809.89  807.77  813.43  804.11\n",
       "2017-01-05 GOOGL  807.50  813.02  813.74  805.92\n",
       "2017-01-06 GOOGL  814.99  825.21  828.96  811.50\n",
       "2017-01-09 GOOGL  826.37  827.18  830.43  821.62\n",
       "2017-01-10 GOOGL  827.07  826.01  829.41  823.14\n",
       "2017-01-11 GOOGL  826.62  829.86  829.90  821.47\n",
       "2017-01-12 GOOGL  828.38  829.53  830.38  821.01\n",
       "2017-01-13 GOOGL  831.00  830.94  834.65  829.52\n",
       "2017-01-17 GOOGL  830.00  827.46  830.18  823.20\n",
       "2017-01-18 GOOGL  829.80  829.02  829.81  824.08\n",
       "2017-01-19 GOOGL  829.00  824.37  833.00  823.96\n",
       "2017-01-20 GOOGL  829.09  828.17  829.24  824.60\n",
       "2017-01-23 GOOGL  831.61  844.43  845.54  828.70\n",
       "2017-01-24 GOOGL  846.98  849.53  851.52  842.28\n",
       "2017-01-25 GOOGL  853.55  858.45  858.79  849.74\n",
       "2017-01-26 GOOGL  859.05  856.98  861.00  850.52\n",
       "2017-01-27 GOOGL  859.00  845.03  867.00  841.90\n",
       "2017-01-30 GOOGL  837.06  823.83  837.23  821.03\n",
       "2017-01-31 GOOGL  819.50  820.19  823.07  813.40"
      ],
      "text/html": "<div>\n<style scoped>\n    .dataframe tbody tr th:only-of-type {\n        vertical-align: middle;\n    }\n\n    .dataframe tbody tr th {\n        vertical-align: top;\n    }\n\n    .dataframe thead th {\n        text-align: right;\n    }\n</style>\n<table border=\"1\" class=\"dataframe\">\n  <thead>\n    <tr style=\"text-align: right;\">\n      <th></th>\n      <th></th>\n      <th>open</th>\n      <th>close</th>\n      <th>high</th>\n      <th>low</th>\n    </tr>\n    <tr>\n      <th>date</th>\n      <th>name</th>\n      <th></th>\n      <th></th>\n      <th></th>\n      <th></th>\n    </tr>\n  </thead>\n  <tbody>\n    <tr>\n      <th>2017-01-03</th>\n      <th>GOOGL</th>\n      <td>800.62</td>\n      <td>808.01</td>\n      <td>811.44</td>\n      <td>796.89</td>\n    </tr>\n    <tr>\n      <th>2017-01-04</th>\n      <th>GOOGL</th>\n      <td>809.89</td>\n      <td>807.77</td>\n      <td>813.43</td>\n      <td>804.11</td>\n    </tr>\n    <tr>\n      <th>2017-01-05</th>\n      <th>GOOGL</th>\n      <td>807.50</td>\n      <td>813.02</td>\n      <td>813.74</td>\n      <td>805.92</td>\n    </tr>\n    <tr>\n      <th>2017-01-06</th>\n      <th>GOOGL</th>\n      <td>814.99</td>\n      <td>825.21</td>\n      <td>828.96</td>\n      <td>811.50</td>\n    </tr>\n    <tr>\n      <th>2017-01-09</th>\n      <th>GOOGL</th>\n      <td>826.37</td>\n      <td>827.18</td>\n      <td>830.43</td>\n      <td>821.62</td>\n    </tr>\n    <tr>\n      <th>2017-01-10</th>\n      <th>GOOGL</th>\n      <td>827.07</td>\n      <td>826.01</td>\n      <td>829.41</td>\n      <td>823.14</td>\n    </tr>\n    <tr>\n      <th>2017-01-11</th>\n      <th>GOOGL</th>\n      <td>826.62</td>\n      <td>829.86</td>\n      <td>829.90</td>\n      <td>821.47</td>\n    </tr>\n    <tr>\n      <th>2017-01-12</th>\n      <th>GOOGL</th>\n      <td>828.38</td>\n      <td>829.53</td>\n      <td>830.38</td>\n      <td>821.01</td>\n    </tr>\n    <tr>\n      <th>2017-01-13</th>\n      <th>GOOGL</th>\n      <td>831.00</td>\n      <td>830.94</td>\n      <td>834.65</td>\n      <td>829.52</td>\n    </tr>\n    <tr>\n      <th>2017-01-17</th>\n      <th>GOOGL</th>\n      <td>830.00</td>\n      <td>827.46</td>\n      <td>830.18</td>\n      <td>823.20</td>\n    </tr>\n    <tr>\n      <th>2017-01-18</th>\n      <th>GOOGL</th>\n      <td>829.80</td>\n      <td>829.02</td>\n      <td>829.81</td>\n      <td>824.08</td>\n    </tr>\n    <tr>\n      <th>2017-01-19</th>\n      <th>GOOGL</th>\n      <td>829.00</td>\n      <td>824.37</td>\n      <td>833.00</td>\n      <td>823.96</td>\n    </tr>\n    <tr>\n      <th>2017-01-20</th>\n      <th>GOOGL</th>\n      <td>829.09</td>\n      <td>828.17</td>\n      <td>829.24</td>\n      <td>824.60</td>\n    </tr>\n    <tr>\n      <th>2017-01-23</th>\n      <th>GOOGL</th>\n      <td>831.61</td>\n      <td>844.43</td>\n      <td>845.54</td>\n      <td>828.70</td>\n    </tr>\n    <tr>\n      <th>2017-01-24</th>\n      <th>GOOGL</th>\n      <td>846.98</td>\n      <td>849.53</td>\n      <td>851.52</td>\n      <td>842.28</td>\n    </tr>\n    <tr>\n      <th>2017-01-25</th>\n      <th>GOOGL</th>\n      <td>853.55</td>\n      <td>858.45</td>\n      <td>858.79</td>\n      <td>849.74</td>\n    </tr>\n    <tr>\n      <th>2017-01-26</th>\n      <th>GOOGL</th>\n      <td>859.05</td>\n      <td>856.98</td>\n      <td>861.00</td>\n      <td>850.52</td>\n    </tr>\n    <tr>\n      <th>2017-01-27</th>\n      <th>GOOGL</th>\n      <td>859.00</td>\n      <td>845.03</td>\n      <td>867.00</td>\n      <td>841.90</td>\n    </tr>\n    <tr>\n      <th>2017-01-30</th>\n      <th>GOOGL</th>\n      <td>837.06</td>\n      <td>823.83</td>\n      <td>837.23</td>\n      <td>821.03</td>\n    </tr>\n    <tr>\n      <th>2017-01-31</th>\n      <th>GOOGL</th>\n      <td>819.50</td>\n      <td>820.19</td>\n      <td>823.07</td>\n      <td>813.40</td>\n    </tr>\n  </tbody>\n</table>\n</div>"
     },
     "metadata": {},
     "execution_count": 26
    }
   ],
   "source": [
    "tech.loc[(slice('2017-01-03', '2017-01-31'), 'GOOGL'), 'open': 'low']"
   ]
  },
  {
   "cell_type": "code",
   "execution_count": 35,
   "metadata": {},
   "outputs": [
    {
     "output_type": "execute_result",
     "data": {
      "text/plain": [
       "date        name\n",
       "2014-01-02  FB        54.86\n",
       "            AMZN     398.80\n",
       "2014-01-03  FB        55.00\n",
       "            AMZN     398.29\n",
       "2014-01-06  AMZN     396.13\n",
       "                     ...   \n",
       "2019-08-21  AMZN    1819.39\n",
       "2019-08-22  FB       183.43\n",
       "            AMZN    1828.00\n",
       "2019-08-23  AMZN    1793.03\n",
       "            FB       180.84\n",
       "Name: open, Length: 2842, dtype: float64"
      ]
     },
     "metadata": {},
     "execution_count": 35
    }
   ],
   "source": [
    "tech.loc[(slice(None), ['FB', 'AMZN']), 'open']"
   ]
  },
  {
   "cell_type": "code",
   "execution_count": 37,
   "metadata": {},
   "outputs": [
    {
     "output_type": "execute_result",
     "data": {
      "text/plain": [
       "                    high      low\n",
       "date       name                  \n",
       "2014-01-02 FB      55.22    54.19\n",
       "           AMZN   399.36   394.02\n",
       "2014-01-03 FB      55.65    54.53\n",
       "           AMZN   402.71   396.22\n",
       "2014-01-06 AMZN   397.00   388.42\n",
       "...                  ...      ...\n",
       "2019-08-21 AMZN  1829.58  1815.00\n",
       "2019-08-22 FB     184.11   179.91\n",
       "           AMZN  1829.41  1800.10\n",
       "2019-08-23 AMZN  1804.90  1745.23\n",
       "           FB     183.13   176.66\n",
       "\n",
       "[2842 rows x 2 columns]"
      ],
      "text/html": "<div>\n<style scoped>\n    .dataframe tbody tr th:only-of-type {\n        vertical-align: middle;\n    }\n\n    .dataframe tbody tr th {\n        vertical-align: top;\n    }\n\n    .dataframe thead th {\n        text-align: right;\n    }\n</style>\n<table border=\"1\" class=\"dataframe\">\n  <thead>\n    <tr style=\"text-align: right;\">\n      <th></th>\n      <th></th>\n      <th>high</th>\n      <th>low</th>\n    </tr>\n    <tr>\n      <th>date</th>\n      <th>name</th>\n      <th></th>\n      <th></th>\n    </tr>\n  </thead>\n  <tbody>\n    <tr>\n      <th rowspan=\"2\" valign=\"top\">2014-01-02</th>\n      <th>FB</th>\n      <td>55.22</td>\n      <td>54.19</td>\n    </tr>\n    <tr>\n      <th>AMZN</th>\n      <td>399.36</td>\n      <td>394.02</td>\n    </tr>\n    <tr>\n      <th rowspan=\"2\" valign=\"top\">2014-01-03</th>\n      <th>FB</th>\n      <td>55.65</td>\n      <td>54.53</td>\n    </tr>\n    <tr>\n      <th>AMZN</th>\n      <td>402.71</td>\n      <td>396.22</td>\n    </tr>\n    <tr>\n      <th>2014-01-06</th>\n      <th>AMZN</th>\n      <td>397.00</td>\n      <td>388.42</td>\n    </tr>\n    <tr>\n      <th>...</th>\n      <th>...</th>\n      <td>...</td>\n      <td>...</td>\n    </tr>\n    <tr>\n      <th>2019-08-21</th>\n      <th>AMZN</th>\n      <td>1829.58</td>\n      <td>1815.00</td>\n    </tr>\n    <tr>\n      <th rowspan=\"2\" valign=\"top\">2019-08-22</th>\n      <th>FB</th>\n      <td>184.11</td>\n      <td>179.91</td>\n    </tr>\n    <tr>\n      <th>AMZN</th>\n      <td>1829.41</td>\n      <td>1800.10</td>\n    </tr>\n    <tr>\n      <th rowspan=\"2\" valign=\"top\">2019-08-23</th>\n      <th>AMZN</th>\n      <td>1804.90</td>\n      <td>1745.23</td>\n    </tr>\n    <tr>\n      <th>FB</th>\n      <td>183.13</td>\n      <td>176.66</td>\n    </tr>\n  </tbody>\n</table>\n<p>2842 rows × 2 columns</p>\n</div>"
     },
     "metadata": {},
     "execution_count": 37
    }
   ],
   "source": [
    "tech.loc[pd.IndexSlice[:, ['FB', 'AMZN']], 'high': 'low']"
   ]
  },
  {
   "cell_type": "code",
   "execution_count": 38,
   "metadata": {},
   "outputs": [
    {
     "output_type": "execute_result",
     "data": {
      "text/plain": [
       "                 month  year  day    open   close    high     low    volume  \\\n",
       "date       name                                                               \n",
       "2014-01-02 FB        1  2014    2   54.86   54.71   55.22   54.19  43257622   \n",
       "2014-01-03 FB        1  2014    3   55.00   54.56   55.65   54.53  38287706   \n",
       "2014-01-06 FB        1  2014    6   54.39   57.20   57.26   54.05  68974359   \n",
       "2014-01-07 FB        1  2014    7   57.67   57.92   58.55   57.22  77329009   \n",
       "2014-01-08 FB        1  2014    8   57.59   58.23   58.41   57.23  56800776   \n",
       "...                ...   ...  ...     ...     ...     ...     ...       ...   \n",
       "2019-08-19 FB        8  2019   19  186.01  186.17  187.50  184.85   9699661   \n",
       "2019-08-20 FB        8  2019   20  185.45  183.81  186.00  182.39  10087592   \n",
       "2019-08-21 FB        8  2019   21  185.00  183.55  185.90  183.14   8409548   \n",
       "2019-08-22 FB        8  2019   22  183.43  182.04  184.11  179.91  10829509   \n",
       "2019-08-23 FB        8  2019   23  180.84  177.75  183.13  176.66  17331221   \n",
       "\n",
       "                volume_type  \n",
       "date       name              \n",
       "2014-01-02 FB        medium  \n",
       "2014-01-03 FB        medium  \n",
       "2014-01-06 FB          high  \n",
       "2014-01-07 FB          high  \n",
       "2014-01-08 FB          high  \n",
       "...                     ...  \n",
       "2019-08-19 FB           low  \n",
       "2019-08-20 FB           low  \n",
       "2019-08-21 FB           low  \n",
       "2019-08-22 FB           low  \n",
       "2019-08-23 FB        medium  \n",
       "\n",
       "[1421 rows x 9 columns]"
      ],
      "text/html": "<div>\n<style scoped>\n    .dataframe tbody tr th:only-of-type {\n        vertical-align: middle;\n    }\n\n    .dataframe tbody tr th {\n        vertical-align: top;\n    }\n\n    .dataframe thead th {\n        text-align: right;\n    }\n</style>\n<table border=\"1\" class=\"dataframe\">\n  <thead>\n    <tr style=\"text-align: right;\">\n      <th></th>\n      <th></th>\n      <th>month</th>\n      <th>year</th>\n      <th>day</th>\n      <th>open</th>\n      <th>close</th>\n      <th>high</th>\n      <th>low</th>\n      <th>volume</th>\n      <th>volume_type</th>\n    </tr>\n    <tr>\n      <th>date</th>\n      <th>name</th>\n      <th></th>\n      <th></th>\n      <th></th>\n      <th></th>\n      <th></th>\n      <th></th>\n      <th></th>\n      <th></th>\n      <th></th>\n    </tr>\n  </thead>\n  <tbody>\n    <tr>\n      <th>2014-01-02</th>\n      <th>FB</th>\n      <td>1</td>\n      <td>2014</td>\n      <td>2</td>\n      <td>54.86</td>\n      <td>54.71</td>\n      <td>55.22</td>\n      <td>54.19</td>\n      <td>43257622</td>\n      <td>medium</td>\n    </tr>\n    <tr>\n      <th>2014-01-03</th>\n      <th>FB</th>\n      <td>1</td>\n      <td>2014</td>\n      <td>3</td>\n      <td>55.00</td>\n      <td>54.56</td>\n      <td>55.65</td>\n      <td>54.53</td>\n      <td>38287706</td>\n      <td>medium</td>\n    </tr>\n    <tr>\n      <th>2014-01-06</th>\n      <th>FB</th>\n      <td>1</td>\n      <td>2014</td>\n      <td>6</td>\n      <td>54.39</td>\n      <td>57.20</td>\n      <td>57.26</td>\n      <td>54.05</td>\n      <td>68974359</td>\n      <td>high</td>\n    </tr>\n    <tr>\n      <th>2014-01-07</th>\n      <th>FB</th>\n      <td>1</td>\n      <td>2014</td>\n      <td>7</td>\n      <td>57.67</td>\n      <td>57.92</td>\n      <td>58.55</td>\n      <td>57.22</td>\n      <td>77329009</td>\n      <td>high</td>\n    </tr>\n    <tr>\n      <th>2014-01-08</th>\n      <th>FB</th>\n      <td>1</td>\n      <td>2014</td>\n      <td>8</td>\n      <td>57.59</td>\n      <td>58.23</td>\n      <td>58.41</td>\n      <td>57.23</td>\n      <td>56800776</td>\n      <td>high</td>\n    </tr>\n    <tr>\n      <th>...</th>\n      <th>...</th>\n      <td>...</td>\n      <td>...</td>\n      <td>...</td>\n      <td>...</td>\n      <td>...</td>\n      <td>...</td>\n      <td>...</td>\n      <td>...</td>\n      <td>...</td>\n    </tr>\n    <tr>\n      <th>2019-08-19</th>\n      <th>FB</th>\n      <td>8</td>\n      <td>2019</td>\n      <td>19</td>\n      <td>186.01</td>\n      <td>186.17</td>\n      <td>187.50</td>\n      <td>184.85</td>\n      <td>9699661</td>\n      <td>low</td>\n    </tr>\n    <tr>\n      <th>2019-08-20</th>\n      <th>FB</th>\n      <td>8</td>\n      <td>2019</td>\n      <td>20</td>\n      <td>185.45</td>\n      <td>183.81</td>\n      <td>186.00</td>\n      <td>182.39</td>\n      <td>10087592</td>\n      <td>low</td>\n    </tr>\n    <tr>\n      <th>2019-08-21</th>\n      <th>FB</th>\n      <td>8</td>\n      <td>2019</td>\n      <td>21</td>\n      <td>185.00</td>\n      <td>183.55</td>\n      <td>185.90</td>\n      <td>183.14</td>\n      <td>8409548</td>\n      <td>low</td>\n    </tr>\n    <tr>\n      <th>2019-08-22</th>\n      <th>FB</th>\n      <td>8</td>\n      <td>2019</td>\n      <td>22</td>\n      <td>183.43</td>\n      <td>182.04</td>\n      <td>184.11</td>\n      <td>179.91</td>\n      <td>10829509</td>\n      <td>low</td>\n    </tr>\n    <tr>\n      <th>2019-08-23</th>\n      <th>FB</th>\n      <td>8</td>\n      <td>2019</td>\n      <td>23</td>\n      <td>180.84</td>\n      <td>177.75</td>\n      <td>183.13</td>\n      <td>176.66</td>\n      <td>17331221</td>\n      <td>medium</td>\n    </tr>\n  </tbody>\n</table>\n<p>1421 rows × 9 columns</p>\n</div>"
     },
     "metadata": {},
     "execution_count": 38
    }
   ],
   "source": [
    "tech.xs('FB', level=1, drop_level=False)"
   ]
  },
  {
   "cell_type": "code",
   "execution_count": 40,
   "metadata": {},
   "outputs": [
    {
     "output_type": "execute_result",
     "data": {
      "text/plain": [
       "                 month  year  day    open   close    high     low    volume  \\\n",
       "date       name                                                               \n",
       "2019-01-02 FB        1  2019    2  128.99  135.68  137.51  128.56  28146193   \n",
       "\n",
       "                volume_type  \n",
       "date       name              \n",
       "2019-01-02 FB        medium  "
      ],
      "text/html": "<div>\n<style scoped>\n    .dataframe tbody tr th:only-of-type {\n        vertical-align: middle;\n    }\n\n    .dataframe tbody tr th {\n        vertical-align: top;\n    }\n\n    .dataframe thead th {\n        text-align: right;\n    }\n</style>\n<table border=\"1\" class=\"dataframe\">\n  <thead>\n    <tr style=\"text-align: right;\">\n      <th></th>\n      <th></th>\n      <th>month</th>\n      <th>year</th>\n      <th>day</th>\n      <th>open</th>\n      <th>close</th>\n      <th>high</th>\n      <th>low</th>\n      <th>volume</th>\n      <th>volume_type</th>\n    </tr>\n    <tr>\n      <th>date</th>\n      <th>name</th>\n      <th></th>\n      <th></th>\n      <th></th>\n      <th></th>\n      <th></th>\n      <th></th>\n      <th></th>\n      <th></th>\n      <th></th>\n    </tr>\n  </thead>\n  <tbody>\n    <tr>\n      <th>2019-01-02</th>\n      <th>FB</th>\n      <td>1</td>\n      <td>2019</td>\n      <td>2</td>\n      <td>128.99</td>\n      <td>135.68</td>\n      <td>137.51</td>\n      <td>128.56</td>\n      <td>28146193</td>\n      <td>medium</td>\n    </tr>\n  </tbody>\n</table>\n</div>"
     },
     "metadata": {},
     "execution_count": 40
    }
   ],
   "source": [
    "tech.xs(('2019-01-02', 'FB'), level=(0, 1), drop_level=False)"
   ]
  },
  {
   "cell_type": "code",
   "execution_count": null,
   "metadata": {},
   "outputs": [],
   "source": []
  }
 ]
}