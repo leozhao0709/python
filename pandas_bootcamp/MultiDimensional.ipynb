{
 "metadata": {
  "language_info": {
   "codemirror_mode": {
    "name": "ipython",
    "version": 3
   },
   "file_extension": ".py",
   "mimetype": "text/x-python",
   "name": "python",
   "nbconvert_exporter": "python",
   "pygments_lexer": "ipython3",
   "version": "3.7.6-final"
  },
  "orig_nbformat": 2,
  "kernelspec": {
   "name": "python3",
   "display_name": "Python 3.7.6 64-bit ('base': conda)",
   "metadata": {
    "interpreter": {
     "hash": "e134e05457d34029b6460cd73bbf1ed73f339b5b6d98c95be70b69eba114fe95"
    }
   }
  }
 },
 "nbformat": 4,
 "nbformat_minor": 2,
 "cells": [
  {
   "cell_type": "code",
   "execution_count": 1,
   "metadata": {},
   "outputs": [],
   "source": [
    "import pandas as pd\n",
    "import numpy as np"
   ]
  },
  {
   "cell_type": "code",
   "execution_count": 2,
   "metadata": {},
   "outputs": [],
   "source": [
    "tech = pd.read_csv('tech_giants.csv')"
   ]
  },
  {
   "cell_type": "code",
   "execution_count": 3,
   "metadata": {},
   "outputs": [],
   "source": [
    "tech.set_index(['date', 'name'], inplace=True)"
   ]
  },
  {
   "cell_type": "code",
   "execution_count": 4,
   "metadata": {},
   "outputs": [
    {
     "output_type": "execute_result",
     "data": {
      "text/plain": [
       "                  month  year  day    open   close    high     low    volume  \\\n",
       "date       name                                                                \n",
       "2014-01-02 FB         1  2014    2   54.86   54.71   55.22   54.19  43257622   \n",
       "           AAPL       1  2014    2   79.38   79.02   79.58   78.86   8398851   \n",
       "           GOOGL      1  2014    2  557.73  556.56  558.88  554.13   1822719   \n",
       "           MSFT       1  2014    2   37.35   37.16   37.40   37.10  30643745   \n",
       "           AMZN       1  2014    2  398.80  397.97  399.36  394.02   2140246   \n",
       "2014-01-03 FB         1  2014    3   55.00   54.56   55.65   54.53  38287706   \n",
       "           GOOGL      1  2014    3  557.50  552.50  558.47  552.47   1669229   \n",
       "           MSFT       1  2014    3   37.20   36.91   37.22   36.60  31134795   \n",
       "           AAPL       1  2014    3   79.00   77.28   79.10   77.20  14043410   \n",
       "           AMZN       1  2014    3  398.29  396.44  402.71  396.22   2213512   \n",
       "\n",
       "                 volume_type  \n",
       "date       name               \n",
       "2014-01-02 FB         medium  \n",
       "           AAPL          low  \n",
       "           GOOGL      medium  \n",
       "           MSFT       medium  \n",
       "           AMZN       medium  \n",
       "2014-01-03 FB         medium  \n",
       "           GOOGL      medium  \n",
       "           MSFT       medium  \n",
       "           AAPL          low  \n",
       "           AMZN       medium  "
      ],
      "text/html": "<div>\n<style scoped>\n    .dataframe tbody tr th:only-of-type {\n        vertical-align: middle;\n    }\n\n    .dataframe tbody tr th {\n        vertical-align: top;\n    }\n\n    .dataframe thead th {\n        text-align: right;\n    }\n</style>\n<table border=\"1\" class=\"dataframe\">\n  <thead>\n    <tr style=\"text-align: right;\">\n      <th></th>\n      <th></th>\n      <th>month</th>\n      <th>year</th>\n      <th>day</th>\n      <th>open</th>\n      <th>close</th>\n      <th>high</th>\n      <th>low</th>\n      <th>volume</th>\n      <th>volume_type</th>\n    </tr>\n    <tr>\n      <th>date</th>\n      <th>name</th>\n      <th></th>\n      <th></th>\n      <th></th>\n      <th></th>\n      <th></th>\n      <th></th>\n      <th></th>\n      <th></th>\n      <th></th>\n    </tr>\n  </thead>\n  <tbody>\n    <tr>\n      <th rowspan=\"5\" valign=\"top\">2014-01-02</th>\n      <th>FB</th>\n      <td>1</td>\n      <td>2014</td>\n      <td>2</td>\n      <td>54.86</td>\n      <td>54.71</td>\n      <td>55.22</td>\n      <td>54.19</td>\n      <td>43257622</td>\n      <td>medium</td>\n    </tr>\n    <tr>\n      <th>AAPL</th>\n      <td>1</td>\n      <td>2014</td>\n      <td>2</td>\n      <td>79.38</td>\n      <td>79.02</td>\n      <td>79.58</td>\n      <td>78.86</td>\n      <td>8398851</td>\n      <td>low</td>\n    </tr>\n    <tr>\n      <th>GOOGL</th>\n      <td>1</td>\n      <td>2014</td>\n      <td>2</td>\n      <td>557.73</td>\n      <td>556.56</td>\n      <td>558.88</td>\n      <td>554.13</td>\n      <td>1822719</td>\n      <td>medium</td>\n    </tr>\n    <tr>\n      <th>MSFT</th>\n      <td>1</td>\n      <td>2014</td>\n      <td>2</td>\n      <td>37.35</td>\n      <td>37.16</td>\n      <td>37.40</td>\n      <td>37.10</td>\n      <td>30643745</td>\n      <td>medium</td>\n    </tr>\n    <tr>\n      <th>AMZN</th>\n      <td>1</td>\n      <td>2014</td>\n      <td>2</td>\n      <td>398.80</td>\n      <td>397.97</td>\n      <td>399.36</td>\n      <td>394.02</td>\n      <td>2140246</td>\n      <td>medium</td>\n    </tr>\n    <tr>\n      <th rowspan=\"5\" valign=\"top\">2014-01-03</th>\n      <th>FB</th>\n      <td>1</td>\n      <td>2014</td>\n      <td>3</td>\n      <td>55.00</td>\n      <td>54.56</td>\n      <td>55.65</td>\n      <td>54.53</td>\n      <td>38287706</td>\n      <td>medium</td>\n    </tr>\n    <tr>\n      <th>GOOGL</th>\n      <td>1</td>\n      <td>2014</td>\n      <td>3</td>\n      <td>557.50</td>\n      <td>552.50</td>\n      <td>558.47</td>\n      <td>552.47</td>\n      <td>1669229</td>\n      <td>medium</td>\n    </tr>\n    <tr>\n      <th>MSFT</th>\n      <td>1</td>\n      <td>2014</td>\n      <td>3</td>\n      <td>37.20</td>\n      <td>36.91</td>\n      <td>37.22</td>\n      <td>36.60</td>\n      <td>31134795</td>\n      <td>medium</td>\n    </tr>\n    <tr>\n      <th>AAPL</th>\n      <td>1</td>\n      <td>2014</td>\n      <td>3</td>\n      <td>79.00</td>\n      <td>77.28</td>\n      <td>79.10</td>\n      <td>77.20</td>\n      <td>14043410</td>\n      <td>low</td>\n    </tr>\n    <tr>\n      <th>AMZN</th>\n      <td>1</td>\n      <td>2014</td>\n      <td>3</td>\n      <td>398.29</td>\n      <td>396.44</td>\n      <td>402.71</td>\n      <td>396.22</td>\n      <td>2213512</td>\n      <td>medium</td>\n    </tr>\n  </tbody>\n</table>\n</div>"
     },
     "metadata": {},
     "execution_count": 4
    }
   ],
   "source": [
    "tech.head(10)"
   ]
  },
  {
   "cell_type": "code",
   "execution_count": 5,
   "metadata": {},
   "outputs": [],
   "source": [
    "tech = pd.read_csv('tech_giants.csv', index_col=['date', 'name'])"
   ]
  },
  {
   "cell_type": "code",
   "execution_count": 6,
   "metadata": {},
   "outputs": [
    {
     "output_type": "execute_result",
     "data": {
      "text/plain": [
       "                  month  year  day     open    close     high      low  \\\n",
       "date       name                                                          \n",
       "2014-01-02 FB         1  2014    2    54.86    54.71    55.22    54.19   \n",
       "           AAPL       1  2014    2    79.38    79.02    79.58    78.86   \n",
       "           GOOGL      1  2014    2   557.73   556.56   558.88   554.13   \n",
       "           MSFT       1  2014    2    37.35    37.16    37.40    37.10   \n",
       "           AMZN       1  2014    2   398.80   397.97   399.36   394.02   \n",
       "...                 ...   ...  ...      ...      ...      ...      ...   \n",
       "2019-08-23 MSFT       8  2019   23   137.19   133.39   138.35   132.80   \n",
       "           AAPL       8  2019   23   209.43   202.64   212.05   201.00   \n",
       "           GOOGL      8  2019   23  1185.17  1153.58  1195.67  1150.00   \n",
       "           AMZN       8  2019   23  1793.03  1749.62  1804.90  1745.23   \n",
       "           FB         8  2019   23   180.84   177.75   183.13   176.66   \n",
       "\n",
       "                    volume volume_type  \n",
       "date       name                         \n",
       "2014-01-02 FB     43257622      medium  \n",
       "           AAPL    8398851         low  \n",
       "           GOOGL   1822719      medium  \n",
       "           MSFT   30643745      medium  \n",
       "           AMZN    2140246      medium  \n",
       "...                    ...         ...  \n",
       "2019-08-23 MSFT   38515386      medium  \n",
       "           AAPL   46882843      medium  \n",
       "           GOOGL   1813141      medium  \n",
       "           AMZN    5277898      medium  \n",
       "           FB     17331221      medium  \n",
       "\n",
       "[7105 rows x 9 columns]"
      ],
      "text/html": "<div>\n<style scoped>\n    .dataframe tbody tr th:only-of-type {\n        vertical-align: middle;\n    }\n\n    .dataframe tbody tr th {\n        vertical-align: top;\n    }\n\n    .dataframe thead th {\n        text-align: right;\n    }\n</style>\n<table border=\"1\" class=\"dataframe\">\n  <thead>\n    <tr style=\"text-align: right;\">\n      <th></th>\n      <th></th>\n      <th>month</th>\n      <th>year</th>\n      <th>day</th>\n      <th>open</th>\n      <th>close</th>\n      <th>high</th>\n      <th>low</th>\n      <th>volume</th>\n      <th>volume_type</th>\n    </tr>\n    <tr>\n      <th>date</th>\n      <th>name</th>\n      <th></th>\n      <th></th>\n      <th></th>\n      <th></th>\n      <th></th>\n      <th></th>\n      <th></th>\n      <th></th>\n      <th></th>\n    </tr>\n  </thead>\n  <tbody>\n    <tr>\n      <th rowspan=\"5\" valign=\"top\">2014-01-02</th>\n      <th>FB</th>\n      <td>1</td>\n      <td>2014</td>\n      <td>2</td>\n      <td>54.86</td>\n      <td>54.71</td>\n      <td>55.22</td>\n      <td>54.19</td>\n      <td>43257622</td>\n      <td>medium</td>\n    </tr>\n    <tr>\n      <th>AAPL</th>\n      <td>1</td>\n      <td>2014</td>\n      <td>2</td>\n      <td>79.38</td>\n      <td>79.02</td>\n      <td>79.58</td>\n      <td>78.86</td>\n      <td>8398851</td>\n      <td>low</td>\n    </tr>\n    <tr>\n      <th>GOOGL</th>\n      <td>1</td>\n      <td>2014</td>\n      <td>2</td>\n      <td>557.73</td>\n      <td>556.56</td>\n      <td>558.88</td>\n      <td>554.13</td>\n      <td>1822719</td>\n      <td>medium</td>\n    </tr>\n    <tr>\n      <th>MSFT</th>\n      <td>1</td>\n      <td>2014</td>\n      <td>2</td>\n      <td>37.35</td>\n      <td>37.16</td>\n      <td>37.40</td>\n      <td>37.10</td>\n      <td>30643745</td>\n      <td>medium</td>\n    </tr>\n    <tr>\n      <th>AMZN</th>\n      <td>1</td>\n      <td>2014</td>\n      <td>2</td>\n      <td>398.80</td>\n      <td>397.97</td>\n      <td>399.36</td>\n      <td>394.02</td>\n      <td>2140246</td>\n      <td>medium</td>\n    </tr>\n    <tr>\n      <th>...</th>\n      <th>...</th>\n      <td>...</td>\n      <td>...</td>\n      <td>...</td>\n      <td>...</td>\n      <td>...</td>\n      <td>...</td>\n      <td>...</td>\n      <td>...</td>\n      <td>...</td>\n    </tr>\n    <tr>\n      <th rowspan=\"5\" valign=\"top\">2019-08-23</th>\n      <th>MSFT</th>\n      <td>8</td>\n      <td>2019</td>\n      <td>23</td>\n      <td>137.19</td>\n      <td>133.39</td>\n      <td>138.35</td>\n      <td>132.80</td>\n      <td>38515386</td>\n      <td>medium</td>\n    </tr>\n    <tr>\n      <th>AAPL</th>\n      <td>8</td>\n      <td>2019</td>\n      <td>23</td>\n      <td>209.43</td>\n      <td>202.64</td>\n      <td>212.05</td>\n      <td>201.00</td>\n      <td>46882843</td>\n      <td>medium</td>\n    </tr>\n    <tr>\n      <th>GOOGL</th>\n      <td>8</td>\n      <td>2019</td>\n      <td>23</td>\n      <td>1185.17</td>\n      <td>1153.58</td>\n      <td>1195.67</td>\n      <td>1150.00</td>\n      <td>1813141</td>\n      <td>medium</td>\n    </tr>\n    <tr>\n      <th>AMZN</th>\n      <td>8</td>\n      <td>2019</td>\n      <td>23</td>\n      <td>1793.03</td>\n      <td>1749.62</td>\n      <td>1804.90</td>\n      <td>1745.23</td>\n      <td>5277898</td>\n      <td>medium</td>\n    </tr>\n    <tr>\n      <th>FB</th>\n      <td>8</td>\n      <td>2019</td>\n      <td>23</td>\n      <td>180.84</td>\n      <td>177.75</td>\n      <td>183.13</td>\n      <td>176.66</td>\n      <td>17331221</td>\n      <td>medium</td>\n    </tr>\n  </tbody>\n</table>\n<p>7105 rows × 9 columns</p>\n</div>"
     },
     "metadata": {},
     "execution_count": 6
    }
   ],
   "source": [
    "tech"
   ]
  },
  {
   "cell_type": "code",
   "execution_count": 7,
   "metadata": {},
   "outputs": [
    {
     "output_type": "execute_result",
     "data": {
      "text/plain": [
       "556.56"
      ]
     },
     "metadata": {},
     "execution_count": 7
    }
   ],
   "source": [
    "tech.loc['2014-01-02', 'GOOGL'].close"
   ]
  },
  {
   "cell_type": "code",
   "execution_count": 8,
   "metadata": {},
   "outputs": [
    {
     "output_type": "execute_result",
     "data": {
      "text/plain": [
       "556.56"
      ]
     },
     "metadata": {},
     "execution_count": 8
    }
   ],
   "source": [
    "tech.loc[('2014-01-02', 'GOOGL'), 'close']"
   ]
  },
  {
   "cell_type": "code",
   "execution_count": 9,
   "metadata": {},
   "outputs": [
    {
     "output_type": "execute_result",
     "data": {
      "text/plain": [
       "                  month  year  day    open   close    high     low    volume  \\\n",
       "date       name                                                                \n",
       "2015-01-06 AAPL       1  2015    6  106.54  106.26  107.43  104.63  65797116   \n",
       "           FB         1  2015    6   77.23   76.15   77.59   75.36  27399288   \n",
       "           AMZN       1  2015    6  302.20  295.29  303.00  292.38   3519034   \n",
       "           MSFT       1  2015    6   46.38   45.65   46.75   45.54  36447854   \n",
       "           GOOGL      1  2015    6  520.49  506.64  521.21  505.55   2731813   \n",
       "2015-01-07 FB         1  2015    7   76.76   76.15   77.36   75.82  22045333   \n",
       "           MSFT       1  2015    7   45.98   46.23   46.46   45.49  29114061   \n",
       "           GOOGL      1  2015    7  510.99  505.15  511.49  503.65   2345875   \n",
       "           AMZN       1  2015    7  297.54  298.42  301.28  295.33   2640349   \n",
       "           AAPL       1  2015    7  107.20  107.75  108.20  106.70  40105934   \n",
       "\n",
       "                 volume_type  \n",
       "date       name               \n",
       "2015-01-06 AAPL       medium  \n",
       "           FB         medium  \n",
       "           AMZN       medium  \n",
       "           MSFT       medium  \n",
       "           GOOGL      medium  \n",
       "2015-01-07 FB         medium  \n",
       "           MSFT       medium  \n",
       "           GOOGL      medium  \n",
       "           AMZN       medium  \n",
       "           AAPL       medium  "
      ],
      "text/html": "<div>\n<style scoped>\n    .dataframe tbody tr th:only-of-type {\n        vertical-align: middle;\n    }\n\n    .dataframe tbody tr th {\n        vertical-align: top;\n    }\n\n    .dataframe thead th {\n        text-align: right;\n    }\n</style>\n<table border=\"1\" class=\"dataframe\">\n  <thead>\n    <tr style=\"text-align: right;\">\n      <th></th>\n      <th></th>\n      <th>month</th>\n      <th>year</th>\n      <th>day</th>\n      <th>open</th>\n      <th>close</th>\n      <th>high</th>\n      <th>low</th>\n      <th>volume</th>\n      <th>volume_type</th>\n    </tr>\n    <tr>\n      <th>date</th>\n      <th>name</th>\n      <th></th>\n      <th></th>\n      <th></th>\n      <th></th>\n      <th></th>\n      <th></th>\n      <th></th>\n      <th></th>\n      <th></th>\n    </tr>\n  </thead>\n  <tbody>\n    <tr>\n      <th rowspan=\"5\" valign=\"top\">2015-01-06</th>\n      <th>AAPL</th>\n      <td>1</td>\n      <td>2015</td>\n      <td>6</td>\n      <td>106.54</td>\n      <td>106.26</td>\n      <td>107.43</td>\n      <td>104.63</td>\n      <td>65797116</td>\n      <td>medium</td>\n    </tr>\n    <tr>\n      <th>FB</th>\n      <td>1</td>\n      <td>2015</td>\n      <td>6</td>\n      <td>77.23</td>\n      <td>76.15</td>\n      <td>77.59</td>\n      <td>75.36</td>\n      <td>27399288</td>\n      <td>medium</td>\n    </tr>\n    <tr>\n      <th>AMZN</th>\n      <td>1</td>\n      <td>2015</td>\n      <td>6</td>\n      <td>302.20</td>\n      <td>295.29</td>\n      <td>303.00</td>\n      <td>292.38</td>\n      <td>3519034</td>\n      <td>medium</td>\n    </tr>\n    <tr>\n      <th>MSFT</th>\n      <td>1</td>\n      <td>2015</td>\n      <td>6</td>\n      <td>46.38</td>\n      <td>45.65</td>\n      <td>46.75</td>\n      <td>45.54</td>\n      <td>36447854</td>\n      <td>medium</td>\n    </tr>\n    <tr>\n      <th>GOOGL</th>\n      <td>1</td>\n      <td>2015</td>\n      <td>6</td>\n      <td>520.49</td>\n      <td>506.64</td>\n      <td>521.21</td>\n      <td>505.55</td>\n      <td>2731813</td>\n      <td>medium</td>\n    </tr>\n    <tr>\n      <th rowspan=\"5\" valign=\"top\">2015-01-07</th>\n      <th>FB</th>\n      <td>1</td>\n      <td>2015</td>\n      <td>7</td>\n      <td>76.76</td>\n      <td>76.15</td>\n      <td>77.36</td>\n      <td>75.82</td>\n      <td>22045333</td>\n      <td>medium</td>\n    </tr>\n    <tr>\n      <th>MSFT</th>\n      <td>1</td>\n      <td>2015</td>\n      <td>7</td>\n      <td>45.98</td>\n      <td>46.23</td>\n      <td>46.46</td>\n      <td>45.49</td>\n      <td>29114061</td>\n      <td>medium</td>\n    </tr>\n    <tr>\n      <th>GOOGL</th>\n      <td>1</td>\n      <td>2015</td>\n      <td>7</td>\n      <td>510.99</td>\n      <td>505.15</td>\n      <td>511.49</td>\n      <td>503.65</td>\n      <td>2345875</td>\n      <td>medium</td>\n    </tr>\n    <tr>\n      <th>AMZN</th>\n      <td>1</td>\n      <td>2015</td>\n      <td>7</td>\n      <td>297.54</td>\n      <td>298.42</td>\n      <td>301.28</td>\n      <td>295.33</td>\n      <td>2640349</td>\n      <td>medium</td>\n    </tr>\n    <tr>\n      <th>AAPL</th>\n      <td>1</td>\n      <td>2015</td>\n      <td>7</td>\n      <td>107.20</td>\n      <td>107.75</td>\n      <td>108.20</td>\n      <td>106.70</td>\n      <td>40105934</td>\n      <td>medium</td>\n    </tr>\n  </tbody>\n</table>\n</div>"
     },
     "metadata": {},
     "execution_count": 9
    }
   ],
   "source": [
    "tech.loc[['2015-01-06', '2015-01-07']]"
   ]
  },
  {
   "cell_type": "code",
   "execution_count": 10,
   "metadata": {},
   "outputs": [
    {
     "output_type": "execute_result",
     "data": {
      "text/plain": [
       "                 month  year  day    open   close    high     low    volume  \\\n",
       "date       name                                                               \n",
       "2015-01-06 FB        1  2015    6   77.23   76.15   77.59   75.36  27399288   \n",
       "           AMZN      1  2015    6  302.20  295.29  303.00  292.38   3519034   \n",
       "2015-01-07 FB        1  2015    7   76.76   76.15   77.36   75.82  22045333   \n",
       "           AMZN      1  2015    7  297.54  298.42  301.28  295.33   2640349   \n",
       "\n",
       "                volume_type  \n",
       "date       name              \n",
       "2015-01-06 FB        medium  \n",
       "           AMZN      medium  \n",
       "2015-01-07 FB        medium  \n",
       "           AMZN      medium  "
      ],
      "text/html": "<div>\n<style scoped>\n    .dataframe tbody tr th:only-of-type {\n        vertical-align: middle;\n    }\n\n    .dataframe tbody tr th {\n        vertical-align: top;\n    }\n\n    .dataframe thead th {\n        text-align: right;\n    }\n</style>\n<table border=\"1\" class=\"dataframe\">\n  <thead>\n    <tr style=\"text-align: right;\">\n      <th></th>\n      <th></th>\n      <th>month</th>\n      <th>year</th>\n      <th>day</th>\n      <th>open</th>\n      <th>close</th>\n      <th>high</th>\n      <th>low</th>\n      <th>volume</th>\n      <th>volume_type</th>\n    </tr>\n    <tr>\n      <th>date</th>\n      <th>name</th>\n      <th></th>\n      <th></th>\n      <th></th>\n      <th></th>\n      <th></th>\n      <th></th>\n      <th></th>\n      <th></th>\n      <th></th>\n    </tr>\n  </thead>\n  <tbody>\n    <tr>\n      <th rowspan=\"2\" valign=\"top\">2015-01-06</th>\n      <th>FB</th>\n      <td>1</td>\n      <td>2015</td>\n      <td>6</td>\n      <td>77.23</td>\n      <td>76.15</td>\n      <td>77.59</td>\n      <td>75.36</td>\n      <td>27399288</td>\n      <td>medium</td>\n    </tr>\n    <tr>\n      <th>AMZN</th>\n      <td>1</td>\n      <td>2015</td>\n      <td>6</td>\n      <td>302.20</td>\n      <td>295.29</td>\n      <td>303.00</td>\n      <td>292.38</td>\n      <td>3519034</td>\n      <td>medium</td>\n    </tr>\n    <tr>\n      <th rowspan=\"2\" valign=\"top\">2015-01-07</th>\n      <th>FB</th>\n      <td>1</td>\n      <td>2015</td>\n      <td>7</td>\n      <td>76.76</td>\n      <td>76.15</td>\n      <td>77.36</td>\n      <td>75.82</td>\n      <td>22045333</td>\n      <td>medium</td>\n    </tr>\n    <tr>\n      <th>AMZN</th>\n      <td>1</td>\n      <td>2015</td>\n      <td>7</td>\n      <td>297.54</td>\n      <td>298.42</td>\n      <td>301.28</td>\n      <td>295.33</td>\n      <td>2640349</td>\n      <td>medium</td>\n    </tr>\n  </tbody>\n</table>\n</div>"
     },
     "metadata": {},
     "execution_count": 10
    }
   ],
   "source": [
    "tech.loc[(['2015-01-06', '2015-01-07'], ['FB', 'AMZN']), :]"
   ]
  },
  {
   "cell_type": "code",
   "execution_count": 11,
   "metadata": {},
   "outputs": [
    {
     "output_type": "execute_result",
     "data": {
      "text/plain": [
       "                    open   close    high     low\n",
       "date       name                                 \n",
       "2017-01-03 AMZN   757.92  753.67  758.76  747.70\n",
       "           FB     116.03  116.86  117.84  115.51\n",
       "           MSFT    62.79   62.58   62.84   62.13\n",
       "           AAPL   115.80  116.15  116.33  114.76\n",
       "           GOOGL  800.62  808.01  811.44  796.89\n",
       "...                  ...     ...     ...     ...\n",
       "2017-01-31 MSFT    64.86   64.65   65.15   64.26\n",
       "           AAPL   121.15  121.35  121.39  120.62\n",
       "           FB     130.17  130.32  130.66  129.52\n",
       "           GOOGL  819.50  820.19  823.07  813.40\n",
       "           AMZN   823.75  823.48  826.99  819.56\n",
       "\n",
       "[100 rows x 4 columns]"
      ],
      "text/html": "<div>\n<style scoped>\n    .dataframe tbody tr th:only-of-type {\n        vertical-align: middle;\n    }\n\n    .dataframe tbody tr th {\n        vertical-align: top;\n    }\n\n    .dataframe thead th {\n        text-align: right;\n    }\n</style>\n<table border=\"1\" class=\"dataframe\">\n  <thead>\n    <tr style=\"text-align: right;\">\n      <th></th>\n      <th></th>\n      <th>open</th>\n      <th>close</th>\n      <th>high</th>\n      <th>low</th>\n    </tr>\n    <tr>\n      <th>date</th>\n      <th>name</th>\n      <th></th>\n      <th></th>\n      <th></th>\n      <th></th>\n    </tr>\n  </thead>\n  <tbody>\n    <tr>\n      <th rowspan=\"5\" valign=\"top\">2017-01-03</th>\n      <th>AMZN</th>\n      <td>757.92</td>\n      <td>753.67</td>\n      <td>758.76</td>\n      <td>747.70</td>\n    </tr>\n    <tr>\n      <th>FB</th>\n      <td>116.03</td>\n      <td>116.86</td>\n      <td>117.84</td>\n      <td>115.51</td>\n    </tr>\n    <tr>\n      <th>MSFT</th>\n      <td>62.79</td>\n      <td>62.58</td>\n      <td>62.84</td>\n      <td>62.13</td>\n    </tr>\n    <tr>\n      <th>AAPL</th>\n      <td>115.80</td>\n      <td>116.15</td>\n      <td>116.33</td>\n      <td>114.76</td>\n    </tr>\n    <tr>\n      <th>GOOGL</th>\n      <td>800.62</td>\n      <td>808.01</td>\n      <td>811.44</td>\n      <td>796.89</td>\n    </tr>\n    <tr>\n      <th>...</th>\n      <th>...</th>\n      <td>...</td>\n      <td>...</td>\n      <td>...</td>\n      <td>...</td>\n    </tr>\n    <tr>\n      <th rowspan=\"5\" valign=\"top\">2017-01-31</th>\n      <th>MSFT</th>\n      <td>64.86</td>\n      <td>64.65</td>\n      <td>65.15</td>\n      <td>64.26</td>\n    </tr>\n    <tr>\n      <th>AAPL</th>\n      <td>121.15</td>\n      <td>121.35</td>\n      <td>121.39</td>\n      <td>120.62</td>\n    </tr>\n    <tr>\n      <th>FB</th>\n      <td>130.17</td>\n      <td>130.32</td>\n      <td>130.66</td>\n      <td>129.52</td>\n    </tr>\n    <tr>\n      <th>GOOGL</th>\n      <td>819.50</td>\n      <td>820.19</td>\n      <td>823.07</td>\n      <td>813.40</td>\n    </tr>\n    <tr>\n      <th>AMZN</th>\n      <td>823.75</td>\n      <td>823.48</td>\n      <td>826.99</td>\n      <td>819.56</td>\n    </tr>\n  </tbody>\n</table>\n<p>100 rows × 4 columns</p>\n</div>"
     },
     "metadata": {},
     "execution_count": 11
    }
   ],
   "source": [
    "tech.loc['2017-01-03': '2017-01-31', 'open': 'low']"
   ]
  },
  {
   "cell_type": "code",
   "execution_count": 12,
   "metadata": {},
   "outputs": [
    {
     "output_type": "execute_result",
     "data": {
      "text/plain": [
       "                    open   close    high     low\n",
       "date       name                                 \n",
       "2017-01-03 GOOGL  800.62  808.01  811.44  796.89\n",
       "2017-01-04 GOOGL  809.89  807.77  813.43  804.11\n",
       "2017-01-05 GOOGL  807.50  813.02  813.74  805.92\n",
       "2017-01-06 GOOGL  814.99  825.21  828.96  811.50\n",
       "2017-01-09 GOOGL  826.37  827.18  830.43  821.62\n",
       "2017-01-10 GOOGL  827.07  826.01  829.41  823.14\n",
       "2017-01-11 GOOGL  826.62  829.86  829.90  821.47\n",
       "2017-01-12 GOOGL  828.38  829.53  830.38  821.01\n",
       "2017-01-13 GOOGL  831.00  830.94  834.65  829.52\n",
       "2017-01-17 GOOGL  830.00  827.46  830.18  823.20\n",
       "2017-01-18 GOOGL  829.80  829.02  829.81  824.08\n",
       "2017-01-19 GOOGL  829.00  824.37  833.00  823.96\n",
       "2017-01-20 GOOGL  829.09  828.17  829.24  824.60\n",
       "2017-01-23 GOOGL  831.61  844.43  845.54  828.70\n",
       "2017-01-24 GOOGL  846.98  849.53  851.52  842.28\n",
       "2017-01-25 GOOGL  853.55  858.45  858.79  849.74\n",
       "2017-01-26 GOOGL  859.05  856.98  861.00  850.52\n",
       "2017-01-27 GOOGL  859.00  845.03  867.00  841.90\n",
       "2017-01-30 GOOGL  837.06  823.83  837.23  821.03\n",
       "2017-01-31 GOOGL  819.50  820.19  823.07  813.40"
      ],
      "text/html": "<div>\n<style scoped>\n    .dataframe tbody tr th:only-of-type {\n        vertical-align: middle;\n    }\n\n    .dataframe tbody tr th {\n        vertical-align: top;\n    }\n\n    .dataframe thead th {\n        text-align: right;\n    }\n</style>\n<table border=\"1\" class=\"dataframe\">\n  <thead>\n    <tr style=\"text-align: right;\">\n      <th></th>\n      <th></th>\n      <th>open</th>\n      <th>close</th>\n      <th>high</th>\n      <th>low</th>\n    </tr>\n    <tr>\n      <th>date</th>\n      <th>name</th>\n      <th></th>\n      <th></th>\n      <th></th>\n      <th></th>\n    </tr>\n  </thead>\n  <tbody>\n    <tr>\n      <th>2017-01-03</th>\n      <th>GOOGL</th>\n      <td>800.62</td>\n      <td>808.01</td>\n      <td>811.44</td>\n      <td>796.89</td>\n    </tr>\n    <tr>\n      <th>2017-01-04</th>\n      <th>GOOGL</th>\n      <td>809.89</td>\n      <td>807.77</td>\n      <td>813.43</td>\n      <td>804.11</td>\n    </tr>\n    <tr>\n      <th>2017-01-05</th>\n      <th>GOOGL</th>\n      <td>807.50</td>\n      <td>813.02</td>\n      <td>813.74</td>\n      <td>805.92</td>\n    </tr>\n    <tr>\n      <th>2017-01-06</th>\n      <th>GOOGL</th>\n      <td>814.99</td>\n      <td>825.21</td>\n      <td>828.96</td>\n      <td>811.50</td>\n    </tr>\n    <tr>\n      <th>2017-01-09</th>\n      <th>GOOGL</th>\n      <td>826.37</td>\n      <td>827.18</td>\n      <td>830.43</td>\n      <td>821.62</td>\n    </tr>\n    <tr>\n      <th>2017-01-10</th>\n      <th>GOOGL</th>\n      <td>827.07</td>\n      <td>826.01</td>\n      <td>829.41</td>\n      <td>823.14</td>\n    </tr>\n    <tr>\n      <th>2017-01-11</th>\n      <th>GOOGL</th>\n      <td>826.62</td>\n      <td>829.86</td>\n      <td>829.90</td>\n      <td>821.47</td>\n    </tr>\n    <tr>\n      <th>2017-01-12</th>\n      <th>GOOGL</th>\n      <td>828.38</td>\n      <td>829.53</td>\n      <td>830.38</td>\n      <td>821.01</td>\n    </tr>\n    <tr>\n      <th>2017-01-13</th>\n      <th>GOOGL</th>\n      <td>831.00</td>\n      <td>830.94</td>\n      <td>834.65</td>\n      <td>829.52</td>\n    </tr>\n    <tr>\n      <th>2017-01-17</th>\n      <th>GOOGL</th>\n      <td>830.00</td>\n      <td>827.46</td>\n      <td>830.18</td>\n      <td>823.20</td>\n    </tr>\n    <tr>\n      <th>2017-01-18</th>\n      <th>GOOGL</th>\n      <td>829.80</td>\n      <td>829.02</td>\n      <td>829.81</td>\n      <td>824.08</td>\n    </tr>\n    <tr>\n      <th>2017-01-19</th>\n      <th>GOOGL</th>\n      <td>829.00</td>\n      <td>824.37</td>\n      <td>833.00</td>\n      <td>823.96</td>\n    </tr>\n    <tr>\n      <th>2017-01-20</th>\n      <th>GOOGL</th>\n      <td>829.09</td>\n      <td>828.17</td>\n      <td>829.24</td>\n      <td>824.60</td>\n    </tr>\n    <tr>\n      <th>2017-01-23</th>\n      <th>GOOGL</th>\n      <td>831.61</td>\n      <td>844.43</td>\n      <td>845.54</td>\n      <td>828.70</td>\n    </tr>\n    <tr>\n      <th>2017-01-24</th>\n      <th>GOOGL</th>\n      <td>846.98</td>\n      <td>849.53</td>\n      <td>851.52</td>\n      <td>842.28</td>\n    </tr>\n    <tr>\n      <th>2017-01-25</th>\n      <th>GOOGL</th>\n      <td>853.55</td>\n      <td>858.45</td>\n      <td>858.79</td>\n      <td>849.74</td>\n    </tr>\n    <tr>\n      <th>2017-01-26</th>\n      <th>GOOGL</th>\n      <td>859.05</td>\n      <td>856.98</td>\n      <td>861.00</td>\n      <td>850.52</td>\n    </tr>\n    <tr>\n      <th>2017-01-27</th>\n      <th>GOOGL</th>\n      <td>859.00</td>\n      <td>845.03</td>\n      <td>867.00</td>\n      <td>841.90</td>\n    </tr>\n    <tr>\n      <th>2017-01-30</th>\n      <th>GOOGL</th>\n      <td>837.06</td>\n      <td>823.83</td>\n      <td>837.23</td>\n      <td>821.03</td>\n    </tr>\n    <tr>\n      <th>2017-01-31</th>\n      <th>GOOGL</th>\n      <td>819.50</td>\n      <td>820.19</td>\n      <td>823.07</td>\n      <td>813.40</td>\n    </tr>\n  </tbody>\n</table>\n</div>"
     },
     "metadata": {},
     "execution_count": 12
    }
   ],
   "source": [
    "tech.loc[(slice('2017-01-03', '2017-01-31'), 'GOOGL'), 'open': 'low']"
   ]
  },
  {
   "cell_type": "code",
   "execution_count": 13,
   "metadata": {},
   "outputs": [
    {
     "output_type": "execute_result",
     "data": {
      "text/plain": [
       "date        name\n",
       "2014-01-02  FB        54.86\n",
       "            AMZN     398.80\n",
       "2014-01-03  FB        55.00\n",
       "            AMZN     398.29\n",
       "2014-01-06  AMZN     396.13\n",
       "                     ...   \n",
       "2019-08-21  AMZN    1819.39\n",
       "2019-08-22  FB       183.43\n",
       "            AMZN    1828.00\n",
       "2019-08-23  AMZN    1793.03\n",
       "            FB       180.84\n",
       "Name: open, Length: 2842, dtype: float64"
      ]
     },
     "metadata": {},
     "execution_count": 13
    }
   ],
   "source": [
    "tech.loc[(slice(None), ['FB', 'AMZN']), 'open']"
   ]
  },
  {
   "cell_type": "code",
   "execution_count": 14,
   "metadata": {},
   "outputs": [
    {
     "output_type": "execute_result",
     "data": {
      "text/plain": [
       "                    high      low\n",
       "date       name                  \n",
       "2014-01-02 FB      55.22    54.19\n",
       "           AMZN   399.36   394.02\n",
       "2014-01-03 FB      55.65    54.53\n",
       "           AMZN   402.71   396.22\n",
       "2014-01-06 AMZN   397.00   388.42\n",
       "...                  ...      ...\n",
       "2019-08-21 AMZN  1829.58  1815.00\n",
       "2019-08-22 FB     184.11   179.91\n",
       "           AMZN  1829.41  1800.10\n",
       "2019-08-23 AMZN  1804.90  1745.23\n",
       "           FB     183.13   176.66\n",
       "\n",
       "[2842 rows x 2 columns]"
      ],
      "text/html": "<div>\n<style scoped>\n    .dataframe tbody tr th:only-of-type {\n        vertical-align: middle;\n    }\n\n    .dataframe tbody tr th {\n        vertical-align: top;\n    }\n\n    .dataframe thead th {\n        text-align: right;\n    }\n</style>\n<table border=\"1\" class=\"dataframe\">\n  <thead>\n    <tr style=\"text-align: right;\">\n      <th></th>\n      <th></th>\n      <th>high</th>\n      <th>low</th>\n    </tr>\n    <tr>\n      <th>date</th>\n      <th>name</th>\n      <th></th>\n      <th></th>\n    </tr>\n  </thead>\n  <tbody>\n    <tr>\n      <th rowspan=\"2\" valign=\"top\">2014-01-02</th>\n      <th>FB</th>\n      <td>55.22</td>\n      <td>54.19</td>\n    </tr>\n    <tr>\n      <th>AMZN</th>\n      <td>399.36</td>\n      <td>394.02</td>\n    </tr>\n    <tr>\n      <th rowspan=\"2\" valign=\"top\">2014-01-03</th>\n      <th>FB</th>\n      <td>55.65</td>\n      <td>54.53</td>\n    </tr>\n    <tr>\n      <th>AMZN</th>\n      <td>402.71</td>\n      <td>396.22</td>\n    </tr>\n    <tr>\n      <th>2014-01-06</th>\n      <th>AMZN</th>\n      <td>397.00</td>\n      <td>388.42</td>\n    </tr>\n    <tr>\n      <th>...</th>\n      <th>...</th>\n      <td>...</td>\n      <td>...</td>\n    </tr>\n    <tr>\n      <th>2019-08-21</th>\n      <th>AMZN</th>\n      <td>1829.58</td>\n      <td>1815.00</td>\n    </tr>\n    <tr>\n      <th rowspan=\"2\" valign=\"top\">2019-08-22</th>\n      <th>FB</th>\n      <td>184.11</td>\n      <td>179.91</td>\n    </tr>\n    <tr>\n      <th>AMZN</th>\n      <td>1829.41</td>\n      <td>1800.10</td>\n    </tr>\n    <tr>\n      <th rowspan=\"2\" valign=\"top\">2019-08-23</th>\n      <th>AMZN</th>\n      <td>1804.90</td>\n      <td>1745.23</td>\n    </tr>\n    <tr>\n      <th>FB</th>\n      <td>183.13</td>\n      <td>176.66</td>\n    </tr>\n  </tbody>\n</table>\n<p>2842 rows × 2 columns</p>\n</div>"
     },
     "metadata": {},
     "execution_count": 14
    }
   ],
   "source": [
    "tech.loc[pd.IndexSlice[:, ['FB', 'AMZN']], 'high': 'low']"
   ]
  },
  {
   "cell_type": "code",
   "execution_count": 15,
   "metadata": {},
   "outputs": [
    {
     "output_type": "execute_result",
     "data": {
      "text/plain": [
       "                 month  year  day    open   close    high     low    volume  \\\n",
       "date       name                                                               \n",
       "2014-01-02 FB        1  2014    2   54.86   54.71   55.22   54.19  43257622   \n",
       "2014-01-03 FB        1  2014    3   55.00   54.56   55.65   54.53  38287706   \n",
       "2014-01-06 FB        1  2014    6   54.39   57.20   57.26   54.05  68974359   \n",
       "2014-01-07 FB        1  2014    7   57.67   57.92   58.55   57.22  77329009   \n",
       "2014-01-08 FB        1  2014    8   57.59   58.23   58.41   57.23  56800776   \n",
       "...                ...   ...  ...     ...     ...     ...     ...       ...   \n",
       "2019-08-19 FB        8  2019   19  186.01  186.17  187.50  184.85   9699661   \n",
       "2019-08-20 FB        8  2019   20  185.45  183.81  186.00  182.39  10087592   \n",
       "2019-08-21 FB        8  2019   21  185.00  183.55  185.90  183.14   8409548   \n",
       "2019-08-22 FB        8  2019   22  183.43  182.04  184.11  179.91  10829509   \n",
       "2019-08-23 FB        8  2019   23  180.84  177.75  183.13  176.66  17331221   \n",
       "\n",
       "                volume_type  \n",
       "date       name              \n",
       "2014-01-02 FB        medium  \n",
       "2014-01-03 FB        medium  \n",
       "2014-01-06 FB          high  \n",
       "2014-01-07 FB          high  \n",
       "2014-01-08 FB          high  \n",
       "...                     ...  \n",
       "2019-08-19 FB           low  \n",
       "2019-08-20 FB           low  \n",
       "2019-08-21 FB           low  \n",
       "2019-08-22 FB           low  \n",
       "2019-08-23 FB        medium  \n",
       "\n",
       "[1421 rows x 9 columns]"
      ],
      "text/html": "<div>\n<style scoped>\n    .dataframe tbody tr th:only-of-type {\n        vertical-align: middle;\n    }\n\n    .dataframe tbody tr th {\n        vertical-align: top;\n    }\n\n    .dataframe thead th {\n        text-align: right;\n    }\n</style>\n<table border=\"1\" class=\"dataframe\">\n  <thead>\n    <tr style=\"text-align: right;\">\n      <th></th>\n      <th></th>\n      <th>month</th>\n      <th>year</th>\n      <th>day</th>\n      <th>open</th>\n      <th>close</th>\n      <th>high</th>\n      <th>low</th>\n      <th>volume</th>\n      <th>volume_type</th>\n    </tr>\n    <tr>\n      <th>date</th>\n      <th>name</th>\n      <th></th>\n      <th></th>\n      <th></th>\n      <th></th>\n      <th></th>\n      <th></th>\n      <th></th>\n      <th></th>\n      <th></th>\n    </tr>\n  </thead>\n  <tbody>\n    <tr>\n      <th>2014-01-02</th>\n      <th>FB</th>\n      <td>1</td>\n      <td>2014</td>\n      <td>2</td>\n      <td>54.86</td>\n      <td>54.71</td>\n      <td>55.22</td>\n      <td>54.19</td>\n      <td>43257622</td>\n      <td>medium</td>\n    </tr>\n    <tr>\n      <th>2014-01-03</th>\n      <th>FB</th>\n      <td>1</td>\n      <td>2014</td>\n      <td>3</td>\n      <td>55.00</td>\n      <td>54.56</td>\n      <td>55.65</td>\n      <td>54.53</td>\n      <td>38287706</td>\n      <td>medium</td>\n    </tr>\n    <tr>\n      <th>2014-01-06</th>\n      <th>FB</th>\n      <td>1</td>\n      <td>2014</td>\n      <td>6</td>\n      <td>54.39</td>\n      <td>57.20</td>\n      <td>57.26</td>\n      <td>54.05</td>\n      <td>68974359</td>\n      <td>high</td>\n    </tr>\n    <tr>\n      <th>2014-01-07</th>\n      <th>FB</th>\n      <td>1</td>\n      <td>2014</td>\n      <td>7</td>\n      <td>57.67</td>\n      <td>57.92</td>\n      <td>58.55</td>\n      <td>57.22</td>\n      <td>77329009</td>\n      <td>high</td>\n    </tr>\n    <tr>\n      <th>2014-01-08</th>\n      <th>FB</th>\n      <td>1</td>\n      <td>2014</td>\n      <td>8</td>\n      <td>57.59</td>\n      <td>58.23</td>\n      <td>58.41</td>\n      <td>57.23</td>\n      <td>56800776</td>\n      <td>high</td>\n    </tr>\n    <tr>\n      <th>...</th>\n      <th>...</th>\n      <td>...</td>\n      <td>...</td>\n      <td>...</td>\n      <td>...</td>\n      <td>...</td>\n      <td>...</td>\n      <td>...</td>\n      <td>...</td>\n      <td>...</td>\n    </tr>\n    <tr>\n      <th>2019-08-19</th>\n      <th>FB</th>\n      <td>8</td>\n      <td>2019</td>\n      <td>19</td>\n      <td>186.01</td>\n      <td>186.17</td>\n      <td>187.50</td>\n      <td>184.85</td>\n      <td>9699661</td>\n      <td>low</td>\n    </tr>\n    <tr>\n      <th>2019-08-20</th>\n      <th>FB</th>\n      <td>8</td>\n      <td>2019</td>\n      <td>20</td>\n      <td>185.45</td>\n      <td>183.81</td>\n      <td>186.00</td>\n      <td>182.39</td>\n      <td>10087592</td>\n      <td>low</td>\n    </tr>\n    <tr>\n      <th>2019-08-21</th>\n      <th>FB</th>\n      <td>8</td>\n      <td>2019</td>\n      <td>21</td>\n      <td>185.00</td>\n      <td>183.55</td>\n      <td>185.90</td>\n      <td>183.14</td>\n      <td>8409548</td>\n      <td>low</td>\n    </tr>\n    <tr>\n      <th>2019-08-22</th>\n      <th>FB</th>\n      <td>8</td>\n      <td>2019</td>\n      <td>22</td>\n      <td>183.43</td>\n      <td>182.04</td>\n      <td>184.11</td>\n      <td>179.91</td>\n      <td>10829509</td>\n      <td>low</td>\n    </tr>\n    <tr>\n      <th>2019-08-23</th>\n      <th>FB</th>\n      <td>8</td>\n      <td>2019</td>\n      <td>23</td>\n      <td>180.84</td>\n      <td>177.75</td>\n      <td>183.13</td>\n      <td>176.66</td>\n      <td>17331221</td>\n      <td>medium</td>\n    </tr>\n  </tbody>\n</table>\n<p>1421 rows × 9 columns</p>\n</div>"
     },
     "metadata": {},
     "execution_count": 15
    }
   ],
   "source": [
    "tech.xs('FB', level=1, drop_level=False)"
   ]
  },
  {
   "cell_type": "code",
   "execution_count": 16,
   "metadata": {},
   "outputs": [
    {
     "output_type": "execute_result",
     "data": {
      "text/plain": [
       "                 month  year  day    open   close    high     low    volume  \\\n",
       "date       name                                                               \n",
       "2019-01-02 FB        1  2019    2  128.99  135.68  137.51  128.56  28146193   \n",
       "\n",
       "                volume_type  \n",
       "date       name              \n",
       "2019-01-02 FB        medium  "
      ],
      "text/html": "<div>\n<style scoped>\n    .dataframe tbody tr th:only-of-type {\n        vertical-align: middle;\n    }\n\n    .dataframe tbody tr th {\n        vertical-align: top;\n    }\n\n    .dataframe thead th {\n        text-align: right;\n    }\n</style>\n<table border=\"1\" class=\"dataframe\">\n  <thead>\n    <tr style=\"text-align: right;\">\n      <th></th>\n      <th></th>\n      <th>month</th>\n      <th>year</th>\n      <th>day</th>\n      <th>open</th>\n      <th>close</th>\n      <th>high</th>\n      <th>low</th>\n      <th>volume</th>\n      <th>volume_type</th>\n    </tr>\n    <tr>\n      <th>date</th>\n      <th>name</th>\n      <th></th>\n      <th></th>\n      <th></th>\n      <th></th>\n      <th></th>\n      <th></th>\n      <th></th>\n      <th></th>\n      <th></th>\n    </tr>\n  </thead>\n  <tbody>\n    <tr>\n      <th>2019-01-02</th>\n      <th>FB</th>\n      <td>1</td>\n      <td>2019</td>\n      <td>2</td>\n      <td>128.99</td>\n      <td>135.68</td>\n      <td>137.51</td>\n      <td>128.56</td>\n      <td>28146193</td>\n      <td>medium</td>\n    </tr>\n  </tbody>\n</table>\n</div>"
     },
     "metadata": {},
     "execution_count": 16
    }
   ],
   "source": [
    "tech.xs(('2019-01-02', 'FB'), level=(0, 1), drop_level=False)"
   ]
  },
  {
   "cell_type": "code",
   "execution_count": 20,
   "metadata": {},
   "outputs": [],
   "source": [
    "tech_df2 = tech.loc[slice(\"2015-07-13\", \"2016-08-17\")]"
   ]
  },
  {
   "cell_type": "code",
   "execution_count": 29,
   "metadata": {},
   "outputs": [
    {
     "output_type": "execute_result",
     "data": {
      "text/plain": [
       "                 month  year  day    open   close    high     low    volume  \\\n",
       "date       name                                                               \n",
       "2015-10-22 AAPL     10  2015   22  114.33  115.50  115.50  114.10  41654089   \n",
       "2016-07-27 AAPL      7  2016   27  104.27  102.95  104.35  102.75  92344820   \n",
       "2015-08-10 AAPL      8  2015   10  116.53  119.72  119.99  116.53  54951597   \n",
       "2016-02-23 AAPL      2  2016   23   96.40   94.69   96.50   94.55  31942633   \n",
       "2016-07-07 AAPL      7  2016    7   95.70   95.94   96.50   95.62  25139558   \n",
       "2016-04-06 AAPL      4  2016    6  110.23  110.96  110.98  109.20  26404077   \n",
       "2015-11-24 AAPL     11  2015   24  117.33  118.88  119.35  117.12  42803172   \n",
       "2015-11-27 AAPL     11  2015   27  118.29  117.81  118.41  117.60  13046445   \n",
       "2016-06-07 AAPL      6  2016    7   99.25   99.03   99.87   98.96  22409450   \n",
       "2016-04-25 AAPL      4  2016   25  105.00  105.08  105.65  104.51  28031588   \n",
       "\n",
       "                volume_type  \n",
       "date       name              \n",
       "2015-10-22 AAPL      medium  \n",
       "2016-07-27 AAPL        high  \n",
       "2015-08-10 AAPL      medium  \n",
       "2016-02-23 AAPL      medium  \n",
       "2016-07-07 AAPL      medium  \n",
       "2016-04-06 AAPL      medium  \n",
       "2015-11-24 AAPL      medium  \n",
       "2015-11-27 AAPL         low  \n",
       "2016-06-07 AAPL      medium  \n",
       "2016-04-25 AAPL      medium  "
      ],
      "text/html": "<div>\n<style scoped>\n    .dataframe tbody tr th:only-of-type {\n        vertical-align: middle;\n    }\n\n    .dataframe tbody tr th {\n        vertical-align: top;\n    }\n\n    .dataframe thead th {\n        text-align: right;\n    }\n</style>\n<table border=\"1\" class=\"dataframe\">\n  <thead>\n    <tr style=\"text-align: right;\">\n      <th></th>\n      <th></th>\n      <th>month</th>\n      <th>year</th>\n      <th>day</th>\n      <th>open</th>\n      <th>close</th>\n      <th>high</th>\n      <th>low</th>\n      <th>volume</th>\n      <th>volume_type</th>\n    </tr>\n    <tr>\n      <th>date</th>\n      <th>name</th>\n      <th></th>\n      <th></th>\n      <th></th>\n      <th></th>\n      <th></th>\n      <th></th>\n      <th></th>\n      <th></th>\n      <th></th>\n    </tr>\n  </thead>\n  <tbody>\n    <tr>\n      <th>2015-10-22</th>\n      <th>AAPL</th>\n      <td>10</td>\n      <td>2015</td>\n      <td>22</td>\n      <td>114.33</td>\n      <td>115.50</td>\n      <td>115.50</td>\n      <td>114.10</td>\n      <td>41654089</td>\n      <td>medium</td>\n    </tr>\n    <tr>\n      <th>2016-07-27</th>\n      <th>AAPL</th>\n      <td>7</td>\n      <td>2016</td>\n      <td>27</td>\n      <td>104.27</td>\n      <td>102.95</td>\n      <td>104.35</td>\n      <td>102.75</td>\n      <td>92344820</td>\n      <td>high</td>\n    </tr>\n    <tr>\n      <th>2015-08-10</th>\n      <th>AAPL</th>\n      <td>8</td>\n      <td>2015</td>\n      <td>10</td>\n      <td>116.53</td>\n      <td>119.72</td>\n      <td>119.99</td>\n      <td>116.53</td>\n      <td>54951597</td>\n      <td>medium</td>\n    </tr>\n    <tr>\n      <th>2016-02-23</th>\n      <th>AAPL</th>\n      <td>2</td>\n      <td>2016</td>\n      <td>23</td>\n      <td>96.40</td>\n      <td>94.69</td>\n      <td>96.50</td>\n      <td>94.55</td>\n      <td>31942633</td>\n      <td>medium</td>\n    </tr>\n    <tr>\n      <th>2016-07-07</th>\n      <th>AAPL</th>\n      <td>7</td>\n      <td>2016</td>\n      <td>7</td>\n      <td>95.70</td>\n      <td>95.94</td>\n      <td>96.50</td>\n      <td>95.62</td>\n      <td>25139558</td>\n      <td>medium</td>\n    </tr>\n    <tr>\n      <th>2016-04-06</th>\n      <th>AAPL</th>\n      <td>4</td>\n      <td>2016</td>\n      <td>6</td>\n      <td>110.23</td>\n      <td>110.96</td>\n      <td>110.98</td>\n      <td>109.20</td>\n      <td>26404077</td>\n      <td>medium</td>\n    </tr>\n    <tr>\n      <th>2015-11-24</th>\n      <th>AAPL</th>\n      <td>11</td>\n      <td>2015</td>\n      <td>24</td>\n      <td>117.33</td>\n      <td>118.88</td>\n      <td>119.35</td>\n      <td>117.12</td>\n      <td>42803172</td>\n      <td>medium</td>\n    </tr>\n    <tr>\n      <th>2015-11-27</th>\n      <th>AAPL</th>\n      <td>11</td>\n      <td>2015</td>\n      <td>27</td>\n      <td>118.29</td>\n      <td>117.81</td>\n      <td>118.41</td>\n      <td>117.60</td>\n      <td>13046445</td>\n      <td>low</td>\n    </tr>\n    <tr>\n      <th>2016-06-07</th>\n      <th>AAPL</th>\n      <td>6</td>\n      <td>2016</td>\n      <td>7</td>\n      <td>99.25</td>\n      <td>99.03</td>\n      <td>99.87</td>\n      <td>98.96</td>\n      <td>22409450</td>\n      <td>medium</td>\n    </tr>\n    <tr>\n      <th>2016-04-25</th>\n      <th>AAPL</th>\n      <td>4</td>\n      <td>2016</td>\n      <td>25</td>\n      <td>105.00</td>\n      <td>105.08</td>\n      <td>105.65</td>\n      <td>104.51</td>\n      <td>28031588</td>\n      <td>medium</td>\n    </tr>\n  </tbody>\n</table>\n</div>"
     },
     "metadata": {},
     "execution_count": 29
    }
   ],
   "source": [
    "tech_df2.loc[(slice(None), ['AAPL']), :].sample(10)"
   ]
  },
  {
   "cell_type": "code",
   "execution_count": 27,
   "metadata": {},
   "outputs": [
    {
     "output_type": "execute_result",
     "data": {
      "text/plain": [
       "                    high     low\n",
       "date       name                 \n",
       "2015-07-13 GOOGL  572.85  558.70\n",
       "           AAPL   125.76  124.32\n",
       "2015-07-14 GOOGL  589.71  574.17\n",
       "           AAPL   126.37  125.04\n",
       "2015-07-15 GOOGL  588.69  580.21\n",
       "...                  ...     ...\n",
       "2016-08-15 AAPL   109.54  108.08\n",
       "2016-08-16 GOOGL  804.26  797.00\n",
       "           AAPL   110.23  109.21\n",
       "2016-08-17 GOOGL  805.63  796.30\n",
       "           AAPL   109.37  108.34\n",
       "\n",
       "[558 rows x 2 columns]"
      ],
      "text/html": "<div>\n<style scoped>\n    .dataframe tbody tr th:only-of-type {\n        vertical-align: middle;\n    }\n\n    .dataframe tbody tr th {\n        vertical-align: top;\n    }\n\n    .dataframe thead th {\n        text-align: right;\n    }\n</style>\n<table border=\"1\" class=\"dataframe\">\n  <thead>\n    <tr style=\"text-align: right;\">\n      <th></th>\n      <th></th>\n      <th>high</th>\n      <th>low</th>\n    </tr>\n    <tr>\n      <th>date</th>\n      <th>name</th>\n      <th></th>\n      <th></th>\n    </tr>\n  </thead>\n  <tbody>\n    <tr>\n      <th rowspan=\"2\" valign=\"top\">2015-07-13</th>\n      <th>GOOGL</th>\n      <td>572.85</td>\n      <td>558.70</td>\n    </tr>\n    <tr>\n      <th>AAPL</th>\n      <td>125.76</td>\n      <td>124.32</td>\n    </tr>\n    <tr>\n      <th rowspan=\"2\" valign=\"top\">2015-07-14</th>\n      <th>GOOGL</th>\n      <td>589.71</td>\n      <td>574.17</td>\n    </tr>\n    <tr>\n      <th>AAPL</th>\n      <td>126.37</td>\n      <td>125.04</td>\n    </tr>\n    <tr>\n      <th>2015-07-15</th>\n      <th>GOOGL</th>\n      <td>588.69</td>\n      <td>580.21</td>\n    </tr>\n    <tr>\n      <th>...</th>\n      <th>...</th>\n      <td>...</td>\n      <td>...</td>\n    </tr>\n    <tr>\n      <th>2016-08-15</th>\n      <th>AAPL</th>\n      <td>109.54</td>\n      <td>108.08</td>\n    </tr>\n    <tr>\n      <th rowspan=\"2\" valign=\"top\">2016-08-16</th>\n      <th>GOOGL</th>\n      <td>804.26</td>\n      <td>797.00</td>\n    </tr>\n    <tr>\n      <th>AAPL</th>\n      <td>110.23</td>\n      <td>109.21</td>\n    </tr>\n    <tr>\n      <th rowspan=\"2\" valign=\"top\">2016-08-17</th>\n      <th>GOOGL</th>\n      <td>805.63</td>\n      <td>796.30</td>\n    </tr>\n    <tr>\n      <th>AAPL</th>\n      <td>109.37</td>\n      <td>108.34</td>\n    </tr>\n  </tbody>\n</table>\n<p>558 rows × 2 columns</p>\n</div>"
     },
     "metadata": {},
     "execution_count": 27
    }
   ],
   "source": [
    "tech_df2.loc[(slice(None), ['AAPL', 'GOOGL']), ['high', 'low']]"
   ]
  },
  {
   "cell_type": "code",
   "execution_count": 32,
   "metadata": {},
   "outputs": [
    {
     "output_type": "execute_result",
     "data": {
      "text/plain": [
       "                  month  year  day    open   close    high     low    volume  \\\n",
       "date       name                                                                \n",
       "2015-07-13 GOOGL      7  2015   13  559.51  571.73  572.85  558.70   2089641   \n",
       "           AAPL       7  2015   13  125.03  125.66  125.76  124.32  41440538   \n",
       "2015-07-14 GOOGL      7  2015   14  574.50  584.18  589.71  574.17   3741583   \n",
       "           AAPL       7  2015   14  126.04  125.61  126.37  125.04  31768139   \n",
       "2015-07-15 GOOGL      7  2015   15  583.74  583.96  588.69  580.21   2073330   \n",
       "...                 ...   ...  ...     ...     ...     ...     ...       ...   \n",
       "2016-08-15 AAPL       8  2016   15  108.14  109.48  109.54  108.08  25868209   \n",
       "2016-08-16 GOOGL      8  2016   16  803.50  801.19  804.26  797.00   1057897   \n",
       "           AAPL       8  2016   16  109.63  109.38  110.23  109.21  33794448   \n",
       "2016-08-17 GOOGL      8  2016   17  800.00  805.42  805.63  796.30   1066070   \n",
       "           AAPL       8  2016   17  109.10  109.22  109.37  108.34  25355976   \n",
       "\n",
       "                 volume_type  \n",
       "date       name               \n",
       "2015-07-13 GOOGL      medium  \n",
       "           AAPL       medium  \n",
       "2015-07-14 GOOGL      medium  \n",
       "           AAPL       medium  \n",
       "2015-07-15 GOOGL      medium  \n",
       "...                      ...  \n",
       "2016-08-15 AAPL       medium  \n",
       "2016-08-16 GOOGL      medium  \n",
       "           AAPL       medium  \n",
       "2016-08-17 GOOGL      medium  \n",
       "           AAPL       medium  \n",
       "\n",
       "[558 rows x 9 columns]"
      ],
      "text/html": "<div>\n<style scoped>\n    .dataframe tbody tr th:only-of-type {\n        vertical-align: middle;\n    }\n\n    .dataframe tbody tr th {\n        vertical-align: top;\n    }\n\n    .dataframe thead th {\n        text-align: right;\n    }\n</style>\n<table border=\"1\" class=\"dataframe\">\n  <thead>\n    <tr style=\"text-align: right;\">\n      <th></th>\n      <th></th>\n      <th>month</th>\n      <th>year</th>\n      <th>day</th>\n      <th>open</th>\n      <th>close</th>\n      <th>high</th>\n      <th>low</th>\n      <th>volume</th>\n      <th>volume_type</th>\n    </tr>\n    <tr>\n      <th>date</th>\n      <th>name</th>\n      <th></th>\n      <th></th>\n      <th></th>\n      <th></th>\n      <th></th>\n      <th></th>\n      <th></th>\n      <th></th>\n      <th></th>\n    </tr>\n  </thead>\n  <tbody>\n    <tr>\n      <th rowspan=\"2\" valign=\"top\">2015-07-13</th>\n      <th>GOOGL</th>\n      <td>7</td>\n      <td>2015</td>\n      <td>13</td>\n      <td>559.51</td>\n      <td>571.73</td>\n      <td>572.85</td>\n      <td>558.70</td>\n      <td>2089641</td>\n      <td>medium</td>\n    </tr>\n    <tr>\n      <th>AAPL</th>\n      <td>7</td>\n      <td>2015</td>\n      <td>13</td>\n      <td>125.03</td>\n      <td>125.66</td>\n      <td>125.76</td>\n      <td>124.32</td>\n      <td>41440538</td>\n      <td>medium</td>\n    </tr>\n    <tr>\n      <th rowspan=\"2\" valign=\"top\">2015-07-14</th>\n      <th>GOOGL</th>\n      <td>7</td>\n      <td>2015</td>\n      <td>14</td>\n      <td>574.50</td>\n      <td>584.18</td>\n      <td>589.71</td>\n      <td>574.17</td>\n      <td>3741583</td>\n      <td>medium</td>\n    </tr>\n    <tr>\n      <th>AAPL</th>\n      <td>7</td>\n      <td>2015</td>\n      <td>14</td>\n      <td>126.04</td>\n      <td>125.61</td>\n      <td>126.37</td>\n      <td>125.04</td>\n      <td>31768139</td>\n      <td>medium</td>\n    </tr>\n    <tr>\n      <th>2015-07-15</th>\n      <th>GOOGL</th>\n      <td>7</td>\n      <td>2015</td>\n      <td>15</td>\n      <td>583.74</td>\n      <td>583.96</td>\n      <td>588.69</td>\n      <td>580.21</td>\n      <td>2073330</td>\n      <td>medium</td>\n    </tr>\n    <tr>\n      <th>...</th>\n      <th>...</th>\n      <td>...</td>\n      <td>...</td>\n      <td>...</td>\n      <td>...</td>\n      <td>...</td>\n      <td>...</td>\n      <td>...</td>\n      <td>...</td>\n      <td>...</td>\n    </tr>\n    <tr>\n      <th>2016-08-15</th>\n      <th>AAPL</th>\n      <td>8</td>\n      <td>2016</td>\n      <td>15</td>\n      <td>108.14</td>\n      <td>109.48</td>\n      <td>109.54</td>\n      <td>108.08</td>\n      <td>25868209</td>\n      <td>medium</td>\n    </tr>\n    <tr>\n      <th rowspan=\"2\" valign=\"top\">2016-08-16</th>\n      <th>GOOGL</th>\n      <td>8</td>\n      <td>2016</td>\n      <td>16</td>\n      <td>803.50</td>\n      <td>801.19</td>\n      <td>804.26</td>\n      <td>797.00</td>\n      <td>1057897</td>\n      <td>medium</td>\n    </tr>\n    <tr>\n      <th>AAPL</th>\n      <td>8</td>\n      <td>2016</td>\n      <td>16</td>\n      <td>109.63</td>\n      <td>109.38</td>\n      <td>110.23</td>\n      <td>109.21</td>\n      <td>33794448</td>\n      <td>medium</td>\n    </tr>\n    <tr>\n      <th rowspan=\"2\" valign=\"top\">2016-08-17</th>\n      <th>GOOGL</th>\n      <td>8</td>\n      <td>2016</td>\n      <td>17</td>\n      <td>800.00</td>\n      <td>805.42</td>\n      <td>805.63</td>\n      <td>796.30</td>\n      <td>1066070</td>\n      <td>medium</td>\n    </tr>\n    <tr>\n      <th>AAPL</th>\n      <td>8</td>\n      <td>2016</td>\n      <td>17</td>\n      <td>109.10</td>\n      <td>109.22</td>\n      <td>109.37</td>\n      <td>108.34</td>\n      <td>25355976</td>\n      <td>medium</td>\n    </tr>\n  </tbody>\n</table>\n<p>558 rows × 9 columns</p>\n</div>"
     },
     "metadata": {},
     "execution_count": 32
    }
   ],
   "source": [
    "tech_df2.loc[(slice(None), ['AAPL', 'GOOGL']), :]"
   ]
  },
  {
   "cell_type": "code",
   "execution_count": 37,
   "metadata": {},
   "outputs": [
    {
     "output_type": "execute_result",
     "data": {
      "text/plain": [
       "                 month  year  day    open   close    high     low    volume  \\\n",
       "date       name                                                               \n",
       "2015-07-13 AAPL      7  2015   13  125.03  125.66  125.76  124.32  41440538   \n",
       "2015-07-14 AAPL      7  2015   14  126.04  125.61  126.37  125.04  31768139   \n",
       "2015-07-15 AAPL      7  2015   15  125.72  126.82  127.15  125.58  33649200   \n",
       "2015-07-16 AAPL      7  2015   16  127.74  128.51  128.57  127.35  36222447   \n",
       "2015-07-17 AAPL      7  2015   17  129.08  129.62  129.62  128.31  46164710   \n",
       "...                ...   ...  ...     ...     ...     ...     ...       ...   \n",
       "2016-08-11 AAPL      8  2016   11  108.52  107.93  108.93  107.85  27484506   \n",
       "2016-08-12 AAPL      8  2016   12  107.78  108.18  108.44  107.78  18660434   \n",
       "2016-08-15 AAPL      8  2016   15  108.14  109.48  109.54  108.08  25868209   \n",
       "2016-08-16 AAPL      8  2016   16  109.63  109.38  110.23  109.21  33794448   \n",
       "2016-08-17 AAPL      8  2016   17  109.10  109.22  109.37  108.34  25355976   \n",
       "\n",
       "                volume_type  \n",
       "date       name              \n",
       "2015-07-13 AAPL      medium  \n",
       "2015-07-14 AAPL      medium  \n",
       "2015-07-15 AAPL      medium  \n",
       "2015-07-16 AAPL      medium  \n",
       "2015-07-17 AAPL      medium  \n",
       "...                     ...  \n",
       "2016-08-11 AAPL      medium  \n",
       "2016-08-12 AAPL      medium  \n",
       "2016-08-15 AAPL      medium  \n",
       "2016-08-16 AAPL      medium  \n",
       "2016-08-17 AAPL      medium  \n",
       "\n",
       "[279 rows x 9 columns]"
      ],
      "text/html": "<div>\n<style scoped>\n    .dataframe tbody tr th:only-of-type {\n        vertical-align: middle;\n    }\n\n    .dataframe tbody tr th {\n        vertical-align: top;\n    }\n\n    .dataframe thead th {\n        text-align: right;\n    }\n</style>\n<table border=\"1\" class=\"dataframe\">\n  <thead>\n    <tr style=\"text-align: right;\">\n      <th></th>\n      <th></th>\n      <th>month</th>\n      <th>year</th>\n      <th>day</th>\n      <th>open</th>\n      <th>close</th>\n      <th>high</th>\n      <th>low</th>\n      <th>volume</th>\n      <th>volume_type</th>\n    </tr>\n    <tr>\n      <th>date</th>\n      <th>name</th>\n      <th></th>\n      <th></th>\n      <th></th>\n      <th></th>\n      <th></th>\n      <th></th>\n      <th></th>\n      <th></th>\n      <th></th>\n    </tr>\n  </thead>\n  <tbody>\n    <tr>\n      <th>2015-07-13</th>\n      <th>AAPL</th>\n      <td>7</td>\n      <td>2015</td>\n      <td>13</td>\n      <td>125.03</td>\n      <td>125.66</td>\n      <td>125.76</td>\n      <td>124.32</td>\n      <td>41440538</td>\n      <td>medium</td>\n    </tr>\n    <tr>\n      <th>2015-07-14</th>\n      <th>AAPL</th>\n      <td>7</td>\n      <td>2015</td>\n      <td>14</td>\n      <td>126.04</td>\n      <td>125.61</td>\n      <td>126.37</td>\n      <td>125.04</td>\n      <td>31768139</td>\n      <td>medium</td>\n    </tr>\n    <tr>\n      <th>2015-07-15</th>\n      <th>AAPL</th>\n      <td>7</td>\n      <td>2015</td>\n      <td>15</td>\n      <td>125.72</td>\n      <td>126.82</td>\n      <td>127.15</td>\n      <td>125.58</td>\n      <td>33649200</td>\n      <td>medium</td>\n    </tr>\n    <tr>\n      <th>2015-07-16</th>\n      <th>AAPL</th>\n      <td>7</td>\n      <td>2015</td>\n      <td>16</td>\n      <td>127.74</td>\n      <td>128.51</td>\n      <td>128.57</td>\n      <td>127.35</td>\n      <td>36222447</td>\n      <td>medium</td>\n    </tr>\n    <tr>\n      <th>2015-07-17</th>\n      <th>AAPL</th>\n      <td>7</td>\n      <td>2015</td>\n      <td>17</td>\n      <td>129.08</td>\n      <td>129.62</td>\n      <td>129.62</td>\n      <td>128.31</td>\n      <td>46164710</td>\n      <td>medium</td>\n    </tr>\n    <tr>\n      <th>...</th>\n      <th>...</th>\n      <td>...</td>\n      <td>...</td>\n      <td>...</td>\n      <td>...</td>\n      <td>...</td>\n      <td>...</td>\n      <td>...</td>\n      <td>...</td>\n      <td>...</td>\n    </tr>\n    <tr>\n      <th>2016-08-11</th>\n      <th>AAPL</th>\n      <td>8</td>\n      <td>2016</td>\n      <td>11</td>\n      <td>108.52</td>\n      <td>107.93</td>\n      <td>108.93</td>\n      <td>107.85</td>\n      <td>27484506</td>\n      <td>medium</td>\n    </tr>\n    <tr>\n      <th>2016-08-12</th>\n      <th>AAPL</th>\n      <td>8</td>\n      <td>2016</td>\n      <td>12</td>\n      <td>107.78</td>\n      <td>108.18</td>\n      <td>108.44</td>\n      <td>107.78</td>\n      <td>18660434</td>\n      <td>medium</td>\n    </tr>\n    <tr>\n      <th>2016-08-15</th>\n      <th>AAPL</th>\n      <td>8</td>\n      <td>2016</td>\n      <td>15</td>\n      <td>108.14</td>\n      <td>109.48</td>\n      <td>109.54</td>\n      <td>108.08</td>\n      <td>25868209</td>\n      <td>medium</td>\n    </tr>\n    <tr>\n      <th>2016-08-16</th>\n      <th>AAPL</th>\n      <td>8</td>\n      <td>2016</td>\n      <td>16</td>\n      <td>109.63</td>\n      <td>109.38</td>\n      <td>110.23</td>\n      <td>109.21</td>\n      <td>33794448</td>\n      <td>medium</td>\n    </tr>\n    <tr>\n      <th>2016-08-17</th>\n      <th>AAPL</th>\n      <td>8</td>\n      <td>2016</td>\n      <td>17</td>\n      <td>109.10</td>\n      <td>109.22</td>\n      <td>109.37</td>\n      <td>108.34</td>\n      <td>25355976</td>\n      <td>medium</td>\n    </tr>\n  </tbody>\n</table>\n<p>279 rows × 9 columns</p>\n</div>"
     },
     "metadata": {},
     "execution_count": 37
    }
   ],
   "source": [
    "tech_df2.xs(level=1, key='AAPL', drop_level=False)"
   ]
  },
  {
   "cell_type": "code",
   "execution_count": 41,
   "metadata": {},
   "outputs": [],
   "source": [
    "tech.set_index('volume_type', append=True, inplace=True)"
   ]
  },
  {
   "cell_type": "code",
   "execution_count": 42,
   "metadata": {},
   "outputs": [
    {
     "output_type": "execute_result",
     "data": {
      "text/plain": [
       "                              month  year  day     open    close     high  \\\n",
       "date       volume_type name                                                 \n",
       "2014-01-02 medium      FB         1  2014    2    54.86    54.71    55.22   \n",
       "           low         AAPL       1  2014    2    79.38    79.02    79.58   \n",
       "           medium      GOOGL      1  2014    2   557.73   556.56   558.88   \n",
       "                       MSFT       1  2014    2    37.35    37.16    37.40   \n",
       "                       AMZN       1  2014    2   398.80   397.97   399.36   \n",
       "...                             ...   ...  ...      ...      ...      ...   \n",
       "2019-08-23 medium      MSFT       8  2019   23   137.19   133.39   138.35   \n",
       "                       AAPL       8  2019   23   209.43   202.64   212.05   \n",
       "                       GOOGL      8  2019   23  1185.17  1153.58  1195.67   \n",
       "                       AMZN       8  2019   23  1793.03  1749.62  1804.90   \n",
       "                       FB         8  2019   23   180.84   177.75   183.13   \n",
       "\n",
       "                                  low    volume  \n",
       "date       volume_type name                      \n",
       "2014-01-02 medium      FB       54.19  43257622  \n",
       "           low         AAPL     78.86   8398851  \n",
       "           medium      GOOGL   554.13   1822719  \n",
       "                       MSFT     37.10  30643745  \n",
       "                       AMZN    394.02   2140246  \n",
       "...                               ...       ...  \n",
       "2019-08-23 medium      MSFT    132.80  38515386  \n",
       "                       AAPL    201.00  46882843  \n",
       "                       GOOGL  1150.00   1813141  \n",
       "                       AMZN   1745.23   5277898  \n",
       "                       FB      176.66  17331221  \n",
       "\n",
       "[7105 rows x 8 columns]"
      ],
      "text/html": "<div>\n<style scoped>\n    .dataframe tbody tr th:only-of-type {\n        vertical-align: middle;\n    }\n\n    .dataframe tbody tr th {\n        vertical-align: top;\n    }\n\n    .dataframe thead th {\n        text-align: right;\n    }\n</style>\n<table border=\"1\" class=\"dataframe\">\n  <thead>\n    <tr style=\"text-align: right;\">\n      <th></th>\n      <th></th>\n      <th></th>\n      <th>month</th>\n      <th>year</th>\n      <th>day</th>\n      <th>open</th>\n      <th>close</th>\n      <th>high</th>\n      <th>low</th>\n      <th>volume</th>\n    </tr>\n    <tr>\n      <th>date</th>\n      <th>volume_type</th>\n      <th>name</th>\n      <th></th>\n      <th></th>\n      <th></th>\n      <th></th>\n      <th></th>\n      <th></th>\n      <th></th>\n      <th></th>\n    </tr>\n  </thead>\n  <tbody>\n    <tr>\n      <th rowspan=\"5\" valign=\"top\">2014-01-02</th>\n      <th>medium</th>\n      <th>FB</th>\n      <td>1</td>\n      <td>2014</td>\n      <td>2</td>\n      <td>54.86</td>\n      <td>54.71</td>\n      <td>55.22</td>\n      <td>54.19</td>\n      <td>43257622</td>\n    </tr>\n    <tr>\n      <th>low</th>\n      <th>AAPL</th>\n      <td>1</td>\n      <td>2014</td>\n      <td>2</td>\n      <td>79.38</td>\n      <td>79.02</td>\n      <td>79.58</td>\n      <td>78.86</td>\n      <td>8398851</td>\n    </tr>\n    <tr>\n      <th rowspan=\"3\" valign=\"top\">medium</th>\n      <th>GOOGL</th>\n      <td>1</td>\n      <td>2014</td>\n      <td>2</td>\n      <td>557.73</td>\n      <td>556.56</td>\n      <td>558.88</td>\n      <td>554.13</td>\n      <td>1822719</td>\n    </tr>\n    <tr>\n      <th>MSFT</th>\n      <td>1</td>\n      <td>2014</td>\n      <td>2</td>\n      <td>37.35</td>\n      <td>37.16</td>\n      <td>37.40</td>\n      <td>37.10</td>\n      <td>30643745</td>\n    </tr>\n    <tr>\n      <th>AMZN</th>\n      <td>1</td>\n      <td>2014</td>\n      <td>2</td>\n      <td>398.80</td>\n      <td>397.97</td>\n      <td>399.36</td>\n      <td>394.02</td>\n      <td>2140246</td>\n    </tr>\n    <tr>\n      <th>...</th>\n      <th>...</th>\n      <th>...</th>\n      <td>...</td>\n      <td>...</td>\n      <td>...</td>\n      <td>...</td>\n      <td>...</td>\n      <td>...</td>\n      <td>...</td>\n      <td>...</td>\n    </tr>\n    <tr>\n      <th rowspan=\"5\" valign=\"top\">2019-08-23</th>\n      <th rowspan=\"5\" valign=\"top\">medium</th>\n      <th>MSFT</th>\n      <td>8</td>\n      <td>2019</td>\n      <td>23</td>\n      <td>137.19</td>\n      <td>133.39</td>\n      <td>138.35</td>\n      <td>132.80</td>\n      <td>38515386</td>\n    </tr>\n    <tr>\n      <th>AAPL</th>\n      <td>8</td>\n      <td>2019</td>\n      <td>23</td>\n      <td>209.43</td>\n      <td>202.64</td>\n      <td>212.05</td>\n      <td>201.00</td>\n      <td>46882843</td>\n    </tr>\n    <tr>\n      <th>GOOGL</th>\n      <td>8</td>\n      <td>2019</td>\n      <td>23</td>\n      <td>1185.17</td>\n      <td>1153.58</td>\n      <td>1195.67</td>\n      <td>1150.00</td>\n      <td>1813141</td>\n    </tr>\n    <tr>\n      <th>AMZN</th>\n      <td>8</td>\n      <td>2019</td>\n      <td>23</td>\n      <td>1793.03</td>\n      <td>1749.62</td>\n      <td>1804.90</td>\n      <td>1745.23</td>\n      <td>5277898</td>\n    </tr>\n    <tr>\n      <th>FB</th>\n      <td>8</td>\n      <td>2019</td>\n      <td>23</td>\n      <td>180.84</td>\n      <td>177.75</td>\n      <td>183.13</td>\n      <td>176.66</td>\n      <td>17331221</td>\n    </tr>\n  </tbody>\n</table>\n<p>7105 rows × 8 columns</p>\n</div>"
     },
     "metadata": {},
     "execution_count": 42
    }
   ],
   "source": [
    "tech.swaplevel(2, 1)"
   ]
  },
  {
   "cell_type": "code",
   "execution_count": 46,
   "metadata": {},
   "outputs": [
    {
     "output_type": "execute_result",
     "data": {
      "text/plain": [
       "                              month  year  day     open    close     high  \\\n",
       "date       volume_type name                                                 \n",
       "2014-01-02 medium      FB         1  2014    2    54.86    54.71    55.22   \n",
       "           low         AAPL       1  2014    2    79.38    79.02    79.58   \n",
       "           medium      GOOGL      1  2014    2   557.73   556.56   558.88   \n",
       "                       MSFT       1  2014    2    37.35    37.16    37.40   \n",
       "                       AMZN       1  2014    2   398.80   397.97   399.36   \n",
       "...                             ...   ...  ...      ...      ...      ...   \n",
       "2019-08-23 medium      MSFT       8  2019   23   137.19   133.39   138.35   \n",
       "                       AAPL       8  2019   23   209.43   202.64   212.05   \n",
       "                       GOOGL      8  2019   23  1185.17  1153.58  1195.67   \n",
       "                       AMZN       8  2019   23  1793.03  1749.62  1804.90   \n",
       "                       FB         8  2019   23   180.84   177.75   183.13   \n",
       "\n",
       "                                  low    volume  \n",
       "date       volume_type name                      \n",
       "2014-01-02 medium      FB       54.19  43257622  \n",
       "           low         AAPL     78.86   8398851  \n",
       "           medium      GOOGL   554.13   1822719  \n",
       "                       MSFT     37.10  30643745  \n",
       "                       AMZN    394.02   2140246  \n",
       "...                               ...       ...  \n",
       "2019-08-23 medium      MSFT    132.80  38515386  \n",
       "                       AAPL    201.00  46882843  \n",
       "                       GOOGL  1150.00   1813141  \n",
       "                       AMZN   1745.23   5277898  \n",
       "                       FB      176.66  17331221  \n",
       "\n",
       "[7105 rows x 8 columns]"
      ],
      "text/html": "<div>\n<style scoped>\n    .dataframe tbody tr th:only-of-type {\n        vertical-align: middle;\n    }\n\n    .dataframe tbody tr th {\n        vertical-align: top;\n    }\n\n    .dataframe thead th {\n        text-align: right;\n    }\n</style>\n<table border=\"1\" class=\"dataframe\">\n  <thead>\n    <tr style=\"text-align: right;\">\n      <th></th>\n      <th></th>\n      <th></th>\n      <th>month</th>\n      <th>year</th>\n      <th>day</th>\n      <th>open</th>\n      <th>close</th>\n      <th>high</th>\n      <th>low</th>\n      <th>volume</th>\n    </tr>\n    <tr>\n      <th>date</th>\n      <th>volume_type</th>\n      <th>name</th>\n      <th></th>\n      <th></th>\n      <th></th>\n      <th></th>\n      <th></th>\n      <th></th>\n      <th></th>\n      <th></th>\n    </tr>\n  </thead>\n  <tbody>\n    <tr>\n      <th rowspan=\"5\" valign=\"top\">2014-01-02</th>\n      <th>medium</th>\n      <th>FB</th>\n      <td>1</td>\n      <td>2014</td>\n      <td>2</td>\n      <td>54.86</td>\n      <td>54.71</td>\n      <td>55.22</td>\n      <td>54.19</td>\n      <td>43257622</td>\n    </tr>\n    <tr>\n      <th>low</th>\n      <th>AAPL</th>\n      <td>1</td>\n      <td>2014</td>\n      <td>2</td>\n      <td>79.38</td>\n      <td>79.02</td>\n      <td>79.58</td>\n      <td>78.86</td>\n      <td>8398851</td>\n    </tr>\n    <tr>\n      <th rowspan=\"3\" valign=\"top\">medium</th>\n      <th>GOOGL</th>\n      <td>1</td>\n      <td>2014</td>\n      <td>2</td>\n      <td>557.73</td>\n      <td>556.56</td>\n      <td>558.88</td>\n      <td>554.13</td>\n      <td>1822719</td>\n    </tr>\n    <tr>\n      <th>MSFT</th>\n      <td>1</td>\n      <td>2014</td>\n      <td>2</td>\n      <td>37.35</td>\n      <td>37.16</td>\n      <td>37.40</td>\n      <td>37.10</td>\n      <td>30643745</td>\n    </tr>\n    <tr>\n      <th>AMZN</th>\n      <td>1</td>\n      <td>2014</td>\n      <td>2</td>\n      <td>398.80</td>\n      <td>397.97</td>\n      <td>399.36</td>\n      <td>394.02</td>\n      <td>2140246</td>\n    </tr>\n    <tr>\n      <th>...</th>\n      <th>...</th>\n      <th>...</th>\n      <td>...</td>\n      <td>...</td>\n      <td>...</td>\n      <td>...</td>\n      <td>...</td>\n      <td>...</td>\n      <td>...</td>\n      <td>...</td>\n    </tr>\n    <tr>\n      <th rowspan=\"5\" valign=\"top\">2019-08-23</th>\n      <th rowspan=\"5\" valign=\"top\">medium</th>\n      <th>MSFT</th>\n      <td>8</td>\n      <td>2019</td>\n      <td>23</td>\n      <td>137.19</td>\n      <td>133.39</td>\n      <td>138.35</td>\n      <td>132.80</td>\n      <td>38515386</td>\n    </tr>\n    <tr>\n      <th>AAPL</th>\n      <td>8</td>\n      <td>2019</td>\n      <td>23</td>\n      <td>209.43</td>\n      <td>202.64</td>\n      <td>212.05</td>\n      <td>201.00</td>\n      <td>46882843</td>\n    </tr>\n    <tr>\n      <th>GOOGL</th>\n      <td>8</td>\n      <td>2019</td>\n      <td>23</td>\n      <td>1185.17</td>\n      <td>1153.58</td>\n      <td>1195.67</td>\n      <td>1150.00</td>\n      <td>1813141</td>\n    </tr>\n    <tr>\n      <th>AMZN</th>\n      <td>8</td>\n      <td>2019</td>\n      <td>23</td>\n      <td>1793.03</td>\n      <td>1749.62</td>\n      <td>1804.90</td>\n      <td>1745.23</td>\n      <td>5277898</td>\n    </tr>\n    <tr>\n      <th>FB</th>\n      <td>8</td>\n      <td>2019</td>\n      <td>23</td>\n      <td>180.84</td>\n      <td>177.75</td>\n      <td>183.13</td>\n      <td>176.66</td>\n      <td>17331221</td>\n    </tr>\n  </tbody>\n</table>\n<p>7105 rows × 8 columns</p>\n</div>"
     },
     "metadata": {},
     "execution_count": 46
    }
   ],
   "source": [
    "tech.swaplevel('volume_type', 'name')"
   ]
  },
  {
   "cell_type": "code",
   "execution_count": 47,
   "metadata": {},
   "outputs": [
    {
     "output_type": "execute_result",
     "data": {
      "text/plain": [
       "                              month  year  day     open    close     high  \\\n",
       "volume_type date       name                                                 \n",
       "medium      2014-01-02 FB         1  2014    2    54.86    54.71    55.22   \n",
       "low         2014-01-02 AAPL       1  2014    2    79.38    79.02    79.58   \n",
       "medium      2014-01-02 GOOGL      1  2014    2   557.73   556.56   558.88   \n",
       "                       MSFT       1  2014    2    37.35    37.16    37.40   \n",
       "                       AMZN       1  2014    2   398.80   397.97   399.36   \n",
       "...                             ...   ...  ...      ...      ...      ...   \n",
       "            2019-08-23 MSFT       8  2019   23   137.19   133.39   138.35   \n",
       "                       AAPL       8  2019   23   209.43   202.64   212.05   \n",
       "                       GOOGL      8  2019   23  1185.17  1153.58  1195.67   \n",
       "                       AMZN       8  2019   23  1793.03  1749.62  1804.90   \n",
       "                       FB         8  2019   23   180.84   177.75   183.13   \n",
       "\n",
       "                                  low    volume  \n",
       "volume_type date       name                      \n",
       "medium      2014-01-02 FB       54.19  43257622  \n",
       "low         2014-01-02 AAPL     78.86   8398851  \n",
       "medium      2014-01-02 GOOGL   554.13   1822719  \n",
       "                       MSFT     37.10  30643745  \n",
       "                       AMZN    394.02   2140246  \n",
       "...                               ...       ...  \n",
       "            2019-08-23 MSFT    132.80  38515386  \n",
       "                       AAPL    201.00  46882843  \n",
       "                       GOOGL  1150.00   1813141  \n",
       "                       AMZN   1745.23   5277898  \n",
       "                       FB      176.66  17331221  \n",
       "\n",
       "[7105 rows x 8 columns]"
      ],
      "text/html": "<div>\n<style scoped>\n    .dataframe tbody tr th:only-of-type {\n        vertical-align: middle;\n    }\n\n    .dataframe tbody tr th {\n        vertical-align: top;\n    }\n\n    .dataframe thead th {\n        text-align: right;\n    }\n</style>\n<table border=\"1\" class=\"dataframe\">\n  <thead>\n    <tr style=\"text-align: right;\">\n      <th></th>\n      <th></th>\n      <th></th>\n      <th>month</th>\n      <th>year</th>\n      <th>day</th>\n      <th>open</th>\n      <th>close</th>\n      <th>high</th>\n      <th>low</th>\n      <th>volume</th>\n    </tr>\n    <tr>\n      <th>volume_type</th>\n      <th>date</th>\n      <th>name</th>\n      <th></th>\n      <th></th>\n      <th></th>\n      <th></th>\n      <th></th>\n      <th></th>\n      <th></th>\n      <th></th>\n    </tr>\n  </thead>\n  <tbody>\n    <tr>\n      <th>medium</th>\n      <th>2014-01-02</th>\n      <th>FB</th>\n      <td>1</td>\n      <td>2014</td>\n      <td>2</td>\n      <td>54.86</td>\n      <td>54.71</td>\n      <td>55.22</td>\n      <td>54.19</td>\n      <td>43257622</td>\n    </tr>\n    <tr>\n      <th>low</th>\n      <th>2014-01-02</th>\n      <th>AAPL</th>\n      <td>1</td>\n      <td>2014</td>\n      <td>2</td>\n      <td>79.38</td>\n      <td>79.02</td>\n      <td>79.58</td>\n      <td>78.86</td>\n      <td>8398851</td>\n    </tr>\n    <tr>\n      <th rowspan=\"9\" valign=\"top\">medium</th>\n      <th rowspan=\"3\" valign=\"top\">2014-01-02</th>\n      <th>GOOGL</th>\n      <td>1</td>\n      <td>2014</td>\n      <td>2</td>\n      <td>557.73</td>\n      <td>556.56</td>\n      <td>558.88</td>\n      <td>554.13</td>\n      <td>1822719</td>\n    </tr>\n    <tr>\n      <th>MSFT</th>\n      <td>1</td>\n      <td>2014</td>\n      <td>2</td>\n      <td>37.35</td>\n      <td>37.16</td>\n      <td>37.40</td>\n      <td>37.10</td>\n      <td>30643745</td>\n    </tr>\n    <tr>\n      <th>AMZN</th>\n      <td>1</td>\n      <td>2014</td>\n      <td>2</td>\n      <td>398.80</td>\n      <td>397.97</td>\n      <td>399.36</td>\n      <td>394.02</td>\n      <td>2140246</td>\n    </tr>\n    <tr>\n      <th>...</th>\n      <th>...</th>\n      <td>...</td>\n      <td>...</td>\n      <td>...</td>\n      <td>...</td>\n      <td>...</td>\n      <td>...</td>\n      <td>...</td>\n      <td>...</td>\n    </tr>\n    <tr>\n      <th rowspan=\"5\" valign=\"top\">2019-08-23</th>\n      <th>MSFT</th>\n      <td>8</td>\n      <td>2019</td>\n      <td>23</td>\n      <td>137.19</td>\n      <td>133.39</td>\n      <td>138.35</td>\n      <td>132.80</td>\n      <td>38515386</td>\n    </tr>\n    <tr>\n      <th>AAPL</th>\n      <td>8</td>\n      <td>2019</td>\n      <td>23</td>\n      <td>209.43</td>\n      <td>202.64</td>\n      <td>212.05</td>\n      <td>201.00</td>\n      <td>46882843</td>\n    </tr>\n    <tr>\n      <th>GOOGL</th>\n      <td>8</td>\n      <td>2019</td>\n      <td>23</td>\n      <td>1185.17</td>\n      <td>1153.58</td>\n      <td>1195.67</td>\n      <td>1150.00</td>\n      <td>1813141</td>\n    </tr>\n    <tr>\n      <th>AMZN</th>\n      <td>8</td>\n      <td>2019</td>\n      <td>23</td>\n      <td>1793.03</td>\n      <td>1749.62</td>\n      <td>1804.90</td>\n      <td>1745.23</td>\n      <td>5277898</td>\n    </tr>\n    <tr>\n      <th>FB</th>\n      <td>8</td>\n      <td>2019</td>\n      <td>23</td>\n      <td>180.84</td>\n      <td>177.75</td>\n      <td>183.13</td>\n      <td>176.66</td>\n      <td>17331221</td>\n    </tr>\n  </tbody>\n</table>\n<p>7105 rows × 8 columns</p>\n</div>"
     },
     "metadata": {},
     "execution_count": 47
    }
   ],
   "source": [
    "tech.reorder_levels([2, 0, 1])"
   ]
  },
  {
   "cell_type": "code",
   "execution_count": 50,
   "metadata": {},
   "outputs": [
    {
     "output_type": "execute_result",
     "data": {
      "text/plain": [
       "                              month  year  day     open    close     high  \\\n",
       "volume_type name  date                                                      \n",
       "medium      FB    2014-01-02      1  2014    2    54.86    54.71    55.22   \n",
       "low         AAPL  2014-01-02      1  2014    2    79.38    79.02    79.58   \n",
       "medium      GOOGL 2014-01-02      1  2014    2   557.73   556.56   558.88   \n",
       "            MSFT  2014-01-02      1  2014    2    37.35    37.16    37.40   \n",
       "            AMZN  2014-01-02      1  2014    2   398.80   397.97   399.36   \n",
       "...                             ...   ...  ...      ...      ...      ...   \n",
       "            MSFT  2019-08-23      8  2019   23   137.19   133.39   138.35   \n",
       "            AAPL  2019-08-23      8  2019   23   209.43   202.64   212.05   \n",
       "            GOOGL 2019-08-23      8  2019   23  1185.17  1153.58  1195.67   \n",
       "            AMZN  2019-08-23      8  2019   23  1793.03  1749.62  1804.90   \n",
       "            FB    2019-08-23      8  2019   23   180.84   177.75   183.13   \n",
       "\n",
       "                                  low    volume  \n",
       "volume_type name  date                           \n",
       "medium      FB    2014-01-02    54.19  43257622  \n",
       "low         AAPL  2014-01-02    78.86   8398851  \n",
       "medium      GOOGL 2014-01-02   554.13   1822719  \n",
       "            MSFT  2014-01-02    37.10  30643745  \n",
       "            AMZN  2014-01-02   394.02   2140246  \n",
       "...                               ...       ...  \n",
       "            MSFT  2019-08-23   132.80  38515386  \n",
       "            AAPL  2019-08-23   201.00  46882843  \n",
       "            GOOGL 2019-08-23  1150.00   1813141  \n",
       "            AMZN  2019-08-23  1745.23   5277898  \n",
       "            FB    2019-08-23   176.66  17331221  \n",
       "\n",
       "[7105 rows x 8 columns]"
      ],
      "text/html": "<div>\n<style scoped>\n    .dataframe tbody tr th:only-of-type {\n        vertical-align: middle;\n    }\n\n    .dataframe tbody tr th {\n        vertical-align: top;\n    }\n\n    .dataframe thead th {\n        text-align: right;\n    }\n</style>\n<table border=\"1\" class=\"dataframe\">\n  <thead>\n    <tr style=\"text-align: right;\">\n      <th></th>\n      <th></th>\n      <th></th>\n      <th>month</th>\n      <th>year</th>\n      <th>day</th>\n      <th>open</th>\n      <th>close</th>\n      <th>high</th>\n      <th>low</th>\n      <th>volume</th>\n    </tr>\n    <tr>\n      <th>volume_type</th>\n      <th>name</th>\n      <th>date</th>\n      <th></th>\n      <th></th>\n      <th></th>\n      <th></th>\n      <th></th>\n      <th></th>\n      <th></th>\n      <th></th>\n    </tr>\n  </thead>\n  <tbody>\n    <tr>\n      <th>medium</th>\n      <th>FB</th>\n      <th>2014-01-02</th>\n      <td>1</td>\n      <td>2014</td>\n      <td>2</td>\n      <td>54.86</td>\n      <td>54.71</td>\n      <td>55.22</td>\n      <td>54.19</td>\n      <td>43257622</td>\n    </tr>\n    <tr>\n      <th>low</th>\n      <th>AAPL</th>\n      <th>2014-01-02</th>\n      <td>1</td>\n      <td>2014</td>\n      <td>2</td>\n      <td>79.38</td>\n      <td>79.02</td>\n      <td>79.58</td>\n      <td>78.86</td>\n      <td>8398851</td>\n    </tr>\n    <tr>\n      <th rowspan=\"9\" valign=\"top\">medium</th>\n      <th>GOOGL</th>\n      <th>2014-01-02</th>\n      <td>1</td>\n      <td>2014</td>\n      <td>2</td>\n      <td>557.73</td>\n      <td>556.56</td>\n      <td>558.88</td>\n      <td>554.13</td>\n      <td>1822719</td>\n    </tr>\n    <tr>\n      <th>MSFT</th>\n      <th>2014-01-02</th>\n      <td>1</td>\n      <td>2014</td>\n      <td>2</td>\n      <td>37.35</td>\n      <td>37.16</td>\n      <td>37.40</td>\n      <td>37.10</td>\n      <td>30643745</td>\n    </tr>\n    <tr>\n      <th>AMZN</th>\n      <th>2014-01-02</th>\n      <td>1</td>\n      <td>2014</td>\n      <td>2</td>\n      <td>398.80</td>\n      <td>397.97</td>\n      <td>399.36</td>\n      <td>394.02</td>\n      <td>2140246</td>\n    </tr>\n    <tr>\n      <th>...</th>\n      <th>...</th>\n      <td>...</td>\n      <td>...</td>\n      <td>...</td>\n      <td>...</td>\n      <td>...</td>\n      <td>...</td>\n      <td>...</td>\n      <td>...</td>\n    </tr>\n    <tr>\n      <th>MSFT</th>\n      <th>2019-08-23</th>\n      <td>8</td>\n      <td>2019</td>\n      <td>23</td>\n      <td>137.19</td>\n      <td>133.39</td>\n      <td>138.35</td>\n      <td>132.80</td>\n      <td>38515386</td>\n    </tr>\n    <tr>\n      <th>AAPL</th>\n      <th>2019-08-23</th>\n      <td>8</td>\n      <td>2019</td>\n      <td>23</td>\n      <td>209.43</td>\n      <td>202.64</td>\n      <td>212.05</td>\n      <td>201.00</td>\n      <td>46882843</td>\n    </tr>\n    <tr>\n      <th>GOOGL</th>\n      <th>2019-08-23</th>\n      <td>8</td>\n      <td>2019</td>\n      <td>23</td>\n      <td>1185.17</td>\n      <td>1153.58</td>\n      <td>1195.67</td>\n      <td>1150.00</td>\n      <td>1813141</td>\n    </tr>\n    <tr>\n      <th>AMZN</th>\n      <th>2019-08-23</th>\n      <td>8</td>\n      <td>2019</td>\n      <td>23</td>\n      <td>1793.03</td>\n      <td>1749.62</td>\n      <td>1804.90</td>\n      <td>1745.23</td>\n      <td>5277898</td>\n    </tr>\n    <tr>\n      <th>FB</th>\n      <th>2019-08-23</th>\n      <td>8</td>\n      <td>2019</td>\n      <td>23</td>\n      <td>180.84</td>\n      <td>177.75</td>\n      <td>183.13</td>\n      <td>176.66</td>\n      <td>17331221</td>\n    </tr>\n  </tbody>\n</table>\n<p>7105 rows × 8 columns</p>\n</div>"
     },
     "metadata": {},
     "execution_count": 50
    }
   ],
   "source": [
    "tech.reorder_levels(['volume_type', 'name', 'date'])"
   ]
  },
  {
   "cell_type": "code",
   "execution_count": null,
   "metadata": {},
   "outputs": [],
   "source": []
  }
 ]
}