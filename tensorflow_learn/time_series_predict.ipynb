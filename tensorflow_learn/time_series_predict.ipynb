{
 "metadata": {
  "language_info": {
   "codemirror_mode": {
    "name": "ipython",
    "version": 3
   },
   "file_extension": ".py",
   "mimetype": "text/x-python",
   "name": "python",
   "nbconvert_exporter": "python",
   "pygments_lexer": "ipython3",
   "version": "3.7.6-final"
  },
  "orig_nbformat": 2,
  "kernelspec": {
   "name": "python3",
   "display_name": "Python 3.7.6 64-bit ('base': conda)",
   "metadata": {
    "interpreter": {
     "hash": "e134e05457d34029b6460cd73bbf1ed73f339b5b6d98c95be70b69eba114fe95"
    }
   }
  }
 },
 "nbformat": 4,
 "nbformat_minor": 2,
 "cells": [
  {
   "cell_type": "code",
   "execution_count": 1,
   "metadata": {},
   "outputs": [],
   "source": [
    "import tensorflow as tf\n",
    "import matplotlib.pyplot as plt\n",
    "import numpy as np\n",
    "import pandas as pd\n",
    "import os"
   ]
  },
  {
   "cell_type": "code",
   "execution_count": 2,
   "metadata": {},
   "outputs": [
    {
     "output_type": "execute_result",
     "data": {
      "text/plain": [
       "             Date Time  p (mbar)  T (degC)  Tpot (K)  Tdew (degC)  rh (%)  \\\n",
       "0  01.01.2009 00:10:00    996.52     -8.02    265.40        -8.90    93.3   \n",
       "1  01.01.2009 00:20:00    996.57     -8.41    265.01        -9.28    93.4   \n",
       "2  01.01.2009 00:30:00    996.53     -8.51    264.91        -9.31    93.9   \n",
       "3  01.01.2009 00:40:00    996.51     -8.31    265.12        -9.07    94.2   \n",
       "4  01.01.2009 00:50:00    996.51     -8.27    265.15        -9.04    94.1   \n",
       "\n",
       "   VPmax (mbar)  VPact (mbar)  VPdef (mbar)  sh (g/kg)  H2OC (mmol/mol)  \\\n",
       "0          3.33          3.11          0.22       1.94             3.12   \n",
       "1          3.23          3.02          0.21       1.89             3.03   \n",
       "2          3.21          3.01          0.20       1.88             3.02   \n",
       "3          3.26          3.07          0.19       1.92             3.08   \n",
       "4          3.27          3.08          0.19       1.92             3.09   \n",
       "\n",
       "   rho (g/m**3)  wv (m/s)  max. wv (m/s)  wd (deg)  \n",
       "0       1307.75      1.03           1.75     152.3  \n",
       "1       1309.80      0.72           1.50     136.1  \n",
       "2       1310.24      0.19           0.63     171.6  \n",
       "3       1309.19      0.34           0.50     198.0  \n",
       "4       1309.00      0.32           0.63     214.3  "
      ],
      "text/html": "<div>\n<style scoped>\n    .dataframe tbody tr th:only-of-type {\n        vertical-align: middle;\n    }\n\n    .dataframe tbody tr th {\n        vertical-align: top;\n    }\n\n    .dataframe thead th {\n        text-align: right;\n    }\n</style>\n<table border=\"1\" class=\"dataframe\">\n  <thead>\n    <tr style=\"text-align: right;\">\n      <th></th>\n      <th>Date Time</th>\n      <th>p (mbar)</th>\n      <th>T (degC)</th>\n      <th>Tpot (K)</th>\n      <th>Tdew (degC)</th>\n      <th>rh (%)</th>\n      <th>VPmax (mbar)</th>\n      <th>VPact (mbar)</th>\n      <th>VPdef (mbar)</th>\n      <th>sh (g/kg)</th>\n      <th>H2OC (mmol/mol)</th>\n      <th>rho (g/m**3)</th>\n      <th>wv (m/s)</th>\n      <th>max. wv (m/s)</th>\n      <th>wd (deg)</th>\n    </tr>\n  </thead>\n  <tbody>\n    <tr>\n      <th>0</th>\n      <td>01.01.2009 00:10:00</td>\n      <td>996.52</td>\n      <td>-8.02</td>\n      <td>265.40</td>\n      <td>-8.90</td>\n      <td>93.3</td>\n      <td>3.33</td>\n      <td>3.11</td>\n      <td>0.22</td>\n      <td>1.94</td>\n      <td>3.12</td>\n      <td>1307.75</td>\n      <td>1.03</td>\n      <td>1.75</td>\n      <td>152.3</td>\n    </tr>\n    <tr>\n      <th>1</th>\n      <td>01.01.2009 00:20:00</td>\n      <td>996.57</td>\n      <td>-8.41</td>\n      <td>265.01</td>\n      <td>-9.28</td>\n      <td>93.4</td>\n      <td>3.23</td>\n      <td>3.02</td>\n      <td>0.21</td>\n      <td>1.89</td>\n      <td>3.03</td>\n      <td>1309.80</td>\n      <td>0.72</td>\n      <td>1.50</td>\n      <td>136.1</td>\n    </tr>\n    <tr>\n      <th>2</th>\n      <td>01.01.2009 00:30:00</td>\n      <td>996.53</td>\n      <td>-8.51</td>\n      <td>264.91</td>\n      <td>-9.31</td>\n      <td>93.9</td>\n      <td>3.21</td>\n      <td>3.01</td>\n      <td>0.20</td>\n      <td>1.88</td>\n      <td>3.02</td>\n      <td>1310.24</td>\n      <td>0.19</td>\n      <td>0.63</td>\n      <td>171.6</td>\n    </tr>\n    <tr>\n      <th>3</th>\n      <td>01.01.2009 00:40:00</td>\n      <td>996.51</td>\n      <td>-8.31</td>\n      <td>265.12</td>\n      <td>-9.07</td>\n      <td>94.2</td>\n      <td>3.26</td>\n      <td>3.07</td>\n      <td>0.19</td>\n      <td>1.92</td>\n      <td>3.08</td>\n      <td>1309.19</td>\n      <td>0.34</td>\n      <td>0.50</td>\n      <td>198.0</td>\n    </tr>\n    <tr>\n      <th>4</th>\n      <td>01.01.2009 00:50:00</td>\n      <td>996.51</td>\n      <td>-8.27</td>\n      <td>265.15</td>\n      <td>-9.04</td>\n      <td>94.1</td>\n      <td>3.27</td>\n      <td>3.08</td>\n      <td>0.19</td>\n      <td>1.92</td>\n      <td>3.09</td>\n      <td>1309.00</td>\n      <td>0.32</td>\n      <td>0.63</td>\n      <td>214.3</td>\n    </tr>\n  </tbody>\n</table>\n</div>"
     },
     "metadata": {},
     "execution_count": 2
    }
   ],
   "source": [
    "df = pd.read_csv('jena_climate_2009_2016.csv')\n",
    "df.head()"
   ]
  },
  {
   "cell_type": "code",
   "execution_count": 13,
   "metadata": {},
   "outputs": [
    {
     "output_type": "execute_result",
     "data": {
      "text/plain": [
       "                     p (mbar)  T (degC)  Tpot (K)  Tdew (degC)  rh (%)  \\\n",
       "Date Time                                                                \n",
       "01.01.2009 00:10:00    996.52     -8.02    265.40        -8.90   93.30   \n",
       "01.01.2009 00:20:00    996.57     -8.41    265.01        -9.28   93.40   \n",
       "01.01.2009 00:30:00    996.53     -8.51    264.91        -9.31   93.90   \n",
       "01.01.2009 00:40:00    996.51     -8.31    265.12        -9.07   94.20   \n",
       "01.01.2009 00:50:00    996.51     -8.27    265.15        -9.04   94.10   \n",
       "...                       ...       ...       ...          ...     ...   \n",
       "31.12.2016 23:20:00   1000.07     -4.05    269.10        -8.13   73.10   \n",
       "31.12.2016 23:30:00    999.93     -3.35    269.81        -8.06   69.71   \n",
       "31.12.2016 23:40:00    999.82     -3.16    270.01        -8.21   67.91   \n",
       "31.12.2016 23:50:00    999.81     -4.23    268.94        -8.53   71.80   \n",
       "01.01.2017 00:00:00    999.82     -4.82    268.36        -8.42   75.70   \n",
       "\n",
       "                     VPmax (mbar)  VPact (mbar)  VPdef (mbar)  sh (g/kg)  \\\n",
       "Date Time                                                                  \n",
       "01.01.2009 00:10:00          3.33          3.11          0.22       1.94   \n",
       "01.01.2009 00:20:00          3.23          3.02          0.21       1.89   \n",
       "01.01.2009 00:30:00          3.21          3.01          0.20       1.88   \n",
       "01.01.2009 00:40:00          3.26          3.07          0.19       1.92   \n",
       "01.01.2009 00:50:00          3.27          3.08          0.19       1.92   \n",
       "...                           ...           ...           ...        ...   \n",
       "31.12.2016 23:20:00          4.52          3.30          1.22       2.06   \n",
       "31.12.2016 23:30:00          4.77          3.32          1.44       2.07   \n",
       "31.12.2016 23:40:00          4.84          3.28          1.55       2.05   \n",
       "31.12.2016 23:50:00          4.46          3.20          1.26       1.99   \n",
       "01.01.2017 00:00:00          4.27          3.23          1.04       2.01   \n",
       "\n",
       "                     H2OC (mmol/mol)  rho (g/m**3)  wv (m/s)  max. wv (m/s)  \\\n",
       "Date Time                                                                     \n",
       "01.01.2009 00:10:00             3.12       1307.75      1.03           1.75   \n",
       "01.01.2009 00:20:00             3.03       1309.80      0.72           1.50   \n",
       "01.01.2009 00:30:00             3.02       1310.24      0.19           0.63   \n",
       "01.01.2009 00:40:00             3.08       1309.19      0.34           0.50   \n",
       "01.01.2009 00:50:00             3.09       1309.00      0.32           0.63   \n",
       "...                              ...           ...       ...            ...   \n",
       "31.12.2016 23:20:00             3.30       1292.98      0.67           1.52   \n",
       "31.12.2016 23:30:00             3.32       1289.44      1.14           1.92   \n",
       "31.12.2016 23:40:00             3.28       1288.39      1.08           2.00   \n",
       "31.12.2016 23:50:00             3.20       1293.56      1.49           2.16   \n",
       "01.01.2017 00:00:00             3.23       1296.38      1.23           1.96   \n",
       "\n",
       "                     wd (deg)  \n",
       "Date Time                      \n",
       "01.01.2009 00:10:00     152.3  \n",
       "01.01.2009 00:20:00     136.1  \n",
       "01.01.2009 00:30:00     171.6  \n",
       "01.01.2009 00:40:00     198.0  \n",
       "01.01.2009 00:50:00     214.3  \n",
       "...                       ...  \n",
       "31.12.2016 23:20:00     240.0  \n",
       "31.12.2016 23:30:00     234.3  \n",
       "31.12.2016 23:40:00     215.2  \n",
       "31.12.2016 23:50:00     225.8  \n",
       "01.01.2017 00:00:00     184.9  \n",
       "\n",
       "[420551 rows x 14 columns]"
      ],
      "text/html": "<div>\n<style scoped>\n    .dataframe tbody tr th:only-of-type {\n        vertical-align: middle;\n    }\n\n    .dataframe tbody tr th {\n        vertical-align: top;\n    }\n\n    .dataframe thead th {\n        text-align: right;\n    }\n</style>\n<table border=\"1\" class=\"dataframe\">\n  <thead>\n    <tr style=\"text-align: right;\">\n      <th></th>\n      <th>p (mbar)</th>\n      <th>T (degC)</th>\n      <th>Tpot (K)</th>\n      <th>Tdew (degC)</th>\n      <th>rh (%)</th>\n      <th>VPmax (mbar)</th>\n      <th>VPact (mbar)</th>\n      <th>VPdef (mbar)</th>\n      <th>sh (g/kg)</th>\n      <th>H2OC (mmol/mol)</th>\n      <th>rho (g/m**3)</th>\n      <th>wv (m/s)</th>\n      <th>max. wv (m/s)</th>\n      <th>wd (deg)</th>\n    </tr>\n    <tr>\n      <th>Date Time</th>\n      <th></th>\n      <th></th>\n      <th></th>\n      <th></th>\n      <th></th>\n      <th></th>\n      <th></th>\n      <th></th>\n      <th></th>\n      <th></th>\n      <th></th>\n      <th></th>\n      <th></th>\n      <th></th>\n    </tr>\n  </thead>\n  <tbody>\n    <tr>\n      <th>01.01.2009 00:10:00</th>\n      <td>996.52</td>\n      <td>-8.02</td>\n      <td>265.40</td>\n      <td>-8.90</td>\n      <td>93.30</td>\n      <td>3.33</td>\n      <td>3.11</td>\n      <td>0.22</td>\n      <td>1.94</td>\n      <td>3.12</td>\n      <td>1307.75</td>\n      <td>1.03</td>\n      <td>1.75</td>\n      <td>152.3</td>\n    </tr>\n    <tr>\n      <th>01.01.2009 00:20:00</th>\n      <td>996.57</td>\n      <td>-8.41</td>\n      <td>265.01</td>\n      <td>-9.28</td>\n      <td>93.40</td>\n      <td>3.23</td>\n      <td>3.02</td>\n      <td>0.21</td>\n      <td>1.89</td>\n      <td>3.03</td>\n      <td>1309.80</td>\n      <td>0.72</td>\n      <td>1.50</td>\n      <td>136.1</td>\n    </tr>\n    <tr>\n      <th>01.01.2009 00:30:00</th>\n      <td>996.53</td>\n      <td>-8.51</td>\n      <td>264.91</td>\n      <td>-9.31</td>\n      <td>93.90</td>\n      <td>3.21</td>\n      <td>3.01</td>\n      <td>0.20</td>\n      <td>1.88</td>\n      <td>3.02</td>\n      <td>1310.24</td>\n      <td>0.19</td>\n      <td>0.63</td>\n      <td>171.6</td>\n    </tr>\n    <tr>\n      <th>01.01.2009 00:40:00</th>\n      <td>996.51</td>\n      <td>-8.31</td>\n      <td>265.12</td>\n      <td>-9.07</td>\n      <td>94.20</td>\n      <td>3.26</td>\n      <td>3.07</td>\n      <td>0.19</td>\n      <td>1.92</td>\n      <td>3.08</td>\n      <td>1309.19</td>\n      <td>0.34</td>\n      <td>0.50</td>\n      <td>198.0</td>\n    </tr>\n    <tr>\n      <th>01.01.2009 00:50:00</th>\n      <td>996.51</td>\n      <td>-8.27</td>\n      <td>265.15</td>\n      <td>-9.04</td>\n      <td>94.10</td>\n      <td>3.27</td>\n      <td>3.08</td>\n      <td>0.19</td>\n      <td>1.92</td>\n      <td>3.09</td>\n      <td>1309.00</td>\n      <td>0.32</td>\n      <td>0.63</td>\n      <td>214.3</td>\n    </tr>\n    <tr>\n      <th>...</th>\n      <td>...</td>\n      <td>...</td>\n      <td>...</td>\n      <td>...</td>\n      <td>...</td>\n      <td>...</td>\n      <td>...</td>\n      <td>...</td>\n      <td>...</td>\n      <td>...</td>\n      <td>...</td>\n      <td>...</td>\n      <td>...</td>\n      <td>...</td>\n    </tr>\n    <tr>\n      <th>31.12.2016 23:20:00</th>\n      <td>1000.07</td>\n      <td>-4.05</td>\n      <td>269.10</td>\n      <td>-8.13</td>\n      <td>73.10</td>\n      <td>4.52</td>\n      <td>3.30</td>\n      <td>1.22</td>\n      <td>2.06</td>\n      <td>3.30</td>\n      <td>1292.98</td>\n      <td>0.67</td>\n      <td>1.52</td>\n      <td>240.0</td>\n    </tr>\n    <tr>\n      <th>31.12.2016 23:30:00</th>\n      <td>999.93</td>\n      <td>-3.35</td>\n      <td>269.81</td>\n      <td>-8.06</td>\n      <td>69.71</td>\n      <td>4.77</td>\n      <td>3.32</td>\n      <td>1.44</td>\n      <td>2.07</td>\n      <td>3.32</td>\n      <td>1289.44</td>\n      <td>1.14</td>\n      <td>1.92</td>\n      <td>234.3</td>\n    </tr>\n    <tr>\n      <th>31.12.2016 23:40:00</th>\n      <td>999.82</td>\n      <td>-3.16</td>\n      <td>270.01</td>\n      <td>-8.21</td>\n      <td>67.91</td>\n      <td>4.84</td>\n      <td>3.28</td>\n      <td>1.55</td>\n      <td>2.05</td>\n      <td>3.28</td>\n      <td>1288.39</td>\n      <td>1.08</td>\n      <td>2.00</td>\n      <td>215.2</td>\n    </tr>\n    <tr>\n      <th>31.12.2016 23:50:00</th>\n      <td>999.81</td>\n      <td>-4.23</td>\n      <td>268.94</td>\n      <td>-8.53</td>\n      <td>71.80</td>\n      <td>4.46</td>\n      <td>3.20</td>\n      <td>1.26</td>\n      <td>1.99</td>\n      <td>3.20</td>\n      <td>1293.56</td>\n      <td>1.49</td>\n      <td>2.16</td>\n      <td>225.8</td>\n    </tr>\n    <tr>\n      <th>01.01.2017 00:00:00</th>\n      <td>999.82</td>\n      <td>-4.82</td>\n      <td>268.36</td>\n      <td>-8.42</td>\n      <td>75.70</td>\n      <td>4.27</td>\n      <td>3.23</td>\n      <td>1.04</td>\n      <td>2.01</td>\n      <td>3.23</td>\n      <td>1296.38</td>\n      <td>1.23</td>\n      <td>1.96</td>\n      <td>184.9</td>\n    </tr>\n  </tbody>\n</table>\n<p>420551 rows × 14 columns</p>\n</div>"
     },
     "metadata": {},
     "execution_count": 13
    }
   ],
   "source": [
    "df.set_index('Date Time')"
   ]
  },
  {
   "cell_type": "code",
   "execution_count": 27,
   "metadata": {},
   "outputs": [],
   "source": [
    "BATCH_SIZE = 256\n",
    "BUFFER_SIZE = 10000\n",
    "\n",
    "dataset = tf.data.Dataset.from_tensor_slices([1, 2, 3]).cache().shuffle(BUFFER_SIZE).batch(BATCH_SIZE).repeat()\n"
   ]
  },
  {
   "cell_type": "code",
   "execution_count": 28,
   "metadata": {},
   "outputs": [
    {
     "output_type": "execute_result",
     "data": {
      "text/plain": [
       "<RepeatDataset shapes: (None,), types: tf.int32>"
      ]
     },
     "metadata": {},
     "execution_count": 28
    }
   ],
   "source": [
    "dataset"
   ]
  },
  {
   "cell_type": "code",
   "execution_count": null,
   "metadata": {},
   "outputs": [],
   "source": []
  }
 ]
}