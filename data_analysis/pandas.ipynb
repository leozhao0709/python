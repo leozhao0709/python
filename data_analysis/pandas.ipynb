{
 "cells": [
  {
   "cell_type": "code",
   "execution_count": 2,
   "metadata": {},
   "outputs": [],
   "source": [
    "import numpy as np\n",
    "import pandas as pd\n",
    "from pandas import Series, DataFrame"
   ]
  },
  {
   "cell_type": "code",
   "execution_count": 3,
   "metadata": {},
   "outputs": [],
   "source": [
    "data = {'Country': ['Belgium', 'India', 'Brazil'], 'Capital': ['Brussels', 'New Delhi', 'Brasilia'], 'Population': [11190846, 1303171035, 207847528] }"
   ]
  },
  {
   "cell_type": "markdown",
   "metadata": {},
   "source": [
    "# Series"
   ]
  },
  {
   "cell_type": "code",
   "execution_count": 4,
   "metadata": {},
   "outputs": [],
   "source": [
    "s1 = Series(data['Country'], index=['A', 'B', 'C'])"
   ]
  },
  {
   "cell_type": "code",
   "execution_count": 5,
   "metadata": {},
   "outputs": [
    {
     "output_type": "execute_result",
     "data": {
      "text/plain": "A    Belgium\nB      India\nC     Brazil\ndtype: object"
     },
     "metadata": {},
     "execution_count": 5
    }
   ],
   "source": [
    "s1"
   ]
  },
  {
   "cell_type": "code",
   "execution_count": 6,
   "metadata": {},
   "outputs": [
    {
     "output_type": "execute_result",
     "data": {
      "text/plain": "array(['Belgium', 'India', 'Brazil'], dtype=object)"
     },
     "metadata": {},
     "execution_count": 6
    }
   ],
   "source": [
    "s1.values"
   ]
  },
  {
   "cell_type": "code",
   "execution_count": 7,
   "metadata": {},
   "outputs": [
    {
     "output_type": "execute_result",
     "data": {
      "text/plain": "Index(['A', 'B', 'C'], dtype='object')"
     },
     "metadata": {},
     "execution_count": 7
    }
   ],
   "source": [
    "s1.index"
   ]
  },
  {
   "cell_type": "code",
   "execution_count": 8,
   "metadata": {},
   "outputs": [],
   "source": [
    "df1 = DataFrame(data)"
   ]
  },
  {
   "cell_type": "code",
   "execution_count": 9,
   "metadata": {},
   "outputs": [
    {
     "output_type": "execute_result",
     "data": {
      "text/plain": "   Country    Capital  Population\n0  Belgium   Brussels    11190846\n1    India  New Delhi  1303171035\n2   Brazil   Brasilia   207847528",
      "text/html": "<div>\n<style scoped>\n    .dataframe tbody tr th:only-of-type {\n        vertical-align: middle;\n    }\n\n    .dataframe tbody tr th {\n        vertical-align: top;\n    }\n\n    .dataframe thead th {\n        text-align: right;\n    }\n</style>\n<table border=\"1\" class=\"dataframe\">\n  <thead>\n    <tr style=\"text-align: right;\">\n      <th></th>\n      <th>Country</th>\n      <th>Capital</th>\n      <th>Population</th>\n    </tr>\n  </thead>\n  <tbody>\n    <tr>\n      <th>0</th>\n      <td>Belgium</td>\n      <td>Brussels</td>\n      <td>11190846</td>\n    </tr>\n    <tr>\n      <th>1</th>\n      <td>India</td>\n      <td>New Delhi</td>\n      <td>1303171035</td>\n    </tr>\n    <tr>\n      <th>2</th>\n      <td>Brazil</td>\n      <td>Brasilia</td>\n      <td>207847528</td>\n    </tr>\n  </tbody>\n</table>\n</div>"
     },
     "metadata": {},
     "execution_count": 9
    }
   ],
   "source": [
    "df1"
   ]
  },
  {
   "cell_type": "code",
   "execution_count": 10,
   "metadata": {},
   "outputs": [
    {
     "output_type": "execute_result",
     "data": {
      "text/plain": "0    Belgium\n1      India\n2     Brazil\nName: Country, dtype: object"
     },
     "metadata": {},
     "execution_count": 10
    }
   ],
   "source": [
    "df1['Country']"
   ]
  },
  {
   "cell_type": "code",
   "execution_count": 11,
   "metadata": {},
   "outputs": [
    {
     "output_type": "execute_result",
     "data": {
      "text/plain": "{'Country': ['Belgium', 'India', 'Brazil'],\n 'Capital': ['Brussels', 'New Delhi', 'Brasilia'],\n 'Population': [11190846, 1303171035, 207847528]}"
     },
     "metadata": {},
     "execution_count": 11
    }
   ],
   "source": [
    "data"
   ]
  },
  {
   "cell_type": "code",
   "execution_count": 12,
   "metadata": {},
   "outputs": [],
   "source": [
    "s1 = Series(data['Country'])\n",
    "s2 = Series(data['Capital'])\n",
    "s3 = Series(data['Population'])"
   ]
  },
  {
   "cell_type": "code",
   "execution_count": 13,
   "metadata": {},
   "outputs": [],
   "source": [
    "df_new = DataFrame([s1, s2, s3], index=['Country', 'Capital', 'Population'])"
   ]
  },
  {
   "cell_type": "code",
   "execution_count": 14,
   "metadata": {},
   "outputs": [
    {
     "output_type": "execute_result",
     "data": {
      "text/plain": "                   0           1          2\nCountry      Belgium       India     Brazil\nCapital     Brussels   New Delhi   Brasilia\nPopulation  11190846  1303171035  207847528",
      "text/html": "<div>\n<style scoped>\n    .dataframe tbody tr th:only-of-type {\n        vertical-align: middle;\n    }\n\n    .dataframe tbody tr th {\n        vertical-align: top;\n    }\n\n    .dataframe thead th {\n        text-align: right;\n    }\n</style>\n<table border=\"1\" class=\"dataframe\">\n  <thead>\n    <tr style=\"text-align: right;\">\n      <th></th>\n      <th>0</th>\n      <th>1</th>\n      <th>2</th>\n    </tr>\n  </thead>\n  <tbody>\n    <tr>\n      <th>Country</th>\n      <td>Belgium</td>\n      <td>India</td>\n      <td>Brazil</td>\n    </tr>\n    <tr>\n      <th>Capital</th>\n      <td>Brussels</td>\n      <td>New Delhi</td>\n      <td>Brasilia</td>\n    </tr>\n    <tr>\n      <th>Population</th>\n      <td>11190846</td>\n      <td>1303171035</td>\n      <td>207847528</td>\n    </tr>\n  </tbody>\n</table>\n</div>"
     },
     "metadata": {},
     "execution_count": 14
    }
   ],
   "source": [
    "df_new"
   ]
  },
  {
   "cell_type": "code",
   "execution_count": 15,
   "metadata": {},
   "outputs": [
    {
     "output_type": "execute_result",
     "data": {
      "text/plain": "   Country    Capital  Population\n0  Belgium   Brussels    11190846\n1    India  New Delhi  1303171035\n2   Brazil   Brasilia   207847528",
      "text/html": "<div>\n<style scoped>\n    .dataframe tbody tr th:only-of-type {\n        vertical-align: middle;\n    }\n\n    .dataframe tbody tr th {\n        vertical-align: top;\n    }\n\n    .dataframe thead th {\n        text-align: right;\n    }\n</style>\n<table border=\"1\" class=\"dataframe\">\n  <thead>\n    <tr style=\"text-align: right;\">\n      <th></th>\n      <th>Country</th>\n      <th>Capital</th>\n      <th>Population</th>\n    </tr>\n  </thead>\n  <tbody>\n    <tr>\n      <th>0</th>\n      <td>Belgium</td>\n      <td>Brussels</td>\n      <td>11190846</td>\n    </tr>\n    <tr>\n      <th>1</th>\n      <td>India</td>\n      <td>New Delhi</td>\n      <td>1303171035</td>\n    </tr>\n    <tr>\n      <th>2</th>\n      <td>Brazil</td>\n      <td>Brasilia</td>\n      <td>207847528</td>\n    </tr>\n  </tbody>\n</table>\n</div>"
     },
     "metadata": {},
     "execution_count": 15
    }
   ],
   "source": [
    "df_new.T"
   ]
  },
  {
   "cell_type": "code",
   "execution_count": 16,
   "metadata": {},
   "outputs": [
    {
     "output_type": "execute_result",
     "data": {
      "text/plain": "   Country    Capital  Population\n0  Belgium   Brussels    11190846\n1    India  New Delhi  1303171035\n2   Brazil   Brasilia   207847528",
      "text/html": "<div>\n<style scoped>\n    .dataframe tbody tr th:only-of-type {\n        vertical-align: middle;\n    }\n\n    .dataframe tbody tr th {\n        vertical-align: top;\n    }\n\n    .dataframe thead th {\n        text-align: right;\n    }\n</style>\n<table border=\"1\" class=\"dataframe\">\n  <thead>\n    <tr style=\"text-align: right;\">\n      <th></th>\n      <th>Country</th>\n      <th>Capital</th>\n      <th>Population</th>\n    </tr>\n  </thead>\n  <tbody>\n    <tr>\n      <th>0</th>\n      <td>Belgium</td>\n      <td>Brussels</td>\n      <td>11190846</td>\n    </tr>\n    <tr>\n      <th>1</th>\n      <td>India</td>\n      <td>New Delhi</td>\n      <td>1303171035</td>\n    </tr>\n    <tr>\n      <th>2</th>\n      <td>Brazil</td>\n      <td>Brasilia</td>\n      <td>207847528</td>\n    </tr>\n  </tbody>\n</table>\n</div>"
     },
     "metadata": {},
     "execution_count": 16
    }
   ],
   "source": [
    "df1"
   ]
  },
  {
   "cell_type": "code",
   "execution_count": 17,
   "metadata": {},
   "outputs": [],
   "source": [
    "df1 = pd.read_clipboard()"
   ]
  },
  {
   "cell_type": "code",
   "execution_count": 18,
   "metadata": {},
   "outputs": [
    {
     "output_type": "execute_result",
     "data": {
      "text/plain": "Empty DataFrame\nColumns: [CD-207358]\nIndex: []",
      "text/html": "<div>\n<style scoped>\n    .dataframe tbody tr th:only-of-type {\n        vertical-align: middle;\n    }\n\n    .dataframe tbody tr th {\n        vertical-align: top;\n    }\n\n    .dataframe thead th {\n        text-align: right;\n    }\n</style>\n<table border=\"1\" class=\"dataframe\">\n  <thead>\n    <tr style=\"text-align: right;\">\n      <th></th>\n      <th>CD-207358</th>\n    </tr>\n  </thead>\n  <tbody>\n  </tbody>\n</table>\n</div>"
     },
     "metadata": {},
     "execution_count": 18
    }
   ],
   "source": [
    "df1"
   ]
  },
  {
   "cell_type": "code",
   "execution_count": 19,
   "metadata": {},
   "outputs": [],
   "source": [
    "df1.to_clipboard()"
   ]
  },
  {
   "cell_type": "code",
   "execution_count": 20,
   "metadata": {},
   "outputs": [
    {
     "output_type": "execute_result",
     "data": {
      "text/plain": "Empty DataFrame\nColumns: [CD-207358]\nIndex: []",
      "text/html": "<div>\n<style scoped>\n    .dataframe tbody tr th:only-of-type {\n        vertical-align: middle;\n    }\n\n    .dataframe tbody tr th {\n        vertical-align: top;\n    }\n\n    .dataframe thead th {\n        text-align: right;\n    }\n</style>\n<table border=\"1\" class=\"dataframe\">\n  <thead>\n    <tr style=\"text-align: right;\">\n      <th></th>\n      <th>CD-207358</th>\n    </tr>\n  </thead>\n  <tbody>\n  </tbody>\n</table>\n</div>"
     },
     "metadata": {},
     "execution_count": 20
    }
   ],
   "source": [
    "df1"
   ]
  },
  {
   "cell_type": "code",
   "execution_count": 21,
   "metadata": {},
   "outputs": [],
   "source": [
    "df1.to_csv(\"df1.csv\", index=False)"
   ]
  },
  {
   "cell_type": "code",
   "execution_count": 22,
   "metadata": {},
   "outputs": [],
   "source": [
    "df2 = pd.read_csv(\"df1.csv\")"
   ]
  },
  {
   "cell_type": "code",
   "execution_count": 23,
   "metadata": {},
   "outputs": [
    {
     "output_type": "execute_result",
     "data": {
      "text/plain": "Empty DataFrame\nColumns: [CD-207358]\nIndex: []",
      "text/html": "<div>\n<style scoped>\n    .dataframe tbody tr th:only-of-type {\n        vertical-align: middle;\n    }\n\n    .dataframe tbody tr th {\n        vertical-align: top;\n    }\n\n    .dataframe thead th {\n        text-align: right;\n    }\n</style>\n<table border=\"1\" class=\"dataframe\">\n  <thead>\n    <tr style=\"text-align: right;\">\n      <th></th>\n      <th>CD-207358</th>\n    </tr>\n  </thead>\n  <tbody>\n  </tbody>\n</table>\n</div>"
     },
     "metadata": {},
     "execution_count": 23
    }
   ],
   "source": [
    "df2"
   ]
  },
  {
   "cell_type": "code",
   "execution_count": 24,
   "metadata": {},
   "outputs": [
    {
     "output_type": "execute_result",
     "data": {
      "text/plain": "'{\"CD-207358\":{}}'"
     },
     "metadata": {},
     "execution_count": 24
    }
   ],
   "source": [
    "df1.to_json()"
   ]
  },
  {
   "cell_type": "code",
   "execution_count": 25,
   "metadata": {},
   "outputs": [],
   "source": [
    "df3 = pd.read_json('{\"Bills\":{\"0\":\"Rent\",\"1\":\"Car\",\"2\":\"Credit Cards\",\"3\":\"Food\",\"4\":\"Candy\",\"5\":\"Total\"},\"Jan-16\":{\"0\":\"$1,200.00\",\"1\":\"$250.00\",\"2\":\"$400.00\",\"3\":\"$300.00\",\"4\":\"$75.00\",\"5\":\"$2,225.00\"},\"Feb-16\":{\"0\":\"$1,200.00\",\"1\":\"$250.00\",\"2\":\"$150.00\",\"3\":\"$250.00\",\"4\":\"$75.00\",\"5\":\"$1,925.00\"},\"Mar-16\":{\"0\":\"$1,200.00\",\"1\":\"$250.00\",\"2\":\"$120.00\",\"3\":\"$350.00\",\"4\":\"$90.00\",\"5\":\"$2,010.00\"},\"Total\":{\"0\":\"$3,600.00\",\"1\":\"$750.00\",\"2\":\"$670.00\",\"3\":\"$900.00\",\"4\":\"$240.00\",\"5\":\"$6,160.00\"},\"Percent\":{\"0\":\"58.44%\",\"1\":\"12.18%\",\"2\":\"10.88%\",\"3\":\"14.61%\",\"4\":\"3.90%\",\"5\":\"100.00%\"}}')"
   ]
  },
  {
   "cell_type": "code",
   "execution_count": 26,
   "metadata": {},
   "outputs": [
    {
     "output_type": "execute_result",
     "data": {
      "text/plain": "          Bills     Jan-16     Feb-16     Mar-16      Total  Percent\n0          Rent  $1,200.00  $1,200.00  $1,200.00  $3,600.00   58.44%\n1           Car    $250.00    $250.00    $250.00    $750.00   12.18%\n2  Credit Cards    $400.00    $150.00    $120.00    $670.00   10.88%\n3          Food    $300.00    $250.00    $350.00    $900.00   14.61%\n4         Candy     $75.00     $75.00     $90.00    $240.00    3.90%\n5         Total  $2,225.00  $1,925.00  $2,010.00  $6,160.00  100.00%",
      "text/html": "<div>\n<style scoped>\n    .dataframe tbody tr th:only-of-type {\n        vertical-align: middle;\n    }\n\n    .dataframe tbody tr th {\n        vertical-align: top;\n    }\n\n    .dataframe thead th {\n        text-align: right;\n    }\n</style>\n<table border=\"1\" class=\"dataframe\">\n  <thead>\n    <tr style=\"text-align: right;\">\n      <th></th>\n      <th>Bills</th>\n      <th>Jan-16</th>\n      <th>Feb-16</th>\n      <th>Mar-16</th>\n      <th>Total</th>\n      <th>Percent</th>\n    </tr>\n  </thead>\n  <tbody>\n    <tr>\n      <th>0</th>\n      <td>Rent</td>\n      <td>$1,200.00</td>\n      <td>$1,200.00</td>\n      <td>$1,200.00</td>\n      <td>$3,600.00</td>\n      <td>58.44%</td>\n    </tr>\n    <tr>\n      <th>1</th>\n      <td>Car</td>\n      <td>$250.00</td>\n      <td>$250.00</td>\n      <td>$250.00</td>\n      <td>$750.00</td>\n      <td>12.18%</td>\n    </tr>\n    <tr>\n      <th>2</th>\n      <td>Credit Cards</td>\n      <td>$400.00</td>\n      <td>$150.00</td>\n      <td>$120.00</td>\n      <td>$670.00</td>\n      <td>10.88%</td>\n    </tr>\n    <tr>\n      <th>3</th>\n      <td>Food</td>\n      <td>$300.00</td>\n      <td>$250.00</td>\n      <td>$350.00</td>\n      <td>$900.00</td>\n      <td>14.61%</td>\n    </tr>\n    <tr>\n      <th>4</th>\n      <td>Candy</td>\n      <td>$75.00</td>\n      <td>$75.00</td>\n      <td>$90.00</td>\n      <td>$240.00</td>\n      <td>3.90%</td>\n    </tr>\n    <tr>\n      <th>5</th>\n      <td>Total</td>\n      <td>$2,225.00</td>\n      <td>$1,925.00</td>\n      <td>$2,010.00</td>\n      <td>$6,160.00</td>\n      <td>100.00%</td>\n    </tr>\n  </tbody>\n</table>\n</div>"
     },
     "metadata": {},
     "execution_count": 26
    }
   ],
   "source": [
    "df3"
   ]
  },
  {
   "cell_type": "code",
   "execution_count": 27,
   "metadata": {},
   "outputs": [],
   "source": [
    "df1.to_html('df1.html', index=False)"
   ]
  },
  {
   "cell_type": "code",
   "execution_count": 28,
   "metadata": {},
   "outputs": [],
   "source": [
    "df1.to_excel('df1.xlsx', index=False)"
   ]
  },
  {
   "cell_type": "code",
   "execution_count": 29,
   "metadata": {},
   "outputs": [],
   "source": [
    "imdb = pd.read_csv('resources/movie_metadata.csv')"
   ]
  },
  {
   "cell_type": "code",
   "execution_count": 30,
   "metadata": {},
   "outputs": [
    {
     "output_type": "execute_result",
     "data": {
      "text/plain": "      color      director_name  num_critic_for_reviews  duration  \\\n0     Color      James Cameron                   723.0     178.0   \n1     Color     Gore Verbinski                   302.0     169.0   \n2     Color         Sam Mendes                   602.0     148.0   \n3     Color  Christopher Nolan                   813.0     164.0   \n4       NaN        Doug Walker                     NaN       NaN   \n...     ...                ...                     ...       ...   \n5038  Color        Scott Smith                     1.0      87.0   \n5039  Color                NaN                    43.0      43.0   \n5040  Color   Benjamin Roberds                    13.0      76.0   \n5041  Color        Daniel Hsia                    14.0     100.0   \n5042  Color           Jon Gunn                    43.0      90.0   \n\n      director_facebook_likes  actor_3_facebook_likes      actor_2_name  \\\n0                         0.0                   855.0  Joel David Moore   \n1                       563.0                  1000.0     Orlando Bloom   \n2                         0.0                   161.0      Rory Kinnear   \n3                     22000.0                 23000.0    Christian Bale   \n4                       131.0                     NaN        Rob Walker   \n...                       ...                     ...               ...   \n5038                      2.0                   318.0     Daphne Zuniga   \n5039                      NaN                   319.0     Valorie Curry   \n5040                      0.0                     0.0     Maxwell Moody   \n5041                      0.0                   489.0     Daniel Henney   \n5042                     16.0                    16.0  Brian Herzlinger   \n\n      actor_1_facebook_likes        gross                           genres  \\\n0                     1000.0  760505847.0  Action|Adventure|Fantasy|Sci-Fi   \n1                    40000.0  309404152.0         Action|Adventure|Fantasy   \n2                    11000.0  200074175.0        Action|Adventure|Thriller   \n3                    27000.0  448130642.0                  Action|Thriller   \n4                      131.0          NaN                      Documentary   \n...                      ...          ...                              ...   \n5038                   637.0          NaN                     Comedy|Drama   \n5039                   841.0          NaN     Crime|Drama|Mystery|Thriller   \n5040                     0.0          NaN            Drama|Horror|Thriller   \n5041                   946.0      10443.0             Comedy|Drama|Romance   \n5042                    86.0      85222.0                      Documentary   \n\n      ... num_user_for_reviews language  country  content_rating       budget  \\\n0     ...               3054.0  English      USA           PG-13  237000000.0   \n1     ...               1238.0  English      USA           PG-13  300000000.0   \n2     ...                994.0  English       UK           PG-13  245000000.0   \n3     ...               2701.0  English      USA           PG-13  250000000.0   \n4     ...                  NaN      NaN      NaN             NaN          NaN   \n...   ...                  ...      ...      ...             ...          ...   \n5038  ...                  6.0  English   Canada             NaN          NaN   \n5039  ...                359.0  English      USA           TV-14          NaN   \n5040  ...                  3.0  English      USA             NaN       1400.0   \n5041  ...                  9.0  English      USA           PG-13          NaN   \n5042  ...                 84.0  English      USA              PG       1100.0   \n\n      title_year actor_2_facebook_likes imdb_score  aspect_ratio  \\\n0         2009.0                  936.0        7.9          1.78   \n1         2007.0                 5000.0        7.1          2.35   \n2         2015.0                  393.0        6.8          2.35   \n3         2012.0                23000.0        8.5          2.35   \n4            NaN                   12.0        7.1           NaN   \n...          ...                    ...        ...           ...   \n5038      2013.0                  470.0        7.7           NaN   \n5039         NaN                  593.0        7.5         16.00   \n5040      2013.0                    0.0        6.3           NaN   \n5041      2012.0                  719.0        6.3          2.35   \n5042      2004.0                   23.0        6.6          1.85   \n\n     movie_facebook_likes  \n0                   33000  \n1                       0  \n2                   85000  \n3                  164000  \n4                       0  \n...                   ...  \n5038                   84  \n5039                32000  \n5040                   16  \n5041                  660  \n5042                  456  \n\n[5043 rows x 28 columns]",
      "text/html": "<div>\n<style scoped>\n    .dataframe tbody tr th:only-of-type {\n        vertical-align: middle;\n    }\n\n    .dataframe tbody tr th {\n        vertical-align: top;\n    }\n\n    .dataframe thead th {\n        text-align: right;\n    }\n</style>\n<table border=\"1\" class=\"dataframe\">\n  <thead>\n    <tr style=\"text-align: right;\">\n      <th></th>\n      <th>color</th>\n      <th>director_name</th>\n      <th>num_critic_for_reviews</th>\n      <th>duration</th>\n      <th>director_facebook_likes</th>\n      <th>actor_3_facebook_likes</th>\n      <th>actor_2_name</th>\n      <th>actor_1_facebook_likes</th>\n      <th>gross</th>\n      <th>genres</th>\n      <th>...</th>\n      <th>num_user_for_reviews</th>\n      <th>language</th>\n      <th>country</th>\n      <th>content_rating</th>\n      <th>budget</th>\n      <th>title_year</th>\n      <th>actor_2_facebook_likes</th>\n      <th>imdb_score</th>\n      <th>aspect_ratio</th>\n      <th>movie_facebook_likes</th>\n    </tr>\n  </thead>\n  <tbody>\n    <tr>\n      <th>0</th>\n      <td>Color</td>\n      <td>James Cameron</td>\n      <td>723.0</td>\n      <td>178.0</td>\n      <td>0.0</td>\n      <td>855.0</td>\n      <td>Joel David Moore</td>\n      <td>1000.0</td>\n      <td>760505847.0</td>\n      <td>Action|Adventure|Fantasy|Sci-Fi</td>\n      <td>...</td>\n      <td>3054.0</td>\n      <td>English</td>\n      <td>USA</td>\n      <td>PG-13</td>\n      <td>237000000.0</td>\n      <td>2009.0</td>\n      <td>936.0</td>\n      <td>7.9</td>\n      <td>1.78</td>\n      <td>33000</td>\n    </tr>\n    <tr>\n      <th>1</th>\n      <td>Color</td>\n      <td>Gore Verbinski</td>\n      <td>302.0</td>\n      <td>169.0</td>\n      <td>563.0</td>\n      <td>1000.0</td>\n      <td>Orlando Bloom</td>\n      <td>40000.0</td>\n      <td>309404152.0</td>\n      <td>Action|Adventure|Fantasy</td>\n      <td>...</td>\n      <td>1238.0</td>\n      <td>English</td>\n      <td>USA</td>\n      <td>PG-13</td>\n      <td>300000000.0</td>\n      <td>2007.0</td>\n      <td>5000.0</td>\n      <td>7.1</td>\n      <td>2.35</td>\n      <td>0</td>\n    </tr>\n    <tr>\n      <th>2</th>\n      <td>Color</td>\n      <td>Sam Mendes</td>\n      <td>602.0</td>\n      <td>148.0</td>\n      <td>0.0</td>\n      <td>161.0</td>\n      <td>Rory Kinnear</td>\n      <td>11000.0</td>\n      <td>200074175.0</td>\n      <td>Action|Adventure|Thriller</td>\n      <td>...</td>\n      <td>994.0</td>\n      <td>English</td>\n      <td>UK</td>\n      <td>PG-13</td>\n      <td>245000000.0</td>\n      <td>2015.0</td>\n      <td>393.0</td>\n      <td>6.8</td>\n      <td>2.35</td>\n      <td>85000</td>\n    </tr>\n    <tr>\n      <th>3</th>\n      <td>Color</td>\n      <td>Christopher Nolan</td>\n      <td>813.0</td>\n      <td>164.0</td>\n      <td>22000.0</td>\n      <td>23000.0</td>\n      <td>Christian Bale</td>\n      <td>27000.0</td>\n      <td>448130642.0</td>\n      <td>Action|Thriller</td>\n      <td>...</td>\n      <td>2701.0</td>\n      <td>English</td>\n      <td>USA</td>\n      <td>PG-13</td>\n      <td>250000000.0</td>\n      <td>2012.0</td>\n      <td>23000.0</td>\n      <td>8.5</td>\n      <td>2.35</td>\n      <td>164000</td>\n    </tr>\n    <tr>\n      <th>4</th>\n      <td>NaN</td>\n      <td>Doug Walker</td>\n      <td>NaN</td>\n      <td>NaN</td>\n      <td>131.0</td>\n      <td>NaN</td>\n      <td>Rob Walker</td>\n      <td>131.0</td>\n      <td>NaN</td>\n      <td>Documentary</td>\n      <td>...</td>\n      <td>NaN</td>\n      <td>NaN</td>\n      <td>NaN</td>\n      <td>NaN</td>\n      <td>NaN</td>\n      <td>NaN</td>\n      <td>12.0</td>\n      <td>7.1</td>\n      <td>NaN</td>\n      <td>0</td>\n    </tr>\n    <tr>\n      <th>...</th>\n      <td>...</td>\n      <td>...</td>\n      <td>...</td>\n      <td>...</td>\n      <td>...</td>\n      <td>...</td>\n      <td>...</td>\n      <td>...</td>\n      <td>...</td>\n      <td>...</td>\n      <td>...</td>\n      <td>...</td>\n      <td>...</td>\n      <td>...</td>\n      <td>...</td>\n      <td>...</td>\n      <td>...</td>\n      <td>...</td>\n      <td>...</td>\n      <td>...</td>\n      <td>...</td>\n    </tr>\n    <tr>\n      <th>5038</th>\n      <td>Color</td>\n      <td>Scott Smith</td>\n      <td>1.0</td>\n      <td>87.0</td>\n      <td>2.0</td>\n      <td>318.0</td>\n      <td>Daphne Zuniga</td>\n      <td>637.0</td>\n      <td>NaN</td>\n      <td>Comedy|Drama</td>\n      <td>...</td>\n      <td>6.0</td>\n      <td>English</td>\n      <td>Canada</td>\n      <td>NaN</td>\n      <td>NaN</td>\n      <td>2013.0</td>\n      <td>470.0</td>\n      <td>7.7</td>\n      <td>NaN</td>\n      <td>84</td>\n    </tr>\n    <tr>\n      <th>5039</th>\n      <td>Color</td>\n      <td>NaN</td>\n      <td>43.0</td>\n      <td>43.0</td>\n      <td>NaN</td>\n      <td>319.0</td>\n      <td>Valorie Curry</td>\n      <td>841.0</td>\n      <td>NaN</td>\n      <td>Crime|Drama|Mystery|Thriller</td>\n      <td>...</td>\n      <td>359.0</td>\n      <td>English</td>\n      <td>USA</td>\n      <td>TV-14</td>\n      <td>NaN</td>\n      <td>NaN</td>\n      <td>593.0</td>\n      <td>7.5</td>\n      <td>16.00</td>\n      <td>32000</td>\n    </tr>\n    <tr>\n      <th>5040</th>\n      <td>Color</td>\n      <td>Benjamin Roberds</td>\n      <td>13.0</td>\n      <td>76.0</td>\n      <td>0.0</td>\n      <td>0.0</td>\n      <td>Maxwell Moody</td>\n      <td>0.0</td>\n      <td>NaN</td>\n      <td>Drama|Horror|Thriller</td>\n      <td>...</td>\n      <td>3.0</td>\n      <td>English</td>\n      <td>USA</td>\n      <td>NaN</td>\n      <td>1400.0</td>\n      <td>2013.0</td>\n      <td>0.0</td>\n      <td>6.3</td>\n      <td>NaN</td>\n      <td>16</td>\n    </tr>\n    <tr>\n      <th>5041</th>\n      <td>Color</td>\n      <td>Daniel Hsia</td>\n      <td>14.0</td>\n      <td>100.0</td>\n      <td>0.0</td>\n      <td>489.0</td>\n      <td>Daniel Henney</td>\n      <td>946.0</td>\n      <td>10443.0</td>\n      <td>Comedy|Drama|Romance</td>\n      <td>...</td>\n      <td>9.0</td>\n      <td>English</td>\n      <td>USA</td>\n      <td>PG-13</td>\n      <td>NaN</td>\n      <td>2012.0</td>\n      <td>719.0</td>\n      <td>6.3</td>\n      <td>2.35</td>\n      <td>660</td>\n    </tr>\n    <tr>\n      <th>5042</th>\n      <td>Color</td>\n      <td>Jon Gunn</td>\n      <td>43.0</td>\n      <td>90.0</td>\n      <td>16.0</td>\n      <td>16.0</td>\n      <td>Brian Herzlinger</td>\n      <td>86.0</td>\n      <td>85222.0</td>\n      <td>Documentary</td>\n      <td>...</td>\n      <td>84.0</td>\n      <td>English</td>\n      <td>USA</td>\n      <td>PG</td>\n      <td>1100.0</td>\n      <td>2004.0</td>\n      <td>23.0</td>\n      <td>6.6</td>\n      <td>1.85</td>\n      <td>456</td>\n    </tr>\n  </tbody>\n</table>\n<p>5043 rows × 28 columns</p>\n</div>"
     },
     "metadata": {},
     "execution_count": 30
    }
   ],
   "source": [
    "imdb"
   ]
  },
  {
   "cell_type": "code",
   "execution_count": 31,
   "metadata": {},
   "outputs": [
    {
     "output_type": "error",
     "ename": "TypeError",
     "evalue": "'tuple' object is not callable",
     "traceback": [
      "\u001b[0;31m---------------------------------------------------------------------------\u001b[0m",
      "\u001b[0;31mTypeError\u001b[0m                                 Traceback (most recent call last)",
      "\u001b[0;32m<ipython-input-31-a79c0de9f59e>\u001b[0m in \u001b[0;36m<module>\u001b[0;34m\u001b[0m\n\u001b[0;32m----> 1\u001b[0;31m \u001b[0mimdb\u001b[0m\u001b[0;34m.\u001b[0m\u001b[0mshape\u001b[0m\u001b[0;34m(\u001b[0m\u001b[0;34m)\u001b[0m\u001b[0;34m\u001b[0m\u001b[0;34m\u001b[0m\u001b[0m\n\u001b[0m",
      "\u001b[0;31mTypeError\u001b[0m: 'tuple' object is not callable"
     ]
    }
   ],
   "source": [
    "imdb.shape()"
   ]
  },
  {
   "cell_type": "code",
   "execution_count": 32,
   "metadata": {},
   "outputs": [
    {
     "output_type": "execute_result",
     "data": {
      "text/plain": "(5043, 28)"
     },
     "metadata": {},
     "execution_count": 32
    }
   ],
   "source": [
    "imdb.shape"
   ]
  },
  {
   "cell_type": "code",
   "execution_count": 33,
   "metadata": {},
   "outputs": [
    {
     "output_type": "execute_result",
     "data": {
      "text/plain": "   color      director_name  num_critic_for_reviews  duration  \\\n0  Color      James Cameron                   723.0     178.0   \n1  Color     Gore Verbinski                   302.0     169.0   \n2  Color         Sam Mendes                   602.0     148.0   \n3  Color  Christopher Nolan                   813.0     164.0   \n4    NaN        Doug Walker                     NaN       NaN   \n\n   director_facebook_likes  actor_3_facebook_likes      actor_2_name  \\\n0                      0.0                   855.0  Joel David Moore   \n1                    563.0                  1000.0     Orlando Bloom   \n2                      0.0                   161.0      Rory Kinnear   \n3                  22000.0                 23000.0    Christian Bale   \n4                    131.0                     NaN        Rob Walker   \n\n   actor_1_facebook_likes        gross                           genres  ...  \\\n0                  1000.0  760505847.0  Action|Adventure|Fantasy|Sci-Fi  ...   \n1                 40000.0  309404152.0         Action|Adventure|Fantasy  ...   \n2                 11000.0  200074175.0        Action|Adventure|Thriller  ...   \n3                 27000.0  448130642.0                  Action|Thriller  ...   \n4                   131.0          NaN                      Documentary  ...   \n\n  num_user_for_reviews language  country  content_rating       budget  \\\n0               3054.0  English      USA           PG-13  237000000.0   \n1               1238.0  English      USA           PG-13  300000000.0   \n2                994.0  English       UK           PG-13  245000000.0   \n3               2701.0  English      USA           PG-13  250000000.0   \n4                  NaN      NaN      NaN             NaN          NaN   \n\n   title_year actor_2_facebook_likes imdb_score  aspect_ratio  \\\n0      2009.0                  936.0        7.9          1.78   \n1      2007.0                 5000.0        7.1          2.35   \n2      2015.0                  393.0        6.8          2.35   \n3      2012.0                23000.0        8.5          2.35   \n4         NaN                   12.0        7.1           NaN   \n\n  movie_facebook_likes  \n0                33000  \n1                    0  \n2                85000  \n3               164000  \n4                    0  \n\n[5 rows x 28 columns]",
      "text/html": "<div>\n<style scoped>\n    .dataframe tbody tr th:only-of-type {\n        vertical-align: middle;\n    }\n\n    .dataframe tbody tr th {\n        vertical-align: top;\n    }\n\n    .dataframe thead th {\n        text-align: right;\n    }\n</style>\n<table border=\"1\" class=\"dataframe\">\n  <thead>\n    <tr style=\"text-align: right;\">\n      <th></th>\n      <th>color</th>\n      <th>director_name</th>\n      <th>num_critic_for_reviews</th>\n      <th>duration</th>\n      <th>director_facebook_likes</th>\n      <th>actor_3_facebook_likes</th>\n      <th>actor_2_name</th>\n      <th>actor_1_facebook_likes</th>\n      <th>gross</th>\n      <th>genres</th>\n      <th>...</th>\n      <th>num_user_for_reviews</th>\n      <th>language</th>\n      <th>country</th>\n      <th>content_rating</th>\n      <th>budget</th>\n      <th>title_year</th>\n      <th>actor_2_facebook_likes</th>\n      <th>imdb_score</th>\n      <th>aspect_ratio</th>\n      <th>movie_facebook_likes</th>\n    </tr>\n  </thead>\n  <tbody>\n    <tr>\n      <th>0</th>\n      <td>Color</td>\n      <td>James Cameron</td>\n      <td>723.0</td>\n      <td>178.0</td>\n      <td>0.0</td>\n      <td>855.0</td>\n      <td>Joel David Moore</td>\n      <td>1000.0</td>\n      <td>760505847.0</td>\n      <td>Action|Adventure|Fantasy|Sci-Fi</td>\n      <td>...</td>\n      <td>3054.0</td>\n      <td>English</td>\n      <td>USA</td>\n      <td>PG-13</td>\n      <td>237000000.0</td>\n      <td>2009.0</td>\n      <td>936.0</td>\n      <td>7.9</td>\n      <td>1.78</td>\n      <td>33000</td>\n    </tr>\n    <tr>\n      <th>1</th>\n      <td>Color</td>\n      <td>Gore Verbinski</td>\n      <td>302.0</td>\n      <td>169.0</td>\n      <td>563.0</td>\n      <td>1000.0</td>\n      <td>Orlando Bloom</td>\n      <td>40000.0</td>\n      <td>309404152.0</td>\n      <td>Action|Adventure|Fantasy</td>\n      <td>...</td>\n      <td>1238.0</td>\n      <td>English</td>\n      <td>USA</td>\n      <td>PG-13</td>\n      <td>300000000.0</td>\n      <td>2007.0</td>\n      <td>5000.0</td>\n      <td>7.1</td>\n      <td>2.35</td>\n      <td>0</td>\n    </tr>\n    <tr>\n      <th>2</th>\n      <td>Color</td>\n      <td>Sam Mendes</td>\n      <td>602.0</td>\n      <td>148.0</td>\n      <td>0.0</td>\n      <td>161.0</td>\n      <td>Rory Kinnear</td>\n      <td>11000.0</td>\n      <td>200074175.0</td>\n      <td>Action|Adventure|Thriller</td>\n      <td>...</td>\n      <td>994.0</td>\n      <td>English</td>\n      <td>UK</td>\n      <td>PG-13</td>\n      <td>245000000.0</td>\n      <td>2015.0</td>\n      <td>393.0</td>\n      <td>6.8</td>\n      <td>2.35</td>\n      <td>85000</td>\n    </tr>\n    <tr>\n      <th>3</th>\n      <td>Color</td>\n      <td>Christopher Nolan</td>\n      <td>813.0</td>\n      <td>164.0</td>\n      <td>22000.0</td>\n      <td>23000.0</td>\n      <td>Christian Bale</td>\n      <td>27000.0</td>\n      <td>448130642.0</td>\n      <td>Action|Thriller</td>\n      <td>...</td>\n      <td>2701.0</td>\n      <td>English</td>\n      <td>USA</td>\n      <td>PG-13</td>\n      <td>250000000.0</td>\n      <td>2012.0</td>\n      <td>23000.0</td>\n      <td>8.5</td>\n      <td>2.35</td>\n      <td>164000</td>\n    </tr>\n    <tr>\n      <th>4</th>\n      <td>NaN</td>\n      <td>Doug Walker</td>\n      <td>NaN</td>\n      <td>NaN</td>\n      <td>131.0</td>\n      <td>NaN</td>\n      <td>Rob Walker</td>\n      <td>131.0</td>\n      <td>NaN</td>\n      <td>Documentary</td>\n      <td>...</td>\n      <td>NaN</td>\n      <td>NaN</td>\n      <td>NaN</td>\n      <td>NaN</td>\n      <td>NaN</td>\n      <td>NaN</td>\n      <td>12.0</td>\n      <td>7.1</td>\n      <td>NaN</td>\n      <td>0</td>\n    </tr>\n  </tbody>\n</table>\n<p>5 rows × 28 columns</p>\n</div>"
     },
     "metadata": {},
     "execution_count": 33
    }
   ],
   "source": [
    "imdb.head()"
   ]
  },
  {
   "cell_type": "code",
   "execution_count": 34,
   "metadata": {},
   "outputs": [
    {
     "output_type": "execute_result",
     "data": {
      "text/plain": "pandas.core.frame.DataFrame"
     },
     "metadata": {},
     "execution_count": 34
    }
   ],
   "source": [
    "type(imdb.head())"
   ]
  },
  {
   "cell_type": "code",
   "execution_count": 35,
   "metadata": {},
   "outputs": [
    {
     "output_type": "execute_result",
     "data": {
      "text/plain": "      color     director_name  num_critic_for_reviews  duration  \\\n5033  Color     Shane Carruth                   143.0      77.0   \n5034  Color  Neill Dela Llana                    35.0      80.0   \n5035  Color  Robert Rodriguez                    56.0      81.0   \n5036  Color   Anthony Vallone                     NaN      84.0   \n5037  Color      Edward Burns                    14.0      95.0   \n5038  Color       Scott Smith                     1.0      87.0   \n5039  Color               NaN                    43.0      43.0   \n5040  Color  Benjamin Roberds                    13.0      76.0   \n5041  Color       Daniel Hsia                    14.0     100.0   \n5042  Color          Jon Gunn                    43.0      90.0   \n\n      director_facebook_likes  actor_3_facebook_likes        actor_2_name  \\\n5033                    291.0                     8.0      David Sullivan   \n5034                      0.0                     0.0     Edgar Tancangco   \n5035                      0.0                     6.0     Peter Marquardt   \n5036                      2.0                     2.0      John Considine   \n5037                      0.0                   133.0  Caitlin FitzGerald   \n5038                      2.0                   318.0       Daphne Zuniga   \n5039                      NaN                   319.0       Valorie Curry   \n5040                      0.0                     0.0       Maxwell Moody   \n5041                      0.0                   489.0       Daniel Henney   \n5042                     16.0                    16.0    Brian Herzlinger   \n\n      actor_1_facebook_likes      gross                               genres  \\\n5033                   291.0   424760.0                Drama|Sci-Fi|Thriller   \n5034                     0.0    70071.0                             Thriller   \n5035                   121.0  2040920.0  Action|Crime|Drama|Romance|Thriller   \n5036                    45.0        NaN                          Crime|Drama   \n5037                   296.0     4584.0                         Comedy|Drama   \n5038                   637.0        NaN                         Comedy|Drama   \n5039                   841.0        NaN         Crime|Drama|Mystery|Thriller   \n5040                     0.0        NaN                Drama|Horror|Thriller   \n5041                   946.0    10443.0                 Comedy|Drama|Romance   \n5042                    86.0    85222.0                          Documentary   \n\n      ... num_user_for_reviews language      country  content_rating  budget  \\\n5033  ...                371.0  English          USA           PG-13  7000.0   \n5034  ...                 35.0  English  Philippines       Not Rated  7000.0   \n5035  ...                130.0  Spanish          USA               R  7000.0   \n5036  ...                  1.0  English          USA           PG-13  3250.0   \n5037  ...                 14.0  English          USA       Not Rated  9000.0   \n5038  ...                  6.0  English       Canada             NaN     NaN   \n5039  ...                359.0  English          USA           TV-14     NaN   \n5040  ...                  3.0  English          USA             NaN  1400.0   \n5041  ...                  9.0  English          USA           PG-13     NaN   \n5042  ...                 84.0  English          USA              PG  1100.0   \n\n      title_year actor_2_facebook_likes imdb_score  aspect_ratio  \\\n5033      2004.0                   45.0        7.0          1.85   \n5034      2005.0                    0.0        6.3           NaN   \n5035      1992.0                   20.0        6.9          1.37   \n5036      2005.0                   44.0        7.8           NaN   \n5037      2011.0                  205.0        6.4           NaN   \n5038      2013.0                  470.0        7.7           NaN   \n5039         NaN                  593.0        7.5         16.00   \n5040      2013.0                    0.0        6.3           NaN   \n5041      2012.0                  719.0        6.3          2.35   \n5042      2004.0                   23.0        6.6          1.85   \n\n     movie_facebook_likes  \n5033                19000  \n5034                   74  \n5035                    0  \n5036                    4  \n5037                  413  \n5038                   84  \n5039                32000  \n5040                   16  \n5041                  660  \n5042                  456  \n\n[10 rows x 28 columns]",
      "text/html": "<div>\n<style scoped>\n    .dataframe tbody tr th:only-of-type {\n        vertical-align: middle;\n    }\n\n    .dataframe tbody tr th {\n        vertical-align: top;\n    }\n\n    .dataframe thead th {\n        text-align: right;\n    }\n</style>\n<table border=\"1\" class=\"dataframe\">\n  <thead>\n    <tr style=\"text-align: right;\">\n      <th></th>\n      <th>color</th>\n      <th>director_name</th>\n      <th>num_critic_for_reviews</th>\n      <th>duration</th>\n      <th>director_facebook_likes</th>\n      <th>actor_3_facebook_likes</th>\n      <th>actor_2_name</th>\n      <th>actor_1_facebook_likes</th>\n      <th>gross</th>\n      <th>genres</th>\n      <th>...</th>\n      <th>num_user_for_reviews</th>\n      <th>language</th>\n      <th>country</th>\n      <th>content_rating</th>\n      <th>budget</th>\n      <th>title_year</th>\n      <th>actor_2_facebook_likes</th>\n      <th>imdb_score</th>\n      <th>aspect_ratio</th>\n      <th>movie_facebook_likes</th>\n    </tr>\n  </thead>\n  <tbody>\n    <tr>\n      <th>5033</th>\n      <td>Color</td>\n      <td>Shane Carruth</td>\n      <td>143.0</td>\n      <td>77.0</td>\n      <td>291.0</td>\n      <td>8.0</td>\n      <td>David Sullivan</td>\n      <td>291.0</td>\n      <td>424760.0</td>\n      <td>Drama|Sci-Fi|Thriller</td>\n      <td>...</td>\n      <td>371.0</td>\n      <td>English</td>\n      <td>USA</td>\n      <td>PG-13</td>\n      <td>7000.0</td>\n      <td>2004.0</td>\n      <td>45.0</td>\n      <td>7.0</td>\n      <td>1.85</td>\n      <td>19000</td>\n    </tr>\n    <tr>\n      <th>5034</th>\n      <td>Color</td>\n      <td>Neill Dela Llana</td>\n      <td>35.0</td>\n      <td>80.0</td>\n      <td>0.0</td>\n      <td>0.0</td>\n      <td>Edgar Tancangco</td>\n      <td>0.0</td>\n      <td>70071.0</td>\n      <td>Thriller</td>\n      <td>...</td>\n      <td>35.0</td>\n      <td>English</td>\n      <td>Philippines</td>\n      <td>Not Rated</td>\n      <td>7000.0</td>\n      <td>2005.0</td>\n      <td>0.0</td>\n      <td>6.3</td>\n      <td>NaN</td>\n      <td>74</td>\n    </tr>\n    <tr>\n      <th>5035</th>\n      <td>Color</td>\n      <td>Robert Rodriguez</td>\n      <td>56.0</td>\n      <td>81.0</td>\n      <td>0.0</td>\n      <td>6.0</td>\n      <td>Peter Marquardt</td>\n      <td>121.0</td>\n      <td>2040920.0</td>\n      <td>Action|Crime|Drama|Romance|Thriller</td>\n      <td>...</td>\n      <td>130.0</td>\n      <td>Spanish</td>\n      <td>USA</td>\n      <td>R</td>\n      <td>7000.0</td>\n      <td>1992.0</td>\n      <td>20.0</td>\n      <td>6.9</td>\n      <td>1.37</td>\n      <td>0</td>\n    </tr>\n    <tr>\n      <th>5036</th>\n      <td>Color</td>\n      <td>Anthony Vallone</td>\n      <td>NaN</td>\n      <td>84.0</td>\n      <td>2.0</td>\n      <td>2.0</td>\n      <td>John Considine</td>\n      <td>45.0</td>\n      <td>NaN</td>\n      <td>Crime|Drama</td>\n      <td>...</td>\n      <td>1.0</td>\n      <td>English</td>\n      <td>USA</td>\n      <td>PG-13</td>\n      <td>3250.0</td>\n      <td>2005.0</td>\n      <td>44.0</td>\n      <td>7.8</td>\n      <td>NaN</td>\n      <td>4</td>\n    </tr>\n    <tr>\n      <th>5037</th>\n      <td>Color</td>\n      <td>Edward Burns</td>\n      <td>14.0</td>\n      <td>95.0</td>\n      <td>0.0</td>\n      <td>133.0</td>\n      <td>Caitlin FitzGerald</td>\n      <td>296.0</td>\n      <td>4584.0</td>\n      <td>Comedy|Drama</td>\n      <td>...</td>\n      <td>14.0</td>\n      <td>English</td>\n      <td>USA</td>\n      <td>Not Rated</td>\n      <td>9000.0</td>\n      <td>2011.0</td>\n      <td>205.0</td>\n      <td>6.4</td>\n      <td>NaN</td>\n      <td>413</td>\n    </tr>\n    <tr>\n      <th>5038</th>\n      <td>Color</td>\n      <td>Scott Smith</td>\n      <td>1.0</td>\n      <td>87.0</td>\n      <td>2.0</td>\n      <td>318.0</td>\n      <td>Daphne Zuniga</td>\n      <td>637.0</td>\n      <td>NaN</td>\n      <td>Comedy|Drama</td>\n      <td>...</td>\n      <td>6.0</td>\n      <td>English</td>\n      <td>Canada</td>\n      <td>NaN</td>\n      <td>NaN</td>\n      <td>2013.0</td>\n      <td>470.0</td>\n      <td>7.7</td>\n      <td>NaN</td>\n      <td>84</td>\n    </tr>\n    <tr>\n      <th>5039</th>\n      <td>Color</td>\n      <td>NaN</td>\n      <td>43.0</td>\n      <td>43.0</td>\n      <td>NaN</td>\n      <td>319.0</td>\n      <td>Valorie Curry</td>\n      <td>841.0</td>\n      <td>NaN</td>\n      <td>Crime|Drama|Mystery|Thriller</td>\n      <td>...</td>\n      <td>359.0</td>\n      <td>English</td>\n      <td>USA</td>\n      <td>TV-14</td>\n      <td>NaN</td>\n      <td>NaN</td>\n      <td>593.0</td>\n      <td>7.5</td>\n      <td>16.00</td>\n      <td>32000</td>\n    </tr>\n    <tr>\n      <th>5040</th>\n      <td>Color</td>\n      <td>Benjamin Roberds</td>\n      <td>13.0</td>\n      <td>76.0</td>\n      <td>0.0</td>\n      <td>0.0</td>\n      <td>Maxwell Moody</td>\n      <td>0.0</td>\n      <td>NaN</td>\n      <td>Drama|Horror|Thriller</td>\n      <td>...</td>\n      <td>3.0</td>\n      <td>English</td>\n      <td>USA</td>\n      <td>NaN</td>\n      <td>1400.0</td>\n      <td>2013.0</td>\n      <td>0.0</td>\n      <td>6.3</td>\n      <td>NaN</td>\n      <td>16</td>\n    </tr>\n    <tr>\n      <th>5041</th>\n      <td>Color</td>\n      <td>Daniel Hsia</td>\n      <td>14.0</td>\n      <td>100.0</td>\n      <td>0.0</td>\n      <td>489.0</td>\n      <td>Daniel Henney</td>\n      <td>946.0</td>\n      <td>10443.0</td>\n      <td>Comedy|Drama|Romance</td>\n      <td>...</td>\n      <td>9.0</td>\n      <td>English</td>\n      <td>USA</td>\n      <td>PG-13</td>\n      <td>NaN</td>\n      <td>2012.0</td>\n      <td>719.0</td>\n      <td>6.3</td>\n      <td>2.35</td>\n      <td>660</td>\n    </tr>\n    <tr>\n      <th>5042</th>\n      <td>Color</td>\n      <td>Jon Gunn</td>\n      <td>43.0</td>\n      <td>90.0</td>\n      <td>16.0</td>\n      <td>16.0</td>\n      <td>Brian Herzlinger</td>\n      <td>86.0</td>\n      <td>85222.0</td>\n      <td>Documentary</td>\n      <td>...</td>\n      <td>84.0</td>\n      <td>English</td>\n      <td>USA</td>\n      <td>PG</td>\n      <td>1100.0</td>\n      <td>2004.0</td>\n      <td>23.0</td>\n      <td>6.6</td>\n      <td>1.85</td>\n      <td>456</td>\n    </tr>\n  </tbody>\n</table>\n<p>10 rows × 28 columns</p>\n</div>"
     },
     "metadata": {},
     "execution_count": 35
    }
   ],
   "source": [
    "imdb.tail(10)"
   ]
  },
  {
   "cell_type": "code",
   "execution_count": 36,
   "metadata": {},
   "outputs": [
    {
     "output_type": "execute_result",
     "data": {
      "text/plain": "      color      director_name\n0     Color      James Cameron\n1     Color     Gore Verbinski\n2     Color         Sam Mendes\n3     Color  Christopher Nolan\n4       NaN        Doug Walker\n...     ...                ...\n5038  Color        Scott Smith\n5039  Color                NaN\n5040  Color   Benjamin Roberds\n5041  Color        Daniel Hsia\n5042  Color           Jon Gunn\n\n[5043 rows x 2 columns]",
      "text/html": "<div>\n<style scoped>\n    .dataframe tbody tr th:only-of-type {\n        vertical-align: middle;\n    }\n\n    .dataframe tbody tr th {\n        vertical-align: top;\n    }\n\n    .dataframe thead th {\n        text-align: right;\n    }\n</style>\n<table border=\"1\" class=\"dataframe\">\n  <thead>\n    <tr style=\"text-align: right;\">\n      <th></th>\n      <th>color</th>\n      <th>director_name</th>\n    </tr>\n  </thead>\n  <tbody>\n    <tr>\n      <th>0</th>\n      <td>Color</td>\n      <td>James Cameron</td>\n    </tr>\n    <tr>\n      <th>1</th>\n      <td>Color</td>\n      <td>Gore Verbinski</td>\n    </tr>\n    <tr>\n      <th>2</th>\n      <td>Color</td>\n      <td>Sam Mendes</td>\n    </tr>\n    <tr>\n      <th>3</th>\n      <td>Color</td>\n      <td>Christopher Nolan</td>\n    </tr>\n    <tr>\n      <th>4</th>\n      <td>NaN</td>\n      <td>Doug Walker</td>\n    </tr>\n    <tr>\n      <th>...</th>\n      <td>...</td>\n      <td>...</td>\n    </tr>\n    <tr>\n      <th>5038</th>\n      <td>Color</td>\n      <td>Scott Smith</td>\n    </tr>\n    <tr>\n      <th>5039</th>\n      <td>Color</td>\n      <td>NaN</td>\n    </tr>\n    <tr>\n      <th>5040</th>\n      <td>Color</td>\n      <td>Benjamin Roberds</td>\n    </tr>\n    <tr>\n      <th>5041</th>\n      <td>Color</td>\n      <td>Daniel Hsia</td>\n    </tr>\n    <tr>\n      <th>5042</th>\n      <td>Color</td>\n      <td>Jon Gunn</td>\n    </tr>\n  </tbody>\n</table>\n<p>5043 rows × 2 columns</p>\n</div>"
     },
     "metadata": {},
     "execution_count": 36
    }
   ],
   "source": [
    "imdb[['color', 'director_name']]"
   ]
  },
  {
   "cell_type": "code",
   "execution_count": 37,
   "metadata": {},
   "outputs": [],
   "source": [
    "sub = imdb[['director_name', 'movie_title', 'imdb_score']]"
   ]
  },
  {
   "cell_type": "code",
   "execution_count": 38,
   "metadata": {},
   "outputs": [
    {
     "output_type": "execute_result",
     "data": {
      "text/plain": "          director_name                                        movie_title  \\\n0         James Cameron                                            Avatar    \n1        Gore Verbinski          Pirates of the Caribbean: At World's End    \n2            Sam Mendes                                           Spectre    \n3     Christopher Nolan                             The Dark Knight Rises    \n4           Doug Walker  Star Wars: Episode VII - The Force Awakens    ...   \n...                 ...                                                ...   \n5038        Scott Smith                           Signed Sealed Delivered    \n5039                NaN                         The Following                \n5040   Benjamin Roberds                              A Plague So Pleasant    \n5041        Daniel Hsia                                  Shanghai Calling    \n5042           Jon Gunn                                 My Date with Drew    \n\n      imdb_score  \n0            7.9  \n1            7.1  \n2            6.8  \n3            8.5  \n4            7.1  \n...          ...  \n5038         7.7  \n5039         7.5  \n5040         6.3  \n5041         6.3  \n5042         6.6  \n\n[5043 rows x 3 columns]",
      "text/html": "<div>\n<style scoped>\n    .dataframe tbody tr th:only-of-type {\n        vertical-align: middle;\n    }\n\n    .dataframe tbody tr th {\n        vertical-align: top;\n    }\n\n    .dataframe thead th {\n        text-align: right;\n    }\n</style>\n<table border=\"1\" class=\"dataframe\">\n  <thead>\n    <tr style=\"text-align: right;\">\n      <th></th>\n      <th>director_name</th>\n      <th>movie_title</th>\n      <th>imdb_score</th>\n    </tr>\n  </thead>\n  <tbody>\n    <tr>\n      <th>0</th>\n      <td>James Cameron</td>\n      <td>Avatar</td>\n      <td>7.9</td>\n    </tr>\n    <tr>\n      <th>1</th>\n      <td>Gore Verbinski</td>\n      <td>Pirates of the Caribbean: At World's End</td>\n      <td>7.1</td>\n    </tr>\n    <tr>\n      <th>2</th>\n      <td>Sam Mendes</td>\n      <td>Spectre</td>\n      <td>6.8</td>\n    </tr>\n    <tr>\n      <th>3</th>\n      <td>Christopher Nolan</td>\n      <td>The Dark Knight Rises</td>\n      <td>8.5</td>\n    </tr>\n    <tr>\n      <th>4</th>\n      <td>Doug Walker</td>\n      <td>Star Wars: Episode VII - The Force Awakens    ...</td>\n      <td>7.1</td>\n    </tr>\n    <tr>\n      <th>...</th>\n      <td>...</td>\n      <td>...</td>\n      <td>...</td>\n    </tr>\n    <tr>\n      <th>5038</th>\n      <td>Scott Smith</td>\n      <td>Signed Sealed Delivered</td>\n      <td>7.7</td>\n    </tr>\n    <tr>\n      <th>5039</th>\n      <td>NaN</td>\n      <td>The Following</td>\n      <td>7.5</td>\n    </tr>\n    <tr>\n      <th>5040</th>\n      <td>Benjamin Roberds</td>\n      <td>A Plague So Pleasant</td>\n      <td>6.3</td>\n    </tr>\n    <tr>\n      <th>5041</th>\n      <td>Daniel Hsia</td>\n      <td>Shanghai Calling</td>\n      <td>6.3</td>\n    </tr>\n    <tr>\n      <th>5042</th>\n      <td>Jon Gunn</td>\n      <td>My Date with Drew</td>\n      <td>6.6</td>\n    </tr>\n  </tbody>\n</table>\n<p>5043 rows × 3 columns</p>\n</div>"
     },
     "metadata": {},
     "execution_count": 38
    }
   ],
   "source": [
    "sub"
   ]
  },
  {
   "cell_type": "code",
   "execution_count": 39,
   "metadata": {},
   "outputs": [
    {
     "output_type": "execute_result",
     "data": {
      "text/plain": "       director_name                                   movie_title\n10       Zack Snyder           Batman v Superman: Dawn of Justice \n11      Bryan Singer                             Superman Returns \n12      Marc Forster                            Quantum of Solace \n13    Gore Verbinski   Pirates of the Caribbean: Dead Man's Chest \n14    Gore Verbinski                              The Lone Ranger \n15       Zack Snyder                                 Man of Steel \n16    Andrew Adamson     The Chronicles of Narnia: Prince Caspian \n17       Joss Whedon                                 The Avengers \n18      Rob Marshall  Pirates of the Caribbean: On Stranger Tides \n19  Barry Sonnenfeld                               Men in Black 3 ",
      "text/html": "<div>\n<style scoped>\n    .dataframe tbody tr th:only-of-type {\n        vertical-align: middle;\n    }\n\n    .dataframe tbody tr th {\n        vertical-align: top;\n    }\n\n    .dataframe thead th {\n        text-align: right;\n    }\n</style>\n<table border=\"1\" class=\"dataframe\">\n  <thead>\n    <tr style=\"text-align: right;\">\n      <th></th>\n      <th>director_name</th>\n      <th>movie_title</th>\n    </tr>\n  </thead>\n  <tbody>\n    <tr>\n      <th>10</th>\n      <td>Zack Snyder</td>\n      <td>Batman v Superman: Dawn of Justice</td>\n    </tr>\n    <tr>\n      <th>11</th>\n      <td>Bryan Singer</td>\n      <td>Superman Returns</td>\n    </tr>\n    <tr>\n      <th>12</th>\n      <td>Marc Forster</td>\n      <td>Quantum of Solace</td>\n    </tr>\n    <tr>\n      <th>13</th>\n      <td>Gore Verbinski</td>\n      <td>Pirates of the Caribbean: Dead Man's Chest</td>\n    </tr>\n    <tr>\n      <th>14</th>\n      <td>Gore Verbinski</td>\n      <td>The Lone Ranger</td>\n    </tr>\n    <tr>\n      <th>15</th>\n      <td>Zack Snyder</td>\n      <td>Man of Steel</td>\n    </tr>\n    <tr>\n      <th>16</th>\n      <td>Andrew Adamson</td>\n      <td>The Chronicles of Narnia: Prince Caspian</td>\n    </tr>\n    <tr>\n      <th>17</th>\n      <td>Joss Whedon</td>\n      <td>The Avengers</td>\n    </tr>\n    <tr>\n      <th>18</th>\n      <td>Rob Marshall</td>\n      <td>Pirates of the Caribbean: On Stranger Tides</td>\n    </tr>\n    <tr>\n      <th>19</th>\n      <td>Barry Sonnenfeld</td>\n      <td>Men in Black 3</td>\n    </tr>\n  </tbody>\n</table>\n</div>"
     },
     "metadata": {},
     "execution_count": 39
    }
   ],
   "source": [
    "sub.iloc[10:20, 0:2]"
   ]
  },
  {
   "cell_type": "code",
   "execution_count": 40,
   "metadata": {},
   "outputs": [
    {
     "output_type": "execute_result",
     "data": {
      "text/plain": "     director_name\n15     Zack Snyder\n16  Andrew Adamson\n17     Joss Whedon",
      "text/html": "<div>\n<style scoped>\n    .dataframe tbody tr th:only-of-type {\n        vertical-align: middle;\n    }\n\n    .dataframe tbody tr th {\n        vertical-align: top;\n    }\n\n    .dataframe thead th {\n        text-align: right;\n    }\n</style>\n<table border=\"1\" class=\"dataframe\">\n  <thead>\n    <tr style=\"text-align: right;\">\n      <th></th>\n      <th>director_name</th>\n    </tr>\n  </thead>\n  <tbody>\n    <tr>\n      <th>15</th>\n      <td>Zack Snyder</td>\n    </tr>\n    <tr>\n      <th>16</th>\n      <td>Andrew Adamson</td>\n    </tr>\n    <tr>\n      <th>17</th>\n      <td>Joss Whedon</td>\n    </tr>\n  </tbody>\n</table>\n</div>"
     },
     "metadata": {},
     "execution_count": 40
    }
   ],
   "source": [
    "sub.loc[15:17, :'director_name']"
   ]
  },
  {
   "cell_type": "code",
   "execution_count": 41,
   "metadata": {},
   "outputs": [],
   "source": [
    "s1 = Series([1, 2, 3, 4], index=['A', 'B', 'C', 'D'])"
   ]
  },
  {
   "cell_type": "code",
   "execution_count": 42,
   "metadata": {},
   "outputs": [
    {
     "output_type": "execute_result",
     "data": {
      "text/plain": "A    1\nB    2\nC    3\nD    4\ndtype: int64"
     },
     "metadata": {},
     "execution_count": 42
    }
   ],
   "source": [
    "s1"
   ]
  },
  {
   "cell_type": "code",
   "execution_count": 43,
   "metadata": {},
   "outputs": [
    {
     "output_type": "execute_result",
     "data": {
      "text/plain": "A    1.0\nB    2.0\nC    3.0\nD    4.0\nE    NaN\ndtype: float64"
     },
     "metadata": {},
     "execution_count": 43
    }
   ],
   "source": [
    "s1.reindex(index=['A', 'B', 'C', 'D', 'E'])"
   ]
  },
  {
   "cell_type": "code",
   "execution_count": 44,
   "metadata": {},
   "outputs": [
    {
     "output_type": "execute_result",
     "data": {
      "text/plain": "A     1\nB     2\nC     3\nD     4\nE    10\ndtype: int64"
     },
     "metadata": {},
     "execution_count": 44
    }
   ],
   "source": [
    "s1.reindex(index=['A', 'B', 'C', 'D', 'E'], fill_value=10)"
   ]
  },
  {
   "cell_type": "code",
   "execution_count": 45,
   "metadata": {},
   "outputs": [],
   "source": [
    "s2 = Series(['A', 'B', 'C'], index=[1, 5, 10])"
   ]
  },
  {
   "cell_type": "code",
   "execution_count": 46,
   "metadata": {},
   "outputs": [
    {
     "output_type": "execute_result",
     "data": {
      "text/plain": "1     A\n5     B\n10    C\ndtype: object"
     },
     "metadata": {},
     "execution_count": 46
    }
   ],
   "source": [
    "s2"
   ]
  },
  {
   "cell_type": "code",
   "execution_count": 47,
   "metadata": {},
   "outputs": [
    {
     "output_type": "execute_result",
     "data": {
      "text/plain": "0     NaN\n1       A\n2       A\n3       A\n4       A\n5       B\n6       B\n7       B\n8       B\n9       B\n10      C\n11      C\n12      C\n13      C\n14      C\ndtype: object"
     },
     "metadata": {},
     "execution_count": 47
    }
   ],
   "source": [
    "s2.reindex(range(15), method=\"ffill\")"
   ]
  },
  {
   "cell_type": "code",
   "execution_count": 48,
   "metadata": {},
   "outputs": [],
   "source": [
    "df1 = DataFrame(np.random.randint(25, size=25).reshape(5, 5), index=['A', 'B', 'D', 'E', 'F'], columns=['c1', 'c2', 'c3', 'c4', 'c5'])"
   ]
  },
  {
   "cell_type": "code",
   "execution_count": 49,
   "metadata": {},
   "outputs": [
    {
     "output_type": "execute_result",
     "data": {
      "text/plain": "   c1  c2  c3  c4  c5\nA   0   3  17  22  16\nB  10  19  23  20  13\nD  13   0   6   8  22\nE   8  18   1  23   1\nF  23   7  10  15  19",
      "text/html": "<div>\n<style scoped>\n    .dataframe tbody tr th:only-of-type {\n        vertical-align: middle;\n    }\n\n    .dataframe tbody tr th {\n        vertical-align: top;\n    }\n\n    .dataframe thead th {\n        text-align: right;\n    }\n</style>\n<table border=\"1\" class=\"dataframe\">\n  <thead>\n    <tr style=\"text-align: right;\">\n      <th></th>\n      <th>c1</th>\n      <th>c2</th>\n      <th>c3</th>\n      <th>c4</th>\n      <th>c5</th>\n    </tr>\n  </thead>\n  <tbody>\n    <tr>\n      <th>A</th>\n      <td>0</td>\n      <td>3</td>\n      <td>17</td>\n      <td>22</td>\n      <td>16</td>\n    </tr>\n    <tr>\n      <th>B</th>\n      <td>10</td>\n      <td>19</td>\n      <td>23</td>\n      <td>20</td>\n      <td>13</td>\n    </tr>\n    <tr>\n      <th>D</th>\n      <td>13</td>\n      <td>0</td>\n      <td>6</td>\n      <td>8</td>\n      <td>22</td>\n    </tr>\n    <tr>\n      <th>E</th>\n      <td>8</td>\n      <td>18</td>\n      <td>1</td>\n      <td>23</td>\n      <td>1</td>\n    </tr>\n    <tr>\n      <th>F</th>\n      <td>23</td>\n      <td>7</td>\n      <td>10</td>\n      <td>15</td>\n      <td>19</td>\n    </tr>\n  </tbody>\n</table>\n</div>"
     },
     "metadata": {},
     "execution_count": 49
    }
   ],
   "source": [
    "df1"
   ]
  },
  {
   "cell_type": "code",
   "execution_count": 50,
   "metadata": {},
   "outputs": [
    {
     "output_type": "execute_result",
     "data": {
      "text/plain": "     c1    c2    c3    c4    c5\nA   0.0   3.0  17.0  22.0  16.0\nB  10.0  19.0  23.0  20.0  13.0\nC   NaN   NaN   NaN   NaN   NaN\nD  13.0   0.0   6.0   8.0  22.0\nE   8.0  18.0   1.0  23.0   1.0\nF  23.0   7.0  10.0  15.0  19.0",
      "text/html": "<div>\n<style scoped>\n    .dataframe tbody tr th:only-of-type {\n        vertical-align: middle;\n    }\n\n    .dataframe tbody tr th {\n        vertical-align: top;\n    }\n\n    .dataframe thead th {\n        text-align: right;\n    }\n</style>\n<table border=\"1\" class=\"dataframe\">\n  <thead>\n    <tr style=\"text-align: right;\">\n      <th></th>\n      <th>c1</th>\n      <th>c2</th>\n      <th>c3</th>\n      <th>c4</th>\n      <th>c5</th>\n    </tr>\n  </thead>\n  <tbody>\n    <tr>\n      <th>A</th>\n      <td>0.0</td>\n      <td>3.0</td>\n      <td>17.0</td>\n      <td>22.0</td>\n      <td>16.0</td>\n    </tr>\n    <tr>\n      <th>B</th>\n      <td>10.0</td>\n      <td>19.0</td>\n      <td>23.0</td>\n      <td>20.0</td>\n      <td>13.0</td>\n    </tr>\n    <tr>\n      <th>C</th>\n      <td>NaN</td>\n      <td>NaN</td>\n      <td>NaN</td>\n      <td>NaN</td>\n      <td>NaN</td>\n    </tr>\n    <tr>\n      <th>D</th>\n      <td>13.0</td>\n      <td>0.0</td>\n      <td>6.0</td>\n      <td>8.0</td>\n      <td>22.0</td>\n    </tr>\n    <tr>\n      <th>E</th>\n      <td>8.0</td>\n      <td>18.0</td>\n      <td>1.0</td>\n      <td>23.0</td>\n      <td>1.0</td>\n    </tr>\n    <tr>\n      <th>F</th>\n      <td>23.0</td>\n      <td>7.0</td>\n      <td>10.0</td>\n      <td>15.0</td>\n      <td>19.0</td>\n    </tr>\n  </tbody>\n</table>\n</div>"
     },
     "metadata": {},
     "execution_count": 50
    }
   ],
   "source": [
    "df1.reindex(index=['A', 'B', 'C', 'D', 'E', 'F'])"
   ]
  },
  {
   "cell_type": "code",
   "execution_count": 51,
   "metadata": {},
   "outputs": [
    {
     "output_type": "execute_result",
     "data": {
      "text/plain": "   c1  c2  c3  c4  c5  c6\nA   0   3  17  22  16 NaN\nB  10  19  23  20  13 NaN\nD  13   0   6   8  22 NaN\nE   8  18   1  23   1 NaN\nF  23   7  10  15  19 NaN",
      "text/html": "<div>\n<style scoped>\n    .dataframe tbody tr th:only-of-type {\n        vertical-align: middle;\n    }\n\n    .dataframe tbody tr th {\n        vertical-align: top;\n    }\n\n    .dataframe thead th {\n        text-align: right;\n    }\n</style>\n<table border=\"1\" class=\"dataframe\">\n  <thead>\n    <tr style=\"text-align: right;\">\n      <th></th>\n      <th>c1</th>\n      <th>c2</th>\n      <th>c3</th>\n      <th>c4</th>\n      <th>c5</th>\n      <th>c6</th>\n    </tr>\n  </thead>\n  <tbody>\n    <tr>\n      <th>A</th>\n      <td>0</td>\n      <td>3</td>\n      <td>17</td>\n      <td>22</td>\n      <td>16</td>\n      <td>NaN</td>\n    </tr>\n    <tr>\n      <th>B</th>\n      <td>10</td>\n      <td>19</td>\n      <td>23</td>\n      <td>20</td>\n      <td>13</td>\n      <td>NaN</td>\n    </tr>\n    <tr>\n      <th>D</th>\n      <td>13</td>\n      <td>0</td>\n      <td>6</td>\n      <td>8</td>\n      <td>22</td>\n      <td>NaN</td>\n    </tr>\n    <tr>\n      <th>E</th>\n      <td>8</td>\n      <td>18</td>\n      <td>1</td>\n      <td>23</td>\n      <td>1</td>\n      <td>NaN</td>\n    </tr>\n    <tr>\n      <th>F</th>\n      <td>23</td>\n      <td>7</td>\n      <td>10</td>\n      <td>15</td>\n      <td>19</td>\n      <td>NaN</td>\n    </tr>\n  </tbody>\n</table>\n</div>"
     },
     "metadata": {},
     "execution_count": 51
    }
   ],
   "source": [
    "df1.reindex(columns=['c1', 'c2', 'c3', 'c4', 'c5', 'c6'])"
   ]
  },
  {
   "cell_type": "code",
   "execution_count": 52,
   "metadata": {},
   "outputs": [
    {
     "output_type": "execute_result",
     "data": {
      "text/plain": "A    1\nB    2\nC    3\nD    4\ndtype: int64"
     },
     "metadata": {},
     "execution_count": 52
    }
   ],
   "source": [
    "s1"
   ]
  },
  {
   "cell_type": "code",
   "execution_count": 53,
   "metadata": {},
   "outputs": [
    {
     "output_type": "execute_result",
     "data": {
      "text/plain": "A    1\nC    3\nD    4\ndtype: int64"
     },
     "metadata": {},
     "execution_count": 53
    }
   ],
   "source": [
    "s1.drop('B')"
   ]
  },
  {
   "cell_type": "code",
   "execution_count": 54,
   "metadata": {},
   "outputs": [
    {
     "output_type": "execute_result",
     "data": {
      "text/plain": "   c1  c2  c3  c4  c5\nA   0   3  17  22  16\nB  10  19  23  20  13\nD  13   0   6   8  22\nE   8  18   1  23   1\nF  23   7  10  15  19",
      "text/html": "<div>\n<style scoped>\n    .dataframe tbody tr th:only-of-type {\n        vertical-align: middle;\n    }\n\n    .dataframe tbody tr th {\n        vertical-align: top;\n    }\n\n    .dataframe thead th {\n        text-align: right;\n    }\n</style>\n<table border=\"1\" class=\"dataframe\">\n  <thead>\n    <tr style=\"text-align: right;\">\n      <th></th>\n      <th>c1</th>\n      <th>c2</th>\n      <th>c3</th>\n      <th>c4</th>\n      <th>c5</th>\n    </tr>\n  </thead>\n  <tbody>\n    <tr>\n      <th>A</th>\n      <td>0</td>\n      <td>3</td>\n      <td>17</td>\n      <td>22</td>\n      <td>16</td>\n    </tr>\n    <tr>\n      <th>B</th>\n      <td>10</td>\n      <td>19</td>\n      <td>23</td>\n      <td>20</td>\n      <td>13</td>\n    </tr>\n    <tr>\n      <th>D</th>\n      <td>13</td>\n      <td>0</td>\n      <td>6</td>\n      <td>8</td>\n      <td>22</td>\n    </tr>\n    <tr>\n      <th>E</th>\n      <td>8</td>\n      <td>18</td>\n      <td>1</td>\n      <td>23</td>\n      <td>1</td>\n    </tr>\n    <tr>\n      <th>F</th>\n      <td>23</td>\n      <td>7</td>\n      <td>10</td>\n      <td>15</td>\n      <td>19</td>\n    </tr>\n  </tbody>\n</table>\n</div>"
     },
     "metadata": {},
     "execution_count": 54
    }
   ],
   "source": [
    "df1"
   ]
  },
  {
   "cell_type": "code",
   "execution_count": 55,
   "metadata": {},
   "outputs": [
    {
     "output_type": "execute_result",
     "data": {
      "text/plain": "   c1  c2  c3  c4  c5\nB  10  19  23  20  13\nD  13   0   6   8  22\nE   8  18   1  23   1\nF  23   7  10  15  19",
      "text/html": "<div>\n<style scoped>\n    .dataframe tbody tr th:only-of-type {\n        vertical-align: middle;\n    }\n\n    .dataframe tbody tr th {\n        vertical-align: top;\n    }\n\n    .dataframe thead th {\n        text-align: right;\n    }\n</style>\n<table border=\"1\" class=\"dataframe\">\n  <thead>\n    <tr style=\"text-align: right;\">\n      <th></th>\n      <th>c1</th>\n      <th>c2</th>\n      <th>c3</th>\n      <th>c4</th>\n      <th>c5</th>\n    </tr>\n  </thead>\n  <tbody>\n    <tr>\n      <th>B</th>\n      <td>10</td>\n      <td>19</td>\n      <td>23</td>\n      <td>20</td>\n      <td>13</td>\n    </tr>\n    <tr>\n      <th>D</th>\n      <td>13</td>\n      <td>0</td>\n      <td>6</td>\n      <td>8</td>\n      <td>22</td>\n    </tr>\n    <tr>\n      <th>E</th>\n      <td>8</td>\n      <td>18</td>\n      <td>1</td>\n      <td>23</td>\n      <td>1</td>\n    </tr>\n    <tr>\n      <th>F</th>\n      <td>23</td>\n      <td>7</td>\n      <td>10</td>\n      <td>15</td>\n      <td>19</td>\n    </tr>\n  </tbody>\n</table>\n</div>"
     },
     "metadata": {},
     "execution_count": 55
    }
   ],
   "source": [
    "df1.drop('A')"
   ]
  },
  {
   "cell_type": "code",
   "execution_count": 56,
   "metadata": {},
   "outputs": [
    {
     "output_type": "execute_result",
     "data": {
      "text/plain": "   c2  c3  c4  c5\nA   3  17  22  16\nB  19  23  20  13\nD   0   6   8  22\nE  18   1  23   1\nF   7  10  15  19",
      "text/html": "<div>\n<style scoped>\n    .dataframe tbody tr th:only-of-type {\n        vertical-align: middle;\n    }\n\n    .dataframe tbody tr th {\n        vertical-align: top;\n    }\n\n    .dataframe thead th {\n        text-align: right;\n    }\n</style>\n<table border=\"1\" class=\"dataframe\">\n  <thead>\n    <tr style=\"text-align: right;\">\n      <th></th>\n      <th>c2</th>\n      <th>c3</th>\n      <th>c4</th>\n      <th>c5</th>\n    </tr>\n  </thead>\n  <tbody>\n    <tr>\n      <th>A</th>\n      <td>3</td>\n      <td>17</td>\n      <td>22</td>\n      <td>16</td>\n    </tr>\n    <tr>\n      <th>B</th>\n      <td>19</td>\n      <td>23</td>\n      <td>20</td>\n      <td>13</td>\n    </tr>\n    <tr>\n      <th>D</th>\n      <td>0</td>\n      <td>6</td>\n      <td>8</td>\n      <td>22</td>\n    </tr>\n    <tr>\n      <th>E</th>\n      <td>18</td>\n      <td>1</td>\n      <td>23</td>\n      <td>1</td>\n    </tr>\n    <tr>\n      <th>F</th>\n      <td>7</td>\n      <td>10</td>\n      <td>15</td>\n      <td>19</td>\n    </tr>\n  </tbody>\n</table>\n</div>"
     },
     "metadata": {},
     "execution_count": 56
    }
   ],
   "source": [
    "df1.drop('c1', axis=1)"
   ]
  },
  {
   "cell_type": "code",
   "execution_count": 57,
   "metadata": {},
   "outputs": [],
   "source": [
    "s1 = Series([1, 2, np.nan, 3, 4], ['A', 'B', 'C', 'D', 'E'])"
   ]
  },
  {
   "cell_type": "code",
   "execution_count": 58,
   "metadata": {},
   "outputs": [
    {
     "output_type": "execute_result",
     "data": {
      "text/plain": "A    1.0\nB    2.0\nC    NaN\nD    3.0\nE    4.0\ndtype: float64"
     },
     "metadata": {},
     "execution_count": 58
    }
   ],
   "source": [
    "s1"
   ]
  },
  {
   "cell_type": "code",
   "execution_count": 59,
   "metadata": {},
   "outputs": [
    {
     "output_type": "execute_result",
     "data": {
      "text/plain": "A    False\nB    False\nC     True\nD    False\nE    False\ndtype: bool"
     },
     "metadata": {},
     "execution_count": 59
    }
   ],
   "source": [
    "s1.isnull()"
   ]
  },
  {
   "cell_type": "code",
   "execution_count": 60,
   "metadata": {},
   "outputs": [
    {
     "output_type": "execute_result",
     "data": {
      "text/plain": "A     True\nB     True\nC    False\nD     True\nE     True\ndtype: bool"
     },
     "metadata": {},
     "execution_count": 60
    }
   ],
   "source": [
    "s1.notnull()"
   ]
  },
  {
   "cell_type": "code",
   "execution_count": 61,
   "metadata": {},
   "outputs": [
    {
     "output_type": "execute_result",
     "data": {
      "text/plain": "A    1.0\nB    2.0\nD    3.0\nE    4.0\ndtype: float64"
     },
     "metadata": {},
     "execution_count": 61
    }
   ],
   "source": [
    "s1.dropna()"
   ]
  },
  {
   "cell_type": "code",
   "execution_count": 62,
   "metadata": {},
   "outputs": [],
   "source": [
    "df1 = DataFrame({\"城市\": [\"北京\", \"上海\", \"广州\"], \"人口\": [1000, 2000, 1500]})"
   ]
  },
  {
   "cell_type": "code",
   "execution_count": 63,
   "metadata": {},
   "outputs": [
    {
     "output_type": "execute_result",
     "data": {
      "text/plain": "   城市    人口\n0  北京  1000\n1  上海  2000\n2  广州  1500",
      "text/html": "<div>\n<style scoped>\n    .dataframe tbody tr th:only-of-type {\n        vertical-align: middle;\n    }\n\n    .dataframe tbody tr th {\n        vertical-align: top;\n    }\n\n    .dataframe thead th {\n        text-align: right;\n    }\n</style>\n<table border=\"1\" class=\"dataframe\">\n  <thead>\n    <tr style=\"text-align: right;\">\n      <th></th>\n      <th>城市</th>\n      <th>人口</th>\n    </tr>\n  </thead>\n  <tbody>\n    <tr>\n      <th>0</th>\n      <td>北京</td>\n      <td>1000</td>\n    </tr>\n    <tr>\n      <th>1</th>\n      <td>上海</td>\n      <td>2000</td>\n    </tr>\n    <tr>\n      <th>2</th>\n      <td>广州</td>\n      <td>1500</td>\n    </tr>\n  </tbody>\n</table>\n</div>"
     },
     "metadata": {},
     "execution_count": 63
    }
   ],
   "source": [
    "df1"
   ]
  },
  {
   "cell_type": "code",
   "execution_count": 64,
   "metadata": {},
   "outputs": [],
   "source": [
    "df1['GDP'] = Series([100, 200, 500])"
   ]
  },
  {
   "cell_type": "code",
   "execution_count": 65,
   "metadata": {},
   "outputs": [
    {
     "output_type": "execute_result",
     "data": {
      "text/plain": "   城市    人口  GDP\n0  北京  1000  100\n1  上海  2000  200\n2  广州  1500  500",
      "text/html": "<div>\n<style scoped>\n    .dataframe tbody tr th:only-of-type {\n        vertical-align: middle;\n    }\n\n    .dataframe tbody tr th {\n        vertical-align: top;\n    }\n\n    .dataframe thead th {\n        text-align: right;\n    }\n</style>\n<table border=\"1\" class=\"dataframe\">\n  <thead>\n    <tr style=\"text-align: right;\">\n      <th></th>\n      <th>城市</th>\n      <th>人口</th>\n      <th>GDP</th>\n    </tr>\n  </thead>\n  <tbody>\n    <tr>\n      <th>0</th>\n      <td>北京</td>\n      <td>1000</td>\n      <td>100</td>\n    </tr>\n    <tr>\n      <th>1</th>\n      <td>上海</td>\n      <td>2000</td>\n      <td>200</td>\n    </tr>\n    <tr>\n      <th>2</th>\n      <td>广州</td>\n      <td>1500</td>\n      <td>500</td>\n    </tr>\n  </tbody>\n</table>\n</div>"
     },
     "metadata": {},
     "execution_count": 65
    }
   ],
   "source": [
    "df1"
   ]
  },
  {
   "cell_type": "code",
   "execution_count": 66,
   "metadata": {},
   "outputs": [
    {
     "output_type": "execute_result",
     "data": {
      "text/plain": "   城市    人口\n0  北京  1000\n1  上海  2000\n2  广州  1500",
      "text/html": "<div>\n<style scoped>\n    .dataframe tbody tr th:only-of-type {\n        vertical-align: middle;\n    }\n\n    .dataframe tbody tr th {\n        vertical-align: top;\n    }\n\n    .dataframe thead th {\n        text-align: right;\n    }\n</style>\n<table border=\"1\" class=\"dataframe\">\n  <thead>\n    <tr style=\"text-align: right;\">\n      <th></th>\n      <th>城市</th>\n      <th>人口</th>\n    </tr>\n  </thead>\n  <tbody>\n    <tr>\n      <th>0</th>\n      <td>北京</td>\n      <td>1000</td>\n    </tr>\n    <tr>\n      <th>1</th>\n      <td>上海</td>\n      <td>2000</td>\n    </tr>\n    <tr>\n      <th>2</th>\n      <td>广州</td>\n      <td>1500</td>\n    </tr>\n  </tbody>\n</table>\n</div>"
     },
     "metadata": {},
     "execution_count": 66
    }
   ],
   "source": [
    "df1.drop('GDP', axis=1)"
   ]
  },
  {
   "cell_type": "code",
   "execution_count": 67,
   "metadata": {},
   "outputs": [],
   "source": [
    "df1 = df1.drop('GDP', axis=1)"
   ]
  },
  {
   "cell_type": "code",
   "execution_count": 68,
   "metadata": {},
   "outputs": [
    {
     "output_type": "execute_result",
     "data": {
      "text/plain": "   城市    人口\n0  北京  1000\n1  上海  2000\n2  广州  1500",
      "text/html": "<div>\n<style scoped>\n    .dataframe tbody tr th:only-of-type {\n        vertical-align: middle;\n    }\n\n    .dataframe tbody tr th {\n        vertical-align: top;\n    }\n\n    .dataframe thead th {\n        text-align: right;\n    }\n</style>\n<table border=\"1\" class=\"dataframe\">\n  <thead>\n    <tr style=\"text-align: right;\">\n      <th></th>\n      <th>城市</th>\n      <th>人口</th>\n    </tr>\n  </thead>\n  <tbody>\n    <tr>\n      <th>0</th>\n      <td>北京</td>\n      <td>1000</td>\n    </tr>\n    <tr>\n      <th>1</th>\n      <td>上海</td>\n      <td>2000</td>\n    </tr>\n    <tr>\n      <th>2</th>\n      <td>广州</td>\n      <td>1500</td>\n    </tr>\n  </tbody>\n</table>\n</div>"
     },
     "metadata": {},
     "execution_count": 68
    }
   ],
   "source": [
    "df1"
   ]
  },
  {
   "cell_type": "code",
   "execution_count": 69,
   "metadata": {},
   "outputs": [],
   "source": [
    "gdp_map={\"北京\": 1000, \"上海\":2000, \"广州\": 1500}"
   ]
  },
  {
   "cell_type": "code",
   "execution_count": 70,
   "metadata": {},
   "outputs": [
    {
     "output_type": "execute_result",
     "data": {
      "text/plain": "{'北京': 1000, '上海': 2000, '广州': 1500}"
     },
     "metadata": {},
     "execution_count": 70
    }
   ],
   "source": [
    "gdp_map"
   ]
  },
  {
   "cell_type": "code",
   "execution_count": 71,
   "metadata": {},
   "outputs": [],
   "source": [
    "df1['GDP'] = df1['城市'].map(gdp_map)"
   ]
  },
  {
   "cell_type": "code",
   "execution_count": 72,
   "metadata": {},
   "outputs": [
    {
     "output_type": "execute_result",
     "data": {
      "text/plain": "   城市    人口   GDP\n0  北京  1000  1000\n1  上海  2000  2000\n2  广州  1500  1500",
      "text/html": "<div>\n<style scoped>\n    .dataframe tbody tr th:only-of-type {\n        vertical-align: middle;\n    }\n\n    .dataframe tbody tr th {\n        vertical-align: top;\n    }\n\n    .dataframe thead th {\n        text-align: right;\n    }\n</style>\n<table border=\"1\" class=\"dataframe\">\n  <thead>\n    <tr style=\"text-align: right;\">\n      <th></th>\n      <th>城市</th>\n      <th>人口</th>\n      <th>GDP</th>\n    </tr>\n  </thead>\n  <tbody>\n    <tr>\n      <th>0</th>\n      <td>北京</td>\n      <td>1000</td>\n      <td>1000</td>\n    </tr>\n    <tr>\n      <th>1</th>\n      <td>上海</td>\n      <td>2000</td>\n      <td>2000</td>\n    </tr>\n    <tr>\n      <th>2</th>\n      <td>广州</td>\n      <td>1500</td>\n      <td>1500</td>\n    </tr>\n  </tbody>\n</table>\n</div>"
     },
     "metadata": {},
     "execution_count": 72
    }
   ],
   "source": [
    "df1"
   ]
  },
  {
   "cell_type": "code",
   "execution_count": 73,
   "metadata": {},
   "outputs": [],
   "source": [
    "s1 = Series(range(10, 100, 10))"
   ]
  },
  {
   "cell_type": "code",
   "execution_count": 74,
   "metadata": {},
   "outputs": [
    {
     "output_type": "execute_result",
     "data": {
      "text/plain": "0    10\n1    20\n2    30\n3    40\n4    50\n5    60\n6    70\n7    80\n8    90\ndtype: int64"
     },
     "metadata": {},
     "execution_count": 74
    }
   ],
   "source": [
    "s1"
   ]
  },
  {
   "cell_type": "code",
   "execution_count": 75,
   "metadata": {},
   "outputs": [
    {
     "output_type": "execute_result",
     "data": {
      "text/plain": "0     NaN\n1    20.0\n2    30.0\n3    40.0\n4    50.0\n5    60.0\n6    70.0\n7    80.0\n8    90.0\ndtype: float64"
     },
     "metadata": {},
     "execution_count": 75
    }
   ],
   "source": [
    "s1.replace(10, np.nan)"
   ]
  },
  {
   "cell_type": "code",
   "execution_count": 76,
   "metadata": {},
   "outputs": [
    {
     "output_type": "execute_result",
     "data": {
      "text/plain": "0     NaN\n1     NaN\n2    30.0\n3    40.0\n4     NaN\n5    60.0\n6    70.0\n7    80.0\n8    90.0\ndtype: float64"
     },
     "metadata": {},
     "execution_count": 76
    }
   ],
   "source": [
    "s1.replace([10, 20, 50], np.nan)"
   ]
  },
  {
   "cell_type": "code",
   "execution_count": 77,
   "metadata": {},
   "outputs": [
    {
     "output_type": "execute_result",
     "data": {
      "text/plain": "0     1\n1     2\n2    30\n3    40\n4     5\n5    60\n6    70\n7    80\n8    90\ndtype: int64"
     },
     "metadata": {},
     "execution_count": 77
    }
   ],
   "source": [
    "s1.replace([10, 20, 50], [1, 2, 5])"
   ]
  },
  {
   "cell_type": "code",
   "execution_count": 78,
   "metadata": {},
   "outputs": [
    {
     "output_type": "execute_result",
     "data": {
      "text/plain": "0     1\n1     2\n2    30\n3    40\n4     5\n5    60\n6    70\n7    80\n8    90\ndtype: int64"
     },
     "metadata": {},
     "execution_count": 78
    }
   ],
   "source": [
    "s1.replace({10: 1, 20: 2, 50: 5})"
   ]
  },
  {
   "cell_type": "code",
   "execution_count": 79,
   "metadata": {},
   "outputs": [],
   "source": [
    "t_range = pd.date_range('2016-01-01', '2016-12-31', freq='D')"
   ]
  },
  {
   "cell_type": "code",
   "execution_count": 80,
   "metadata": {},
   "outputs": [
    {
     "output_type": "execute_result",
     "data": {
      "text/plain": "DatetimeIndex(['2016-01-01', '2016-01-02', '2016-01-03', '2016-01-04',\n               '2016-01-05', '2016-01-06', '2016-01-07', '2016-01-08',\n               '2016-01-09', '2016-01-10',\n               ...\n               '2016-12-22', '2016-12-23', '2016-12-24', '2016-12-25',\n               '2016-12-26', '2016-12-27', '2016-12-28', '2016-12-29',\n               '2016-12-30', '2016-12-31'],\n              dtype='datetime64[ns]', length=366, freq='D')"
     },
     "metadata": {},
     "execution_count": 80
    }
   ],
   "source": [
    "t_range"
   ]
  },
  {
   "cell_type": "code",
   "execution_count": 81,
   "metadata": {},
   "outputs": [],
   "source": [
    "s1 = Series(np.random.randn(len(t_range)), index=t_range)"
   ]
  },
  {
   "cell_type": "code",
   "execution_count": 82,
   "metadata": {},
   "outputs": [
    {
     "output_type": "execute_result",
     "data": {
      "text/plain": "2016-01-01   -1.099440\n2016-01-02   -1.159811\n2016-01-03   -0.064994\n2016-01-04   -0.962145\n2016-01-05   -0.014035\n                ...   \n2016-12-27   -2.168622\n2016-12-28    0.458898\n2016-12-29    0.937951\n2016-12-30    0.745726\n2016-12-31   -1.553699\nFreq: D, Length: 366, dtype: float64"
     },
     "metadata": {},
     "execution_count": 82
    }
   ],
   "source": [
    "s1"
   ]
  },
  {
   "cell_type": "code",
   "execution_count": 84,
   "metadata": {},
   "outputs": [
    {
     "output_type": "execute_result",
     "data": {
      "text/plain": "2016-01-01   -1.099440\n2016-01-02   -1.159811\n2016-01-03   -0.064994\n2016-01-04   -0.962145\n2016-01-05   -0.014035\nFreq: D, dtype: float64"
     },
     "metadata": {},
     "execution_count": 84
    }
   ],
   "source": [
    "s1.head()"
   ]
  },
  {
   "cell_type": "code",
   "execution_count": 86,
   "metadata": {},
   "outputs": [
    {
     "output_type": "execute_result",
     "data": {
      "text/plain": "-0.014200802817674236"
     },
     "metadata": {},
     "execution_count": 86
    }
   ],
   "source": [
    "s1['2016-01'].mean()"
   ]
  },
  {
   "cell_type": "code",
   "execution_count": 87,
   "metadata": {},
   "outputs": [],
   "source": [
    "s1_month = s1.resample('M').mean()"
   ]
  },
  {
   "cell_type": "code",
   "execution_count": 88,
   "metadata": {},
   "outputs": [
    {
     "output_type": "execute_result",
     "data": {
      "text/plain": "2016-01-31   -0.014201\n2016-02-29    0.260481\n2016-03-31    0.053620\n2016-04-30   -0.076609\n2016-05-31    0.058052\n2016-06-30   -0.017610\n2016-07-31   -0.388838\n2016-08-31    0.008768\n2016-09-30    0.059363\n2016-10-31   -0.211061\n2016-11-30   -0.021498\n2016-12-31    0.053162\nFreq: M, dtype: float64"
     },
     "metadata": {},
     "execution_count": 88
    }
   ],
   "source": [
    "s1_month"
   ]
  },
  {
   "cell_type": "code",
   "execution_count": 90,
   "metadata": {},
   "outputs": [
    {
     "output_type": "execute_result",
     "data": {
      "text/plain": "2016-01-01   -1.099440\n2016-01-02   -1.159811\n2016-01-03   -0.064994\n2016-01-04   -0.962145\n2016-01-05   -0.014035\n                ...   \n2016-12-27   -2.168622\n2016-12-28    0.458898\n2016-12-29    0.937951\n2016-12-30    0.745726\n2016-12-31   -1.553699\nFreq: D, Length: 366, dtype: float64"
     },
     "metadata": {},
     "execution_count": 90
    }
   ],
   "source": [
    "s1"
   ]
  },
  {
   "cell_type": "code",
   "execution_count": null,
   "metadata": {},
   "outputs": [],
   "source": []
  }
 ],
 "metadata": {
  "kernelspec": {
   "display_name": "Python 3",
   "language": "python",
   "name": "python3"
  },
  "language_info": {
   "codemirror_mode": {
    "name": "ipython",
    "version": 3
   },
   "file_extension": ".py",
   "mimetype": "text/x-python",
   "name": "python",
   "nbconvert_exporter": "python",
   "pygments_lexer": "ipython3",
   "version": "3.7.6-final"
  }
 },
 "nbformat": 4,
 "nbformat_minor": 4
}